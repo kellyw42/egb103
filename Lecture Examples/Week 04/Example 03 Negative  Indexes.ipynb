{
 "cells": [
  {
   "cell_type": "code",
   "execution_count": 1,
   "id": "72bbbbcd-3dc9-4909-ac8b-8d04d6c85e5d",
   "metadata": {},
   "outputs": [],
   "source": [
    "y = [10,20,30,40,50,60,70,80,90]"
   ]
  },
  {
   "cell_type": "code",
   "execution_count": 2,
   "id": "0a048c4b-11a3-460a-abdb-8a038046c101",
   "metadata": {},
   "outputs": [
    {
     "data": {
      "text/plain": [
       "50"
      ]
     },
     "execution_count": 2,
     "metadata": {},
     "output_type": "execute_result"
    }
   ],
   "source": [
    "y[4]"
   ]
  },
  {
   "cell_type": "code",
   "execution_count": 3,
   "id": "5d441c9a-6a91-440c-b7de-1620e5369d25",
   "metadata": {},
   "outputs": [
    {
     "data": {
      "text/plain": [
       "[50, 60, 70]"
      ]
     },
     "execution_count": 3,
     "metadata": {},
     "output_type": "execute_result"
    }
   ],
   "source": [
    "y[4:7]"
   ]
  },
  {
   "cell_type": "code",
   "execution_count": 4,
   "id": "f9b90d44-9c74-4cbf-8cf6-09280c159db5",
   "metadata": {},
   "outputs": [
    {
     "data": {
      "text/plain": [
       "20"
      ]
     },
     "execution_count": 4,
     "metadata": {},
     "output_type": "execute_result"
    }
   ],
   "source": [
    "y[1]"
   ]
  },
  {
   "cell_type": "code",
   "execution_count": 5,
   "id": "7328115a-7d29-4025-97c4-2e0eee6988b2",
   "metadata": {},
   "outputs": [
    {
     "data": {
      "text/plain": [
       "10"
      ]
     },
     "execution_count": 5,
     "metadata": {},
     "output_type": "execute_result"
    }
   ],
   "source": [
    "y[0]"
   ]
  },
  {
   "cell_type": "code",
   "execution_count": 6,
   "id": "216be4dd-4d74-4dfd-a4e6-a47c6e95c4f4",
   "metadata": {},
   "outputs": [
    {
     "data": {
      "text/plain": [
       "90"
      ]
     },
     "execution_count": 6,
     "metadata": {},
     "output_type": "execute_result"
    }
   ],
   "source": [
    "# access the last element\n",
    "y[-1]"
   ]
  },
  {
   "cell_type": "code",
   "execution_count": 7,
   "id": "e6f36a0f-ad87-4548-83e8-efa7af1dee8e",
   "metadata": {},
   "outputs": [
    {
     "data": {
      "text/plain": [
       "80"
      ]
     },
     "execution_count": 7,
     "metadata": {},
     "output_type": "execute_result"
    }
   ],
   "source": [
    "# access the second last element (count backwards from the end)\n",
    "y[-2]"
   ]
  },
  {
   "cell_type": "code",
   "execution_count": 8,
   "id": "ebc68cac-c3bd-480f-8239-00f35b6f71c2",
   "metadata": {},
   "outputs": [
    {
     "ename": "IndexError",
     "evalue": "list index out of range",
     "output_type": "error",
     "traceback": [
      "\u001b[0;31m---------------------------------------------------------------------------\u001b[0m",
      "\u001b[0;31mIndexError\u001b[0m                                Traceback (most recent call last)",
      "Input \u001b[0;32mIn [8]\u001b[0m, in \u001b[0;36m<cell line: 1>\u001b[0;34m()\u001b[0m\n\u001b[0;32m----> 1\u001b[0m \u001b[43my\u001b[49m\u001b[43m[\u001b[49m\u001b[38;5;241;43m-\u001b[39;49m\u001b[38;5;241;43m10\u001b[39;49m\u001b[43m]\u001b[49m\n",
      "\u001b[0;31mIndexError\u001b[0m: list index out of range"
     ]
    }
   ],
   "source": [
    "# accessing beyound the start of the list\n",
    "y[-10]"
   ]
  },
  {
   "cell_type": "code",
   "execution_count": 9,
   "id": "7851078e-0787-40f7-8136-62c20caa7f9c",
   "metadata": {},
   "outputs": [
    {
     "data": {
      "text/plain": [
       "[40, 50, 60]"
      ]
     },
     "execution_count": 9,
     "metadata": {},
     "output_type": "execute_result"
    }
   ],
   "source": [
    "y[3:6]"
   ]
  },
  {
   "cell_type": "code",
   "execution_count": 10,
   "id": "995af785-13f6-4f43-9399-285a0d2724a0",
   "metadata": {},
   "outputs": [
    {
     "data": {
      "text/plain": [
       "[40, 50, 60, 70]"
      ]
     },
     "execution_count": 10,
     "metadata": {},
     "output_type": "execute_result"
    }
   ],
   "source": [
    "# slicing using negative indexing\n",
    "y[3:-2]"
   ]
  },
  {
   "cell_type": "code",
   "execution_count": 12,
   "id": "aeef63b4-b0fc-408b-9fa5-47227fd2ee7a",
   "metadata": {},
   "outputs": [
    {
     "data": {
      "text/plain": [
       "[40, 50, 60, 70, 80]"
      ]
     },
     "execution_count": 12,
     "metadata": {},
     "output_type": "execute_result"
    }
   ],
   "source": [
    "y[3:-1]"
   ]
  },
  {
   "cell_type": "code",
   "execution_count": 13,
   "id": "9cb10370-f5f7-4017-9b65-e8ccbff6399e",
   "metadata": {},
   "outputs": [
    {
     "data": {
      "text/plain": [
       "[40, 50, 60, 70, 80, 90]"
      ]
     },
     "execution_count": 13,
     "metadata": {},
     "output_type": "execute_result"
    }
   ],
   "source": [
    "y[3:]"
   ]
  },
  {
   "cell_type": "code",
   "execution_count": 14,
   "id": "fd641bc6-b793-43af-9200-a6574ad111fb",
   "metadata": {},
   "outputs": [
    {
     "data": {
      "text/plain": [
       "[60, 70, 80, 90]"
      ]
     },
     "execution_count": 14,
     "metadata": {},
     "output_type": "execute_result"
    }
   ],
   "source": [
    "# starting at position 4 from the end\n",
    "y[-4:]"
   ]
  },
  {
   "cell_type": "code",
   "execution_count": 15,
   "id": "fccb5959-1651-4834-8f26-1f52d7a53b4d",
   "metadata": {},
   "outputs": [
    {
     "data": {
      "text/plain": [
       "[60, 70, 80]"
      ]
     },
     "execution_count": 15,
     "metadata": {},
     "output_type": "execute_result"
    }
   ],
   "source": [
    "# starting at position 4 from the end through to 1 from the end\n",
    "y[-4:-1]"
   ]
  },
  {
   "cell_type": "code",
   "execution_count": 16,
   "id": "5b75fc1b-e6c4-4f45-bd8b-cd4a2bf42321",
   "metadata": {},
   "outputs": [
    {
     "data": {
      "text/plain": [
       "[]"
      ]
     },
     "execution_count": 16,
     "metadata": {},
     "output_type": "execute_result"
    }
   ],
   "source": [
    "# the from starting at position 5 from the end through to 3 from the start is empty\n",
    "y[-5:3]"
   ]
  },
  {
   "cell_type": "code",
   "execution_count": 18,
   "id": "e8b1a7fd-780c-4f80-85f5-15c1bfd4abc4",
   "metadata": {},
   "outputs": [
    {
     "data": {
      "text/plain": [
       "[30, 40, 50, 60, 70, 80]"
      ]
     },
     "execution_count": 18,
     "metadata": {},
     "output_type": "execute_result"
    }
   ],
   "source": [
    "y[2:8]"
   ]
  },
  {
   "cell_type": "code",
   "execution_count": 19,
   "id": "eeb34f45-08a1-46f3-a843-ce2ed7f68f63",
   "metadata": {},
   "outputs": [
    {
     "data": {
      "text/plain": [
       "[]"
      ]
     },
     "execution_count": 19,
     "metadata": {},
     "output_type": "execute_result"
    }
   ],
   "source": [
    "y[8:2]"
   ]
  },
  {
   "cell_type": "code",
   "execution_count": 20,
   "id": "e17ecc23-ea38-4b6b-9f16-67dacda8e016",
   "metadata": {},
   "outputs": [
    {
     "data": {
      "text/plain": [
       "[30, 60]"
      ]
     },
     "execution_count": 20,
     "metadata": {},
     "output_type": "execute_result"
    }
   ],
   "source": [
    "# every third element from positions 2 through to 8\n",
    "y[2:8:3]"
   ]
  },
  {
   "cell_type": "code",
   "execution_count": 23,
   "id": "c81da37e-b011-4552-ae9a-638450a108f2",
   "metadata": {},
   "outputs": [
    {
     "data": {
      "text/plain": [
       "[30, 50, 70]"
      ]
     },
     "execution_count": 23,
     "metadata": {},
     "output_type": "execute_result"
    }
   ],
   "source": [
    "y[2:8:2]"
   ]
  },
  {
   "cell_type": "code",
   "execution_count": 21,
   "id": "9867ac25-6457-4c06-afcf-1b8df9564561",
   "metadata": {},
   "outputs": [
    {
     "data": {
      "text/plain": [
       "[30, 40, 50, 60, 70, 80]"
      ]
     },
     "execution_count": 21,
     "metadata": {},
     "output_type": "execute_result"
    }
   ],
   "source": [
    "y[2:8:1]"
   ]
  },
  {
   "cell_type": "code",
   "execution_count": 22,
   "id": "a10f169d-fd40-40b2-9a30-f17616e238f9",
   "metadata": {},
   "outputs": [
    {
     "data": {
      "text/plain": [
       "[90, 80, 70, 60, 50, 40]"
      ]
     },
     "execution_count": 22,
     "metadata": {},
     "output_type": "execute_result"
    }
   ],
   "source": [
    "# a step of -1 counts backwards from the end to the start\n",
    "y[8:2:-1]"
   ]
  },
  {
   "cell_type": "code",
   "execution_count": 24,
   "id": "c000d905-b279-4dc8-8cfa-83c993a7c98c",
   "metadata": {},
   "outputs": [
    {
     "data": {
      "text/plain": [
       "[90, 70, 50]"
      ]
     },
     "execution_count": 24,
     "metadata": {},
     "output_type": "execute_result"
    }
   ],
   "source": [
    "# a step of -2 counts backwards in steps of 2\n",
    "y[8:2:-2]"
   ]
  },
  {
   "cell_type": "code",
   "execution_count": null,
   "id": "5908a3e0-1963-4db8-9c3f-82f9100bbf43",
   "metadata": {},
   "outputs": [],
   "source": [
    "# try creating some examples of your own!"
   ]
  }
 ],
 "metadata": {
  "kernelspec": {
   "display_name": "Python 3 (ipykernel)",
   "language": "python",
   "name": "python3"
  },
  "language_info": {
   "codemirror_mode": {
    "name": "ipython",
    "version": 3
   },
   "file_extension": ".py",
   "mimetype": "text/x-python",
   "name": "python",
   "nbconvert_exporter": "python",
   "pygments_lexer": "ipython3",
   "version": "3.9.13"
  }
 },
 "nbformat": 4,
 "nbformat_minor": 5
}
