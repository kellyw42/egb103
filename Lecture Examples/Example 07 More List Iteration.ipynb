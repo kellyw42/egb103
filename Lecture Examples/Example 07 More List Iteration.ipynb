{
 "cells": [
  {
   "cell_type": "code",
   "execution_count": 1,
   "id": "dcc9167c-bf4c-4654-a401-23906343821d",
   "metadata": {},
   "outputs": [],
   "source": [
    "x = [3,45,3,675,-45,6,56]"
   ]
  },
  {
   "cell_type": "code",
   "execution_count": 2,
   "id": "e07f45ba-7668-4549-afa9-89c760e2da1a",
   "metadata": {},
   "outputs": [],
   "source": [
    "def list_sum(list) :\n",
    "    total = 0\n",
    "    for element in list :\n",
    "        total += element\n",
    "    return total"
   ]
  },
  {
   "cell_type": "code",
   "execution_count": 3,
   "id": "bce52177-2e8c-428d-84f3-cbd10ab81584",
   "metadata": {},
   "outputs": [
    {
     "data": {
      "text/plain": [
       "675"
      ]
     },
     "execution_count": 3,
     "metadata": {},
     "output_type": "execute_result"
    }
   ],
   "source": [
    "# built-in max function\n",
    "max(x)"
   ]
  },
  {
   "cell_type": "code",
   "execution_count": 4,
   "id": "1688feab-c755-4df6-8104-659ef7df1c06",
   "metadata": {},
   "outputs": [
    {
     "data": {
      "text/plain": [
       "-45"
      ]
     },
     "execution_count": 4,
     "metadata": {},
     "output_type": "execute_result"
    }
   ],
   "source": [
    "# built-in min function\n",
    "min(x)"
   ]
  },
  {
   "cell_type": "code",
   "execution_count": 7,
   "id": "2c149898-ee32-4d9e-912c-bb34e214490b",
   "metadata": {},
   "outputs": [],
   "source": [
    "# building our own min function\n",
    "def list_min(list) :\n",
    "    min_so_far = list[0]\n",
    "    for element in list :\n",
    "        if element <  min_so_far :\n",
    "            min_so_far = element\n",
    "    return min_so_far"
   ]
  },
  {
   "cell_type": "code",
   "execution_count": 8,
   "id": "4eeb7835-d938-4f94-bcd7-ce226b81e7d8",
   "metadata": {},
   "outputs": [
    {
     "data": {
      "text/plain": [
       "-45"
      ]
     },
     "execution_count": 8,
     "metadata": {},
     "output_type": "execute_result"
    }
   ],
   "source": [
    "list_min(x)"
   ]
  }
 ],
 "metadata": {
  "kernelspec": {
   "display_name": "Python 3 (ipykernel)",
   "language": "python",
   "name": "python3"
  },
  "language_info": {
   "codemirror_mode": {
    "name": "ipython",
    "version": 3
   },
   "file_extension": ".py",
   "mimetype": "text/x-python",
   "name": "python",
   "nbconvert_exporter": "python",
   "pygments_lexer": "ipython3",
   "version": "3.9.13"
  }
 },
 "nbformat": 4,
 "nbformat_minor": 5
}
