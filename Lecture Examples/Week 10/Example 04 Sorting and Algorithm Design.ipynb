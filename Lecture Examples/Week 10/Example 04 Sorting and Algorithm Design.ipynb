{
 "cells": [
  {
   "cell_type": "code",
   "execution_count": 4,
   "id": "d7dea54f-259b-4bc9-bc85-aeaf70b60654",
   "metadata": {},
   "outputs": [
    {
     "data": {
      "text/plain": [
       "[1, 2, 3, 4, 6, 7, 8]"
      ]
     },
     "execution_count": 4,
     "metadata": {},
     "output_type": "execute_result"
    }
   ],
   "source": [
    "a = [3, 7, 8, 2, 6, 1, 4]\n",
    "a.sort()\n",
    "a"
   ]
  },
  {
   "cell_type": "code",
   "execution_count": 9,
   "id": "a56748b9-6496-41fb-98aa-abe1724cbdaa",
   "metadata": {},
   "outputs": [
    {
     "name": "stdout",
     "output_type": "stream",
     "text": [
      "[3, 7, 8, 2, 6, 1, 4]\n",
      "[1, 2, 3, 4, 6, 7, 8]\n"
     ]
    }
   ],
   "source": [
    "a = [3, 7, 8, 2, 6, 1, 4]\n",
    "b = sorted(a)\n",
    "print(a)\n",
    "print(b)"
   ]
  },
  {
   "cell_type": "code",
   "execution_count": 10,
   "id": "be1eb8ac-0ce9-4ed4-8b02-7cd8e38d4162",
   "metadata": {},
   "outputs": [],
   "source": [
    "# try implementing selection sort yourself ..."
   ]
  },
  {
   "cell_type": "code",
   "execution_count": 11,
   "id": "9d9d8480-d6be-4ff2-b696-450bdf9cf4f5",
   "metadata": {},
   "outputs": [],
   "source": [
    "# try implementing insertion sort yourself ..."
   ]
  },
  {
   "cell_type": "code",
   "execution_count": null,
   "id": "88ccb468-888f-4527-bb50-f55b908f7cca",
   "metadata": {},
   "outputs": [],
   "source": [
    "# try implementing bubble sort yourself ..."
   ]
  },
  {
   "cell_type": "code",
   "execution_count": null,
   "id": "dc7fecaa-e8cd-4d9c-8b2d-240681e5e236",
   "metadata": {},
   "outputs": [],
   "source": [
    "# try implementing quick sort yourself ..."
   ]
  }
 ],
 "metadata": {
  "kernelspec": {
   "display_name": "Python 3 (ipykernel)",
   "language": "python",
   "name": "python3"
  },
  "language_info": {
   "codemirror_mode": {
    "name": "ipython",
    "version": 3
   },
   "file_extension": ".py",
   "mimetype": "text/x-python",
   "name": "python",
   "nbconvert_exporter": "python",
   "pygments_lexer": "ipython3",
   "version": "3.9.13"
  }
 },
 "nbformat": 4,
 "nbformat_minor": 5
}
