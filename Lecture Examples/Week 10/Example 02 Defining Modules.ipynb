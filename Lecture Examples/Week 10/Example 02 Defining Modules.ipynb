{
 "cells": [
  {
   "cell_type": "code",
   "execution_count": 1,
   "id": "2c8da698-c98b-4a6b-9909-7a76632265d7",
   "metadata": {},
   "outputs": [
    {
     "data": {
      "text/plain": [
       "2.0"
      ]
     },
     "execution_count": 1,
     "metadata": {},
     "output_type": "execute_result"
    }
   ],
   "source": [
    "import math\n",
    "\n",
    "math.sqrt(4)"
   ]
  },
  {
   "cell_type": "code",
   "execution_count": 4,
   "id": "f897929b-b82b-44a2-83f6-00a82b3bc8ef",
   "metadata": {},
   "outputs": [
    {
     "data": {
      "text/plain": [
       "['__builtins__',\n",
       " '__cached__',\n",
       " '__doc__',\n",
       " '__file__',\n",
       " '__loader__',\n",
       " '__name__',\n",
       " '__package__',\n",
       " '__spec__',\n",
       " 'say_hi']"
      ]
     },
     "execution_count": 4,
     "metadata": {},
     "output_type": "execute_result"
    }
   ],
   "source": [
    "import hello  # loads file hello.py\n",
    "\n",
    "dir(hello)"
   ]
  },
  {
   "cell_type": "code",
   "execution_count": 5,
   "id": "a87fd767-eddd-4a14-863e-d1c327d5eacd",
   "metadata": {},
   "outputs": [
    {
     "name": "stdout",
     "output_type": "stream",
     "text": [
      "Help on module hello:\n",
      "\n",
      "NAME\n",
      "    hello\n",
      "\n",
      "FUNCTIONS\n",
      "    say_hi()\n",
      "\n",
      "FILE\n",
      "    /home/kellyw/egb103/egb103/Lecture Examples/Week 10/hello.py\n",
      "\n",
      "\n"
     ]
    }
   ],
   "source": [
    "help(hello)"
   ]
  },
  {
   "cell_type": "code",
   "execution_count": 6,
   "id": "fc9ec31e-6114-43d2-81db-679812945152",
   "metadata": {},
   "outputs": [
    {
     "name": "stdout",
     "output_type": "stream",
     "text": [
      "Hello, World!\n"
     ]
    }
   ],
   "source": [
    "hello.say_hi()"
   ]
  },
  {
   "cell_type": "code",
   "execution_count": null,
   "id": "046c50ff-99ae-442e-847f-9530fc03f901",
   "metadata": {},
   "outputs": [],
   "source": []
  }
 ],
 "metadata": {
  "kernelspec": {
   "display_name": "Python 3 (ipykernel)",
   "language": "python",
   "name": "python3"
  },
  "language_info": {
   "codemirror_mode": {
    "name": "ipython",
    "version": 3
   },
   "file_extension": ".py",
   "mimetype": "text/x-python",
   "name": "python",
   "nbconvert_exporter": "python",
   "pygments_lexer": "ipython3",
   "version": "3.9.13"
  }
 },
 "nbformat": 4,
 "nbformat_minor": 5
}
