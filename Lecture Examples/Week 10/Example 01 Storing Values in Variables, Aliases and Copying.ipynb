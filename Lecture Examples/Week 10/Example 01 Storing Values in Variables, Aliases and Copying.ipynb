{
 "cells": [
  {
   "cell_type": "markdown",
   "id": "74284d53-4fcc-4e10-a3a8-698e79092a0b",
   "metadata": {},
   "source": [
    "## See video for explanation of the following examples"
   ]
  },
  {
   "cell_type": "code",
   "execution_count": 1,
   "id": "f2d2d2c9-38eb-499e-99d5-6795f1051a27",
   "metadata": {},
   "outputs": [
    {
     "name": "stdout",
     "output_type": "stream",
     "text": [
      "4\n"
     ]
    }
   ],
   "source": [
    "x = [1,2,3]\n",
    "y = [1,2,3]\n",
    "z = x\n",
    "x[2] = 4\n",
    "print(z[2])"
   ]
  },
  {
   "cell_type": "code",
   "execution_count": 2,
   "id": "9bb84482-506f-4a42-8ad1-e443a3dfffda",
   "metadata": {},
   "outputs": [
    {
     "data": {
      "text/plain": [
       "[1, 2, 4]"
      ]
     },
     "execution_count": 2,
     "metadata": {},
     "output_type": "execute_result"
    }
   ],
   "source": [
    "x"
   ]
  },
  {
   "cell_type": "code",
   "execution_count": 3,
   "id": "3989e592-2848-4232-989d-0c16ef6489e8",
   "metadata": {},
   "outputs": [
    {
     "data": {
      "text/plain": [
       "[1, 2, 3]"
      ]
     },
     "execution_count": 3,
     "metadata": {},
     "output_type": "execute_result"
    }
   ],
   "source": [
    "y"
   ]
  },
  {
   "cell_type": "code",
   "execution_count": 4,
   "id": "3658db6c-ac4c-458b-ba33-37a2077af90c",
   "metadata": {},
   "outputs": [
    {
     "data": {
      "text/plain": [
       "[1, 2, 4]"
      ]
     },
     "execution_count": 4,
     "metadata": {},
     "output_type": "execute_result"
    }
   ],
   "source": [
    "z"
   ]
  },
  {
   "cell_type": "code",
   "execution_count": 8,
   "id": "4fdf4f94-03b0-4be4-9f48-162476f4110a",
   "metadata": {},
   "outputs": [],
   "source": [
    "def foo(x, y, z) :\n",
    "    x = 4\n",
    "    y = 7\n",
    "    z[1] = 5"
   ]
  },
  {
   "cell_type": "code",
   "execution_count": 10,
   "id": "2283c423-cf59-43d1-831b-ec3e79e514ef",
   "metadata": {},
   "outputs": [
    {
     "name": "stdout",
     "output_type": "stream",
     "text": [
      "1 [3, 4] [5, 5]\n"
     ]
    }
   ],
   "source": [
    "a = 1\n",
    "b = [3,4]\n",
    "c =[5,6]\n",
    "foo(a, b, c)\n",
    "print(a, b, c)"
   ]
  },
  {
   "cell_type": "code",
   "execution_count": 11,
   "id": "3702ad4b-c88d-47b5-8223-5098c970fb6d",
   "metadata": {},
   "outputs": [],
   "source": [
    "a = [1,2,3]\n",
    "b = a        # alias\n",
    "c = a.copy() # shallow copy\n",
    "d = a[:]     # same as copy\n",
    "\n",
    "from copy import deepcopy\n",
    "e = deepcopy(a)"
   ]
  },
  {
   "cell_type": "code",
   "execution_count": null,
   "id": "5eee4b37-59ea-46d8-bf6c-d68e8cca0929",
   "metadata": {},
   "outputs": [],
   "source": [
    "# trying creating some examples of your own to explore this topic more deeply ..."
   ]
  }
 ],
 "metadata": {
  "kernelspec": {
   "display_name": "Python 3 (ipykernel)",
   "language": "python",
   "name": "python3"
  },
  "language_info": {
   "codemirror_mode": {
    "name": "ipython",
    "version": 3
   },
   "file_extension": ".py",
   "mimetype": "text/x-python",
   "name": "python",
   "nbconvert_exporter": "python",
   "pygments_lexer": "ipython3",
   "version": "3.9.13"
  }
 },
 "nbformat": 4,
 "nbformat_minor": 5
}
