{
 "cells": [
  {
   "cell_type": "code",
   "execution_count": 1,
   "id": "2b548799-8d44-45b9-9c1d-94e5c1056b24",
   "metadata": {},
   "outputs": [],
   "source": [
    "a = \"fred\"\n",
    "b = \"jill\"\n",
    "x = [1,2,3]\n",
    "y = [4,5,6]"
   ]
  },
  {
   "cell_type": "code",
   "execution_count": 2,
   "id": "0f4801b0-8b24-467a-a288-013660e79dc9",
   "metadata": {},
   "outputs": [
    {
     "data": {
      "text/plain": [
       "3"
      ]
     },
     "execution_count": 2,
     "metadata": {},
     "output_type": "execute_result"
    }
   ],
   "source": [
    "# length is a example of a function\n",
    "len(x)"
   ]
  },
  {
   "cell_type": "code",
   "execution_count": 3,
   "id": "1d6f6c65-bb3e-49f5-beb5-bd25ba46b2a7",
   "metadata": {},
   "outputs": [
    {
     "data": {
      "text/plain": [
       "1"
      ]
     },
     "execution_count": 3,
     "metadata": {},
     "output_type": "execute_result"
    }
   ],
   "source": [
    "# min is also an example of a function\n",
    "min(x)"
   ]
  },
  {
   "cell_type": "code",
   "execution_count": 4,
   "id": "9b245764-3fab-4748-952b-8f5d2bc4447b",
   "metadata": {},
   "outputs": [],
   "source": [
    "# remove in this example, is not a function, but a method.\n",
    "# a method is very similar to a function, but it operates on a specific object, in this case it operates on the list x\n",
    "x.remove(2)"
   ]
  },
  {
   "cell_type": "code",
   "execution_count": 5,
   "id": "0c94e03d-6494-4c39-8536-75f01bbc5394",
   "metadata": {},
   "outputs": [
    {
     "data": {
      "text/plain": [
       "[1, 3]"
      ]
     },
     "execution_count": 5,
     "metadata": {},
     "output_type": "execute_result"
    }
   ],
   "source": [
    "# we can see that the value 2 has been removed from the list x\n",
    "x"
   ]
  },
  {
   "cell_type": "code",
   "execution_count": 6,
   "id": "744494fb-995c-436a-83f0-fa6749d21e9f",
   "metadata": {},
   "outputs": [
    {
     "data": {
      "text/plain": [
       "'Fred'"
      ]
     },
     "execution_count": 6,
     "metadata": {},
     "output_type": "execute_result"
    }
   ],
   "source": [
    "# replace is another example of a method, in this case operating on a string object named a\n",
    "a.replace('f', 'F')"
   ]
  },
  {
   "cell_type": "code",
   "execution_count": 7,
   "id": "493c3fff-e7ee-4fb4-9502-fb1fd7ce994c",
   "metadata": {},
   "outputs": [
    {
     "data": {
      "text/plain": [
       "'jill'"
      ]
     },
     "execution_count": 7,
     "metadata": {},
     "output_type": "execute_result"
    }
   ],
   "source": [
    "# we can perform the same replace operation, but on a different object\n",
    "b.replace('f', 'F')"
   ]
  },
  {
   "cell_type": "code",
   "execution_count": 8,
   "id": "a14684f2-5c56-4799-b8c7-485ed1d52945",
   "metadata": {},
   "outputs": [
    {
     "data": {
      "text/plain": [
       "list"
      ]
     },
     "execution_count": 8,
     "metadata": {},
     "output_type": "execute_result"
    }
   ],
   "source": [
    "# note the type of x in this example is type list.\n",
    "type(x)"
   ]
  },
  {
   "cell_type": "code",
   "execution_count": 9,
   "id": "fd50a431-1d62-4ff5-ad79-3d5bdd96272c",
   "metadata": {},
   "outputs": [],
   "source": [
    "# instead of calling x.remove(1), we can alternatively use the name of the type as the object and pass the list explicitly as the first parameter\n",
    "list.remove(x, 1)"
   ]
  },
  {
   "cell_type": "code",
   "execution_count": 10,
   "id": "a8d612a9-cb4b-41c1-816f-b3f39e77cd6b",
   "metadata": {},
   "outputs": [
    {
     "data": {
      "text/plain": [
       "[3]"
      ]
     },
     "execution_count": 10,
     "metadata": {},
     "output_type": "execute_result"
    }
   ],
   "source": [
    "# we can see that element 1 has been removed from the list x\n",
    "x"
   ]
  },
  {
   "cell_type": "code",
   "execution_count": 12,
   "id": "12598e97-060a-4fbb-acc5-00dc9fcfc42b",
   "metadata": {},
   "outputs": [],
   "source": [
    "# We can also create our own methods, but they need to defined inside a class.\n",
    "# Here our class is named Counter. It has an attribute names count, which initially has the value 0 and two methods named increment and display\n",
    "# By convention the name of the first (implicit) parameter of a method is \"self\". There can be as many additional parameters as you like (e.g. inc in the following example)\n",
    "class Counter :\n",
    "    count = 0\n",
    "    \n",
    "    def increment(self, inc=1) :\n",
    "        self.count += inc\n",
    "        \n",
    "    def display(self) :\n",
    "        print(self.count)"
   ]
  },
  {
   "cell_type": "code",
   "execution_count": 13,
   "id": "044812b9-9d4c-48a5-bca8-e68754033689",
   "metadata": {},
   "outputs": [],
   "source": [
    "# here we create a new object of type Counter and assign it to variable counterA\n",
    "counterA = Counter()"
   ]
  },
  {
   "cell_type": "code",
   "execution_count": 14,
   "id": "5f107342-3578-4fb7-a5d5-30d4b03d5dca",
   "metadata": {},
   "outputs": [],
   "source": [
    "# we can then invoke the increment method on our object counterA\n",
    "counterA.increment()"
   ]
  },
  {
   "cell_type": "code",
   "execution_count": 16,
   "id": "d3013d0a-8375-4d04-8d35-dfa68b186b22",
   "metadata": {},
   "outputs": [],
   "source": [
    "# calling increment again, will increase the count attribute of this object to 2\n",
    "counterA.increment()"
   ]
  },
  {
   "cell_type": "code",
   "execution_count": 18,
   "id": "497a384e-cd0f-42ad-bb0b-601a8b240fa8",
   "metadata": {},
   "outputs": [
    {
     "name": "stdout",
     "output_type": "stream",
     "text": [
      "2\n"
     ]
    }
   ],
   "source": [
    "# invoking the display method prints the current value of the count attribute of that object\n",
    "counterA.display()"
   ]
  },
  {
   "cell_type": "code",
   "execution_count": 19,
   "id": "c6dc3a08-0301-48e3-9ad5-edca0a0a605f",
   "metadata": {},
   "outputs": [],
   "source": [
    "# here we create a second object, also of type Counter and assign it to variable counterB\n",
    "counterB = Counter()"
   ]
  },
  {
   "cell_type": "code",
   "execution_count": 20,
   "id": "655ab759-d340-4ef8-9287-d71ee75d18c6",
   "metadata": {},
   "outputs": [
    {
     "name": "stdout",
     "output_type": "stream",
     "text": [
      "0\n"
     ]
    }
   ],
   "source": [
    "# note that each object of type Counter has its own count attribute. The count attribute of counterA is 2, but the count attribute of counterB is still 0\n",
    "counterB.display()"
   ]
  },
  {
   "cell_type": "code",
   "execution_count": 21,
   "id": "eda6512c-844f-404e-9269-93a14263738a",
   "metadata": {},
   "outputs": [],
   "source": [
    "# if we invoke the increment method on counterB, then the count attribute of counterB will be increased to 1\n",
    "counterB.increment()"
   ]
  },
  {
   "cell_type": "code",
   "execution_count": 23,
   "id": "64c6ccb8-8656-48a4-9172-e507ba704d4f",
   "metadata": {},
   "outputs": [
    {
     "name": "stdout",
     "output_type": "stream",
     "text": [
      "1\n"
     ]
    }
   ],
   "source": [
    "counterB.display()"
   ]
  },
  {
   "cell_type": "code",
   "execution_count": null,
   "id": "303d5a0d-dbce-440b-885e-9d93df493f01",
   "metadata": {},
   "outputs": [],
   "source": [
    "# Try creating your own object-oriented code examples ..."
   ]
  }
 ],
 "metadata": {
  "kernelspec": {
   "display_name": "Python 3 (ipykernel)",
   "language": "python",
   "name": "python3"
  },
  "language_info": {
   "codemirror_mode": {
    "name": "ipython",
    "version": 3
   },
   "file_extension": ".py",
   "mimetype": "text/x-python",
   "name": "python",
   "nbconvert_exporter": "python",
   "pygments_lexer": "ipython3",
   "version": "3.9.13"
  }
 },
 "nbformat": 4,
 "nbformat_minor": 5
}
