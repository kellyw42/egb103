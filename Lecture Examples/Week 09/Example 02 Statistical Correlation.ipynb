{
 "cells": [
  {
   "cell_type": "code",
   "execution_count": 1,
   "id": "4ccd33e0-fe1d-47b1-8af7-fe1bcbcf532d",
   "metadata": {},
   "outputs": [],
   "source": [
    "import  pandas"
   ]
  },
  {
   "cell_type": "code",
   "execution_count": 2,
   "id": "60a9d691-5818-415d-a816-13b131179f6e",
   "metadata": {},
   "outputs": [],
   "source": [
    "# Load some cycling data from Strava as as example\n",
    "rides = pandas.read_csv('Strava2021.csv', parse_dates=['start_time'])\n",
    "rides['avg_speed'] = rides.distance / rides.moving_time\n",
    "rides['start_date'] = rides.start_time.dt.normalize()"
   ]
  },
  {
   "cell_type": "code",
   "execution_count": 3,
   "id": "3f4a815b-ad9d-4c44-aa61-364f5af8f8de",
   "metadata": {},
   "outputs": [],
   "source": [
    "# We want to study the ride data in relation to the weather on that day, so we load a separate data set from the Bureau of Meteorology\n",
    "bom = pandas.read_csv('BrisbaneDailyWeather.csv')\n",
    "bom.index = pandas.to_datetime(bom[['year','month','day']])\n",
    "bom = bom[['MinTemp', 'MaxTemp', 'Rainfall']]"
   ]
  },
  {
   "cell_type": "code",
   "execution_count": 4,
   "id": "033df442-8792-4fa8-9be3-9d492e2c87a4",
   "metadata": {},
   "outputs": [
    {
     "data": {
      "text/html": [
       "<div>\n",
       "<style scoped>\n",
       "    .dataframe tbody tr th:only-of-type {\n",
       "        vertical-align: middle;\n",
       "    }\n",
       "\n",
       "    .dataframe tbody tr th {\n",
       "        vertical-align: top;\n",
       "    }\n",
       "\n",
       "    .dataframe thead th {\n",
       "        text-align: right;\n",
       "    }\n",
       "</style>\n",
       "<table border=\"1\" class=\"dataframe\">\n",
       "  <thead>\n",
       "    <tr style=\"text-align: right;\">\n",
       "      <th></th>\n",
       "      <th>start_time</th>\n",
       "      <th>name</th>\n",
       "      <th>distance</th>\n",
       "      <th>moving_time</th>\n",
       "      <th>elevation</th>\n",
       "      <th>average_watts</th>\n",
       "      <th>max_speed</th>\n",
       "      <th>avg_speed</th>\n",
       "      <th>start_date</th>\n",
       "      <th>MinTemp</th>\n",
       "      <th>MaxTemp</th>\n",
       "      <th>Rainfall</th>\n",
       "    </tr>\n",
       "  </thead>\n",
       "  <tbody>\n",
       "    <tr>\n",
       "      <th>0</th>\n",
       "      <td>2021-02-01 19:35:00</td>\n",
       "      <td>Pedalheads 100 special</td>\n",
       "      <td>102.0</td>\n",
       "      <td>3.18</td>\n",
       "      <td>441.0</td>\n",
       "      <td>188.0</td>\n",
       "      <td>54.3</td>\n",
       "      <td>32.075472</td>\n",
       "      <td>2021-02-01</td>\n",
       "      <td>22.5</td>\n",
       "      <td>29.7</td>\n",
       "      <td>1.4</td>\n",
       "    </tr>\n",
       "    <tr>\n",
       "      <th>1</th>\n",
       "      <td>2021-04-01 19:10:00</td>\n",
       "      <td>Return to Hack's Samford Gentleman's ride</td>\n",
       "      <td>46.9</td>\n",
       "      <td>1.66</td>\n",
       "      <td>733.6</td>\n",
       "      <td>193.0</td>\n",
       "      <td>66.9</td>\n",
       "      <td>28.253012</td>\n",
       "      <td>2021-04-01</td>\n",
       "      <td>18.0</td>\n",
       "      <td>26.2</td>\n",
       "      <td>0.0</td>\n",
       "    </tr>\n",
       "    <tr>\n",
       "      <th>2</th>\n",
       "      <td>2021-05-01 19:30:00</td>\n",
       "      <td>Morning Ride</td>\n",
       "      <td>34.5</td>\n",
       "      <td>1.09</td>\n",
       "      <td>136.0</td>\n",
       "      <td>184.0</td>\n",
       "      <td>51.8</td>\n",
       "      <td>31.651376</td>\n",
       "      <td>2021-05-01</td>\n",
       "      <td>16.7</td>\n",
       "      <td>22.3</td>\n",
       "      <td>6.2</td>\n",
       "    </tr>\n",
       "    <tr>\n",
       "      <th>3</th>\n",
       "      <td>2021-07-01 19:21:00</td>\n",
       "      <td>Morning Ride</td>\n",
       "      <td>33.8</td>\n",
       "      <td>0.98</td>\n",
       "      <td>121.0</td>\n",
       "      <td>226.0</td>\n",
       "      <td>55.0</td>\n",
       "      <td>34.489796</td>\n",
       "      <td>2021-07-01</td>\n",
       "      <td>11.9</td>\n",
       "      <td>20.5</td>\n",
       "      <td>7.0</td>\n",
       "    </tr>\n",
       "    <tr>\n",
       "      <th>4</th>\n",
       "      <td>2021-11-01 19:11:00</td>\n",
       "      <td>Morning Ride</td>\n",
       "      <td>49.3</td>\n",
       "      <td>1.76</td>\n",
       "      <td>718.0</td>\n",
       "      <td>184.0</td>\n",
       "      <td>68.7</td>\n",
       "      <td>28.011364</td>\n",
       "      <td>2021-11-01</td>\n",
       "      <td>16.0</td>\n",
       "      <td>24.1</td>\n",
       "      <td>0.0</td>\n",
       "    </tr>\n",
       "    <tr>\n",
       "      <th>...</th>\n",
       "      <td>...</td>\n",
       "      <td>...</td>\n",
       "      <td>...</td>\n",
       "      <td>...</td>\n",
       "      <td>...</td>\n",
       "      <td>...</td>\n",
       "      <td>...</td>\n",
       "      <td>...</td>\n",
       "      <td>...</td>\n",
       "      <td>...</td>\n",
       "      <td>...</td>\n",
       "      <td>...</td>\n",
       "    </tr>\n",
       "    <tr>\n",
       "      <th>205</th>\n",
       "      <td>2021-12-26 22:30:00</td>\n",
       "      <td>Zwift - Dutch Diesel Cycling Starter Ride (C)</td>\n",
       "      <td>60.3</td>\n",
       "      <td>1.52</td>\n",
       "      <td>89.0</td>\n",
       "      <td>177.0</td>\n",
       "      <td>46.1</td>\n",
       "      <td>39.671053</td>\n",
       "      <td>2021-12-26</td>\n",
       "      <td>20.8</td>\n",
       "      <td>28.4</td>\n",
       "      <td>7.6</td>\n",
       "    </tr>\n",
       "    <tr>\n",
       "      <th>206</th>\n",
       "      <td>2021-12-27 01:30:00</td>\n",
       "      <td>Zwift - OTR Tempo Group Ride</td>\n",
       "      <td>30.1</td>\n",
       "      <td>0.88</td>\n",
       "      <td>341.0</td>\n",
       "      <td>203.0</td>\n",
       "      <td>66.1</td>\n",
       "      <td>34.204545</td>\n",
       "      <td>2021-12-27</td>\n",
       "      <td>21.3</td>\n",
       "      <td>28.9</td>\n",
       "      <td>0.0</td>\n",
       "    </tr>\n",
       "    <tr>\n",
       "      <th>207</th>\n",
       "      <td>2021-12-27 19:00:00</td>\n",
       "      <td>Zwift - Rapha Festive 500 Group Ride Led By Et...</td>\n",
       "      <td>60.1</td>\n",
       "      <td>1.61</td>\n",
       "      <td>323.0</td>\n",
       "      <td>185.0</td>\n",
       "      <td>77.0</td>\n",
       "      <td>37.329193</td>\n",
       "      <td>2021-12-27</td>\n",
       "      <td>21.3</td>\n",
       "      <td>28.9</td>\n",
       "      <td>0.0</td>\n",
       "    </tr>\n",
       "    <tr>\n",
       "      <th>208</th>\n",
       "      <td>2021-12-28 19:00:00</td>\n",
       "      <td>Morning Ride</td>\n",
       "      <td>86.9</td>\n",
       "      <td>2.96</td>\n",
       "      <td>472.0</td>\n",
       "      <td>158.0</td>\n",
       "      <td>58.3</td>\n",
       "      <td>29.358108</td>\n",
       "      <td>2021-12-28</td>\n",
       "      <td>19.6</td>\n",
       "      <td>25.7</td>\n",
       "      <td>14.6</td>\n",
       "    </tr>\n",
       "    <tr>\n",
       "      <th>209</th>\n",
       "      <td>2021-12-30 19:30:00</td>\n",
       "      <td>Hacks NYE</td>\n",
       "      <td>63.1</td>\n",
       "      <td>2.17</td>\n",
       "      <td>456.0</td>\n",
       "      <td>157.0</td>\n",
       "      <td>69.7</td>\n",
       "      <td>29.078341</td>\n",
       "      <td>2021-12-30</td>\n",
       "      <td>17.8</td>\n",
       "      <td>27.7</td>\n",
       "      <td>0.0</td>\n",
       "    </tr>\n",
       "  </tbody>\n",
       "</table>\n",
       "<p>210 rows × 12 columns</p>\n",
       "</div>"
      ],
      "text/plain": [
       "             start_time                                               name  \\\n",
       "0   2021-02-01 19:35:00                             Pedalheads 100 special   \n",
       "1   2021-04-01 19:10:00          Return to Hack's Samford Gentleman's ride   \n",
       "2   2021-05-01 19:30:00                                       Morning Ride   \n",
       "3   2021-07-01 19:21:00                                       Morning Ride   \n",
       "4   2021-11-01 19:11:00                                       Morning Ride   \n",
       "..                  ...                                                ...   \n",
       "205 2021-12-26 22:30:00      Zwift - Dutch Diesel Cycling Starter Ride (C)   \n",
       "206 2021-12-27 01:30:00                       Zwift - OTR Tempo Group Ride   \n",
       "207 2021-12-27 19:00:00  Zwift - Rapha Festive 500 Group Ride Led By Et...   \n",
       "208 2021-12-28 19:00:00                                       Morning Ride   \n",
       "209 2021-12-30 19:30:00                                          Hacks NYE   \n",
       "\n",
       "     distance  moving_time  elevation  average_watts  max_speed  avg_speed  \\\n",
       "0       102.0         3.18      441.0          188.0       54.3  32.075472   \n",
       "1        46.9         1.66      733.6          193.0       66.9  28.253012   \n",
       "2        34.5         1.09      136.0          184.0       51.8  31.651376   \n",
       "3        33.8         0.98      121.0          226.0       55.0  34.489796   \n",
       "4        49.3         1.76      718.0          184.0       68.7  28.011364   \n",
       "..        ...          ...        ...            ...        ...        ...   \n",
       "205      60.3         1.52       89.0          177.0       46.1  39.671053   \n",
       "206      30.1         0.88      341.0          203.0       66.1  34.204545   \n",
       "207      60.1         1.61      323.0          185.0       77.0  37.329193   \n",
       "208      86.9         2.96      472.0          158.0       58.3  29.358108   \n",
       "209      63.1         2.17      456.0          157.0       69.7  29.078341   \n",
       "\n",
       "    start_date  MinTemp  MaxTemp  Rainfall  \n",
       "0   2021-02-01     22.5     29.7       1.4  \n",
       "1   2021-04-01     18.0     26.2       0.0  \n",
       "2   2021-05-01     16.7     22.3       6.2  \n",
       "3   2021-07-01     11.9     20.5       7.0  \n",
       "4   2021-11-01     16.0     24.1       0.0  \n",
       "..         ...      ...      ...       ...  \n",
       "205 2021-12-26     20.8     28.4       7.6  \n",
       "206 2021-12-27     21.3     28.9       0.0  \n",
       "207 2021-12-27     21.3     28.9       0.0  \n",
       "208 2021-12-28     19.6     25.7      14.6  \n",
       "209 2021-12-30     17.8     27.7       0.0  \n",
       "\n",
       "[210 rows x 12 columns]"
      ]
     },
     "execution_count": 4,
     "metadata": {},
     "output_type": "execute_result"
    }
   ],
   "source": [
    "# Combining the those two data sets as previously ...\n",
    "combined = rides.join(bom, on = 'start_date')\n",
    "combined"
   ]
  },
  {
   "cell_type": "code",
   "execution_count": 5,
   "id": "6ad47e1a-033a-4d33-94ad-85bfafe5b0dd",
   "metadata": {},
   "outputs": [],
   "source": [
    "# We now wish to look for patterns in this combined data ..."
   ]
  },
  {
   "cell_type": "code",
   "execution_count": 6,
   "id": "30311e29-e794-40b7-8344-649e0fa03566",
   "metadata": {},
   "outputs": [
    {
     "data": {
      "text/plain": [
       "<AxesSubplot:xlabel='avg_speed', ylabel='MaxTemp'>"
      ]
     },
     "execution_count": 6,
     "metadata": {},
     "output_type": "execute_result"
    },
    {
     "data": {
      "image/png": "[encoded data removed]",
      "text/plain": [
       "<Figure size 640x480 with 1 Axes>"
      ]
     },
     "metadata": {},
     "output_type": "display_data"
    }
   ],
   "source": [
    "# We start by looking for a pattern or relationship between avg_speed and MaxTemp\n",
    "# In this case we use a scatter plot to visually look for a pattern or relationship\n",
    "combined.plot.scatter(x = 'avg_speed', y = 'MaxTemp')\n",
    "\n",
    "# Looking at the resulting plot, we don't see any clear relationship between these two variables."
   ]
  },
  {
   "cell_type": "code",
   "execution_count": 7,
   "id": "258ff16b-6601-480d-8434-015fbd0d079d",
   "metadata": {},
   "outputs": [
    {
     "data": {
      "text/plain": [
       "<AxesSubplot:xlabel='MinTemp', ylabel='MaxTemp'>"
      ]
     },
     "execution_count": 7,
     "metadata": {},
     "output_type": "execute_result"
    },
    {
     "data": {
      "image/png": "[encoded data removed]",
      "text/plain": [
       "<Figure size 640x480 with 1 Axes>"
      ]
     },
     "metadata": {},
     "output_type": "display_data"
    }
   ],
   "source": [
    "# By comparision, we are able to (visually) see a clear relationship between MinTemp and MaxTemp\n",
    "combined.plot.scatter(x = 'MinTemp', y = 'MaxTemp')"
   ]
  },
  {
   "cell_type": "code",
   "execution_count": 8,
   "id": "8d7d1f9a-0fcd-46ed-b437-dc1c9b189f47",
   "metadata": {},
   "outputs": [
    {
     "data": {
      "text/plain": [
       "0.7522532233865161"
      ]
     },
     "execution_count": 8,
     "metadata": {},
     "output_type": "execute_result"
    }
   ],
   "source": [
    "# Rather than inspecting the data visually, we can instead quantitatively measure the statistical correlation between those two variables\n",
    "combined.MinTemp.corr(combined.MaxTemp)\n",
    "\n",
    "# A value of 0.75 shows a strong positive correlation between these two variables"
   ]
  },
  {
   "cell_type": "code",
   "execution_count": 9,
   "id": "c8d752dc-5f8d-4f08-a8d2-ca7f4278159a",
   "metadata": {},
   "outputs": [
    {
     "data": {
      "text/plain": [
       "1.0"
      ]
     },
     "execution_count": 9,
     "metadata": {},
     "output_type": "execute_result"
    }
   ],
   "source": [
    "# A correlation cooefficient of 1.0 indicates a perfect correlation\n",
    "combined.MinTemp.corr(combined.MinTemp)"
   ]
  },
  {
   "cell_type": "code",
   "execution_count": 10,
   "id": "19f45660-982d-4ea7-9300-d641442b986c",
   "metadata": {},
   "outputs": [
    {
     "data": {
      "text/plain": [
       "<AxesSubplot:xlabel='MinTemp', ylabel='MinTemp'>"
      ]
     },
     "execution_count": 10,
     "metadata": {},
     "output_type": "execute_result"
    },
    {
     "data": {
      "image/png": "[encoded data removed]",
      "text/plain": [
       "<Figure size 640x480 with 1 Axes>"
      ]
     },
     "metadata": {},
     "output_type": "display_data"
    }
   ],
   "source": [
    "# Visually, this perfect correlation can be seen as a straight line plot\n",
    "combined.plot.scatter(x = 'MinTemp', y = 'MinTemp')"
   ]
  },
  {
   "cell_type": "code",
   "execution_count": 11,
   "id": "6f196a02-a5ed-4153-99ae-07fa871b5bb7",
   "metadata": {},
   "outputs": [
    {
     "data": {
      "text/plain": [
       "0.12889353799554037"
      ]
     },
     "execution_count": 11,
     "metadata": {},
     "output_type": "execute_result"
    }
   ],
   "source": [
    "# The average speed is slightly correlated with the MinTemp (although we did not see it visually)\n",
    "combined.MinTemp.corr(combined.avg_speed)"
   ]
  },
  {
   "cell_type": "code",
   "execution_count": 12,
   "id": "a163eb22-56f8-4eb7-9be7-1c7ddf0e3011",
   "metadata": {},
   "outputs": [
    {
     "data": {
      "text/plain": [
       "-0.007855018562520967"
      ]
     },
     "execution_count": 12,
     "metadata": {},
     "output_type": "execute_result"
    }
   ],
   "source": [
    "# The average speed is negatively correlated with the MaxTemp.\n",
    "# A negative correlation means that a higher MaxTemp would tend to produce a lower average speed.\n",
    "# However, in this example, the value is so close to 0.0 that we would say there is effectively no correlation (i.e. within the margin of error of the experimental data)\n",
    "combined.MaxTemp.corr(combined.avg_speed)"
   ]
  },
  {
   "cell_type": "code",
   "execution_count": 13,
   "id": "a059f5cd-5517-4c41-9c63-8ffa2461bb69",
   "metadata": {},
   "outputs": [
    {
     "data": {
      "text/html": [
       "<div>\n",
       "<style scoped>\n",
       "    .dataframe tbody tr th:only-of-type {\n",
       "        vertical-align: middle;\n",
       "    }\n",
       "\n",
       "    .dataframe tbody tr th {\n",
       "        vertical-align: top;\n",
       "    }\n",
       "\n",
       "    .dataframe thead th {\n",
       "        text-align: right;\n",
       "    }\n",
       "</style>\n",
       "<table border=\"1\" class=\"dataframe\">\n",
       "  <thead>\n",
       "    <tr style=\"text-align: right;\">\n",
       "      <th></th>\n",
       "      <th>distance</th>\n",
       "      <th>moving_time</th>\n",
       "      <th>elevation</th>\n",
       "      <th>average_watts</th>\n",
       "      <th>max_speed</th>\n",
       "      <th>avg_speed</th>\n",
       "      <th>MinTemp</th>\n",
       "      <th>MaxTemp</th>\n",
       "      <th>Rainfall</th>\n",
       "    </tr>\n",
       "  </thead>\n",
       "  <tbody>\n",
       "    <tr>\n",
       "      <th>distance</th>\n",
       "      <td>1.000000</td>\n",
       "      <td>0.940718</td>\n",
       "      <td>0.414023</td>\n",
       "      <td>0.277241</td>\n",
       "      <td>0.193675</td>\n",
       "      <td>0.315034</td>\n",
       "      <td>0.255150</td>\n",
       "      <td>0.194449</td>\n",
       "      <td>-0.032644</td>\n",
       "    </tr>\n",
       "    <tr>\n",
       "      <th>moving_time</th>\n",
       "      <td>0.940718</td>\n",
       "      <td>1.000000</td>\n",
       "      <td>0.535511</td>\n",
       "      <td>0.112357</td>\n",
       "      <td>0.107228</td>\n",
       "      <td>0.032837</td>\n",
       "      <td>0.252697</td>\n",
       "      <td>0.211409</td>\n",
       "      <td>-0.066543</td>\n",
       "    </tr>\n",
       "    <tr>\n",
       "      <th>elevation</th>\n",
       "      <td>0.414023</td>\n",
       "      <td>0.535511</td>\n",
       "      <td>1.000000</td>\n",
       "      <td>-0.013030</td>\n",
       "      <td>0.412788</td>\n",
       "      <td>-0.253571</td>\n",
       "      <td>0.096340</td>\n",
       "      <td>0.125490</td>\n",
       "      <td>-0.093572</td>\n",
       "    </tr>\n",
       "    <tr>\n",
       "      <th>average_watts</th>\n",
       "      <td>0.277241</td>\n",
       "      <td>0.112357</td>\n",
       "      <td>-0.013030</td>\n",
       "      <td>1.000000</td>\n",
       "      <td>0.155901</td>\n",
       "      <td>0.765292</td>\n",
       "      <td>0.206919</td>\n",
       "      <td>0.079206</td>\n",
       "      <td>0.159048</td>\n",
       "    </tr>\n",
       "    <tr>\n",
       "      <th>max_speed</th>\n",
       "      <td>0.193675</td>\n",
       "      <td>0.107228</td>\n",
       "      <td>0.412788</td>\n",
       "      <td>0.155901</td>\n",
       "      <td>1.000000</td>\n",
       "      <td>0.286832</td>\n",
       "      <td>0.029610</td>\n",
       "      <td>0.016619</td>\n",
       "      <td>0.027467</td>\n",
       "    </tr>\n",
       "    <tr>\n",
       "      <th>avg_speed</th>\n",
       "      <td>0.315034</td>\n",
       "      <td>0.032837</td>\n",
       "      <td>-0.253571</td>\n",
       "      <td>0.765292</td>\n",
       "      <td>0.286832</td>\n",
       "      <td>1.000000</td>\n",
       "      <td>0.128894</td>\n",
       "      <td>-0.007855</td>\n",
       "      <td>0.211152</td>\n",
       "    </tr>\n",
       "    <tr>\n",
       "      <th>MinTemp</th>\n",
       "      <td>0.255150</td>\n",
       "      <td>0.252697</td>\n",
       "      <td>0.096340</td>\n",
       "      <td>0.206919</td>\n",
       "      <td>0.029610</td>\n",
       "      <td>0.128894</td>\n",
       "      <td>1.000000</td>\n",
       "      <td>0.752253</td>\n",
       "      <td>0.170858</td>\n",
       "    </tr>\n",
       "    <tr>\n",
       "      <th>MaxTemp</th>\n",
       "      <td>0.194449</td>\n",
       "      <td>0.211409</td>\n",
       "      <td>0.125490</td>\n",
       "      <td>0.079206</td>\n",
       "      <td>0.016619</td>\n",
       "      <td>-0.007855</td>\n",
       "      <td>0.752253</td>\n",
       "      <td>1.000000</td>\n",
       "      <td>0.056198</td>\n",
       "    </tr>\n",
       "    <tr>\n",
       "      <th>Rainfall</th>\n",
       "      <td>-0.032644</td>\n",
       "      <td>-0.066543</td>\n",
       "      <td>-0.093572</td>\n",
       "      <td>0.159048</td>\n",
       "      <td>0.027467</td>\n",
       "      <td>0.211152</td>\n",
       "      <td>0.170858</td>\n",
       "      <td>0.056198</td>\n",
       "      <td>1.000000</td>\n",
       "    </tr>\n",
       "  </tbody>\n",
       "</table>\n",
       "</div>"
      ],
      "text/plain": [
       "               distance  moving_time  elevation  average_watts  max_speed  \\\n",
       "distance       1.000000     0.940718   0.414023       0.277241   0.193675   \n",
       "moving_time    0.940718     1.000000   0.535511       0.112357   0.107228   \n",
       "elevation      0.414023     0.535511   1.000000      -0.013030   0.412788   \n",
       "average_watts  0.277241     0.112357  -0.013030       1.000000   0.155901   \n",
       "max_speed      0.193675     0.107228   0.412788       0.155901   1.000000   \n",
       "avg_speed      0.315034     0.032837  -0.253571       0.765292   0.286832   \n",
       "MinTemp        0.255150     0.252697   0.096340       0.206919   0.029610   \n",
       "MaxTemp        0.194449     0.211409   0.125490       0.079206   0.016619   \n",
       "Rainfall      -0.032644    -0.066543  -0.093572       0.159048   0.027467   \n",
       "\n",
       "               avg_speed   MinTemp   MaxTemp  Rainfall  \n",
       "distance        0.315034  0.255150  0.194449 -0.032644  \n",
       "moving_time     0.032837  0.252697  0.211409 -0.066543  \n",
       "elevation      -0.253571  0.096340  0.125490 -0.093572  \n",
       "average_watts   0.765292  0.206919  0.079206  0.159048  \n",
       "max_speed       0.286832  0.029610  0.016619  0.027467  \n",
       "avg_speed       1.000000  0.128894 -0.007855  0.211152  \n",
       "MinTemp         0.128894  1.000000  0.752253  0.170858  \n",
       "MaxTemp        -0.007855  0.752253  1.000000  0.056198  \n",
       "Rainfall        0.211152  0.170858  0.056198  1.000000  "
      ]
     },
     "execution_count": 13,
     "metadata": {},
     "output_type": "execute_result"
    }
   ],
   "source": [
    "# Or we can ask for the correlation between all pairs of numeric columns\n",
    "combined.corr()"
   ]
  },
  {
   "cell_type": "code",
   "execution_count": 14,
   "id": "1aa43ce2-19ac-4ef5-9da1-f06020088dbf",
   "metadata": {},
   "outputs": [],
   "source": [
    "# Try creating some examples of your own ..."
   ]
  }
 ],
 "metadata": {
  "kernelspec": {
   "display_name": "Python 3 (ipykernel)",
   "language": "python",
   "name": "python3"
  },
  "language_info": {
   "codemirror_mode": {
    "name": "ipython",
    "version": 3
   },
   "file_extension": ".py",
   "mimetype": "text/x-python",
   "name": "python",
   "nbconvert_exporter": "python",
   "pygments_lexer": "ipython3",
   "version": "3.9.13"
  }
 },
 "nbformat": 4,
 "nbformat_minor": 5
}
