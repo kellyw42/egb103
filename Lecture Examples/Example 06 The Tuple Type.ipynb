{
 "cells": [
  {
   "cell_type": "code",
   "execution_count": 27,
   "id": "51691e1a-8508-4c73-96e5-84523145a6ff",
   "metadata": {},
   "outputs": [],
   "source": [
    "x = [1,2,3]"
   ]
  },
  {
   "cell_type": "code",
   "execution_count": 5,
   "id": "0985259a-cc0b-4626-872c-158cf9cada3d",
   "metadata": {},
   "outputs": [
    {
     "data": {
      "text/plain": [
       "2"
      ]
     },
     "execution_count": 5,
     "metadata": {},
     "output_type": "execute_result"
    }
   ],
   "source": [
    "x[1]"
   ]
  },
  {
   "cell_type": "code",
   "execution_count": 6,
   "id": "96799fa9-aae0-4c0c-ba64-2a3f661a5f88",
   "metadata": {},
   "outputs": [],
   "source": [
    "x[1] = 34"
   ]
  },
  {
   "cell_type": "code",
   "execution_count": 7,
   "id": "530a67ba-e554-4665-a195-9dcf28d16344",
   "metadata": {},
   "outputs": [
    {
     "data": {
      "text/plain": [
       "[1, 34, 3]"
      ]
     },
     "execution_count": 7,
     "metadata": {},
     "output_type": "execute_result"
    }
   ],
   "source": [
    "x"
   ]
  },
  {
   "cell_type": "code",
   "execution_count": 34,
   "id": "8d4aaed2-6d27-4a4d-b79c-38a87599e61a",
   "metadata": {},
   "outputs": [],
   "source": [
    "# a tuple is similar to a list, but used round parenthesis rather than square parenthesis\n",
    "y = (1,2,3)"
   ]
  },
  {
   "cell_type": "code",
   "execution_count": 35,
   "id": "c42fa563-a72e-424d-8052-7520a346db57",
   "metadata": {},
   "outputs": [
    {
     "data": {
      "text/plain": [
       "tuple"
      ]
     },
     "execution_count": 35,
     "metadata": {},
     "output_type": "execute_result"
    }
   ],
   "source": [
    "type(y)"
   ]
  },
  {
   "cell_type": "code",
   "execution_count": 9,
   "id": "12d28f59-6b3b-4a4d-8af1-834c53f703d6",
   "metadata": {},
   "outputs": [
    {
     "data": {
      "text/plain": [
       "2"
      ]
     },
     "execution_count": 9,
     "metadata": {},
     "output_type": "execute_result"
    }
   ],
   "source": [
    "# can index a tuple just like a list\n",
    "y[1]"
   ]
  },
  {
   "cell_type": "code",
   "execution_count": 10,
   "id": "da00576f-9d6e-4fa9-bc3f-9420deafb5ac",
   "metadata": {},
   "outputs": [
    {
     "data": {
      "text/plain": [
       "(2, 3)"
      ]
     },
     "execution_count": 10,
     "metadata": {},
     "output_type": "execute_result"
    }
   ],
   "source": [
    "# can slice a tuple just like a list, but notice that the result is of type tuple\n",
    "y[1:]"
   ]
  },
  {
   "cell_type": "code",
   "execution_count": 11,
   "id": "670bfdd5-5987-4286-9a02-716308b17959",
   "metadata": {},
   "outputs": [
    {
     "name": "stdout",
     "output_type": "stream",
     "text": [
      "1\n",
      "2\n",
      "3\n"
     ]
    }
   ],
   "source": [
    "# can iterate though the elements of a tuple (just like a list)\n",
    "for i in y:\n",
    "    print(i)"
   ]
  },
  {
   "cell_type": "code",
   "execution_count": 12,
   "id": "f2888300-603b-41aa-8ffc-3a0ee5005772",
   "metadata": {},
   "outputs": [],
   "source": [
    "# the elements of a tuple can be of different types\n",
    "y = (1,'string',[3,(3,4)])"
   ]
  },
  {
   "cell_type": "code",
   "execution_count": 13,
   "id": "fed0bc67-625c-4cee-9a37-80c94e295e8e",
   "metadata": {},
   "outputs": [
    {
     "ename": "TypeError",
     "evalue": "'tuple' object does not support item assignment",
     "output_type": "error",
     "traceback": [
      "\u001b[0;31m---------------------------------------------------------------------------\u001b[0m",
      "\u001b[0;31mTypeError\u001b[0m                                 Traceback (most recent call last)",
      "Input \u001b[0;32mIn [13]\u001b[0m, in \u001b[0;36m<cell line: 1>\u001b[0;34m()\u001b[0m\n\u001b[0;32m----> 1\u001b[0m \u001b[43my\u001b[49m\u001b[43m[\u001b[49m\u001b[38;5;241;43m1\u001b[39;49m\u001b[43m]\u001b[49m \u001b[38;5;241m=\u001b[39m \u001b[38;5;241m3\u001b[39m\n",
      "\u001b[0;31mTypeError\u001b[0m: 'tuple' object does not support item assignment"
     ]
    }
   ],
   "source": [
    "# the only thing you can't do to a tuple is update any of its values\n",
    "y[1] = 3"
   ]
  },
  {
   "cell_type": "code",
   "execution_count": 15,
   "id": "bb197d0c-c660-4166-897c-0a33d13115d9",
   "metadata": {},
   "outputs": [],
   "source": [
    "# tuples are often used to represent coordinates, as in the following example that has a list of 2 dimensional coordinates\n",
    "c = [(3, 5.6), (4,4), (5,6)]"
   ]
  },
  {
   "cell_type": "code",
   "execution_count": 16,
   "id": "e4a258dc-d91d-4860-b0a9-a030db38cc0a",
   "metadata": {},
   "outputs": [],
   "source": [
    "c1 = (3, 5.6)"
   ]
  },
  {
   "cell_type": "code",
   "execution_count": 17,
   "id": "e51c7aa2-730d-4820-a52c-79baa76faed2",
   "metadata": {},
   "outputs": [],
   "source": [
    "# can  extract the elements of a tuple using indexing\n",
    "x = c1[0]"
   ]
  },
  {
   "cell_type": "code",
   "execution_count": 18,
   "id": "815b3e6c-d314-4a75-9cad-6e54b9a223b7",
   "metadata": {},
   "outputs": [],
   "source": [
    "y = c1[1]"
   ]
  },
  {
   "cell_type": "code",
   "execution_count": 21,
   "id": "fd45d16d-8ab7-493d-b21b-d217cdce3ec6",
   "metadata": {},
   "outputs": [
    {
     "data": {
      "text/plain": [
       "3"
      ]
     },
     "execution_count": 21,
     "metadata": {},
     "output_type": "execute_result"
    }
   ],
   "source": [
    "x"
   ]
  },
  {
   "cell_type": "code",
   "execution_count": 22,
   "id": "acc5cc5d-a6f5-4f0a-b5f0-17c86d507663",
   "metadata": {},
   "outputs": [
    {
     "data": {
      "text/plain": [
       "5.6"
      ]
     },
     "execution_count": 22,
     "metadata": {},
     "output_type": "execute_result"
    }
   ],
   "source": [
    "y"
   ]
  },
  {
   "cell_type": "code",
   "execution_count": 20,
   "id": "61f40f81-d7e6-4090-849c-f1c6a0fbfaa5",
   "metadata": {},
   "outputs": [],
   "source": [
    "# or more elegantly extracting the elements by having a list of variable on the left side of the assignment statement\n",
    "x,y = c1"
   ]
  },
  {
   "cell_type": "code",
   "execution_count": 23,
   "id": "1014ea89-b854-4e8e-9042-da80712bfd6e",
   "metadata": {},
   "outputs": [
    {
     "data": {
      "text/plain": [
       "3"
      ]
     },
     "execution_count": 23,
     "metadata": {},
     "output_type": "execute_result"
    }
   ],
   "source": [
    "x"
   ]
  },
  {
   "cell_type": "code",
   "execution_count": 24,
   "id": "bbb47b29-52d9-4c43-a26b-85af4dae7fa4",
   "metadata": {},
   "outputs": [
    {
     "data": {
      "text/plain": [
       "5.6"
      ]
     },
     "execution_count": 24,
     "metadata": {},
     "output_type": "execute_result"
    }
   ],
   "source": [
    "y"
   ]
  },
  {
   "cell_type": "code",
   "execution_count": 25,
   "id": "63bad3fb-375e-4cb2-9b4b-dce03d15faee",
   "metadata": {},
   "outputs": [
    {
     "ename": "ValueError",
     "evalue": "not enough values to unpack (expected 3, got 2)",
     "output_type": "error",
     "traceback": [
      "\u001b[0;31m---------------------------------------------------------------------------\u001b[0m",
      "\u001b[0;31mValueError\u001b[0m                                Traceback (most recent call last)",
      "Input \u001b[0;32mIn [25]\u001b[0m, in \u001b[0;36m<cell line: 1>\u001b[0;34m()\u001b[0m\n\u001b[0;32m----> 1\u001b[0m x,y,z \u001b[38;5;241m=\u001b[39m c1\n",
      "\u001b[0;31mValueError\u001b[0m: not enough values to unpack (expected 3, got 2)"
     ]
    }
   ],
   "source": [
    "# the number of variables on the left side needs to match the number of elements in the tuple\n",
    "x,y,z = c1"
   ]
  },
  {
   "cell_type": "code",
   "execution_count": 28,
   "id": "e9f4647b-84a3-43d7-8f2d-5dde6d7f0df6",
   "metadata": {},
   "outputs": [],
   "source": [
    "x = [1,2,3]"
   ]
  },
  {
   "cell_type": "code",
   "execution_count": 29,
   "id": "0b25a353-b4f6-4785-9396-f4bff4770ffa",
   "metadata": {},
   "outputs": [],
   "source": [
    "# can also extract elements from a list in the same manner\n",
    "# but more commonly done for tuples since we normally know precisely how many elements we expect to find in a particular tuple\n",
    "a,b,c = x"
   ]
  },
  {
   "cell_type": "code",
   "execution_count": 30,
   "id": "4f6ed5c0-82c4-4204-8997-a1331514acd0",
   "metadata": {},
   "outputs": [
    {
     "data": {
      "text/plain": [
       "1"
      ]
     },
     "execution_count": 30,
     "metadata": {},
     "output_type": "execute_result"
    }
   ],
   "source": [
    "a"
   ]
  },
  {
   "cell_type": "code",
   "execution_count": 31,
   "id": "c0ae2437-df5a-4693-80e7-1b5ac4ebbeec",
   "metadata": {},
   "outputs": [
    {
     "data": {
      "text/plain": [
       "2"
      ]
     },
     "execution_count": 31,
     "metadata": {},
     "output_type": "execute_result"
    }
   ],
   "source": [
    "b"
   ]
  },
  {
   "cell_type": "code",
   "execution_count": 32,
   "id": "2fdf2eff-2c50-4090-9ffc-de66aa809577",
   "metadata": {},
   "outputs": [
    {
     "data": {
      "text/plain": [
       "3"
      ]
     },
     "execution_count": 32,
     "metadata": {},
     "output_type": "execute_result"
    }
   ],
   "source": [
    "c"
   ]
  },
  {
   "cell_type": "code",
   "execution_count": null,
   "id": "43778e6a-3857-46af-a5c5-b8bd8bde6355",
   "metadata": {},
   "outputs": [],
   "source": [
    "# try creating some examples of your own!"
   ]
  }
 ],
 "metadata": {
  "kernelspec": {
   "display_name": "Python 3 (ipykernel)",
   "language": "python",
   "name": "python3"
  },
  "language_info": {
   "codemirror_mode": {
    "name": "ipython",
    "version": 3
   },
   "file_extension": ".py",
   "mimetype": "text/x-python",
   "name": "python",
   "nbconvert_exporter": "python",
   "pygments_lexer": "ipython3",
   "version": "3.9.13"
  }
 },
 "nbformat": 4,
 "nbformat_minor": 5
}
