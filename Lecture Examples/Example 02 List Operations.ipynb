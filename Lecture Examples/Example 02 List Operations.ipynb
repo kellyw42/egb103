{
 "cells": [
  {
   "cell_type": "code",
   "execution_count": 43,
   "id": "61c3d414-8707-4994-8d40-af7cc3d10311",
   "metadata": {},
   "outputs": [],
   "source": [
    "x = [3,7.13, 4+4j,True,[3,False]]"
   ]
  },
  {
   "cell_type": "code",
   "execution_count": 44,
   "id": "5b442637-3645-449a-a772-1259c3f178aa",
   "metadata": {},
   "outputs": [
    {
     "data": {
      "text/plain": [
       "list"
      ]
     },
     "execution_count": 44,
     "metadata": {},
     "output_type": "execute_result"
    }
   ],
   "source": [
    "type(x)"
   ]
  },
  {
   "cell_type": "code",
   "execution_count": 45,
   "id": "65b3f1e8-5f80-4d79-bc1f-69373bfe3e6e",
   "metadata": {},
   "outputs": [
    {
     "data": {
      "text/plain": [
       "5"
      ]
     },
     "execution_count": 45,
     "metadata": {},
     "output_type": "execute_result"
    }
   ],
   "source": [
    "# compute the length of the list\n",
    "len(x)"
   ]
  },
  {
   "cell_type": "code",
   "execution_count": 46,
   "id": "08efd270-076e-4678-a41c-cab58a34e6c4",
   "metadata": {},
   "outputs": [
    {
     "data": {
      "text/plain": [
       "0"
      ]
     },
     "execution_count": 46,
     "metadata": {},
     "output_type": "execute_result"
    }
   ],
   "source": [
    "# length of the empty list\n",
    "len([])"
   ]
  },
  {
   "cell_type": "code",
   "execution_count": 47,
   "id": "2d3d8ba6-c62a-427e-8f3b-573a462ba134",
   "metadata": {},
   "outputs": [
    {
     "data": {
      "text/plain": [
       "1"
      ]
     },
     "execution_count": 47,
     "metadata": {},
     "output_type": "execute_result"
    }
   ],
   "source": [
    "# length of a list with just one element\n",
    "len([4])"
   ]
  },
  {
   "cell_type": "code",
   "execution_count": 48,
   "id": "14f523ab-6ada-49fe-926b-f6a3eb88aab7",
   "metadata": {},
   "outputs": [
    {
     "ename": "TypeError",
     "evalue": "object of type 'int' has no len()",
     "output_type": "error",
     "traceback": [
      "\u001b[0;31m---------------------------------------------------------------------------\u001b[0m",
      "\u001b[0;31mTypeError\u001b[0m                                 Traceback (most recent call last)",
      "Input \u001b[0;32mIn [48]\u001b[0m, in \u001b[0;36m<cell line: 2>\u001b[0;34m()\u001b[0m\n\u001b[1;32m      1\u001b[0m \u001b[38;5;66;03m# can only compute the length of a list, not an integer\u001b[39;00m\n\u001b[0;32m----> 2\u001b[0m \u001b[38;5;28;43mlen\u001b[39;49m\u001b[43m(\u001b[49m\u001b[38;5;241;43m4\u001b[39;49m\u001b[43m)\u001b[49m\n",
      "\u001b[0;31mTypeError\u001b[0m: object of type 'int' has no len()"
     ]
    }
   ],
   "source": [
    "# can only compute the length of a list, not an integer\n",
    "len(4)"
   ]
  },
  {
   "cell_type": "code",
   "execution_count": 49,
   "id": "ffab50ec-80d6-4faf-a90b-fb226b8b4f90",
   "metadata": {},
   "outputs": [],
   "source": [
    "y = [1,2,3,4,5,6,7,8,9,10]"
   ]
  },
  {
   "cell_type": "code",
   "execution_count": 50,
   "id": "68328142-7f1b-45f4-b458-2e84f16ff405",
   "metadata": {},
   "outputs": [
    {
     "data": {
      "text/plain": [
       "[3, 7.13, (4+4j), True, [3, False], 1, 2, 3, 4, 5, 6, 7, 8, 9, 10]"
      ]
     },
     "execution_count": 50,
     "metadata": {},
     "output_type": "execute_result"
    }
   ],
   "source": [
    "# concatenate elements of x followed by elements of y to create a new list\n",
    "x + y"
   ]
  },
  {
   "cell_type": "code",
   "execution_count": 51,
   "id": "ed514faf-cb0b-4824-a368-64c06084fb51",
   "metadata": {},
   "outputs": [
    {
     "data": {
      "text/plain": [
       "[3, 7.13, (4+4j), True, [3, False]]"
      ]
     },
     "execution_count": 51,
     "metadata": {},
     "output_type": "execute_result"
    }
   ],
   "source": [
    "# note that above concatenation doesn't change the two lists\n",
    "x"
   ]
  },
  {
   "cell_type": "code",
   "execution_count": 52,
   "id": "13df0541-f76e-4efb-b44c-2a2c7a60cab1",
   "metadata": {},
   "outputs": [
    {
     "data": {
      "text/plain": [
       "[1, 2, 3, 4, 5, 6, 7, 8, 9, 10]"
      ]
     },
     "execution_count": 52,
     "metadata": {},
     "output_type": "execute_result"
    }
   ],
   "source": [
    "y"
   ]
  },
  {
   "cell_type": "code",
   "execution_count": 53,
   "id": "14113098-5fca-4797-a18e-16a49fd5879f",
   "metadata": {},
   "outputs": [],
   "source": [
    "z = x + y"
   ]
  },
  {
   "cell_type": "code",
   "execution_count": 54,
   "id": "10e03faf-b51e-4945-b9ac-51fca810bb9c",
   "metadata": {},
   "outputs": [
    {
     "data": {
      "text/plain": [
       "15"
      ]
     },
     "execution_count": 54,
     "metadata": {},
     "output_type": "execute_result"
    }
   ],
   "source": [
    "len(z)"
   ]
  },
  {
   "cell_type": "code",
   "execution_count": 55,
   "id": "8deddc60-7721-4e86-9327-19b1c592ffd5",
   "metadata": {},
   "outputs": [
    {
     "data": {
      "text/plain": [
       "5"
      ]
     },
     "execution_count": 55,
     "metadata": {},
     "output_type": "execute_result"
    }
   ],
   "source": [
    "len(x)"
   ]
  },
  {
   "cell_type": "code",
   "execution_count": 56,
   "id": "1e6c81d1-e596-4b55-823e-9a4387e83f06",
   "metadata": {},
   "outputs": [
    {
     "data": {
      "text/plain": [
       "10"
      ]
     },
     "execution_count": 56,
     "metadata": {},
     "output_type": "execute_result"
    }
   ],
   "source": [
    "len(y)"
   ]
  },
  {
   "cell_type": "code",
   "execution_count": 57,
   "id": "056b4a4f-9be8-4a91-92c6-2a5b7be3aaf3",
   "metadata": {},
   "outputs": [
    {
     "ename": "TypeError",
     "evalue": "can only concatenate list (not \"int\") to list",
     "output_type": "error",
     "traceback": [
      "\u001b[0;31m---------------------------------------------------------------------------\u001b[0m",
      "\u001b[0;31mTypeError\u001b[0m                                 Traceback (most recent call last)",
      "Input \u001b[0;32mIn [57]\u001b[0m, in \u001b[0;36m<cell line: 2>\u001b[0;34m()\u001b[0m\n\u001b[1;32m      1\u001b[0m \u001b[38;5;66;03m# Can't concatenate a list and a number\u001b[39;00m\n\u001b[0;32m----> 2\u001b[0m z \u001b[38;5;241m=\u001b[39m \u001b[43mx\u001b[49m\u001b[43m \u001b[49m\u001b[38;5;241;43m+\u001b[39;49m\u001b[43m \u001b[49m\u001b[38;5;241;43m4\u001b[39;49m\n",
      "\u001b[0;31mTypeError\u001b[0m: can only concatenate list (not \"int\") to list"
     ]
    }
   ],
   "source": [
    "# Can't concatenate a list and a number\n",
    "z = x + 4"
   ]
  },
  {
   "cell_type": "code",
   "execution_count": 58,
   "id": "e9a20fc8-027b-4bab-afbb-d7ba9003d02b",
   "metadata": {},
   "outputs": [
    {
     "ename": "TypeError",
     "evalue": "unsupported operand type(s) for -: 'list' and 'list'",
     "output_type": "error",
     "traceback": [
      "\u001b[0;31m---------------------------------------------------------------------------\u001b[0m",
      "\u001b[0;31mTypeError\u001b[0m                                 Traceback (most recent call last)",
      "Input \u001b[0;32mIn [58]\u001b[0m, in \u001b[0;36m<cell line: 1>\u001b[0;34m()\u001b[0m\n\u001b[0;32m----> 1\u001b[0m z \u001b[38;5;241m=\u001b[39m \u001b[43mx\u001b[49m\u001b[43m \u001b[49m\u001b[38;5;241;43m-\u001b[39;49m\u001b[43m \u001b[49m\u001b[43my\u001b[49m\n",
      "\u001b[0;31mTypeError\u001b[0m: unsupported operand type(s) for -: 'list' and 'list'"
     ]
    }
   ],
   "source": [
    "# subtraction not defined on lists\n",
    "z = x - y"
   ]
  },
  {
   "cell_type": "code",
   "execution_count": 59,
   "id": "c030e223-36b7-47f5-9b2e-169dcec87785",
   "metadata": {},
   "outputs": [
    {
     "ename": "TypeError",
     "evalue": "can't multiply sequence by non-int of type 'list'",
     "output_type": "error",
     "traceback": [
      "\u001b[0;31m---------------------------------------------------------------------------\u001b[0m",
      "\u001b[0;31mTypeError\u001b[0m                                 Traceback (most recent call last)",
      "Input \u001b[0;32mIn [59]\u001b[0m, in \u001b[0;36m<cell line: 1>\u001b[0;34m()\u001b[0m\n\u001b[0;32m----> 1\u001b[0m z \u001b[38;5;241m=\u001b[39m \u001b[43mx\u001b[49m\u001b[43m \u001b[49m\u001b[38;5;241;43m*\u001b[39;49m\u001b[43m \u001b[49m\u001b[43my\u001b[49m\n",
      "\u001b[0;31mTypeError\u001b[0m: can't multiply sequence by non-int of type 'list'"
     ]
    }
   ],
   "source": [
    "# multiplication not defined on lists\n",
    "z = x * y"
   ]
  },
  {
   "cell_type": "code",
   "execution_count": 60,
   "id": "74d15b89-d6c6-4c1a-99ac-f5644fd3ddab",
   "metadata": {},
   "outputs": [],
   "source": [
    "# but we can multiply a list by an integer ...\n",
    "# replicate the elements of x twice (2 times)\n",
    "z = x * 2"
   ]
  },
  {
   "cell_type": "code",
   "execution_count": 61,
   "id": "173e2541-6ba6-4a54-b966-bf16ce427411",
   "metadata": {},
   "outputs": [
    {
     "data": {
      "text/plain": [
       "[3, 7.13, (4+4j), True, [3, False], 3, 7.13, (4+4j), True, [3, False]]"
      ]
     },
     "execution_count": 61,
     "metadata": {},
     "output_type": "execute_result"
    }
   ],
   "source": [
    "z"
   ]
  },
  {
   "cell_type": "code",
   "execution_count": 62,
   "id": "e6cabb62-d7fe-4736-8c6d-f0b18300206c",
   "metadata": {},
   "outputs": [
    {
     "data": {
      "text/plain": [
       "[1,\n",
       " 2,\n",
       " 3,\n",
       " 4,\n",
       " 5,\n",
       " 6,\n",
       " 7,\n",
       " 8,\n",
       " 9,\n",
       " 10,\n",
       " 1,\n",
       " 2,\n",
       " 3,\n",
       " 4,\n",
       " 5,\n",
       " 6,\n",
       " 7,\n",
       " 8,\n",
       " 9,\n",
       " 10,\n",
       " 1,\n",
       " 2,\n",
       " 3,\n",
       " 4,\n",
       " 5,\n",
       " 6,\n",
       " 7,\n",
       " 8,\n",
       " 9,\n",
       " 10]"
      ]
     },
     "execution_count": 62,
     "metadata": {},
     "output_type": "execute_result"
    }
   ],
   "source": [
    "# create 3 copies of list y\n",
    "y * 3"
   ]
  },
  {
   "cell_type": "code",
   "execution_count": 63,
   "id": "4c027e4c-4459-4855-ab7f-d2a867533ccd",
   "metadata": {},
   "outputs": [
    {
     "data": {
      "text/plain": [
       "[]"
      ]
     },
     "execution_count": 63,
     "metadata": {},
     "output_type": "execute_result"
    }
   ],
   "source": [
    "# duplicate all elements in the empty list three times.\n",
    "[] * 3"
   ]
  },
  {
   "cell_type": "markdown",
   "id": "4b9d15c4-60c5-497c-a5d6-02e77b65cf4d",
   "metadata": {},
   "source": [
    "# Slicing ..."
   ]
  },
  {
   "cell_type": "code",
   "execution_count": 64,
   "id": "eabd9dfd-32e2-4dfe-810d-39d2266701b2",
   "metadata": {},
   "outputs": [
    {
     "data": {
      "text/plain": [
       "4"
      ]
     },
     "execution_count": 64,
     "metadata": {},
     "output_type": "execute_result"
    }
   ],
   "source": [
    "# access a single element\n",
    "y[3]"
   ]
  },
  {
   "cell_type": "code",
   "execution_count": 65,
   "id": "7d24dc5a-8f0d-497f-ae9d-d9c11860b921",
   "metadata": {},
   "outputs": [
    {
     "data": {
      "text/plain": [
       "[4, 5, 6]"
      ]
     },
     "execution_count": 65,
     "metadata": {},
     "output_type": "execute_result"
    }
   ],
   "source": [
    "# access a slice of a list\n",
    "# get elements starting at position 3, up to but not including position 6\n",
    "y[3:6]"
   ]
  },
  {
   "cell_type": "code",
   "execution_count": 66,
   "id": "ca28ead6-6aa5-4491-9575-a0cac26c69bf",
   "metadata": {},
   "outputs": [
    {
     "data": {
      "text/plain": [
       "[]"
      ]
     },
     "execution_count": 66,
     "metadata": {},
     "output_type": "execute_result"
    }
   ],
   "source": [
    "# access a slice of length zero\n",
    "y[3:3]"
   ]
  },
  {
   "cell_type": "code",
   "execution_count": 67,
   "id": "b6988002-0632-4ff2-9311-d894d59c7a94",
   "metadata": {},
   "outputs": [
    {
     "data": {
      "text/plain": [
       "[4]"
      ]
     },
     "execution_count": 67,
     "metadata": {},
     "output_type": "execute_result"
    }
   ],
   "source": [
    "# notice that a slice is always a list\n",
    "y[3:4]"
   ]
  },
  {
   "cell_type": "code",
   "execution_count": 68,
   "id": "689def1b-7e73-482b-b3a9-1f8b515974c8",
   "metadata": {},
   "outputs": [
    {
     "data": {
      "text/plain": [
       "4"
      ]
     },
     "execution_count": 68,
     "metadata": {},
     "output_type": "execute_result"
    }
   ],
   "source": [
    "# accessing a slice of length one is different to accessing an individual element\n",
    "y[3]"
   ]
  },
  {
   "cell_type": "code",
   "execution_count": 69,
   "id": "3e92e903-db6c-4021-82e9-847ad0d92fbe",
   "metadata": {},
   "outputs": [
    {
     "data": {
      "text/plain": [
       "[4, 5, 6, 7, 8, 9, 10]"
      ]
     },
     "execution_count": 69,
     "metadata": {},
     "output_type": "execute_result"
    }
   ],
   "source": [
    "# doesn't matter if  upper bound is greater than length\n",
    "y[3:40]"
   ]
  },
  {
   "cell_type": "code",
   "execution_count": 70,
   "id": "5a8c2000-b220-48f1-9f0f-1700349c4d9d",
   "metadata": {},
   "outputs": [
    {
     "data": {
      "text/plain": [
       "[4, 5, 6, 7, 8, 9, 10]"
      ]
     },
     "execution_count": 70,
     "metadata": {},
     "output_type": "execute_result"
    }
   ],
   "source": [
    "# from position 3 to the end\n",
    "y[3:len(y)]"
   ]
  },
  {
   "cell_type": "code",
   "execution_count": 71,
   "id": "7891174d-5fc8-4c92-92f4-c08d7cec1581",
   "metadata": {},
   "outputs": [
    {
     "data": {
      "text/plain": [
       "[4, 5, 6, 7, 8, 9, 10]"
      ]
     },
     "execution_count": 71,
     "metadata": {},
     "output_type": "execute_result"
    }
   ],
   "source": [
    "# shorthand: from position 3 to the end\n",
    "y[3:]"
   ]
  },
  {
   "cell_type": "code",
   "execution_count": 72,
   "id": "fb5edeb7-3382-4353-b2f6-33e862b55827",
   "metadata": {},
   "outputs": [
    {
     "data": {
      "text/plain": [
       "[1, 2, 3, 4]"
      ]
     },
     "execution_count": 72,
     "metadata": {},
     "output_type": "execute_result"
    }
   ],
   "source": [
    "# from start to position 4\n",
    "y[0:4]"
   ]
  },
  {
   "cell_type": "code",
   "execution_count": 73,
   "id": "29804548-3e67-4aa1-94ec-1f0683c4715f",
   "metadata": {},
   "outputs": [
    {
     "data": {
      "text/plain": [
       "[1, 2, 3, 4]"
      ]
     },
     "execution_count": 73,
     "metadata": {},
     "output_type": "execute_result"
    }
   ],
   "source": [
    "#  shorthand: from start\n",
    "y[:4]"
   ]
  },
  {
   "cell_type": "code",
   "execution_count": 74,
   "id": "94d5f9d0-e4ba-4787-963a-fb5e1c928f2f",
   "metadata": {},
   "outputs": [
    {
     "data": {
      "text/plain": [
       "[2, 4, 6, 8]"
      ]
     },
     "execution_count": 74,
     "metadata": {},
     "output_type": "execute_result"
    }
   ],
   "source": [
    "# access every second elment from position 1 through to 8\n",
    "y[1:8:2]"
   ]
  },
  {
   "cell_type": "code",
   "execution_count": 75,
   "id": "5022d028-1214-488e-94ca-9e2892fb0f4f",
   "metadata": {},
   "outputs": [
    {
     "data": {
      "text/plain": [
       "[2, 5, 8]"
      ]
     },
     "execution_count": 75,
     "metadata": {},
     "output_type": "execute_result"
    }
   ],
   "source": [
    "# access every third element\n",
    "y[1:8:3]"
   ]
  },
  {
   "cell_type": "code",
   "execution_count": 76,
   "id": "0285aac0-6fcc-4b9f-b594-f25c3fe5856e",
   "metadata": {},
   "outputs": [],
   "source": [
    "# updating a specific element of a list\n",
    "y[1] = 34"
   ]
  },
  {
   "cell_type": "code",
   "execution_count": 77,
   "id": "c51ac60d-3438-4a24-b65e-e6273d46ca9a",
   "metadata": {},
   "outputs": [
    {
     "data": {
      "text/plain": [
       "[1, 34, 3, 4, 5, 6, 7, 8, 9, 10]"
      ]
     },
     "execution_count": 77,
     "metadata": {},
     "output_type": "execute_result"
    }
   ],
   "source": [
    "y"
   ]
  },
  {
   "cell_type": "code",
   "execution_count": 78,
   "id": "2530a2b5-0fdd-4129-badf-6046f0307d50",
   "metadata": {},
   "outputs": [
    {
     "ename": "TypeError",
     "evalue": "can only assign an iterable",
     "output_type": "error",
     "traceback": [
      "\u001b[0;31m---------------------------------------------------------------------------\u001b[0m",
      "\u001b[0;31mTypeError\u001b[0m                                 Traceback (most recent call last)",
      "Input \u001b[0;32mIn [78]\u001b[0m, in \u001b[0;36m<cell line: 1>\u001b[0;34m()\u001b[0m\n\u001b[0;32m----> 1\u001b[0m \u001b[43my\u001b[49m\u001b[43m[\u001b[49m\u001b[38;5;241;43m1\u001b[39;49m\u001b[43m:\u001b[49m\u001b[38;5;241;43m4\u001b[39;49m\u001b[43m]\u001b[49m \u001b[38;5;241m=\u001b[39m \u001b[38;5;241m34\u001b[39m\n",
      "\u001b[0;31mTypeError\u001b[0m: can only assign an iterable"
     ]
    }
   ],
   "source": [
    "# updating a range of elements - the value assigned needs to be a list\n",
    "y[1:4] = 34"
   ]
  },
  {
   "cell_type": "code",
   "execution_count": 79,
   "id": "5afde5a2-220b-4c3c-aacc-97efac80c1e5",
   "metadata": {},
   "outputs": [
    {
     "data": {
      "text/plain": [
       "[1, 4, 5, 6, 5, 6, 7, 8, 9, 10]"
      ]
     },
     "execution_count": 79,
     "metadata": {},
     "output_type": "execute_result"
    }
   ],
   "source": [
    "# replace the elements at positions 1 through  4 with the values 4, 5 and 6\n",
    "y[1:4] = [4,5,6]\n",
    "y"
   ]
  },
  {
   "cell_type": "code",
   "execution_count": 80,
   "id": "6cd5a66a-be33-46f5-931e-98e4eb7f04cb",
   "metadata": {},
   "outputs": [
    {
     "data": {
      "text/plain": [
       "[1, 5, 6, 7, 8, 9, 10]"
      ]
     },
     "execution_count": 80,
     "metadata": {},
     "output_type": "execute_result"
    }
   ],
   "source": [
    "# can replace a range of elements by the empty list (which effectively removes those elements)\n",
    "y[1:4] = []\n",
    "y"
   ]
  },
  {
   "cell_type": "code",
   "execution_count": 81,
   "id": "074daf2c-9a49-4994-99dc-8be57a76b58c",
   "metadata": {},
   "outputs": [
    {
     "data": {
      "text/plain": [
       "7"
      ]
     },
     "execution_count": 81,
     "metadata": {},
     "output_type": "execute_result"
    }
   ],
   "source": [
    "# the list has got shorter\n",
    "len(y)"
   ]
  },
  {
   "cell_type": "code",
   "execution_count": 82,
   "id": "819bd0e3-3a78-4a59-a02f-28ee5e5c5fa3",
   "metadata": {},
   "outputs": [],
   "source": [
    "# can replace a range of elements by a longer list\n",
    "y[1:4] = [5,5,5,5,5,5,5]"
   ]
  },
  {
   "cell_type": "code",
   "execution_count": 83,
   "id": "e61dd761-31ec-42b4-a259-ae23ec83bbbb",
   "metadata": {},
   "outputs": [
    {
     "data": {
      "text/plain": [
       "[1, 5, 5, 5, 5, 5, 5, 5, 8, 9, 10]"
      ]
     },
     "execution_count": 83,
     "metadata": {},
     "output_type": "execute_result"
    }
   ],
   "source": [
    "y"
   ]
  },
  {
   "cell_type": "code",
   "execution_count": 84,
   "id": "2b4c92f7-92dc-4fcd-bd03-7cde47a6b3a6",
   "metadata": {},
   "outputs": [
    {
     "data": {
      "text/plain": [
       "10"
      ]
     },
     "execution_count": 84,
     "metadata": {},
     "output_type": "execute_result"
    }
   ],
   "source": [
    "y[10]"
   ]
  },
  {
   "cell_type": "code",
   "execution_count": 85,
   "id": "dd81c5e5-8d56-4ede-bb50-582210d91fb7",
   "metadata": {},
   "outputs": [
    {
     "data": {
      "text/plain": [
       "[9]"
      ]
     },
     "execution_count": 85,
     "metadata": {},
     "output_type": "execute_result"
    }
   ],
   "source": [
    "y[9:10]"
   ]
  },
  {
   "cell_type": "code",
   "execution_count": 86,
   "id": "831296f9-3d09-4dce-9571-e917d232732d",
   "metadata": {},
   "outputs": [
    {
     "data": {
      "text/plain": [
       "[10]"
      ]
     },
     "execution_count": 86,
     "metadata": {},
     "output_type": "execute_result"
    }
   ],
   "source": [
    "y[10:11]"
   ]
  },
  {
   "cell_type": "code",
   "execution_count": 87,
   "id": "d05dd9a7-6272-44de-b3ff-a359a586f32f",
   "metadata": {},
   "outputs": [
    {
     "data": {
      "text/plain": [
       "[1, 5, 5, 5, 5, 5, 5, 5, 8, 9, 88, 88, 88, 90, 10]"
      ]
     },
     "execution_count": 87,
     "metadata": {},
     "output_type": "execute_result"
    }
   ],
   "source": [
    "# can replace a range of length 0 by a list of values (effectively inserts those elements at that position)\n",
    "y[10:10] = [88, 88, 88, 90]\n",
    "y"
   ]
  },
  {
   "cell_type": "code",
   "execution_count": 88,
   "id": "5fc164b3-eb7c-477c-a75e-78b8412f4337",
   "metadata": {},
   "outputs": [],
   "source": [
    "# try creating some examples of your own!"
   ]
  },
  {
   "cell_type": "code",
   "execution_count": null,
   "id": "4d6cc39d-df0f-4cd2-a0d2-6cbe55e25a7e",
   "metadata": {},
   "outputs": [],
   "source": []
  }
 ],
 "metadata": {
  "kernelspec": {
   "display_name": "Python 3 (ipykernel)",
   "language": "python",
   "name": "python3"
  },
  "language_info": {
   "codemirror_mode": {
    "name": "ipython",
    "version": 3
   },
   "file_extension": ".py",
   "mimetype": "text/x-python",
   "name": "python",
   "nbconvert_exporter": "python",
   "pygments_lexer": "ipython3",
   "version": "3.9.13"
  }
 },
 "nbformat": 4,
 "nbformat_minor": 5
}
