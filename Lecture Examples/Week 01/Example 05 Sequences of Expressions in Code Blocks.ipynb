{
 "cells": [
  {
   "cell_type": "code",
   "execution_count": 1,
   "id": "4400a30a-3bcf-4d1b-9da7-76ab7226a2ea",
   "metadata": {},
   "outputs": [
    {
     "data": {
      "text/plain": [
       "5"
      ]
     },
     "execution_count": 1,
     "metadata": {},
     "output_type": "execute_result"
    }
   ],
   "source": [
    "2+3"
   ]
  },
  {
   "cell_type": "code",
   "execution_count": 3,
   "id": "7aed5e06-6dd2-4299-9d8b-0272cfc20ba8",
   "metadata": {},
   "outputs": [
    {
     "data": {
      "text/plain": [
       "1.2"
      ]
     },
     "execution_count": 3,
     "metadata": {},
     "output_type": "execute_result"
    }
   ],
   "source": [
    "2+3\n",
    "4*4\n",
    "6 / 5"
   ]
  },
  {
   "cell_type": "code",
   "execution_count": 4,
   "id": "f4e35636-52c1-4623-902e-ba7c2d5f5831",
   "metadata": {},
   "outputs": [
    {
     "ename": "ZeroDivisionError",
     "evalue": "division by zero",
     "output_type": "error",
     "traceback": [
      "\u001b[0;31m---------------------------------------------------------------------------\u001b[0m",
      "\u001b[0;31mZeroDivisionError\u001b[0m                         Traceback (most recent call last)",
      "Input \u001b[0;32mIn [4]\u001b[0m, in \u001b[0;36m<cell line: 2>\u001b[0;34m()\u001b[0m\n\u001b[1;32m      1\u001b[0m \u001b[38;5;241m2\u001b[39m\u001b[38;5;241m+\u001b[39m\u001b[38;5;241m3\u001b[39m\n\u001b[0;32m----> 2\u001b[0m \u001b[38;5;241;43m4\u001b[39;49m\u001b[38;5;241;43m/\u001b[39;49m\u001b[38;5;241;43m0\u001b[39;49m\n\u001b[1;32m      3\u001b[0m \u001b[38;5;241m6\u001b[39m \u001b[38;5;241m/\u001b[39m \u001b[38;5;241m5\u001b[39m\n",
      "\u001b[0;31mZeroDivisionError\u001b[0m: division by zero"
     ]
    }
   ],
   "source": [
    "2+3\n",
    "4/0\n",
    "6 / 5"
   ]
  },
  {
   "cell_type": "code",
   "execution_count": 5,
   "id": "2df5c413-ac9c-4e99-8177-b014cea8d1a5",
   "metadata": {},
   "outputs": [
    {
     "name": "stdout",
     "output_type": "stream",
     "text": [
      "5\n",
      "16\n"
     ]
    },
    {
     "data": {
      "text/plain": [
       "1.2"
      ]
     },
     "execution_count": 5,
     "metadata": {},
     "output_type": "execute_result"
    }
   ],
   "source": [
    "print(2+3)\n",
    "print(4*4)\n",
    "6 / 5"
   ]
  },
  {
   "cell_type": "code",
   "execution_count": 6,
   "id": "3bc4a99b-a595-4d38-bb3b-e8410d7dd08b",
   "metadata": {},
   "outputs": [
    {
     "name": "stdout",
     "output_type": "stream",
     "text": [
      "5\n",
      "16\n",
      "1.2\n"
     ]
    }
   ],
   "source": [
    "print(2+3)\n",
    "print(4*4)\n",
    "print(6 / 5)"
   ]
  },
  {
   "cell_type": "code",
   "execution_count": 7,
   "id": "c922a068-442d-4161-b69d-f60f9cd47d43",
   "metadata": {},
   "outputs": [
    {
     "ename": "SyntaxError",
     "evalue": "invalid syntax (3012827522.py, line 1)",
     "output_type": "error",
     "traceback": [
      "\u001b[0;36m  Input \u001b[0;32mIn [7]\u001b[0;36m\u001b[0m\n\u001b[0;31m    2+3 4/4\u001b[0m\n\u001b[0m        ^\u001b[0m\n\u001b[0;31mSyntaxError\u001b[0m\u001b[0;31m:\u001b[0m invalid syntax\n"
     ]
    }
   ],
   "source": [
    "2+3 4/4\n",
    "6 / 4"
   ]
  },
  {
   "cell_type": "code",
   "execution_count": 9,
   "id": "f3d9326d-653e-4522-8ebc-74892eccca69",
   "metadata": {},
   "outputs": [
    {
     "data": {
      "text/plain": [
       "1.5"
      ]
     },
     "execution_count": 9,
     "metadata": {},
     "output_type": "execute_result"
    }
   ],
   "source": [
    "2+3 \n",
    "\n",
    "4/4\n",
    "6 / 4\n"
   ]
  },
  {
   "cell_type": "code",
   "execution_count": null,
   "id": "8d9a44ff-dee8-4955-896b-8743ef7decfc",
   "metadata": {},
   "outputs": [],
   "source": [
    "# try creating some examples of your own ..."
   ]
  }
 ],
 "metadata": {
  "kernelspec": {
   "display_name": "Python 3 (ipykernel)",
   "language": "python",
   "name": "python3"
  },
  "language_info": {
   "codemirror_mode": {
    "name": "ipython",
    "version": 3
   },
   "file_extension": ".py",
   "mimetype": "text/x-python",
   "name": "python",
   "nbconvert_exporter": "python",
   "pygments_lexer": "ipython3",
   "version": "3.9.13"
  }
 },
 "nbformat": 4,
 "nbformat_minor": 5
}
