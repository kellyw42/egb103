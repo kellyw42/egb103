{
 "cells": [
  {
   "cell_type": "markdown",
   "id": "c393a2ad-cb20-48e0-af1d-b4443a019594",
   "metadata": {},
   "source": [
    "# Heading\n",
    "## Subheading\n",
    "\n",
    "*italic text*\n",
    "**bold text**\n",
    "***bold and italic***\n",
    "\n",
    "Fred is here\n",
    "\n",
    "- lista\n",
    "- listb\n",
    "- listc\n",
    "\n",
    "1. lista\n",
    "1. listb\n",
    "1. listc\n",
    "\n",
    "<b>bold</b>\n",
    "<h1> H1 Heading</h1>\n",
    "\n",
    "$x \\over y$\n",
    "\n",
    "$$ x \\over y^2$$"
   ]
  },
  {
   "cell_type": "code",
   "execution_count": null,
   "id": "bde074b1-036c-49cd-9a91-056d5b29f80a",
   "metadata": {},
   "outputs": [],
   "source": []
  },
  {
   "cell_type": "markdown",
   "id": "941cf8ec-d02b-4e83-b336-94cf30f95278",
   "metadata": {},
   "source": [
    "1. lista\n",
    "1. listb\n",
    "1. listc"
   ]
  },
  {
   "cell_type": "markdown",
   "id": "4b4b26ac-99b7-4d4e-aae2-821271b86fdd",
   "metadata": {},
   "source": [
    "See http://markdownguide.org/getting-started/"
   ]
  },
  {
   "cell_type": "code",
   "execution_count": null,
   "id": "fffccfc3-d0f6-444e-b836-454fde0f4338",
   "metadata": {},
   "outputs": [],
   "source": []
  }
 ],
 "metadata": {
  "kernelspec": {
   "display_name": "Python 3 (ipykernel)",
   "language": "python",
   "name": "python3"
  },
  "language_info": {
   "codemirror_mode": {
    "name": "ipython",
    "version": 3
   },
   "file_extension": ".py",
   "mimetype": "text/x-python",
   "name": "python",
   "nbconvert_exporter": "python",
   "pygments_lexer": "ipython3",
   "version": "3.9.13"
  }
 },
 "nbformat": 4,
 "nbformat_minor": 5
}
