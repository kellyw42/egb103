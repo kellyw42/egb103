{
 "cells": [
  {
   "cell_type": "code",
   "execution_count": 1,
   "id": "e14e108a-b5ee-4e17-9453-bcaac1fa8f32",
   "metadata": {},
   "outputs": [
    {
     "data": {
      "text/plain": [
       "2"
      ]
     },
     "execution_count": 1,
     "metadata": {},
     "output_type": "execute_result"
    }
   ],
   "source": [
    "1+1"
   ]
  },
  {
   "cell_type": "code",
   "execution_count": 2,
   "id": "e66018a7-79a5-48b2-ae65-8d530c637a79",
   "metadata": {},
   "outputs": [
    {
     "data": {
      "text/plain": [
       "3"
      ]
     },
     "execution_count": 2,
     "metadata": {},
     "output_type": "execute_result"
    }
   ],
   "source": [
    "1+2"
   ]
  },
  {
   "cell_type": "code",
   "execution_count": 3,
   "id": "c52d0099-9310-49ad-989e-026bef3ae030",
   "metadata": {},
   "outputs": [
    {
     "data": {
      "text/plain": [
       "2"
      ]
     },
     "execution_count": 3,
     "metadata": {},
     "output_type": "execute_result"
    }
   ],
   "source": [
    "3-1"
   ]
  },
  {
   "cell_type": "code",
   "execution_count": 4,
   "id": "c7fc0a43-af4d-4cc1-8aba-01a1d58d5b41",
   "metadata": {},
   "outputs": [
    {
     "data": {
      "text/plain": [
       "0.6666666666666666"
      ]
     },
     "execution_count": 4,
     "metadata": {},
     "output_type": "execute_result"
    }
   ],
   "source": [
    "2 / 3"
   ]
  },
  {
   "cell_type": "markdown",
   "id": "b714eb32-9cf5-49c7-bee2-61c7b4e2f7e2",
   "metadata": {},
   "source": [
    "$$ 2 \\times 3$$\n",
    "$$ x y$$"
   ]
  },
  {
   "cell_type": "markdown",
   "id": "9d4e0fd7-8862-4065-a59b-6aeca7389356",
   "metadata": {},
   "source": [
    "2 * 3"
   ]
  },
  {
   "cell_type": "code",
   "execution_count": 6,
   "id": "5529bdf4-e8b8-45c9-b19d-795d57ff94e8",
   "metadata": {},
   "outputs": [
    {
     "data": {
      "text/plain": [
       "6.283"
      ]
     },
     "execution_count": 6,
     "metadata": {},
     "output_type": "execute_result"
    }
   ],
   "source": [
    "3.1415 * 2"
   ]
  },
  {
   "cell_type": "markdown",
   "id": "3755d2fa-b683-4415-91e9-5c4159a47bbc",
   "metadata": {},
   "source": [
    "$$ 6.67 \\times 10^{-11}$$"
   ]
  },
  {
   "cell_type": "code",
   "execution_count": 12,
   "id": "1d03a172-05b5-444c-8772-5c60eb730231",
   "metadata": {},
   "outputs": [
    {
     "data": {
      "text/plain": [
       "3.335e-10"
      ]
     },
     "execution_count": 12,
     "metadata": {},
     "output_type": "execute_result"
    }
   ],
   "source": [
    "6.67e-11 * 5"
   ]
  },
  {
   "cell_type": "code",
   "execution_count": 13,
   "id": "73f37e4c-51d9-4cf6-b4e6-07593941b926",
   "metadata": {},
   "outputs": [
    {
     "data": {
      "text/plain": [
       "6"
      ]
     },
     "execution_count": 13,
     "metadata": {},
     "output_type": "execute_result"
    }
   ],
   "source": [
    "1 + 2+3"
   ]
  },
  {
   "cell_type": "code",
   "execution_count": 14,
   "id": "3ec5e254-a0d2-4874-8776-b1843855a52c",
   "metadata": {},
   "outputs": [
    {
     "data": {
      "text/plain": [
       "14"
      ]
     },
     "execution_count": 14,
     "metadata": {},
     "output_type": "execute_result"
    }
   ],
   "source": [
    "1 + 11 + 2"
   ]
  },
  {
   "cell_type": "code",
   "execution_count": 15,
   "id": "4fedaa59-deb2-44ef-b6f3-cfafbaddba23",
   "metadata": {},
   "outputs": [
    {
     "ename": "SyntaxError",
     "evalue": "invalid syntax (3484872364.py, line 1)",
     "output_type": "error",
     "traceback": [
      "\u001b[0;36m  Input \u001b[0;32mIn [15]\u001b[0;36m\u001b[0m\n\u001b[0;31m    1 + 1 1 + 2\u001b[0m\n\u001b[0m          ^\u001b[0m\n\u001b[0;31mSyntaxError\u001b[0m\u001b[0;31m:\u001b[0m invalid syntax\n"
     ]
    }
   ],
   "source": [
    "1 + 1 1 + 2"
   ]
  },
  {
   "cell_type": "markdown",
   "id": "9ae9b47f-46a2-4226-84bc-10958183bfbf",
   "metadata": {},
   "source": [
    "$$2^3$$"
   ]
  },
  {
   "cell_type": "code",
   "execution_count": 16,
   "id": "c15ada80-5d2e-4ee5-95f1-4498673e706d",
   "metadata": {},
   "outputs": [
    {
     "data": {
      "text/plain": [
       "8"
      ]
     },
     "execution_count": 16,
     "metadata": {},
     "output_type": "execute_result"
    }
   ],
   "source": [
    "2 ** 3 "
   ]
  },
  {
   "cell_type": "code",
   "execution_count": 17,
   "id": "a8b84628-d67c-4868-924d-4de663dee9af",
   "metadata": {},
   "outputs": [
    {
     "ename": "SyntaxError",
     "evalue": "invalid syntax (4263547826.py, line 1)",
     "output_type": "error",
     "traceback": [
      "\u001b[0;36m  Input \u001b[0;32mIn [17]\u001b[0;36m\u001b[0m\n\u001b[0;31m    2 * * 3\u001b[0m\n\u001b[0m        ^\u001b[0m\n\u001b[0;31mSyntaxError\u001b[0m\u001b[0;31m:\u001b[0m invalid syntax\n"
     ]
    }
   ],
   "source": [
    "2 * * 3"
   ]
  },
  {
   "cell_type": "markdown",
   "id": "0c942d3d-e3c6-41f0-9d43-4d0d3ff1495c",
   "metadata": {},
   "source": [
    "$$x + y z^2$$"
   ]
  },
  {
   "cell_type": "code",
   "execution_count": 18,
   "id": "f71ca138-39fc-48fb-848d-fee2dad698d5",
   "metadata": {},
   "outputs": [
    {
     "data": {
      "text/plain": [
       "7"
      ]
     },
     "execution_count": 18,
     "metadata": {},
     "output_type": "execute_result"
    }
   ],
   "source": [
    "1+2*3"
   ]
  },
  {
   "cell_type": "code",
   "execution_count": 19,
   "id": "91492f2e-cdc7-4b1a-a3ef-7211c1db7f42",
   "metadata": {},
   "outputs": [
    {
     "data": {
      "text/plain": [
       "9"
      ]
     },
     "execution_count": 19,
     "metadata": {},
     "output_type": "execute_result"
    }
   ],
   "source": [
    "(1+2)*3"
   ]
  },
  {
   "cell_type": "code",
   "execution_count": null,
   "id": "922eca85-877c-4fcd-98eb-cefecde49df0",
   "metadata": {},
   "outputs": [],
   "source": []
  }
 ],
 "metadata": {
  "kernelspec": {
   "display_name": "Python 3 (ipykernel)",
   "language": "python",
   "name": "python3"
  },
  "language_info": {
   "codemirror_mode": {
    "name": "ipython",
    "version": 3
   },
   "file_extension": ".py",
   "mimetype": "text/x-python",
   "name": "python",
   "nbconvert_exporter": "python",
   "pygments_lexer": "ipython3",
   "version": "3.9.13"
  }
 },
 "nbformat": 4,
 "nbformat_minor": 5
}
