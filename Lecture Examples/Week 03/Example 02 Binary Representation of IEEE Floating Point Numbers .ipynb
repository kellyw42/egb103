{
 "cells": [
  {
   "cell_type": "code",
   "execution_count": 1,
   "id": "ff4101f8-6475-4d5c-b3cf-680313e5b425",
   "metadata": {},
   "outputs": [
    {
     "data": {
      "text/plain": [
       "4"
      ]
     },
     "execution_count": 1,
     "metadata": {},
     "output_type": "execute_result"
    }
   ],
   "source": [
    "# calculations involving integer values is precise\n",
    "1+3"
   ]
  },
  {
   "cell_type": "code",
   "execution_count": 2,
   "id": "e5af6ad2-dbd6-40d9-a7ed-04cd39182110",
   "metadata": {},
   "outputs": [
    {
     "data": {
      "text/plain": [
       "0.4"
      ]
     },
     "execution_count": 2,
     "metadata": {},
     "output_type": "execute_result"
    }
   ],
   "source": [
    "0.1 + 0.3"
   ]
  },
  {
   "cell_type": "code",
   "execution_count": 3,
   "id": "917d5ac1-7918-4ce1-af2c-473c59f0c589",
   "metadata": {},
   "outputs": [
    {
     "data": {
      "text/plain": [
       "0.43000000000000005"
      ]
     },
     "execution_count": 3,
     "metadata": {},
     "output_type": "execute_result"
    }
   ],
   "source": [
    "# arithmetic involving floating point values is inherently imprecise\n",
    "0.1 + 0.33"
   ]
  },
  {
   "cell_type": "code",
   "execution_count": 4,
   "id": "9ffa7d12-1e90-41fb-9e77-cce61a9a8956",
   "metadata": {},
   "outputs": [
    {
     "data": {
      "text/plain": [
       "0.3333333333333333"
      ]
     },
     "execution_count": 4,
     "metadata": {},
     "output_type": "execute_result"
    }
   ],
   "source": [
    "1/3"
   ]
  },
  {
   "cell_type": "markdown",
   "id": "a0242fe5-ce89-4580-8cf5-f004e366ec8c",
   "metadata": {},
   "source": [
    "Try the following examples using\n",
    "https://h-schmidt.net/FloatConverter/IEEE754.html\n",
    "- 10\n",
    "- 1000.324\n",
    "- 1000.32397461"
   ]
  }
 ],
 "metadata": {
  "kernelspec": {
   "display_name": "Python 3 (ipykernel)",
   "language": "python",
   "name": "python3"
  },
  "language_info": {
   "codemirror_mode": {
    "name": "ipython",
    "version": 3
   },
   "file_extension": ".py",
   "mimetype": "text/x-python",
   "name": "python",
   "nbconvert_exporter": "python",
   "pygments_lexer": "ipython3",
   "version": "3.9.13"
  }
 },
 "nbformat": 4,
 "nbformat_minor": 5
}
