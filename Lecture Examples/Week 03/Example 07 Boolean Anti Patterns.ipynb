{
 "cells": [
  {
   "cell_type": "code",
   "execution_count": 2,
   "id": "aac50b04-2167-4f27-a902-d9662e4bdec9",
   "metadata": {},
   "outputs": [
    {
     "name": "stdout",
     "output_type": "stream",
     "text": [
      "number is positive\n"
     ]
    }
   ],
   "source": [
    "# Should never compare boolean value to True\n",
    "x = 4\n",
    "y = 7\n",
    "positive = x > 0\n",
    "if positive == True :\n",
    "    print('number is positive')"
   ]
  },
  {
   "cell_type": "code",
   "execution_count": 3,
   "id": "c55b32b0-4766-4773-a18a-b91e1c34cd2b",
   "metadata": {},
   "outputs": [
    {
     "name": "stdout",
     "output_type": "stream",
     "text": [
      "number is positive\n"
     ]
    }
   ],
   "source": [
    "# Should instead simplify to ...\n",
    "x = 4\n",
    "y = 7\n",
    "positive = x > 0\n",
    "if positive :\n",
    "    print('number is positive')"
   ]
  },
  {
   "cell_type": "code",
   "execution_count": 5,
   "id": "758d0e8c-3b48-4673-bc4c-ea55d7535939",
   "metadata": {},
   "outputs": [],
   "source": [
    "# Should never use an if else statement to initialize a variable to True or False based on a boolean condition\n",
    "if x < 5 or (y > 10 and x < 10) :\n",
    "    good = True\n",
    "else :\n",
    "    good = False"
   ]
  },
  {
   "cell_type": "code",
   "execution_count": 7,
   "id": "7fd2e05b-015f-440d-8ada-a9d2b591180c",
   "metadata": {},
   "outputs": [],
   "source": [
    "# Should instead simplify to ...\n",
    "good = x < 5 or (y > 10 and x < 10)"
   ]
  }
 ],
 "metadata": {
  "kernelspec": {
   "display_name": "Python 3 (ipykernel)",
   "language": "python",
   "name": "python3"
  },
  "language_info": {
   "codemirror_mode": {
    "name": "ipython",
    "version": 3
   },
   "file_extension": ".py",
   "mimetype": "text/x-python",
   "name": "python",
   "nbconvert_exporter": "python",
   "pygments_lexer": "ipython3",
   "version": "3.9.13"
  }
 },
 "nbformat": 4,
 "nbformat_minor": 5
}
