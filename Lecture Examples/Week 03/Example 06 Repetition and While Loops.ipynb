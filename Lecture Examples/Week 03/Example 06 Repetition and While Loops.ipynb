{
 "cells": [
  {
   "cell_type": "code",
   "execution_count": 2,
   "id": "35ab2cc3-67f6-4dbb-94fd-e4735d87770c",
   "metadata": {},
   "outputs": [
    {
     "data": {
      "text/plain": [
       "8"
      ]
     },
     "execution_count": 2,
     "metadata": {},
     "output_type": "execute_result"
    }
   ],
   "source": [
    "# How many months will it take for our $100 savings  to increase to $200 if we are getting 10% interest?\n",
    "balance = 100\n",
    "months = 0\n",
    "while balance  < 200 :\n",
    "    balance *= 1.10\n",
    "    months += 1\n",
    "months"
   ]
  },
  {
   "cell_type": "code",
   "execution_count": 3,
   "id": "776c1abb-ea4b-4099-a4fb-bcc03814c683",
   "metadata": {},
   "outputs": [
    {
     "data": {
      "text/plain": [
       "8"
      ]
     },
     "execution_count": 3,
     "metadata": {},
     "output_type": "execute_result"
    }
   ],
   "source": [
    "# Using 15% interest instead\n",
    "balance = 100\n",
    "months = 0\n",
    "while balance  < 200 :\n",
    "    balance *= 1.10\n",
    "    months += 1\n",
    "months"
   ]
  },
  {
   "cell_type": "code",
   "execution_count": 4,
   "id": "e79b584b-d4f9-4bb3-8593-facf4843e81c",
   "metadata": {},
   "outputs": [
    {
     "data": {
      "text/plain": [
       "0"
      ]
     },
     "execution_count": 4,
     "metadata": {},
     "output_type": "execute_result"
    }
   ],
   "source": [
    "# sometimes the condition is false initially, so the loop executes zero  times\n",
    "balance = 300\n",
    "months = 0\n",
    "while balance  < 200 :\n",
    "    balance *= 1.10\n",
    "    months += 1\n",
    "months"
   ]
  },
  {
   "cell_type": "code",
   "execution_count": 6,
   "id": "151c8df5-fef9-456d-be26-c1e7a27dc7d6",
   "metadata": {},
   "outputs": [
    {
     "ename": "KeyboardInterrupt",
     "evalue": "",
     "output_type": "error",
     "traceback": [
      "\u001b[0;31m---------------------------------------------------------------------------\u001b[0m",
      "\u001b[0;31mKeyboardInterrupt\u001b[0m                         Traceback (most recent call last)",
      "Input \u001b[0;32mIn [6]\u001b[0m, in \u001b[0;36m<cell line: 4>\u001b[0;34m()\u001b[0m\n\u001b[1;32m      3\u001b[0m months \u001b[38;5;241m=\u001b[39m \u001b[38;5;241m0\u001b[39m\n\u001b[1;32m      4\u001b[0m \u001b[38;5;28;01mwhile\u001b[39;00m balance  \u001b[38;5;241m<\u001b[39m \u001b[38;5;241m200\u001b[39m :\n\u001b[0;32m----> 5\u001b[0m     balance \u001b[38;5;241m*\u001b[39m\u001b[38;5;241m=\u001b[39m \u001b[38;5;241m1.00\u001b[39m\n\u001b[1;32m      6\u001b[0m     months \u001b[38;5;241m+\u001b[39m\u001b[38;5;241m=\u001b[39m \u001b[38;5;241m1\u001b[39m\n\u001b[1;32m      7\u001b[0m months\n",
      "\u001b[0;31mKeyboardInterrupt\u001b[0m: "
     ]
    }
   ],
   "source": [
    "# sometimes the condition remains true forever, so our loop never terminates\n",
    "balance = 100\n",
    "months = 0\n",
    "while balance  < 200 :\n",
    "    balance *= 1.00 # with 0% interest\n",
    "    months += 1\n",
    "months"
   ]
  },
  {
   "cell_type": "code",
   "execution_count": 7,
   "id": "d28b2fa9-789e-4f55-a2e3-e898152eae4f",
   "metadata": {},
   "outputs": [
    {
     "name": "stdout",
     "output_type": "stream",
     "text": [
      "> \u001b[0;32m/tmp/ipykernel_192/780064257.py\u001b[0m(5)\u001b[0;36m<cell line: 4>\u001b[0;34m()\u001b[0m\n",
      "\u001b[0;32m      3 \u001b[0;31m\u001b[0mmonths\u001b[0m \u001b[0;34m=\u001b[0m \u001b[0;36m0\u001b[0m\u001b[0;34m\u001b[0m\u001b[0;34m\u001b[0m\u001b[0m\n",
      "\u001b[0m\u001b[0;32m      4 \u001b[0;31m\u001b[0;32mwhile\u001b[0m \u001b[0mbalance\u001b[0m  \u001b[0;34m<\u001b[0m \u001b[0;36m200\u001b[0m \u001b[0;34m:\u001b[0m\u001b[0;34m\u001b[0m\u001b[0;34m\u001b[0m\u001b[0m\n",
      "\u001b[0m\u001b[0;32m----> 5 \u001b[0;31m    \u001b[0mbalance\u001b[0m \u001b[0;34m*=\u001b[0m \u001b[0;36m1.00\u001b[0m\u001b[0;34m\u001b[0m\u001b[0;34m\u001b[0m\u001b[0m\n",
      "\u001b[0m\u001b[0;32m      6 \u001b[0;31m    \u001b[0mmonths\u001b[0m \u001b[0;34m+=\u001b[0m \u001b[0;36m1\u001b[0m\u001b[0;34m\u001b[0m\u001b[0;34m\u001b[0m\u001b[0m\n",
      "\u001b[0m\u001b[0;32m      7 \u001b[0;31m\u001b[0mmonths\u001b[0m\u001b[0;34m\u001b[0m\u001b[0;34m\u001b[0m\u001b[0m\n",
      "\u001b[0m\n"
     ]
    },
    {
     "name": "stdin",
     "output_type": "stream",
     "text": [
      "ipdb>  months\n"
     ]
    },
    {
     "name": "stdout",
     "output_type": "stream",
     "text": [
      "240876045\n"
     ]
    },
    {
     "name": "stdin",
     "output_type": "stream",
     "text": [
      "ipdb>  balance\n"
     ]
    },
    {
     "name": "stdout",
     "output_type": "stream",
     "text": [
      "100.0\n"
     ]
    },
    {
     "name": "stdin",
     "output_type": "stream",
     "text": [
      "ipdb>  exit()\n"
     ]
    }
   ],
   "source": [
    "%debug"
   ]
  },
  {
   "cell_type": "code",
   "execution_count": null,
   "id": "998a29fb-8bfd-4f2f-ac14-e2ddfd7c3f4f",
   "metadata": {},
   "outputs": [],
   "source": []
  }
 ],
 "metadata": {
  "kernelspec": {
   "display_name": "Python 3 (ipykernel)",
   "language": "python",
   "name": "python3"
  },
  "language_info": {
   "codemirror_mode": {
    "name": "ipython",
    "version": 3
   },
   "file_extension": ".py",
   "mimetype": "text/x-python",
   "name": "python",
   "nbconvert_exporter": "python",
   "pygments_lexer": "ipython3",
   "version": "3.9.13"
  }
 },
 "nbformat": 4,
 "nbformat_minor": 5
}
