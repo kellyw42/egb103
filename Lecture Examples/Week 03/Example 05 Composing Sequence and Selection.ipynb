{
 "cells": [
  {
   "cell_type": "code",
   "execution_count": 14,
   "id": "870936f1-19fd-4ff5-9ee6-8a9018ca7b85",
   "metadata": {},
   "outputs": [],
   "source": [
    "# combining sequence and selection\n",
    "def solveQuadratic(a, b, c) :\n",
    "    discriminant = b**2 - 4*a*c\n",
    "    if discriminant < 0 :\n",
    "        print('no roots')\n",
    "    else :\n",
    "        if discriminant == 0 :\n",
    "            print(-b/(2*a))\n",
    "        else :\n",
    "            print((-b + math.sqrt(b**2 - 4*a*c))/(2*a))\n",
    "            print((-b - math.sqrt(b**2 - 4*a*c))/(2*a))"
   ]
  }
 ],
 "metadata": {
  "kernelspec": {
   "display_name": "Python 3 (ipykernel)",
   "language": "python",
   "name": "python3"
  },
  "language_info": {
   "codemirror_mode": {
    "name": "ipython",
    "version": 3
   },
   "file_extension": ".py",
   "mimetype": "text/x-python",
   "name": "python",
   "nbconvert_exporter": "python",
   "pygments_lexer": "ipython3",
   "version": "3.9.13"
  }
 },
 "nbformat": 4,
 "nbformat_minor": 5
}
