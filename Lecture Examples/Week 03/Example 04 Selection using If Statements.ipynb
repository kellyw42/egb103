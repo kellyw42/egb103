{
 "cells": [
  {
   "cell_type": "code",
   "execution_count": 1,
   "id": "e785fb0b-ec8e-4ed4-8af7-d87ad2cd6827",
   "metadata": {},
   "outputs": [
    {
     "data": {
      "text/plain": [
       "-0.6339745962155614"
      ]
     },
     "execution_count": 1,
     "metadata": {},
     "output_type": "execute_result"
    }
   ],
   "source": [
    "import math\n",
    "\n",
    "a = 2\n",
    "b = 6\n",
    "c = 3\n",
    "\n",
    "(-b + math.sqrt(b**2 - 4*a*c))/(2*a)"
   ]
  },
  {
   "cell_type": "code",
   "execution_count": 2,
   "id": "ff24207b-98c8-49cc-a5f2-ec1fa15d1475",
   "metadata": {},
   "outputs": [],
   "source": [
    "# convert into a programmer defined function\n",
    "def solveQuadratic(a, b, c) :\n",
    "    return (-b + math.sqrt(b**2 - 4*a*c))/(2*a)"
   ]
  },
  {
   "cell_type": "code",
   "execution_count": 4,
   "id": "8fbb666f-dbb5-4ba5-9088-20eba7c7e400",
   "metadata": {},
   "outputs": [
    {
     "data": {
      "text/plain": [
       "-0.6339745962155614"
      ]
     },
     "execution_count": 4,
     "metadata": {},
     "output_type": "execute_result"
    }
   ],
   "source": [
    "solveQuadratic(2, 6, 3)"
   ]
  },
  {
   "cell_type": "code",
   "execution_count": 5,
   "id": "c25dc8b5-eaef-48e7-ac30-8de03da6f604",
   "metadata": {},
   "outputs": [
    {
     "ename": "ValueError",
     "evalue": "math domain error",
     "output_type": "error",
     "traceback": [
      "\u001b[0;31m---------------------------------------------------------------------------\u001b[0m",
      "\u001b[0;31mValueError\u001b[0m                                Traceback (most recent call last)",
      "Input \u001b[0;32mIn [5]\u001b[0m, in \u001b[0;36m<cell line: 1>\u001b[0;34m()\u001b[0m\n\u001b[0;32m----> 1\u001b[0m \u001b[43msolveQuadratic\u001b[49m\u001b[43m(\u001b[49m\u001b[38;5;241;43m2\u001b[39;49m\u001b[43m,\u001b[49m\u001b[43m \u001b[49m\u001b[38;5;241;43m1\u001b[39;49m\u001b[43m,\u001b[49m\u001b[43m \u001b[49m\u001b[38;5;241;43m3\u001b[39;49m\u001b[43m)\u001b[49m\n",
      "Input \u001b[0;32mIn [2]\u001b[0m, in \u001b[0;36msolveQuadratic\u001b[0;34m(a, b, c)\u001b[0m\n\u001b[1;32m      1\u001b[0m \u001b[38;5;28;01mdef\u001b[39;00m \u001b[38;5;21msolveQuadratic\u001b[39m(a, b, c) :\n\u001b[0;32m----> 2\u001b[0m     \u001b[38;5;28;01mreturn\u001b[39;00m (\u001b[38;5;241m-\u001b[39mb \u001b[38;5;241m+\u001b[39m \u001b[43mmath\u001b[49m\u001b[38;5;241;43m.\u001b[39;49m\u001b[43msqrt\u001b[49m\u001b[43m(\u001b[49m\u001b[43mb\u001b[49m\u001b[38;5;241;43m*\u001b[39;49m\u001b[38;5;241;43m*\u001b[39;49m\u001b[38;5;241;43m2\u001b[39;49m\u001b[43m \u001b[49m\u001b[38;5;241;43m-\u001b[39;49m\u001b[43m \u001b[49m\u001b[38;5;241;43m4\u001b[39;49m\u001b[38;5;241;43m*\u001b[39;49m\u001b[43ma\u001b[49m\u001b[38;5;241;43m*\u001b[39;49m\u001b[43mc\u001b[49m\u001b[43m)\u001b[49m)\u001b[38;5;241m/\u001b[39m(\u001b[38;5;241m2\u001b[39m\u001b[38;5;241m*\u001b[39ma)\n",
      "\u001b[0;31mValueError\u001b[0m: math domain error"
     ]
    }
   ],
   "source": [
    "# fails if discriminant is negative\n",
    "solveQuadratic(2, 1, 3)"
   ]
  },
  {
   "cell_type": "code",
   "execution_count": 7,
   "id": "6c7b8729-5e28-4271-ad71-e2376647d4ce",
   "metadata": {},
   "outputs": [],
   "source": [
    "# use if statement to decide what to do based on value of discriminant\n",
    "def solveQuadratic(a, b, c) :\n",
    "    discriminant = b**2 - 4*a*c\n",
    "    if discriminant < 0 :\n",
    "        print('no roots')\n",
    "    else :\n",
    "        print('root(s) exist')\n",
    "    #return (-b + math.sqrt(b**2 - 4*a*c))/(2*a)"
   ]
  },
  {
   "cell_type": "code",
   "execution_count": 8,
   "id": "543f5d1b-e6e4-4513-b568-7df04fdb75b8",
   "metadata": {},
   "outputs": [
    {
     "name": "stdout",
     "output_type": "stream",
     "text": [
      "root(s) exist\n"
     ]
    }
   ],
   "source": [
    "solveQuadratic(2, 6, 3)"
   ]
  },
  {
   "cell_type": "code",
   "execution_count": 9,
   "id": "3fff637a-335a-451f-9d50-3b34bf28d53b",
   "metadata": {},
   "outputs": [
    {
     "name": "stdout",
     "output_type": "stream",
     "text": [
      "no roots\n"
     ]
    }
   ],
   "source": [
    "solveQuadratic(2, 1, 3)"
   ]
  },
  {
   "cell_type": "code",
   "execution_count": 10,
   "id": "fa2e9524-1bd6-4938-82bf-ce8c09675311",
   "metadata": {},
   "outputs": [],
   "source": [
    "# print the actual roots\n",
    "def solveQuadratic(a, b, c) :\n",
    "    discriminant = b**2 - 4*a*c\n",
    "    if discriminant < 0 :\n",
    "        print('no roots')\n",
    "    else :\n",
    "        print((-b + math.sqrt(b**2 - 4*a*c))/(2*a))\n",
    "        print((-b - math.sqrt(b**2 - 4*a*c))/(2*a))"
   ]
  },
  {
   "cell_type": "code",
   "execution_count": 12,
   "id": "9873fa3a-f5ec-41af-a635-71dba258019c",
   "metadata": {},
   "outputs": [
    {
     "name": "stdout",
     "output_type": "stream",
     "text": [
      "no roots\n"
     ]
    }
   ],
   "source": [
    "solveQuadratic(2, 1, 3)"
   ]
  },
  {
   "cell_type": "code",
   "execution_count": 11,
   "id": "72520835-1574-4b73-b396-958afe30f6a7",
   "metadata": {},
   "outputs": [
    {
     "name": "stdout",
     "output_type": "stream",
     "text": [
      "-0.6339745962155614\n",
      "-2.3660254037844384\n"
     ]
    }
   ],
   "source": [
    "solveQuadratic(2, 6, 3)"
   ]
  },
  {
   "cell_type": "code",
   "execution_count": 13,
   "id": "bfca6271-4d02-4dea-9ecd-f1874abfe802",
   "metadata": {},
   "outputs": [
    {
     "name": "stdout",
     "output_type": "stream",
     "text": [
      "-1.0\n",
      "-1.0\n"
     ]
    }
   ],
   "source": [
    "solveQuadratic(1, 2, 1)"
   ]
  },
  {
   "cell_type": "code",
   "execution_count": 14,
   "id": "870936f1-19fd-4ff5-9ee6-8a9018ca7b85",
   "metadata": {},
   "outputs": [],
   "source": [
    "# Nested if statements to deal with the case where there is just one root\n",
    "def solveQuadratic(a, b, c) :\n",
    "    discriminant = b**2 - 4*a*c\n",
    "    if discriminant < 0 :\n",
    "        print('no roots')\n",
    "    else :\n",
    "        if discriminant == 0 :\n",
    "            print(-b/(2*a))\n",
    "        else :\n",
    "            print((-b + math.sqrt(b**2 - 4*a*c))/(2*a))\n",
    "            print((-b - math.sqrt(b**2 - 4*a*c))/(2*a))"
   ]
  },
  {
   "cell_type": "code",
   "execution_count": 16,
   "id": "77ee8a1e-2cd1-4768-875a-939c406f54f3",
   "metadata": {},
   "outputs": [
    {
     "name": "stdout",
     "output_type": "stream",
     "text": [
      "-0.6339745962155614\n",
      "-2.3660254037844384\n"
     ]
    }
   ],
   "source": [
    "solveQuadratic(2, 6, 3)"
   ]
  },
  {
   "cell_type": "code",
   "execution_count": 15,
   "id": "e10ccc83-7f41-415a-9889-81f1c7436f37",
   "metadata": {},
   "outputs": [
    {
     "name": "stdout",
     "output_type": "stream",
     "text": [
      "-1.0\n"
     ]
    }
   ],
   "source": [
    "solveQuadratic(1, 2, 1)"
   ]
  },
  {
   "cell_type": "code",
   "execution_count": 17,
   "id": "69dfa20d-4a15-4a4c-9f2a-31f7d352cc83",
   "metadata": {},
   "outputs": [
    {
     "name": "stdout",
     "output_type": "stream",
     "text": [
      "no roots\n"
     ]
    }
   ],
   "source": [
    "solveQuadratic(2, 1, 3)"
   ]
  },
  {
   "cell_type": "code",
   "execution_count": 18,
   "id": "7b746a47-de87-462f-b21d-06b9f41df321",
   "metadata": {},
   "outputs": [],
   "source": [
    "# expressed instead using elif (which is short for else if)\n",
    "def solveQuadratic(a, b, c) :\n",
    "    discriminant = b**2 - 4*a*c\n",
    "    if discriminant < 0 :\n",
    "        print('no roots')\n",
    "    elif discriminant == 0 :\n",
    "        print(-b/(2*a))\n",
    "    else :\n",
    "        print((-b + math.sqrt(b**2 - 4*a*c))/(2*a))\n",
    "        print((-b - math.sqrt(b**2 - 4*a*c))/(2*a))"
   ]
  },
  {
   "cell_type": "code",
   "execution_count": 19,
   "id": "bb4d8dc8-65a8-4451-995b-42273d4d3f89",
   "metadata": {},
   "outputs": [
    {
     "name": "stdout",
     "output_type": "stream",
     "text": [
      "-0.6339745962155614\n",
      "-2.3660254037844384\n"
     ]
    }
   ],
   "source": [
    "solveQuadratic(2, 6, 3)"
   ]
  },
  {
   "cell_type": "code",
   "execution_count": 20,
   "id": "5817a330-21a7-49cd-ae39-9b3a5549220d",
   "metadata": {},
   "outputs": [
    {
     "name": "stdout",
     "output_type": "stream",
     "text": [
      "-1.0\n"
     ]
    }
   ],
   "source": [
    "solveQuadratic(1, 2, 1)"
   ]
  },
  {
   "cell_type": "code",
   "execution_count": 21,
   "id": "b6b9c551-297e-477c-aac3-902b77cea3c2",
   "metadata": {},
   "outputs": [
    {
     "name": "stdout",
     "output_type": "stream",
     "text": [
      "no roots\n"
     ]
    }
   ],
   "source": [
    "solveQuadratic(2, 1, 3)"
   ]
  },
  {
   "cell_type": "code",
   "execution_count": null,
   "id": "cd52c16a-0d0b-4d29-ba50-bd855ee84d4b",
   "metadata": {},
   "outputs": [],
   "source": [
    "# We can have as many else if cases as we like ...\n",
    "def solveQuadratic(a, b, c) :\n",
    "    discriminant = b**2 - 4*a*c\n",
    "    if discriminant < 0 :\n",
    "        print('no roots')\n",
    "    elif discriminant == 0 :\n",
    "        print(-b/(2*a))\n",
    "    elif ??? :\n",
    "        print(???)\n",
    "    elif ??? :\n",
    "        print(???)        \n",
    "    else :\n",
    "        print((-b + math.sqrt(b**2 - 4*a*c))/(2*a))\n",
    "        print((-b - math.sqrt(b**2 - 4*a*c))/(2*a))"
   ]
  }
 ],
 "metadata": {
  "kernelspec": {
   "display_name": "Python 3 (ipykernel)",
   "language": "python",
   "name": "python3"
  },
  "language_info": {
   "codemirror_mode": {
    "name": "ipython",
    "version": 3
   },
   "file_extension": ".py",
   "mimetype": "text/x-python",
   "name": "python",
   "nbconvert_exporter": "python",
   "pygments_lexer": "ipython3",
   "version": "3.9.13"
  }
 },
 "nbformat": 4,
 "nbformat_minor": 5
}
