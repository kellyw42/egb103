{
 "cells": [
  {
   "cell_type": "code",
   "execution_count": 1,
   "id": "ab764464-5ae9-45db-a5de-04eb8017bb54",
   "metadata": {},
   "outputs": [],
   "source": [
    "x = [3,45,3,675,-45,6,56]"
   ]
  },
  {
   "cell_type": "code",
   "execution_count": 4,
   "id": "7f1db205-9329-4f62-9efa-b841d050c3ca",
   "metadata": {},
   "outputs": [],
   "source": [
    "# building our own min function\n",
    "def list_min(list) :\n",
    "    min_so_far = list[0]\n",
    "    for element in list :\n",
    "        if element <  min_so_far :\n",
    "            min_so_far = element\n",
    "    return min_so_far"
   ]
  },
  {
   "cell_type": "code",
   "execution_count": 5,
   "id": "a6bb2bbb-7949-4c5f-ba40-f3fc68458c12",
   "metadata": {},
   "outputs": [
    {
     "data": {
      "text/plain": [
       "-45"
      ]
     },
     "execution_count": 5,
     "metadata": {},
     "output_type": "execute_result"
    }
   ],
   "source": [
    "list_min(x)"
   ]
  },
  {
   "cell_type": "code",
   "execution_count": 6,
   "id": "4bf04f6a-5da2-4e3f-b6dc-4f7c9139ba99",
   "metadata": {},
   "outputs": [
    {
     "ename": "ValueError",
     "evalue": "min() arg is an empty sequence",
     "output_type": "error",
     "traceback": [
      "\u001b[0;31m---------------------------------------------------------------------------\u001b[0m",
      "\u001b[0;31mValueError\u001b[0m                                Traceback (most recent call last)",
      "Input \u001b[0;32mIn [6]\u001b[0m, in \u001b[0;36m<cell line: 1>\u001b[0;34m()\u001b[0m\n\u001b[0;32m----> 1\u001b[0m \u001b[38;5;28;43mmin\u001b[39;49m\u001b[43m(\u001b[49m\u001b[43m[\u001b[49m\u001b[43m]\u001b[49m\u001b[43m)\u001b[49m\n",
      "\u001b[0;31mValueError\u001b[0m: min() arg is an empty sequence"
     ]
    }
   ],
   "source": [
    "min([])"
   ]
  },
  {
   "cell_type": "code",
   "execution_count": 7,
   "id": "a260051e-fd9f-473f-a0f0-964ed505e243",
   "metadata": {},
   "outputs": [
    {
     "ename": "IndexError",
     "evalue": "list index out of range",
     "output_type": "error",
     "traceback": [
      "\u001b[0;31m---------------------------------------------------------------------------\u001b[0m",
      "\u001b[0;31mIndexError\u001b[0m                                Traceback (most recent call last)",
      "Input \u001b[0;32mIn [7]\u001b[0m, in \u001b[0;36m<cell line: 1>\u001b[0;34m()\u001b[0m\n\u001b[0;32m----> 1\u001b[0m \u001b[43mlist_min\u001b[49m\u001b[43m(\u001b[49m\u001b[43m[\u001b[49m\u001b[43m]\u001b[49m\u001b[43m)\u001b[49m\n",
      "Input \u001b[0;32mIn [4]\u001b[0m, in \u001b[0;36mlist_min\u001b[0;34m(list)\u001b[0m\n\u001b[1;32m      2\u001b[0m \u001b[38;5;28;01mdef\u001b[39;00m \u001b[38;5;21mlist_min\u001b[39m(\u001b[38;5;28mlist\u001b[39m) :\n\u001b[0;32m----> 3\u001b[0m     min_so_far \u001b[38;5;241m=\u001b[39m \u001b[38;5;28;43mlist\u001b[39;49m\u001b[43m[\u001b[49m\u001b[38;5;241;43m0\u001b[39;49m\u001b[43m]\u001b[49m\n\u001b[1;32m      4\u001b[0m     \u001b[38;5;28;01mfor\u001b[39;00m element \u001b[38;5;129;01min\u001b[39;00m \u001b[38;5;28mlist\u001b[39m :\n\u001b[1;32m      5\u001b[0m         \u001b[38;5;28;01mif\u001b[39;00m element \u001b[38;5;241m<\u001b[39m  min_so_far :\n",
      "\u001b[0;31mIndexError\u001b[0m: list index out of range"
     ]
    }
   ],
   "source": [
    "list_min([])"
   ]
  },
  {
   "cell_type": "code",
   "execution_count": 8,
   "id": "55cafa20-f6d6-4e72-ba31-491caba85780",
   "metadata": {},
   "outputs": [],
   "source": [
    "# building our own min function\n",
    "def list_min(list) :\n",
    "    if len(list) == 0 :\n",
    "        raise ValueError('list is an empty list')\n",
    "        \n",
    "    min_so_far = list[0]\n",
    "    for element in list :\n",
    "        if element <  min_so_far :\n",
    "            min_so_far = element\n",
    "    return min_so_far"
   ]
  },
  {
   "cell_type": "code",
   "execution_count": 9,
   "id": "62827e56-741e-4aa5-860a-084e37c26d1a",
   "metadata": {},
   "outputs": [
    {
     "ename": "ValueError",
     "evalue": "list is an empty list",
     "output_type": "error",
     "traceback": [
      "\u001b[0;31m---------------------------------------------------------------------------\u001b[0m",
      "\u001b[0;31mValueError\u001b[0m                                Traceback (most recent call last)",
      "Input \u001b[0;32mIn [9]\u001b[0m, in \u001b[0;36m<cell line: 1>\u001b[0;34m()\u001b[0m\n\u001b[0;32m----> 1\u001b[0m \u001b[43mlist_min\u001b[49m\u001b[43m(\u001b[49m\u001b[43m[\u001b[49m\u001b[43m]\u001b[49m\u001b[43m)\u001b[49m\n",
      "Input \u001b[0;32mIn [8]\u001b[0m, in \u001b[0;36mlist_min\u001b[0;34m(list)\u001b[0m\n\u001b[1;32m      2\u001b[0m \u001b[38;5;28;01mdef\u001b[39;00m \u001b[38;5;21mlist_min\u001b[39m(\u001b[38;5;28mlist\u001b[39m) :\n\u001b[1;32m      3\u001b[0m     \u001b[38;5;28;01mif\u001b[39;00m \u001b[38;5;28mlen\u001b[39m(\u001b[38;5;28mlist\u001b[39m) \u001b[38;5;241m==\u001b[39m \u001b[38;5;241m0\u001b[39m :\n\u001b[0;32m----> 4\u001b[0m         \u001b[38;5;28;01mraise\u001b[39;00m \u001b[38;5;167;01mValueError\u001b[39;00m(\u001b[38;5;124m'\u001b[39m\u001b[38;5;124mlist is an empty list\u001b[39m\u001b[38;5;124m'\u001b[39m)\n\u001b[1;32m      6\u001b[0m     min_so_far \u001b[38;5;241m=\u001b[39m \u001b[38;5;28mlist\u001b[39m[\u001b[38;5;241m0\u001b[39m]\n\u001b[1;32m      7\u001b[0m     \u001b[38;5;28;01mfor\u001b[39;00m element \u001b[38;5;129;01min\u001b[39;00m \u001b[38;5;28mlist\u001b[39m :\n",
      "\u001b[0;31mValueError\u001b[0m: list is an empty list"
     ]
    }
   ],
   "source": [
    "list_min([])"
   ]
  },
  {
   "cell_type": "code",
   "execution_count": null,
   "id": "2095da39-4785-4c7f-8d86-b344287dec8c",
   "metadata": {},
   "outputs": [],
   "source": []
  }
 ],
 "metadata": {
  "kernelspec": {
   "display_name": "Python 3 (ipykernel)",
   "language": "python",
   "name": "python3"
  },
  "language_info": {
   "codemirror_mode": {
    "name": "ipython",
    "version": 3
   },
   "file_extension": ".py",
   "mimetype": "text/x-python",
   "name": "python",
   "nbconvert_exporter": "python",
   "pygments_lexer": "ipython3",
   "version": "3.9.13"
  }
 },
 "nbformat": 4,
 "nbformat_minor": 5
}
