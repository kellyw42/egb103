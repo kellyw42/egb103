{
 "cells": [
  {
   "cell_type": "code",
   "execution_count": 7,
   "id": "c4f3dc92-5a15-4f1b-b4c4-fcac83a8aff3",
   "metadata": {},
   "outputs": [],
   "source": [
    "x = [3,7.13, 4+4j,True,[3,False]]"
   ]
  },
  {
   "cell_type": "code",
   "execution_count": 8,
   "id": "2bc4de18-5c6a-4061-80bd-2aa8d4c87ec2",
   "metadata": {},
   "outputs": [
    {
     "data": {
      "text/plain": [
       "list"
      ]
     },
     "execution_count": 8,
     "metadata": {},
     "output_type": "execute_result"
    }
   ],
   "source": [
    "type(x)"
   ]
  },
  {
   "cell_type": "code",
   "execution_count": 9,
   "id": "a8534629-392a-4aa4-ac86-10507418d3ac",
   "metadata": {},
   "outputs": [],
   "source": [
    "y = [1,2,3,4,5,6,7,8,9,10]"
   ]
  },
  {
   "cell_type": "code",
   "execution_count": 10,
   "id": "7d4a1ca3-f4f3-4cd2-822b-657d6cf39359",
   "metadata": {},
   "outputs": [],
   "source": [
    "# appending a value by updating a slice\n",
    "y[len(y):] = [99]"
   ]
  },
  {
   "cell_type": "code",
   "execution_count": 11,
   "id": "937ef97d-ae46-48e6-b4d9-39dacf4da18c",
   "metadata": {},
   "outputs": [
    {
     "data": {
      "text/plain": [
       "[1, 2, 3, 4, 5, 6, 7, 8, 9, 10, 99]"
      ]
     },
     "execution_count": 11,
     "metadata": {},
     "output_type": "execute_result"
    }
   ],
   "source": [
    "y"
   ]
  },
  {
   "cell_type": "code",
   "execution_count": 6,
   "id": "07370463-70d1-46f1-ad11-a09deeaa8382",
   "metadata": {},
   "outputs": [],
   "source": [
    "y = [1,2,3,4,5,6,7,8,9,10]"
   ]
  },
  {
   "cell_type": "code",
   "execution_count": 12,
   "id": "18f96722-0d47-4445-a571-c243bb23de08",
   "metadata": {},
   "outputs": [],
   "source": [
    "# append a value by calling the append method\n",
    "y.append(999)"
   ]
  },
  {
   "cell_type": "code",
   "execution_count": 13,
   "id": "9af3a375-0740-4919-b9b2-8c7e7abd7aae",
   "metadata": {},
   "outputs": [
    {
     "data": {
      "text/plain": [
       "[1, 2, 3, 4, 5, 6, 7, 8, 9, 10, 99, 999]"
      ]
     },
     "execution_count": 13,
     "metadata": {},
     "output_type": "execute_result"
    }
   ],
   "source": [
    "y"
   ]
  },
  {
   "cell_type": "code",
   "execution_count": 14,
   "id": "a4611d25-5dda-4aeb-b075-b55c069471fb",
   "metadata": {},
   "outputs": [],
   "source": [
    "y = 4"
   ]
  },
  {
   "cell_type": "code",
   "execution_count": 16,
   "id": "acaacb64-9b41-4f8f-aa07-e7f8aa91cdcd",
   "metadata": {},
   "outputs": [
    {
     "ename": "AttributeError",
     "evalue": "'int' object has no attribute 'append'",
     "output_type": "error",
     "traceback": [
      "\u001b[0;31m---------------------------------------------------------------------------\u001b[0m",
      "\u001b[0;31mAttributeError\u001b[0m                            Traceback (most recent call last)",
      "Input \u001b[0;32mIn [16]\u001b[0m, in \u001b[0;36m<cell line: 2>\u001b[0;34m()\u001b[0m\n\u001b[1;32m      1\u001b[0m \u001b[38;5;66;03m# can't append to an integer value\u001b[39;00m\n\u001b[0;32m----> 2\u001b[0m \u001b[43my\u001b[49m\u001b[38;5;241;43m.\u001b[39;49m\u001b[43mappend\u001b[49m(\u001b[38;5;241m999\u001b[39m)\n",
      "\u001b[0;31mAttributeError\u001b[0m: 'int' object has no attribute 'append'"
     ]
    }
   ],
   "source": [
    "# can't append to an integer value\n",
    "y.append(999)"
   ]
  },
  {
   "cell_type": "markdown",
   "id": "43d87264-dcc9-4832-ab95-1f21e7e8276f",
   "metadata": {},
   "source": [
    "https://docs.python.org/3/tutorial/datastructures.html"
   ]
  },
  {
   "cell_type": "code",
   "execution_count": 18,
   "id": "a20b5f11-bcfa-4a1c-9bc7-fe778d2f201f",
   "metadata": {},
   "outputs": [],
   "source": [
    "y = [1,2,3,4,5,6,7,8,9,10]"
   ]
  },
  {
   "cell_type": "code",
   "execution_count": 19,
   "id": "58dc0335-1ced-48b5-9d0b-8dc938b35970",
   "metadata": {},
   "outputs": [
    {
     "data": {
      "text/plain": [
       "['__add__',\n",
       " '__class__',\n",
       " '__class_getitem__',\n",
       " '__contains__',\n",
       " '__delattr__',\n",
       " '__delitem__',\n",
       " '__dir__',\n",
       " '__doc__',\n",
       " '__eq__',\n",
       " '__format__',\n",
       " '__ge__',\n",
       " '__getattribute__',\n",
       " '__getitem__',\n",
       " '__gt__',\n",
       " '__hash__',\n",
       " '__iadd__',\n",
       " '__imul__',\n",
       " '__init__',\n",
       " '__init_subclass__',\n",
       " '__iter__',\n",
       " '__le__',\n",
       " '__len__',\n",
       " '__lt__',\n",
       " '__mul__',\n",
       " '__ne__',\n",
       " '__new__',\n",
       " '__reduce__',\n",
       " '__reduce_ex__',\n",
       " '__repr__',\n",
       " '__reversed__',\n",
       " '__rmul__',\n",
       " '__setattr__',\n",
       " '__setitem__',\n",
       " '__sizeof__',\n",
       " '__str__',\n",
       " '__subclasshook__',\n",
       " 'append',\n",
       " 'clear',\n",
       " 'copy',\n",
       " 'count',\n",
       " 'extend',\n",
       " 'index',\n",
       " 'insert',\n",
       " 'pop',\n",
       " 'remove',\n",
       " 'reverse',\n",
       " 'sort']"
      ]
     },
     "execution_count": 19,
     "metadata": {},
     "output_type": "execute_result"
    }
   ],
   "source": [
    "# get a list of all properties and methods of an object\n",
    "dir(y)"
   ]
  },
  {
   "cell_type": "code",
   "execution_count": 20,
   "id": "09e965a5-bbde-4287-973d-62f63506ea89",
   "metadata": {},
   "outputs": [
    {
     "name": "stdout",
     "output_type": "stream",
     "text": [
      "Help on built-in function append:\n",
      "\n",
      "append(object, /) method of builtins.list instance\n",
      "    Append object to the end of the list.\n",
      "\n"
     ]
    }
   ],
   "source": [
    "# ask for help about the append method of object y (which happens to be a list in this case)\n",
    "help(y.append)"
   ]
  },
  {
   "cell_type": "code",
   "execution_count": 21,
   "id": "7acf3e76-ff19-4e8b-bd91-66a4f586901e",
   "metadata": {},
   "outputs": [
    {
     "name": "stdout",
     "output_type": "stream",
     "text": [
      "Help on built-in function clear:\n",
      "\n",
      "clear() method of builtins.list instance\n",
      "    Remove all items from list.\n",
      "\n"
     ]
    }
   ],
   "source": [
    "help(y.clear)"
   ]
  },
  {
   "cell_type": "code",
   "execution_count": 22,
   "id": "2b9df3f1-869a-41b3-a4a1-b0c3fdd4ce06",
   "metadata": {},
   "outputs": [],
   "source": [
    "# calling the clear method doesn't return a value, but changes the list\n",
    "y.clear()"
   ]
  },
  {
   "cell_type": "code",
   "execution_count": 23,
   "id": "c1c38741-7a92-4bb7-814a-daf1cf0f378e",
   "metadata": {},
   "outputs": [
    {
     "data": {
      "text/plain": [
       "[]"
      ]
     },
     "execution_count": 23,
     "metadata": {},
     "output_type": "execute_result"
    }
   ],
   "source": [
    "y"
   ]
  },
  {
   "cell_type": "code",
   "execution_count": 24,
   "id": "9585172d-a4be-4df6-8425-2fc0e7875777",
   "metadata": {},
   "outputs": [
    {
     "name": "stdout",
     "output_type": "stream",
     "text": [
      "Help on built-in function copy:\n",
      "\n",
      "copy() method of builtins.list instance\n",
      "    Return a shallow copy of the list.\n",
      "\n"
     ]
    }
   ],
   "source": [
    "help(y.copy)"
   ]
  },
  {
   "cell_type": "code",
   "execution_count": 25,
   "id": "374c2e51-bea1-4be5-88ec-1718fa393a51",
   "metadata": {},
   "outputs": [
    {
     "data": {
      "text/plain": [
       "[]"
      ]
     },
     "execution_count": 25,
     "metadata": {},
     "output_type": "execute_result"
    }
   ],
   "source": [
    "y.copy()"
   ]
  },
  {
   "cell_type": "code",
   "execution_count": 26,
   "id": "45901b12-c166-4a01-aab3-3409644d15e7",
   "metadata": {},
   "outputs": [],
   "source": [
    "y = [1,2,3]"
   ]
  },
  {
   "cell_type": "code",
   "execution_count": 27,
   "id": "82b194b4-2a1e-4300-853f-67d2608cd874",
   "metadata": {},
   "outputs": [
    {
     "data": {
      "text/plain": [
       "[1, 2, 3]"
      ]
     },
     "execution_count": 27,
     "metadata": {},
     "output_type": "execute_result"
    }
   ],
   "source": [
    "y.copy()"
   ]
  },
  {
   "cell_type": "code",
   "execution_count": 28,
   "id": "06e0e10d-abbf-4ca2-b804-f70a9b94af4b",
   "metadata": {},
   "outputs": [
    {
     "name": "stdout",
     "output_type": "stream",
     "text": [
      "Help on built-in function count:\n",
      "\n",
      "count(value, /) method of builtins.list instance\n",
      "    Return number of occurrences of value.\n",
      "\n"
     ]
    }
   ],
   "source": [
    "help(y.count)"
   ]
  },
  {
   "cell_type": "code",
   "execution_count": 29,
   "id": "b3a77555-de34-4581-a107-b32b64221a5a",
   "metadata": {},
   "outputs": [
    {
     "data": {
      "text/plain": [
       "1"
      ]
     },
     "execution_count": 29,
     "metadata": {},
     "output_type": "execute_result"
    }
   ],
   "source": [
    "# how many times does the value 2 appear in the list y?\n",
    "y.count(2)"
   ]
  },
  {
   "cell_type": "code",
   "execution_count": 30,
   "id": "153bdc15-f2d7-4cd6-a91d-db7d4708f705",
   "metadata": {},
   "outputs": [
    {
     "data": {
      "text/plain": [
       "0"
      ]
     },
     "execution_count": 30,
     "metadata": {},
     "output_type": "execute_result"
    }
   ],
   "source": [
    "# how many times does the value 4 appear in the list y?\n",
    "y.count(4)"
   ]
  },
  {
   "cell_type": "code",
   "execution_count": 31,
   "id": "99c4a100-a7c0-4545-87b6-ca2d6ee2aa30",
   "metadata": {},
   "outputs": [],
   "source": [
    "y = [1,2,3,2]"
   ]
  },
  {
   "cell_type": "code",
   "execution_count": 32,
   "id": "1029c1fa-96fc-4776-82ac-d3828918daca",
   "metadata": {},
   "outputs": [
    {
     "data": {
      "text/plain": [
       "2"
      ]
     },
     "execution_count": 32,
     "metadata": {},
     "output_type": "execute_result"
    }
   ],
   "source": [
    "y.count(2)"
   ]
  },
  {
   "cell_type": "code",
   "execution_count": 33,
   "id": "99c0560b-c35b-402d-b060-257e0b47fbc5",
   "metadata": {},
   "outputs": [
    {
     "name": "stdout",
     "output_type": "stream",
     "text": [
      "Help on built-in function extend:\n",
      "\n",
      "extend(iterable, /) method of builtins.list instance\n",
      "    Extend list by appending elements from the iterable.\n",
      "\n"
     ]
    }
   ],
   "source": [
    "help(y.extend)"
   ]
  },
  {
   "cell_type": "code",
   "execution_count": 34,
   "id": "7cfede60-500f-499c-b6fb-a91dc2e077eb",
   "metadata": {},
   "outputs": [
    {
     "ename": "TypeError",
     "evalue": "'int' object is not iterable",
     "output_type": "error",
     "traceback": [
      "\u001b[0;31m---------------------------------------------------------------------------\u001b[0m",
      "\u001b[0;31mTypeError\u001b[0m                                 Traceback (most recent call last)",
      "Input \u001b[0;32mIn [34]\u001b[0m, in \u001b[0;36m<cell line: 1>\u001b[0;34m()\u001b[0m\n\u001b[0;32m----> 1\u001b[0m \u001b[43my\u001b[49m\u001b[38;5;241;43m.\u001b[39;49m\u001b[43mextend\u001b[49m\u001b[43m(\u001b[49m\u001b[38;5;241;43m4\u001b[39;49m\u001b[43m)\u001b[49m\n",
      "\u001b[0;31mTypeError\u001b[0m: 'int' object is not iterable"
     ]
    }
   ],
   "source": [
    "# can't extend a list with just a number, it needs to be a list\n",
    "y.extend(4)"
   ]
  },
  {
   "cell_type": "code",
   "execution_count": 36,
   "id": "8575b449-9d88-4ab7-8d5e-090bb20c173b",
   "metadata": {},
   "outputs": [],
   "source": [
    "# append the values 6, 7 and 8 to the list y\n",
    "y.extend([6,7,8])"
   ]
  },
  {
   "cell_type": "code",
   "execution_count": 37,
   "id": "1a38f9af-f8c4-4395-8e8a-9f3f90a05a70",
   "metadata": {},
   "outputs": [
    {
     "data": {
      "text/plain": [
       "[1, 2, 3, 2, 6, 7, 8]"
      ]
     },
     "execution_count": 37,
     "metadata": {},
     "output_type": "execute_result"
    }
   ],
   "source": [
    "y"
   ]
  },
  {
   "cell_type": "code",
   "execution_count": 38,
   "id": "2948d49e-61f4-410f-9855-77f88e0d04de",
   "metadata": {},
   "outputs": [],
   "source": [
    "# extend is different to append as append adds only one element to the list (which in this example is a list value)\n",
    "y.append([6,7,8])"
   ]
  },
  {
   "cell_type": "code",
   "execution_count": 39,
   "id": "1a81db3a-4a43-49af-9907-b065ad506622",
   "metadata": {},
   "outputs": [
    {
     "data": {
      "text/plain": [
       "[1, 2, 3, 2, 6, 7, 8, [6, 7, 8]]"
      ]
     },
     "execution_count": 39,
     "metadata": {},
     "output_type": "execute_result"
    }
   ],
   "source": [
    "y"
   ]
  },
  {
   "cell_type": "code",
   "execution_count": 40,
   "id": "6fb44998-8618-452d-9216-73458bfee88c",
   "metadata": {},
   "outputs": [
    {
     "name": "stdout",
     "output_type": "stream",
     "text": [
      "Help on built-in function index:\n",
      "\n",
      "index(value, start=0, stop=9223372036854775807, /) method of builtins.list instance\n",
      "    Return first index of value.\n",
      "    \n",
      "    Raises ValueError if the value is not present.\n",
      "\n"
     ]
    }
   ],
   "source": [
    "help(y.index)"
   ]
  },
  {
   "cell_type": "code",
   "execution_count": 41,
   "id": "006830ed-1cb4-4be8-8401-e4963b2d78f2",
   "metadata": {},
   "outputs": [
    {
     "ename": "ValueError",
     "evalue": "999 is not in list",
     "output_type": "error",
     "traceback": [
      "\u001b[0;31m---------------------------------------------------------------------------\u001b[0m",
      "\u001b[0;31mValueError\u001b[0m                                Traceback (most recent call last)",
      "Input \u001b[0;32mIn [41]\u001b[0m, in \u001b[0;36m<cell line: 1>\u001b[0;34m()\u001b[0m\n\u001b[0;32m----> 1\u001b[0m \u001b[43my\u001b[49m\u001b[38;5;241;43m.\u001b[39;49m\u001b[43mindex\u001b[49m\u001b[43m(\u001b[49m\u001b[38;5;241;43m999\u001b[39;49m\u001b[43m)\u001b[49m\n",
      "\u001b[0;31mValueError\u001b[0m: 999 is not in list"
     ]
    }
   ],
   "source": [
    "y.index(999)"
   ]
  },
  {
   "cell_type": "code",
   "execution_count": 42,
   "id": "c7d79cd5-eb8d-42c0-8c6e-dadcb8be3b00",
   "metadata": {},
   "outputs": [],
   "source": [
    "y = [1,2,3,4,5,6,7,8,9,10,999]"
   ]
  },
  {
   "cell_type": "code",
   "execution_count": 43,
   "id": "1c104458-4d53-4387-97ab-3ba12143f6e0",
   "metadata": {},
   "outputs": [
    {
     "data": {
      "text/plain": [
       "10"
      ]
     },
     "execution_count": 43,
     "metadata": {},
     "output_type": "execute_result"
    }
   ],
   "source": [
    "y.index(999)"
   ]
  },
  {
   "cell_type": "code",
   "execution_count": 44,
   "id": "37579255-0e49-4046-8974-40d90e953b1c",
   "metadata": {},
   "outputs": [
    {
     "data": {
      "text/plain": [
       "4"
      ]
     },
     "execution_count": 44,
     "metadata": {},
     "output_type": "execute_result"
    }
   ],
   "source": [
    "y.index(5)"
   ]
  },
  {
   "cell_type": "code",
   "execution_count": 45,
   "id": "16195640-b933-4764-82fc-49f6863b9c1e",
   "metadata": {},
   "outputs": [
    {
     "data": {
      "text/plain": [
       "0"
      ]
     },
     "execution_count": 45,
     "metadata": {},
     "output_type": "execute_result"
    }
   ],
   "source": [
    "y.index(1)"
   ]
  },
  {
   "cell_type": "code",
   "execution_count": 46,
   "id": "12046160-4ed9-4df2-94f0-d21bb243f894",
   "metadata": {},
   "outputs": [],
   "source": [
    "y = [1,2,3,4,5,6,7,4,8,9,10,999]"
   ]
  },
  {
   "cell_type": "code",
   "execution_count": 47,
   "id": "ec864339-ed0a-4bf6-8e83-fcd7216eb4d6",
   "metadata": {},
   "outputs": [
    {
     "data": {
      "text/plain": [
       "3"
      ]
     },
     "execution_count": 47,
     "metadata": {},
     "output_type": "execute_result"
    }
   ],
   "source": [
    "y.index(4)"
   ]
  },
  {
   "cell_type": "code",
   "execution_count": 48,
   "id": "f2466b79-c0fb-4067-b9ee-7fd72ae01435",
   "metadata": {},
   "outputs": [
    {
     "ename": "ValueError",
     "evalue": "44 is not in list",
     "output_type": "error",
     "traceback": [
      "\u001b[0;31m---------------------------------------------------------------------------\u001b[0m",
      "\u001b[0;31mValueError\u001b[0m                                Traceback (most recent call last)",
      "Input \u001b[0;32mIn [48]\u001b[0m, in \u001b[0;36m<cell line: 1>\u001b[0;34m()\u001b[0m\n\u001b[0;32m----> 1\u001b[0m \u001b[43my\u001b[49m\u001b[38;5;241;43m.\u001b[39;49m\u001b[43mindex\u001b[49m\u001b[43m(\u001b[49m\u001b[38;5;241;43m44\u001b[39;49m\u001b[43m)\u001b[49m\n",
      "\u001b[0;31mValueError\u001b[0m: 44 is not in list"
     ]
    }
   ],
   "source": [
    "y.index(44)"
   ]
  },
  {
   "cell_type": "code",
   "execution_count": 49,
   "id": "5aa9490e-4371-4ff7-aad0-32da2eae9bff",
   "metadata": {},
   "outputs": [
    {
     "name": "stdout",
     "output_type": "stream",
     "text": [
      "Help on built-in function insert:\n",
      "\n",
      "insert(index, object, /) method of builtins.list instance\n",
      "    Insert object before index.\n",
      "\n"
     ]
    }
   ],
   "source": [
    "help(y.insert)"
   ]
  },
  {
   "cell_type": "code",
   "execution_count": 74,
   "id": "0d730ac6-117e-4d49-b54f-aa8212d746dd",
   "metadata": {},
   "outputs": [],
   "source": [
    "y = [1,2,3,4,5,6,7,8,9,10,999]"
   ]
  },
  {
   "cell_type": "code",
   "execution_count": 75,
   "id": "1c61a372-a300-4bc4-b464-647e99cf80fd",
   "metadata": {},
   "outputs": [],
   "source": [
    "# insert the value True at position 4\n",
    "y.insert(4, True)"
   ]
  },
  {
   "cell_type": "code",
   "execution_count": 76,
   "id": "56f3b047-483f-4f49-8a9d-baf727d64798",
   "metadata": {},
   "outputs": [
    {
     "data": {
      "text/plain": [
       "[1, 2, 3, 4, True, 5, 6, 7, 8, 9, 10, 999]"
      ]
     },
     "execution_count": 76,
     "metadata": {},
     "output_type": "execute_result"
    }
   ],
   "source": [
    "y"
   ]
  },
  {
   "cell_type": "code",
   "execution_count": 77,
   "id": "8c4ea706-7e7a-45f3-b286-9e10d8c557c7",
   "metadata": {},
   "outputs": [],
   "source": [
    "# What if we got the parameters around the wrong way?\n",
    "# The first parameter True (equivalent to 1) is treated as the position and the second parameter is treated as the value\n",
    "y.insert(True,4)"
   ]
  },
  {
   "cell_type": "code",
   "execution_count": 78,
   "id": "01654b1d-65ce-4161-8ff7-0ee455480559",
   "metadata": {},
   "outputs": [
    {
     "data": {
      "text/plain": [
       "[1, 4, 2, 3, 4, True, 5, 6, 7, 8, 9, 10, 999]"
      ]
     },
     "execution_count": 78,
     "metadata": {},
     "output_type": "execute_result"
    }
   ],
   "source": [
    "y"
   ]
  },
  {
   "cell_type": "code",
   "execution_count": 59,
   "id": "2d9396c3-974a-40d5-bf7a-5573f7e65095",
   "metadata": {},
   "outputs": [
    {
     "data": {
      "text/plain": [
       "999"
      ]
     },
     "execution_count": 59,
     "metadata": {},
     "output_type": "execute_result"
    }
   ],
   "source": [
    "# remove and return the last element of the list\n",
    "y.pop()"
   ]
  },
  {
   "cell_type": "code",
   "execution_count": 60,
   "id": "cef6642c-c6a5-4714-a79a-342511fd8bee",
   "metadata": {},
   "outputs": [
    {
     "data": {
      "text/plain": [
       "[1, 4, 2, 3, 4, True, 5, 6, 7, 8, 9, 10]"
      ]
     },
     "execution_count": 60,
     "metadata": {},
     "output_type": "execute_result"
    }
   ],
   "source": [
    "y"
   ]
  },
  {
   "cell_type": "code",
   "execution_count": 61,
   "id": "43efadc4-ba73-4689-918a-2c6b3da257fc",
   "metadata": {},
   "outputs": [
    {
     "data": {
      "text/plain": [
       "10"
      ]
     },
     "execution_count": 61,
     "metadata": {},
     "output_type": "execute_result"
    }
   ],
   "source": [
    "# remove and return the new last element of the list\n",
    "y.pop()"
   ]
  },
  {
   "cell_type": "code",
   "execution_count": 62,
   "id": "8b56a7bb-c714-4dce-af3b-b44837f04bba",
   "metadata": {},
   "outputs": [
    {
     "data": {
      "text/plain": [
       "[1, 4, 2, 3, 4, True, 5, 6, 7, 8, 9]"
      ]
     },
     "execution_count": 62,
     "metadata": {},
     "output_type": "execute_result"
    }
   ],
   "source": [
    "y"
   ]
  },
  {
   "cell_type": "code",
   "execution_count": 63,
   "id": "6fe14263-efcd-40be-a134-6776d2b8e0ec",
   "metadata": {},
   "outputs": [],
   "source": [
    "# remove the value 7 from the list\n",
    "y.remove(7)"
   ]
  },
  {
   "cell_type": "code",
   "execution_count": 64,
   "id": "6a989db4-f2a3-4640-ba2c-621fdfcf38c5",
   "metadata": {},
   "outputs": [
    {
     "data": {
      "text/plain": [
       "[1, 4, 2, 3, 4, True, 5, 6, 8, 9]"
      ]
     },
     "execution_count": 64,
     "metadata": {},
     "output_type": "execute_result"
    }
   ],
   "source": [
    "y"
   ]
  },
  {
   "cell_type": "code",
   "execution_count": 65,
   "id": "4cbc7a8d-ba63-4790-b8df-8319dc0ec09e",
   "metadata": {},
   "outputs": [
    {
     "ename": "ValueError",
     "evalue": "list.remove(x): x not in list",
     "output_type": "error",
     "traceback": [
      "\u001b[0;31m---------------------------------------------------------------------------\u001b[0m",
      "\u001b[0;31mValueError\u001b[0m                                Traceback (most recent call last)",
      "Input \u001b[0;32mIn [65]\u001b[0m, in \u001b[0;36m<cell line: 1>\u001b[0;34m()\u001b[0m\n\u001b[0;32m----> 1\u001b[0m \u001b[43my\u001b[49m\u001b[38;5;241;43m.\u001b[39;49m\u001b[43mremove\u001b[49m\u001b[43m(\u001b[49m\u001b[38;5;241;43m77\u001b[39;49m\u001b[43m)\u001b[49m\n",
      "\u001b[0;31mValueError\u001b[0m: list.remove(x): x not in list"
     ]
    }
   ],
   "source": [
    "# the value being removed needs to exist in the list\n",
    "y.remove(77)"
   ]
  },
  {
   "cell_type": "code",
   "execution_count": 66,
   "id": "81bc1835-9ab2-4c79-bc49-d78e686bab87",
   "metadata": {},
   "outputs": [],
   "source": [
    "y = [1,2,3,4,5,6,7,8,9,10,999]"
   ]
  },
  {
   "cell_type": "code",
   "execution_count": 67,
   "id": "5ae9c3b5-2cb7-444b-bf38-45ae4092adea",
   "metadata": {},
   "outputs": [],
   "source": [
    "# the reverse method doesn't return a value, but alters the order of the elements in the list\n",
    "y.reverse()"
   ]
  },
  {
   "cell_type": "code",
   "execution_count": 68,
   "id": "853327ed-9281-42a0-99d6-9f0819a84691",
   "metadata": {},
   "outputs": [
    {
     "data": {
      "text/plain": [
       "[999, 10, 9, 8, 7, 6, 5, 4, 3, 2, 1]"
      ]
     },
     "execution_count": 68,
     "metadata": {},
     "output_type": "execute_result"
    }
   ],
   "source": [
    "y"
   ]
  },
  {
   "cell_type": "code",
   "execution_count": 69,
   "id": "67338cce-b006-4a43-ab68-e1cc9c956c77",
   "metadata": {},
   "outputs": [],
   "source": [
    "# similarly, the sort method doesn't return a value, but alters the order of the elements in the list\n",
    "y.sort()"
   ]
  },
  {
   "cell_type": "code",
   "execution_count": 70,
   "id": "0d76fab7-9fc7-45b5-aa15-c099e02c9575",
   "metadata": {},
   "outputs": [
    {
     "data": {
      "text/plain": [
       "[1, 2, 3, 4, 5, 6, 7, 8, 9, 10, 999]"
      ]
     },
     "execution_count": 70,
     "metadata": {},
     "output_type": "execute_result"
    }
   ],
   "source": [
    "y"
   ]
  },
  {
   "cell_type": "code",
   "execution_count": 71,
   "id": "74f5be40-2ca8-4eac-93bb-da8a090520cb",
   "metadata": {},
   "outputs": [],
   "source": [
    "y = [1,24,3,4,55,6,7,4,8,9,10,999]"
   ]
  },
  {
   "cell_type": "code",
   "execution_count": 72,
   "id": "c3f5bd79-8cef-483d-a262-8d9686ec2937",
   "metadata": {},
   "outputs": [],
   "source": [
    "y.sort()"
   ]
  },
  {
   "cell_type": "code",
   "execution_count": 73,
   "id": "621ec232-b7fd-44a6-86fd-9bc98b61ee2d",
   "metadata": {},
   "outputs": [
    {
     "data": {
      "text/plain": [
       "[1, 3, 4, 4, 6, 7, 8, 9, 10, 24, 55, 999]"
      ]
     },
     "execution_count": 73,
     "metadata": {},
     "output_type": "execute_result"
    }
   ],
   "source": [
    "y"
   ]
  },
  {
   "cell_type": "code",
   "execution_count": null,
   "id": "3769c5f1-bf00-4e31-84cc-e412b28e7b71",
   "metadata": {},
   "outputs": [],
   "source": [
    "# try creating some examples of your own!"
   ]
  }
 ],
 "metadata": {
  "kernelspec": {
   "display_name": "Python 3 (ipykernel)",
   "language": "python",
   "name": "python3"
  },
  "language_info": {
   "codemirror_mode": {
    "name": "ipython",
    "version": 3
   },
   "file_extension": ".py",
   "mimetype": "text/x-python",
   "name": "python",
   "nbconvert_exporter": "python",
   "pygments_lexer": "ipython3",
   "version": "3.9.13"
  }
 },
 "nbformat": 4,
 "nbformat_minor": 5
}
