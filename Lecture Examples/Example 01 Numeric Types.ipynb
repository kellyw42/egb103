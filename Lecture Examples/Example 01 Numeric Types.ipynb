{
 "cells": [
  {
   "cell_type": "code",
   "execution_count": 25,
   "id": "939b4d0a-351c-478e-a75d-a3d3adec186d",
   "metadata": {},
   "outputs": [
    {
     "data": {
      "text/plain": [
       "int"
      ]
     },
     "execution_count": 25,
     "metadata": {},
     "output_type": "execute_result"
    }
   ],
   "source": [
    "# get the type of a value\n",
    "type(2)"
   ]
  },
  {
   "cell_type": "code",
   "execution_count": 26,
   "id": "591f881b-285a-4806-b478-6047fa461d77",
   "metadata": {},
   "outputs": [
    {
     "data": {
      "text/plain": [
       "int"
      ]
     },
     "execution_count": 26,
     "metadata": {},
     "output_type": "execute_result"
    }
   ],
   "source": [
    "# get the type of an expression\n",
    "type(2+3)"
   ]
  },
  {
   "cell_type": "code",
   "execution_count": 27,
   "id": "3c780d4f-51d3-4638-bde4-923b7b234b54",
   "metadata": {},
   "outputs": [
    {
     "data": {
      "text/plain": [
       "float"
      ]
     },
     "execution_count": 27,
     "metadata": {},
     "output_type": "execute_result"
    }
   ],
   "source": [
    "# get the type of a floating point value\n",
    "type(2.3)"
   ]
  },
  {
   "cell_type": "code",
   "execution_count": 28,
   "id": "270e4731-6e5a-4be6-8869-d0eaafaecee9",
   "metadata": {},
   "outputs": [
    {
     "data": {
      "text/plain": [
       "float"
      ]
     },
     "execution_count": 28,
     "metadata": {},
     "output_type": "execute_result"
    }
   ],
   "source": [
    "# even if the decimal place is zero, it is still a floating point value\n",
    "type(2.0)"
   ]
  },
  {
   "cell_type": "code",
   "execution_count": 29,
   "id": "bfe74cf2-e92d-43bb-959e-4095a3acb726",
   "metadata": {},
   "outputs": [
    {
     "data": {
      "text/plain": [
       "float"
      ]
     },
     "execution_count": 29,
     "metadata": {},
     "output_type": "execute_result"
    }
   ],
   "source": [
    "type(0.2)"
   ]
  },
  {
   "cell_type": "code",
   "execution_count": 30,
   "id": "24dbc843-9754-4d02-af73-28f1e5308343",
   "metadata": {},
   "outputs": [
    {
     "data": {
      "text/plain": [
       "float"
      ]
     },
     "execution_count": 30,
     "metadata": {},
     "output_type": "execute_result"
    }
   ],
   "source": [
    "# don't need a leading zero for a floating point value\n",
    "type(.2)"
   ]
  },
  {
   "cell_type": "code",
   "execution_count": 31,
   "id": "32493d68-f8e4-4196-9cbe-9d1efa77b949",
   "metadata": {},
   "outputs": [
    {
     "data": {
      "text/plain": [
       "int"
      ]
     },
     "execution_count": 31,
     "metadata": {},
     "output_type": "execute_result"
    }
   ],
   "source": [
    "# numbers can be positive or negative\n",
    "type(-324432)"
   ]
  },
  {
   "cell_type": "code",
   "execution_count": 32,
   "id": "65ac656d-1d4c-4710-a200-c59339e8db73",
   "metadata": {},
   "outputs": [
    {
     "data": {
      "text/plain": [
       "float"
      ]
     },
     "execution_count": 32,
     "metadata": {},
     "output_type": "execute_result"
    }
   ],
   "source": [
    "# if written in scientific value it treated as a floating point value\n",
    "type(2.4e-5)"
   ]
  },
  {
   "cell_type": "code",
   "execution_count": 33,
   "id": "2e133067-1340-4635-afe6-ea4a1311d0e7",
   "metadata": {},
   "outputs": [
    {
     "data": {
      "text/plain": [
       "float"
      ]
     },
     "execution_count": 33,
     "metadata": {},
     "output_type": "execute_result"
    }
   ],
   "source": [
    "# still floating point even if fractional part is zero\n",
    "type(2e-5)"
   ]
  },
  {
   "cell_type": "code",
   "execution_count": 34,
   "id": "4e95ec08-b5b8-4901-87c3-8f8c4ca25756",
   "metadata": {},
   "outputs": [
    {
     "data": {
      "text/plain": [
       "float"
      ]
     },
     "execution_count": 34,
     "metadata": {},
     "output_type": "execute_result"
    }
   ],
   "source": [
    "# or with a positive  exponent\n",
    "type(2e5)"
   ]
  },
  {
   "cell_type": "code",
   "execution_count": 35,
   "id": "e61f32d5-53f4-4119-bdbf-cfffed005e50",
   "metadata": {},
   "outputs": [
    {
     "data": {
      "text/plain": [
       "(-3.2670000000000003+15.705j)"
      ]
     },
     "execution_count": 35,
     "metadata": {},
     "output_type": "execute_result"
    }
   ],
   "source": [
    "# calculations involving complex numbers (where j is sqrt(-1)) \n",
    "(2.34 + 4.5j) * (2.45 + 2j)"
   ]
  },
  {
   "cell_type": "code",
   "execution_count": 36,
   "id": "25828a69-86c0-4d08-9d5d-479e7adf1b34",
   "metadata": {},
   "outputs": [
    {
     "data": {
      "text/plain": [
       "(4.79+6.5j)"
      ]
     },
     "execution_count": 36,
     "metadata": {},
     "output_type": "execute_result"
    }
   ],
   "source": [
    "# can add and multiply complex numbers\n",
    "(2.34 + 4.5j) + (2.45 + 2j)"
   ]
  },
  {
   "cell_type": "code",
   "execution_count": 37,
   "id": "4228de31-3e94-46a1-894f-463bebd2351a",
   "metadata": {},
   "outputs": [
    {
     "data": {
      "text/plain": [
       "complex"
      ]
     },
     "execution_count": 37,
     "metadata": {},
     "output_type": "execute_result"
    }
   ],
   "source": [
    "# get the type of a complex number\n",
    "type((2.34 + 4.5j) + (2.45 + 2j))"
   ]
  },
  {
   "cell_type": "code",
   "execution_count": 38,
   "id": "e18f2897-1b4d-440a-b97b-cafbcaa7fc25",
   "metadata": {},
   "outputs": [
    {
     "data": {
      "text/plain": [
       "complex"
      ]
     },
     "execution_count": 38,
     "metadata": {},
     "output_type": "execute_result"
    }
   ],
   "source": [
    "# is complex even if the coefficient of the imaginary part is zero\n",
    "type(2.34+0j)"
   ]
  },
  {
   "cell_type": "code",
   "execution_count": 39,
   "id": "6a7252ae-64b0-471f-b21e-7c740caf1551",
   "metadata": {},
   "outputs": [
    {
     "data": {
      "text/plain": [
       "int"
      ]
     },
     "execution_count": 39,
     "metadata": {},
     "output_type": "execute_result"
    }
   ],
   "source": [
    "type(1+3)"
   ]
  },
  {
   "cell_type": "code",
   "execution_count": 40,
   "id": "98957820-7ef4-468e-8e38-b13a1f7d4ea6",
   "metadata": {},
   "outputs": [
    {
     "data": {
      "text/plain": [
       "int"
      ]
     },
     "execution_count": 40,
     "metadata": {},
     "output_type": "execute_result"
    }
   ],
   "source": [
    "# adding and multiplying integers produce an integer value\n",
    "type(3*4)"
   ]
  },
  {
   "cell_type": "code",
   "execution_count": 41,
   "id": "85d0f8ef-7c5f-49fa-9b5f-857aeeea5cea",
   "metadata": {},
   "outputs": [
    {
     "data": {
      "text/plain": [
       "float"
      ]
     },
     "execution_count": 41,
     "metadata": {},
     "output_type": "execute_result"
    }
   ],
   "source": [
    "# but dividing two integers always produces a floating point value\n",
    "type(3/4)"
   ]
  },
  {
   "cell_type": "code",
   "execution_count": 42,
   "id": "5dcc09da-c87d-47b0-b10a-867773b2d719",
   "metadata": {},
   "outputs": [
    {
     "data": {
      "text/plain": [
       "float"
      ]
     },
     "execution_count": 42,
     "metadata": {},
     "output_type": "execute_result"
    }
   ],
   "source": [
    "# division produces an floating point value even if there is no fractional part\n",
    "type(4/2)"
   ]
  },
  {
   "cell_type": "code",
   "execution_count": 43,
   "id": "b17783f0-4f40-4883-a718-273211728161",
   "metadata": {},
   "outputs": [
    {
     "data": {
      "text/plain": [
       "float"
      ]
     },
     "execution_count": 43,
     "metadata": {},
     "output_type": "execute_result"
    }
   ],
   "source": [
    "type(2.0)"
   ]
  },
  {
   "cell_type": "code",
   "execution_count": 44,
   "id": "9bed6d80-6774-45a8-b3bf-00ee995ac0dc",
   "metadata": {},
   "outputs": [
    {
     "data": {
      "text/plain": [
       "int"
      ]
     },
     "execution_count": 44,
     "metadata": {},
     "output_type": "execute_result"
    }
   ],
   "source": [
    "# 2.0 has a different type to 2\n",
    "type(2)"
   ]
  },
  {
   "cell_type": "code",
   "execution_count": 45,
   "id": "2ecc19d3-728e-4b46-be6d-2730a614c745",
   "metadata": {},
   "outputs": [
    {
     "data": {
      "text/plain": [
       "float"
      ]
     },
     "execution_count": 45,
     "metadata": {},
     "output_type": "execute_result"
    }
   ],
   "source": [
    "type(4.2 * 2)"
   ]
  },
  {
   "cell_type": "code",
   "execution_count": 46,
   "id": "cdd16a91-1c72-49f2-a9eb-5d410ca5cead",
   "metadata": {},
   "outputs": [
    {
     "data": {
      "text/plain": [
       "float"
      ]
     },
     "execution_count": 46,
     "metadata": {},
     "output_type": "execute_result"
    }
   ],
   "source": [
    "# is float even if the fractional part is zero\n",
    "type(4. + 2)"
   ]
  },
  {
   "cell_type": "code",
   "execution_count": 47,
   "id": "9c8c2768-a6f8-40c6-a4c3-d522d2a06851",
   "metadata": {},
   "outputs": [
    {
     "data": {
      "text/plain": [
       "complex"
      ]
     },
     "execution_count": 47,
     "metadata": {},
     "output_type": "execute_result"
    }
   ],
   "source": [
    "# is complex even if the imaginary part is zero\n",
    "type((4+0j) + 2)"
   ]
  }
 ],
 "metadata": {
  "kernelspec": {
   "display_name": "Python 3 (ipykernel)",
   "language": "python",
   "name": "python3"
  },
  "language_info": {
   "codemirror_mode": {
    "name": "ipython",
    "version": 3
   },
   "file_extension": ".py",
   "mimetype": "text/x-python",
   "name": "python",
   "nbconvert_exporter": "python",
   "pygments_lexer": "ipython3",
   "version": "3.9.13"
  }
 },
 "nbformat": 4,
 "nbformat_minor": 5
}
