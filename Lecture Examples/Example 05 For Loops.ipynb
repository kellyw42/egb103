{
 "cells": [
  {
   "cell_type": "code",
   "execution_count": 1,
   "id": "6a8c0fac-113e-40f1-b24c-95de2734edad",
   "metadata": {},
   "outputs": [],
   "source": [
    "x = [3,45,3,675,-45]"
   ]
  },
  {
   "cell_type": "code",
   "execution_count": 2,
   "id": "85814fd0-3396-4947-99fd-04c402678b8b",
   "metadata": {},
   "outputs": [
    {
     "data": {
      "text/plain": [
       "681"
      ]
     },
     "execution_count": 2,
     "metadata": {},
     "output_type": "execute_result"
    }
   ],
   "source": [
    "# summing all the elements in the list\n",
    "x[0] + x[1] + x[2] + x[3] + x[4]"
   ]
  },
  {
   "cell_type": "code",
   "execution_count": 3,
   "id": "7af6786c-77e0-4297-abed-bc2acc0d7372",
   "metadata": {},
   "outputs": [],
   "source": [
    "# what if the list gets longer?\n",
    "x = [3,45,3,675,-45, 6]"
   ]
  },
  {
   "cell_type": "code",
   "execution_count": 4,
   "id": "52570b92-625e-4b0c-9d26-fb8407536c64",
   "metadata": {},
   "outputs": [
    {
     "data": {
      "text/plain": [
       "681"
      ]
     },
     "execution_count": 4,
     "metadata": {},
     "output_type": "execute_result"
    }
   ],
   "source": [
    "x[0] + x[1] + x[2] + x[3] + x[4]"
   ]
  },
  {
   "cell_type": "code",
   "execution_count": 5,
   "id": "de08eb12-2d12-4e33-a677-d58f0c7171c3",
   "metadata": {},
   "outputs": [
    {
     "data": {
      "text/plain": [
       "687"
      ]
     },
     "execution_count": 5,
     "metadata": {},
     "output_type": "execute_result"
    }
   ],
   "source": [
    "x[0] + x[1] + x[2] + x[3] + x[4] + x[5]"
   ]
  },
  {
   "cell_type": "code",
   "execution_count": 6,
   "id": "c862cb76-3dec-426f-ab40-87713be50ba8",
   "metadata": {},
   "outputs": [
    {
     "ename": "IndexError",
     "evalue": "list index out of range",
     "output_type": "error",
     "traceback": [
      "\u001b[0;31m---------------------------------------------------------------------------\u001b[0m",
      "\u001b[0;31mIndexError\u001b[0m                                Traceback (most recent call last)",
      "Input \u001b[0;32mIn [6]\u001b[0m, in \u001b[0;36m<cell line: 1>\u001b[0;34m()\u001b[0m\n\u001b[0;32m----> 1\u001b[0m x[\u001b[38;5;241m0\u001b[39m] \u001b[38;5;241m+\u001b[39m x[\u001b[38;5;241m1\u001b[39m] \u001b[38;5;241m+\u001b[39m x[\u001b[38;5;241m2\u001b[39m] \u001b[38;5;241m+\u001b[39m x[\u001b[38;5;241m3\u001b[39m] \u001b[38;5;241m+\u001b[39m x[\u001b[38;5;241m4\u001b[39m] \u001b[38;5;241m+\u001b[39m x[\u001b[38;5;241m5\u001b[39m] \u001b[38;5;241m+\u001b[39m \u001b[43mx\u001b[49m\u001b[43m[\u001b[49m\u001b[38;5;241;43m6\u001b[39;49m\u001b[43m]\u001b[49m\n",
      "\u001b[0;31mIndexError\u001b[0m: list index out of range"
     ]
    }
   ],
   "source": [
    "# anticipating an extra value doesn't work\n",
    "x[0] + x[1] + x[2] + x[3] + x[4] + x[5] + x[6]"
   ]
  },
  {
   "cell_type": "code",
   "execution_count": 8,
   "id": "0519c61b-8088-46f2-9d20-77caf271eea2",
   "metadata": {},
   "outputs": [
    {
     "name": "stdout",
     "output_type": "stream",
     "text": [
      "3\n",
      "45\n",
      "3\n",
      "675\n",
      "-45\n",
      "6\n"
     ]
    }
   ],
   "source": [
    "# introducing a for loop to perform repetition of some action\n",
    "for element in x :\n",
    "    print(element)"
   ]
  },
  {
   "cell_type": "code",
   "execution_count": 9,
   "id": "9dd1e950-3a71-4162-903f-504472d59a02",
   "metadata": {},
   "outputs": [
    {
     "data": {
      "text/plain": [
       "687"
      ]
     },
     "execution_count": 9,
     "metadata": {},
     "output_type": "execute_result"
    }
   ],
   "source": [
    "# summing all the elements in the list using a running total\n",
    "total = 0\n",
    "for element in x :\n",
    "    total = total + element\n",
    "total"
   ]
  },
  {
   "cell_type": "code",
   "execution_count": 10,
   "id": "bbb4703f-af7f-4bb0-a566-56cef0bc036c",
   "metadata": {},
   "outputs": [
    {
     "data": {
      "text/plain": [
       "687"
      ]
     },
     "execution_count": 10,
     "metadata": {},
     "output_type": "execute_result"
    }
   ],
   "source": [
    "# there is a built in Python function that already performs precisely that operation\n",
    "# but there will always be cases similar to, but not identical to this cases where we need to code it ourselves\n",
    "sum(x)"
   ]
  },
  {
   "cell_type": "code",
   "execution_count": 11,
   "id": "9e65c302-c3f3-4dc9-a421-aeefafbca52b",
   "metadata": {},
   "outputs": [],
   "source": [
    "# converting our code to a function\n",
    "def sum_list(list) :\n",
    "    total = 0\n",
    "    for element in x :\n",
    "        total = total + element\n",
    "    return total "
   ]
  },
  {
   "cell_type": "code",
   "execution_count": 12,
   "id": "60fad2d9-da47-460f-ba75-ce01dd5e0b0d",
   "metadata": {},
   "outputs": [
    {
     "data": {
      "text/plain": [
       "687"
      ]
     },
     "execution_count": 12,
     "metadata": {},
     "output_type": "execute_result"
    }
   ],
   "source": [
    "sum_list(x)"
   ]
  },
  {
   "cell_type": "code",
   "execution_count": 13,
   "id": "91418b65-2628-4543-af5f-c5732de57b44",
   "metadata": {},
   "outputs": [
    {
     "data": {
      "text/plain": [
       "6"
      ]
     },
     "execution_count": 13,
     "metadata": {},
     "output_type": "execute_result"
    }
   ],
   "source": [
    "len(x)"
   ]
  },
  {
   "cell_type": "code",
   "execution_count": 18,
   "id": "5bdc1f02-52b6-4073-91d3-5ec168566b4e",
   "metadata": {},
   "outputs": [],
   "source": [
    "# building our own version of the len function\n",
    "def length_list(list) :\n",
    "    count = 0\n",
    "    for element in list :\n",
    "        count = count + 1\n",
    "    return count "
   ]
  },
  {
   "cell_type": "code",
   "execution_count": 19,
   "id": "1957d58c-bf21-4c6d-b92f-9d104d6c6a06",
   "metadata": {},
   "outputs": [
    {
     "data": {
      "text/plain": [
       "6"
      ]
     },
     "execution_count": 19,
     "metadata": {},
     "output_type": "execute_result"
    }
   ],
   "source": [
    "length_list(x)"
   ]
  },
  {
   "cell_type": "code",
   "execution_count": 20,
   "id": "49ee3d5b-8263-40e3-a1e2-9f2b82e44dde",
   "metadata": {},
   "outputs": [
    {
     "data": {
      "text/plain": [
       "0"
      ]
     },
     "execution_count": 20,
     "metadata": {},
     "output_type": "execute_result"
    }
   ],
   "source": [
    "length_list([])"
   ]
  },
  {
   "cell_type": "code",
   "execution_count": 21,
   "id": "bf4d50a2-c99b-4e65-8401-d1d8dc6dc9f3",
   "metadata": {},
   "outputs": [],
   "source": [
    "# using += assignment instead\n",
    "def sum_list(list) :\n",
    "    total = 0\n",
    "    for element in x :\n",
    "        total += element\n",
    "        # equivalent to total = total + element\n",
    "    return total "
   ]
  },
  {
   "cell_type": "code",
   "execution_count": null,
   "id": "9c94beec-e73f-4190-bdd6-f98db69a039b",
   "metadata": {},
   "outputs": [],
   "source": [
    "# try creating some examples of your own!"
   ]
  }
 ],
 "metadata": {
  "kernelspec": {
   "display_name": "Python 3 (ipykernel)",
   "language": "python",
   "name": "python3"
  },
  "language_info": {
   "codemirror_mode": {
    "name": "ipython",
    "version": 3
   },
   "file_extension": ".py",
   "mimetype": "text/x-python",
   "name": "python",
   "nbconvert_exporter": "python",
   "pygments_lexer": "ipython3",
   "version": "3.9.13"
  }
 },
 "nbformat": 4,
 "nbformat_minor": 5
}
