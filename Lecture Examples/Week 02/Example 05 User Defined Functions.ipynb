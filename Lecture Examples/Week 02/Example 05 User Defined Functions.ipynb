{
 "cells": [
  {
   "cell_type": "code",
   "execution_count": 4,
   "id": "a13d7687-02c2-41e1-95dd-225d00490ccc",
   "metadata": {},
   "outputs": [
    {
     "name": "stdout",
     "output_type": "stream",
     "text": [
      "0.5026548245743669\n",
      "1.1304\n"
     ]
    }
   ],
   "source": [
    "import math\n",
    "radiusCircle1 = 0.4\n",
    "pi = 3.14\n",
    "# compute area of circle\n",
    "areaCircle1 = math.pi * radiusCircle1**2\n",
    "print(areaCircle1)\n",
    "\n",
    "radiusCircle2 = 0.6\n",
    "# compute area of circle\n",
    "areaCircle2 = pi * radiusCircle2**2\n",
    "print(areaCircle2)"
   ]
  },
  {
   "cell_type": "code",
   "execution_count": 2,
   "id": "5bd993a2-da8d-458b-b756-3c6df45e3581",
   "metadata": {},
   "outputs": [],
   "source": [
    "# create a programmer defined custom function ...\n",
    "\n",
    "def area_of_circle(radius) :\n",
    "    return math.pi * radius**2"
   ]
  },
  {
   "cell_type": "code",
   "execution_count": 5,
   "id": "d0203248-4f2e-492d-95fb-f18b2c2e67ee",
   "metadata": {},
   "outputs": [
    {
     "data": {
      "text/plain": [
       "0.5026548245743669"
      ]
     },
     "execution_count": 5,
     "metadata": {},
     "output_type": "execute_result"
    }
   ],
   "source": [
    "area_of_circle(0.4)"
   ]
  },
  {
   "cell_type": "code",
   "execution_count": 6,
   "id": "b28f3285-cdc1-4c5c-97ee-40b1d0b83f91",
   "metadata": {},
   "outputs": [
    {
     "data": {
      "text/plain": [
       "1.1309733552923256"
      ]
     },
     "execution_count": 6,
     "metadata": {},
     "output_type": "execute_result"
    }
   ],
   "source": [
    "area_of_circle(0.6)"
   ]
  },
  {
   "cell_type": "code",
   "execution_count": 7,
   "id": "f09c4b4b-f131-4663-b1fe-6aa113e7cf10",
   "metadata": {},
   "outputs": [
    {
     "data": {
      "text/plain": [
       "0.5026548245743669"
      ]
     },
     "execution_count": 7,
     "metadata": {},
     "output_type": "execute_result"
    }
   ],
   "source": [
    "radiusCircle1 = 0.4\n",
    "area_of_circle(radiusCircle1)"
   ]
  }
 ],
 "metadata": {
  "kernelspec": {
   "display_name": "Python 3 (ipykernel)",
   "language": "python",
   "name": "python3"
  },
  "language_info": {
   "codemirror_mode": {
    "name": "ipython",
    "version": 3
   },
   "file_extension": ".py",
   "mimetype": "text/x-python",
   "name": "python",
   "nbconvert_exporter": "python",
   "pygments_lexer": "ipython3",
   "version": "3.9.13"
  }
 },
 "nbformat": 4,
 "nbformat_minor": 5
}
