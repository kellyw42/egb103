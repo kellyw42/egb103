{
 "cells": [
  {
   "cell_type": "markdown",
   "id": "501f4455-1c9c-48d7-b6b2-4fa616de4b1d",
   "metadata": {},
   "source": [
    "## Ohms Law (Wheel)\n",
    "https://diyaudioprojects.com/Technical/Ohms-Law/Ohms-Law-Formula-Wheel.png"
   ]
  },
  {
   "cell_type": "code",
   "execution_count": 2,
   "id": "68e66215-c629-4dca-95a9-02d7d516792e",
   "metadata": {},
   "outputs": [],
   "source": [
    "import math\n",
    "\n",
    "# Power measured in watts, Resistance measured in Ohms, Current measured in amps\n",
    "def compute_current(power, resistance) :\n",
    "    return math.sqrt(power / resistance)"
   ]
  },
  {
   "cell_type": "code",
   "execution_count": 3,
   "id": "668a401c-570a-44b4-adb9-89ab2c774f0f",
   "metadata": {},
   "outputs": [
    {
     "data": {
      "text/plain": [
       "1.4142135623730951"
      ]
     },
     "execution_count": 3,
     "metadata": {},
     "output_type": "execute_result"
    }
   ],
   "source": [
    "compute_current(4, 2)\n",
    "# effectively equivalent to power = 4 and resistance = 2"
   ]
  },
  {
   "cell_type": "code",
   "execution_count": 4,
   "id": "bd85d5df-38e7-4157-9301-ec4547363afb",
   "metadata": {},
   "outputs": [
    {
     "data": {
      "text/plain": [
       "1.4142135623730951"
      ]
     },
     "execution_count": 4,
     "metadata": {},
     "output_type": "execute_result"
    }
   ],
   "source": [
    "compute_current(2*2, 1+1)\n",
    "# effectively equivalent to power = 2*2 and resistance = 1+1"
   ]
  },
  {
   "cell_type": "code",
   "execution_count": 5,
   "id": "6b13d203-3960-463d-b555-b3a2bac344a6",
   "metadata": {},
   "outputs": [],
   "source": [
    "power = 4\n",
    "resistance = 2"
   ]
  },
  {
   "cell_type": "code",
   "execution_count": 6,
   "id": "2ea5b537-67bc-499c-b256-3eeb07a80070",
   "metadata": {},
   "outputs": [
    {
     "data": {
      "text/plain": [
       "1.4142135623730951"
      ]
     },
     "execution_count": 6,
     "metadata": {},
     "output_type": "execute_result"
    }
   ],
   "source": [
    "# arguments just happen to have the same name as the function parameters\n",
    "compute_current(power, resistance)"
   ]
  },
  {
   "cell_type": "code",
   "execution_count": 8,
   "id": "51ea10ad-62b9-4b9f-8aec-7b34aafc121a",
   "metadata": {},
   "outputs": [
    {
     "data": {
      "text/plain": [
       "0.7071067811865476"
      ]
     },
     "execution_count": 8,
     "metadata": {},
     "output_type": "execute_result"
    }
   ],
   "source": [
    "# parameters mistakenly passed in wrong order produces \"wrong\" answer\n",
    "compute_current(resistance, power)"
   ]
  },
  {
   "cell_type": "code",
   "execution_count": 11,
   "id": "9141d60f-b3fb-45f5-997f-264591aeae16",
   "metadata": {},
   "outputs": [],
   "source": [
    "# change parameter names\n",
    "def compute_current(P, R) :\n",
    "    return math.sqrt(P / R)"
   ]
  },
  {
   "cell_type": "code",
   "execution_count": 12,
   "id": "a2d3205e-db7a-4670-a3e2-706594b8e3a3",
   "metadata": {},
   "outputs": [
    {
     "data": {
      "text/plain": [
       "1.4142135623730951"
      ]
     },
     "execution_count": 12,
     "metadata": {},
     "output_type": "execute_result"
    }
   ],
   "source": [
    "compute_current(power, resistance)\n",
    "# effectively equivalent to P = power and R = resistance"
   ]
  },
  {
   "cell_type": "code",
   "execution_count": 13,
   "id": "f4a07d8f-0f81-414c-ad95-852e4d1e316b",
   "metadata": {},
   "outputs": [
    {
     "data": {
      "text/plain": [
       "1.4142135623730951"
      ]
     },
     "execution_count": 13,
     "metadata": {},
     "output_type": "execute_result"
    }
   ],
   "source": [
    "# alternatively passing by parameter name rather than order\n",
    "compute_current(R=resistance, P=power)"
   ]
  }
 ],
 "metadata": {
  "kernelspec": {
   "display_name": "Python 3 (ipykernel)",
   "language": "python",
   "name": "python3"
  },
  "language_info": {
   "codemirror_mode": {
    "name": "ipython",
    "version": 3
   },
   "file_extension": ".py",
   "mimetype": "text/x-python",
   "name": "python",
   "nbconvert_exporter": "python",
   "pygments_lexer": "ipython3",
   "version": "3.9.13"
  }
 },
 "nbformat": 4,
 "nbformat_minor": 5
}
