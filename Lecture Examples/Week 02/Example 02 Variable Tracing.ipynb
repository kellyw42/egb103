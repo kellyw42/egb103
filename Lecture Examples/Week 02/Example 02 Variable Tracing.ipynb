{
 "cells": [
  {
   "cell_type": "code",
   "execution_count": 3,
   "id": "2f49ee3a-19a3-49f7-9a23-a7fbbe791a0d",
   "metadata": {},
   "outputs": [],
   "source": [
    "x = 1\n",
    "y = 2\n",
    "z = x + y"
   ]
  },
  {
   "cell_type": "code",
   "execution_count": 2,
   "id": "8fbbf613-be2d-41bf-b9dc-3e343f39b7a5",
   "metadata": {},
   "outputs": [
    {
     "ename": "SyntaxError",
     "evalue": "invalid syntax (3584257856.py, line 1)",
     "output_type": "error",
     "traceback": [
      "\u001b[0;36m  Input \u001b[0;32mIn [2]\u001b[0;36m\u001b[0m\n\u001b[0;31m    x = 1 y = 2\u001b[0m\n\u001b[0m          ^\u001b[0m\n\u001b[0;31mSyntaxError\u001b[0m\u001b[0;31m:\u001b[0m invalid syntax\n"
     ]
    }
   ],
   "source": [
    "# can't put two assignment statements on the same line\n",
    "x = 1 y = 2\n",
    "z = x + y"
   ]
  },
  {
   "cell_type": "code",
   "execution_count": 5,
   "id": "944774c4-abad-4334-86c9-acc0c539f48b",
   "metadata": {},
   "outputs": [
    {
     "ename": "IndentationError",
     "evalue": "unindent does not match any outer indentation level (<tokenize>, line 3)",
     "output_type": "error",
     "traceback": [
      "\u001b[0;36m  File \u001b[0;32m<tokenize>:3\u001b[0;36m\u001b[0m\n\u001b[0;31m    z = x + y\u001b[0m\n\u001b[0m    ^\u001b[0m\n\u001b[0;31mIndentationError\u001b[0m\u001b[0;31m:\u001b[0m unindent does not match any outer indentation level\n"
     ]
    }
   ],
   "source": [
    "# a sequence of statements must have the same amount of indentation on each line\n",
    "  x = 1\n",
    "    y = 2\n",
    "   z = x + y"
   ]
  },
  {
   "cell_type": "code",
   "execution_count": 6,
   "id": "48dbf1a4-25eb-4c4a-b789-ea4b9de591cc",
   "metadata": {},
   "outputs": [],
   "source": [
    "# manually trace the execution of the following code using a trace table\n",
    "x = 1\n",
    "y = 3\n",
    "x = x + 1\n",
    "z = x + y"
   ]
  }
 ],
 "metadata": {
  "kernelspec": {
   "display_name": "Python 3 (ipykernel)",
   "language": "python",
   "name": "python3"
  },
  "language_info": {
   "codemirror_mode": {
    "name": "ipython",
    "version": 3
   },
   "file_extension": ".py",
   "mimetype": "text/x-python",
   "name": "python",
   "nbconvert_exporter": "python",
   "pygments_lexer": "ipython3",
   "version": "3.9.13"
  }
 },
 "nbformat": 4,
 "nbformat_minor": 5
}
