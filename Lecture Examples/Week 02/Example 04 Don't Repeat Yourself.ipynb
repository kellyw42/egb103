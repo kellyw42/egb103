{
 "cells": [
  {
   "cell_type": "code",
   "execution_count": 1,
   "id": "8d2bd20b-7292-4f25-8311-6f6568b39806",
   "metadata": {},
   "outputs": [
    {
     "data": {
      "text/plain": [
       "0.5024000000000001"
      ]
     },
     "execution_count": 1,
     "metadata": {},
     "output_type": "execute_result"
    }
   ],
   "source": [
    "radius = 0.4\n",
    "pi = 3.14\n",
    "# compute area of circle\n",
    "area = pi * radius**2\n",
    "area"
   ]
  },
  {
   "cell_type": "code",
   "execution_count": 2,
   "id": "0445f95b-4990-41a9-9cb2-8f01ba7710af",
   "metadata": {},
   "outputs": [
    {
     "name": "stdout",
     "output_type": "stream",
     "text": [
      "0.5024000000000001\n",
      "1.1304\n"
     ]
    }
   ],
   "source": [
    "# don't repeat yourself!\n",
    "\n",
    "radiusCircle1 = 0.4\n",
    "pi = 3.14\n",
    "# compute area of circle\n",
    "areaCircle1 = pi * radiusCircle1**2\n",
    "print(areaCircle1)\n",
    "\n",
    "radiusCircle2 = 0.6\n",
    "# compute area of circle\n",
    "areaCircle2 = pi * radiusCircle2**2\n",
    "print(areaCircle2)"
   ]
  },
  {
   "cell_type": "code",
   "execution_count": 3,
   "id": "fb10bc15-d195-4b77-bf9b-68a0a5c46d7c",
   "metadata": {},
   "outputs": [
    {
     "name": "stdout",
     "output_type": "stream",
     "text": [
      "0.5026548245743669\n",
      "1.1304\n"
     ]
    }
   ],
   "source": [
    "# classic mistake, if you do repeat yourself, you might just make a fix in one location\n",
    "import math\n",
    "radiusCircle1 = 0.4\n",
    "pi = 3.14\n",
    "# compute area of circle\n",
    "areaCircle1 = math.pi * radiusCircle1**2\n",
    "print(areaCircle1)\n",
    "\n",
    "radiusCircle2 = 0.6\n",
    "# compute area of circle\n",
    "areaCircle2 = pi * radiusCircle2**2\n",
    "print(areaCircle2)"
   ]
  }
 ],
 "metadata": {
  "kernelspec": {
   "display_name": "Python 3 (ipykernel)",
   "language": "python",
   "name": "python3"
  },
  "language_info": {
   "codemirror_mode": {
    "name": "ipython",
    "version": 3
   },
   "file_extension": ".py",
   "mimetype": "text/x-python",
   "name": "python",
   "nbconvert_exporter": "python",
   "pygments_lexer": "ipython3",
   "version": "3.9.13"
  }
 },
 "nbformat": 4,
 "nbformat_minor": 5
}
