{
 "cells": [
  {
   "cell_type": "code",
   "execution_count": 1,
   "id": "0592b282-4899-4be8-a937-6639b7daf395",
   "metadata": {},
   "outputs": [],
   "source": [
    "import pandas"
   ]
  },
  {
   "cell_type": "code",
   "execution_count": 2,
   "id": "5ab10290-15d5-4f5a-a616-6d466f73eb23",
   "metadata": {},
   "outputs": [],
   "source": [
    "# create a Pandas DataFrame based on data  from a dictionary ...\n",
    "family = pandas.DataFrame(data = { \"Name\": [\"Paul\", \"Phillip\", \"Lisa\"], \"Age\": [52, 48, 46], \"Sex\": [\"male\", \"male\", \"female\"] })"
   ]
  },
  {
   "cell_type": "code",
   "execution_count": 3,
   "id": "a0b1f4c2-0323-4ffd-9da1-5ae9e68c6b2a",
   "metadata": {},
   "outputs": [
    {
     "data": {
      "text/plain": [
       "Index(['Name', 'Age', 'Sex'], dtype='object')"
      ]
     },
     "execution_count": 3,
     "metadata": {},
     "output_type": "execute_result"
    }
   ],
   "source": [
    "# get summary information about the columns with numeric types\n",
    "family.columns"
   ]
  },
  {
   "cell_type": "code",
   "execution_count": 4,
   "id": "c4dea75b-5307-4dec-9d44-91088b78bef9",
   "metadata": {},
   "outputs": [
    {
     "data": {
      "text/plain": [
       "0    52\n",
       "1    48\n",
       "2    46\n",
       "Name: Age, dtype: int64"
      ]
     },
     "execution_count": 4,
     "metadata": {},
     "output_type": "execute_result"
    }
   ],
   "source": [
    "# access just the Age column\n",
    "family[\"Age\"]"
   ]
  },
  {
   "cell_type": "code",
   "execution_count": 5,
   "id": "7dab252b-4c35-497f-a9ea-007dfa4ffdf8",
   "metadata": {},
   "outputs": [
    {
     "data": {
      "text/plain": [
       "pandas.core.series.Series"
      ]
     },
     "execution_count": 5,
     "metadata": {},
     "output_type": "execute_result"
    }
   ],
   "source": [
    "# if we  get just one column then the result is a Series, rather than a DataFrame.\n",
    "# A Pandas Series has only one column, while a Pandas DataFrame can have many columns\n",
    "type(family[\"Age\"])"
   ]
  },
  {
   "cell_type": "code",
   "execution_count": 6,
   "id": "65409843-781c-4bdd-a507-4263973a8a3d",
   "metadata": {},
   "outputs": [
    {
     "data": {
      "text/plain": [
       "46"
      ]
     },
     "execution_count": 6,
     "metadata": {},
     "output_type": "execute_result"
    }
   ],
   "source": [
    "# find the smallest of all Ages\n",
    "family[\"Age\"].min()"
   ]
  },
  {
   "cell_type": "code",
   "execution_count": 7,
   "id": "e652b656-4818-49d3-b8f7-7e1dd181b627",
   "metadata": {},
   "outputs": [
    {
     "data": {
      "text/plain": [
       "52"
      ]
     },
     "execution_count": 7,
     "metadata": {},
     "output_type": "execute_result"
    }
   ],
   "source": [
    "# find the largest of all Ages\n",
    "family[\"Age\"].max()"
   ]
  },
  {
   "cell_type": "code",
   "execution_count": 10,
   "id": "bbd756ca-0cac-418e-a53b-74dedbeebc05",
   "metadata": {},
   "outputs": [
    {
     "data": {
      "text/plain": [
       "'female'"
      ]
     },
     "execution_count": 10,
     "metadata": {},
     "output_type": "execute_result"
    }
   ],
   "source": [
    "# min also words on string values where we choose the first value alphabetically\n",
    "family[\"Sex\"].min()"
   ]
  },
  {
   "cell_type": "code",
   "execution_count": null,
   "id": "782b3036-0ccd-4fc7-889c-4b4800b8e2d2",
   "metadata": {},
   "outputs": [],
   "source": [
    "# but we can't perform arithmetic summary operations like mean on string columns\n",
    "family[\"Sex\"].mean()"
   ]
  },
  {
   "cell_type": "code",
   "execution_count": 31,
   "id": "1748defc-83cf-4dbc-9564-d11f56463b60",
   "metadata": {},
   "outputs": [
    {
     "data": {
      "text/html": [
       "<div>\n",
       "<style scoped>\n",
       "    .dataframe tbody tr th:only-of-type {\n",
       "        vertical-align: middle;\n",
       "    }\n",
       "\n",
       "    .dataframe tbody tr th {\n",
       "        vertical-align: top;\n",
       "    }\n",
       "\n",
       "    .dataframe thead th {\n",
       "        text-align: right;\n",
       "    }\n",
       "</style>\n",
       "<table border=\"1\" class=\"dataframe\">\n",
       "  <thead>\n",
       "    <tr style=\"text-align: right;\">\n",
       "      <th></th>\n",
       "      <th>Name</th>\n",
       "      <th>Age</th>\n",
       "    </tr>\n",
       "  </thead>\n",
       "  <tbody>\n",
       "    <tr>\n",
       "      <th>0</th>\n",
       "      <td>Paul</td>\n",
       "      <td>52</td>\n",
       "    </tr>\n",
       "    <tr>\n",
       "      <th>1</th>\n",
       "      <td>Phillip</td>\n",
       "      <td>48</td>\n",
       "    </tr>\n",
       "    <tr>\n",
       "      <th>2</th>\n",
       "      <td>Lisa</td>\n",
       "      <td>46</td>\n",
       "    </tr>\n",
       "  </tbody>\n",
       "</table>\n",
       "</div>"
      ],
      "text/plain": [
       "      Name  Age\n",
       "0     Paul   52\n",
       "1  Phillip   48\n",
       "2     Lisa   46"
      ]
     },
     "execution_count": 31,
     "metadata": {},
     "output_type": "execute_result"
    }
   ],
   "source": [
    "# retrieve a list of columns from a data frame\n",
    "family[[\"Name\", \"Age\"]]"
   ]
  },
  {
   "cell_type": "code",
   "execution_count": 12,
   "id": "a8c47bbc-4d20-4d76-9444-bf3d27ac1314",
   "metadata": {},
   "outputs": [
    {
     "data": {
      "text/plain": [
       "pandas.core.frame.DataFrame"
      ]
     },
     "execution_count": 12,
     "metadata": {},
     "output_type": "execute_result"
    }
   ],
   "source": [
    "# the result is a Data Frame (not a Data Series)\n",
    "type(family[[\"Name\", \"Age\"]])"
   ]
  },
  {
   "cell_type": "code",
   "execution_count": 15,
   "id": "3bb836a1-b543-46cb-a9f0-e61f4532540d",
   "metadata": {},
   "outputs": [
    {
     "data": {
      "text/html": [
       "<div>\n",
       "<style scoped>\n",
       "    .dataframe tbody tr th:only-of-type {\n",
       "        vertical-align: middle;\n",
       "    }\n",
       "\n",
       "    .dataframe tbody tr th {\n",
       "        vertical-align: top;\n",
       "    }\n",
       "\n",
       "    .dataframe thead th {\n",
       "        text-align: right;\n",
       "    }\n",
       "</style>\n",
       "<table border=\"1\" class=\"dataframe\">\n",
       "  <thead>\n",
       "    <tr style=\"text-align: right;\">\n",
       "      <th></th>\n",
       "      <th>Age</th>\n",
       "    </tr>\n",
       "  </thead>\n",
       "  <tbody>\n",
       "    <tr>\n",
       "      <th>0</th>\n",
       "      <td>52</td>\n",
       "    </tr>\n",
       "    <tr>\n",
       "      <th>1</th>\n",
       "      <td>48</td>\n",
       "    </tr>\n",
       "    <tr>\n",
       "      <th>2</th>\n",
       "      <td>46</td>\n",
       "    </tr>\n",
       "  </tbody>\n",
       "</table>\n",
       "</div>"
      ],
      "text/plain": [
       "   Age\n",
       "0   52\n",
       "1   48\n",
       "2   46"
      ]
     },
     "execution_count": 15,
     "metadata": {},
     "output_type": "execute_result"
    }
   ],
   "source": [
    "# retrieve a list of columns of length one\n",
    "family[[\"Age\"]]"
   ]
  },
  {
   "cell_type": "code",
   "execution_count": 14,
   "id": "5b5f6f7a-c7bc-4fae-89a6-baa965b96f35",
   "metadata": {},
   "outputs": [
    {
     "data": {
      "text/plain": [
       "pandas.core.frame.DataFrame"
      ]
     },
     "execution_count": 14,
     "metadata": {},
     "output_type": "execute_result"
    }
   ],
   "source": [
    "# the result is a Data Frame even if the list of columns has only one entry\n",
    "type(family[[\"Age\"]])"
   ]
  },
  {
   "cell_type": "code",
   "execution_count": 17,
   "id": "216d65a0-fdc2-49e1-b1f6-3bc857b14079",
   "metadata": {},
   "outputs": [
    {
     "data": {
      "text/plain": [
       "0    False\n",
       "1     True\n",
       "2     True\n",
       "Name: Age, dtype: bool"
      ]
     },
     "execution_count": 17,
     "metadata": {},
     "output_type": "execute_result"
    }
   ],
   "source": [
    "# Test each row to determine whether Age is less than 50\n",
    "# The result is a series of boolean values\n",
    "family[\"Age\"] < 50"
   ]
  },
  {
   "cell_type": "code",
   "execution_count": 32,
   "id": "c43eb71e-2714-4b61-b083-c056dc58e401",
   "metadata": {},
   "outputs": [
    {
     "data": {
      "text/plain": [
       "pandas.core.series.Series"
      ]
     },
     "execution_count": 32,
     "metadata": {},
     "output_type": "execute_result"
    }
   ],
   "source": [
    "type(family[\"Age\"] < 50)"
   ]
  },
  {
   "cell_type": "code",
   "execution_count": 19,
   "id": "d6b3cd0a-0343-4b13-8bb8-dd986395817a",
   "metadata": {},
   "outputs": [
    {
     "data": {
      "text/plain": [
       "0    False\n",
       "1     True\n",
       "2     True\n",
       "Name: Age, dtype: bool"
      ]
     },
     "execution_count": 19,
     "metadata": {},
     "output_type": "execute_result"
    }
   ],
   "source": [
    "# store the result of these comparisions in a variable so we can use it to index into a Data Frame\n",
    "young = family[\"Age\"] < 50\n",
    "young"
   ]
  },
  {
   "cell_type": "code",
   "execution_count": 20,
   "id": "a02f7196-5c96-4b68-9fd7-4c83f2a1f18e",
   "metadata": {},
   "outputs": [
    {
     "data": {
      "text/html": [
       "<div>\n",
       "<style scoped>\n",
       "    .dataframe tbody tr th:only-of-type {\n",
       "        vertical-align: middle;\n",
       "    }\n",
       "\n",
       "    .dataframe tbody tr th {\n",
       "        vertical-align: top;\n",
       "    }\n",
       "\n",
       "    .dataframe thead th {\n",
       "        text-align: right;\n",
       "    }\n",
       "</style>\n",
       "<table border=\"1\" class=\"dataframe\">\n",
       "  <thead>\n",
       "    <tr style=\"text-align: right;\">\n",
       "      <th></th>\n",
       "      <th>Name</th>\n",
       "      <th>Age</th>\n",
       "      <th>Sex</th>\n",
       "    </tr>\n",
       "  </thead>\n",
       "  <tbody>\n",
       "    <tr>\n",
       "      <th>1</th>\n",
       "      <td>Phillip</td>\n",
       "      <td>48</td>\n",
       "      <td>male</td>\n",
       "    </tr>\n",
       "    <tr>\n",
       "      <th>2</th>\n",
       "      <td>Lisa</td>\n",
       "      <td>46</td>\n",
       "      <td>female</td>\n",
       "    </tr>\n",
       "  </tbody>\n",
       "</table>\n",
       "</div>"
      ],
      "text/plain": [
       "      Name  Age     Sex\n",
       "1  Phillip   48    male\n",
       "2     Lisa   46  female"
      ]
     },
     "execution_count": 20,
     "metadata": {},
     "output_type": "execute_result"
    }
   ],
   "source": [
    "# retrieve only those rows from the family Data Frame where the young condition is True\n",
    "family[young]"
   ]
  },
  {
   "cell_type": "code",
   "execution_count": 22,
   "id": "220ef1cc-b9e1-47f7-8a3d-725f2205921f",
   "metadata": {},
   "outputs": [
    {
     "data": {
      "text/plain": [
       "0    False\n",
       "1     True\n",
       "2     True\n",
       "Name: Age, dtype: bool"
      ]
     },
     "execution_count": 22,
     "metadata": {},
     "output_type": "execute_result"
    }
   ],
   "source": [
    "# family.Age is equivalent to family[\"Age\"]\n",
    "family.Age < 50"
   ]
  },
  {
   "cell_type": "code",
   "execution_count": 33,
   "id": "bb8cf0e5-679b-45f1-be52-4d501ae10407",
   "metadata": {},
   "outputs": [
    {
     "ename": "ValueError",
     "evalue": "The truth value of a Series is ambiguous. Use a.empty, a.bool(), a.item(), a.any() or a.all().",
     "output_type": "error",
     "traceback": [
      "\u001b[0;31m---------------------------------------------------------------------------\u001b[0m",
      "\u001b[0;31mValueError\u001b[0m                                Traceback (most recent call last)",
      "Input \u001b[0;32mIn [33]\u001b[0m, in \u001b[0;36m<cell line: 2>\u001b[0;34m()\u001b[0m\n\u001b[1;32m      1\u001b[0m \u001b[38;5;66;03m# we\u001b[39;00m\n\u001b[0;32m----> 2\u001b[0m family\u001b[38;5;241m.\u001b[39mAge \u001b[38;5;241m<\u001b[39m \u001b[38;5;241m50\u001b[39m \u001b[38;5;129;01mand\u001b[39;00m family\u001b[38;5;241m.\u001b[39mSex \u001b[38;5;241m==\u001b[39m \u001b[38;5;124m\"\u001b[39m\u001b[38;5;124mmale\u001b[39m\u001b[38;5;124m\"\u001b[39m\n",
      "File \u001b[0;32m/opt/conda/lib/python3.9/site-packages/pandas/core/generic.py:1527\u001b[0m, in \u001b[0;36mNDFrame.__nonzero__\u001b[0;34m(self)\u001b[0m\n\u001b[1;32m   1525\u001b[0m \u001b[38;5;129m@final\u001b[39m\n\u001b[1;32m   1526\u001b[0m \u001b[38;5;28;01mdef\u001b[39;00m \u001b[38;5;21m__nonzero__\u001b[39m(\u001b[38;5;28mself\u001b[39m):\n\u001b[0;32m-> 1527\u001b[0m     \u001b[38;5;28;01mraise\u001b[39;00m \u001b[38;5;167;01mValueError\u001b[39;00m(\n\u001b[1;32m   1528\u001b[0m         \u001b[38;5;124mf\u001b[39m\u001b[38;5;124m\"\u001b[39m\u001b[38;5;124mThe truth value of a \u001b[39m\u001b[38;5;132;01m{\u001b[39;00m\u001b[38;5;28mtype\u001b[39m(\u001b[38;5;28mself\u001b[39m)\u001b[38;5;241m.\u001b[39m\u001b[38;5;18m__name__\u001b[39m\u001b[38;5;132;01m}\u001b[39;00m\u001b[38;5;124m is ambiguous. \u001b[39m\u001b[38;5;124m\"\u001b[39m\n\u001b[1;32m   1529\u001b[0m         \u001b[38;5;124m\"\u001b[39m\u001b[38;5;124mUse a.empty, a.bool(), a.item(), a.any() or a.all().\u001b[39m\u001b[38;5;124m\"\u001b[39m\n\u001b[1;32m   1530\u001b[0m     )\n",
      "\u001b[0;31mValueError\u001b[0m: The truth value of a Series is ambiguous. Use a.empty, a.bool(), a.item(), a.any() or a.all()."
     ]
    }
   ],
   "source": [
    "# We can try to combine our young condition with an is male condition\n",
    "# But we get an error because the and operator only works on Boolean values, while the operands that we have provided are a series of Booleans\n",
    "family.Age < 50 and family.Sex == \"male\""
   ]
  },
  {
   "cell_type": "code",
   "execution_count": null,
   "id": "7cec70d3-4b50-400d-942a-8bf9d10f1175",
   "metadata": {},
   "outputs": [],
   "source": [
    "# We can combine two series of Boolean values row-wise, but this attempt doesn't work because the & operator has higher precedence than the < operator\n",
    "# So the compiler treats the code below as: family.Age < (50 & family.Sex) == \"male\"\n",
    "family.Age < 50 & family.Sex == \"male\""
   ]
  },
  {
   "cell_type": "code",
   "execution_count": 25,
   "id": "2dbb24ec-8fc9-44f5-8e62-07c26f2d1ac4",
   "metadata": {},
   "outputs": [
    {
     "data": {
      "text/plain": [
       "0    False\n",
       "1     True\n",
       "2    False\n",
       "dtype: bool"
      ]
     },
     "execution_count": 25,
     "metadata": {},
     "output_type": "execute_result"
    }
   ],
   "source": [
    "# So we need to insert parenthesis so that the two comparision operations get done first before we attempt to combine those series of Boolean values row-wise using the & operator\n",
    "(family.Age < 50) & (family.Sex == \"male\")"
   ]
  },
  {
   "cell_type": "code",
   "execution_count": 26,
   "id": "adbcc9a6-c94b-44d9-8b65-77ca7578f3db",
   "metadata": {},
   "outputs": [],
   "source": [
    "# Let's store it in a variable so we can use it to index into the family Data Frame\n",
    "young_male = (family.Age < 50) & (family.Sex == \"male\")"
   ]
  },
  {
   "cell_type": "code",
   "execution_count": 27,
   "id": "6c45ca5a-6708-45a2-8ad8-6602a3a1c492",
   "metadata": {},
   "outputs": [
    {
     "data": {
      "text/html": [
       "<div>\n",
       "<style scoped>\n",
       "    .dataframe tbody tr th:only-of-type {\n",
       "        vertical-align: middle;\n",
       "    }\n",
       "\n",
       "    .dataframe tbody tr th {\n",
       "        vertical-align: top;\n",
       "    }\n",
       "\n",
       "    .dataframe thead th {\n",
       "        text-align: right;\n",
       "    }\n",
       "</style>\n",
       "<table border=\"1\" class=\"dataframe\">\n",
       "  <thead>\n",
       "    <tr style=\"text-align: right;\">\n",
       "      <th></th>\n",
       "      <th>Name</th>\n",
       "      <th>Age</th>\n",
       "      <th>Sex</th>\n",
       "    </tr>\n",
       "  </thead>\n",
       "  <tbody>\n",
       "    <tr>\n",
       "      <th>1</th>\n",
       "      <td>Phillip</td>\n",
       "      <td>48</td>\n",
       "      <td>male</td>\n",
       "    </tr>\n",
       "  </tbody>\n",
       "</table>\n",
       "</div>"
      ],
      "text/plain": [
       "      Name  Age   Sex\n",
       "1  Phillip   48  male"
      ]
     },
     "execution_count": 27,
     "metadata": {},
     "output_type": "execute_result"
    }
   ],
   "source": [
    "# only one family member is both young and male\n",
    "family[young_male]"
   ]
  },
  {
   "cell_type": "code",
   "execution_count": 28,
   "id": "c432889a-532a-4268-ab44-17e382825117",
   "metadata": {},
   "outputs": [
    {
     "data": {
      "text/html": [
       "<div>\n",
       "<style scoped>\n",
       "    .dataframe tbody tr th:only-of-type {\n",
       "        vertical-align: middle;\n",
       "    }\n",
       "\n",
       "    .dataframe tbody tr th {\n",
       "        vertical-align: top;\n",
       "    }\n",
       "\n",
       "    .dataframe thead th {\n",
       "        text-align: right;\n",
       "    }\n",
       "</style>\n",
       "<table border=\"1\" class=\"dataframe\">\n",
       "  <thead>\n",
       "    <tr style=\"text-align: right;\">\n",
       "      <th></th>\n",
       "      <th>Name</th>\n",
       "      <th>Age</th>\n",
       "      <th>Sex</th>\n",
       "    </tr>\n",
       "  </thead>\n",
       "  <tbody>\n",
       "    <tr>\n",
       "      <th>1</th>\n",
       "      <td>Phillip</td>\n",
       "      <td>48</td>\n",
       "      <td>male</td>\n",
       "    </tr>\n",
       "  </tbody>\n",
       "</table>\n",
       "</div>"
      ],
      "text/plain": [
       "      Name  Age   Sex\n",
       "1  Phillip   48  male"
      ]
     },
     "execution_count": 28,
     "metadata": {},
     "output_type": "execute_result"
    }
   ],
   "source": [
    "# We don't need to store the series of Boolean values into a variable, we can use it directly when indexing into the family Data Frame\n",
    "family[(family.Age < 50) & (family.Sex == \"male\")]"
   ]
  },
  {
   "cell_type": "code",
   "execution_count": 29,
   "id": "f5f113f6-68ca-4a88-99e5-5e38d0a76559",
   "metadata": {},
   "outputs": [],
   "source": [
    "# Let's change the condition to young or male\n",
    "young_or_male = (family.Age < 50) | (family.Sex == \"male\")"
   ]
  },
  {
   "cell_type": "code",
   "execution_count": 30,
   "id": "2c77a0d8-b23e-4e1d-9c4a-cc62a0917418",
   "metadata": {},
   "outputs": [
    {
     "data": {
      "text/html": [
       "<div>\n",
       "<style scoped>\n",
       "    .dataframe tbody tr th:only-of-type {\n",
       "        vertical-align: middle;\n",
       "    }\n",
       "\n",
       "    .dataframe tbody tr th {\n",
       "        vertical-align: top;\n",
       "    }\n",
       "\n",
       "    .dataframe thead th {\n",
       "        text-align: right;\n",
       "    }\n",
       "</style>\n",
       "<table border=\"1\" class=\"dataframe\">\n",
       "  <thead>\n",
       "    <tr style=\"text-align: right;\">\n",
       "      <th></th>\n",
       "      <th>Name</th>\n",
       "      <th>Age</th>\n",
       "      <th>Sex</th>\n",
       "    </tr>\n",
       "  </thead>\n",
       "  <tbody>\n",
       "    <tr>\n",
       "      <th>0</th>\n",
       "      <td>Paul</td>\n",
       "      <td>52</td>\n",
       "      <td>male</td>\n",
       "    </tr>\n",
       "    <tr>\n",
       "      <th>1</th>\n",
       "      <td>Phillip</td>\n",
       "      <td>48</td>\n",
       "      <td>male</td>\n",
       "    </tr>\n",
       "    <tr>\n",
       "      <th>2</th>\n",
       "      <td>Lisa</td>\n",
       "      <td>46</td>\n",
       "      <td>female</td>\n",
       "    </tr>\n",
       "  </tbody>\n",
       "</table>\n",
       "</div>"
      ],
      "text/plain": [
       "      Name  Age     Sex\n",
       "0     Paul   52    male\n",
       "1  Phillip   48    male\n",
       "2     Lisa   46  female"
      ]
     },
     "execution_count": 30,
     "metadata": {},
     "output_type": "execute_result"
    }
   ],
   "source": [
    "# it turns out that all existing family members are either young or male\n",
    "family[young_or_male]"
   ]
  }
 ],
 "metadata": {
  "kernelspec": {
   "display_name": "Python 3 (ipykernel)",
   "language": "python",
   "name": "python3"
  },
  "language_info": {
   "codemirror_mode": {
    "name": "ipython",
    "version": 3
   },
   "file_extension": ".py",
   "mimetype": "text/x-python",
   "name": "python",
   "nbconvert_exporter": "python",
   "pygments_lexer": "ipython3",
   "version": "3.9.13"
  }
 },
 "nbformat": 4,
 "nbformat_minor": 5
}
