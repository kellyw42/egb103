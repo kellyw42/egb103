{
 "cells": [
  {
   "cell_type": "code",
   "execution_count": 2,
   "id": "9fe83284-51b0-4218-9c75-7c66667ac7d6",
   "metadata": {},
   "outputs": [],
   "source": [
    "import pandas"
   ]
  },
  {
   "cell_type": "code",
   "execution_count": 3,
   "id": "dd1234fa-8f28-464e-a991-73f5b31f286a",
   "metadata": {},
   "outputs": [
    {
     "data": {
      "text/html": [
       "<div>\n",
       "<style scoped>\n",
       "    .dataframe tbody tr th:only-of-type {\n",
       "        vertical-align: middle;\n",
       "    }\n",
       "\n",
       "    .dataframe tbody tr th {\n",
       "        vertical-align: top;\n",
       "    }\n",
       "\n",
       "    .dataframe thead th {\n",
       "        text-align: right;\n",
       "    }\n",
       "</style>\n",
       "<table border=\"1\" class=\"dataframe\">\n",
       "  <thead>\n",
       "    <tr style=\"text-align: right;\">\n",
       "      <th></th>\n",
       "      <th>date</th>\n",
       "      <th>pollution</th>\n",
       "      <th>dew</th>\n",
       "      <th>temp</th>\n",
       "      <th>press</th>\n",
       "      <th>wnd_dir</th>\n",
       "      <th>wnd_spd</th>\n",
       "      <th>snow</th>\n",
       "      <th>rain</th>\n",
       "    </tr>\n",
       "  </thead>\n",
       "  <tbody>\n",
       "    <tr>\n",
       "      <th>0</th>\n",
       "      <td>2010-02-01 00:00:00</td>\n",
       "      <td>129</td>\n",
       "      <td>-16</td>\n",
       "      <td>-4.0</td>\n",
       "      <td>1020.0</td>\n",
       "      <td>SE</td>\n",
       "      <td>1.79</td>\n",
       "      <td>0</td>\n",
       "      <td>0</td>\n",
       "    </tr>\n",
       "    <tr>\n",
       "      <th>1</th>\n",
       "      <td>2010-02-01 01:00:00</td>\n",
       "      <td>148</td>\n",
       "      <td>-15</td>\n",
       "      <td>-4.0</td>\n",
       "      <td>1020.0</td>\n",
       "      <td>SE</td>\n",
       "      <td>2.68</td>\n",
       "      <td>0</td>\n",
       "      <td>0</td>\n",
       "    </tr>\n",
       "    <tr>\n",
       "      <th>2</th>\n",
       "      <td>2010-02-01 02:00:00</td>\n",
       "      <td>159</td>\n",
       "      <td>-11</td>\n",
       "      <td>-5.0</td>\n",
       "      <td>1021.0</td>\n",
       "      <td>SE</td>\n",
       "      <td>3.57</td>\n",
       "      <td>0</td>\n",
       "      <td>0</td>\n",
       "    </tr>\n",
       "    <tr>\n",
       "      <th>3</th>\n",
       "      <td>2010-02-01 03:00:00</td>\n",
       "      <td>181</td>\n",
       "      <td>-7</td>\n",
       "      <td>-5.0</td>\n",
       "      <td>1022.0</td>\n",
       "      <td>SE</td>\n",
       "      <td>5.36</td>\n",
       "      <td>1</td>\n",
       "      <td>0</td>\n",
       "    </tr>\n",
       "    <tr>\n",
       "      <th>4</th>\n",
       "      <td>2010-02-01 04:00:00</td>\n",
       "      <td>138</td>\n",
       "      <td>-7</td>\n",
       "      <td>-5.0</td>\n",
       "      <td>1022.0</td>\n",
       "      <td>SE</td>\n",
       "      <td>6.25</td>\n",
       "      <td>2</td>\n",
       "      <td>0</td>\n",
       "    </tr>\n",
       "    <tr>\n",
       "      <th>...</th>\n",
       "      <td>...</td>\n",
       "      <td>...</td>\n",
       "      <td>...</td>\n",
       "      <td>...</td>\n",
       "      <td>...</td>\n",
       "      <td>...</td>\n",
       "      <td>...</td>\n",
       "      <td>...</td>\n",
       "      <td>...</td>\n",
       "    </tr>\n",
       "    <tr>\n",
       "      <th>43795</th>\n",
       "      <td>2014-12-31 19:00:00</td>\n",
       "      <td>8</td>\n",
       "      <td>-23</td>\n",
       "      <td>-2.0</td>\n",
       "      <td>1034.0</td>\n",
       "      <td>NW</td>\n",
       "      <td>231.97</td>\n",
       "      <td>0</td>\n",
       "      <td>0</td>\n",
       "    </tr>\n",
       "    <tr>\n",
       "      <th>43796</th>\n",
       "      <td>2014-12-31 20:00:00</td>\n",
       "      <td>10</td>\n",
       "      <td>-22</td>\n",
       "      <td>-3.0</td>\n",
       "      <td>1034.0</td>\n",
       "      <td>NW</td>\n",
       "      <td>237.78</td>\n",
       "      <td>0</td>\n",
       "      <td>0</td>\n",
       "    </tr>\n",
       "    <tr>\n",
       "      <th>43797</th>\n",
       "      <td>2014-12-31 21:00:00</td>\n",
       "      <td>10</td>\n",
       "      <td>-22</td>\n",
       "      <td>-3.0</td>\n",
       "      <td>1034.0</td>\n",
       "      <td>NW</td>\n",
       "      <td>242.70</td>\n",
       "      <td>0</td>\n",
       "      <td>0</td>\n",
       "    </tr>\n",
       "    <tr>\n",
       "      <th>43798</th>\n",
       "      <td>2014-12-31 22:00:00</td>\n",
       "      <td>8</td>\n",
       "      <td>-22</td>\n",
       "      <td>-4.0</td>\n",
       "      <td>1034.0</td>\n",
       "      <td>NW</td>\n",
       "      <td>246.72</td>\n",
       "      <td>0</td>\n",
       "      <td>0</td>\n",
       "    </tr>\n",
       "    <tr>\n",
       "      <th>43799</th>\n",
       "      <td>2014-12-31 23:00:00</td>\n",
       "      <td>12</td>\n",
       "      <td>-21</td>\n",
       "      <td>-3.0</td>\n",
       "      <td>1034.0</td>\n",
       "      <td>NW</td>\n",
       "      <td>249.85</td>\n",
       "      <td>0</td>\n",
       "      <td>0</td>\n",
       "    </tr>\n",
       "  </tbody>\n",
       "</table>\n",
       "<p>43800 rows × 9 columns</p>\n",
       "</div>"
      ],
      "text/plain": [
       "                     date  pollution  dew  temp   press wnd_dir  wnd_spd  \\\n",
       "0     2010-02-01 00:00:00        129  -16  -4.0  1020.0      SE     1.79   \n",
       "1     2010-02-01 01:00:00        148  -15  -4.0  1020.0      SE     2.68   \n",
       "2     2010-02-01 02:00:00        159  -11  -5.0  1021.0      SE     3.57   \n",
       "3     2010-02-01 03:00:00        181   -7  -5.0  1022.0      SE     5.36   \n",
       "4     2010-02-01 04:00:00        138   -7  -5.0  1022.0      SE     6.25   \n",
       "...                   ...        ...  ...   ...     ...     ...      ...   \n",
       "43795 2014-12-31 19:00:00          8  -23  -2.0  1034.0      NW   231.97   \n",
       "43796 2014-12-31 20:00:00         10  -22  -3.0  1034.0      NW   237.78   \n",
       "43797 2014-12-31 21:00:00         10  -22  -3.0  1034.0      NW   242.70   \n",
       "43798 2014-12-31 22:00:00          8  -22  -4.0  1034.0      NW   246.72   \n",
       "43799 2014-12-31 23:00:00         12  -21  -3.0  1034.0      NW   249.85   \n",
       "\n",
       "       snow  rain  \n",
       "0         0     0  \n",
       "1         0     0  \n",
       "2         0     0  \n",
       "3         1     0  \n",
       "4         2     0  \n",
       "...     ...   ...  \n",
       "43795     0     0  \n",
       "43796     0     0  \n",
       "43797     0     0  \n",
       "43798     0     0  \n",
       "43799     0     0  \n",
       "\n",
       "[43800 rows x 9 columns]"
      ]
     },
     "execution_count": 3,
     "metadata": {},
     "output_type": "execute_result"
    }
   ],
   "source": [
    "# notice the bold column names across the top of our data frame\n",
    "pollution = pandas.read_csv('Example 01 Tabular Data/LSTM-Multivariate_pollution.csv', parse_dates=['date'])\n",
    "pollution"
   ]
  },
  {
   "cell_type": "code",
   "execution_count": 4,
   "id": "3e0ff31e-fcd5-4c5e-a05f-83104237cf1e",
   "metadata": {},
   "outputs": [
    {
     "data": {
      "text/plain": [
       "Index(['date', 'pollution', 'dew', 'temp', 'press', 'wnd_dir', 'wnd_spd',\n",
       "       'snow', 'rain'],\n",
       "      dtype='object')"
      ]
     },
     "execution_count": 4,
     "metadata": {},
     "output_type": "execute_result"
    }
   ],
   "source": [
    "# we can ask for the names of each column\n",
    "pollution.columns"
   ]
  },
  {
   "cell_type": "code",
   "execution_count": 5,
   "id": "55ef736a-f731-4984-ad67-9938e517ac5f",
   "metadata": {},
   "outputs": [
    {
     "data": {
      "text/plain": [
       "0       -4.0\n",
       "1       -4.0\n",
       "2       -5.0\n",
       "3       -5.0\n",
       "4       -5.0\n",
       "        ... \n",
       "43795   -2.0\n",
       "43796   -3.0\n",
       "43797   -3.0\n",
       "43798   -4.0\n",
       "43799   -3.0\n",
       "Name: temp, Length: 43800, dtype: float64"
      ]
     },
     "execution_count": 5,
     "metadata": {},
     "output_type": "execute_result"
    }
   ],
   "source": [
    "# we can use those column names as an index to retrieve just that row\n",
    "# because the columns are indexed by these names, we can perform that lookup very quickly, the computer doesn't need to search column by column\n",
    "pollution[\"temp\"]"
   ]
  },
  {
   "cell_type": "code",
   "execution_count": 7,
   "id": "719457e4-e443-48e2-b7b0-c0c1b509a73c",
   "metadata": {},
   "outputs": [
    {
     "data": {
      "text/html": [
       "<div>\n",
       "<style scoped>\n",
       "    .dataframe tbody tr th:only-of-type {\n",
       "        vertical-align: middle;\n",
       "    }\n",
       "\n",
       "    .dataframe tbody tr th {\n",
       "        vertical-align: top;\n",
       "    }\n",
       "\n",
       "    .dataframe thead th {\n",
       "        text-align: right;\n",
       "    }\n",
       "</style>\n",
       "<table border=\"1\" class=\"dataframe\">\n",
       "  <thead>\n",
       "    <tr style=\"text-align: right;\">\n",
       "      <th></th>\n",
       "      <th>date</th>\n",
       "      <th>pollution</th>\n",
       "      <th>dew</th>\n",
       "      <th>temp</th>\n",
       "      <th>press</th>\n",
       "      <th>wnd_dir</th>\n",
       "      <th>wnd_spd</th>\n",
       "      <th>snow</th>\n",
       "      <th>rain</th>\n",
       "    </tr>\n",
       "  </thead>\n",
       "  <tbody>\n",
       "    <tr>\n",
       "      <th>43796</th>\n",
       "      <td>2014-12-31 20:00:00</td>\n",
       "      <td>10</td>\n",
       "      <td>-22</td>\n",
       "      <td>-3.0</td>\n",
       "      <td>1034.0</td>\n",
       "      <td>NW</td>\n",
       "      <td>237.78</td>\n",
       "      <td>0</td>\n",
       "      <td>0</td>\n",
       "    </tr>\n",
       "  </tbody>\n",
       "</table>\n",
       "</div>"
      ],
      "text/plain": [
       "                     date  pollution  dew  temp   press wnd_dir  wnd_spd  \\\n",
       "43796 2014-12-31 20:00:00         10  -22  -3.0  1034.0      NW   237.78   \n",
       "\n",
       "       snow  rain  \n",
       "43796     0     0  "
      ]
     },
     "execution_count": 7,
     "metadata": {},
     "output_type": "execute_result"
    }
   ],
   "source": [
    "# if we want to look up the row  that has a particular date value, the computer needs to search through all rows one by one\n",
    "pollution[pollution.date == \"2014-12-31 20:00:00\"]"
   ]
  },
  {
   "cell_type": "code",
   "execution_count": 9,
   "id": "e82f56d1-28e7-4249-b3ff-e2969e28e9c4",
   "metadata": {},
   "outputs": [
    {
     "name": "stdout",
     "output_type": "stream",
     "text": [
      "303 µs ± 15.8 µs per loop (mean ± std. dev. of 7 runs, 1,000 loops each)\n"
     ]
    }
   ],
   "source": [
    "# we can use the %time magic command to determine how long that operation takes to execute\n",
    "%timeit pollution[pollution.date == \"2014-12-31 20:00:00\"]"
   ]
  },
  {
   "cell_type": "code",
   "execution_count": 10,
   "id": "fc06b6c9-ff96-44af-984e-0069b7f24433",
   "metadata": {},
   "outputs": [
    {
     "name": "stdout",
     "output_type": "stream",
     "text": [
      "139 µs ± 10.7 µs per loop (mean ± std. dev. of 7 runs, 1,000 loops each)\n"
     ]
    }
   ],
   "source": [
    "pollution.date == \"2014-12-31 20:00:00\""
   ]
  },
  {
   "cell_type": "code",
   "execution_count": 14,
   "id": "91159069-fd7b-4ced-aac3-08f58c3fad96",
   "metadata": {},
   "outputs": [
    {
     "data": {
      "text/plain": [
       "-3.0"
      ]
     },
     "execution_count": 14,
     "metadata": {},
     "output_type": "execute_result"
    }
   ],
   "source": [
    "# Notice that each of the rows also has a index which is shown in bold above.\n",
    "# In this example the row indexes are integers (which is the default)\n",
    "# We can use these row and column indexes to very quickly look up a particular row and column based on their index (43797 for the row and 'temp' for the column)\n",
    "pollution.loc[43797, 'temp']"
   ]
  },
  {
   "cell_type": "code",
   "execution_count": 15,
   "id": "537dc866-0233-419d-acf4-d6e25c044920",
   "metadata": {},
   "outputs": [
    {
     "name": "stdout",
     "output_type": "stream",
     "text": [
      "6.18 µs ± 577 ns per loop (mean ± std. dev. of 7 runs, 100,000 loops each)\n"
     ]
    }
   ],
   "source": [
    "# notice how much faster that works\n",
    "%timeit pollution.loc[43797, 'temp']"
   ]
  },
  {
   "cell_type": "code",
   "execution_count": null,
   "id": "419ac362-b178-4aff-bf46-e8cb64a93da1",
   "metadata": {},
   "outputs": [],
   "source": [
    "# that's very efficient, but we can only lookup a row in this manner if we know it's row number (which is not particularly meaningful)."
   ]
  },
  {
   "cell_type": "code",
   "execution_count": 17,
   "id": "c00efaa4-ac3f-4ef7-8dd9-8ac0c491d08d",
   "metadata": {},
   "outputs": [],
   "source": [
    "# insteads we can tell pandas to use the 'date' column and the row index labels.\n",
    "pollution = pandas.read_csv('Example 01 Tabular Data/LSTM-Multivariate_pollution.csv', parse_dates=['date'], index_col='date')"
   ]
  },
  {
   "cell_type": "code",
   "execution_count": 18,
   "id": "67bb2083-1e03-4c2f-9da3-20eb57a3205d",
   "metadata": {},
   "outputs": [
    {
     "name": "stdout",
     "output_type": "stream",
     "text": [
      "<class 'pandas.core.frame.DataFrame'>\n",
      "DatetimeIndex: 43800 entries, 2010-02-01 00:00:00 to 2014-12-31 23:00:00\n",
      "Data columns (total 8 columns):\n",
      " #   Column     Non-Null Count  Dtype  \n",
      "---  ------     --------------  -----  \n",
      " 0   pollution  43800 non-null  int64  \n",
      " 1   dew        43800 non-null  int64  \n",
      " 2   temp       43800 non-null  float64\n",
      " 3   press      43800 non-null  float64\n",
      " 4   wnd_dir    43800 non-null  object \n",
      " 5   wnd_spd    43800 non-null  float64\n",
      " 6   snow       43800 non-null  int64  \n",
      " 7   rain       43800 non-null  int64  \n",
      "dtypes: float64(3), int64(4), object(1)\n",
      "memory usage: 3.0+ MB\n"
     ]
    }
   ],
   "source": [
    "# notice how we don't have a regular date column anymore, it is now part of the row index\n",
    "pollution.info()"
   ]
  },
  {
   "cell_type": "code",
   "execution_count": 19,
   "id": "7581f794-4bd5-47cb-8e25-5ed6232967b5",
   "metadata": {},
   "outputs": [
    {
     "data": {
      "text/html": [
       "<div>\n",
       "<style scoped>\n",
       "    .dataframe tbody tr th:only-of-type {\n",
       "        vertical-align: middle;\n",
       "    }\n",
       "\n",
       "    .dataframe tbody tr th {\n",
       "        vertical-align: top;\n",
       "    }\n",
       "\n",
       "    .dataframe thead th {\n",
       "        text-align: right;\n",
       "    }\n",
       "</style>\n",
       "<table border=\"1\" class=\"dataframe\">\n",
       "  <thead>\n",
       "    <tr style=\"text-align: right;\">\n",
       "      <th></th>\n",
       "      <th>pollution</th>\n",
       "      <th>dew</th>\n",
       "      <th>temp</th>\n",
       "      <th>press</th>\n",
       "      <th>wnd_dir</th>\n",
       "      <th>wnd_spd</th>\n",
       "      <th>snow</th>\n",
       "      <th>rain</th>\n",
       "    </tr>\n",
       "    <tr>\n",
       "      <th>date</th>\n",
       "      <th></th>\n",
       "      <th></th>\n",
       "      <th></th>\n",
       "      <th></th>\n",
       "      <th></th>\n",
       "      <th></th>\n",
       "      <th></th>\n",
       "      <th></th>\n",
       "    </tr>\n",
       "  </thead>\n",
       "  <tbody>\n",
       "    <tr>\n",
       "      <th>2010-02-01 00:00:00</th>\n",
       "      <td>129</td>\n",
       "      <td>-16</td>\n",
       "      <td>-4.0</td>\n",
       "      <td>1020.0</td>\n",
       "      <td>SE</td>\n",
       "      <td>1.79</td>\n",
       "      <td>0</td>\n",
       "      <td>0</td>\n",
       "    </tr>\n",
       "    <tr>\n",
       "      <th>2010-02-01 01:00:00</th>\n",
       "      <td>148</td>\n",
       "      <td>-15</td>\n",
       "      <td>-4.0</td>\n",
       "      <td>1020.0</td>\n",
       "      <td>SE</td>\n",
       "      <td>2.68</td>\n",
       "      <td>0</td>\n",
       "      <td>0</td>\n",
       "    </tr>\n",
       "    <tr>\n",
       "      <th>2010-02-01 02:00:00</th>\n",
       "      <td>159</td>\n",
       "      <td>-11</td>\n",
       "      <td>-5.0</td>\n",
       "      <td>1021.0</td>\n",
       "      <td>SE</td>\n",
       "      <td>3.57</td>\n",
       "      <td>0</td>\n",
       "      <td>0</td>\n",
       "    </tr>\n",
       "    <tr>\n",
       "      <th>2010-02-01 03:00:00</th>\n",
       "      <td>181</td>\n",
       "      <td>-7</td>\n",
       "      <td>-5.0</td>\n",
       "      <td>1022.0</td>\n",
       "      <td>SE</td>\n",
       "      <td>5.36</td>\n",
       "      <td>1</td>\n",
       "      <td>0</td>\n",
       "    </tr>\n",
       "    <tr>\n",
       "      <th>2010-02-01 04:00:00</th>\n",
       "      <td>138</td>\n",
       "      <td>-7</td>\n",
       "      <td>-5.0</td>\n",
       "      <td>1022.0</td>\n",
       "      <td>SE</td>\n",
       "      <td>6.25</td>\n",
       "      <td>2</td>\n",
       "      <td>0</td>\n",
       "    </tr>\n",
       "    <tr>\n",
       "      <th>...</th>\n",
       "      <td>...</td>\n",
       "      <td>...</td>\n",
       "      <td>...</td>\n",
       "      <td>...</td>\n",
       "      <td>...</td>\n",
       "      <td>...</td>\n",
       "      <td>...</td>\n",
       "      <td>...</td>\n",
       "    </tr>\n",
       "    <tr>\n",
       "      <th>2014-12-31 19:00:00</th>\n",
       "      <td>8</td>\n",
       "      <td>-23</td>\n",
       "      <td>-2.0</td>\n",
       "      <td>1034.0</td>\n",
       "      <td>NW</td>\n",
       "      <td>231.97</td>\n",
       "      <td>0</td>\n",
       "      <td>0</td>\n",
       "    </tr>\n",
       "    <tr>\n",
       "      <th>2014-12-31 20:00:00</th>\n",
       "      <td>10</td>\n",
       "      <td>-22</td>\n",
       "      <td>-3.0</td>\n",
       "      <td>1034.0</td>\n",
       "      <td>NW</td>\n",
       "      <td>237.78</td>\n",
       "      <td>0</td>\n",
       "      <td>0</td>\n",
       "    </tr>\n",
       "    <tr>\n",
       "      <th>2014-12-31 21:00:00</th>\n",
       "      <td>10</td>\n",
       "      <td>-22</td>\n",
       "      <td>-3.0</td>\n",
       "      <td>1034.0</td>\n",
       "      <td>NW</td>\n",
       "      <td>242.70</td>\n",
       "      <td>0</td>\n",
       "      <td>0</td>\n",
       "    </tr>\n",
       "    <tr>\n",
       "      <th>2014-12-31 22:00:00</th>\n",
       "      <td>8</td>\n",
       "      <td>-22</td>\n",
       "      <td>-4.0</td>\n",
       "      <td>1034.0</td>\n",
       "      <td>NW</td>\n",
       "      <td>246.72</td>\n",
       "      <td>0</td>\n",
       "      <td>0</td>\n",
       "    </tr>\n",
       "    <tr>\n",
       "      <th>2014-12-31 23:00:00</th>\n",
       "      <td>12</td>\n",
       "      <td>-21</td>\n",
       "      <td>-3.0</td>\n",
       "      <td>1034.0</td>\n",
       "      <td>NW</td>\n",
       "      <td>249.85</td>\n",
       "      <td>0</td>\n",
       "      <td>0</td>\n",
       "    </tr>\n",
       "  </tbody>\n",
       "</table>\n",
       "<p>43800 rows × 8 columns</p>\n",
       "</div>"
      ],
      "text/plain": [
       "                     pollution  dew  temp   press wnd_dir  wnd_spd  snow  rain\n",
       "date                                                                          \n",
       "2010-02-01 00:00:00        129  -16  -4.0  1020.0      SE     1.79     0     0\n",
       "2010-02-01 01:00:00        148  -15  -4.0  1020.0      SE     2.68     0     0\n",
       "2010-02-01 02:00:00        159  -11  -5.0  1021.0      SE     3.57     0     0\n",
       "2010-02-01 03:00:00        181   -7  -5.0  1022.0      SE     5.36     1     0\n",
       "2010-02-01 04:00:00        138   -7  -5.0  1022.0      SE     6.25     2     0\n",
       "...                        ...  ...   ...     ...     ...      ...   ...   ...\n",
       "2014-12-31 19:00:00          8  -23  -2.0  1034.0      NW   231.97     0     0\n",
       "2014-12-31 20:00:00         10  -22  -3.0  1034.0      NW   237.78     0     0\n",
       "2014-12-31 21:00:00         10  -22  -3.0  1034.0      NW   242.70     0     0\n",
       "2014-12-31 22:00:00          8  -22  -4.0  1034.0      NW   246.72     0     0\n",
       "2014-12-31 23:00:00         12  -21  -3.0  1034.0      NW   249.85     0     0\n",
       "\n",
       "[43800 rows x 8 columns]"
      ]
     },
     "execution_count": 19,
     "metadata": {},
     "output_type": "execute_result"
    }
   ],
   "source": [
    "# we can see the new row index labels in bold below\n",
    "pollution"
   ]
  },
  {
   "cell_type": "code",
   "execution_count": 20,
   "id": "1718c783-9f83-4a76-93b0-ea92a3ce3b82",
   "metadata": {},
   "outputs": [
    {
     "data": {
      "text/plain": [
       "DatetimeIndex(['2010-02-01 00:00:00', '2010-02-01 01:00:00',\n",
       "               '2010-02-01 02:00:00', '2010-02-01 03:00:00',\n",
       "               '2010-02-01 04:00:00', '2010-02-01 05:00:00',\n",
       "               '2010-02-01 06:00:00', '2010-02-01 07:00:00',\n",
       "               '2010-02-01 08:00:00', '2010-02-01 09:00:00',\n",
       "               ...\n",
       "               '2014-12-31 14:00:00', '2014-12-31 15:00:00',\n",
       "               '2014-12-31 16:00:00', '2014-12-31 17:00:00',\n",
       "               '2014-12-31 18:00:00', '2014-12-31 19:00:00',\n",
       "               '2014-12-31 20:00:00', '2014-12-31 21:00:00',\n",
       "               '2014-12-31 22:00:00', '2014-12-31 23:00:00'],\n",
       "              dtype='datetime64[ns]', name='date', length=43800, freq=None)"
      ]
     },
     "execution_count": 20,
     "metadata": {},
     "output_type": "execute_result"
    }
   ],
   "source": [
    "# We don't have a date column, but we can refer to it using the .index attribute\n",
    "pollution.index"
   ]
  },
  {
   "cell_type": "code",
   "execution_count": 21,
   "id": "ab47f757-fa6d-4f09-b699-6e0d5a096532",
   "metadata": {},
   "outputs": [
    {
     "data": {
      "text/plain": [
       "-3.0"
      ]
     },
     "execution_count": 21,
     "metadata": {},
     "output_type": "execute_result"
    }
   ],
   "source": [
    "# We can now do  a very efficient lookup of a particular row and column based on a more meaningful row label (i.e. a date time)\n",
    "pollution.loc[\"2014-12-31 20:00:00\", \"temp\"]"
   ]
  },
  {
   "cell_type": "code",
   "execution_count": 22,
   "id": "26d5c76c-afe7-461c-a24b-900bab50dda0",
   "metadata": {},
   "outputs": [
    {
     "name": "stdout",
     "output_type": "stream",
     "text": [
      "203 µs ± 14.5 µs per loop (mean ± std. dev. of 7 runs, 1,000 loops each)\n"
     ]
    }
   ],
   "source": [
    "# notice how much faster that was than when we had to search through all the date column values\n",
    "%timeit pollution.loc[\"2014-12-31 20:00:00\", \"temp\"]"
   ]
  }
 ],
 "metadata": {
  "kernelspec": {
   "display_name": "Python 3 (ipykernel)",
   "language": "python",
   "name": "python3"
  },
  "language_info": {
   "codemirror_mode": {
    "name": "ipython",
    "version": 3
   },
   "file_extension": ".py",
   "mimetype": "text/x-python",
   "name": "python",
   "nbconvert_exporter": "python",
   "pygments_lexer": "ipython3",
   "version": "3.9.13"
  }
 },
 "nbformat": 4,
 "nbformat_minor": 5
}
