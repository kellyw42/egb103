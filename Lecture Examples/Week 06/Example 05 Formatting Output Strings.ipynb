{
 "cells": [
  {
   "cell_type": "code",
   "execution_count": 1,
   "id": "525eb282-d336-4330-b706-2dd5277f202f",
   "metadata": {},
   "outputs": [
    {
     "data": {
      "text/plain": [
       "'HelloWorld'"
      ]
     },
     "execution_count": 1,
     "metadata": {},
     "output_type": "execute_result"
    }
   ],
   "source": [
    "# We can concatenate two string\n",
    "'Hello' + 'World'"
   ]
  },
  {
   "cell_type": "code",
   "execution_count": 2,
   "id": "e5f63814-9682-4a4e-9933-bd9f9f1e4dca",
   "metadata": {},
   "outputs": [
    {
     "ename": "TypeError",
     "evalue": "can only concatenate str (not \"int\") to str",
     "output_type": "error",
     "traceback": [
      "\u001b[0;31m---------------------------------------------------------------------------\u001b[0m",
      "\u001b[0;31mTypeError\u001b[0m                                 Traceback (most recent call last)",
      "Input \u001b[0;32mIn [2]\u001b[0m, in \u001b[0;36m<cell line: 2>\u001b[0;34m()\u001b[0m\n\u001b[1;32m      1\u001b[0m \u001b[38;5;66;03m# But we can't concatenate a number with strings\u001b[39;00m\n\u001b[0;32m----> 2\u001b[0m \u001b[38;5;124;43m'\u001b[39;49m\u001b[38;5;124;43mHello\u001b[39;49m\u001b[38;5;124;43m'\u001b[39;49m\u001b[43m \u001b[49m\u001b[38;5;241;43m+\u001b[39;49m\u001b[43m \u001b[49m\u001b[38;5;241;43m23\u001b[39;49m \u001b[38;5;241m+\u001b[39m \u001b[38;5;124m'\u001b[39m\u001b[38;5;124mWorld\u001b[39m\u001b[38;5;124m'\u001b[39m\n",
      "\u001b[0;31mTypeError\u001b[0m: can only concatenate str (not \"int\") to str"
     ]
    }
   ],
   "source": [
    "# But we can't concatenate a number with strings\n",
    "'Hello' + 23 + 'World'"
   ]
  },
  {
   "cell_type": "code",
   "execution_count": 3,
   "id": "24423ebe-6043-4b9c-9fe3-2975dedd8d86",
   "metadata": {},
   "outputs": [
    {
     "data": {
      "text/plain": [
       "'Hello23World'"
      ]
     },
     "execution_count": 3,
     "metadata": {},
     "output_type": "execute_result"
    }
   ],
   "source": [
    "# We need to first convert the number to a string using the str function\n",
    "'Hello' + str(23) + 'World'"
   ]
  },
  {
   "cell_type": "code",
   "execution_count": 4,
   "id": "bc1f66dd-b6ac-4ae2-b15e-6939e4226b4a",
   "metadata": {},
   "outputs": [
    {
     "data": {
      "text/plain": [
       "str"
      ]
     },
     "execution_count": 4,
     "metadata": {},
     "output_type": "execute_result"
    }
   ],
   "source": [
    "# The str function always returns a value of type str\n",
    "type(str(23))"
   ]
  },
  {
   "cell_type": "code",
   "execution_count": 5,
   "id": "3bdb0f03-857e-4f63-a839-372071f77579",
   "metadata": {},
   "outputs": [
    {
     "data": {
      "text/plain": [
       "'True'"
      ]
     },
     "execution_count": 5,
     "metadata": {},
     "output_type": "execute_result"
    }
   ],
   "source": [
    "# The str function works for other types also, in this example a boolean expression\n",
    "str(3 < 5)"
   ]
  },
  {
   "cell_type": "code",
   "execution_count": 6,
   "id": "facada3a-d380-49d0-afd7-97d2a06fcbfa",
   "metadata": {},
   "outputs": [
    {
     "data": {
      "text/plain": [
       "'[4, 5, 6]'"
      ]
     },
     "execution_count": 6,
     "metadata": {},
     "output_type": "execute_result"
    }
   ],
   "source": [
    "# or convert a list into a string representation of that list\n",
    "str([4,5,6])"
   ]
  },
  {
   "cell_type": "code",
   "execution_count": null,
   "id": "f0849bb2-3fbc-4d49-9094-8abb34fd03b5",
   "metadata": {},
   "outputs": [],
   "source": [
    "# Recall how we printed  the times table previously ...\n",
    "for x in range(1,13) :\n",
    "    for y in range(1,13) :\n",
    "        print(x, 'x', y, '=', x*y)"
   ]
  },
  {
   "cell_type": "code",
   "execution_count": null,
   "id": "2f84467f-501e-444e-af69-4f2581476a6f",
   "metadata": {},
   "outputs": [],
   "source": [
    "# To make the formatting clearer, we can instead specify a format string and then call the format method on that string\n",
    "for x in range(1,13) :\n",
    "    for y in range(1,13) :\n",
    "        print('{0} x {1} = {2}'.format(x, y, x*y))"
   ]
  },
  {
   "cell_type": "code",
   "execution_count": 9,
   "id": "e79ccfa5-d074-49f7-9769-db7020e37743",
   "metadata": {},
   "outputs": [
    {
     "data": {
      "text/plain": [
       "'3.141592653589793'"
      ]
     },
     "execution_count": 9,
     "metadata": {},
     "output_type": "execute_result"
    }
   ],
   "source": [
    "import math\n",
    "'{0}'.format(math.pi)"
   ]
  },
  {
   "cell_type": "code",
   "execution_count": 10,
   "id": "8e92781d-dc86-42ea-a9cc-d1d673e6bdb3",
   "metadata": {},
   "outputs": [
    {
     "data": {
      "text/plain": [
       "3.141592653589793"
      ]
     },
     "execution_count": 10,
     "metadata": {},
     "output_type": "execute_result"
    }
   ],
   "source": [
    "math.pi"
   ]
  },
  {
   "cell_type": "code",
   "execution_count": 11,
   "id": "aec23672-0ced-45f0-bf35-348df12d9916",
   "metadata": {},
   "outputs": [
    {
     "data": {
      "text/plain": [
       "'area: 9.42477796076938 metres'"
      ]
     },
     "execution_count": 11,
     "metadata": {},
     "output_type": "execute_result"
    }
   ],
   "source": [
    "# A format string can be useful if we want to include other text such as the units of measurement in our output\n",
    "'area: {0} metres'.format(math.pi * 3)"
   ]
  },
  {
   "cell_type": "code",
   "execution_count": 12,
   "id": "eedea6d4-8e60-4fa4-b26d-1e01dfbfc830",
   "metadata": {},
   "outputs": [
    {
     "data": {
      "text/plain": [
       "'area:     9.4248 metres'"
      ]
     },
     "execution_count": 12,
     "metadata": {},
     "output_type": "execute_result"
    }
   ],
   "source": [
    "# We can also use the format string to display parameter 0 with a width of 10 and 4 digits after the decimal place\n",
    "'area: {0:10.4f} metres'.format(math.pi * 3)"
   ]
  },
  {
   "cell_type": "code",
   "execution_count": 13,
   "id": "2de99b43-e430-479a-85cb-0a2ce7b64cd1",
   "metadata": {},
   "outputs": [
    {
     "data": {
      "text/plain": [
       "'area:                 9.42 metres'"
      ]
     },
     "execution_count": 13,
     "metadata": {},
     "output_type": "execute_result"
    }
   ],
   "source": [
    "# or with a width of 20 and 2 characters after the decimal place. Note that 'f' is for formatting floating point values\n",
    "'area: {0:20.2f} metres'.format(math.pi * 3)"
   ]
  },
  {
   "cell_type": "code",
   "execution_count": 14,
   "id": "b2eba8ec-c273-477f-bfc3-9149b41f0fda",
   "metadata": {},
   "outputs": [
    {
     "data": {
      "text/plain": [
       "'area: 9.425 metres'"
      ]
     },
     "execution_count": 14,
     "metadata": {},
     "output_type": "execute_result"
    }
   ],
   "source": [
    "# If we leave out the width parameter then it just uses whatever width is necesssary\n",
    "'area: {0:.3f} metres'.format(math.pi * 3)"
   ]
  },
  {
   "cell_type": "code",
   "execution_count": 15,
   "id": "50477fed-900a-4e1e-aa1d-457585edc601",
   "metadata": {},
   "outputs": [
    {
     "data": {
      "text/plain": [
       "'area: 9.425 metres 42'"
      ]
     },
     "execution_count": 15,
     "metadata": {},
     "output_type": "execute_result"
    }
   ],
   "source": [
    "# We can also format more than one value\n",
    "'area: {0:.3f} metres {1}'.format(math.pi * 3, 42)"
   ]
  },
  {
   "cell_type": "code",
   "execution_count": 16,
   "id": "c28af5ea-bfc4-4cba-8029-3e9c6e2e3c4a",
   "metadata": {},
   "outputs": [
    {
     "data": {
      "text/plain": [
       "'area: 9.425 metres 42.000000'"
      ]
     },
     "execution_count": 16,
     "metadata": {},
     "output_type": "execute_result"
    }
   ],
   "source": [
    "# Here we are formatting both values in floating point format (format 'f')\n",
    "'area: {0:.3f} metres {1:f}'.format(math.pi * 3, 42)"
   ]
  },
  {
   "cell_type": "code",
   "execution_count": 17,
   "id": "5d880a56-081f-4d1b-98ca-e10a7b0bdf29",
   "metadata": {},
   "outputs": [
    {
     "data": {
      "text/plain": [
       "'area: 9.425 metres 42'"
      ]
     },
     "execution_count": 17,
     "metadata": {},
     "output_type": "execute_result"
    }
   ],
   "source": [
    "# or we can format the number 42 in integer format (format 'd' for decimal)\n",
    "'area: {0:.3f} metres {1:d}'.format(math.pi * 3, 42)"
   ]
  },
  {
   "cell_type": "code",
   "execution_count": 18,
   "id": "a02c7ce0-8f80-4896-8996-230754c888c5",
   "metadata": {},
   "outputs": [
    {
     "data": {
      "text/plain": [
       "'area: 9.425 metres    42'"
      ]
     },
     "execution_count": 18,
     "metadata": {},
     "output_type": "execute_result"
    }
   ],
   "source": [
    "# Format the integer value with a width of 5\n",
    "'area: {0:.3f} metres {1:5d}'.format(math.pi * 3, 42)"
   ]
  },
  {
   "cell_type": "code",
   "execution_count": null,
   "id": "62fb1004-27bf-44ee-8ff3-1f5641bbdee5",
   "metadata": {},
   "outputs": [],
   "source": [
    "# Now let's use our format method to revisit the times tables\n",
    "for x in range(1,13) :\n",
    "    for y in range(1,13) :\n",
    "        print('{0:.2f} x {1} = {2}'.format(x, y, x*y))"
   ]
  },
  {
   "cell_type": "code",
   "execution_count": null,
   "id": "78721621-08ca-4f3e-a9ee-37705b28cde6",
   "metadata": {},
   "outputs": [],
   "source": [
    "# The latest verion of Python introduces formatted string  literals which have an 'f' before the opening quote.\n",
    "# See https://docs.python.org/3/tutorial/inputoutput.html\n",
    "for x in range(1,13) :\n",
    "    for y in range(1,13) :\n",
    "        print(f'{x} x {y} = {x*y}')"
   ]
  },
  {
   "cell_type": "code",
   "execution_count": null,
   "id": "142e490a-85a5-4e14-bd76-41a0fcd0ddc1",
   "metadata": {},
   "outputs": [],
   "source": [
    "# If we forget to include the 'f', the content  of the string is not interpolated.\n",
    "for x in range(1,13) :\n",
    "    for y in range(1,13) :\n",
    "        print('{x} x {y} = {x*y}')"
   ]
  },
  {
   "cell_type": "code",
   "execution_count": null,
   "id": "93c49a11-df89-41a9-abc2-0fc724ecbbda",
   "metadata": {},
   "outputs": [],
   "source": [
    "# The new formatted string literals also allow width and number of decimal places to be specified\n",
    "for x in range(1,13) :\n",
    "    for y in range(1,13) :\n",
    "        print(f'{x:5.2f} x {y} = {x*y:4.1f}')"
   ]
  },
  {
   "cell_type": "code",
   "execution_count": null,
   "id": "73755d5d-b913-45e9-adc8-57ee786a4f3b",
   "metadata": {},
   "outputs": [],
   "source": [
    "# Try creating some examples of your own ..."
   ]
  }
 ],
 "metadata": {
  "kernelspec": {
   "display_name": "Python 3 (ipykernel)",
   "language": "python",
   "name": "python3"
  },
  "language_info": {
   "codemirror_mode": {
    "name": "ipython",
    "version": 3
   },
   "file_extension": ".py",
   "mimetype": "text/x-python",
   "name": "python",
   "nbconvert_exporter": "python",
   "pygments_lexer": "ipython3",
   "version": "3.9.13"
  }
 },
 "nbformat": 4,
 "nbformat_minor": 5
}
