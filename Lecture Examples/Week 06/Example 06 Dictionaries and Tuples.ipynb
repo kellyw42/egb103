{
 "cells": [
  {
   "cell_type": "code",
   "execution_count": 1,
   "id": "16089f27-07f2-4b13-b639-686167a4b563",
   "metadata": {},
   "outputs": [],
   "source": [
    "contacts = [ '0405 771 343', '0401 343 234', '0405 324 324' ]"
   ]
  },
  {
   "cell_type": "code",
   "execution_count": 2,
   "id": "796273be-54f3-4205-9954-e7154fb5f5b8",
   "metadata": {},
   "outputs": [
    {
     "data": {
      "text/plain": [
       "'0401 343 234'"
      ]
     },
     "execution_count": 2,
     "metadata": {},
     "output_type": "execute_result"
    }
   ],
   "source": [
    "# Lookup entry in list based on integer index position\n",
    "contacts[1]"
   ]
  },
  {
   "cell_type": "code",
   "execution_count": 3,
   "id": "1b5776d7-0113-45ee-90d1-b5eaabbd2644",
   "metadata": {},
   "outputs": [
    {
     "ename": "TypeError",
     "evalue": "list indices must be integers or slices, not float",
     "output_type": "error",
     "traceback": [
      "\u001b[0;31m---------------------------------------------------------------------------\u001b[0m",
      "\u001b[0;31mTypeError\u001b[0m                                 Traceback (most recent call last)",
      "Input \u001b[0;32mIn [3]\u001b[0m, in \u001b[0;36m<cell line: 2>\u001b[0;34m()\u001b[0m\n\u001b[1;32m      1\u001b[0m \u001b[38;5;66;03m# Note that the index expression for a list can't be a floating point number, it must be an integer\u001b[39;00m\n\u001b[0;32m----> 2\u001b[0m \u001b[43mcontacts\u001b[49m\u001b[43m[\u001b[49m\u001b[38;5;241;43m3.14\u001b[39;49m\u001b[43m]\u001b[49m\n",
      "\u001b[0;31mTypeError\u001b[0m: list indices must be integers or slices, not float"
     ]
    }
   ],
   "source": [
    "# Note that the index expression for a list can't be a floating point number, it must be an integer\n",
    "contacts[3.14]"
   ]
  },
  {
   "cell_type": "code",
   "execution_count": 4,
   "id": "3788f7af-c966-4051-b579-56059c4b2fde",
   "metadata": {},
   "outputs": [],
   "source": [
    "# Instead I could create a dictionary that allows me to use non integer values as indexes (such as a string)\n",
    "contacts = { 'Phillip': '0405 771 343', 'Paul': '0401 343 234', 'Lisa': '0405 324 324' }"
   ]
  },
  {
   "cell_type": "code",
   "execution_count": 5,
   "id": "956b9fe0-2ee2-4427-9cab-ed46196d894a",
   "metadata": {},
   "outputs": [
    {
     "data": {
      "text/plain": [
       "'0401 343 234'"
      ]
     },
     "execution_count": 5,
     "metadata": {},
     "output_type": "execute_result"
    }
   ],
   "source": [
    "# Lookup the dictionary using index/key value 'Paul'\n",
    "contacts['Paul']"
   ]
  },
  {
   "cell_type": "code",
   "execution_count": 6,
   "id": "e67ba732-65dc-4e23-9752-270c8e151439",
   "metadata": {},
   "outputs": [],
   "source": [
    "# I can also update or add a new entry to a dictionary\n",
    "contacts['Harry'] = '0406 322 343'"
   ]
  },
  {
   "cell_type": "code",
   "execution_count": 7,
   "id": "14f0566a-88e0-48b6-8cd2-a567e767d66d",
   "metadata": {},
   "outputs": [
    {
     "data": {
      "text/plain": [
       "{'Phillip': '0405 771 343',\n",
       " 'Paul': '0401 343 234',\n",
       " 'Lisa': '0405 324 324',\n",
       " 'Harry': '0406 322 343'}"
      ]
     },
     "execution_count": 7,
     "metadata": {},
     "output_type": "execute_result"
    }
   ],
   "source": [
    "# contacts dictionary now has an additional element\n",
    "contacts"
   ]
  },
  {
   "cell_type": "code",
   "execution_count": 8,
   "id": "0d808d66-586c-40ce-8c52-eee7e140dc6e",
   "metadata": {},
   "outputs": [
    {
     "data": {
      "text/plain": [
       "dict"
      ]
     },
     "execution_count": 8,
     "metadata": {},
     "output_type": "execute_result"
    }
   ],
   "source": [
    "# contracts is of type dict (short for dictionary)\n",
    "type(contacts)"
   ]
  },
  {
   "cell_type": "code",
   "execution_count": 9,
   "id": "737b4878-2264-47c6-86c0-760e9061a31a",
   "metadata": {},
   "outputs": [],
   "source": [
    "# The key/index value doesn't have to be a string, it can be an integer ...\n",
    "contacts[344] = '0406 322 343'"
   ]
  },
  {
   "cell_type": "code",
   "execution_count": 10,
   "id": "6fffb5d1-fe92-48d1-aaab-da9132f19be2",
   "metadata": {},
   "outputs": [],
   "source": [
    "# or a floating point value ...\n",
    "contacts[3.14] = 'fredffrf'"
   ]
  },
  {
   "cell_type": "code",
   "execution_count": 11,
   "id": "1bd1a6a4-e87b-401c-b23c-a9c0d4f527ca",
   "metadata": {},
   "outputs": [
    {
     "data": {
      "text/plain": [
       "{'Phillip': '0405 771 343',\n",
       " 'Paul': '0401 343 234',\n",
       " 'Lisa': '0405 324 324',\n",
       " 'Harry': '0406 322 343',\n",
       " 344: '0406 322 343',\n",
       " 3.14: 'fredffrf'}"
      ]
     },
     "execution_count": 11,
     "metadata": {},
     "output_type": "execute_result"
    }
   ],
   "source": [
    "# Note the new entries in the dictionary ...\n",
    "contacts"
   ]
  },
  {
   "cell_type": "code",
   "execution_count": 12,
   "id": "893752d6-b9da-40bf-88f5-d84802817e0d",
   "metadata": {},
   "outputs": [
    {
     "ename": "TypeError",
     "evalue": "unhashable type: 'list'",
     "output_type": "error",
     "traceback": [
      "\u001b[0;31m---------------------------------------------------------------------------\u001b[0m",
      "\u001b[0;31mTypeError\u001b[0m                                 Traceback (most recent call last)",
      "Input \u001b[0;32mIn [12]\u001b[0m, in \u001b[0;36m<cell line: 2>\u001b[0;34m()\u001b[0m\n\u001b[1;32m      1\u001b[0m \u001b[38;5;66;03m# But I can't use a list value as an index/key (because a list is not hashable)\u001b[39;00m\n\u001b[0;32m----> 2\u001b[0m \u001b[43mcontacts\u001b[49m\u001b[43m[\u001b[49m\u001b[43m[\u001b[49m\u001b[38;5;241;43m1\u001b[39;49m\u001b[43m,\u001b[49m\u001b[38;5;241;43m2\u001b[39;49m\u001b[43m,\u001b[49m\u001b[38;5;241;43m3\u001b[39;49m\u001b[43m]\u001b[49m\u001b[43m]\u001b[49m \u001b[38;5;241m=\u001b[39m \u001b[38;5;124m'\u001b[39m\u001b[38;5;124mfredffrf\u001b[39m\u001b[38;5;124m'\u001b[39m\n",
      "\u001b[0;31mTypeError\u001b[0m: unhashable type: 'list'"
     ]
    }
   ],
   "source": [
    "# But I can't use a list value as an index/key (because a list is not hashable)\n",
    "contacts[[1,2,3]] = 'fredffrf'"
   ]
  },
  {
   "cell_type": "code",
   "execution_count": 13,
   "id": "e8030c8b-45fc-4507-9b0e-dbbca163d09c",
   "metadata": {},
   "outputs": [],
   "source": [
    "# I can store a list as a value in a dictionary, just not as the index/key\n",
    "contacts['fred'] = [34, 34, 3]"
   ]
  },
  {
   "cell_type": "code",
   "execution_count": 14,
   "id": "d96b1db0-3c0c-4713-9b39-28d207d1568a",
   "metadata": {},
   "outputs": [
    {
     "data": {
      "text/plain": [
       "{'Phillip': '0405 771 343',\n",
       " 'Paul': '0401 343 234',\n",
       " 'Lisa': '0405 324 324',\n",
       " 'Harry': '0406 322 343',\n",
       " 344: '0406 322 343',\n",
       " 3.14: 'fredffrf',\n",
       " 'fred': [34, 34, 3]}"
      ]
     },
     "execution_count": 14,
     "metadata": {},
     "output_type": "execute_result"
    }
   ],
   "source": [
    "contacts"
   ]
  },
  {
   "cell_type": "code",
   "execution_count": 15,
   "id": "ce9e23f2-48df-41f1-8509-144a78dc7871",
   "metadata": {},
   "outputs": [
    {
     "data": {
      "text/plain": [
       "8761423582253663994"
      ]
     },
     "execution_count": 15,
     "metadata": {},
     "output_type": "execute_result"
    }
   ],
   "source": [
    "# The built in hash function tries to convert a value into a unique integer representation of that value\n",
    "# string values are hashable (because they are immutable)\n",
    "hash('fred')"
   ]
  },
  {
   "cell_type": "code",
   "execution_count": 16,
   "id": "243605ab-7c1d-4a59-8349-0cb1363c43a1",
   "metadata": {},
   "outputs": [
    {
     "data": {
      "text/plain": [
       "5412443324977092462"
      ]
     },
     "execution_count": 16,
     "metadata": {},
     "output_type": "execute_result"
    }
   ],
   "source": [
    "hash('Phillip')"
   ]
  },
  {
   "cell_type": "code",
   "execution_count": 17,
   "id": "089ae287-a637-4386-bbd2-c3b7596dc991",
   "metadata": {},
   "outputs": [
    {
     "data": {
      "text/plain": [
       "344"
      ]
     },
     "execution_count": 17,
     "metadata": {},
     "output_type": "execute_result"
    }
   ],
   "source": [
    "# integer values are hashable\n",
    "hash(344)"
   ]
  },
  {
   "cell_type": "code",
   "execution_count": 18,
   "id": "034e1099-61bf-4f3d-aee6-3223c869fb25",
   "metadata": {},
   "outputs": [
    {
     "data": {
      "text/plain": [
       "322818021289917443"
      ]
     },
     "execution_count": 18,
     "metadata": {},
     "output_type": "execute_result"
    }
   ],
   "source": [
    "# floating point values are hashable\n",
    "hash(3.14)"
   ]
  },
  {
   "cell_type": "code",
   "execution_count": 19,
   "id": "0707c983-dfe0-49e7-93ea-86a3a2c76e38",
   "metadata": {},
   "outputs": [
    {
     "ename": "TypeError",
     "evalue": "unhashable type: 'list'",
     "output_type": "error",
     "traceback": [
      "\u001b[0;31m---------------------------------------------------------------------------\u001b[0m",
      "\u001b[0;31mTypeError\u001b[0m                                 Traceback (most recent call last)",
      "Input \u001b[0;32mIn [19]\u001b[0m, in \u001b[0;36m<cell line: 2>\u001b[0;34m()\u001b[0m\n\u001b[1;32m      1\u001b[0m \u001b[38;5;66;03m# but list values are not hashable\u001b[39;00m\n\u001b[0;32m----> 2\u001b[0m \u001b[38;5;28;43mhash\u001b[39;49m\u001b[43m(\u001b[49m\u001b[43m[\u001b[49m\u001b[38;5;241;43m1\u001b[39;49m\u001b[43m,\u001b[49m\u001b[38;5;241;43m2\u001b[39;49m\u001b[43m,\u001b[49m\u001b[38;5;241;43m3\u001b[39;49m\u001b[43m]\u001b[49m\u001b[43m)\u001b[49m\n",
      "\u001b[0;31mTypeError\u001b[0m: unhashable type: 'list'"
     ]
    }
   ],
   "source": [
    "# but list values are not hashable\n",
    "hash([1,2,3])\n",
    "\n",
    "# the dictionary type internally uses the hash function  to convert the index/key value into a number before looking up that number in the dictionary"
   ]
  },
  {
   "cell_type": "code",
   "execution_count": 20,
   "id": "90fd2ec2-1be4-4ca7-b570-22bbbd489176",
   "metadata": {},
   "outputs": [
    {
     "data": {
      "text/plain": [
       "529344067295497451"
      ]
     },
     "execution_count": 20,
     "metadata": {},
     "output_type": "execute_result"
    }
   ],
   "source": [
    "# a list is not hashable, but a tuple is hashable (because it's immutable)\n",
    "hash((1,2,3))"
   ]
  },
  {
   "cell_type": "code",
   "execution_count": 21,
   "id": "f4f5a24e-6d11-4aa8-8945-aad471126c9b",
   "metadata": {},
   "outputs": [
    {
     "data": {
      "text/plain": [
       "['__class__',\n",
       " '__class_getitem__',\n",
       " '__contains__',\n",
       " '__delattr__',\n",
       " '__delitem__',\n",
       " '__dir__',\n",
       " '__doc__',\n",
       " '__eq__',\n",
       " '__format__',\n",
       " '__ge__',\n",
       " '__getattribute__',\n",
       " '__getitem__',\n",
       " '__gt__',\n",
       " '__hash__',\n",
       " '__init__',\n",
       " '__init_subclass__',\n",
       " '__ior__',\n",
       " '__iter__',\n",
       " '__le__',\n",
       " '__len__',\n",
       " '__lt__',\n",
       " '__ne__',\n",
       " '__new__',\n",
       " '__or__',\n",
       " '__reduce__',\n",
       " '__reduce_ex__',\n",
       " '__repr__',\n",
       " '__reversed__',\n",
       " '__ror__',\n",
       " '__setattr__',\n",
       " '__setitem__',\n",
       " '__sizeof__',\n",
       " '__str__',\n",
       " '__subclasshook__',\n",
       " 'clear',\n",
       " 'copy',\n",
       " 'fromkeys',\n",
       " 'get',\n",
       " 'items',\n",
       " 'keys',\n",
       " 'pop',\n",
       " 'popitem',\n",
       " 'setdefault',\n",
       " 'update',\n",
       " 'values']"
      ]
     },
     "execution_count": 21,
     "metadata": {},
     "output_type": "execute_result"
    }
   ],
   "source": [
    "# let's look at the properties and methods of our dictionary object ...\n",
    "dir(contacts)"
   ]
  },
  {
   "cell_type": "code",
   "execution_count": 22,
   "id": "6b1deff1-9c8b-46c5-b940-01c4269c2c3c",
   "metadata": {},
   "outputs": [
    {
     "data": {
      "text/plain": [
       "{'Phillip': '0405 771 343',\n",
       " 'Paul': '0401 343 234',\n",
       " 'Lisa': '0405 324 324',\n",
       " 'Harry': '0406 322 343',\n",
       " 344: '0406 322 343',\n",
       " 3.14: 'fredffrf',\n",
       " 'fred': [34, 34, 3]}"
      ]
     },
     "execution_count": 22,
     "metadata": {},
     "output_type": "execute_result"
    }
   ],
   "source": [
    "contacts"
   ]
  },
  {
   "cell_type": "code",
   "execution_count": 23,
   "id": "fd18a2b2-6ad1-41a8-897f-bd1e649797b1",
   "metadata": {},
   "outputs": [
    {
     "data": {
      "text/plain": [
       "dict_keys(['Phillip', 'Paul', 'Lisa', 'Harry', 344, 3.14, 'fred'])"
      ]
     },
     "execution_count": 23,
     "metadata": {},
     "output_type": "execute_result"
    }
   ],
   "source": [
    "# we can get all the keys stored in the dictionary\n",
    "contacts.keys()"
   ]
  },
  {
   "cell_type": "code",
   "execution_count": 24,
   "id": "2ce925fb-a36f-4077-8b63-b322d31ef829",
   "metadata": {},
   "outputs": [
    {
     "data": {
      "text/plain": [
       "dict_keys"
      ]
     },
     "execution_count": 24,
     "metadata": {},
     "output_type": "execute_result"
    }
   ],
   "source": [
    "# But note that the result is not a list\n",
    "type(contacts.keys())"
   ]
  },
  {
   "cell_type": "code",
   "execution_count": 25,
   "id": "54a71b0a-4ef5-4210-914d-81ec09b5cf42",
   "metadata": {},
   "outputs": [
    {
     "ename": "TypeError",
     "evalue": "'dict_keys' object is not subscriptable",
     "output_type": "error",
     "traceback": [
      "\u001b[0;31m---------------------------------------------------------------------------\u001b[0m",
      "\u001b[0;31mTypeError\u001b[0m                                 Traceback (most recent call last)",
      "Input \u001b[0;32mIn [25]\u001b[0m, in \u001b[0;36m<cell line: 2>\u001b[0;34m()\u001b[0m\n\u001b[1;32m      1\u001b[0m \u001b[38;5;66;03m# So we can't index into the keys\u001b[39;00m\n\u001b[0;32m----> 2\u001b[0m \u001b[43mcontacts\u001b[49m\u001b[38;5;241;43m.\u001b[39;49m\u001b[43mkeys\u001b[49m\u001b[43m(\u001b[49m\u001b[43m)\u001b[49m\u001b[43m[\u001b[49m\u001b[38;5;241;43m1\u001b[39;49m\u001b[43m]\u001b[49m\n",
      "\u001b[0;31mTypeError\u001b[0m: 'dict_keys' object is not subscriptable"
     ]
    }
   ],
   "source": [
    "# So we can't index into the keys\n",
    "contacts.keys()[1]"
   ]
  },
  {
   "cell_type": "code",
   "execution_count": 26,
   "id": "7f54ec63-3155-4417-b112-f5dc32801f5f",
   "metadata": {},
   "outputs": [
    {
     "name": "stdout",
     "output_type": "stream",
     "text": [
      "Phillip\n",
      "Paul\n",
      "Lisa\n",
      "Harry\n",
      "344\n",
      "3.14\n",
      "fred\n"
     ]
    }
   ],
   "source": [
    "# However the dict_keys is iterable, so we can use a for loop to iterate through each of the keys\n",
    "for key in contacts.keys() :\n",
    "    print(key)"
   ]
  },
  {
   "cell_type": "code",
   "execution_count": 27,
   "id": "ddc694c6-e2dc-44c2-b399-959fad620769",
   "metadata": {},
   "outputs": [
    {
     "name": "stdout",
     "output_type": "stream",
     "text": [
      "Phillip 0405 771 343\n",
      "Paul 0401 343 234\n",
      "Lisa 0405 324 324\n",
      "Harry 0406 322 343\n",
      "344 0406 322 343\n",
      "3.14 fredffrf\n",
      "fred [34, 34, 3]\n"
     ]
    }
   ],
   "source": [
    "# We can then use those key values to  index into the dictionary ...\n",
    "for key in contacts.keys() :\n",
    "    print(key, contacts[key])"
   ]
  },
  {
   "cell_type": "code",
   "execution_count": 28,
   "id": "c78a2d55-b8c7-477e-9c2a-2fd009da7db4",
   "metadata": {},
   "outputs": [
    {
     "name": "stdout",
     "output_type": "stream",
     "text": [
      "0405 771 343\n",
      "0401 343 234\n",
      "0405 324 324\n",
      "0406 322 343\n",
      "0406 322 343\n",
      "fredffrf\n",
      "[34, 34, 3]\n"
     ]
    }
   ],
   "source": [
    "# similarly we can iterate through all the values stored in the dictionary (ignoring their key)\n",
    "for value in contacts.values() :\n",
    "    print(value)"
   ]
  },
  {
   "cell_type": "code",
   "execution_count": 29,
   "id": "51d79981-8b4a-475b-bd4a-907d02546e8f",
   "metadata": {},
   "outputs": [
    {
     "data": {
      "text/plain": [
       "dict_values(['0405 771 343', '0401 343 234', '0405 324 324', '0406 322 343', '0406 322 343', 'fredffrf', [34, 34, 3]])"
      ]
     },
     "execution_count": 29,
     "metadata": {},
     "output_type": "execute_result"
    }
   ],
   "source": [
    "# The values function returns an iterable result but it is not a list\n",
    "contacts.values()"
   ]
  },
  {
   "cell_type": "code",
   "execution_count": 30,
   "id": "feec29b5-1cb6-4065-af12-9eb701cc933b",
   "metadata": {},
   "outputs": [
    {
     "data": {
      "text/plain": [
       "dict_items([('Phillip', '0405 771 343'), ('Paul', '0401 343 234'), ('Lisa', '0405 324 324'), ('Harry', '0406 322 343'), (344, '0406 322 343'), (3.14, 'fredffrf'), ('fred', [34, 34, 3])])"
      ]
     },
     "execution_count": 30,
     "metadata": {},
     "output_type": "execute_result"
    }
   ],
   "source": [
    "# The items of a dictionary includes both the key and values as a list of tuples (pairs)\n",
    "contacts.items()"
   ]
  },
  {
   "cell_type": "code",
   "execution_count": 31,
   "id": "0a02c3fc-abf6-42a1-b979-a7055e905185",
   "metadata": {},
   "outputs": [
    {
     "name": "stdout",
     "output_type": "stream",
     "text": [
      "('Phillip', '0405 771 343')\n",
      "('Paul', '0401 343 234')\n",
      "('Lisa', '0405 324 324')\n",
      "('Harry', '0406 322 343')\n",
      "(344, '0406 322 343')\n",
      "(3.14, 'fredffrf')\n",
      "('fred', [34, 34, 3])\n"
     ]
    }
   ],
   "source": [
    "# We can iterate through  the items\n",
    "for item in contacts.items() :\n",
    "    print(item)"
   ]
  },
  {
   "cell_type": "code",
   "execution_count": 32,
   "id": "40c0fb6e-2b67-4225-a946-c333f0f8deea",
   "metadata": {},
   "outputs": [
    {
     "name": "stdout",
     "output_type": "stream",
     "text": [
      "Phillip\n",
      "Paul\n",
      "Lisa\n",
      "Harry\n",
      "344\n",
      "3.14\n",
      "fred\n"
     ]
    }
   ],
   "source": [
    "# and pull out just the key part of the tuple (pair), i.e. element 0\n",
    "for item in contacts.items() :\n",
    "    print(item[0])"
   ]
  },
  {
   "cell_type": "code",
   "execution_count": 33,
   "id": "0504f571-fca6-41f0-a4a9-121971077f07",
   "metadata": {},
   "outputs": [
    {
     "name": "stdout",
     "output_type": "stream",
     "text": [
      "Phillip 0405 771 343\n",
      "Paul 0401 343 234\n",
      "Lisa 0405 324 324\n",
      "Harry 0406 322 343\n",
      "344 0406 322 343\n",
      "3.14 fredffrf\n",
      "fred [34, 34, 3]\n"
     ]
    }
   ],
   "source": [
    "# or pull out both key and value and positions 0 and 1 respectively within the tuple\n",
    "for item in contacts.items() :\n",
    "    print(item[0], item[1])"
   ]
  },
  {
   "cell_type": "code",
   "execution_count": 34,
   "id": "15dfc262-d8e9-4f0d-be7c-32566ea7d799",
   "metadata": {},
   "outputs": [
    {
     "name": "stdout",
     "output_type": "stream",
     "text": [
      "Phillip 0405 771 343\n",
      "Paul 0401 343 234\n",
      "Lisa 0405 324 324\n",
      "Harry 0406 322 343\n",
      "344 0406 322 343\n",
      "3.14 fredffrf\n",
      "fred [34, 34, 3]\n"
     ]
    }
   ],
   "source": [
    "# or we can use a special for loop to pull apart the key and value tuple\n",
    "for key, value in contacts.items() :\n",
    "    print(key, value)"
   ]
  },
  {
   "cell_type": "code",
   "execution_count": 35,
   "id": "fb01c9f5-8f50-466e-99a2-c91b40fc8949",
   "metadata": {},
   "outputs": [],
   "source": [
    "# A tuple is very similar to a list\n",
    "a = ('Phillip', '0405 322 342')"
   ]
  },
  {
   "cell_type": "code",
   "execution_count": 36,
   "id": "dfec4a99-fd33-45b3-a54e-fa52381b29fe",
   "metadata": {},
   "outputs": [],
   "source": [
    "b = ['Phillip', '0405 322 343']"
   ]
  },
  {
   "cell_type": "code",
   "execution_count": 37,
   "id": "65bae5c2-a19b-4157-beb3-470ac76fe2eb",
   "metadata": {},
   "outputs": [
    {
     "ename": "TypeError",
     "evalue": "'tuple' object does not support item assignment",
     "output_type": "error",
     "traceback": [
      "\u001b[0;31m---------------------------------------------------------------------------\u001b[0m",
      "\u001b[0;31mTypeError\u001b[0m                                 Traceback (most recent call last)",
      "Input \u001b[0;32mIn [37]\u001b[0m, in \u001b[0;36m<cell line: 2>\u001b[0;34m()\u001b[0m\n\u001b[1;32m      1\u001b[0m \u001b[38;5;66;03m# but we can't update the elements of a tuple (tuples are immutable)\u001b[39;00m\n\u001b[0;32m----> 2\u001b[0m \u001b[43ma\u001b[49m\u001b[43m[\u001b[49m\u001b[38;5;241;43m0\u001b[39;49m\u001b[43m]\u001b[49m \u001b[38;5;241m=\u001b[39m \u001b[38;5;124m'\u001b[39m\u001b[38;5;124mFred\u001b[39m\u001b[38;5;124m'\u001b[39m\n",
      "\u001b[0;31mTypeError\u001b[0m: 'tuple' object does not support item assignment"
     ]
    }
   ],
   "source": [
    "# But we can't update the elements of a tuple (tuples are immutable)\n",
    "a[0] = 'Fred'"
   ]
  },
  {
   "cell_type": "code",
   "execution_count": 38,
   "id": "996694e8-ab4c-4eca-beb9-fced4d906c40",
   "metadata": {},
   "outputs": [
    {
     "data": {
      "text/plain": [
       "-3889402655118333152"
      ]
     },
     "execution_count": 38,
     "metadata": {},
     "output_type": "execute_result"
    }
   ],
   "source": [
    "# A list is not hashable, but a tuple is hashable (because it is immutable)\n",
    "hash(a)"
   ]
  },
  {
   "cell_type": "code",
   "execution_count": 39,
   "id": "c3f2db78-7ddf-4fe7-a0e6-0e4f0045aaba",
   "metadata": {},
   "outputs": [],
   "source": [
    "# We could therefore if we wished, use a tuple as an index into a dictionary\n",
    "contacts[('Phillip', '0405 322 343')] = '234 34242'"
   ]
  },
  {
   "cell_type": "code",
   "execution_count": 40,
   "id": "2a7ee521-12cd-4b79-8e45-a3572fe16c68",
   "metadata": {},
   "outputs": [
    {
     "data": {
      "text/plain": [
       "{'Phillip': '0405 771 343',\n",
       " 'Paul': '0401 343 234',\n",
       " 'Lisa': '0405 324 324',\n",
       " 'Harry': '0406 322 343',\n",
       " 344: '0406 322 343',\n",
       " 3.14: 'fredffrf',\n",
       " 'fred': [34, 34, 3],\n",
       " ('Phillip', '0405 322 343'): '234 34242'}"
      ]
     },
     "execution_count": 40,
     "metadata": {},
     "output_type": "execute_result"
    }
   ],
   "source": [
    "contacts"
   ]
  },
  {
   "cell_type": "code",
   "execution_count": 41,
   "id": "2a4a97d8-d359-457d-9482-908911f83bef",
   "metadata": {},
   "outputs": [],
   "source": [
    "# Let's revert to our original clean contacts dictionary\n",
    "contacts = { 'Phillip': '0405 771 343', 'Paul': '0401 343 234', 'Lisa': '0405 324 324' }"
   ]
  },
  {
   "cell_type": "code",
   "execution_count": 42,
   "id": "d1048dc7-fcee-4fef-ab71-7551c1eaca8c",
   "metadata": {},
   "outputs": [
    {
     "data": {
      "text/plain": [
       "'0401 343 234'"
      ]
     },
     "execution_count": 42,
     "metadata": {},
     "output_type": "execute_result"
    }
   ],
   "source": [
    "contacts['Paul']"
   ]
  },
  {
   "cell_type": "code",
   "execution_count": 43,
   "id": "7c2a8b5e-ac6b-4031-b70e-da04f54503a4",
   "metadata": {},
   "outputs": [],
   "source": [
    "# What if we wanted to store more than just phone numbers for each contact?\n",
    "# I could for example instead store a list of information about  contact 'Paul' ... \n",
    "contacts = { 'Phillip': '0405 771 343', 'Paul': ['0401 343 234','paul@gmail.com'], 'Lisa': '0405 324 324' }"
   ]
  },
  {
   "cell_type": "code",
   "execution_count": 44,
   "id": "251435f8-c5d5-4595-bc31-a5b2e91f5e41",
   "metadata": {},
   "outputs": [
    {
     "data": {
      "text/plain": [
       "['0401 343 234', 'paul@gmail.com']"
      ]
     },
     "execution_count": 44,
     "metadata": {},
     "output_type": "execute_result"
    }
   ],
   "source": [
    "# When I lookup Paul I get a list\n",
    "contacts['Paul']"
   ]
  },
  {
   "cell_type": "code",
   "execution_count": 45,
   "id": "fe9db994-f824-49e4-9552-6c8950749d41",
   "metadata": {},
   "outputs": [
    {
     "data": {
      "text/plain": [
       "'0401 343 234'"
      ]
     },
     "execution_count": 45,
     "metadata": {},
     "output_type": "execute_result"
    }
   ],
   "source": [
    "# I can then extract the first and second elements of that list to retrieve phone number and email respectively\n",
    "contacts['Paul'][0]"
   ]
  },
  {
   "cell_type": "code",
   "execution_count": 46,
   "id": "4b720a3a-cd61-4211-841a-a741694c247f",
   "metadata": {},
   "outputs": [
    {
     "data": {
      "text/plain": [
       "'paul@gmail.com'"
      ]
     },
     "execution_count": 46,
     "metadata": {},
     "output_type": "execute_result"
    }
   ],
   "source": [
    "contacts['Paul'][1]"
   ]
  },
  {
   "cell_type": "code",
   "execution_count": 47,
   "id": "786c9847-2653-445d-95e4-920df2da5314",
   "metadata": {},
   "outputs": [],
   "source": [
    "# The problem with the above approach is that I need to remember that the phone number is stored at position 0 \n",
    "# and the email address is stored at position 1\n",
    "# I could instead store a dictionary inside my dictionary, \n",
    "# so that each detail recorded for each contact will have a friendly string name that I can use to lookup\n",
    "\n",
    "contacts = { 'Phillip': {'phone' : '0405 771 343', 'email' : 'phillip@hotmail.com'}, \n",
    "             'Paul': { 'phone' :'0401 343 234', 'email' : 'paul@gmail.com'}, \n",
    "             'Lisa': { 'phone' : '0405 324 324'} \n",
    "           }"
   ]
  },
  {
   "cell_type": "code",
   "execution_count": 48,
   "id": "7e572232-5a0e-4dad-9704-cedac26240e9",
   "metadata": {},
   "outputs": [
    {
     "data": {
      "text/plain": [
       "{'phone': '0401 343 234', 'email': 'paul@gmail.com'}"
      ]
     },
     "execution_count": 48,
     "metadata": {},
     "output_type": "execute_result"
    }
   ],
   "source": [
    "# When I lookup Paul I get a dictionary\n",
    "contacts['Paul']"
   ]
  },
  {
   "cell_type": "code",
   "execution_count": 49,
   "id": "af41938e-5a0f-4ad1-b02f-232965d422a4",
   "metadata": {},
   "outputs": [
    {
     "data": {
      "text/plain": [
       "'paul@gmail.com'"
      ]
     },
     "execution_count": 49,
     "metadata": {},
     "output_type": "execute_result"
    }
   ],
   "source": [
    "# I can then index into that dictionary to retrieve the email address\n",
    "contacts['Paul']['email']"
   ]
  },
  {
   "cell_type": "code",
   "execution_count": 50,
   "id": "ab79649e-aa07-4757-9fcc-18f421abc401",
   "metadata": {},
   "outputs": [
    {
     "data": {
      "text/plain": [
       "'0405 324 324'"
      ]
     },
     "execution_count": 50,
     "metadata": {},
     "output_type": "execute_result"
    }
   ],
   "source": [
    "# Or to retrieve Lisa's phone number\n",
    "contacts['Lisa']['phone']"
   ]
  },
  {
   "cell_type": "code",
   "execution_count": 51,
   "id": "5c244921-ff13-4334-8f4a-dba196776b98",
   "metadata": {},
   "outputs": [
    {
     "data": {
      "text/plain": [
       "{'phone': '0405 324 324'}"
      ]
     },
     "execution_count": 51,
     "metadata": {},
     "output_type": "execute_result"
    }
   ],
   "source": [
    "contacts['Lisa']"
   ]
  },
  {
   "cell_type": "code",
   "execution_count": 52,
   "id": "5fd85992-7054-4a85-aa88-4919bb00c6ba",
   "metadata": {},
   "outputs": [
    {
     "ename": "KeyError",
     "evalue": "'email'",
     "output_type": "error",
     "traceback": [
      "\u001b[0;31m---------------------------------------------------------------------------\u001b[0m",
      "\u001b[0;31mKeyError\u001b[0m                                  Traceback (most recent call last)",
      "Input \u001b[0;32mIn [52]\u001b[0m, in \u001b[0;36m<cell line: 2>\u001b[0;34m()\u001b[0m\n\u001b[1;32m      1\u001b[0m \u001b[38;5;66;03m# Note that Lisa doesn't have an email list\u001b[39;00m\n\u001b[0;32m----> 2\u001b[0m \u001b[43mcontacts\u001b[49m\u001b[43m[\u001b[49m\u001b[38;5;124;43m'\u001b[39;49m\u001b[38;5;124;43mLisa\u001b[39;49m\u001b[38;5;124;43m'\u001b[39;49m\u001b[43m]\u001b[49m\u001b[43m[\u001b[49m\u001b[38;5;124;43m'\u001b[39;49m\u001b[38;5;124;43memail\u001b[39;49m\u001b[38;5;124;43m'\u001b[39;49m\u001b[43m]\u001b[49m\n",
      "\u001b[0;31mKeyError\u001b[0m: 'email'"
     ]
    }
   ],
   "source": [
    "# Note that Lisa doesn't have an email list\n",
    "contacts['Lisa']['email']"
   ]
  },
  {
   "cell_type": "code",
   "execution_count": 53,
   "id": "0cc191b4-9a43-41fa-94cc-be8339982dba",
   "metadata": {},
   "outputs": [],
   "source": [
    "# Try creating some examples of your own ..."
   ]
  },
  {
   "cell_type": "code",
   "execution_count": 54,
   "id": "e23147d9-d8aa-444a-b65f-09a7ce19e855",
   "metadata": {},
   "outputs": [],
   "source": [
    "# Can you update an entry in the above dictionary, for example change Phillips email address?"
   ]
  }
 ],
 "metadata": {
  "kernelspec": {
   "display_name": "Python 3 (ipykernel)",
   "language": "python",
   "name": "python3"
  },
  "language_info": {
   "codemirror_mode": {
    "name": "ipython",
    "version": 3
   },
   "file_extension": ".py",
   "mimetype": "text/x-python",
   "name": "python",
   "nbconvert_exporter": "python",
   "pygments_lexer": "ipython3",
   "version": "3.9.13"
  }
 },
 "nbformat": 4,
 "nbformat_minor": 5
}
