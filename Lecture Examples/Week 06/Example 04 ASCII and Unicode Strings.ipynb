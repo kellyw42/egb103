{
 "cells": [
  {
   "cell_type": "code",
   "execution_count": 2,
   "id": "19fd4691-d22b-4e9f-8e0a-1be729fd22a7",
   "metadata": {},
   "outputs": [],
   "source": [
    "a = 'Hello World!'"
   ]
  },
  {
   "cell_type": "code",
   "execution_count": 3,
   "id": "ffe5afea-f48d-4e2c-9715-9bfe55c04933",
   "metadata": {},
   "outputs": [
    {
     "data": {
      "text/plain": [
       "12"
      ]
     },
     "execution_count": 3,
     "metadata": {},
     "output_type": "execute_result"
    }
   ],
   "source": [
    "# Compute the length (number of characters) of a string\n",
    "len(a)"
   ]
  },
  {
   "cell_type": "code",
   "execution_count": 5,
   "id": "5e573c54-3316-4a17-82c7-3d7ae745e54b",
   "metadata": {},
   "outputs": [
    {
     "data": {
      "text/plain": [
       "'abcdABC!%4 3543,'"
      ]
     },
     "execution_count": 5,
     "metadata": {},
     "output_type": "execute_result"
    }
   ],
   "source": [
    "# Inside a string we can include any characters on our keyboard\n",
    "'abcdABC!%4 3543,'"
   ]
  },
  {
   "cell_type": "markdown",
   "id": "59a46276-abff-4ab2-b3a8-1485d4ef3055",
   "metadata": {},
   "source": [
    "Each character is represented internally as a number. The basic characters that we have used so far are all so called ASCII characters. See http://simple.wikipedia.org/wiki/ASCII. The ASCII character encoding dates back to the 1960's in the USA."
   ]
  },
  {
   "cell_type": "code",
   "execution_count": 6,
   "id": "070f49cf-d82c-4602-a174-d647130c8688",
   "metadata": {},
   "outputs": [
    {
     "data": {
      "text/plain": [
       "65"
      ]
     },
     "execution_count": 6,
     "metadata": {},
     "output_type": "execute_result"
    }
   ],
   "source": [
    "# The character 'A' is represented by the number 65\n",
    "ord('A')"
   ]
  },
  {
   "cell_type": "code",
   "execution_count": 7,
   "id": "dd60e59f-2569-4398-9a50-0bbd126f99a1",
   "metadata": {},
   "outputs": [
    {
     "data": {
      "text/plain": [
       "'A'"
      ]
     },
     "execution_count": 7,
     "metadata": {},
     "output_type": "execute_result"
    }
   ],
   "source": [
    "# The number 65 represents the character 'A'\n",
    "chr(65)"
   ]
  },
  {
   "cell_type": "code",
   "execution_count": 8,
   "id": "32059c9d-f9e8-493b-9fc7-7da257b26303",
   "metadata": {},
   "outputs": [
    {
     "ename": "SyntaxError",
     "evalue": "EOL while scanning string literal (3186524777.py, line 1)",
     "output_type": "error",
     "traceback": [
      "\u001b[0;36m  Input \u001b[0;32mIn [8]\u001b[0;36m\u001b[0m\n\u001b[0;31m    'sdfsd\u001b[0m\n\u001b[0m          ^\u001b[0m\n\u001b[0;31mSyntaxError\u001b[0m\u001b[0;31m:\u001b[0m EOL while scanning string literal\n"
     ]
    }
   ],
   "source": [
    "# If we want to include a new line character within a string, we can't just type Enter\n",
    "'sdfsd\n",
    "sdfsdf'"
   ]
  },
  {
   "cell_type": "code",
   "execution_count": 10,
   "id": "e0b77b99-fec6-42c1-88d4-84824b28d5e4",
   "metadata": {},
   "outputs": [
    {
     "data": {
      "text/plain": [
       "'\\n'"
      ]
     },
     "execution_count": 10,
     "metadata": {},
     "output_type": "execute_result"
    }
   ],
   "source": [
    "# A new line character is represented by ASCII character 10\n",
    "chr(10)"
   ]
  },
  {
   "cell_type": "code",
   "execution_count": 27,
   "id": "11926170-54cc-451a-b653-c114c51f7419",
   "metadata": {},
   "outputs": [
    {
     "data": {
      "text/plain": [
       "'Hello\\nWorld'"
      ]
     },
     "execution_count": 27,
     "metadata": {},
     "output_type": "execute_result"
    }
   ],
   "source": [
    "'Hello' + chr(10) + 'World'"
   ]
  },
  {
   "cell_type": "code",
   "execution_count": 11,
   "id": "65abfb60-c436-4ca4-9f1b-e45ce0519731",
   "metadata": {},
   "outputs": [
    {
     "data": {
      "text/plain": [
       "3.14"
      ]
     },
     "execution_count": 11,
     "metadata": {},
     "output_type": "execute_result"
    }
   ],
   "source": [
    "# Normally in Jupyter, just computing an expression and printing it produce the same output, as in this example ...\n",
    "3.14"
   ]
  },
  {
   "cell_type": "code",
   "execution_count": 12,
   "id": "ba0aff76-d6e9-402a-b068-65792c8ca8d8",
   "metadata": {},
   "outputs": [
    {
     "name": "stdout",
     "output_type": "stream",
     "text": [
      "3.14\n"
     ]
    }
   ],
   "source": [
    "print(3.14)"
   ]
  },
  {
   "cell_type": "code",
   "execution_count": 28,
   "id": "38b76162-86b5-4027-8b9d-affb77bb5100",
   "metadata": {},
   "outputs": [
    {
     "name": "stdout",
     "output_type": "stream",
     "text": [
      "Hello\n",
      "World\n"
     ]
    }
   ],
   "source": [
    "# However, with strings containing new line characters, printing such strings displays on a separate line\n",
    "print('Hello' + chr(10) + 'World')"
   ]
  },
  {
   "cell_type": "code",
   "execution_count": 14,
   "id": "915ff4d2-4a65-4f86-8ca1-52f1023c05c9",
   "metadata": {},
   "outputs": [
    {
     "name": "stdout",
     "output_type": "stream",
     "text": [
      "Hello\n",
      "World\n"
     ]
    }
   ],
   "source": [
    "# Instead of using char(10) to represent a new line character, we can instead use a backslash followed by an n (n for newline)\n",
    "print('Hello\\nWorld')"
   ]
  },
  {
   "cell_type": "code",
   "execution_count": 15,
   "id": "329536c7-abe7-4464-ba94-bcc0aa5fae62",
   "metadata": {},
   "outputs": [
    {
     "data": {
      "text/plain": [
       "13"
      ]
     },
     "execution_count": 15,
     "metadata": {},
     "output_type": "execute_result"
    }
   ],
   "source": [
    "# There is also a seperate ASCII character for the carriage return operation (go back to the start of the line before printing the next item)\n",
    "# A carriage return was based on old fashioned manual typewriters (https://www.youtube.com/watch?v=4etk_viTUg4)\n",
    "# A carriage return is represented by the ASCII number 13 or by using a backslash followed by a r (r for carrriage return)\n",
    "ord('\\r')"
   ]
  },
  {
   "cell_type": "code",
   "execution_count": 16,
   "id": "fca28a88-fe3a-41a4-89ca-8034515737c9",
   "metadata": {},
   "outputs": [
    {
     "name": "stdout",
     "output_type": "stream",
     "text": [
      "Hello\n",
      "World\n"
     ]
    }
   ],
   "source": [
    "# Traditionally on the Windows operating system you needed to use both new line and carriage return characters.\n",
    "# First return to the start of the line, then move to the next line.\n",
    "print('Hello\\r\\nWorld')"
   ]
  },
  {
   "cell_type": "code",
   "execution_count": 18,
   "id": "855e3d54-5631-4606-ac1b-900f4297a00e",
   "metadata": {},
   "outputs": [
    {
     "name": "stdout",
     "output_type": "stream",
     "text": [
      "Worldge\n"
     ]
    }
   ],
   "source": [
    "# Notice if we do a carriage return without a new line, the next word is written over the top of the previous text ...\n",
    "print('Message\\rWorld')"
   ]
  },
  {
   "cell_type": "code",
   "execution_count": 19,
   "id": "8617d44c-5804-4b2a-83f3-be1891867f0d",
   "metadata": {},
   "outputs": [
    {
     "name": "stdout",
     "output_type": "stream",
     "text": [
      "Message\\nWorld\n"
     ]
    }
   ],
   "source": [
    "# Since the backslash character is used to represent special new line and carriage return characters, \n",
    "# if we want just a backslash character, then we use two backslash character\n",
    "print('Message\\\\nWorld')"
   ]
  },
  {
   "cell_type": "code",
   "execution_count": 20,
   "id": "8b513aab-ff58-42f4-a62b-7cae8ca90ff3",
   "metadata": {},
   "outputs": [
    {
     "name": "stdout",
     "output_type": "stream",
     "text": [
      "Message\tWorld\n"
     ]
    }
   ],
   "source": [
    "# The last special character that we will look at is a tab character (represented by backslash t)\n",
    "print('Message\\tWorld')"
   ]
  },
  {
   "cell_type": "code",
   "execution_count": 22,
   "id": "e07db090-6d99-4454-a734-1ae49665ff4a",
   "metadata": {},
   "outputs": [
    {
     "name": "stdout",
     "output_type": "stream",
     "text": [
      "Message\tWorld 😀\n"
     ]
    }
   ],
   "source": [
    "# ASCII only works for English language character sets.\n",
    "# For other languages and symbols we need to use an expanded set of character codes called UNICODE (see https://home.unicode.org/)\n",
    "# Here we include the UNICODE encoding for a smiley face\n",
    "print('Message\\tWorld \\U0001F600')"
   ]
  },
  {
   "cell_type": "code",
   "execution_count": 23,
   "id": "9ea1de4e-de0e-4b3b-9291-b7b679802331",
   "metadata": {},
   "outputs": [
    {
     "name": "stdout",
     "output_type": "stream",
     "text": [
      "Message\tWorld 😀\n"
     ]
    }
   ],
   "source": [
    "# We can also  include such characters directly in our strings by cutting and pasting\n",
    "print('Message\\tWorld 😀')"
   ]
  },
  {
   "cell_type": "code",
   "execution_count": 25,
   "id": "8c1934bf-9405-4a6d-ab4f-d25826e8bb7e",
   "metadata": {},
   "outputs": [
    {
     "data": {
      "text/plain": [
       "128512"
      ]
     },
     "execution_count": 25,
     "metadata": {},
     "output_type": "execute_result"
    }
   ],
   "source": [
    "# The smiley face character is represented by UNICODE number 128512\n",
    "ord('😀')"
   ]
  },
  {
   "cell_type": "code",
   "execution_count": 26,
   "id": "762f6a4a-bbe0-47f1-949b-cd50359ffae2",
   "metadata": {},
   "outputs": [
    {
     "data": {
      "text/plain": [
       "128512"
      ]
     },
     "execution_count": 26,
     "metadata": {},
     "output_type": "execute_result"
    }
   ],
   "source": [
    "# 128512 is the decimal number representation, equivalent to the hexadecimal number 1F600\n",
    "int('1F600', 16)"
   ]
  },
  {
   "cell_type": "code",
   "execution_count": 29,
   "id": "26b33ae1-4818-4ea4-9e96-b940aa86ba7a",
   "metadata": {},
   "outputs": [],
   "source": [
    "# Try creating some examples of your own ..."
   ]
  },
  {
   "cell_type": "code",
   "execution_count": null,
   "id": "9a39a981-ffdb-417f-a654-7513c1b069cf",
   "metadata": {},
   "outputs": [],
   "source": [
    "# How would you add this UNICODE tick character? ✅"
   ]
  }
 ],
 "metadata": {
  "kernelspec": {
   "display_name": "Python 3 (ipykernel)",
   "language": "python",
   "name": "python3"
  },
  "language_info": {
   "codemirror_mode": {
    "name": "ipython",
    "version": 3
   },
   "file_extension": ".py",
   "mimetype": "text/x-python",
   "name": "python",
   "nbconvert_exporter": "python",
   "pygments_lexer": "ipython3",
   "version": "3.9.13"
  }
 },
 "nbformat": 4,
 "nbformat_minor": 5
}
