{
 "cells": [
  {
   "cell_type": "markdown",
   "id": "7790373b-a61f-4425-95d4-14eff9a489d6",
   "metadata": {},
   "source": [
    "## Vector Addition\n",
    "$$\\left[\\begin{array}{c}1\\\\ 2\\\\ 3\\end{array}\\right] + \\left[\\begin{array}{c}3\\\\ 4\\\\ 5\\end{array}\\right] = \\left[\\begin{array}{c}4\\\\ 6\\\\ 8\\end{array}\\right]$$"
   ]
  },
  {
   "cell_type": "code",
   "execution_count": null,
   "id": "5b8d0686-8f77-47ff-af17-52b882b55a1b",
   "metadata": {},
   "outputs": [],
   "source": [
    "a = [1,2,3]\n",
    "b = [3,4,5]\n",
    "\n",
    "def vector_add(vector1, vector2) :\n",
    "    result = []\n",
    "    for i in range(len(vector1)) :\n",
    "        result.append(vector1[i] + vector2[i])\n",
    "    return result\n",
    "\n",
    "vector_add(a, b)"
   ]
  },
  {
   "cell_type": "markdown",
   "id": "7af96228-9b59-4ff5-b259-58fbd28bc5f2",
   "metadata": {},
   "source": [
    "# Matrix Addition\n",
    "$$\\left[\\begin{array}{ccc}1&2&3\\\\ 4&5&6\\\\ 7&8&9\\end{array}\\right] + \\left[\\begin{array}{ccc}10&11&12\\\\ 13&14&15\\\\ 16&17&18\\end{array}\\right] = \\left[\\begin{array}{ccc}11&13&15\\\\ 17&19&21\\\\ 23&25&27\\end{array}\\right]$$\n"
   ]
  },
  {
   "cell_type": "code",
   "execution_count": 16,
   "id": "d21c075c-d161-4847-8218-b327a089b5eb",
   "metadata": {},
   "outputs": [],
   "source": [
    "# representing matrices as lists of lists\n",
    "x = [[1,2,3],\n",
    "     [4,5,6],\n",
    "     [7,8,9]]\n",
    "y = [[10,11,12],\n",
    "     [13,14,15],\n",
    "     [16,17,18]]"
   ]
  },
  {
   "cell_type": "code",
   "execution_count": 17,
   "id": "c8a7bdc1-d673-42f5-acde-1988e973e87c",
   "metadata": {},
   "outputs": [
    {
     "data": {
      "text/plain": [
       "[4, 5, 6]"
      ]
     },
     "execution_count": 17,
     "metadata": {},
     "output_type": "execute_result"
    }
   ],
   "source": [
    "# retrieve row 1 of the matrix\n",
    "x[1]"
   ]
  },
  {
   "cell_type": "code",
   "execution_count": 18,
   "id": "242974a1-0aeb-4962-a1ef-e22bfe18e8e0",
   "metadata": {},
   "outputs": [
    {
     "data": {
      "text/plain": [
       "6"
      ]
     },
     "execution_count": 18,
     "metadata": {},
     "output_type": "execute_result"
    }
   ],
   "source": [
    "# retrieve the value in row 1, column 2\n",
    "x[1][2]"
   ]
  },
  {
   "cell_type": "code",
   "execution_count": 19,
   "id": "5ed52664-0b78-472f-aa9e-faeac35fa015",
   "metadata": {},
   "outputs": [
    {
     "data": {
      "text/plain": [
       "9"
      ]
     },
     "execution_count": 19,
     "metadata": {},
     "output_type": "execute_result"
    }
   ],
   "source": [
    "x[2][2]"
   ]
  },
  {
   "cell_type": "code",
   "execution_count": 20,
   "id": "d32e5deb-fe63-485a-a39d-6dbf930c3703",
   "metadata": {},
   "outputs": [],
   "source": [
    "# with such doubly indexed expressions, we could do it step by step, first retrieve the row ...\n",
    "temp = x[2]"
   ]
  },
  {
   "cell_type": "code",
   "execution_count": 21,
   "id": "ee5bc8da-bfd8-4b3d-833a-d63fbb0bc730",
   "metadata": {},
   "outputs": [
    {
     "data": {
      "text/plain": [
       "9"
      ]
     },
     "execution_count": 21,
     "metadata": {},
     "output_type": "execute_result"
    }
   ],
   "source": [
    "# and then retrieve a column from that row\n",
    "temp[2]"
   ]
  },
  {
   "cell_type": "code",
   "execution_count": null,
   "id": "391f12fd-c2ab-4c5f-a711-efdc7276bf03",
   "metadata": {},
   "outputs": [],
   "source": [
    "# in general such two dimensional matrix accesses would look like \n",
    "y[row][col]"
   ]
  },
  {
   "cell_type": "code",
   "execution_count": 23,
   "id": "c3a75138-591f-4528-b759-03d72e2de923",
   "metadata": {},
   "outputs": [],
   "source": [
    "#  we can also update individual elements of a matrix\n",
    "x[2][2] = 99"
   ]
  },
  {
   "cell_type": "code",
   "execution_count": 24,
   "id": "9dc70ac9-6dfc-4e9e-baa1-3288a8862581",
   "metadata": {},
   "outputs": [
    {
     "data": {
      "text/plain": [
       "[[1, 2, 3], [4, 5, 6], [7, 8, 99]]"
      ]
     },
     "execution_count": 24,
     "metadata": {},
     "output_type": "execute_result"
    }
   ],
   "source": [
    "x"
   ]
  },
  {
   "cell_type": "code",
   "execution_count": 25,
   "id": "d31b2f00-9785-4a43-bd80-e82a26f74f70",
   "metadata": {},
   "outputs": [],
   "source": [
    "# matrix addition reusing the vector_add function to add each row\n",
    "def matrix_add(matrix1, matrix2) :\n",
    "    result = []\n",
    "    for row in range(len(matrix1)) :\n",
    "        result.append(vector_add(matrix1[row], matrix2[row]))\n",
    "    return result"
   ]
  },
  {
   "cell_type": "code",
   "execution_count": 26,
   "id": "185d6cc5-19a8-4d25-9c6f-3b53f45c5729",
   "metadata": {},
   "outputs": [
    {
     "data": {
      "text/plain": [
       "[[11, 13, 15], [17, 19, 21], [23, 25, 117]]"
      ]
     },
     "execution_count": 26,
     "metadata": {},
     "output_type": "execute_result"
    }
   ],
   "source": [
    "matrix_add(x, y)"
   ]
  },
  {
   "cell_type": "code",
   "execution_count": 29,
   "id": "f10f653d-680c-4960-a7f6-a62b508af541",
   "metadata": {},
   "outputs": [],
   "source": [
    "# matrix addition using doubly nested loops to iterate over rows and columns respectively\n",
    "def matrix_add(matrix1, matrix2) :\n",
    "    result = []\n",
    "    num_rows = len(matrix1)\n",
    "    num_cols = len(matrix1[0])\n",
    "    for row in range(num_rows) :\n",
    "        new_row = []\n",
    "        for col in range(num_cols) :\n",
    "            new_row.append(matrix1[row][col] + matrix2[row][col])\n",
    "        result.append(new_row)\n",
    "    return result"
   ]
  },
  {
   "cell_type": "code",
   "execution_count": 31,
   "id": "55cfbee5-a1c5-465e-92f9-eb048cc36953",
   "metadata": {},
   "outputs": [],
   "source": [
    "x = [[1,2,3],\n",
    "     [4,5,6],\n",
    "     [7,8,9]]\n",
    "y = [[10,11,12],\n",
    "     [13,14,15],\n",
    "     [16,17,18]]"
   ]
  },
  {
   "cell_type": "code",
   "execution_count": 32,
   "id": "3270430b-f0bb-45a9-8bdd-0b79b3cb8178",
   "metadata": {},
   "outputs": [
    {
     "data": {
      "text/plain": [
       "[[11, 13, 15], [17, 19, 21], [23, 25, 27]]"
      ]
     },
     "execution_count": 32,
     "metadata": {},
     "output_type": "execute_result"
    }
   ],
   "source": [
    "matrix_add(x, y)"
   ]
  },
  {
   "cell_type": "code",
   "execution_count": null,
   "id": "96af3512-0730-46b1-bcd3-a1ad69bff3f4",
   "metadata": {},
   "outputs": [],
   "source": [
    "# try creating some examples of your own ..."
   ]
  }
 ],
 "metadata": {
  "kernelspec": {
   "display_name": "Python 3 (ipykernel)",
   "language": "python",
   "name": "python3"
  },
  "language_info": {
   "codemirror_mode": {
    "name": "ipython",
    "version": 3
   },
   "file_extension": ".py",
   "mimetype": "text/x-python",
   "name": "python",
   "nbconvert_exporter": "python",
   "pygments_lexer": "ipython3",
   "version": "3.9.13"
  }
 },
 "nbformat": 4,
 "nbformat_minor": 5
}
