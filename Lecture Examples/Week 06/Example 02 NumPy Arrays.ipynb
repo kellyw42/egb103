{
 "cells": [
  {
   "cell_type": "markdown",
   "id": "0aba3b35-c085-463e-9e77-9a7d3c517d61",
   "metadata": {},
   "source": [
    "# Matrix Addition\n",
    "$$\\left[\\begin{array}{ccc}1&2&3\\\\ 4&5&6\\\\ 7&8&9\\end{array}\\right] + \\left[\\begin{array}{ccc}10&11&12\\\\ 13&14&15\\\\ 16&17&18\\end{array}\\right] = \\left[\\begin{array}{ccc}11&13&15\\\\ 17&19&21\\\\ 23&25&27\\end{array}\\right]$$\n"
   ]
  },
  {
   "cell_type": "code",
   "execution_count": 1,
   "id": "5360fbdc-083e-4b05-b31a-fd748518b54e",
   "metadata": {},
   "outputs": [],
   "source": [
    "# representing matrices as lists of lists\n",
    "x = [[1,2,3],\n",
    "     [4,5,6],\n",
    "     [7,8,9]]\n",
    "y = [[10,11,12],\n",
    "     [13,14,15],\n",
    "     [16,17,18]]"
   ]
  },
  {
   "cell_type": "code",
   "execution_count": 2,
   "id": "841d6970-2087-4787-8693-13b3324b97b5",
   "metadata": {},
   "outputs": [],
   "source": [
    "# matrix addition using doubly nested loops to iterate over rows and columns respectively\n",
    "def matrix_add(matrix1, matrix2) :\n",
    "    result = []\n",
    "    num_rows = len(matrix1)\n",
    "    num_cols = len(matrix1[0])\n",
    "    for row in range(num_rows) :\n",
    "        new_row = []\n",
    "        for col in range(num_cols) :\n",
    "            new_row.append(matrix1[row][col] + matrix2[row][col])\n",
    "        result.append(new_row)\n",
    "    return result"
   ]
  },
  {
   "cell_type": "code",
   "execution_count": 3,
   "id": "898e37ba-97a4-455e-a76a-89d0a057ba2b",
   "metadata": {},
   "outputs": [
    {
     "data": {
      "text/plain": [
       "[[11, 13, 15], [17, 19, 21], [23, 25, 27]]"
      ]
     },
     "execution_count": 3,
     "metadata": {},
     "output_type": "execute_result"
    }
   ],
   "source": [
    "matrix_add(x,y)"
   ]
  },
  {
   "cell_type": "code",
   "execution_count": 4,
   "id": "dcdf4c6d-8c3e-4345-ad7d-4461f5ac4e13",
   "metadata": {},
   "outputs": [],
   "source": [
    "import numpy"
   ]
  },
  {
   "cell_type": "code",
   "execution_count": 5,
   "id": "ded4c8f0-c1ca-4707-8818-2ada493b1453",
   "metadata": {},
   "outputs": [],
   "source": [
    "# convert list of lists into a NumPy 2 dimensional array ...\n",
    "X = numpy.array(x)\n",
    "Y = numpy.array(y)"
   ]
  },
  {
   "cell_type": "code",
   "execution_count": 6,
   "id": "a4747c8b-1e56-4f9b-ba83-5d2785ecabc4",
   "metadata": {},
   "outputs": [
    {
     "data": {
      "text/plain": [
       "array([[1, 2, 3],\n",
       "       [4, 5, 6],\n",
       "       [7, 8, 9]])"
      ]
     },
     "execution_count": 6,
     "metadata": {},
     "output_type": "execute_result"
    }
   ],
   "source": [
    "X"
   ]
  },
  {
   "cell_type": "code",
   "execution_count": 7,
   "id": "b8e0e03a-c273-4219-8feb-b691742c52a7",
   "metadata": {},
   "outputs": [
    {
     "data": {
      "text/plain": [
       "array([[10, 11, 12],\n",
       "       [13, 14, 15],\n",
       "       [16, 17, 18]])"
      ]
     },
     "execution_count": 7,
     "metadata": {},
     "output_type": "execute_result"
    }
   ],
   "source": [
    "Y"
   ]
  },
  {
   "cell_type": "code",
   "execution_count": 8,
   "id": "2d3ea8b9-a2f6-45e4-8e48-6948c07ec906",
   "metadata": {},
   "outputs": [
    {
     "data": {
      "text/plain": [
       "numpy.ndarray"
      ]
     },
     "execution_count": 8,
     "metadata": {},
     "output_type": "execute_result"
    }
   ],
   "source": [
    "# result type is no longer a list, it's an N dimensional array\n",
    "type(X)"
   ]
  },
  {
   "cell_type": "code",
   "execution_count": 9,
   "id": "2bb96734-3af2-4216-81a0-bbc87c865ab2",
   "metadata": {},
   "outputs": [
    {
     "data": {
      "text/plain": [
       "array([[11, 13, 15],\n",
       "       [17, 19, 21],\n",
       "       [23, 25, 27]])"
      ]
     },
     "execution_count": 9,
     "metadata": {},
     "output_type": "execute_result"
    }
   ],
   "source": [
    "# add two arrays using NumPy\n",
    "numpy.add(X, Y)"
   ]
  },
  {
   "cell_type": "code",
   "execution_count": 10,
   "id": "cebcccd7-387e-419a-8990-9407aa9bd293",
   "metadata": {},
   "outputs": [
    {
     "data": {
      "text/plain": [
       "array([[ 84,  90,  96],\n",
       "       [201, 216, 231],\n",
       "       [318, 342, 366]])"
      ]
     },
     "execution_count": 10,
     "metadata": {},
     "output_type": "execute_result"
    }
   ],
   "source": [
    "#multiply two arrays using NumPy\n",
    "numpy.dot(X, Y)"
   ]
  },
  {
   "cell_type": "code",
   "execution_count": 11,
   "id": "e7fd5fb1-84ea-4339-99c4-9fc29ceda31a",
   "metadata": {},
   "outputs": [
    {
     "data": {
      "text/plain": [
       "5"
      ]
     },
     "execution_count": 11,
     "metadata": {},
     "output_type": "execute_result"
    }
   ],
   "source": [
    "# access row 1 and then column 1 from that  row\n",
    "X[1][1]"
   ]
  },
  {
   "cell_type": "code",
   "execution_count": 12,
   "id": "ec2c4912-8b62-4e48-aeb1-e2301bf690e4",
   "metadata": {},
   "outputs": [
    {
     "data": {
      "text/plain": [
       "5"
      ]
     },
     "execution_count": 12,
     "metadata": {},
     "output_type": "execute_result"
    }
   ],
   "source": [
    "# or, treating it as a 2D array, provide a row and column index as a pair\n",
    "X[1,1]"
   ]
  },
  {
   "cell_type": "code",
   "execution_count": 13,
   "id": "94d06d3f-6ffb-42dc-b146-ddea509e78ea",
   "metadata": {},
   "outputs": [
    {
     "data": {
      "text/plain": [
       "array([[5, 6],\n",
       "       [8, 9]])"
      ]
     },
     "execution_count": 13,
     "metadata": {},
     "output_type": "execute_result"
    }
   ],
   "source": [
    "# accessing parts of a 2D array using slicing\n",
    "X[1:3,1:3]"
   ]
  },
  {
   "cell_type": "code",
   "execution_count": 14,
   "id": "97a38ed5-9b37-4989-834d-f262922ed1e2",
   "metadata": {},
   "outputs": [
    {
     "data": {
      "text/plain": [
       "array([[4, 5, 6],\n",
       "       [7, 8, 9]])"
      ]
     },
     "execution_count": 14,
     "metadata": {},
     "output_type": "execute_result"
    }
   ],
   "source": [
    "# all columns of rows 1 to 3\n",
    "X[1:3,:]"
   ]
  },
  {
   "cell_type": "code",
   "execution_count": 15,
   "id": "2c04298d-b18c-4839-9157-8b7f2cff4bed",
   "metadata": {},
   "outputs": [
    {
     "data": {
      "text/plain": [
       "array([7, 8, 9])"
      ]
     },
     "execution_count": 15,
     "metadata": {},
     "output_type": "execute_result"
    }
   ],
   "source": [
    "# all columns of row 2\n",
    "X[2,:]"
   ]
  },
  {
   "cell_type": "code",
   "execution_count": 16,
   "id": "951796cb-8c92-4082-a3c8-4b04e78eb234",
   "metadata": {},
   "outputs": [
    {
     "data": {
      "text/plain": [
       "array([3, 6, 9])"
      ]
     },
     "execution_count": 16,
     "metadata": {},
     "output_type": "execute_result"
    }
   ],
   "source": [
    "# all rows of column 2\n",
    "X[:, 2]"
   ]
  },
  {
   "cell_type": "code",
   "execution_count": 17,
   "id": "4827b8fc-87c8-4eac-97bb-f063afc81c40",
   "metadata": {},
   "outputs": [
    {
     "data": {
      "text/plain": [
       "array([4, 7])"
      ]
     },
     "execution_count": 17,
     "metadata": {},
     "output_type": "execute_result"
    }
   ],
   "source": [
    "X[1:3,0]"
   ]
  },
  {
   "cell_type": "code",
   "execution_count": 18,
   "id": "78768e94-8bba-41dc-8baa-d38e9fe37429",
   "metadata": {},
   "outputs": [
    {
     "data": {
      "text/plain": [
       "array([[1, 4, 7],\n",
       "       [2, 5, 8],\n",
       "       [3, 6, 9]])"
      ]
     },
     "execution_count": 18,
     "metadata": {},
     "output_type": "execute_result"
    }
   ],
   "source": [
    "# create a new 2D array by switching the rows columns\n",
    "numpy.transpose(X)"
   ]
  },
  {
   "cell_type": "code",
   "execution_count": 19,
   "id": "015866f0-df5d-4d94-a2d6-a98a99180c9f",
   "metadata": {},
   "outputs": [
    {
     "data": {
      "text/plain": [
       "array([[0., 0., 0., 0., 0., 0., 0., 0., 0., 0.],\n",
       "       [0., 0., 0., 0., 0., 0., 0., 0., 0., 0.],\n",
       "       [0., 0., 0., 0., 0., 0., 0., 0., 0., 0.],\n",
       "       [0., 0., 0., 0., 0., 0., 0., 0., 0., 0.],\n",
       "       [0., 0., 0., 0., 0., 0., 0., 0., 0., 0.]])"
      ]
     },
     "execution_count": 19,
     "metadata": {},
     "output_type": "execute_result"
    }
   ],
   "source": [
    "# create a 5 x 10 array where all values are zero\n",
    "numpy.zeros((5,10))"
   ]
  },
  {
   "cell_type": "code",
   "execution_count": 20,
   "id": "643d262c-8f20-4f35-9097-0856fe85e6b4",
   "metadata": {},
   "outputs": [],
   "source": [
    "z = numpy.zeros((5,10))"
   ]
  },
  {
   "cell_type": "code",
   "execution_count": 21,
   "id": "fba90ebf-bca2-42a2-a87b-7f6e1757dcc0",
   "metadata": {},
   "outputs": [],
   "source": [
    "# update one of the zero values to 45\n",
    "z[2,2] = 45"
   ]
  },
  {
   "cell_type": "code",
   "execution_count": 22,
   "id": "71e7bb54-659d-484f-9689-444e97ab1c1d",
   "metadata": {},
   "outputs": [
    {
     "data": {
      "text/plain": [
       "array([[ 0.,  0.,  0.,  0.,  0.,  0.,  0.,  0.,  0.,  0.],\n",
       "       [ 0.,  0.,  0.,  0.,  0.,  0.,  0.,  0.,  0.,  0.],\n",
       "       [ 0.,  0., 45.,  0.,  0.,  0.,  0.,  0.,  0.,  0.],\n",
       "       [ 0.,  0.,  0.,  0.,  0.,  0.,  0.,  0.,  0.,  0.],\n",
       "       [ 0.,  0.,  0.,  0.,  0.,  0.,  0.,  0.,  0.,  0.]])"
      ]
     },
     "execution_count": 22,
     "metadata": {},
     "output_type": "execute_result"
    }
   ],
   "source": [
    "z"
   ]
  },
  {
   "cell_type": "code",
   "execution_count": 23,
   "id": "815b42b4-4295-43d0-a066-f7f647b50edf",
   "metadata": {},
   "outputs": [
    {
     "data": {
      "text/plain": [
       "array([[1., 1., 1., 1., 1., 1., 1., 1., 1., 1.],\n",
       "       [1., 1., 1., 1., 1., 1., 1., 1., 1., 1.],\n",
       "       [1., 1., 1., 1., 1., 1., 1., 1., 1., 1.],\n",
       "       [1., 1., 1., 1., 1., 1., 1., 1., 1., 1.],\n",
       "       [1., 1., 1., 1., 1., 1., 1., 1., 1., 1.]])"
      ]
     },
     "execution_count": 23,
     "metadata": {},
     "output_type": "execute_result"
    }
   ],
   "source": [
    "# or create an array where all values are one\n",
    "numpy.ones((5,10))"
   ]
  },
  {
   "cell_type": "code",
   "execution_count": 24,
   "id": "bdd9b61f-9038-4ea0-951a-24ce2251fa8e",
   "metadata": {},
   "outputs": [
    {
     "data": {
      "text/plain": [
       "array([1., 1., 1., 1., 1.])"
      ]
     },
     "execution_count": 24,
     "metadata": {},
     "output_type": "execute_result"
    }
   ],
   "source": [
    "# a 1 dimensional array of ones\n",
    "numpy.ones((5))"
   ]
  },
  {
   "cell_type": "code",
   "execution_count": 25,
   "id": "f53e2460-63a4-4efb-9d95-a149d1bd5827",
   "metadata": {},
   "outputs": [
    {
     "data": {
      "text/plain": [
       "array([[[1., 1.],\n",
       "        [1., 1.]],\n",
       "\n",
       "       [[1., 1.],\n",
       "        [1., 1.]]])"
      ]
     },
     "execution_count": 25,
     "metadata": {},
     "output_type": "execute_result"
    }
   ],
   "source": [
    "# a 3 dimensional array of ones\n",
    "numpy.ones((2,2,2))"
   ]
  }
 ],
 "metadata": {
  "kernelspec": {
   "display_name": "Python 3 (ipykernel)",
   "language": "python",
   "name": "python3"
  },
  "language_info": {
   "codemirror_mode": {
    "name": "ipython",
    "version": 3
   },
   "file_extension": ".py",
   "mimetype": "text/x-python",
   "name": "python",
   "nbconvert_exporter": "python",
   "pygments_lexer": "ipython3",
   "version": "3.9.13"
  }
 },
 "nbformat": 4,
 "nbformat_minor": 5
}
