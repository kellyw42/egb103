{
 "cells": [
  {
   "cell_type": "code",
   "execution_count": 1,
   "id": "0e0a167f-a18f-4ada-a3ca-077270b0a033",
   "metadata": {},
   "outputs": [],
   "source": [
    "x = [3,45,3,675,-45,6,56]"
   ]
  },
  {
   "cell_type": "code",
   "execution_count": 2,
   "id": "360fc8c4-2b49-4e2a-b9cf-ad52d8202eee",
   "metadata": {},
   "outputs": [],
   "source": [
    "def list_sum(list) :\n",
    "    total = 0\n",
    "    for element in list :\n",
    "        total += element\n",
    "    return total"
   ]
  },
  {
   "cell_type": "code",
   "execution_count": 3,
   "id": "3a8d0549-8d32-44c7-9067-0070152bdd20",
   "metadata": {},
   "outputs": [],
   "source": [
    "def any_negative_elements(list) :\n",
    "    satisfied = False\n",
    "    for element in list :\n",
    "        if element < 0 :\n",
    "            satisfied = True\n",
    "    return satisfied"
   ]
  },
  {
   "cell_type": "code",
   "execution_count": 4,
   "id": "6288dd90-699f-4168-8fca-0b834163eda8",
   "metadata": {},
   "outputs": [
    {
     "data": {
      "text/plain": [
       "True"
      ]
     },
     "execution_count": 4,
     "metadata": {},
     "output_type": "execute_result"
    }
   ],
   "source": [
    "any_negative_elements(x)"
   ]
  },
  {
   "cell_type": "code",
   "execution_count": 5,
   "id": "0ad9a0f3-0e2d-46f3-9267-e23434cce446",
   "metadata": {},
   "outputs": [
    {
     "data": {
      "text/plain": [
       "False"
      ]
     },
     "execution_count": 5,
     "metadata": {},
     "output_type": "execute_result"
    }
   ],
   "source": [
    "any_negative_elements([3,45,3,675,6,56])"
   ]
  },
  {
   "cell_type": "code",
   "execution_count": 6,
   "id": "11563230-fd98-41db-8af1-8c3c6271b6d8",
   "metadata": {},
   "outputs": [
    {
     "data": {
      "text/plain": [
       "True"
      ]
     },
     "execution_count": 6,
     "metadata": {},
     "output_type": "execute_result"
    }
   ],
   "source": [
    "any_negative_elements([3,45,3,675,-45,6,56,-4])"
   ]
  },
  {
   "cell_type": "code",
   "execution_count": 10,
   "id": "efaaaa15-e4aa-4927-b589-2f2e9686e76e",
   "metadata": {},
   "outputs": [],
   "source": [
    "# using a break statement to terminate the loop as soon as we know the answer\n",
    "def any_negative_elements(list) :\n",
    "    satisfied = False\n",
    "    for element in list :\n",
    "        if element < 0 :\n",
    "            satisfied = True\n",
    "            break\n",
    "    return satisfied"
   ]
  },
  {
   "cell_type": "code",
   "execution_count": 11,
   "id": "6b6cc520-ee6a-4165-acec-2e72540b8d47",
   "metadata": {},
   "outputs": [
    {
     "data": {
      "text/plain": [
       "True"
      ]
     },
     "execution_count": 11,
     "metadata": {},
     "output_type": "execute_result"
    }
   ],
   "source": [
    "any_negative_elements(x)"
   ]
  },
  {
   "cell_type": "code",
   "execution_count": 7,
   "id": "01a85c2c-8b4f-4e77-a716-acda42fed43c",
   "metadata": {},
   "outputs": [],
   "source": [
    "# using a return statement to terminate the function as soon as we know the answer\n",
    "def any_negative_elements(list) :\n",
    "    for element in list :\n",
    "        if element < 0 :\n",
    "            return True\n",
    "    return False"
   ]
  },
  {
   "cell_type": "code",
   "execution_count": 8,
   "id": "3ae54e55-6749-4d40-8c63-85d60b5e73ad",
   "metadata": {},
   "outputs": [
    {
     "data": {
      "text/plain": [
       "True"
      ]
     },
     "execution_count": 8,
     "metadata": {},
     "output_type": "execute_result"
    }
   ],
   "source": [
    "any_negative_elements(x)"
   ]
  },
  {
   "cell_type": "code",
   "execution_count": 9,
   "id": "4a8cc423-2ba4-496e-a2d8-f020ca0c5bd9",
   "metadata": {},
   "outputs": [
    {
     "data": {
      "text/plain": [
       "False"
      ]
     },
     "execution_count": 9,
     "metadata": {},
     "output_type": "execute_result"
    }
   ],
   "source": [
    "any_negative_elements([3,45,3,675,6,56])"
   ]
  },
  {
   "cell_type": "code",
   "execution_count": 12,
   "id": "aae29347-4076-4f7f-8d2b-31dd0c7ebd6a",
   "metadata": {},
   "outputs": [],
   "source": [
    "def all_negative_elements(list) :\n",
    "    for element in list :\n",
    "        if element >= 0 :\n",
    "            return False\n",
    "    return True"
   ]
  },
  {
   "cell_type": "code",
   "execution_count": 13,
   "id": "97ed3c34-9fbd-4cba-8e68-cb018871707d",
   "metadata": {},
   "outputs": [
    {
     "data": {
      "text/plain": [
       "False"
      ]
     },
     "execution_count": 13,
     "metadata": {},
     "output_type": "execute_result"
    }
   ],
   "source": [
    "all_negative_elements(x)"
   ]
  },
  {
   "cell_type": "code",
   "execution_count": 14,
   "id": "28b02f32-ff79-4b26-96f5-c2cd61ae4022",
   "metadata": {},
   "outputs": [
    {
     "data": {
      "text/plain": [
       "False"
      ]
     },
     "execution_count": 14,
     "metadata": {},
     "output_type": "execute_result"
    }
   ],
   "source": [
    "all_negative_elements([3,45,3,675,6,56])"
   ]
  }
 ],
 "metadata": {
  "kernelspec": {
   "display_name": "Python 3 (ipykernel)",
   "language": "python",
   "name": "python3"
  },
  "language_info": {
   "codemirror_mode": {
    "name": "ipython",
    "version": 3
   },
   "file_extension": ".py",
   "mimetype": "text/x-python",
   "name": "python",
   "nbconvert_exporter": "python",
   "pygments_lexer": "ipython3",
   "version": "3.9.13"
  }
 },
 "nbformat": 4,
 "nbformat_minor": 5
}
