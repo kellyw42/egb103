{
 "cells": [
  {
   "cell_type": "code",
   "execution_count": 1,
   "id": "c151e7ff-125e-4df7-936e-308c9a1b7625",
   "metadata": {},
   "outputs": [],
   "source": [
    "x = [3,45,3,675,-45,6,56]"
   ]
  },
  {
   "cell_type": "code",
   "execution_count": 2,
   "id": "052bda21-286c-42b9-ad6c-2444d1e4771b",
   "metadata": {},
   "outputs": [],
   "source": [
    "def list_sum(list) :\n",
    "    total = 0\n",
    "    for element in list :\n",
    "        total += element\n",
    "    return total"
   ]
  },
  {
   "cell_type": "code",
   "execution_count": 3,
   "id": "09a5a847-cb4a-4d47-9201-832d0fa7a0e5",
   "metadata": {},
   "outputs": [],
   "source": [
    "def extract_positive_numbers_from_list(list) :\n",
    "    new_list = []\n",
    "    for element in list :\n",
    "        if element > 0 :\n",
    "            new_list.append(element)\n",
    "    return new_list"
   ]
  },
  {
   "cell_type": "code",
   "execution_count": 4,
   "id": "b1903c9a-b39e-4e9a-95fa-9faea76ef7d5",
   "metadata": {},
   "outputs": [
    {
     "data": {
      "text/plain": [
       "[3, 45, 3, 675, 6, 56]"
      ]
     },
     "execution_count": 4,
     "metadata": {},
     "output_type": "execute_result"
    }
   ],
   "source": [
    "extract_positive_numbers_from_list(x)"
   ]
  },
  {
   "cell_type": "code",
   "execution_count": 5,
   "id": "815cfe00-66b8-4573-8daa-7dcb8a50d176",
   "metadata": {},
   "outputs": [
    {
     "data": {
      "text/plain": [
       "[]"
      ]
     },
     "execution_count": 5,
     "metadata": {},
     "output_type": "execute_result"
    }
   ],
   "source": [
    "extract_positive_numbers_from_list([-4,0, -6])"
   ]
  },
  {
   "cell_type": "code",
   "execution_count": 6,
   "id": "5673222b-47da-4fa6-ac71-1c031f75c01a",
   "metadata": {},
   "outputs": [
    {
     "data": {
      "text/plain": [
       "[4]"
      ]
     },
     "execution_count": 6,
     "metadata": {},
     "output_type": "execute_result"
    }
   ],
   "source": [
    "extract_positive_numbers_from_list([-4,0, -6, 4])"
   ]
  },
  {
   "cell_type": "code",
   "execution_count": 7,
   "id": "3e272440-5370-4134-83ba-2f2337162595",
   "metadata": {},
   "outputs": [],
   "source": [
    "def square_list_elements(list) :\n",
    "    new_list = []\n",
    "    for element in list :\n",
    "        new_list.append(element ** 2)\n",
    "    return new_list"
   ]
  },
  {
   "cell_type": "code",
   "execution_count": 8,
   "id": "70a40666-40ec-4ec7-9358-89626b1c48a5",
   "metadata": {},
   "outputs": [
    {
     "data": {
      "text/plain": [
       "[9, 2025, 9, 455625, 2025, 36, 3136]"
      ]
     },
     "execution_count": 8,
     "metadata": {},
     "output_type": "execute_result"
    }
   ],
   "source": [
    "square_list_elements(x)"
   ]
  },
  {
   "cell_type": "code",
   "execution_count": 9,
   "id": "2bc47e5e-7691-49f9-8496-a8acd1d4113a",
   "metadata": {},
   "outputs": [
    {
     "data": {
      "text/plain": [
       "[16, 0, 36, 16]"
      ]
     },
     "execution_count": 9,
     "metadata": {},
     "output_type": "execute_result"
    }
   ],
   "source": [
    "square_list_elements([-4,0, -6, 4])"
   ]
  },
  {
   "cell_type": "code",
   "execution_count": 10,
   "id": "5db37c5f-3bef-4ce6-afd8-0d595f8636a8",
   "metadata": {},
   "outputs": [
    {
     "data": {
      "text/plain": [
       "[]"
      ]
     },
     "execution_count": 10,
     "metadata": {},
     "output_type": "execute_result"
    }
   ],
   "source": [
    "square_list_elements([])"
   ]
  },
  {
   "cell_type": "code",
   "execution_count": 11,
   "id": "169cf1b9-3a03-486e-850f-f711e2ccd493",
   "metadata": {},
   "outputs": [
    {
     "ename": "TypeError",
     "evalue": "unsupported operand type(s) for ** or pow(): 'list' and 'int'",
     "output_type": "error",
     "traceback": [
      "\u001b[0;31m---------------------------------------------------------------------------\u001b[0m",
      "\u001b[0;31mTypeError\u001b[0m                                 Traceback (most recent call last)",
      "Input \u001b[0;32mIn [11]\u001b[0m, in \u001b[0;36m<cell line: 1>\u001b[0;34m()\u001b[0m\n\u001b[0;32m----> 1\u001b[0m \u001b[43msquare_list_elements\u001b[49m\u001b[43m(\u001b[49m\u001b[43m[\u001b[49m\u001b[43m[\u001b[49m\u001b[38;5;241;43m45\u001b[39;49m\u001b[43m,\u001b[49m\u001b[38;5;241;43m5\u001b[39;49m\u001b[43m]\u001b[49m\u001b[43m,\u001b[49m\u001b[38;5;241;43m5\u001b[39;49m\u001b[43m]\u001b[49m\u001b[43m)\u001b[49m\n",
      "Input \u001b[0;32mIn [7]\u001b[0m, in \u001b[0;36msquare_list_elements\u001b[0;34m(list)\u001b[0m\n\u001b[1;32m      2\u001b[0m new_list \u001b[38;5;241m=\u001b[39m []\n\u001b[1;32m      3\u001b[0m \u001b[38;5;28;01mfor\u001b[39;00m element \u001b[38;5;129;01min\u001b[39;00m \u001b[38;5;28mlist\u001b[39m :\n\u001b[0;32m----> 4\u001b[0m     new_list\u001b[38;5;241m.\u001b[39mappend(\u001b[43melement\u001b[49m\u001b[43m \u001b[49m\u001b[38;5;241;43m*\u001b[39;49m\u001b[38;5;241;43m*\u001b[39;49m\u001b[43m \u001b[49m\u001b[38;5;241;43m2\u001b[39;49m)\n\u001b[1;32m      5\u001b[0m \u001b[38;5;28;01mreturn\u001b[39;00m new_list\n",
      "\u001b[0;31mTypeError\u001b[0m: unsupported operand type(s) for ** or pow(): 'list' and 'int'"
     ]
    }
   ],
   "source": [
    "square_list_elements([[45,5],5])"
   ]
  },
  {
   "cell_type": "code",
   "execution_count": 12,
   "id": "cee39819-43c9-417e-b988-0deceae8f588",
   "metadata": {},
   "outputs": [
    {
     "data": {
      "text/plain": [
       "[(-3+4j), 25]"
      ]
     },
     "execution_count": 12,
     "metadata": {},
     "output_type": "execute_result"
    }
   ],
   "source": [
    "square_list_elements([1+2j,5])"
   ]
  }
 ],
 "metadata": {
  "kernelspec": {
   "display_name": "Python 3 (ipykernel)",
   "language": "python",
   "name": "python3"
  },
  "language_info": {
   "codemirror_mode": {
    "name": "ipython",
    "version": 3
   },
   "file_extension": ".py",
   "mimetype": "text/x-python",
   "name": "python",
   "nbconvert_exporter": "python",
   "pygments_lexer": "ipython3",
   "version": "3.9.13"
  }
 },
 "nbformat": 4,
 "nbformat_minor": 5
}
