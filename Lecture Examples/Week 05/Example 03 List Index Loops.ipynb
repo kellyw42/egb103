{
 "cells": [
  {
   "cell_type": "code",
   "execution_count": 1,
   "id": "e908718c-1756-4e3e-bbb7-62dbcaf5e4da",
   "metadata": {},
   "outputs": [],
   "source": [
    "y = [10,20,30,40,50,60,70,80,90]"
   ]
  },
  {
   "cell_type": "code",
   "execution_count": 2,
   "id": "d4d41577-7397-42f3-8dd7-b5dadfccf5b7",
   "metadata": {},
   "outputs": [
    {
     "name": "stdout",
     "output_type": "stream",
     "text": [
      "10\n",
      "20\n",
      "30\n",
      "40\n",
      "50\n",
      "60\n",
      "70\n",
      "80\n",
      "90\n"
     ]
    }
   ],
   "source": [
    "# Iterate through the elements in a list\n",
    "for element in y :\n",
    "    print(element)"
   ]
  },
  {
   "cell_type": "code",
   "execution_count": 5,
   "id": "7ec55038-8b18-4ab2-ad90-0fa740cdeb1a",
   "metadata": {},
   "outputs": [
    {
     "name": "stdout",
     "output_type": "stream",
     "text": [
      "0\n",
      "1\n",
      "2\n",
      "3\n",
      "4\n",
      "5\n",
      "6\n",
      "7\n",
      "8\n"
     ]
    }
   ],
   "source": [
    "# Using a range loop to iterate through each of the index positions within list y ...\n",
    "for i in range(len(y)) :\n",
    "    print(i)"
   ]
  },
  {
   "cell_type": "code",
   "execution_count": 6,
   "id": "d3608788-369c-42ed-a716-0c02ddcf1ffa",
   "metadata": {},
   "outputs": [
    {
     "name": "stdout",
     "output_type": "stream",
     "text": [
      "10\n",
      "20\n",
      "30\n",
      "40\n",
      "50\n",
      "60\n",
      "70\n",
      "80\n",
      "90\n"
     ]
    }
   ],
   "source": [
    "# In this way we can use a range loop to iterate through all the elements of a list by using explicit list indexing\n",
    "for i in range(len(y)) :\n",
    "    print(y[i])\n",
    "    \n",
    "# While this is possible, it is considered an anti-pattern - i.e. an example of poor coding practice.\n",
    "# We should always use a simple for loop to iterate through a list, and not a range loop \n",
    "# (unless we have to, as we will see in the examples below)"
   ]
  },
  {
   "cell_type": "code",
   "execution_count": 7,
   "id": "65fa722c-0c39-42fe-b883-69c0646a3575",
   "metadata": {},
   "outputs": [
    {
     "data": {
      "text/plain": [
       "5"
      ]
     },
     "execution_count": 7,
     "metadata": {},
     "output_type": "execute_result"
    }
   ],
   "source": [
    "# Recall the index method that we looked at last week that returns the index position of some value in the list ...\n",
    "y.index(60)"
   ]
  },
  {
   "cell_type": "code",
   "execution_count": 8,
   "id": "320c88d5-5965-4312-af0a-0b99c677c143",
   "metadata": {},
   "outputs": [
    {
     "ename": "ValueError",
     "evalue": "66 is not in list",
     "output_type": "error",
     "traceback": [
      "\u001b[0;31m---------------------------------------------------------------------------\u001b[0m",
      "\u001b[0;31mValueError\u001b[0m                                Traceback (most recent call last)",
      "Input \u001b[0;32mIn [8]\u001b[0m, in \u001b[0;36m<cell line: 1>\u001b[0;34m()\u001b[0m\n\u001b[0;32m----> 1\u001b[0m \u001b[43my\u001b[49m\u001b[38;5;241;43m.\u001b[39;49m\u001b[43mindex\u001b[49m\u001b[43m(\u001b[49m\u001b[38;5;241;43m66\u001b[39;49m\u001b[43m)\u001b[49m\n",
      "\u001b[0;31mValueError\u001b[0m: 66 is not in list"
     ]
    }
   ],
   "source": [
    "# If the target value is not in the list, then we get an error ...\n",
    "y.index(66)"
   ]
  },
  {
   "cell_type": "code",
   "execution_count": 9,
   "id": "508a5e33-4d15-4620-90df-606bc61b510b",
   "metadata": {},
   "outputs": [],
   "source": [
    "# Let's implement the equivalent of the index method ourselves (but implemented as a function rather than a method) ...\n",
    "\n",
    "# Notice how in this case we need to use a range loop because inside the loop we are using list[i], \n",
    "# but also the value i in the return statement\n",
    "\n",
    "def list_index(list, target) :\n",
    "    for i in range(len(list)) :\n",
    "        if list[i] == target :\n",
    "            return i\n",
    "    raise ValueError('target is not in list')"
   ]
  },
  {
   "cell_type": "code",
   "execution_count": 10,
   "id": "b6245011-c00e-425e-86e8-9fcea084ef7e",
   "metadata": {},
   "outputs": [
    {
     "data": {
      "text/plain": [
       "5"
      ]
     },
     "execution_count": 10,
     "metadata": {},
     "output_type": "execute_result"
    }
   ],
   "source": [
    "list_index(y, 60)"
   ]
  },
  {
   "cell_type": "code",
   "execution_count": 11,
   "id": "aec1072b-cb90-4d97-8713-de2d1db086cc",
   "metadata": {},
   "outputs": [
    {
     "ename": "ValueError",
     "evalue": "target is not in list",
     "output_type": "error",
     "traceback": [
      "\u001b[0;31m---------------------------------------------------------------------------\u001b[0m",
      "\u001b[0;31mValueError\u001b[0m                                Traceback (most recent call last)",
      "Input \u001b[0;32mIn [11]\u001b[0m, in \u001b[0;36m<cell line: 1>\u001b[0;34m()\u001b[0m\n\u001b[0;32m----> 1\u001b[0m \u001b[43mlist_index\u001b[49m\u001b[43m(\u001b[49m\u001b[43my\u001b[49m\u001b[43m,\u001b[49m\u001b[43m \u001b[49m\u001b[38;5;241;43m66\u001b[39;49m\u001b[43m)\u001b[49m\n",
      "Input \u001b[0;32mIn [9]\u001b[0m, in \u001b[0;36mlist_index\u001b[0;34m(list, target)\u001b[0m\n\u001b[1;32m      3\u001b[0m     \u001b[38;5;28;01mif\u001b[39;00m \u001b[38;5;28mlist\u001b[39m[i] \u001b[38;5;241m==\u001b[39m target :\n\u001b[1;32m      4\u001b[0m         \u001b[38;5;28;01mreturn\u001b[39;00m i\n\u001b[0;32m----> 5\u001b[0m \u001b[38;5;28;01mraise\u001b[39;00m \u001b[38;5;167;01mValueError\u001b[39;00m(\u001b[38;5;124m'\u001b[39m\u001b[38;5;124mtarget is not in list\u001b[39m\u001b[38;5;124m'\u001b[39m)\n",
      "\u001b[0;31mValueError\u001b[0m: target is not in list"
     ]
    }
   ],
   "source": [
    "list_index(y, 66)"
   ]
  }
 ],
 "metadata": {
  "kernelspec": {
   "display_name": "Python 3 (ipykernel)",
   "language": "python",
   "name": "python3"
  },
  "language_info": {
   "codemirror_mode": {
    "name": "ipython",
    "version": 3
   },
   "file_extension": ".py",
   "mimetype": "text/x-python",
   "name": "python",
   "nbconvert_exporter": "python",
   "pygments_lexer": "ipython3",
   "version": "3.9.13"
  }
 },
 "nbformat": 4,
 "nbformat_minor": 5
}
