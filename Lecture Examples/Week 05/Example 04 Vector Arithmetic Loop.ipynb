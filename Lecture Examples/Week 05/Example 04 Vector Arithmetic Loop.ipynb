{
 "cells": [
  {
   "cell_type": "code",
   "execution_count": 1,
   "id": "545b5a24-1e44-422e-adeb-521a73c5d324",
   "metadata": {},
   "outputs": [],
   "source": [
    "a = [23, 45, 34]\n",
    "b = [45, 34, 45]\n",
    "\n",
    "# manually summing the above 2 vectors\n",
    "c = [a[0]+b[0], a[1]+b[1], a[2]+b[2]]"
   ]
  },
  {
   "cell_type": "code",
   "execution_count": 2,
   "id": "0f3a49d3-7ec5-45a6-83f3-ac24b7da630c",
   "metadata": {},
   "outputs": [
    {
     "data": {
      "text/plain": [
       "[68, 79, 79]"
      ]
     },
     "execution_count": 2,
     "metadata": {},
     "output_type": "execute_result"
    }
   ],
   "source": [
    "c"
   ]
  },
  {
   "cell_type": "code",
   "execution_count": 3,
   "id": "55ce97f1-56f5-43dd-8b63-937463e75052",
   "metadata": {},
   "outputs": [],
   "source": [
    "a = [23, 45, 34, 4]\n",
    "b = [45, 34, 45, 45]\n",
    "\n",
    "# but this doesn't work  if the vectors are longer ...\n",
    "c = [a[0]+b[0],a[1]+b[1],a[2]+b[2]]"
   ]
  },
  {
   "cell_type": "code",
   "execution_count": 4,
   "id": "bb8b56a8-69c8-4492-8a30-c5c93694aed8",
   "metadata": {},
   "outputs": [
    {
     "data": {
      "text/plain": [
       "[68, 79, 79]"
      ]
     },
     "execution_count": 4,
     "metadata": {},
     "output_type": "execute_result"
    }
   ],
   "source": [
    "# produces wrong answer\n",
    "c"
   ]
  },
  {
   "cell_type": "code",
   "execution_count": 5,
   "id": "80c3471d-6019-41df-a784-ae8d4650a62b",
   "metadata": {},
   "outputs": [
    {
     "ename": "IndexError",
     "evalue": "list index out of range",
     "output_type": "error",
     "traceback": [
      "\u001b[0;31m---------------------------------------------------------------------------\u001b[0m",
      "\u001b[0;31mIndexError\u001b[0m                                Traceback (most recent call last)",
      "Input \u001b[0;32mIn [5]\u001b[0m, in \u001b[0;36m<cell line: 4>\u001b[0;34m()\u001b[0m\n\u001b[1;32m      1\u001b[0m a \u001b[38;5;241m=\u001b[39m [\u001b[38;5;241m23\u001b[39m, \u001b[38;5;241m45\u001b[39m, \u001b[38;5;241m34\u001b[39m]\n\u001b[1;32m      2\u001b[0m b \u001b[38;5;241m=\u001b[39m [\u001b[38;5;241m45\u001b[39m, \u001b[38;5;241m34\u001b[39m]\n\u001b[0;32m----> 4\u001b[0m c \u001b[38;5;241m=\u001b[39m [a[\u001b[38;5;241m0\u001b[39m]\u001b[38;5;241m+\u001b[39mb[\u001b[38;5;241m0\u001b[39m],a[\u001b[38;5;241m1\u001b[39m]\u001b[38;5;241m+\u001b[39mb[\u001b[38;5;241m1\u001b[39m],a[\u001b[38;5;241m2\u001b[39m]\u001b[38;5;241m+\u001b[39m\u001b[43mb\u001b[49m\u001b[43m[\u001b[49m\u001b[38;5;241;43m2\u001b[39;49m\u001b[43m]\u001b[49m]\n",
      "\u001b[0;31mIndexError\u001b[0m: list index out of range"
     ]
    }
   ],
   "source": [
    "a = [23, 45, 34]\n",
    "b = [45, 34]\n",
    "\n",
    "# if vectors are of different lengths, then we get an error\n",
    "c = [a[0]+b[0],a[1]+b[1],a[2]+b[2]]"
   ]
  },
  {
   "cell_type": "code",
   "execution_count": null,
   "id": "a95d1033-1040-4a5a-9664-c6530c2263e7",
   "metadata": {},
   "outputs": [],
   "source": [
    "# let's write a function to sum two vectors of any length ...\n",
    "\n",
    "def vector_add(vector1, vector2) :\n",
    "    result = []\n",
    "    for i in range(len(vector1)) :\n",
    "        result.append(vector1[i] + vector2[i])\n",
    "    return result"
   ]
  },
  {
   "cell_type": "code",
   "execution_count": null,
   "id": "81827e82-61d0-49e9-a529-bb7d3b7da3c5",
   "metadata": {},
   "outputs": [],
   "source": [
    "a = [23, 45, 34]\n",
    "b = [45, 34, 7]"
   ]
  },
  {
   "cell_type": "code",
   "execution_count": null,
   "id": "d0d79333-4877-40e0-a726-a90eae4c3117",
   "metadata": {},
   "outputs": [],
   "source": [
    "vector_add(a, b)"
   ]
  },
  {
   "cell_type": "code",
   "execution_count": null,
   "id": "4341e26c-795f-44c2-b6ee-3b9009ccbe3a",
   "metadata": {},
   "outputs": [],
   "source": [
    "a = [23, 45, 34, 6]\n",
    "b = [45, 34, 7, 0]"
   ]
  },
  {
   "cell_type": "code",
   "execution_count": null,
   "id": "ec640618-d01d-401e-a293-5f6970aa6578",
   "metadata": {},
   "outputs": [],
   "source": [
    "vector_add(a, b)"
   ]
  },
  {
   "cell_type": "code",
   "execution_count": null,
   "id": "79e4e070-272d-4c4c-a0a6-60135947a173",
   "metadata": {},
   "outputs": [],
   "source": [
    "# instead of adding corresponding elements, we can multiply corresponding elements ...\n",
    "\n",
    "def vector_mult(vector1, vector2) :\n",
    "    result = []\n",
    "    for i in range(len(vector1)) :\n",
    "        result.append(vector1[i] * vector2[i])\n",
    "    return result"
   ]
  },
  {
   "cell_type": "code",
   "execution_count": null,
   "id": "e7366e5d-bfa5-4c5d-ba72-b46e161e9566",
   "metadata": {},
   "outputs": [],
   "source": [
    "vector_mult(a,b)"
   ]
  }
 ],
 "metadata": {
  "kernelspec": {
   "display_name": "Python 3 (ipykernel)",
   "language": "python",
   "name": "python3"
  },
  "language_info": {
   "codemirror_mode": {
    "name": "ipython",
    "version": 3
   },
   "file_extension": ".py",
   "mimetype": "text/x-python",
   "name": "python",
   "nbconvert_exporter": "python",
   "pygments_lexer": "ipython3",
   "version": "3.9.13"
  }
 },
 "nbformat": 4,
 "nbformat_minor": 5
}
