{
 "cells": [
  {
   "cell_type": "code",
   "execution_count": 1,
   "id": "9aaf8dfd-32e5-4886-b5ec-45f6463a4fad",
   "metadata": {},
   "outputs": [],
   "source": [
    "y = [10,20,30,40,50,60,70,80,90]"
   ]
  },
  {
   "cell_type": "code",
   "execution_count": 2,
   "id": "2e3b0ea3-423c-4548-96b3-82fd544665d2",
   "metadata": {},
   "outputs": [],
   "source": [
    "def is_list_sorted(list) :\n",
    "    for i in range(len(list)) :\n",
    "        # test to see if element at position i is greater than the element immediately after it in the list ...\n",
    "        if list[i] > list[i+1] :\n",
    "            return False\n",
    "    return True"
   ]
  },
  {
   "cell_type": "code",
   "execution_count": 3,
   "id": "b18dd1bb-ad77-4255-b521-e3b77611213c",
   "metadata": {},
   "outputs": [
    {
     "ename": "IndexError",
     "evalue": "list index out of range",
     "output_type": "error",
     "traceback": [
      "\u001b[0;31m---------------------------------------------------------------------------\u001b[0m",
      "\u001b[0;31mIndexError\u001b[0m                                Traceback (most recent call last)",
      "Input \u001b[0;32mIn [3]\u001b[0m, in \u001b[0;36m<cell line: 1>\u001b[0;34m()\u001b[0m\n\u001b[0;32m----> 1\u001b[0m \u001b[43mis_list_sorted\u001b[49m\u001b[43m(\u001b[49m\u001b[43my\u001b[49m\u001b[43m)\u001b[49m\n",
      "Input \u001b[0;32mIn [2]\u001b[0m, in \u001b[0;36mis_list_sorted\u001b[0;34m(list)\u001b[0m\n\u001b[1;32m      1\u001b[0m \u001b[38;5;28;01mdef\u001b[39;00m \u001b[38;5;21mis_list_sorted\u001b[39m(\u001b[38;5;28mlist\u001b[39m) :\n\u001b[1;32m      2\u001b[0m     \u001b[38;5;28;01mfor\u001b[39;00m i \u001b[38;5;129;01min\u001b[39;00m \u001b[38;5;28mrange\u001b[39m(\u001b[38;5;28mlen\u001b[39m(\u001b[38;5;28mlist\u001b[39m)) :\n\u001b[0;32m----> 3\u001b[0m         \u001b[38;5;28;01mif\u001b[39;00m \u001b[38;5;28mlist\u001b[39m[i] \u001b[38;5;241m>\u001b[39m \u001b[38;5;28;43mlist\u001b[39;49m\u001b[43m[\u001b[49m\u001b[43mi\u001b[49m\u001b[38;5;241;43m+\u001b[39;49m\u001b[38;5;241;43m1\u001b[39;49m\u001b[43m]\u001b[49m :\n\u001b[1;32m      4\u001b[0m             \u001b[38;5;28;01mreturn\u001b[39;00m \u001b[38;5;28;01mFalse\u001b[39;00m\n\u001b[1;32m      5\u001b[0m     \u001b[38;5;28;01mreturn\u001b[39;00m \u001b[38;5;28;01mTrue\u001b[39;00m\n",
      "\u001b[0;31mIndexError\u001b[0m: list index out of range"
     ]
    }
   ],
   "source": [
    "# We have a bug here because i iterates up to len(list)-1, \n",
    "# but then list[i+1] produces an index out of range error because i+1 can be up to len(list)\n",
    "is_list_sorted(y)"
   ]
  },
  {
   "cell_type": "code",
   "execution_count": 4,
   "id": "b9c80a74-1dd2-4325-8ff1-b3e1d3aec2d1",
   "metadata": {},
   "outputs": [],
   "source": [
    "# Fixing the bug by only iterating up to element len(list)-2, so that i+1 is at most len(list)-1\n",
    "def is_list_sorted(list) :\n",
    "    for i in range(len(list)-1) :\n",
    "        if list[i] > list[i+1] :\n",
    "            return False\n",
    "    return True"
   ]
  },
  {
   "cell_type": "code",
   "execution_count": 5,
   "id": "c864e50b-e7e0-4da2-8910-d4bcda326007",
   "metadata": {},
   "outputs": [
    {
     "data": {
      "text/plain": [
       "True"
      ]
     },
     "execution_count": 5,
     "metadata": {},
     "output_type": "execute_result"
    }
   ],
   "source": [
    "# Testing on a sorted list ...\n",
    "is_list_sorted(y)"
   ]
  },
  {
   "cell_type": "code",
   "execution_count": 6,
   "id": "cb9316a0-3922-4d8f-9ecd-a5d38fde14e5",
   "metadata": {},
   "outputs": [
    {
     "data": {
      "text/plain": [
       "False"
      ]
     },
     "execution_count": 6,
     "metadata": {},
     "output_type": "execute_result"
    }
   ],
   "source": [
    "# Testing on an unsorted  list\n",
    "is_list_sorted([10,20,30,40,50,40,70,80,90])"
   ]
  },
  {
   "cell_type": "code",
   "execution_count": 7,
   "id": "de23763f-1c6a-4917-a9ba-d3c1bbf74b63",
   "metadata": {},
   "outputs": [
    {
     "data": {
      "text/plain": [
       "True"
      ]
     },
     "execution_count": 7,
     "metadata": {},
     "output_type": "execute_result"
    }
   ],
   "source": [
    "# Testing on a list with duplicate elements\n",
    "is_list_sorted([10,20,30,40,50,50,70,80,90])"
   ]
  },
  {
   "cell_type": "code",
   "execution_count": 8,
   "id": "e6da6aa3-6b52-4008-8b71-b74a5c196384",
   "metadata": {},
   "outputs": [],
   "source": [
    "# If we wanted to check if the list was strictly sorted (i.e. no duplicate values) ...\n",
    "def is_list_sorted(list) :\n",
    "    for i in range(len(list)-1) :\n",
    "        if list[i] >= list[i+1] :\n",
    "            return False\n",
    "    return True"
   ]
  },
  {
   "cell_type": "code",
   "execution_count": 9,
   "id": "cbc8098b-34b8-4f6e-bb89-ba6c27561b39",
   "metadata": {},
   "outputs": [
    {
     "data": {
      "text/plain": [
       "False"
      ]
     },
     "execution_count": 9,
     "metadata": {},
     "output_type": "execute_result"
    }
   ],
   "source": [
    "is_list_sorted([10,20,30,40,50,50,70,80,90])"
   ]
  },
  {
   "cell_type": "code",
   "execution_count": 10,
   "id": "48fbf1bd-c708-440c-81c0-0aa68c376339",
   "metadata": {},
   "outputs": [],
   "source": [
    "# Or if we wanted to check if the list was sorted in descending order ...\n",
    "def is_list_sorted(list) :\n",
    "    for i in range(len(list)-1) :\n",
    "        if list[i] < list[i+1] :\n",
    "            return False\n",
    "    return True"
   ]
  },
  {
   "cell_type": "code",
   "execution_count": 11,
   "id": "961ab032-171f-4ec5-9eea-75afde4284c9",
   "metadata": {},
   "outputs": [
    {
     "data": {
      "text/plain": [
       "False"
      ]
     },
     "execution_count": 11,
     "metadata": {},
     "output_type": "execute_result"
    }
   ],
   "source": [
    "is_list_sorted([10,20,30,40,50,50,70,80,90])"
   ]
  },
  {
   "cell_type": "code",
   "execution_count": 12,
   "id": "bcb0c195-0e44-429a-a8ae-e943de450b91",
   "metadata": {},
   "outputs": [
    {
     "data": {
      "text/plain": [
       "True"
      ]
     },
     "execution_count": 12,
     "metadata": {},
     "output_type": "execute_result"
    }
   ],
   "source": [
    "is_list_sorted([90,80,70,60,50,40,30,20,10])"
   ]
  }
 ],
 "metadata": {
  "kernelspec": {
   "display_name": "Python 3 (ipykernel)",
   "language": "python",
   "name": "python3"
  },
  "language_info": {
   "codemirror_mode": {
    "name": "ipython",
    "version": 3
   },
   "file_extension": ".py",
   "mimetype": "text/x-python",
   "name": "python",
   "nbconvert_exporter": "python",
   "pygments_lexer": "ipython3",
   "version": "3.9.13"
  }
 },
 "nbformat": 4,
 "nbformat_minor": 5
}
