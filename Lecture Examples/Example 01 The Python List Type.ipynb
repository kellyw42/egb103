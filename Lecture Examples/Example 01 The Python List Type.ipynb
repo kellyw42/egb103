{
 "cells": [
  {
   "cell_type": "code",
   "execution_count": 2,
   "id": "09026950-ea2c-4a56-8227-cf5a28afb0c2",
   "metadata": {},
   "outputs": [
    {
     "data": {
      "text/plain": [
       "[3, 7, 4, 3]"
      ]
     },
     "execution_count": 2,
     "metadata": {},
     "output_type": "execute_result"
    }
   ],
   "source": [
    "# Create a list\n",
    "[3, 7, 4, 3]"
   ]
  },
  {
   "cell_type": "code",
   "execution_count": 3,
   "id": "ed43e232-f216-47ff-95d3-4b5323520275",
   "metadata": {},
   "outputs": [
    {
     "data": {
      "text/plain": [
       "list"
      ]
     },
     "execution_count": 3,
     "metadata": {},
     "output_type": "execute_result"
    }
   ],
   "source": [
    "type([3, 7, 4, 3])"
   ]
  },
  {
   "cell_type": "code",
   "execution_count": 4,
   "id": "596cf28d-ffd8-4638-ab98-c98ce3f6b516",
   "metadata": {},
   "outputs": [
    {
     "data": {
      "text/plain": [
       "[3, 7.13, (4+4j), True, [3, False]]"
      ]
     },
     "execution_count": 4,
     "metadata": {},
     "output_type": "execute_result"
    }
   ],
   "source": [
    "# a list containing different types of values\n",
    "[3, 7.13, 4+4j, True, [3, False]]"
   ]
  },
  {
   "cell_type": "code",
   "execution_count": 5,
   "id": "61004f23-895a-432b-8915-1fce815af3d5",
   "metadata": {},
   "outputs": [
    {
     "data": {
      "text/plain": [
       "list"
      ]
     },
     "execution_count": 5,
     "metadata": {},
     "output_type": "execute_result"
    }
   ],
   "source": [
    "type([3, 7.13, 4+4j, True, [3, False]])"
   ]
  },
  {
   "cell_type": "code",
   "execution_count": 6,
   "id": "acb50846-a50d-4684-b474-9e63f5cee30f",
   "metadata": {},
   "outputs": [],
   "source": [
    "# assign a list to a variable\n",
    "x = [3, 7.13, 4+4j, True, [3, False]]"
   ]
  },
  {
   "cell_type": "code",
   "execution_count": 7,
   "id": "e3309c3f-710b-4189-910b-b6297bcf5bf4",
   "metadata": {},
   "outputs": [
    {
     "data": {
      "text/plain": [
       "[3, 7.13, (4+4j), True, [3, False]]"
      ]
     },
     "execution_count": 7,
     "metadata": {},
     "output_type": "execute_result"
    }
   ],
   "source": [
    "x"
   ]
  },
  {
   "cell_type": "code",
   "execution_count": 8,
   "id": "a1d69d08-c11c-47d0-9027-96d956d44e9e",
   "metadata": {},
   "outputs": [
    {
     "name": "stdout",
     "output_type": "stream",
     "text": [
      "[3, 7.13, (4+4j), True, [3, False]]\n"
     ]
    }
   ],
   "source": [
    "# passing lists parameters to functions\n",
    "def Foo(y) :\n",
    "    print(y)\n",
    "    \n",
    "Foo(x)"
   ]
  },
  {
   "cell_type": "code",
   "execution_count": 10,
   "id": "0049f894-f37a-4cc7-bbd2-8459c6504576",
   "metadata": {},
   "outputs": [
    {
     "data": {
      "text/plain": [
       "(4+4j)"
      ]
     },
     "execution_count": 10,
     "metadata": {},
     "output_type": "execute_result"
    }
   ],
   "source": [
    "# lookup element 2 of this list\n",
    "x[2]"
   ]
  },
  {
   "cell_type": "code",
   "execution_count": 11,
   "id": "3ba856ed-c065-447c-917c-836b92688bbe",
   "metadata": {},
   "outputs": [
    {
     "data": {
      "text/plain": [
       "3"
      ]
     },
     "execution_count": 11,
     "metadata": {},
     "output_type": "execute_result"
    }
   ],
   "source": [
    "# list positions start at position 0\n",
    "x[0]"
   ]
  },
  {
   "cell_type": "code",
   "execution_count": 12,
   "id": "a93689c3-8ed7-4e5a-a6d2-375c736f4670",
   "metadata": {},
   "outputs": [
    {
     "data": {
      "text/plain": [
       "[3, False]"
      ]
     },
     "execution_count": 12,
     "metadata": {},
     "output_type": "execute_result"
    }
   ],
   "source": [
    "x[4]"
   ]
  },
  {
   "cell_type": "code",
   "execution_count": 13,
   "id": "f8966bc4-f2d9-400f-ac1d-ebc03c1010b5",
   "metadata": {},
   "outputs": [
    {
     "ename": "IndexError",
     "evalue": "list index out of range",
     "output_type": "error",
     "traceback": [
      "\u001b[0;31m---------------------------------------------------------------------------\u001b[0m",
      "\u001b[0;31mIndexError\u001b[0m                                Traceback (most recent call last)",
      "Input \u001b[0;32mIn [13]\u001b[0m, in \u001b[0;36m<cell line: 1>\u001b[0;34m()\u001b[0m\n\u001b[0;32m----> 1\u001b[0m \u001b[43mx\u001b[49m\u001b[43m[\u001b[49m\u001b[38;5;241;43m5\u001b[39;49m\u001b[43m]\u001b[49m\n",
      "\u001b[0;31mIndexError\u001b[0m: list index out of range"
     ]
    }
   ],
   "source": [
    "# accessing beyound the bounds of the list\n",
    "x[5]"
   ]
  },
  {
   "cell_type": "code",
   "execution_count": 14,
   "id": "50c20b6c-9cc0-4e65-963a-b62894429007",
   "metadata": {},
   "outputs": [
    {
     "data": {
      "text/plain": [
       "3"
      ]
     },
     "execution_count": 14,
     "metadata": {},
     "output_type": "execute_result"
    }
   ],
   "source": [
    "y = x[4]\n",
    "y[0]"
   ]
  },
  {
   "cell_type": "code",
   "execution_count": 15,
   "id": "b3a4eaf2-b041-4429-a2bc-51a2308c3bb9",
   "metadata": {},
   "outputs": [
    {
     "data": {
      "text/plain": [
       "False"
      ]
     },
     "execution_count": 15,
     "metadata": {},
     "output_type": "execute_result"
    }
   ],
   "source": [
    "y[1]"
   ]
  },
  {
   "cell_type": "code",
   "execution_count": 16,
   "id": "5cc1dd5d-b4cb-4891-a9e4-654cb900ff64",
   "metadata": {},
   "outputs": [
    {
     "data": {
      "text/plain": [
       "3"
      ]
     },
     "execution_count": 16,
     "metadata": {},
     "output_type": "execute_result"
    }
   ],
   "source": [
    "# indexing into a list that part of another list ...\n",
    "x[4][0]"
   ]
  },
  {
   "cell_type": "code",
   "execution_count": 17,
   "id": "6d838dc9-35a4-4ff4-9fde-f18f58e45e5a",
   "metadata": {},
   "outputs": [
    {
     "data": {
      "text/plain": [
       "False"
      ]
     },
     "execution_count": 17,
     "metadata": {},
     "output_type": "execute_result"
    }
   ],
   "source": [
    "x[4][1]"
   ]
  },
  {
   "cell_type": "code",
   "execution_count": 18,
   "id": "b7dd29c2-3e6e-4686-ac0d-239d999acb7b",
   "metadata": {},
   "outputs": [],
   "source": [
    "# update element 1 of the list\n",
    "x[1] = 7.9"
   ]
  },
  {
   "cell_type": "code",
   "execution_count": 19,
   "id": "2611973d-a0bb-497e-9deb-9527ad11307b",
   "metadata": {},
   "outputs": [
    {
     "data": {
      "text/plain": [
       "[3, 7.9, (4+4j), True, [3, False]]"
      ]
     },
     "execution_count": 19,
     "metadata": {},
     "output_type": "execute_result"
    }
   ],
   "source": [
    "x"
   ]
  },
  {
   "cell_type": "code",
   "execution_count": 20,
   "id": "13f13900-522f-497e-9fc7-a6545e8e7e12",
   "metadata": {},
   "outputs": [],
   "source": [
    "x[1] = True"
   ]
  },
  {
   "cell_type": "code",
   "execution_count": 21,
   "id": "507539a5-8f4e-4a10-8ddd-deb77f065a60",
   "metadata": {},
   "outputs": [
    {
     "data": {
      "text/plain": [
       "[3, True, (4+4j), True, [3, False]]"
      ]
     },
     "execution_count": 21,
     "metadata": {},
     "output_type": "execute_result"
    }
   ],
   "source": [
    "x"
   ]
  },
  {
   "cell_type": "code",
   "execution_count": 22,
   "id": "44a8fe09-e27c-4f9f-952f-46e6707fd70f",
   "metadata": {},
   "outputs": [],
   "source": [
    "# updating element 2 to be a new list\n",
    "x[2] = [4,5,6]"
   ]
  },
  {
   "cell_type": "code",
   "execution_count": 23,
   "id": "fa1a7ad1-5304-4f10-9a4f-e68456f6dc30",
   "metadata": {},
   "outputs": [
    {
     "data": {
      "text/plain": [
       "[3, True, [4, 5, 6], True, [3, False]]"
      ]
     },
     "execution_count": 23,
     "metadata": {},
     "output_type": "execute_result"
    }
   ],
   "source": [
    "x"
   ]
  },
  {
   "cell_type": "code",
   "execution_count": 24,
   "id": "86da9293-3a78-4c59-a91d-1122b95fe89f",
   "metadata": {},
   "outputs": [],
   "source": [
    "i = 2 * 1"
   ]
  },
  {
   "cell_type": "code",
   "execution_count": 25,
   "id": "9e777a7f-b664-4576-8f97-4327accc16a1",
   "metadata": {},
   "outputs": [
    {
     "data": {
      "text/plain": [
       "True"
      ]
     },
     "execution_count": 25,
     "metadata": {},
     "output_type": "execute_result"
    }
   ],
   "source": [
    "# indexing using an expression\n",
    "x[i+1]"
   ]
  },
  {
   "cell_type": "code",
   "execution_count": 26,
   "id": "8386d53e-0c3c-41fb-bf8b-e56d436247fd",
   "metadata": {},
   "outputs": [
    {
     "ename": "TypeError",
     "evalue": "list indices must be integers or slices, not float",
     "output_type": "error",
     "traceback": [
      "\u001b[0;31m---------------------------------------------------------------------------\u001b[0m",
      "\u001b[0;31mTypeError\u001b[0m                                 Traceback (most recent call last)",
      "Input \u001b[0;32mIn [26]\u001b[0m, in \u001b[0;36m<cell line: 1>\u001b[0;34m()\u001b[0m\n\u001b[0;32m----> 1\u001b[0m \u001b[43mx\u001b[49m\u001b[43m[\u001b[49m\u001b[38;5;241;43m3.14\u001b[39;49m\u001b[43m]\u001b[49m\n",
      "\u001b[0;31mTypeError\u001b[0m: list indices must be integers or slices, not float"
     ]
    }
   ],
   "source": [
    "# index value needs to be of type integer\n",
    "x[3.14]"
   ]
  }
 ],
 "metadata": {
  "kernelspec": {
   "display_name": "Python 3 (ipykernel)",
   "language": "python",
   "name": "python3"
  },
  "language_info": {
   "codemirror_mode": {
    "name": "ipython",
    "version": 3
   },
   "file_extension": ".py",
   "mimetype": "text/x-python",
   "name": "python",
   "nbconvert_exporter": "python",
   "pygments_lexer": "ipython3",
   "version": "3.9.13"
  }
 },
 "nbformat": 4,
 "nbformat_minor": 5
}
