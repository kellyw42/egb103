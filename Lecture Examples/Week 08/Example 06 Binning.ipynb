{
 "cells": [
  {
   "cell_type": "code",
   "execution_count": 1,
   "id": "7cca8a91-fc56-4065-81a6-a3fee245d0e9",
   "metadata": {},
   "outputs": [
    {
     "data": {
      "text/html": [
       "<div>\n",
       "<style scoped>\n",
       "    .dataframe tbody tr th:only-of-type {\n",
       "        vertical-align: middle;\n",
       "    }\n",
       "\n",
       "    .dataframe tbody tr th {\n",
       "        vertical-align: top;\n",
       "    }\n",
       "\n",
       "    .dataframe thead th {\n",
       "        text-align: right;\n",
       "    }\n",
       "</style>\n",
       "<table border=\"1\" class=\"dataframe\">\n",
       "  <thead>\n",
       "    <tr style=\"text-align: right;\">\n",
       "      <th></th>\n",
       "      <th>Date</th>\n",
       "      <th>MinTemp</th>\n",
       "      <th>MaxTemp</th>\n",
       "      <th>Rainfall</th>\n",
       "    </tr>\n",
       "  </thead>\n",
       "  <tbody>\n",
       "    <tr>\n",
       "      <th>0</th>\n",
       "      <td>2022/02/13</td>\n",
       "      <td>18.6</td>\n",
       "      <td>29.3</td>\n",
       "      <td>7.2</td>\n",
       "    </tr>\n",
       "    <tr>\n",
       "      <th>1</th>\n",
       "      <td>2022/02/12</td>\n",
       "      <td>20.4</td>\n",
       "      <td>28.9</td>\n",
       "      <td>0.0</td>\n",
       "    </tr>\n",
       "    <tr>\n",
       "      <th>2</th>\n",
       "      <td>2022/02/11</td>\n",
       "      <td>19.1</td>\n",
       "      <td>31.3</td>\n",
       "      <td>0.0</td>\n",
       "    </tr>\n",
       "    <tr>\n",
       "      <th>3</th>\n",
       "      <td>2022/02/10</td>\n",
       "      <td>19.4</td>\n",
       "      <td>31.2</td>\n",
       "      <td>0.0</td>\n",
       "    </tr>\n",
       "    <tr>\n",
       "      <th>4</th>\n",
       "      <td>2022/02/09</td>\n",
       "      <td>18.6</td>\n",
       "      <td>30.0</td>\n",
       "      <td>0.0</td>\n",
       "    </tr>\n",
       "    <tr>\n",
       "      <th>...</th>\n",
       "      <td>...</td>\n",
       "      <td>...</td>\n",
       "      <td>...</td>\n",
       "      <td>...</td>\n",
       "    </tr>\n",
       "    <tr>\n",
       "      <th>8096</th>\n",
       "      <td>1999/12/15</td>\n",
       "      <td>17.0</td>\n",
       "      <td>27.0</td>\n",
       "      <td>0.0</td>\n",
       "    </tr>\n",
       "    <tr>\n",
       "      <th>8097</th>\n",
       "      <td>1999/12/14</td>\n",
       "      <td>17.0</td>\n",
       "      <td>26.0</td>\n",
       "      <td>0.2</td>\n",
       "    </tr>\n",
       "    <tr>\n",
       "      <th>8098</th>\n",
       "      <td>1999/12/13</td>\n",
       "      <td>19.0</td>\n",
       "      <td>24.0</td>\n",
       "      <td>0.8</td>\n",
       "    </tr>\n",
       "    <tr>\n",
       "      <th>8099</th>\n",
       "      <td>1999/12/12</td>\n",
       "      <td>18.0</td>\n",
       "      <td>29.0</td>\n",
       "      <td>37.0</td>\n",
       "    </tr>\n",
       "    <tr>\n",
       "      <th>8100</th>\n",
       "      <td>1999/12/11</td>\n",
       "      <td>22.0</td>\n",
       "      <td>26.0</td>\n",
       "      <td>8.0</td>\n",
       "    </tr>\n",
       "  </tbody>\n",
       "</table>\n",
       "<p>8101 rows × 4 columns</p>\n",
       "</div>"
      ],
      "text/plain": [
       "            Date  MinTemp  MaxTemp  Rainfall\n",
       "0     2022/02/13     18.6     29.3       7.2\n",
       "1     2022/02/12     20.4     28.9       0.0\n",
       "2     2022/02/11     19.1     31.3       0.0\n",
       "3     2022/02/10     19.4     31.2       0.0\n",
       "4     2022/02/09     18.6     30.0       0.0\n",
       "...          ...      ...      ...       ...\n",
       "8096  1999/12/15     17.0     27.0       0.0\n",
       "8097  1999/12/14     17.0     26.0       0.2\n",
       "8098  1999/12/13     19.0     24.0       0.8\n",
       "8099  1999/12/12     18.0     29.0      37.0\n",
       "8100  1999/12/11     22.0     26.0       8.0\n",
       "\n",
       "[8101 rows x 4 columns]"
      ]
     },
     "execution_count": 1,
     "metadata": {},
     "output_type": "execute_result"
    }
   ],
   "source": [
    "import pandas\n",
    "weather = pandas.read_csv('BrisbaneDailyWeather.csv')\n",
    "weather"
   ]
  },
  {
   "cell_type": "code",
   "execution_count": 6,
   "id": "70bc8adb-38af-4f38-add2-7e161d3b4a05",
   "metadata": {},
   "outputs": [],
   "source": [
    "# Example from Week 8 Practical Exercises ...\n",
    "# min_temps = weather.groupby(pandas.cut(weather.MaxTemp, range(10, 45, 5))).MinTemp"
   ]
  },
  {
   "cell_type": "code",
   "execution_count": 7,
   "id": "a6eb65df-6732-4637-981a-eba31c80472d",
   "metadata": {},
   "outputs": [
    {
     "data": {
      "text/plain": [
       "count    8064.000000\n",
       "mean       26.640650\n",
       "std         3.801586\n",
       "min        12.000000\n",
       "25%        23.800000\n",
       "50%        26.900000\n",
       "75%        29.400000\n",
       "max        41.700000\n",
       "Name: MaxTemp, dtype: float64"
      ]
     },
     "execution_count": 7,
     "metadata": {},
     "output_type": "execute_result"
    }
   ],
   "source": [
    "weather.MaxTemp.describe()"
   ]
  },
  {
   "cell_type": "code",
   "execution_count": 9,
   "id": "675f256d-598b-44b7-9e27-7b030eb01365",
   "metadata": {},
   "outputs": [
    {
     "data": {
      "text/plain": [
       "range(10, 45, 5)"
      ]
     },
     "execution_count": 9,
     "metadata": {},
     "output_type": "execute_result"
    }
   ],
   "source": [
    "bins = range(10, 45, 5)\n",
    "bins"
   ]
  },
  {
   "cell_type": "code",
   "execution_count": 10,
   "id": "23f78f27-b045-414f-8e10-4d60ad5570a5",
   "metadata": {},
   "outputs": [
    {
     "data": {
      "text/plain": [
       "[10, 15, 20, 25, 30, 35, 40]"
      ]
     },
     "execution_count": 10,
     "metadata": {},
     "output_type": "execute_result"
    }
   ],
   "source": [
    "list(bins)"
   ]
  },
  {
   "cell_type": "code",
   "execution_count": 11,
   "id": "3ba595f1-cf67-4418-b13a-b4b4d5d30e41",
   "metadata": {},
   "outputs": [
    {
     "data": {
      "text/plain": [
       "0       (25, 30]\n",
       "1       (25, 30]\n",
       "2       (30, 35]\n",
       "3       (30, 35]\n",
       "4       (25, 30]\n",
       "          ...   \n",
       "8096    (25, 30]\n",
       "8097    (25, 30]\n",
       "8098    (20, 25]\n",
       "8099    (25, 30]\n",
       "8100    (25, 30]\n",
       "Name: MaxTemp, Length: 8101, dtype: category\n",
       "Categories (6, interval[int64, right]): [(10, 15] < (15, 20] < (20, 25] < (25, 30] < (30, 35] < (35, 40]]"
      ]
     },
     "execution_count": 11,
     "metadata": {},
     "output_type": "execute_result"
    }
   ],
   "source": [
    "pandas.cut(weather.MaxTemp, bins)"
   ]
  },
  {
   "cell_type": "code",
   "execution_count": 12,
   "id": "35440f9a-eb87-4851-af8c-9ef52d1b803a",
   "metadata": {},
   "outputs": [],
   "source": [
    "weather['MaxTempCategory'] = pandas.cut(weather.MaxTemp, bins)"
   ]
  },
  {
   "cell_type": "code",
   "execution_count": 13,
   "id": "6a67c657-ccd6-477b-b90f-ab7e3702ad2e",
   "metadata": {},
   "outputs": [
    {
     "data": {
      "text/html": [
       "<div>\n",
       "<style scoped>\n",
       "    .dataframe tbody tr th:only-of-type {\n",
       "        vertical-align: middle;\n",
       "    }\n",
       "\n",
       "    .dataframe tbody tr th {\n",
       "        vertical-align: top;\n",
       "    }\n",
       "\n",
       "    .dataframe thead th {\n",
       "        text-align: right;\n",
       "    }\n",
       "</style>\n",
       "<table border=\"1\" class=\"dataframe\">\n",
       "  <thead>\n",
       "    <tr style=\"text-align: right;\">\n",
       "      <th></th>\n",
       "      <th>Date</th>\n",
       "      <th>MinTemp</th>\n",
       "      <th>MaxTemp</th>\n",
       "      <th>Rainfall</th>\n",
       "      <th>MaxTempCategory</th>\n",
       "    </tr>\n",
       "  </thead>\n",
       "  <tbody>\n",
       "    <tr>\n",
       "      <th>0</th>\n",
       "      <td>2022/02/13</td>\n",
       "      <td>18.6</td>\n",
       "      <td>29.3</td>\n",
       "      <td>7.2</td>\n",
       "      <td>(25, 30]</td>\n",
       "    </tr>\n",
       "    <tr>\n",
       "      <th>1</th>\n",
       "      <td>2022/02/12</td>\n",
       "      <td>20.4</td>\n",
       "      <td>28.9</td>\n",
       "      <td>0.0</td>\n",
       "      <td>(25, 30]</td>\n",
       "    </tr>\n",
       "    <tr>\n",
       "      <th>2</th>\n",
       "      <td>2022/02/11</td>\n",
       "      <td>19.1</td>\n",
       "      <td>31.3</td>\n",
       "      <td>0.0</td>\n",
       "      <td>(30, 35]</td>\n",
       "    </tr>\n",
       "    <tr>\n",
       "      <th>3</th>\n",
       "      <td>2022/02/10</td>\n",
       "      <td>19.4</td>\n",
       "      <td>31.2</td>\n",
       "      <td>0.0</td>\n",
       "      <td>(30, 35]</td>\n",
       "    </tr>\n",
       "    <tr>\n",
       "      <th>4</th>\n",
       "      <td>2022/02/09</td>\n",
       "      <td>18.6</td>\n",
       "      <td>30.0</td>\n",
       "      <td>0.0</td>\n",
       "      <td>(25, 30]</td>\n",
       "    </tr>\n",
       "    <tr>\n",
       "      <th>...</th>\n",
       "      <td>...</td>\n",
       "      <td>...</td>\n",
       "      <td>...</td>\n",
       "      <td>...</td>\n",
       "      <td>...</td>\n",
       "    </tr>\n",
       "    <tr>\n",
       "      <th>8096</th>\n",
       "      <td>1999/12/15</td>\n",
       "      <td>17.0</td>\n",
       "      <td>27.0</td>\n",
       "      <td>0.0</td>\n",
       "      <td>(25, 30]</td>\n",
       "    </tr>\n",
       "    <tr>\n",
       "      <th>8097</th>\n",
       "      <td>1999/12/14</td>\n",
       "      <td>17.0</td>\n",
       "      <td>26.0</td>\n",
       "      <td>0.2</td>\n",
       "      <td>(25, 30]</td>\n",
       "    </tr>\n",
       "    <tr>\n",
       "      <th>8098</th>\n",
       "      <td>1999/12/13</td>\n",
       "      <td>19.0</td>\n",
       "      <td>24.0</td>\n",
       "      <td>0.8</td>\n",
       "      <td>(20, 25]</td>\n",
       "    </tr>\n",
       "    <tr>\n",
       "      <th>8099</th>\n",
       "      <td>1999/12/12</td>\n",
       "      <td>18.0</td>\n",
       "      <td>29.0</td>\n",
       "      <td>37.0</td>\n",
       "      <td>(25, 30]</td>\n",
       "    </tr>\n",
       "    <tr>\n",
       "      <th>8100</th>\n",
       "      <td>1999/12/11</td>\n",
       "      <td>22.0</td>\n",
       "      <td>26.0</td>\n",
       "      <td>8.0</td>\n",
       "      <td>(25, 30]</td>\n",
       "    </tr>\n",
       "  </tbody>\n",
       "</table>\n",
       "<p>8101 rows × 5 columns</p>\n",
       "</div>"
      ],
      "text/plain": [
       "            Date  MinTemp  MaxTemp  Rainfall MaxTempCategory\n",
       "0     2022/02/13     18.6     29.3       7.2        (25, 30]\n",
       "1     2022/02/12     20.4     28.9       0.0        (25, 30]\n",
       "2     2022/02/11     19.1     31.3       0.0        (30, 35]\n",
       "3     2022/02/10     19.4     31.2       0.0        (30, 35]\n",
       "4     2022/02/09     18.6     30.0       0.0        (25, 30]\n",
       "...          ...      ...      ...       ...             ...\n",
       "8096  1999/12/15     17.0     27.0       0.0        (25, 30]\n",
       "8097  1999/12/14     17.0     26.0       0.2        (25, 30]\n",
       "8098  1999/12/13     19.0     24.0       0.8        (20, 25]\n",
       "8099  1999/12/12     18.0     29.0      37.0        (25, 30]\n",
       "8100  1999/12/11     22.0     26.0       8.0        (25, 30]\n",
       "\n",
       "[8101 rows x 5 columns]"
      ]
     },
     "execution_count": 13,
     "metadata": {},
     "output_type": "execute_result"
    }
   ],
   "source": [
    "weather"
   ]
  },
  {
   "cell_type": "code",
   "execution_count": 14,
   "id": "b30b1690-8308-4eb9-b8be-bc6e45978101",
   "metadata": {},
   "outputs": [
    {
     "data": {
      "text/plain": [
       "MaxTempCategory\n",
       "(10, 15]    11.350000\n",
       "(15, 20]    11.323377\n",
       "(20, 25]    12.427682\n",
       "(25, 30]    17.697548\n",
       "(30, 35]    21.160028\n",
       "(35, 40]    22.120896\n",
       "Name: MinTemp, dtype: float64"
      ]
     },
     "execution_count": 14,
     "metadata": {},
     "output_type": "execute_result"
    }
   ],
   "source": [
    "weather.groupby(weather.MaxTempCategory).MinTemp.mean()"
   ]
  },
  {
   "cell_type": "code",
   "execution_count": 15,
   "id": "b209dbc9-0817-441a-b83a-3d1cb83dc628",
   "metadata": {},
   "outputs": [
    {
     "data": {
      "text/plain": [
       "<AxesSubplot:xlabel='MaxTempCategory'>"
      ]
     },
     "execution_count": 15,
     "metadata": {},
     "output_type": "execute_result"
    },
    {
     "data": {
      "image/png": "[encoded data removed]",
      "text/plain": [
       "<Figure size 640x480 with 1 Axes>"
      ]
     },
     "metadata": {},
     "output_type": "display_data"
    }
   ],
   "source": [
    "weather.groupby(weather.MaxTempCategory).MinTemp.mean().plot()"
   ]
  },
  {
   "cell_type": "code",
   "execution_count": 16,
   "id": "c610b8f0-0221-4f34-a33b-5451af459064",
   "metadata": {},
   "outputs": [
    {
     "data": {
      "text/plain": [
       "MaxTempCategory\n",
       "(10, 15]    1.590912\n",
       "(15, 20]    3.300040\n",
       "(20, 25]    3.437856\n",
       "(25, 30]    3.317068\n",
       "(30, 35]    2.548833\n",
       "(35, 40]    2.750512\n",
       "Name: MinTemp, dtype: float64"
      ]
     },
     "execution_count": 16,
     "metadata": {},
     "output_type": "execute_result"
    }
   ],
   "source": [
    "weather.groupby(weather.MaxTempCategory).MinTemp.std()"
   ]
  },
  {
   "cell_type": "code",
   "execution_count": 17,
   "id": "f66e5fed-f6fb-4ace-bf4d-b64384d0d4a4",
   "metadata": {},
   "outputs": [],
   "source": [
    "MinTempsByMaxTemp = weather.groupby(weather.MaxTempCategory).MinTemp"
   ]
  },
  {
   "cell_type": "code",
   "execution_count": 20,
   "id": "eba2dde0-e4cc-4ecc-bc46-034502a30416",
   "metadata": {},
   "outputs": [
    {
     "data": {
      "text/plain": [
       "MaxTempCategory\n",
       "(10, 15]    11.350000\n",
       "(15, 20]    11.323377\n",
       "(20, 25]    12.427682\n",
       "(25, 30]    17.697548\n",
       "(30, 35]    21.160028\n",
       "(35, 40]    22.120896\n",
       "Name: MinTemp, dtype: float64"
      ]
     },
     "execution_count": 20,
     "metadata": {},
     "output_type": "execute_result"
    }
   ],
   "source": [
    "MinTempsByMaxTemp.mean()"
   ]
  },
  {
   "cell_type": "code",
   "execution_count": 21,
   "id": "fb6a7fab-9552-4e4e-9aa9-25e35895f902",
   "metadata": {},
   "outputs": [
    {
     "data": {
      "text/plain": [
       "MaxTempCategory\n",
       "(10, 15]    1.590912\n",
       "(15, 20]    3.300040\n",
       "(20, 25]    3.437856\n",
       "(25, 30]    3.317068\n",
       "(30, 35]    2.548833\n",
       "(35, 40]    2.750512\n",
       "Name: MinTemp, dtype: float64"
      ]
     },
     "execution_count": 21,
     "metadata": {},
     "output_type": "execute_result"
    }
   ],
   "source": [
    "MinTempsByMaxTemp.std()"
   ]
  },
  {
   "cell_type": "code",
   "execution_count": 19,
   "id": "ca07897b-5390-4a1c-9a7a-68f5ace9a0b2",
   "metadata": {},
   "outputs": [
    {
     "data": {
      "text/html": [
       "<div>\n",
       "<style scoped>\n",
       "    .dataframe tbody tr th:only-of-type {\n",
       "        vertical-align: middle;\n",
       "    }\n",
       "\n",
       "    .dataframe tbody tr th {\n",
       "        vertical-align: top;\n",
       "    }\n",
       "\n",
       "    .dataframe thead th {\n",
       "        text-align: right;\n",
       "    }\n",
       "</style>\n",
       "<table border=\"1\" class=\"dataframe\">\n",
       "  <thead>\n",
       "    <tr style=\"text-align: right;\">\n",
       "      <th></th>\n",
       "      <th>mean</th>\n",
       "      <th>std</th>\n",
       "      <th>min</th>\n",
       "      <th>max</th>\n",
       "    </tr>\n",
       "    <tr>\n",
       "      <th>MaxTempCategory</th>\n",
       "      <th></th>\n",
       "      <th></th>\n",
       "      <th></th>\n",
       "      <th></th>\n",
       "    </tr>\n",
       "  </thead>\n",
       "  <tbody>\n",
       "    <tr>\n",
       "      <th>(10, 15]</th>\n",
       "      <td>11.350000</td>\n",
       "      <td>1.590912</td>\n",
       "      <td>8.3</td>\n",
       "      <td>12.4</td>\n",
       "    </tr>\n",
       "    <tr>\n",
       "      <th>(15, 20]</th>\n",
       "      <td>11.323377</td>\n",
       "      <td>3.300040</td>\n",
       "      <td>3.0</td>\n",
       "      <td>17.8</td>\n",
       "    </tr>\n",
       "    <tr>\n",
       "      <th>(20, 25]</th>\n",
       "      <td>12.427682</td>\n",
       "      <td>3.437856</td>\n",
       "      <td>2.6</td>\n",
       "      <td>22.9</td>\n",
       "    </tr>\n",
       "    <tr>\n",
       "      <th>(25, 30]</th>\n",
       "      <td>17.697548</td>\n",
       "      <td>3.317068</td>\n",
       "      <td>5.9</td>\n",
       "      <td>26.1</td>\n",
       "    </tr>\n",
       "    <tr>\n",
       "      <th>(30, 35]</th>\n",
       "      <td>21.160028</td>\n",
       "      <td>2.548833</td>\n",
       "      <td>11.0</td>\n",
       "      <td>28.0</td>\n",
       "    </tr>\n",
       "    <tr>\n",
       "      <th>(35, 40]</th>\n",
       "      <td>22.120896</td>\n",
       "      <td>2.750512</td>\n",
       "      <td>13.1</td>\n",
       "      <td>27.3</td>\n",
       "    </tr>\n",
       "  </tbody>\n",
       "</table>\n",
       "</div>"
      ],
      "text/plain": [
       "                      mean       std   min   max\n",
       "MaxTempCategory                                 \n",
       "(10, 15]         11.350000  1.590912   8.3  12.4\n",
       "(15, 20]         11.323377  3.300040   3.0  17.8\n",
       "(20, 25]         12.427682  3.437856   2.6  22.9\n",
       "(25, 30]         17.697548  3.317068   5.9  26.1\n",
       "(30, 35]         21.160028  2.548833  11.0  28.0\n",
       "(35, 40]         22.120896  2.750512  13.1  27.3"
      ]
     },
     "execution_count": 19,
     "metadata": {},
     "output_type": "execute_result"
    }
   ],
   "source": [
    "MinTempsByMaxTemp.agg(['mean','std','min', 'max'])"
   ]
  },
  {
   "cell_type": "code",
   "execution_count": 22,
   "id": "24e0a411-8d31-4116-ba4b-55254db56e54",
   "metadata": {},
   "outputs": [
    {
     "data": {
      "text/plain": [
       "<AxesSubplot:xlabel='MaxTempCategory'>"
      ]
     },
     "execution_count": 22,
     "metadata": {},
     "output_type": "execute_result"
    },
    {
     "data": {
      "image/png": "[encoded data removed]",
      "text/plain": [
       "<Figure size 640x480 with 1 Axes>"
      ]
     },
     "metadata": {},
     "output_type": "display_data"
    }
   ],
   "source": [
    "MinTempsByMaxTemp.mean().plot(yerr=MinTempsByMaxTemp.std())"
   ]
  },
  {
   "cell_type": "code",
   "execution_count": 24,
   "id": "4277691c-7380-47ec-9035-8968232ab41f",
   "metadata": {},
   "outputs": [
    {
     "data": {
      "text/plain": [
       "<AxesSubplot:xlabel='MaxTemp'>"
      ]
     },
     "execution_count": 24,
     "metadata": {},
     "output_type": "execute_result"
    },
    {
     "data": {
      "image/png": "[encoded data removed]",
      "text/plain": [
       "<Figure size 640x480 with 1 Axes>"
      ]
     },
     "metadata": {},
     "output_type": "display_data"
    }
   ],
   "source": [
    "weather.groupby(pandas.cut(weather.MaxTemp, range(10, 45, 5))).MinTemp.mean().plot()"
   ]
  },
  {
   "cell_type": "code",
   "execution_count": 25,
   "id": "f9e867c0-d7a7-428f-ab42-11a733dddc9f",
   "metadata": {},
   "outputs": [
    {
     "data": {
      "text/plain": [
       "<AxesSubplot:xlabel='MaxTemp'>"
      ]
     },
     "execution_count": 25,
     "metadata": {},
     "output_type": "execute_result"
    },
    {
     "data": {
      "image/png": "[encoded data removed]",
      "text/plain": [
       "<Figure size 640x480 with 1 Axes>"
      ]
     },
     "metadata": {},
     "output_type": "display_data"
    }
   ],
   "source": [
    "weather.groupby(pandas.cut(weather.MaxTemp, [10,15,20, 30, 30.5, 50])).MinTemp.mean().plot()"
   ]
  },
  {
   "cell_type": "code",
   "execution_count": null,
   "id": "e9b14fed-3737-47ce-a87d-d1ce03b8a629",
   "metadata": {},
   "outputs": [],
   "source": [
    "# Try creating some examples of your own ..."
   ]
  }
 ],
 "metadata": {
  "kernelspec": {
   "display_name": "Python 3 (ipykernel)",
   "language": "python",
   "name": "python3"
  },
  "language_info": {
   "codemirror_mode": {
    "name": "ipython",
    "version": 3
   },
   "file_extension": ".py",
   "mimetype": "text/x-python",
   "name": "python",
   "nbconvert_exporter": "python",
   "pygments_lexer": "ipython3",
   "version": "3.9.13"
  }
 },
 "nbformat": 4,
 "nbformat_minor": 5
}
