{
 "cells": [
  {
   "cell_type": "code",
   "execution_count": 1,
   "id": "e2362616-a368-4999-a2d2-bc0d5ace86fa",
   "metadata": {},
   "outputs": [],
   "source": [
    "import pandas"
   ]
  },
  {
   "cell_type": "code",
   "execution_count": 2,
   "id": "c38e0596-8640-4055-bd94-24c6f649a2c9",
   "metadata": {},
   "outputs": [
    {
     "data": {
      "text/html": [
       "<div>\n",
       "<style scoped>\n",
       "    .dataframe tbody tr th:only-of-type {\n",
       "        vertical-align: middle;\n",
       "    }\n",
       "\n",
       "    .dataframe tbody tr th {\n",
       "        vertical-align: top;\n",
       "    }\n",
       "\n",
       "    .dataframe thead th {\n",
       "        text-align: right;\n",
       "    }\n",
       "</style>\n",
       "<table border=\"1\" class=\"dataframe\">\n",
       "  <thead>\n",
       "    <tr style=\"text-align: right;\">\n",
       "      <th></th>\n",
       "      <th>MinTemp</th>\n",
       "      <th>MaxTemp</th>\n",
       "      <th>Rainfall</th>\n",
       "    </tr>\n",
       "    <tr>\n",
       "      <th>Month</th>\n",
       "      <th></th>\n",
       "      <th></th>\n",
       "      <th></th>\n",
       "    </tr>\n",
       "  </thead>\n",
       "  <tbody>\n",
       "    <tr>\n",
       "      <th>January</th>\n",
       "      <td>20.7</td>\n",
       "      <td>29.4</td>\n",
       "      <td>159.6</td>\n",
       "    </tr>\n",
       "    <tr>\n",
       "      <th>February</th>\n",
       "      <td>20.6</td>\n",
       "      <td>29.0</td>\n",
       "      <td>158.3</td>\n",
       "    </tr>\n",
       "    <tr>\n",
       "      <th>March</th>\n",
       "      <td>19.4</td>\n",
       "      <td>28.0</td>\n",
       "      <td>140.7</td>\n",
       "    </tr>\n",
       "    <tr>\n",
       "      <th>April</th>\n",
       "      <td>16.6</td>\n",
       "      <td>26.1</td>\n",
       "      <td>92.5</td>\n",
       "    </tr>\n",
       "    <tr>\n",
       "      <th>May</th>\n",
       "      <td>13.3</td>\n",
       "      <td>23.2</td>\n",
       "      <td>73.7</td>\n",
       "    </tr>\n",
       "    <tr>\n",
       "      <th>June</th>\n",
       "      <td>10.9</td>\n",
       "      <td>20.9</td>\n",
       "      <td>67.8</td>\n",
       "    </tr>\n",
       "    <tr>\n",
       "      <th>July</th>\n",
       "      <td>9.5</td>\n",
       "      <td>20.4</td>\n",
       "      <td>56.5</td>\n",
       "    </tr>\n",
       "    <tr>\n",
       "      <th>August</th>\n",
       "      <td>10.3</td>\n",
       "      <td>21.8</td>\n",
       "      <td>45.9</td>\n",
       "    </tr>\n",
       "    <tr>\n",
       "      <th>September</th>\n",
       "      <td>12.9</td>\n",
       "      <td>24.0</td>\n",
       "      <td>45.7</td>\n",
       "    </tr>\n",
       "    <tr>\n",
       "      <th>October</th>\n",
       "      <td>15.8</td>\n",
       "      <td>26.1</td>\n",
       "      <td>75.4</td>\n",
       "    </tr>\n",
       "    <tr>\n",
       "      <th>November</th>\n",
       "      <td>18.1</td>\n",
       "      <td>27.8</td>\n",
       "      <td>97.0</td>\n",
       "    </tr>\n",
       "    <tr>\n",
       "      <th>December</th>\n",
       "      <td>19.8</td>\n",
       "      <td>29.1</td>\n",
       "      <td>133.3</td>\n",
       "    </tr>\n",
       "  </tbody>\n",
       "</table>\n",
       "</div>"
      ],
      "text/plain": [
       "           MinTemp  MaxTemp  Rainfall\n",
       "Month                                \n",
       "January       20.7     29.4     159.6\n",
       "February      20.6     29.0     158.3\n",
       "March         19.4     28.0     140.7\n",
       "April         16.6     26.1      92.5\n",
       "May           13.3     23.2      73.7\n",
       "June          10.9     20.9      67.8\n",
       "July           9.5     20.4      56.5\n",
       "August        10.3     21.8      45.9\n",
       "September     12.9     24.0      45.7\n",
       "October       15.8     26.1      75.4\n",
       "November      18.1     27.8      97.0\n",
       "December      19.8     29.1     133.3"
      ]
     },
     "execution_count": 2,
     "metadata": {},
     "output_type": "execute_result"
    }
   ],
   "source": [
    "weather = pandas.read_csv('BrisbaneWeather.csv', names=['Month', 'MinTemp', 'MaxTemp', 'Rainfall'], header=0, index_col='Month')\n",
    "weather"
   ]
  },
  {
   "cell_type": "code",
   "execution_count": 3,
   "id": "cbb2cd50-2f8e-4e6c-acdf-6837f75591a0",
   "metadata": {},
   "outputs": [
    {
     "data": {
      "text/html": [
       "<div>\n",
       "<style scoped>\n",
       "    .dataframe tbody tr th:only-of-type {\n",
       "        vertical-align: middle;\n",
       "    }\n",
       "\n",
       "    .dataframe tbody tr th {\n",
       "        vertical-align: top;\n",
       "    }\n",
       "\n",
       "    .dataframe thead th {\n",
       "        text-align: right;\n",
       "    }\n",
       "</style>\n",
       "<table border=\"1\" class=\"dataframe\">\n",
       "  <thead>\n",
       "    <tr style=\"text-align: right;\">\n",
       "      <th></th>\n",
       "      <th>MinTemp</th>\n",
       "      <th>MaxTemp</th>\n",
       "      <th>Rainfall</th>\n",
       "    </tr>\n",
       "  </thead>\n",
       "  <tbody>\n",
       "    <tr>\n",
       "      <th>count</th>\n",
       "      <td>12.000000</td>\n",
       "      <td>12.000000</td>\n",
       "      <td>12.000000</td>\n",
       "    </tr>\n",
       "    <tr>\n",
       "      <th>mean</th>\n",
       "      <td>15.658333</td>\n",
       "      <td>25.483333</td>\n",
       "      <td>95.533333</td>\n",
       "    </tr>\n",
       "    <tr>\n",
       "      <th>std</th>\n",
       "      <td>4.159427</td>\n",
       "      <td>3.317675</td>\n",
       "      <td>42.258411</td>\n",
       "    </tr>\n",
       "    <tr>\n",
       "      <th>min</th>\n",
       "      <td>9.500000</td>\n",
       "      <td>20.400000</td>\n",
       "      <td>45.700000</td>\n",
       "    </tr>\n",
       "    <tr>\n",
       "      <th>25%</th>\n",
       "      <td>12.400000</td>\n",
       "      <td>22.850000</td>\n",
       "      <td>64.975000</td>\n",
       "    </tr>\n",
       "    <tr>\n",
       "      <th>50%</th>\n",
       "      <td>16.200000</td>\n",
       "      <td>26.100000</td>\n",
       "      <td>83.950000</td>\n",
       "    </tr>\n",
       "    <tr>\n",
       "      <th>75%</th>\n",
       "      <td>19.500000</td>\n",
       "      <td>28.250000</td>\n",
       "      <td>135.150000</td>\n",
       "    </tr>\n",
       "    <tr>\n",
       "      <th>max</th>\n",
       "      <td>20.700000</td>\n",
       "      <td>29.400000</td>\n",
       "      <td>159.600000</td>\n",
       "    </tr>\n",
       "  </tbody>\n",
       "</table>\n",
       "</div>"
      ],
      "text/plain": [
       "         MinTemp    MaxTemp    Rainfall\n",
       "count  12.000000  12.000000   12.000000\n",
       "mean   15.658333  25.483333   95.533333\n",
       "std     4.159427   3.317675   42.258411\n",
       "min     9.500000  20.400000   45.700000\n",
       "25%    12.400000  22.850000   64.975000\n",
       "50%    16.200000  26.100000   83.950000\n",
       "75%    19.500000  28.250000  135.150000\n",
       "max    20.700000  29.400000  159.600000"
      ]
     },
     "execution_count": 3,
     "metadata": {},
     "output_type": "execute_result"
    }
   ],
   "source": [
    "# Show summary statistics for all numeric columns\n",
    "weather.describe()"
   ]
  },
  {
   "cell_type": "code",
   "execution_count": 4,
   "id": "be820416-3ebf-4251-a61b-f288ce7252f5",
   "metadata": {},
   "outputs": [
    {
     "data": {
      "text/plain": [
       "15.658333333333333"
      ]
     },
     "execution_count": 4,
     "metadata": {},
     "output_type": "execute_result"
    }
   ],
   "source": [
    "# Or just find the mean of the MinTemp column\n",
    "weather.MinTemp.mean()"
   ]
  },
  {
   "cell_type": "code",
   "execution_count": 5,
   "id": "8c78a970-ee30-4509-8486-1c513110cc70",
   "metadata": {},
   "outputs": [
    {
     "data": {
      "text/plain": [
       "4.159427043876756"
      ]
     },
     "execution_count": 5,
     "metadata": {},
     "output_type": "execute_result"
    }
   ],
   "source": [
    "# Or just find the standard deviation of the MinTemp column\n",
    "weather.MinTemp.std()"
   ]
  },
  {
   "cell_type": "code",
   "execution_count": 6,
   "id": "3c35b537-167c-4f39-ab1d-a4605d0886fd",
   "metadata": {},
   "outputs": [
    {
     "data": {
      "text/plain": [
       "20.7"
      ]
     },
     "execution_count": 6,
     "metadata": {},
     "output_type": "execute_result"
    }
   ],
   "source": [
    "# Or just find the max of the MinTemp column\n",
    "weather.MinTemp.max()"
   ]
  },
  {
   "cell_type": "code",
   "execution_count": 7,
   "id": "35e56275-bf4d-47b2-a65c-0a3d3b3b31f0",
   "metadata": {},
   "outputs": [
    {
     "data": {
      "text/plain": [
       "12.4"
      ]
     },
     "execution_count": 7,
     "metadata": {},
     "output_type": "execute_result"
    }
   ],
   "source": [
    "# Or just find the 25% quantile of the MinTemp column\n",
    "weather.MinTemp.quantile(0.25)"
   ]
  },
  {
   "cell_type": "code",
   "execution_count": 8,
   "id": "ecb143ed-396b-48a2-a5ed-b0dc1da47c79",
   "metadata": {},
   "outputs": [
    {
     "data": {
      "text/plain": [
       "10.360000000000001"
      ]
     },
     "execution_count": 8,
     "metadata": {},
     "output_type": "execute_result"
    }
   ],
   "source": [
    "# Or just find the 10% quantile of the MinTemp column\n",
    "weather.MinTemp.quantile(0.1)"
   ]
  },
  {
   "cell_type": "code",
   "execution_count": 9,
   "id": "8347155f-feac-4a6e-a7f9-934346e44ed1",
   "metadata": {},
   "outputs": [
    {
     "data": {
      "text/plain": [
       "187.9"
      ]
     },
     "execution_count": 9,
     "metadata": {},
     "output_type": "execute_result"
    }
   ],
   "source": [
    "# Or just find the sum of the MinTemp column\n",
    "weather.MinTemp.sum()"
   ]
  },
  {
   "cell_type": "code",
   "execution_count": 10,
   "id": "f71ce792-d901-481d-ba53-4bb5feef9121",
   "metadata": {},
   "outputs": [
    {
     "data": {
      "text/plain": [
       "15.658333333333333"
      ]
     },
     "execution_count": 10,
     "metadata": {},
     "output_type": "execute_result"
    }
   ],
   "source": [
    "# Or just find the mean of the MinTemp column\n",
    "weather.MinTemp.mean()"
   ]
  },
  {
   "cell_type": "code",
   "execution_count": 11,
   "id": "66fca947-c6a5-4585-8730-0cf98b25e0a5",
   "metadata": {},
   "outputs": [
    {
     "data": {
      "text/plain": [
       "MinTemp     15.658333\n",
       "MaxTemp     25.483333\n",
       "Rainfall    95.533333\n",
       "dtype: float64"
      ]
     },
     "execution_count": 11,
     "metadata": {},
     "output_type": "execute_result"
    }
   ],
   "source": [
    "# Or the mean of all numeric columns\n",
    "weather.mean()"
   ]
  },
  {
   "cell_type": "code",
   "execution_count": 12,
   "id": "3d4806ed-edb3-4433-a66b-256665eeadc3",
   "metadata": {},
   "outputs": [
    {
     "data": {
      "text/plain": [
       "MinTemp    15.658333\n",
       "MaxTemp    25.483333\n",
       "dtype: float64"
      ]
     },
     "execution_count": 12,
     "metadata": {},
     "output_type": "execute_result"
    }
   ],
   "source": [
    "# Or the means for the columns listed\n",
    "weather[['MinTemp','MaxTemp']].mean()"
   ]
  },
  {
   "cell_type": "code",
   "execution_count": 13,
   "id": "77c70c85-4562-42fd-a5a2-cbb21e7b1888",
   "metadata": {},
   "outputs": [
    {
     "ename": "NameError",
     "evalue": "name 'mean' is not defined",
     "output_type": "error",
     "traceback": [
      "\u001b[0;31m---------------------------------------------------------------------------\u001b[0m",
      "\u001b[0;31mNameError\u001b[0m                                 Traceback (most recent call last)",
      "Input \u001b[0;32mIn [13]\u001b[0m, in \u001b[0;36m<cell line: 3>\u001b[0;34m()\u001b[0m\n\u001b[1;32m      1\u001b[0m \u001b[38;5;66;03m# Or a list of different summary operations of each of the columns listed\u001b[39;00m\n\u001b[1;32m      2\u001b[0m \u001b[38;5;66;03m# Note that min and max are built in functions, but not mean  \u001b[39;00m\n\u001b[0;32m----> 3\u001b[0m weather[[\u001b[38;5;124m'\u001b[39m\u001b[38;5;124mMinTemp\u001b[39m\u001b[38;5;124m'\u001b[39m,\u001b[38;5;124m'\u001b[39m\u001b[38;5;124mMaxTemp\u001b[39m\u001b[38;5;124m'\u001b[39m]]\u001b[38;5;241m.\u001b[39maggregate([\u001b[38;5;28mmin\u001b[39m, \u001b[38;5;28mmax\u001b[39m, \u001b[43mmean\u001b[49m])\n",
      "\u001b[0;31mNameError\u001b[0m: name 'mean' is not defined"
     ]
    }
   ],
   "source": [
    "# Or a list of different summary operations of each of the columns listed\n",
    "# Note that min and max are built in functions, but not mean  \n",
    "weather[['MinTemp','MaxTemp']].aggregate([min, max, mean])"
   ]
  },
  {
   "cell_type": "code",
   "execution_count": 14,
   "id": "792f2685-9cb8-4eab-916f-f519ab5292a4",
   "metadata": {},
   "outputs": [
    {
     "data": {
      "text/html": [
       "<div>\n",
       "<style scoped>\n",
       "    .dataframe tbody tr th:only-of-type {\n",
       "        vertical-align: middle;\n",
       "    }\n",
       "\n",
       "    .dataframe tbody tr th {\n",
       "        vertical-align: top;\n",
       "    }\n",
       "\n",
       "    .dataframe thead th {\n",
       "        text-align: right;\n",
       "    }\n",
       "</style>\n",
       "<table border=\"1\" class=\"dataframe\">\n",
       "  <thead>\n",
       "    <tr style=\"text-align: right;\">\n",
       "      <th></th>\n",
       "      <th>MinTemp</th>\n",
       "      <th>MaxTemp</th>\n",
       "    </tr>\n",
       "  </thead>\n",
       "  <tbody>\n",
       "    <tr>\n",
       "      <th>min</th>\n",
       "      <td>9.500000</td>\n",
       "      <td>20.400000</td>\n",
       "    </tr>\n",
       "    <tr>\n",
       "      <th>max</th>\n",
       "      <td>20.700000</td>\n",
       "      <td>29.400000</td>\n",
       "    </tr>\n",
       "    <tr>\n",
       "      <th>mean</th>\n",
       "      <td>15.658333</td>\n",
       "      <td>25.483333</td>\n",
       "    </tr>\n",
       "  </tbody>\n",
       "</table>\n",
       "</div>"
      ],
      "text/plain": [
       "        MinTemp    MaxTemp\n",
       "min    9.500000  20.400000\n",
       "max   20.700000  29.400000\n",
       "mean  15.658333  25.483333"
      ]
     },
     "execution_count": 14,
     "metadata": {},
     "output_type": "execute_result"
    }
   ],
   "source": [
    "# The mean function we want to apply in this case is from pandas.Series \n",
    "weather[['MinTemp','MaxTemp']].aggregate([min, max, pandas.Series.mean])"
   ]
  },
  {
   "cell_type": "code",
   "execution_count": 15,
   "id": "bb5b3159-8270-4d8d-9d05-3d20df3f171e",
   "metadata": {},
   "outputs": [
    {
     "data": {
      "text/html": [
       "<div>\n",
       "<style scoped>\n",
       "    .dataframe tbody tr th:only-of-type {\n",
       "        vertical-align: middle;\n",
       "    }\n",
       "\n",
       "    .dataframe tbody tr th {\n",
       "        vertical-align: top;\n",
       "    }\n",
       "\n",
       "    .dataframe thead th {\n",
       "        text-align: right;\n",
       "    }\n",
       "</style>\n",
       "<table border=\"1\" class=\"dataframe\">\n",
       "  <thead>\n",
       "    <tr style=\"text-align: right;\">\n",
       "      <th></th>\n",
       "      <th>MinTemp</th>\n",
       "      <th>MaxTemp</th>\n",
       "    </tr>\n",
       "  </thead>\n",
       "  <tbody>\n",
       "    <tr>\n",
       "      <th>min</th>\n",
       "      <td>9.500000</td>\n",
       "      <td>20.400000</td>\n",
       "    </tr>\n",
       "    <tr>\n",
       "      <th>max</th>\n",
       "      <td>20.700000</td>\n",
       "      <td>29.400000</td>\n",
       "    </tr>\n",
       "    <tr>\n",
       "      <th>mean</th>\n",
       "      <td>15.658333</td>\n",
       "      <td>25.483333</td>\n",
       "    </tr>\n",
       "  </tbody>\n",
       "</table>\n",
       "</div>"
      ],
      "text/plain": [
       "        MinTemp    MaxTemp\n",
       "min    9.500000  20.400000\n",
       "max   20.700000  29.400000\n",
       "mean  15.658333  25.483333"
      ]
     },
     "execution_count": 15,
     "metadata": {},
     "output_type": "execute_result"
    }
   ],
   "source": [
    "# Or we could just specify the name of the aggregate function we want to apply as a string ('mean' in this example)\n",
    "weather[['MinTemp','MaxTemp']].aggregate([min, max, 'mean'])"
   ]
  },
  {
   "cell_type": "code",
   "execution_count": 16,
   "id": "18f2fadd-1e8e-453e-b826-c3ab0a094b95",
   "metadata": {},
   "outputs": [
    {
     "data": {
      "text/html": [
       "<div>\n",
       "<style scoped>\n",
       "    .dataframe tbody tr th:only-of-type {\n",
       "        vertical-align: middle;\n",
       "    }\n",
       "\n",
       "    .dataframe tbody tr th {\n",
       "        vertical-align: top;\n",
       "    }\n",
       "\n",
       "    .dataframe thead th {\n",
       "        text-align: right;\n",
       "    }\n",
       "</style>\n",
       "<table border=\"1\" class=\"dataframe\">\n",
       "  <thead>\n",
       "    <tr style=\"text-align: right;\">\n",
       "      <th></th>\n",
       "      <th>MinTemp</th>\n",
       "      <th>MaxTemp</th>\n",
       "    </tr>\n",
       "  </thead>\n",
       "  <tbody>\n",
       "    <tr>\n",
       "      <th>min</th>\n",
       "      <td>9.500000</td>\n",
       "      <td>20.400000</td>\n",
       "    </tr>\n",
       "    <tr>\n",
       "      <th>max</th>\n",
       "      <td>20.700000</td>\n",
       "      <td>29.400000</td>\n",
       "    </tr>\n",
       "    <tr>\n",
       "      <th>mean</th>\n",
       "      <td>15.658333</td>\n",
       "      <td>25.483333</td>\n",
       "    </tr>\n",
       "  </tbody>\n",
       "</table>\n",
       "</div>"
      ],
      "text/plain": [
       "        MinTemp    MaxTemp\n",
       "min    9.500000  20.400000\n",
       "max   20.700000  29.400000\n",
       "mean  15.658333  25.483333"
      ]
     },
     "execution_count": 16,
     "metadata": {},
     "output_type": "execute_result"
    }
   ],
   "source": [
    "# Specifying the string names for all three aggregate functions\n",
    "weather[['MinTemp','MaxTemp']].aggregate(['min', 'max', 'mean'])"
   ]
  },
  {
   "cell_type": "code",
   "execution_count": 17,
   "id": "1a0dfca4-b377-4168-b569-85a7fc8a1e78",
   "metadata": {},
   "outputs": [
    {
     "data": {
      "text/plain": [
       "MinTemp        9.5\n",
       "MaxTemp       29.4\n",
       "Rainfall    1146.4\n",
       "dtype: float64"
      ]
     },
     "execution_count": 17,
     "metadata": {},
     "output_type": "execute_result"
    }
   ],
   "source": [
    "# We can use a dictionary to specify which aggregate functions to apply to each of our columns\n",
    "weather.agg({'MinTemp': min, 'MaxTemp': max, 'Rainfall': sum})"
   ]
  },
  {
   "cell_type": "code",
   "execution_count": 18,
   "id": "ee735c2f-0aab-4ddf-be6f-480e2a284bb8",
   "metadata": {},
   "outputs": [
    {
     "data": {
      "text/html": [
       "<div>\n",
       "<style scoped>\n",
       "    .dataframe tbody tr th:only-of-type {\n",
       "        vertical-align: middle;\n",
       "    }\n",
       "\n",
       "    .dataframe tbody tr th {\n",
       "        vertical-align: top;\n",
       "    }\n",
       "\n",
       "    .dataframe thead th {\n",
       "        text-align: right;\n",
       "    }\n",
       "</style>\n",
       "<table border=\"1\" class=\"dataframe\">\n",
       "  <thead>\n",
       "    <tr style=\"text-align: right;\">\n",
       "      <th></th>\n",
       "      <th>MinTemp</th>\n",
       "      <th>MaxTemp</th>\n",
       "      <th>Rainfall</th>\n",
       "    </tr>\n",
       "  </thead>\n",
       "  <tbody>\n",
       "    <tr>\n",
       "      <th>min</th>\n",
       "      <td>9.5</td>\n",
       "      <td>NaN</td>\n",
       "      <td>NaN</td>\n",
       "    </tr>\n",
       "    <tr>\n",
       "      <th>max</th>\n",
       "      <td>20.7</td>\n",
       "      <td>29.4</td>\n",
       "      <td>NaN</td>\n",
       "    </tr>\n",
       "    <tr>\n",
       "      <th>sum</th>\n",
       "      <td>NaN</td>\n",
       "      <td>NaN</td>\n",
       "      <td>1146.4</td>\n",
       "    </tr>\n",
       "  </tbody>\n",
       "</table>\n",
       "</div>"
      ],
      "text/plain": [
       "     MinTemp  MaxTemp  Rainfall\n",
       "min      9.5      NaN       NaN\n",
       "max     20.7     29.4       NaN\n",
       "sum      NaN      NaN    1146.4"
      ]
     },
     "execution_count": 18,
     "metadata": {},
     "output_type": "execute_result"
    }
   ],
   "source": [
    "# The dictionary can also specify a list of aggregate functions to  apply to each column\n",
    "weather.agg({'MinTemp': [min, max], 'MaxTemp': max, 'Rainfall': sum})"
   ]
  },
  {
   "cell_type": "code",
   "execution_count": 19,
   "id": "1088ba2c-3598-439d-8249-d23937f267f5",
   "metadata": {},
   "outputs": [],
   "source": [
    "# See BrisbaneWeather.xlsx for how to column mean and sum for each columns"
   ]
  },
  {
   "cell_type": "code",
   "execution_count": 20,
   "id": "50a21586-ea67-4c50-8f29-158cf08d723b",
   "metadata": {},
   "outputs": [],
   "source": [
    "# Try creating some examples of your own ..."
   ]
  }
 ],
 "metadata": {
  "kernelspec": {
   "display_name": "Python 3 (ipykernel)",
   "language": "python",
   "name": "python3"
  },
  "language_info": {
   "codemirror_mode": {
    "name": "ipython",
    "version": 3
   },
   "file_extension": ".py",
   "mimetype": "text/x-python",
   "name": "python",
   "nbconvert_exporter": "python",
   "pygments_lexer": "ipython3",
   "version": "3.9.13"
  }
 },
 "nbformat": 4,
 "nbformat_minor": 5
}
