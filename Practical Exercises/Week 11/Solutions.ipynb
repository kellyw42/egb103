{
 "cells": [
  {
   "cell_type": "code",
   "execution_count": null,
   "id": "1623434b-fdc0-410d-9ab1-2bf1815033e7",
   "metadata": {},
   "outputs": [],
   "source": [
    "import torch"
   ]
  },
  {
   "cell_type": "code",
   "execution_count": null,
   "id": "092b82eb-9dc3-4249-b32b-3b6ca4e2ce14",
   "metadata": {},
   "outputs": [],
   "source": [
    "model = torch.hub.load('ultralytics/yolov5','yolov5s')"
   ]
  },
  {
   "cell_type": "code",
   "execution_count": null,
   "id": "7bb3f4c8-9c34-4249-9031-5b6a8055fa34",
   "metadata": {},
   "outputs": [],
   "source": [
    "model('https://tinyurl.com/497xmzf6').save()"
   ]
  }
 ],
 "metadata": {
  "kernelspec": {
   "display_name": "Python 3 (ipykernel)",
   "language": "python",
   "name": "python3"
  },
  "language_info": {
   "codemirror_mode": {
    "name": "ipython",
    "version": 3
   },
   "file_extension": ".py",
   "mimetype": "text/x-python",
   "name": "python",
   "nbconvert_exporter": "python",
   "pygments_lexer": "ipython3",
   "version": "3.9.13"
  }
 },
 "nbformat": 4,
 "nbformat_minor": 5
}
