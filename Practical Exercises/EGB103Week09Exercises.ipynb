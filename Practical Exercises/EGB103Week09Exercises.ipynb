{
 "cells": [
  {
   "cell_type": "markdown",
   "id": "29b433ae-c0ff-4181-a35a-c41e546611b7",
   "metadata": {},
   "source": [
    "<h1> <a href=\"https://gtfs.org/\">GTFS: General Public Transit Feed Specification</a></h1>\n",
    "\n",
    "Around the world, public transit agencies make data available about their services, routes, and stops via a standardized data format called <a href=\"https://gtfs.org/\">GTFS</a> (originally developed by Google). \n",
    "\n",
    "It has two parts: the static component contains information that changes rarely including locations of stops, routes and schedules. A new version of this static information is typically released every few months. Some agencies also provide a real-time component based on live GPS data from their buses, trains etc to provide up to the minute data about vehicle positions and arrival predictions - typically updated every 30 seconds.\n",
    "\n",
    "This practical exercise will be based on only the static GTFS data.\n",
    "\n",
    "Start by downloading the current GTFS schedule data for South East Queensland from:\n",
    "https://gtfsrt.api.translink.com.au/ (https://gtfsrt.api.translink.com.au/GTFS/SEQ_GTFS.zip)\n",
    "\n",
    "You will need to upload the following files to your Jupyter account in the cloud:\n",
    "- <code>calendar.txt</code>\n",
    "- <code>routes.txt</code>\n",
    "- <code>stops.txt</code>\n",
    "- <code>stop_times.txt</code>\n",
    "- <code>trips.txt</code>"
   ]
  },
  {
   "cell_type": "markdown",
   "id": "91fc689c-1f82-410d-af77-22d1d44079dc",
   "metadata": {},
   "source": [
    "# Finding our way to the CBD via public transport\n",
    "Our goal is to travel from where we live to the Bribane CBD via public transport.\n",
    "We don't know where the closest stop is, we don't know which route the trains or buses follow and we don't know when those buses or trains will arrive. "
   ]
  },
  {
   "cell_type": "markdown",
   "id": "a672bc46-d7a2-435a-8e33-d68764e5097b",
   "metadata": {},
   "source": [
    "Once you have <code>stops.txt</code> uploaded to your Jupyter account, open it from the Jupyter File Browser to view its contents."
   ]
  },
  {
   "cell_type": "code",
   "execution_count": null,
   "id": "ae514c4b-7384-454a-a743-5d5e66bdb72b",
   "metadata": {},
   "outputs": [],
   "source": [
    "# Start by reading stops.txt into a Pandas data frame using the read_csv method and set the stop_id column as the index\n",
    "\n",
    "import pandas\n",
    "stops = # insert your code here\n",
    "\n",
    "# display its contents\n",
    "stops"
   ]
  },
  {
   "cell_type": "code",
   "execution_count": null,
   "id": "988b43f2-512a-4a2d-9185-e15b42019fbe",
   "metadata": {},
   "outputs": [],
   "source": [
    "# There are thousands of stops across south east Queensland. \n",
    "# Our first goal is to find some stops near where we live.\n",
    "\n",
    "# We start by determining the longitude and latitude of the property where we live.\n",
    "# Open google maps https://www.google.com/maps and locate the property where you currently live.\n",
    "# Put a pin on that location and make note of the longitude and latitude. \n",
    "# The longitude should be about 153 and the latitude about -27\n",
    "\n",
    "my_longitude = # insert your longitude\n",
    "my_latitude = # insert your latitude"
   ]
  },
  {
   "cell_type": "code",
   "execution_count": null,
   "id": "2dd7c90e-72ef-44c3-8463-20c7f407fb03",
   "metadata": {},
   "outputs": [],
   "source": [
    "# Next we need to be able to measure the distance from our property to each of the stops. \n",
    "# To measure the distance between two pairs of longitude and latitude, we need to use a formula, \n",
    "# such as the haversine formula (https://en.wikipedia.org/wiki/Haversine_formula) to determine the\n",
    "# distance between two points on a sphere (since the earth is not flat).\n",
    "# The earth is not a perfect sphere, it's radius varies at different points, but we approximate its radius as 6371 kilometres.\n",
    "\n",
    "import math\n",
    "\n",
    "def haversine_distance(lon1, lat1, lon2, lat2):\n",
    "      # convert decimal degrees to radians \n",
    "      lon1 = math.radians(lon1)\n",
    "      lat1 = math.radians(lat1)\n",
    "      lon2 = math.radians(lon2)\n",
    "      lat2 = math.radians(lat2)\n",
    "        \n",
    "      # haversine formula \n",
    "      delta_lon = lon2 - lon1 \n",
    "      delta_lat = lat2 - lat1 \n",
    "      a =  math.sin(delta_lat/2)**2 +  math.cos(lat1) * math.cos(lat2) *  math.sin(delta_lon/2)**2\n",
    "      c = 2 * math.asin(math.sqrt(a)) \n",
    "      r = 6371 # Radius of earth in kilometers.\n",
    "      return c * r\n",
    "    \n",
    "# Test case Brisbane CBD to Nudgee\n",
    "haversine_distance(-27.467834, 153.019079, -27.371936, 153.099357) # should be about 13 kilometres"
   ]
  },
  {
   "cell_type": "code",
   "execution_count": null,
   "id": "25d521fb-7d52-4209-b9ff-a96c63656876",
   "metadata": {},
   "outputs": [],
   "source": [
    "# We can then use this function to compute the distance from our specified longitude and latitude, to each stop\n",
    "\n",
    "def near(stop_row, lon, lat) :\n",
    "    return haversine_distance(lon, lat, stop_row.stop_lat, stop_row.stop_lon)\n",
    "\n",
    "stops['dist_from_home'] = stops.apply(near, lon=my_longitude, lat=my_latitude, axis=1)\n",
    "stops # see the new column ..."
   ]
  },
  {
   "cell_type": "code",
   "execution_count": null,
   "id": "4764c64b-75f1-431a-9f29-9d91ffbefc97",
   "metadata": {},
   "outputs": [],
   "source": [
    "# We can then sort the stops by this new column using the sort_values method\n",
    "\n",
    "nearby_stops = # insert your code here\n",
    "nearby_stops"
   ]
  },
  {
   "cell_type": "code",
   "execution_count": null,
   "id": "2d471848-4d39-4a7e-bc1f-6b95e1f8180b",
   "metadata": {},
   "outputs": [],
   "source": [
    "# Let's choose the first of these stops and see which buses or trains are coming soon and where they are going to ...\n",
    "our_stop_id = nearby_stops.index[0]\n",
    "our_stop_id"
   ]
  },
  {
   "cell_type": "code",
   "execution_count": null,
   "id": "1f2c9b83-0bea-4b1f-a997-46b844e18997",
   "metadata": {},
   "outputs": [],
   "source": [
    "# Read stop_times.txt into a data frame using the read_csv method.\n",
    "# Set the data type of the stop_id column to type string by adding parameter: dtype={'stop_id':'str'}\n",
    "\n",
    "stop_times = # insert your code here"
   ]
  },
  {
   "cell_type": "code",
   "execution_count": null,
   "id": "605a9cd7-4c43-4b64-b224-8d0150b083ad",
   "metadata": {},
   "outputs": [],
   "source": [
    "# View just those stop_time rows that match our stop_id\n",
    "\n",
    "# insert your code here"
   ]
  },
  {
   "cell_type": "code",
   "execution_count": null,
   "id": "1776c51d-0609-42bc-9474-f6c105ffb1f4",
   "metadata": {},
   "outputs": [],
   "source": [
    "# Not all of those trips will necessarily be coming today. \n",
    "# Transit agencies run different schedules on different days of the week, especially for weekends and public holidays.\n",
    "# To learn about these service schedules we need to load the calendar.txt file into a data frame.\n",
    "# Set the service_id column as the index and parse the two date columns as dates\n",
    "\n",
    "services = # insert your code here\n",
    "services"
   ]
  },
  {
   "cell_type": "code",
   "execution_count": null,
   "id": "c063a02d-7237-4c1f-a26c-80bad86e5079",
   "metadata": {},
   "outputs": [],
   "source": [
    "# Start by viewing only those services that run on this day of the week.\n",
    "# So, for example, if today is a Thurdsday, then we require services.thursday == 1\n",
    "\n",
    "# insert your code here"
   ]
  },
  {
   "cell_type": "code",
   "execution_count": null,
   "id": "52854327-13e2-4cfd-8edd-3abd7c4fd36a",
   "metadata": {},
   "outputs": [],
   "source": [
    "# We also need to ensure that today falls within the start_date and end_date period of that service.\n",
    "# For that we need to know today's date ...\n",
    "import pytz\n",
    "timezone = pytz.timezone('Australia/Brisbane')\n",
    "today = pandas.Timestamp.now(tz=timezone).tz_localize(None)"
   ]
  },
  {
   "cell_type": "code",
   "execution_count": null,
   "id": "10d80e14-eb40-46c3-9d36-911ecde0eda1",
   "metadata": {},
   "outputs": [],
   "source": [
    "# Find the list of service_ids for services that run today and are within the service start and end dates\n",
    "\n",
    "todays_services = # insert your code here\n",
    "todays_services"
   ]
  },
  {
   "cell_type": "code",
   "execution_count": null,
   "id": "2a61c3f7-22dd-42af-8557-864737aa9223",
   "metadata": {},
   "outputs": [],
   "source": [
    "# Next we need to learn which trips occur on those services, so we need to load trips.txt into a Pandas data frame.\n",
    "# Set the trip_id column as the index.\n",
    "\n",
    "trips = # insert your code here\n",
    "trips"
   ]
  },
  {
   "cell_type": "code",
   "execution_count": null,
   "id": "278eda2d-ddec-41ba-af34-e60a27f203a6",
   "metadata": {},
   "outputs": [],
   "source": [
    "# To test if a trip is part of a service, we can use the isin method\n",
    "# trips.service_id.isin(todays_services)\n",
    "\n",
    "# Find the list of trip_ids for those trips\n",
    "todays_trips = # insert your code here\n",
    "\n",
    "todays_trips"
   ]
  },
  {
   "cell_type": "code",
   "execution_count": null,
   "id": "a4fbb99a-3edd-4b6b-b14b-e7524899f6f4",
   "metadata": {},
   "outputs": [],
   "source": [
    "# We can then use this list of trip ids to find stop times matching these trip ids.\n",
    "# stop_times.trip_id.isin(todays_trips)\n",
    "\n",
    "# Find all stop times that stop at our stop today.\n",
    "# insert your code here"
   ]
  },
  {
   "cell_type": "code",
   "execution_count": null,
   "id": "579a70e7-c4be-4ebb-8ed9-6c805e3b48b5",
   "metadata": {},
   "outputs": [],
   "source": [
    "# We aren't interested in trying to catch any trains or buses that have already departed, \n",
    "# so view only those stop times that have an arrival_time after the time now.\n",
    "\n",
    "time_now = today.strftime('%H:%M:%S')\n",
    "\n",
    "arriving_soon = # insert your code here\n",
    "arriving_soon"
   ]
  },
  {
   "cell_type": "code",
   "execution_count": null,
   "id": "e740ccd6-9a2a-455c-9793-3ed0147d9f7c",
   "metadata": {},
   "outputs": [],
   "source": [
    "# That's great, but we don't know where any of these trains or buses are going to ...\n",
    "# So, we start by joining this stop_time data with the trips data frame\n",
    "stops_with_trips = arriving_soon.join(trips, on='trip_id')\n",
    "stops_with_trips"
   ]
  },
  {
   "cell_type": "code",
   "execution_count": null,
   "id": "f03f0560-ced6-4f8b-8ae6-b8f4041558a4",
   "metadata": {},
   "outputs": [],
   "source": [
    "# We now have a trip_headsign column, which may help us determine where the bus or train is going\n",
    "# We also now have a route_id, but it's not particularly meaningful.\n",
    "# To get information about the route we need to join our stop_time and trip data with the route.txt data."
   ]
  },
  {
   "cell_type": "code",
   "execution_count": null,
   "id": "4af360ff-0e84-4142-9dcf-ea4dfdbc4fcd",
   "metadata": {},
   "outputs": [],
   "source": [
    "# Read routes.txt into a Pandas data frame.\n",
    "# Set the route_id column as the index\n",
    "routes = # insert your code here"
   ]
  },
  {
   "cell_type": "code",
   "execution_count": null,
   "id": "d0d03630-11f0-4de5-983f-4b0c05808699",
   "metadata": {},
   "outputs": [],
   "source": [
    "# Join our stop_time and route data frame with the routes data frame based on the 'route_id' column\n",
    "\n",
    "# insert your code here"
   ]
  },
  {
   "cell_type": "code",
   "execution_count": null,
   "id": "7c5be999-a1a9-4a1a-baa0-ce2f8960e1cd",
   "metadata": {},
   "outputs": [],
   "source": [
    "# Filter the output so that we only see the trip_id, arrival_time, route_short_name, route_long_name and trip_headsign columns\n",
    "\n",
    "summary = # insert your code here\n",
    "summary"
   ]
  },
  {
   "cell_type": "code",
   "execution_count": null,
   "id": "1f4d8549-b6fe-4510-ae7c-d09c207ab275",
   "metadata": {},
   "outputs": [],
   "source": [
    "# Lets select one of those trips to explore precisely where it goes ...\n",
    "our_trip_id = summary.iloc[0,0]"
   ]
  },
  {
   "cell_type": "code",
   "execution_count": null,
   "id": "c529b6ba-6bee-4533-8e8e-1b86debcb7d8",
   "metadata": {},
   "outputs": [],
   "source": [
    "# Find all stop_times for our trip_id (do not restrict to our stop_id)\n",
    "\n",
    "my_stops = # insert your code here\n",
    "my_stops"
   ]
  },
  {
   "cell_type": "code",
   "execution_count": null,
   "id": "5b522579-e429-4620-baab-40e51d71e0ab",
   "metadata": {},
   "outputs": [],
   "source": [
    "# Unfortunately, these stop_ids don't mean anything to us,\n",
    "# so we need to join this data with the stops data frame\n",
    "# display only the arrival_time and stop_name\n",
    "\n",
    "# insert your code here"
   ]
  },
  {
   "cell_type": "code",
   "execution_count": null,
   "id": "00d5032e-21f2-43d0-ae7b-fb3c41730fef",
   "metadata": {},
   "outputs": [],
   "source": [
    "# Will this get us towards the Brisbane CBD? If not, explore some other options."
   ]
  }
 ],
 "metadata": {
  "kernelspec": {
   "display_name": "Python 3 (ipykernel)",
   "language": "python",
   "name": "python3"
  },
  "language_info": {
   "codemirror_mode": {
    "name": "ipython",
    "version": 3
   },
   "file_extension": ".py",
   "mimetype": "text/x-python",
   "name": "python",
   "nbconvert_exporter": "python",
   "pygments_lexer": "ipython3",
   "version": "3.9.10"
  }
 },
 "nbformat": 4,
 "nbformat_minor": 5
}
