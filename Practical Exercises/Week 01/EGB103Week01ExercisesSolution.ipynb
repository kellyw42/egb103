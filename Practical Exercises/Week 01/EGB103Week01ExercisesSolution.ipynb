{
 "cells": [
  {
   "cell_type": "markdown",
   "id": "3abd0d2c",
   "metadata": {},
   "source": [
    "# Topic: Python Expressions\n",
    "Writing simple Python expressions to make calculations\n",
    "\n",
    "## Python Concepts: \n",
    "* variables\n",
    "* arithmetic operators\n",
    "* calling built-in functions\n",
    "* accessing modules\n",
    "\n",
    "### Keywords\n",
    "* <code>import</code>\n",
    "\n",
    "### Modules:\n",
    "<code>math</code> [<code>pi</code>, <code>tan</code>, <code>sin</code>, <code>cos</code>, <code>sqrt</code>]\n",
    "\n",
    "---\n",
    "\n"
   ]
  },
  {
   "cell_type": "markdown",
   "id": "0ab6cbb5",
   "metadata": {},
   "source": [
    "<u><b>EXERCISES:</b></u>\n",
    "<br>\n",
    "[JupyterLab Basics](#jupyterlab_basics)\n",
    "<br>\n",
    "[Basic Calculations](#Basic_Calculations):\n",
    "<br>\n",
    "&nbsp;&nbsp;&nbsp;&nbsp;[Distance Travelled](#distance_travelled)\n",
    "        <br>\n",
    "&nbsp;&nbsp;&nbsp;&nbsp;[Radians to Degrees](#radians_to_degrees)\n",
    "<br>\n",
    "&nbsp;&nbsp;&nbsp;&nbsp;[Debugging Arithmetic Expression](#debugging_arithmetic_expression)\n",
    "<br>\n",
    "&nbsp;&nbsp;&nbsp;&nbsp;[Debugging Formula](#debugging_formula)\n",
    "<br>\n",
    "    [Algebraic Expressions](#Algebraic_Expressions)\n",
    "        <br>\n",
    "&nbsp;&nbsp;&nbsp;&nbsp;[$5x^3$](#5x^3)\n",
    "    <br>\n",
    "&nbsp;&nbsp;&nbsp;&nbsp;[$4x^2 + 7x^3 - 9x + 5$](#4x^2+7x^3-9x+5)\n",
    "    <br>\n",
    "&nbsp;&nbsp;&nbsp;&nbsp;[$\\sqrt{4x^3}$](#sqrt(4x^3))\n",
    "    <br>\n",
    "&nbsp;&nbsp;&nbsp;&nbsp;[$\\sqrt{x^{x+1}}$](#sqrt(x^(x+1)))\n",
    "    <br>\n",
    "    [Geometry](#Geometry)\n",
    "        <br>\n",
    "&nbsp;&nbsp;&nbsp;&nbsp;[Area of a Triangle](#area_triangle)\n",
    "        <br>\n",
    "&nbsp;&nbsp;&nbsp;&nbsp;[Volume of a Cylinder](#volume_cylinder)\n",
    "        <br>\n",
    "&nbsp;&nbsp;&nbsp;&nbsp;[Length of Hypotenuse](#length_hypotenuse)\n",
    "        <br>\n",
    "&nbsp;&nbsp;&nbsp;&nbsp;[Area of Trapezoid](#area_trapezoid)\n",
    "        <br>\n",
    "&nbsp;&nbsp;&nbsp;&nbsp;[Surface Area of Cone](#surface_area_cone)\n",
    "        <br>\n",
    "&nbsp;&nbsp;&nbsp;&nbsp;[Area of Regular Polygon](#area_regular_polygon)\n",
    "        <br>\n",
    "&nbsp;&nbsp;&nbsp;&nbsp;[Pythagorean Trig Identity](#pythagorean_trig_identity)\n",
    "<br>\n",
    "    [Other Engineering Formulas](#pltw)\n",
    "<hr>"
   ]
  },
  {
   "cell_type": "markdown",
   "id": "4d5bfca0-935a-45f7-be6b-3eeaf0640543",
   "metadata": {},
   "source": [
    "# <a name=\"jupyterlab_basics\"></a>JupyterLab Basics\n",
    "<hr>"
   ]
  },
  {
   "cell_type": "markdown",
   "id": "c69a4ffa-0f02-4bc8-a280-9af413dc100e",
   "metadata": {},
   "source": [
    "Each 'cell' in a JupyterLab Notebook can contain one of three content <em>types</em>:\n",
    "* Code\n",
    "* Markdown or\n",
    "* Raw \n",
    "\n",
    "You can change the <em>type</em> by using the dropdown widget on the menu, which display the current <em>type</em> selected.  (Initially \"Markdown\" should be visible.)\n",
    "\n",
    "The result of 'executing' a cell (by either using the 'play' button on the menu (triangle), or by using the key combination Control+ENTER) depends on the cell <em>type</em>.  If it is <strong>Code</strong>, that code is evaluated.  If it is <strong>Markdown</strong>, the text will be displayed according to the markup tags used to format the text. If it is <strong>Raw</strong>, the text will simply be displayed 'as is', ie as plain text.  Notice that, before execution, the contents of cells looks different depending on the selected <em>type</em>.\n",
    "\n",
    "A <em>collapsed</em> cell will show as a large elipses, and can be expanded by clicking on the elipses.  See the tracing exercises below.  To collapse a cell, use the View menu option.\n",
    "\n",
    "##### Markdown\n",
    "You will see that this cell is Markdown, and it contains special markup 'tags' surrounding parts of the text to change the way it is displayed when executed.  To look at those tags, double click on any of the text here.  For example you will see how we have marked up the headings and the bulleted lists, and emphasised some words (with italics and bolding).  To render the cell as we intended, simply execute the cell again.\n",
    "\n",
    "Markdown cells will be used to introduce exercises, supply any useful information/resources and to group related exercises into sections.\n",
    "\n",
    "##### Code\n",
    "Most of your interaction with exercise files like this one will be in Code cells.  Generally there will be some Python comments giving a brief introduction to the exercise, potentially followed by some code, then a description of the task you are to complete.  After writing your solution, execute the cell to evaluate your Python code.  Any result of evaluating your code will be displayed in a new cell below the code.  Anything printed will just appear at the bottom of the current cell.\n",
    "\n",
    "If your code produces an error, read the error message to understand which part of your code is causing the error, and what type of error it is.  This will hopefully be a useful hint for debugging!\n",
    "\n",
    "### Resources:\n",
    "* <a href = \"https://jupyter.org/\">Jupyter Home Page</a> (including links to installation files)\n",
    "* <a href =\"https://jupyterlab.readthedocs.io/en/stable/user/interface.html\">JupyterLab Interface doco</a>\n",
    "* <a href=\"https://www.markdownguide.org/getting-started/\">Markdown - Getting Started</a>\n",
    "* <a href =\"https://www.markdownguide.org/basic-syntax/\">Markdown - Basic Syntax Guide</a>\n",
    "* <a href =\"https://www.ibm.com/docs/en/watson-studio-local/1.2.3?topic=notebooks-markdown-jupyter-cheatsheet\">Markdown for Jupyter Notebooks Cheatsheet</a> (IBM)\n",
    "* <a href=\"https://docs.python.org/3/\">Python3 Documentation</a>\n",
    "\n",
    "<hr>"
   ]
  },
  {
   "cell_type": "markdown",
   "id": "a4682c5d",
   "metadata": {},
   "source": [
    "# <a name=\"Basic_Calculations\"><a> Context: Basic Calculations\n",
    "\n",
    "Formulas:\n",
    "    <ul><li>distance: $speed . time$\n",
    "    </li>\n",
    "    <li>degrees: $radians \\frac{360}{2\\pi}$\n",
    "    </li>\n",
    "        <li>surface area of a sphere: $4 \\pi r^2$</li>\n",
    "    </ul>\n"
   ]
  },
  {
   "cell_type": "markdown",
   "id": "3636ffbd",
   "metadata": {},
   "source": [
    "<hr>\n",
    "<a name=\"distance_travelled\"></a>\n",
    "<b>Distance Travelled</b>"
   ]
  },
  {
   "cell_type": "code",
   "execution_count": 1,
   "id": "39ce26df",
   "metadata": {},
   "outputs": [
    {
     "data": {
      "text/plain": [
       "33.333333333333336"
      ]
     },
     "execution_count": 1,
     "metadata": {},
     "output_type": "execute_result"
    }
   ],
   "source": [
    "# Some Python variables\n",
    "speed = 1000 # in kms/hr\n",
    "time = 2 # in minutes\n",
    "\n",
    "# Using the supplied Python variables, write an expression to calculate the distance travelled in kms.\n",
    "# NB: you will need to convert minutes to hours\n",
    "# Answer is 33.333333333333336\n",
    "speed * (time / 60)"
   ]
  },
  {
   "cell_type": "markdown",
   "id": "d7d71e86",
   "metadata": {},
   "source": [
    "<a name=\"radians_to_degrees\"></a>\n",
    "<b>Radians to Degrees</b>"
   ]
  },
  {
   "cell_type": "code",
   "execution_count": 6,
   "id": "1e8c5b7c",
   "metadata": {},
   "outputs": [
    {
     "data": {
      "text/plain": [
       "5729.5779513082325"
      ]
     },
     "execution_count": 6,
     "metadata": {},
     "output_type": "execute_result"
    }
   ],
   "source": [
    "# Import the math module to use pi\n",
    "import math\n",
    "\n",
    "# A Python variable\n",
    "radians = 100\n",
    "\n",
    "# Using the supplied Python variables, write an expression to calculate the angle in degrees, using the formula shown above.\n",
    "# Answer is 5729.5779513082325\n",
    "radians * (360 / (2 * math.pi))"
   ]
  },
  {
   "cell_type": "markdown",
   "id": "53dc6666",
   "metadata": {},
   "source": [
    "<hr>\n",
    "<a name=\"debugging_arithmetic_expression\"></a>\n",
    "<b>Debugging Arthimetic Expression</b>"
   ]
  },
  {
   "cell_type": "code",
   "execution_count": null,
   "id": "9d497237",
   "metadata": {},
   "outputs": [],
   "source": [
    "# Author: Colin Fidge, 2021\n",
    "# The hardest type of error to resolve is a 'semantic' error in which \n",
    "# the program gets part of the way through a calculation before something goes wrong:\n",
    "\n",
    "# This expression is well formed, and looks like it should work, but doesn't.\n",
    "(9 * 7) / ((6 + 2) - 8) \n",
    "\n",
    "# Before you run the code, try to determine what the issue is.\n",
    "# Then evaluate the expression, and read the error message.\n"
   ]
  },
  {
   "cell_type": "markdown",
   "id": "09de4969",
   "metadata": {},
   "source": [
    "<hr>\n",
    "<a name=\"debugging_formula\"></a>\n",
    "<b>Debugging Formula</b>"
   ]
  },
  {
   "cell_type": "code",
   "execution_count": 19,
   "id": "de6863ee",
   "metadata": {},
   "outputs": [
    {
     "data": {
      "text/plain": [
       "100.0"
      ]
     },
     "execution_count": 19,
     "metadata": {},
     "output_type": "execute_result"
    }
   ],
   "source": [
    "# Given a temperature in Fahrenheit, you can determine the equivalent temperature\n",
    "# in Celsius by finding 5/9 of: the Fahrenheit value minus 32\n",
    "\n",
    "# The following code attempts to reflect that formula.  \n",
    "# However the answer should be 100.  What is wrong with the Python code?\n",
    "# Modify the code in order to rectify the calculation.\n",
    "\n",
    "fahrenheit = 212\n",
    "\n",
    "celsius = (fahrenheit - 32) * 5 / 9\n",
    "\n",
    "# now display the variable\n",
    "celsius"
   ]
  },
  {
   "cell_type": "markdown",
   "id": "37ab9548",
   "metadata": {},
   "source": [
    "<a name=\"Algebraic_Expressions\"><a>\n",
    "# Algebraic Expressions"
   ]
  },
  {
   "cell_type": "markdown",
   "id": "e9717424-7b60-4ba9-8575-846d1d59d306",
   "metadata": {},
   "source": [
    "We will set variable x to the value 3 for the following examples\n",
    "(but the expressions will be written the same regardless of the value of variable x)"
   ]
  },
  {
   "cell_type": "code",
   "execution_count": 39,
   "id": "b8ea45a0-97fc-4bcc-960b-634c0d43c36c",
   "metadata": {},
   "outputs": [],
   "source": [
    "x = 3"
   ]
  },
  {
   "cell_type": "markdown",
   "id": "eee6aaf5-1ca6-4710-826c-34c7be7dd81a",
   "metadata": {},
   "source": [
    "Write Python expressions for each of the following algebraic expressions:"
   ]
  },
  {
   "cell_type": "markdown",
   "id": "a0cf0983",
   "metadata": {},
   "source": [
    "<a name=\"5x^3\"></a>\n",
    "$5x^3$"
   ]
  },
  {
   "cell_type": "code",
   "execution_count": 40,
   "id": "a2cb1bc2-c0f2-451a-859d-853aa7c238cc",
   "metadata": {},
   "outputs": [
    {
     "data": {
      "text/plain": [
       "135"
      ]
     },
     "execution_count": 40,
     "metadata": {},
     "output_type": "execute_result"
    }
   ],
   "source": [
    "# insert answer here\n",
    "5 * x ** 3\n",
    "# the result should be 135"
   ]
  },
  {
   "cell_type": "markdown",
   "id": "a48dd878",
   "metadata": {},
   "source": [
    "<a name=\"4x^2+7x^3-9x+5\"></a>\n",
    "$4x^2 + 7x^3 - 9x + 5$"
   ]
  },
  {
   "cell_type": "code",
   "execution_count": 43,
   "id": "f8caba6f-8a13-4305-a1ca-1cee4b4e1600",
   "metadata": {},
   "outputs": [
    {
     "data": {
      "text/plain": [
       "203"
      ]
     },
     "execution_count": 43,
     "metadata": {},
     "output_type": "execute_result"
    }
   ],
   "source": [
    "# insert answer here\n",
    "4 * x ** 2 + 7 * x ** 3 - 9 * x + 5\n",
    "# the result should be 203"
   ]
  },
  {
   "cell_type": "markdown",
   "id": "b7ce0e20",
   "metadata": {},
   "source": [
    "<a name=\"sqrt(4x^3)\"></a>\n",
    "$\\sqrt{4x^3}$"
   ]
  },
  {
   "cell_type": "code",
   "execution_count": 26,
   "id": "ffb3ad12",
   "metadata": {},
   "outputs": [
    {
     "data": {
      "text/plain": [
       "10.392304845413264"
      ]
     },
     "execution_count": 26,
     "metadata": {},
     "output_type": "execute_result"
    }
   ],
   "source": [
    "# insert answer here\n",
    "import math\n",
    "math.sqrt(4 * x ** 3)\n",
    "# the result should be 10.392304845413264"
   ]
  },
  {
   "cell_type": "markdown",
   "id": "a2a98197",
   "metadata": {},
   "source": [
    "<a name=\"sqrt(x^(x+1))\"></a>\n",
    "$7 \\sqrt{x^{x+1}}$"
   ]
  },
  {
   "cell_type": "code",
   "execution_count": 27,
   "id": "beb3765a",
   "metadata": {},
   "outputs": [
    {
     "data": {
      "text/plain": [
       "63.0"
      ]
     },
     "execution_count": 27,
     "metadata": {},
     "output_type": "execute_result"
    }
   ],
   "source": [
    "# insert answer here\n",
    "import math\n",
    "7 * math.sqrt(x ** (x+1))\n",
    "# the result should be 63.0"
   ]
  },
  {
   "cell_type": "markdown",
   "id": "24e6544c",
   "metadata": {},
   "source": [
    "<a name=\"Geometry\"><a>\n",
    "# Geometry\n",
    "\n",
    "Formulas:\n",
    "    <ul>\n",
    "        <li>area of triangle = $\\frac{hb}{2}$</li>\n",
    "        <li>volume of a cylinder = $\\pi r^2h$</li>\n",
    "        <li>hypotenuse = $\\sqrt{a^2 + b^2}$</li>\n",
    "        <li>area of trapezoid = $\\frac{(a + b)}{2} h$</li>\n",
    "        <li>surface area of right circular cone = $\\pi r^2 + \\pi r\\sqrt{r^2 + h^2}$</li>\n",
    "        <li>area of a regular polygon = $n r^2 tan(\\frac{\\pi}{n})$</li>\n",
    "    </ul>"
   ]
  },
  {
   "cell_type": "markdown",
   "id": "adddc2ff",
   "metadata": {},
   "source": [
    "<hr>\n",
    "<a name=\"area_triangle\"></a>\n",
    "<b>Calculate the area of a triangle</b>"
   ]
  },
  {
   "cell_type": "code",
   "execution_count": 28,
   "id": "dafaba46",
   "metadata": {},
   "outputs": [
    {
     "data": {
      "text/plain": [
       "12.424999999999999"
      ]
     },
     "execution_count": 28,
     "metadata": {},
     "output_type": "execute_result"
    }
   ],
   "source": [
    "height = 3.5\n",
    "base = 7.1\n",
    "\n",
    "# insert answer here\n",
    "(height * base) / 2\n",
    "# the result should be 12.424999999999999"
   ]
  },
  {
   "cell_type": "markdown",
   "id": "098971b6",
   "metadata": {},
   "source": [
    "<hr>\n",
    "<a name=\"volume_cylinder\"></a>\n",
    "<b>Calculate the volume of a cylinder</b>"
   ]
  },
  {
   "cell_type": "code",
   "execution_count": 29,
   "id": "db1e9d11",
   "metadata": {},
   "outputs": [
    {
     "data": {
      "text/plain": [
       "42.725660088821186"
      ]
     },
     "execution_count": 29,
     "metadata": {},
     "output_type": "execute_result"
    }
   ],
   "source": [
    "radius = 2\n",
    "height = 3.4\n",
    "\n",
    "# insert answer here\n",
    "import math\n",
    "math.pi * (radius ** 2) * height\n",
    "# the result should be 42.725660088821186"
   ]
  },
  {
   "cell_type": "markdown",
   "id": "308a435f",
   "metadata": {},
   "source": [
    "<hr>\n",
    "<a name=\"length_hypotenuse\"></a>\n",
    "<b>Calculate the length of the hypotenuse of a triangle</b>"
   ]
  },
  {
   "cell_type": "code",
   "execution_count": 30,
   "id": "914ebc0c",
   "metadata": {},
   "outputs": [
    {
     "data": {
      "text/plain": [
       "20.582186472773003"
      ]
     },
     "execution_count": 30,
     "metadata": {},
     "output_type": "execute_result"
    }
   ],
   "source": [
    "side_a = 18.3\n",
    "side_b = 9.42\n",
    "\n",
    "# insert answer here\n",
    "import math\n",
    "math.sqrt(side_a ** 2 + side_b ** 2)\n",
    "# the result should be 20.582186472773003"
   ]
  },
  {
   "cell_type": "markdown",
   "id": "37b7c02a",
   "metadata": {},
   "source": [
    "<hr>\n",
    "<a name=\"area_trapezoid\"></a>\n",
    "<b>Calculate the area of a trapezoid</b> "
   ]
  },
  {
   "cell_type": "code",
   "execution_count": 31,
   "id": "81d9974f",
   "metadata": {},
   "outputs": [
    {
     "data": {
      "text/plain": [
       "37.315659999999994"
      ]
     },
     "execution_count": 31,
     "metadata": {},
     "output_type": "execute_result"
    }
   ],
   "source": [
    "base_a = 3.112\n",
    "base_b = 5.0001\n",
    "height = 9.2\n",
    "\n",
    "# insert answer here\n",
    "((base_a + base_b) / 2) * height\n",
    "# the result should be 37.315659999999994"
   ]
  },
  {
   "cell_type": "markdown",
   "id": "c7786519",
   "metadata": {},
   "source": [
    "<hr>\n",
    "<a name=\"surface_area_cone\"></a>\n",
    "<b>Calculate the surface area of cone</b>"
   ]
  },
  {
   "cell_type": "code",
   "execution_count": 32,
   "id": "009b2dc5",
   "metadata": {},
   "outputs": [
    {
     "data": {
      "text/plain": [
       "108.79967207790783"
      ]
     },
     "execution_count": 32,
     "metadata": {},
     "output_type": "execute_result"
    }
   ],
   "source": [
    "radius = 3\n",
    "height = 8\n",
    "\n",
    "# insert answer here\n",
    "import math\n",
    "(math.pi * radius ** 2) + (math.pi * radius * math.sqrt(radius ** 2 + height ** 2))\n",
    "# the result should be 108.79967207790783"
   ]
  },
  {
   "cell_type": "markdown",
   "id": "6c8e474b",
   "metadata": {},
   "source": [
    "<hr>\n",
    "<a name=\"area_regular_polygon\"></a>\n",
    "<b>Calculate the area of a regular polygon</b>"
   ]
  },
  {
   "cell_type": "code",
   "execution_count": 34,
   "id": "2eacffa9",
   "metadata": {},
   "outputs": [
    {
     "data": {
      "text/plain": [
       "198.92734416786783"
      ]
     },
     "execution_count": 34,
     "metadata": {},
     "output_type": "execute_result"
    }
   ],
   "source": [
    "number_sides = 5\n",
    "radius = 7.4\n",
    "\n",
    "# insert answer here\n",
    "import math\n",
    "number_sides * (radius ** 2) * math.tan(math.pi / number_sides)\n",
    "# the result should be 198.92734416786783"
   ]
  },
  {
   "cell_type": "markdown",
   "id": "ed8fa591",
   "metadata": {},
   "source": [
    "<hr>\n",
    "<a name=\"pythagorean_trig_identity\"></a>\n",
    "<b>Debugging - Pythagorean trigonometric identity</b> \n",
    "<br/>    \n",
    "Does:\n",
    "    $sin ^2(x) + cos ^ 2(x) = 1?$\n",
    "    "
   ]
  },
  {
   "cell_type": "code",
   "execution_count": 35,
   "id": "92535de7",
   "metadata": {},
   "outputs": [
    {
     "data": {
      "text/plain": [
       "True"
      ]
     },
     "execution_count": 35,
     "metadata": {},
     "output_type": "execute_result"
    }
   ],
   "source": [
    "# Find and fix the errors in the following code\n",
    "\n",
    "import math\n",
    "x = math.pi / 4\n",
    "math.sin(x)**2 + math.cos(x)**2 == 1"
   ]
  },
  {
   "cell_type": "markdown",
   "id": "8eaf1135-5c9b-42ac-8147-f786bc537385",
   "metadata": {},
   "source": [
    "<a name=\"pltw\"></a>\n",
    "# Other Engineering Formulas\n",
    "\n",
    "Select some Engineering formulas from this popular cheat sheet:\n",
    "<a href=\"https://s3.amazonaws.com/lms-content.pltw.org/curriculum/HS/ENG/GeneralResources/Student/Engineering_FormulaSheet.pdf\">PLTW Engineering Formula Sheet</a> and translate them into Python expressions"
   ]
  },
  {
   "cell_type": "code",
   "execution_count": null,
   "id": "27e61cb2-d44b-4027-afd6-81602daaacc1",
   "metadata": {},
   "outputs": [],
   "source": []
  }
 ],
 "metadata": {
  "kernelspec": {
   "display_name": "Python 3 (ipykernel)",
   "language": "python",
   "name": "python3"
  },
  "language_info": {
   "codemirror_mode": {
    "name": "ipython",
    "version": 3
   },
   "file_extension": ".py",
   "mimetype": "text/x-python",
   "name": "python",
   "nbconvert_exporter": "python",
   "pygments_lexer": "ipython3",
   "version": "3.9.7"
  }
 },
 "nbformat": 4,
 "nbformat_minor": 5
}
