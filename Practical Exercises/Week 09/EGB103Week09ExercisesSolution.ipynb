{
 "cells": [
  {
   "cell_type": "markdown",
   "id": "29b433ae-c0ff-4181-a35a-c41e546611b7",
   "metadata": {},
   "source": [
    "<h1> <a href=\"https://gtfs.org/\">GTFS: General Public Transit Feed Specification</a></h1>\n",
    "\n",
    "Around the world, public transit agencies make data available about their services, routes, and stops via a standardized data format called <a href=\"https://gtfs.org/\">GTFS</a> (originally developed by Google). \n",
    "\n",
    "It has two parts: the static component contains information that changes rarely including locations of stops, routes and schedules. A new version of this static information is typically released every few months. Some agencies also provide a real-time component based on live GPS data from their buses, trains etc to provide up to the minute data about vehicle positions and arrival predictions - typically updated every 30 seconds.\n",
    "\n",
    "This practical exercise will be based on only the static GTFS data.\n",
    "\n",
    "Start by downloading the current GTFS schedule data for South East Queensland from:\n",
    "https://gtfsrt.api.translink.com.au/ (https://gtfsrt.api.translink.com.au/GTFS/SEQ_GTFS.zip)\n",
    "\n",
    "You will need to upload the following files to your Jupyter account in the cloud:\n",
    "- <code>calendar.txt</code>\n",
    "- <code>routes.txt</code>\n",
    "- <code>stops.txt</code>\n",
    "- <code>stop_times.txt</code>\n",
    "- <code>trips.txt</code>"
   ]
  },
  {
   "cell_type": "markdown",
   "id": "91fc689c-1f82-410d-af77-22d1d44079dc",
   "metadata": {},
   "source": [
    "# Finding our way to the CBD via public transport\n",
    "Our goal is to travel from where we live to the Bribane CBD via public transport.\n",
    "We don't know where the closest stop is, we don't know which route the trains or buses follow and we don't know when those buses or trains will arrive. "
   ]
  },
  {
   "cell_type": "markdown",
   "id": "a672bc46-d7a2-435a-8e33-d68764e5097b",
   "metadata": {},
   "source": [
    "Once you have <code>stops.txt</code> uploaded to your Jupyter account, open it to view its contents."
   ]
  },
  {
   "cell_type": "code",
   "execution_count": 26,
   "id": "ae514c4b-7384-454a-a743-5d5e66bdb72b",
   "metadata": {},
   "outputs": [
    {
     "data": {
      "text/html": [
       "<div>\n",
       "<style scoped>\n",
       "    .dataframe tbody tr th:only-of-type {\n",
       "        vertical-align: middle;\n",
       "    }\n",
       "\n",
       "    .dataframe tbody tr th {\n",
       "        vertical-align: top;\n",
       "    }\n",
       "\n",
       "    .dataframe thead th {\n",
       "        text-align: right;\n",
       "    }\n",
       "</style>\n",
       "<table border=\"1\" class=\"dataframe\">\n",
       "  <thead>\n",
       "    <tr style=\"text-align: right;\">\n",
       "      <th></th>\n",
       "      <th>stop_code</th>\n",
       "      <th>stop_name</th>\n",
       "      <th>stop_desc</th>\n",
       "      <th>stop_lat</th>\n",
       "      <th>stop_lon</th>\n",
       "      <th>zone_id</th>\n",
       "      <th>stop_url</th>\n",
       "      <th>location_type</th>\n",
       "      <th>parent_station</th>\n",
       "      <th>platform_code</th>\n",
       "    </tr>\n",
       "    <tr>\n",
       "      <th>stop_id</th>\n",
       "      <th></th>\n",
       "      <th></th>\n",
       "      <th></th>\n",
       "      <th></th>\n",
       "      <th></th>\n",
       "      <th></th>\n",
       "      <th></th>\n",
       "      <th></th>\n",
       "      <th></th>\n",
       "      <th></th>\n",
       "    </tr>\n",
       "  </thead>\n",
       "  <tbody>\n",
       "    <tr>\n",
       "      <th>1</th>\n",
       "      <td>1.0</td>\n",
       "      <td>Herschel Street Stop 1 near North Quay</td>\n",
       "      <td>NaN</td>\n",
       "      <td>-27.467834</td>\n",
       "      <td>153.019079</td>\n",
       "      <td>1</td>\n",
       "      <td>https://translink.com.au/stop/000001/gtfs/</td>\n",
       "      <td>0</td>\n",
       "      <td>NaN</td>\n",
       "      <td>NaN</td>\n",
       "    </tr>\n",
       "    <tr>\n",
       "      <th>10</th>\n",
       "      <td>10.0</td>\n",
       "      <td>Ann Street Stop 10 at King George Square</td>\n",
       "      <td>NaN</td>\n",
       "      <td>-27.468003</td>\n",
       "      <td>153.023970</td>\n",
       "      <td>1</td>\n",
       "      <td>https://translink.com.au/stop/000010/gtfs/</td>\n",
       "      <td>0</td>\n",
       "      <td>NaN</td>\n",
       "      <td>NaN</td>\n",
       "    </tr>\n",
       "    <tr>\n",
       "      <th>100</th>\n",
       "      <td>100.0</td>\n",
       "      <td>Parliament Stop 94A Margaret St</td>\n",
       "      <td>NaN</td>\n",
       "      <td>-27.473751</td>\n",
       "      <td>153.026745</td>\n",
       "      <td>1</td>\n",
       "      <td>https://translink.com.au/stop/000100/gtfs/</td>\n",
       "      <td>0</td>\n",
       "      <td>NaN</td>\n",
       "      <td>NaN</td>\n",
       "    </tr>\n",
       "    <tr>\n",
       "      <th>1000</th>\n",
       "      <td>1000.0</td>\n",
       "      <td>Handford Rd at Songbird Way</td>\n",
       "      <td>NaN</td>\n",
       "      <td>-27.339069</td>\n",
       "      <td>153.043907</td>\n",
       "      <td>2</td>\n",
       "      <td>https://translink.com.au/stop/001000/gtfs/</td>\n",
       "      <td>0</td>\n",
       "      <td>NaN</td>\n",
       "      <td>NaN</td>\n",
       "    </tr>\n",
       "    <tr>\n",
       "      <th>10000</th>\n",
       "      <td>10000.0</td>\n",
       "      <td>Balcara Ave near Allira Cr</td>\n",
       "      <td>NaN</td>\n",
       "      <td>-27.344106</td>\n",
       "      <td>153.024982</td>\n",
       "      <td>2</td>\n",
       "      <td>https://translink.com.au/stop/010000/gtfs/</td>\n",
       "      <td>0</td>\n",
       "      <td>NaN</td>\n",
       "      <td>NaN</td>\n",
       "    </tr>\n",
       "    <tr>\n",
       "      <th>...</th>\n",
       "      <td>...</td>\n",
       "      <td>...</td>\n",
       "      <td>...</td>\n",
       "      <td>...</td>\n",
       "      <td>...</td>\n",
       "      <td>...</td>\n",
       "      <td>...</td>\n",
       "      <td>...</td>\n",
       "      <td>...</td>\n",
       "      <td>...</td>\n",
       "    </tr>\n",
       "    <tr>\n",
       "      <th>place_pinesc</th>\n",
       "      <td>NaN</td>\n",
       "      <td>The Pines Shopping Centre</td>\n",
       "      <td>NaN</td>\n",
       "      <td>-28.134660</td>\n",
       "      <td>153.469767</td>\n",
       "      <td>NaN</td>\n",
       "      <td>NaN</td>\n",
       "      <td>1</td>\n",
       "      <td>NaN</td>\n",
       "      <td>NaN</td>\n",
       "    </tr>\n",
       "    <tr>\n",
       "      <th>place_inttbl</th>\n",
       "      <td>NaN</td>\n",
       "      <td>Toombul Shopping Centre interchange</td>\n",
       "      <td>NaN</td>\n",
       "      <td>-27.408269</td>\n",
       "      <td>153.059963</td>\n",
       "      <td>NaN</td>\n",
       "      <td>NaN</td>\n",
       "      <td>1</td>\n",
       "      <td>NaN</td>\n",
       "      <td>NaN</td>\n",
       "    </tr>\n",
       "    <tr>\n",
       "      <th>place_intuq</th>\n",
       "      <td>NaN</td>\n",
       "      <td>UQ Chancellors Place</td>\n",
       "      <td>NaN</td>\n",
       "      <td>-27.497970</td>\n",
       "      <td>153.011136</td>\n",
       "      <td>NaN</td>\n",
       "      <td>NaN</td>\n",
       "      <td>1</td>\n",
       "      <td>NaN</td>\n",
       "      <td>NaN</td>\n",
       "    </tr>\n",
       "    <tr>\n",
       "      <th>place_scuniv</th>\n",
       "      <td>NaN</td>\n",
       "      <td>USC station</td>\n",
       "      <td>NaN</td>\n",
       "      <td>-26.718756</td>\n",
       "      <td>153.062004</td>\n",
       "      <td>NaN</td>\n",
       "      <td>NaN</td>\n",
       "      <td>1</td>\n",
       "      <td>NaN</td>\n",
       "      <td>NaN</td>\n",
       "    </tr>\n",
       "    <tr>\n",
       "      <th>place_vptsta</th>\n",
       "      <td>NaN</td>\n",
       "      <td>Victoria Point Central</td>\n",
       "      <td>NaN</td>\n",
       "      <td>-27.585866</td>\n",
       "      <td>153.282032</td>\n",
       "      <td>NaN</td>\n",
       "      <td>NaN</td>\n",
       "      <td>1</td>\n",
       "      <td>NaN</td>\n",
       "      <td>NaN</td>\n",
       "    </tr>\n",
       "  </tbody>\n",
       "</table>\n",
       "<p>12911 rows × 10 columns</p>\n",
       "</div>"
      ],
      "text/plain": [
       "              stop_code                                 stop_name  stop_desc  \\\n",
       "stop_id                                                                        \n",
       "1                   1.0    Herschel Street Stop 1 near North Quay        NaN   \n",
       "10                 10.0  Ann Street Stop 10 at King George Square        NaN   \n",
       "100               100.0           Parliament Stop 94A Margaret St        NaN   \n",
       "1000             1000.0               Handford Rd at Songbird Way        NaN   \n",
       "10000           10000.0                Balcara Ave near Allira Cr        NaN   \n",
       "...                 ...                                       ...        ...   \n",
       "place_pinesc        NaN                 The Pines Shopping Centre        NaN   \n",
       "place_inttbl        NaN       Toombul Shopping Centre interchange        NaN   \n",
       "place_intuq         NaN                      UQ Chancellors Place        NaN   \n",
       "place_scuniv        NaN                               USC station        NaN   \n",
       "place_vptsta        NaN                    Victoria Point Central        NaN   \n",
       "\n",
       "               stop_lat    stop_lon zone_id  \\\n",
       "stop_id                                       \n",
       "1            -27.467834  153.019079       1   \n",
       "10           -27.468003  153.023970       1   \n",
       "100          -27.473751  153.026745       1   \n",
       "1000         -27.339069  153.043907       2   \n",
       "10000        -27.344106  153.024982       2   \n",
       "...                 ...         ...     ...   \n",
       "place_pinesc -28.134660  153.469767     NaN   \n",
       "place_inttbl -27.408269  153.059963     NaN   \n",
       "place_intuq  -27.497970  153.011136     NaN   \n",
       "place_scuniv -26.718756  153.062004     NaN   \n",
       "place_vptsta -27.585866  153.282032     NaN   \n",
       "\n",
       "                                                stop_url  location_type  \\\n",
       "stop_id                                                                   \n",
       "1             https://translink.com.au/stop/000001/gtfs/              0   \n",
       "10            https://translink.com.au/stop/000010/gtfs/              0   \n",
       "100           https://translink.com.au/stop/000100/gtfs/              0   \n",
       "1000          https://translink.com.au/stop/001000/gtfs/              0   \n",
       "10000         https://translink.com.au/stop/010000/gtfs/              0   \n",
       "...                                                  ...            ...   \n",
       "place_pinesc                                         NaN              1   \n",
       "place_inttbl                                         NaN              1   \n",
       "place_intuq                                          NaN              1   \n",
       "place_scuniv                                         NaN              1   \n",
       "place_vptsta                                         NaN              1   \n",
       "\n",
       "             parent_station platform_code  \n",
       "stop_id                                    \n",
       "1                       NaN           NaN  \n",
       "10                      NaN           NaN  \n",
       "100                     NaN           NaN  \n",
       "1000                    NaN           NaN  \n",
       "10000                   NaN           NaN  \n",
       "...                     ...           ...  \n",
       "place_pinesc            NaN           NaN  \n",
       "place_inttbl            NaN           NaN  \n",
       "place_intuq             NaN           NaN  \n",
       "place_scuniv            NaN           NaN  \n",
       "place_vptsta            NaN           NaN  \n",
       "\n",
       "[12911 rows x 10 columns]"
      ]
     },
     "execution_count": 26,
     "metadata": {},
     "output_type": "execute_result"
    }
   ],
   "source": [
    "# Start by reading stops.txt into a pandas data frame using read_csv method and set the stop_id column as the index\n",
    "\n",
    "import pandas\n",
    "stops = pandas.read_csv('stops.txt', index_col = 0)\n",
    "\n",
    "# display its contents\n",
    "stops"
   ]
  },
  {
   "cell_type": "code",
   "execution_count": null,
   "id": "988b43f2-512a-4a2d-9185-e15b42019fbe",
   "metadata": {},
   "outputs": [],
   "source": [
    "# There are thousands of stops across south east Queensland. Our first goal is to find some stops near to where we live.\n",
    "\n",
    "# We start by determining the longitude and latitude of the property where we live.\n",
    "# Open google maps https://www.google.com/maps and locate the property where you currently live.\n",
    "# Put a pin on that location and make note of the longitude and latitude. \n",
    "# The longitude should be about 153 and the latitude about -27\n",
    "\n",
    "my_longitude = -27.38380639217319\n",
    "my_latitude = 152.9595649359856"
   ]
  },
  {
   "cell_type": "code",
   "execution_count": null,
   "id": "2dd7c90e-72ef-44c3-8463-20c7f407fb03",
   "metadata": {},
   "outputs": [],
   "source": [
    "# Next we need to be able to measure the distance from our property to each of the stops. \n",
    "# To measure the distance between two sets of  longitude and latitude, we need to use a formula, \n",
    "# such as the haversine formula (https://en.wikipedia.org/wiki/Haversine_formula) to determine the\n",
    "# distance between two points on a sphere (since the earth is not flat).\n",
    "# The earth is not a perfect sphere, it's radius varies at different points, but we approximate its radius as 6371 kilometres.\n",
    "\n",
    "import math\n",
    "\n",
    "# https://en.wikipedia.org/wiki/Haversine_formula\n",
    "def haversine_distance(lon1, lat1, lon2, lat2):\n",
    "      # convert decimal degrees to radians \n",
    "      lon1 = math.radians(lon1)\n",
    "      lat1 = math.radians(lat1)\n",
    "      lon2 = math.radians(lon2)\n",
    "      lat2 = math.radians(lat2)\n",
    "        \n",
    "      # haversine formula \n",
    "      dlon = lon2 - lon1 \n",
    "      dlat = lat2 - lat1 \n",
    "      a =  math.sin(dlat/2)**2 +  math.cos(lat1) * math.cos(lat2) *  math.sin(dlon/2)**2\n",
    "      c = 2 * math.asin( math.sqrt(a)) \n",
    "      r = 6371 # Radius of earth in kilometers.\n",
    "      return c * r\n",
    "    \n",
    "# test case\n",
    "haversine_distance(-27.467834, 153.019079, -27.371936, 153.099357) # should be about 13 kilometres"
   ]
  },
  {
   "cell_type": "code",
   "execution_count": null,
   "id": "25d521fb-7d52-4209-b9ff-a96c63656876",
   "metadata": {},
   "outputs": [],
   "source": [
    "# We can then use the function to compute the distance from our specified longitude and latitude, to each stop\n",
    "\n",
    "def near(stop_row, lon, lat) :\n",
    "    return haversine_distance(lon, lat, stop_row.stop_lat, stop_row.stop_lon)\n",
    "\n",
    "stops['dist_from_home'] = stops.apply(near, lon=my_longitude, lat=my_latitude, axis=1)\n",
    "stops # see the new column ..."
   ]
  },
  {
   "cell_type": "code",
   "execution_count": null,
   "id": "71d61013-1fbb-473a-a368-1781f745a8a0",
   "metadata": {},
   "outputs": [],
   "source": [
    "\n",
    "\n"
   ]
  },
  {
   "cell_type": "code",
   "execution_count": null,
   "id": "4764c64b-75f1-431a-9f29-9d91ffbefc97",
   "metadata": {},
   "outputs": [],
   "source": [
    "# We can then sort the stops by this new column using the sort_values method\n",
    "\n",
    "nearby_stops = stops.sort_values('dist_from_home')\n",
    "nearby_stops"
   ]
  },
  {
   "cell_type": "code",
   "execution_count": null,
   "id": "2d471848-4d39-4a7e-bc1f-6b95e1f8180b",
   "metadata": {},
   "outputs": [],
   "source": [
    "# Let's choose the first of these stops and see which buses or trains are coming soon and where they are going to ...\n",
    "our_stop_id = nearby_stops.index[0]\n",
    "our_stop_id"
   ]
  },
  {
   "cell_type": "code",
   "execution_count": null,
   "id": "1f2c9b83-0bea-4b1f-a997-46b844e18997",
   "metadata": {},
   "outputs": [],
   "source": [
    "# Read stop_times.txt into a data frame using the read_csv method.\n",
    "# set the data type of the stop_id column to type string by adding parameter: dtype={'stop_id':'str'}\n",
    "\n",
    "stop_times = pandas.read_csv('stop_times.txt', dtype={'stop_id':'str'})"
   ]
  },
  {
   "cell_type": "code",
   "execution_count": null,
   "id": "605a9cd7-4c43-4b64-b224-8d0150b083ad",
   "metadata": {},
   "outputs": [],
   "source": [
    "# View just those stop_time rows that match our stop_id\n",
    "\n",
    "stop_times[stop_times.stop_id==our_stop_id]"
   ]
  },
  {
   "cell_type": "code",
   "execution_count": null,
   "id": "1776c51d-0609-42bc-9474-f6c105ffb1f4",
   "metadata": {},
   "outputs": [],
   "source": [
    "# Not all of those trips we necessarily be coming today. \n",
    "# Transit agencies run different schedules on different days of the week, especially for weekends and public holidays.\n",
    "# To learn about these service schedules we need to load the calendar.txt file into a data frame.\n",
    "# Set the service_id column as the index and parse the two date columns as dates\n",
    "\n",
    "services = pandas.read_csv('calendar.txt', index_col = 0, parse_dates=['start_date','end_date'])\n",
    "services"
   ]
  },
  {
   "cell_type": "code",
   "execution_count": null,
   "id": "c063a02d-7237-4c1f-a26c-80bad86e5079",
   "metadata": {},
   "outputs": [],
   "source": [
    "# Start by viewing only those services that run on this day of the week.\n",
    "# So, for example, if today is a Thurdsday, then we require services.thursday == 1\n",
    "\n",
    "services[services.thursday == 1]"
   ]
  },
  {
   "cell_type": "code",
   "execution_count": null,
   "id": "52854327-13e2-4cfd-8edd-3abd7c4fd36a",
   "metadata": {},
   "outputs": [],
   "source": [
    "# We also need to ensure that today falls within the start_date and end_date period of that service.\n",
    "# For that we need to know today's date ...\n",
    "import pytz\n",
    "timezone = pytz.timezone('Australia/Brisbane')\n",
    "today = pandas.Timestamp.now(tz=timezone).tz_localize(None)"
   ]
  },
  {
   "cell_type": "code",
   "execution_count": null,
   "id": "10d80e14-eb40-46c3-9d36-911ecde0eda1",
   "metadata": {},
   "outputs": [],
   "source": [
    "# Find the list of service_ids for services that run today and are within the service start and end dates\n",
    "\n",
    "todays_services = services[(services.thursday == 1) & (services.start_date <= today) & (today <= services.end_date)].index\n",
    "todays_services"
   ]
  },
  {
   "cell_type": "code",
   "execution_count": null,
   "id": "2a61c3f7-22dd-42af-8557-864737aa9223",
   "metadata": {},
   "outputs": [],
   "source": [
    "# Next we need to learn which trips occur on those services, so we need to load trips.txt into a pandas data frame.\n",
    "# Set the trip_id column as the index.\n",
    "\n",
    "trips = pandas.read_csv('trips.txt', index_col = 2)\n",
    "trips"
   ]
  },
  {
   "cell_type": "code",
   "execution_count": null,
   "id": "278eda2d-ddec-41ba-af34-e60a27f203a6",
   "metadata": {},
   "outputs": [],
   "source": [
    "# To test if a trip is part of a service, we can use the isin method\n",
    "# trips.service_id.isin(todays_services)\n",
    "\n",
    "# Find the list of trip_ids for those trips\n",
    "todays_trips = trips[trips.service_id.isin(todays_services)].index\n",
    "\n",
    "todays_trips"
   ]
  },
  {
   "cell_type": "code",
   "execution_count": null,
   "id": "a4fbb99a-3edd-4b6b-b14b-e7524899f6f4",
   "metadata": {},
   "outputs": [],
   "source": [
    "# We can then use this list of trip ids to find stop times matching these trip ids.\n",
    "# stop_times.trip_id.isin(todays_trips)\n",
    "\n",
    "# Find all stop times that stop at our stop today.\n",
    "stop_times[(stop_times.stop_id==our_stop_id) & (stop_times.trip_id.isin(todays_trips)) ]"
   ]
  },
  {
   "cell_type": "code",
   "execution_count": null,
   "id": "579a70e7-c4be-4ebb-8ed9-6c805e3b48b5",
   "metadata": {},
   "outputs": [],
   "source": [
    "# We aren't interested in trying to catch any trains or buses that have already departed, \n",
    "# so view only those stop times that have an arrival_time after the time now.\n",
    "\n",
    "time_now = today.strftime('%H:%M:%S')\n",
    "\n",
    "arriving_soon = stop_times[(stop_times.stop_id==our_stop_id) & (stop_times.trip_id.isin(todays_trips)) & (time_now <= stop_times.arrival_time)  ]\n",
    "arriving_soon"
   ]
  },
  {
   "cell_type": "code",
   "execution_count": null,
   "id": "e740ccd6-9a2a-455c-9793-3ed0147d9f7c",
   "metadata": {},
   "outputs": [],
   "source": [
    "# That's great, but we don't know where any of these trains or buses are going to ...\n",
    "# So, we start by joining this stop_time data with the trips data frame\n",
    "stops_with_trips = arriving_soon.join(trips, on='trip_id')\n",
    "stops_with_trips"
   ]
  },
  {
   "cell_type": "code",
   "execution_count": null,
   "id": "f03f0560-ced6-4f8b-8ae6-b8f4041558a4",
   "metadata": {},
   "outputs": [],
   "source": [
    "# We now have a trip_headsign column, which may help us determine where the bus or train is going\n",
    "# We also now have a route_id, but it's not particularly meaningful.\n",
    "# To get information about the route we need to join our stop_time and trip data with the route.txt data."
   ]
  },
  {
   "cell_type": "code",
   "execution_count": null,
   "id": "4af360ff-0e84-4142-9dcf-ea4dfdbc4fcd",
   "metadata": {},
   "outputs": [],
   "source": [
    "# Read routes.txt into a pandas data frame.\n",
    "# Set the route_id column as the index\n",
    "routes = pandas.read_csv('routes.txt', index_col = 0)"
   ]
  },
  {
   "cell_type": "code",
   "execution_count": null,
   "id": "d0d03630-11f0-4de5-983f-4b0c05808699",
   "metadata": {},
   "outputs": [],
   "source": [
    "# Join our stop_time and route data frame with the routes data frame based on the 'route_id' column\n",
    "\n",
    "full = arriving_soon.join(trips, on='trip_id').join(routes, on='route_id')\n",
    "full"
   ]
  },
  {
   "cell_type": "code",
   "execution_count": null,
   "id": "7c5be999-a1a9-4a1a-baa0-ce2f8960e1cd",
   "metadata": {},
   "outputs": [],
   "source": [
    "# Filter the output so that we only see the trip_id, arrival_time, route_short_name, route_long_name, trip_headsign\n",
    "show = full[['trip_id','arrival_time', 'route_short_name', 'route_long_name', 'trip_headsign']]\n",
    "show"
   ]
  },
  {
   "cell_type": "code",
   "execution_count": null,
   "id": "1f4d8549-b6fe-4510-ae7c-d09c207ab275",
   "metadata": {},
   "outputs": [],
   "source": [
    "# Lets select one of those trips to explore precisely where it goes ...\n",
    "our_trip_id = show.iloc[0,0]"
   ]
  },
  {
   "cell_type": "code",
   "execution_count": null,
   "id": "c529b6ba-6bee-4533-8e8e-1b86debcb7d8",
   "metadata": {},
   "outputs": [],
   "source": [
    "# Find all stop_times for our trip_id (do not restrict to our stop_id)\n",
    "\n",
    "my_stops = stop_times[stop_times.trip_id == our_trip_id]\n",
    "my_stops"
   ]
  },
  {
   "cell_type": "code",
   "execution_count": null,
   "id": "5b522579-e429-4620-baab-40e51d71e0ab",
   "metadata": {},
   "outputs": [],
   "source": [
    "# Unfortunately, these stop_ids don't mean anything to us,\n",
    "# so we need to join this data with the stops data frame\n",
    "# display only the arrival_time and stop_name\n",
    "my_stops.join(stops, on='stop_id')[['arrival_time', 'stop_name']]"
   ]
  },
  {
   "cell_type": "code",
   "execution_count": null,
   "id": "00d5032e-21f2-43d0-ae7b-fb3c41730fef",
   "metadata": {},
   "outputs": [],
   "source": [
    "# Will this get us towards the Brisbane CBD? If not, explore some other options."
   ]
  }
 ],
 "metadata": {
  "kernelspec": {
   "display_name": "Python 3 (ipykernel)",
   "language": "python",
   "name": "python3"
  },
  "language_info": {
   "codemirror_mode": {
    "name": "ipython",
    "version": 3
   },
   "file_extension": ".py",
   "mimetype": "text/x-python",
   "name": "python",
   "nbconvert_exporter": "python",
   "pygments_lexer": "ipython3",
   "version": "3.9.10"
  }
 },
 "nbformat": 4,
 "nbformat_minor": 5
}
