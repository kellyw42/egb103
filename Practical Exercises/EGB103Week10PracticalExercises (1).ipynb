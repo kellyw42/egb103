{
 "cells": [
  {
   "cell_type": "markdown",
   "id": "3c700fdc-4576-42ca-a8b5-cba057dce033",
   "metadata": {},
   "source": [
    "# Storing Values in Variables, Aliases and Copying"
   ]
  },
  {
   "cell_type": "code",
   "execution_count": null,
   "id": "bf68cf99-3c9f-4d98-a1d4-71a22c7b7bea",
   "metadata": {},
   "outputs": [],
   "source": [
    "# Consider the following code\n",
    "a = [1,2,3]\n",
    "b = [1,2,3]\n",
    "c = b"
   ]
  },
  {
   "cell_type": "code",
   "execution_count": null,
   "id": "47f822bb-ed5f-4e2b-a0d3-0cec906ff4d8",
   "metadata": {},
   "outputs": [],
   "source": [
    "# a and b are equal\n",
    "a == b"
   ]
  },
  {
   "cell_type": "code",
   "execution_count": null,
   "id": "b446862f-0145-4caf-9d16-24184fe70291",
   "metadata": {},
   "outputs": [],
   "source": [
    "# We can use the is test to determine if two variables refer to the same object, for example:\n",
    "a is b"
   ]
  },
  {
   "cell_type": "code",
   "execution_count": null,
   "id": "436f9b5a-a43d-4d05-bb6e-be9076b5f0f9",
   "metadata": {},
   "outputs": [],
   "source": [
    "# Use is to explore the relationships between a, b and c\n",
    "# which are the same object and which are different?"
   ]
  },
  {
   "cell_type": "code",
   "execution_count": null,
   "id": "42f19c67-64a0-47a7-b49e-f3405c0ba5c6",
   "metadata": {},
   "outputs": [],
   "source": [
    "# We can also use the id function to determine if two expressions refer to the same object, for example:\n",
    "id(a)"
   ]
  },
  {
   "cell_type": "code",
   "execution_count": null,
   "id": "5ab108ff-2718-455f-8f0e-c5888a43398c",
   "metadata": {},
   "outputs": [],
   "source": [
    "# What patterns can you see in the following examples?\n",
    "# Are there any surprises?"
   ]
  },
  {
   "cell_type": "code",
   "execution_count": null,
   "id": "2289ccb4-aa65-413e-8255-1ce3d26a5b65",
   "metadata": {},
   "outputs": [],
   "source": [
    "id(b)"
   ]
  },
  {
   "cell_type": "code",
   "execution_count": null,
   "id": "7db2cc1f-474d-4467-94bc-b4e30f819081",
   "metadata": {},
   "outputs": [],
   "source": [
    "id(c)"
   ]
  },
  {
   "cell_type": "code",
   "execution_count": null,
   "id": "c323d9e1-5fcd-41e7-8487-518b3f0ecf67",
   "metadata": {},
   "outputs": [],
   "source": [
    "id(2)"
   ]
  },
  {
   "cell_type": "code",
   "execution_count": null,
   "id": "804bb8fa-d2d4-4480-9ba3-26eea33b5898",
   "metadata": {},
   "outputs": [],
   "source": [
    "id(1+1)"
   ]
  },
  {
   "cell_type": "code",
   "execution_count": null,
   "id": "c649c535-b02f-481b-8229-0c6dd50a3672",
   "metadata": {},
   "outputs": [],
   "source": [
    "id(True)"
   ]
  },
  {
   "cell_type": "code",
   "execution_count": null,
   "id": "17b3ffeb-a971-4e21-a36e-4c56dcd3062c",
   "metadata": {},
   "outputs": [],
   "source": [
    "id(3 < 4)"
   ]
  },
  {
   "cell_type": "code",
   "execution_count": null,
   "id": "e3076314-9e82-4f81-ab19-9a594ea4568d",
   "metadata": {},
   "outputs": [],
   "source": [
    "id(99+1)"
   ]
  },
  {
   "cell_type": "code",
   "execution_count": null,
   "id": "8def074a-e548-4f75-ba8a-636ba03418eb",
   "metadata": {},
   "outputs": [],
   "source": [
    "id(100)"
   ]
  },
  {
   "cell_type": "code",
   "execution_count": null,
   "id": "d73f5d29-53e1-4ed8-a85a-3e893c3a624d",
   "metadata": {},
   "outputs": [],
   "source": [
    "id(101)"
   ]
  },
  {
   "cell_type": "code",
   "execution_count": null,
   "id": "1e67a149-1674-4cc7-9f81-8b28dff82d24",
   "metadata": {},
   "outputs": [],
   "source": [
    "id(100+1)"
   ]
  },
  {
   "cell_type": "code",
   "execution_count": null,
   "id": "bc9f47c5-1a51-44e5-9a41-143d5a09cedf",
   "metadata": {},
   "outputs": [],
   "source": [
    "x = \"fred\"\n",
    "y = a"
   ]
  },
  {
   "cell_type": "code",
   "execution_count": null,
   "id": "82a07b46-23f2-4165-8d2f-6e8dc4007341",
   "metadata": {},
   "outputs": [],
   "source": [
    "id(x)"
   ]
  },
  {
   "cell_type": "code",
   "execution_count": null,
   "id": "f210bb64-8831-4185-816e-0dc2ef207f3d",
   "metadata": {},
   "outputs": [],
   "source": [
    "# Use the id function to compare the identity of other expressions to further your understanding"
   ]
  },
  {
   "cell_type": "code",
   "execution_count": null,
   "id": "15573c22-e416-4b62-8239-859d32e6b3d5",
   "metadata": {},
   "outputs": [],
   "source": []
  },
  {
   "cell_type": "code",
   "execution_count": null,
   "id": "0d99779b-bc56-4e52-82c3-bb742f44403c",
   "metadata": {},
   "outputs": [],
   "source": [
    "import math\n",
    "\n",
    "def distance(p1, p2) :\n",
    "    return math.sqrt((p1[0]-p2[0])**2 + (p1[1]-p2[1])**2)\n",
    "\n",
    "def find_closest(start_point, remaining_points) :\n",
    "    closest_point = remaining_points[0]\n",
    "    for point in remaining_points[1:] :\n",
    "        if distance(start_point, point) < distance(start_point, closest_point) :\n",
    "            closest_point = point\n",
    "    return closest_point\n",
    "\n",
    "def best_path(points) :\n",
    "    current_point = points[0]\n",
    "    remaining_points = points\n",
    "    path = []\n",
    "    while remaining_points != [] :\n",
    "        current_point = find_closest(current_point, remaining_points)\n",
    "        path.append(current_point)\n",
    "        remaining_points.remove(current_point)\n",
    "    return path"
   ]
  },
  {
   "cell_type": "code",
   "execution_count": null,
   "id": "d8940baf-2a12-433e-a5e3-b058afb5be91",
   "metadata": {},
   "outputs": [],
   "source": [
    "delivery = [(1,1), (3,3), (2,2)]\n",
    "best_path(delivery) # should return [(1, 1), (2, 2), (3, 3)]"
   ]
  },
  {
   "cell_type": "code",
   "execution_count": null,
   "id": "0826e637-b3c7-4454-9471-14efa0af9e3a",
   "metadata": {},
   "outputs": [],
   "source": [
    "# Why does the previous test work, but not this one?\n",
    "best_path(delivery) == [(1, 1), (2, 2), (3, 3)]\n",
    "\n",
    "# Use the post-mortem debugger to help analyse why the program crashes"
   ]
  },
  {
   "cell_type": "code",
   "execution_count": null,
   "id": "2e42f0bf-5a1f-40f9-b38b-d6580647b572",
   "metadata": {},
   "outputs": [],
   "source": [
    "# How does list aliasing vs copying explain and fix the above problem?\n"
   ]
  },
  {
   "cell_type": "markdown",
   "id": "90cc02e7-34f8-4497-90dc-b2db7d6a22d4",
   "metadata": {},
   "source": [
    "# Introduction to Object-Oriented Programming"
   ]
  },
  {
   "cell_type": "code",
   "execution_count": null,
   "id": "589d78a1-3fb8-400e-9988-7234c5b1c905",
   "metadata": {},
   "outputs": [],
   "source": [
    "from datetime import datetime\n",
    "\n",
    "# Create a class called StopWatch with methods start, stop and display to print the number of seconds elapsed between start and stop.\n",
    "# Hint: use datetime.now() to get the current time\n",
    "\n",
    "class StopWatch :\n",
    "    \n",
    "    def start(self) :\n",
    "        # insert code here\n",
    "        \n",
    "    def stop(self) :\n",
    "        # insert code here\n",
    "        \n",
    "    def display(self) :\n",
    "        # insert code here"
   ]
  },
  {
   "cell_type": "code",
   "execution_count": null,
   "id": "2ad6997a-6f7d-41b1-a817-e5e20f306e39",
   "metadata": {},
   "outputs": [],
   "source": [
    "# testing code\n",
    "stop_watch1 = StopWatch()\n",
    "stop_watch1.start()"
   ]
  },
  {
   "cell_type": "code",
   "execution_count": null,
   "id": "6d8ee104-7dfe-4539-a6a5-9e5dfe81e7b9",
   "metadata": {},
   "outputs": [],
   "source": [
    "stop_watch1.stop()\n",
    "stop_watch1.display() # should display the elapsed time in seconds, for example 29.566145"
   ]
  },
  {
   "cell_type": "markdown",
   "id": "aa887391-6ed5-4ea4-be38-780e443bac2f",
   "metadata": {},
   "source": [
    "# Sorting and Algorithms"
   ]
  },
  {
   "cell_type": "code",
   "execution_count": null,
   "id": "ed7ee276-ad5f-4e5d-bb8d-9f817a279940",
   "metadata": {},
   "outputs": [],
   "source": [
    "# Write a function that will swap the i-th element with the j-th element in a list\n",
    "def swap(list, i, j) :\n",
    "    # insert code here"
   ]
  },
  {
   "cell_type": "code",
   "execution_count": null,
   "id": "92a51f12-affd-4f5b-80af-db7f7260193d",
   "metadata": {},
   "outputs": [],
   "source": [
    "# test case\n",
    "my_list = [5,3,9,2,4,3,7]\n",
    "swap(my_list, 2, 5)\n",
    "print(my_list) # should display [5, 3, 3, 2, 4, 9, 7]"
   ]
  },
  {
   "cell_type": "code",
   "execution_count": null,
   "id": "0ebdc60e-7db2-43ab-8d27-58b726fc9ed9",
   "metadata": {},
   "outputs": [],
   "source": [
    "# Implement the Bubble sort algorithm described in the Week 10 lecture\n",
    "# - Compare successive elements and swap them if they are in the wrong order\n",
    "# - Keep iterating until there are no swaps performed in a completed sweep\n",
    "\n",
    "def bubble_sort(list) :\n",
    "    # insert code here"
   ]
  },
  {
   "cell_type": "code",
   "execution_count": null,
   "id": "93a2c32c-1318-4f8e-bcc6-d0a4341eddf6",
   "metadata": {},
   "outputs": [],
   "source": [
    "my_list = [5,3,9,2,4,3,7]\n",
    "bubble_sort(my_list)\n",
    "print(my_list) # should output [2, 3, 3, 4, 5, 7, 9]"
   ]
  }
 ],
 "metadata": {
  "kernelspec": {
   "display_name": "Python 3 (ipykernel)",
   "language": "python",
   "name": "python3"
  },
  "language_info": {
   "codemirror_mode": {
    "name": "ipython",
    "version": 3
   },
   "file_extension": ".py",
   "mimetype": "text/x-python",
   "name": "python",
   "nbconvert_exporter": "python",
   "pygments_lexer": "ipython3",
   "version": "3.9.10"
  }
 },
 "nbformat": 4,
 "nbformat_minor": 5
}
