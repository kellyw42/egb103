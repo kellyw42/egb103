{
 "cells": [
  {
   "cell_type": "markdown",
   "id": "1dcaabca",
   "metadata": {},
   "source": [
    "# Topic: Assignment and Functions\n",
    "\n",
    "## Python Concepts: \n",
    "* Variables\n",
    "* Assignment Statements\n",
    "* Defining new functions\n",
    "* Returning value from function\n",
    "* Parameters and arguments\n",
    "\n",
    "### Keywords\n",
    "* <code>def</code>\n",
    "* <code>return</code>"
   ]
  },
  {
   "cell_type": "markdown",
   "id": "7e069b29",
   "metadata": {},
   "source": [
    "## EXERCISES:    \n",
    "\n",
    "### Variables and Assignment\n",
    "&nbsp;&nbsp;&nbsp;&nbsp;Average Speed\n",
    "<br/>\n",
    "&nbsp;&nbsp;&nbsp;&nbsp;Earth vs Moon\n",
    "<br/>\n",
    "&nbsp;&nbsp;&nbsp;&nbsp;Microcentury\n",
    "\n",
    "### Code Tracing\n",
    "### User Defined Functions\n",
    "&nbsp;&nbsp;&nbsp;&nbsp;Hot Air Balloon\n",
    "<br/>\n",
    "&nbsp;&nbsp;&nbsp;&nbsp;Traffic - Safety\n",
    "<br/>\n",
    "&nbsp;&nbsp;&nbsp;&nbsp;Distance Travelled\n",
    "<br/>\n",
    "&nbsp;&nbsp;&nbsp;&nbsp;Difference in Distance Travelled\n",
    "<br/>\n",
    "&nbsp;&nbsp;&nbsp;&nbsp;Road Curvature Design\n",
    "### Function Call Control Flow"
   ]
  },
  {
   "cell_type": "markdown",
   "id": "1c615356-abd7-448d-b17a-923755a482cd",
   "metadata": {},
   "source": [
    "<a name=\"variables\"></a>\n",
    "<hr/>\n",
    "\n",
    "# Variables and Assignment"
   ]
  },
  {
   "cell_type": "markdown",
   "id": "49377f7c-186f-4d49-b798-3085891f8dc9",
   "metadata": {
    "tags": []
   },
   "source": [
    "<a name=\"average_speed\">\n",
    "<b>Average Speed</b></a>"
   ]
  },
  {
   "cell_type": "code",
   "execution_count": 2,
   "id": "f37616e8-0d13-4677-9909-647f3a6ccadf",
   "metadata": {},
   "outputs": [
    {
     "data": {
      "text/plain": [
       "24.0"
      ]
     },
     "execution_count": 2,
     "metadata": {},
     "output_type": "execute_result"
    }
   ],
   "source": [
    "# Author: Colin Fidge 2021\n",
    "# Imagine that you get on your bicycle and travel from\n",
    "# your home to QUT at 30 km/hr.  After a hard day's\n",
    "# study you cycle home again more slowly at 20 km/hr.\n",
    "#\n",
    "# Quickly now, what is your average speed for the whole\n",
    "# round trip?  Be careful - most people get this\n",
    "# wrong!  (Thanks to Professor Julius Sumner Miller for\n",
    "# this brainteaser.)\n",
    "#\n",
    "# To check the correct answer, complete the code below.\n",
    "# We have chosen an arbitrary distance of 6 km between\n",
    "# your house and the university but the result is the\n",
    "# same regardless of the distance.\n",
    "\n",
    "# Given values:\n",
    "distance_from_home_to_uni = 6 # km\n",
    "speed_from_home_to_uni = 30 # km/hr\n",
    "speed_from_uni_to_home = 20 # km/hr\n",
    "\n",
    "# Complete the following code by replacing the question marks:\n",
    "\n",
    "time_to_get_to_uni = distance_from_home_to_uni / speed_from_home_to_uni # hours\n",
    "\n",
    "time_to_get_home = distance_from_home_to_uni / speed_from_uni_to_home # hours\n",
    "\n",
    "total_travelling_time = time_to_get_to_uni + time_to_get_home # hours\n",
    "\n",
    "total_distance_travelled = distance_from_home_to_uni * 2 # km\n",
    "\n",
    "speed_for_round_trip = total_distance_travelled / total_travelling_time # km/hr\n",
    "\n",
    "speed_for_round_trip"
   ]
  },
  {
   "cell_type": "markdown",
   "id": "63175083-14fe-46e5-aad4-f51683a3267e",
   "metadata": {},
   "source": [
    "<a name=\"earth_v_moon\"></a>\n",
    "<b>Earth vs Moon</b>"
   ]
  },
  {
   "cell_type": "code",
   "execution_count": null,
   "id": "899e5891-05f4-412b-a943-64135ff38ad4",
   "metadata": {},
   "outputs": [],
   "source": [
    "# Which has more dry land, the earth or the moon?\n",
    "# [Quiz question from Time magazine]\n",
    "# Author: Colin Fidge (2021)\n",
    "\n",
    "# Complete the following code by replacing the question marks:\n",
    "\n",
    "import math\n",
    "\n",
    "# First calculate the amount of dry land on the earth\n",
    "\n",
    "# The surface area of the earth is 5.1 x 10^8 sq km\n",
    "earths_surface_area = 5.1E8 # sq km\n",
    "\n",
    "# 71% of the earth's surface is covered in water.\n",
    "earths_water_area = earths_surface_area * 0.71\n",
    "\n",
    "earths_dry_land = earths_surface_area - earths_water_area\n",
    "\n",
    "# Now calculate the moon's surface area\n",
    "# NB: There is no water on the moon!\n",
    "# Remember that the surface area of a sphere is\n",
    "# 4 times pi times r squared\n",
    "\n",
    "# The diameter of the moon is 3,475 km\n",
    "moons_radius = 3475 / 2 # km\n",
    "\n",
    "# Change the following expression to calculate the moons dry land\n",
    "# using the variable moons_radius\n",
    "# Answer is: 37936694 \n",
    "\n",
    "moons_dry_land = 4 * math.pi * moons_radius ** 2\n",
    "\n",
    "# Which has more dry land, the earth or the moon?\n",
    "\n",
    "print(moons_dry_land, earths_dry_land)"
   ]
  },
  {
   "cell_type": "markdown",
   "id": "6639c9fc-53b4-4e92-9404-9f4261ae2d3b",
   "metadata": {
    "tags": []
   },
   "source": [
    "<a name=\"microcentury\"></a>\n",
    "<b>Microcentury</b>"
   ]
  },
  {
   "cell_type": "code",
   "execution_count": null,
   "id": "f30b34c8-7c7b-4d73-a86c-4108c8ce266c",
   "metadata": {},
   "outputs": [],
   "source": [
    "# When asked how long his lectures were, Professor\n",
    "# Julius Sumner Miller usually answered \"about a\n",
    "# microcentury.\"  As an arithmetic exercise\n",
    "# we can find out how many minutes in a microcentury\n",
    "# by multiplying the minutes in an hour x hours in a day x\n",
    "# days in a year x years in a century\n",
    "# then dividing by 1 million (\"micro\" means one millionth).\n",
    "\n",
    "# Some of the values are familiar to us without much thought:\n",
    "minutes_per_hour = 60\n",
    "hours_per_day = 24\n",
    "days_per_year = 365 # ish\n",
    "years_per_century = 100\n",
    "\n",
    "# But others require a bit of calculation.\n",
    "# For each of the remaining variables, change the question marks \n",
    "# to an appropriate expression that uses the variables\n",
    "# above, and no numeric literals\n",
    "\n",
    "minutes_per_day = minutes_per_hour * hours_per_day\n",
    "minutes_per_century = minutes_per_day * days_per_year * years_per_century\n",
    "microcentury = minutes_per_century / 1000000\n",
    "\n",
    "microcentury"
   ]
  },
  {
   "cell_type": "markdown",
   "id": "a9f80050-c6a5-4abb-a2f7-e8e61bcf2bff",
   "metadata": {},
   "source": [
    "<a name=\"tracing\"></a>\n",
    "<hr/>\n",
    "\n",
    "# Code Tracing"
   ]
  },
  {
   "cell_type": "code",
   "execution_count": 16,
   "id": "8fbade2b-a9c6-4032-82e6-7dfb0eb3cb0d",
   "metadata": {
    "tags": []
   },
   "outputs": [
    {
     "name": "stdout",
     "output_type": "stream",
     "text": [
      "3489.48 2452.04\n"
     ]
    }
   ],
   "source": [
    "# Now trace the following code with a Trace Table.\n",
    "# You will need a piece of paper with some columns for each variable.\n",
    "# Check that the final value for each variable is the same as that\n",
    "# produced by the Python code\n",
    "\n",
    "# Scenario:\n",
    "# Savings account attracts no fees for deposits or withdrawals.\n",
    "# The Bank charges a fee of 1% per credit card transaction!\n",
    "# Credit charge calculations are rounded to two decimal places\n",
    "\n",
    "# opening balance of two bank accounts\n",
    "savings_account = 1535.0 # credit\n",
    "credit_account = 2997.56  # available credit \n",
    "\n",
    "# Some transactions on those accounts\n",
    "# Deposit salary into savings acccount\n",
    "salary = 2500\n",
    "savings_account += salary # shortform of: savings_account = savings_account + salary\n",
    "\n",
    "# Pay a bill using the credit account\n",
    "rego_fees = 540.12\n",
    "credit_charge = round(rego_fees * .01, 2)\n",
    "credit_account = credit_account - (rego_fees + credit_charge)\n",
    "\n",
    "# Transfer from savings to cover rego payment and charges\n",
    "savings_account -= rego_fees + credit_charge # shortform of: savings_account = savings_account - (rego_fees + credit_charge)\n",
    "\n",
    "print(savings_account, credit_account)"
   ]
  },
  {
   "cell_type": "markdown",
   "id": "c362988c-c197-4657-9826-896b76e53008",
   "metadata": {},
   "source": [
    "<table>\n",
    "<tr><td><td></td></td><td><td>savings_account</td></td><td><td>credit_account</td></td><td><td>salary</td></td><td><td>rego_fees</td></td><td><td>credit_charge</td></td></tr>\n",
    "<tr><td><td>savings_account = 1535.0</td></td><td><td>1535</td></td><td><td></td></td><td><td></td></td><td><td></td></td><td><td></td></td></tr>\n",
    "<tr><td><td>credit_account = 2997.56</td></td><td><td>1535</td></td><td><td>2997.56</td></td><td><td></td></td><td><td></td></td><td><td></td></td></tr>\n",
    "<tr><td><td>salary = 2500</td></td><td><td>1535</td></td><td><td>2997.56</td></td><td><td>2500</td></td><td><td></td></td><td><td></td></td></tr>\n",
    "<tr><td><td>savings_account += salary</td></td><td><td>4035</td></td><td><td>2997.56</td></td><td><td>2500</td></td><td><td></td></td><td><td></td></td></tr>\n",
    "<tr><td><td>rego_fees = 540.12</td></td><td><td>4035</td></td><td><td>2997.56</td></td><td><td>2500</td></td><td><td>540.12</td></td><td><td></td></td></tr>\n",
    "<tr><td><td>credit_charge = round(rego_fees * .01, 2)</td></td><td><td>4035</td></td><td><td>2997.56</td></td><td><td>2500</td></td><td><td>540.12</td></td><td><td>5.40</td></td></tr>\n",
    "<tr><td><td>credit_account = credit_account - (rego_fees + credit_charge)</td></td><td><td>4035</td></td><td><td>2452.04</td></td><td><td>2500</td></td><td><td>540.12</td></td><td><td>5.40</td></td></tr>\n",
    "<tr><td><td>savings_account -= rego_fees + credit_charge</td></td><td><td>3489.48</td></td><td><td>2452.04</td></td><td><td>2500</td></td><td><td>540.12</td></td><td><td>5.40</td></td></tr>\n",
    "</table>"
   ]
  },
  {
   "cell_type": "markdown",
   "id": "6d598c74-fd2c-478d-918c-6a70f7625d4e",
   "metadata": {},
   "source": [
    "<div style=\"background-color:pink\">\n",
    "Now trace the above code using the Jupyter Debugger.\n",
    "</div>"
   ]
  },
  {
   "cell_type": "markdown",
   "id": "4dc328ba-d63b-4672-a7db-547b6a126885",
   "metadata": {},
   "source": [
    "# User Defined Functions"
   ]
  },
  {
   "cell_type": "markdown",
   "id": "0afa0c57-c55d-4123-a917-c7fe3ff4928c",
   "metadata": {},
   "source": [
    "\n",
    "<a name=\"hot_air_balloon\"><b>Hot Air Balloon\n",
    "    </b></a>"
   ]
  },
  {
   "cell_type": "code",
   "execution_count": null,
   "id": "8f4d8c19-4209-4ad7-8d7a-770f36211e53",
   "metadata": {},
   "outputs": [],
   "source": [
    "# Write a function to calculate the maximum weight a hot air balloon of\n",
    "# negligible mass can carry given:\n",
    "# a radius (in metres) and the outside and inside air densities\n",
    "\n",
    "# Use the Buoyancy force equation:\n",
    "#     F = ρV g\n",
    "# where:\n",
    "#    F is the Buoyancy force\n",
    "#    ρ is the density difference\n",
    "#    V is the displaced volume (4/3 πr^3) and \n",
    "#    g is the local gravitational constant (normally assumed to be equal to 9.81).\n",
    "\n",
    "# Using Newton’s third law; we find that the maximum weight it could carry\n",
    "# equals the lifting force of the balloon. Therefore: F_max = ρV g\n",
    "\n",
    "def hot_air_balloon_capacity(radius, outside_density, inside_density) :\n",
    "    V = 4/3 * math.pi * radius ** 3\n",
    "    g = 9.81\n",
    "    F = (outside_density - inside_density) * V * g\n",
    "    return F\n",
    "\n",
    "# Test 1 - outside air density is 1.2 kg.m^-3; inside helium is 0.2 kg.m^-3\n",
    "hot_air_balloon_capacity(10, 1.2, 0.2) \n",
    "# should return 41092.03190895449"
   ]
  },
  {
   "cell_type": "code",
   "execution_count": null,
   "id": "61b382b9-0f28-4cb4-855d-15881ce4142b",
   "metadata": {},
   "outputs": [],
   "source": [
    "# Test 2 - outside air density is 1.2 kg.m^-3; inside hydrogen is 0.0899 kg.m^-3\n",
    "hot_air_balloon_capacity(10, 1.2, 0.0899)\n",
    "# should return 45616.264622130366"
   ]
  },
  {
   "cell_type": "markdown",
   "id": "700faf57-d96a-44f5-878d-b22e48642744",
   "metadata": {},
   "source": [
    "<a name=\"transport_safety\"><a>\n",
    "## Transport - Safety\n"
   ]
  },
  {
   "cell_type": "markdown",
   "id": "28ba873b-fb02-4045-bd4a-dedced6d4968",
   "metadata": {},
   "source": [
    "Formulas:\n",
    "    <ul><li>distance travelled = $\\frac{5}{18} sr$\n",
    "    </li>\n",
    "    </ul>\n",
    "Where:\n",
    "* s = speed\n",
    "* r = reaction time\n",
    "\n",
    "<hr>"
   ]
  },
  {
   "cell_type": "markdown",
   "id": "b3cbe86d-eaaa-4226-ad98-372434bc5afd",
   "metadata": {},
   "source": [
    "\n",
    "<a name=\"distance_travelled\"><b>Distance Travelled</b></a>"
   ]
  },
  {
   "cell_type": "code",
   "execution_count": null,
   "id": "62bedfb6-5e08-4103-9ce1-dc1ddfe12290",
   "metadata": {},
   "outputs": [],
   "source": [
    "# Time taken by a driver of a vehicle to react to a situation is termed as \n",
    "# drivers’ reaction time. \n",
    "\n",
    "# Define a function to estimate the distance (in metres)\n",
    "# travelled by the vehicle before driver initiates \n",
    "# a physical response to a situation (such as commence breaking).\n",
    "def distance_travelled(speed, reaction_time):\n",
    "    return  (5/18) * speed * reaction_time\n",
    "    \n",
    "distance_travelled(100, 1.2)\n",
    "# should return 33.333333333333336"
   ]
  },
  {
   "cell_type": "markdown",
   "id": "cb096fc1-a21b-434f-9785-9420872288ce",
   "metadata": {},
   "source": [
    "\n",
    "<a name=\"distance_travelled_difference\"><b>Difference in Distance Travelled\n",
    "    </b></a>"
   ]
  },
  {
   "cell_type": "code",
   "execution_count": null,
   "id": "5a818b89-2a97-46a6-85d5-8b69fda433ad",
   "metadata": {},
   "outputs": [],
   "source": [
    "# Driving under the influence of alcohol has a significant impact on drivers’ driving ability.\n",
    "# Say a driver has a normal reaction time of 1.2 seconds and his/her reaction time\n",
    "# increases to 5 seconds for driving under the influence of alcohol. \n",
    "# A driver is diving at a speed of 100 km/hr and is unfortunately under the influence \n",
    "# of alcohol. Compared to a normal situation, how much extra the vehicle will move \n",
    "# before driver initiates a physical response to the situation?\n",
    "\n",
    "# Use the distance_travelled function again to find the difference.\n",
    "distance_travelled(100, 5) - distance_travelled(100, 1.2)"
   ]
  },
  {
   "cell_type": "markdown",
   "id": "a2f04b62-9100-4319-95ab-a6d9186e7034",
   "metadata": {},
   "source": [
    "<hr>\n",
    "<a name=\"road_curvature\"><b>Road Curvature Design\n",
    "    </b></a>"
   ]
  },
  {
   "cell_type": "markdown",
   "id": "5fa9448d-441f-498a-aed4-d611a4c93b68",
   "metadata": {},
   "source": [
    "minimum radius of curvature: $R = \\frac{S^2}{127 . (f + e)}$\n",
    "where:\n",
    "* R = minimum radiusc of curvature in meters\n",
    "* S = speed in km/hr\n",
    "* f = coefficient of side friction on the road \n",
    "* e = superelevation expressed as a decimal\n"
   ]
  },
  {
   "cell_type": "code",
   "execution_count": null,
   "id": "5c79d8f8-07b7-4dcc-9882-5a11cd5bd780",
   "metadata": {},
   "outputs": [],
   "source": [
    "# Roads are not perfectly straight and do have curves in the horizontal plane. \n",
    "# For safe driving, the horizontal curvature of the road should have minimum radius \n",
    "# (termed as minimum radius of curvature) and it is expressed as the equation shown above.\n",
    "            \n",
    "# Write a Python function to estimate R, given S, f and e.\n",
    "\n",
    "def radius_of_curvature(speed, friction, superelevation):\n",
    "    return (speed ** 2) / (127 * (friction + superelevation)) \n",
    "\n",
    "radius_of_curvature(80, 0.14, 0.08) \n",
    "# should return 229.06227630637076"
   ]
  },
  {
   "cell_type": "markdown",
   "id": "19b86124-4339-455f-ab30-897bca60d70d",
   "metadata": {
    "tags": []
   },
   "source": [
    "<a name=\"trace_back\"></a>\n",
    "<hr/>\n",
    "\n",
    "# Function Call Control Flow\n"
   ]
  },
  {
   "cell_type": "code",
   "execution_count": null,
   "id": "5dec66fb-959d-44e7-a8e6-ecd70d25a22e",
   "metadata": {},
   "outputs": [],
   "source": [
    "# This exercise is designed to illustrate the order and flow of execution\n",
    "# of Python code that involves function calls.  The code below\n",
    "# calculates the number of carpet tiles required to completely\n",
    "# cover a floor in a building. However, it contains a logical error... \n",
    "\n",
    "import math\n",
    "\n",
    "def get_tiles_in_one_direction(overall_length, tile_length):\n",
    "    return math.ceil(overall_length / tile_length)\n",
    "\n",
    "# Given the dimensions of a room and the size of a single carpet tile,\n",
    "# calculate the number of tiles required to cover the entire room (assuming\n",
    "# no space is required between the tiles).\n",
    "def get_tiles_required(room_width, room_length, tile_size):\n",
    "    return get_tiles_in_one_direction(room_width, tile_size) * get_tiles_in_one_direction(room_length, tile_size)\n",
    "\n",
    "# Here are the dimensions of the room and tiles\n",
    "room_width =  5.1\n",
    "room_length = 3.3\n",
    "tile_size = 0.9\n",
    "\n",
    "# Calculate and display the number of tiles required to completely\n",
    "# cover the floor\n",
    "get_tiles_required(room_width, room_length, tile_size)\n",
    "\n",
    "# As you will see when you execute this code, it generates a runtime error.  \n",
    "\n",
    "# Looking at the code, list the function calls in the order they would be made by Python.\n",
    "\n",
    "# Now look at the traceback information that is displayed below after you run the code.\n",
    "# It is obvious that an error has occurred because the output is highlighted in a striking colour!\n",
    "# The traceback indicates the flow of control from top to bottom - that is, the last --->\n",
    "# that you see in the traceback indicates the line of code where the exception (error) is generated,\n",
    "# and the previous ---> in the traceback is the call that is made prior to that.\n",
    "\n",
    "# You may also use the debugger and/or the post morteim debugger to help diagnose the problem if necessary.\n",
    "\n",
    "# Now rectify the code where the error originated by removing an unnecessary and illogical, but aptly named function call."
   ]
  },
  {
   "cell_type": "code",
   "execution_count": null,
   "id": "dba97556-1667-48d2-80fc-5cb7a765fe4c",
   "metadata": {},
   "outputs": [],
   "source": []
  }
 ],
 "metadata": {
  "kernelspec": {
   "display_name": "Python 3 (ipykernel)",
   "language": "python",
   "name": "python3"
  },
  "language_info": {
   "codemirror_mode": {
    "name": "ipython",
    "version": 3
   },
   "file_extension": ".py",
   "mimetype": "text/x-python",
   "name": "python",
   "nbconvert_exporter": "python",
   "pygments_lexer": "ipython3",
   "version": "3.9.10"
  }
 },
 "nbformat": 4,
 "nbformat_minor": 5
}
