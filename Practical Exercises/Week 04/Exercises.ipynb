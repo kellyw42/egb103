{
 "cells": [
  {
   "cell_type": "markdown",
   "id": "26748d80",
   "metadata": {
    "tags": []
   },
   "source": [
    "\n",
    "\n",
    "# Topic: Lists and FOR loops\n",
    "\n",
    "## Python Concepts: \n",
    "* creating lists\n",
    "* add to/delete from list\n",
    "* indexing\n",
    "* sorting\n",
    "* slicing\n",
    "* repetition and iteration\n",
    "* raising exceptions\n",
    "* filtering\n",
    "* mapping\n",
    "\n",
    "### Keywords\n",
    "* <code>for</code>\n",
    "* <code>in</code>\n",
    "* <code>raise</code>\n",
    "\n",
    "### Data Types\n",
    "* <code>list</code>\n",
    "\n",
    "### Built-In functions:\n",
    "* <code>len</code>\n",
    "* <code>sorted</code>\n",
    "* <code>min</code>\n",
    "* <code>max</code>\n",
    "* <code>type</code>\n",
    "\n",
    "### Methods:\n",
    "* <code><i>list</i>.append</code>\n",
    "* <code><i>list</i>.insert</code>\n",
    "* <code><i>list</i>.index</code>\n",
    "* <code><i>list</i>.sort</code>\n",
    "\n",
    "<hr>"
   ]
  },
  {
   "cell_type": "markdown",
   "id": "7bf8d4f9",
   "metadata": {},
   "source": [
    "<u><b>EXERCISES:</b></u>\n",
    "    <br>\n",
    "[Lists](#lists)<br>\n",
    "> [Temperature Records](#temp_records)\n",
    "    <br>\n",
    "  [Humidity Readings](#humidity_readings)\n",
    "\n",
    "\n",
    "[FOR loops](#for_loops)<br>\n",
    "> [Find Maximum Number](#find_maximum)\n",
    "    <br>\n",
    "  [Does List Contain](#does_list_contain)\n",
    "    <br>\n",
    "  [Out of Range?](#out_of_range)\n",
    "    <br>\n",
    "  [Filter Out of Range](#filter_out_of_range_break)\n",
    "    <br>\n",
    "  [a: In Range?](#in_range_break)\n",
    "    <br>\n",
    "  [Map Sum](#map_sum)\n",
    "\n",
    "<hr>"
   ]
  },
  {
   "cell_type": "markdown",
   "id": "7ba3c611-a4b5-4d7a-b47c-01912ec58b1e",
   "metadata": {},
   "source": [
    "<a name=\"lists\"></a>\n",
    "# Lists"
   ]
  },
  {
   "cell_type": "markdown",
   "id": "7f3d4772-7e2e-4783-8b66-2ae604de56a5",
   "metadata": {},
   "source": [
    "<hr>\n",
    "<a name=\"temp_records\"></a>\n",
    "<b>Q: Temperature Records</b>"
   ]
  },
  {
   "cell_type": "code",
   "execution_count": null,
   "id": "ba2c91fe-eb64-4caa-86c5-c7e3e0b5acb9",
   "metadata": {},
   "outputs": [],
   "source": [
    "# This exercise involves using a Python list to store data temporarily.\n",
    "# Imagine being involved in air quality control and needing to \n",
    "# keep track of temperatures over a certain period of time.\n",
    "# Create a Python list, initially empty, to store those values.\n",
    "\n",
    "# ADD YOUR CODE HERE"
   ]
  },
  {
   "cell_type": "code",
   "execution_count": null,
   "id": "c92a489c-9aa7-4ed4-b055-19c810d84716",
   "metadata": {},
   "outputs": [],
   "source": [
    "# ------------------------------------------------------------------------\n",
    "# You have determined that the current temperature is 10.1 degrees Celsius,\n",
    "# so now add that value to the Python list.\n",
    "# Hint:\n",
    "# * the built-in method:\n",
    "#       append\n",
    "#   will add one value to the list.  That first value will then be stored\n",
    "#   at position/index 0 of the list.\n",
    "\n",
    "# ADD YOUR CODE HERE"
   ]
  },
  {
   "cell_type": "code",
   "execution_count": null,
   "id": "ff0556ac-7680-49c0-8015-3b12d9e8124b",
   "metadata": {},
   "outputs": [],
   "source": [
    "# ------------------------------------------------------------------------\n",
    "# Print out that one temperature (not the entire list) by indexing into the list at position/index 0\n",
    "\n",
    "# ADD YOUR CODE HERE"
   ]
  },
  {
   "cell_type": "code",
   "execution_count": null,
   "id": "4f0afde9-c3b3-4775-b4d5-ef301b0ed5c9",
   "metadata": {},
   "outputs": [],
   "source": [
    "# ------------------------------------------------------------------------\n",
    "# Now add these 9 temperature readings in the same way:\n",
    "#   11.0, 10.5, 10.2, 10.8, 100.6, 10.8, 10.5, 9.5, 8.3\n",
    "\n",
    "# ADD YOUR CODE HERE\n",
    "\n",
    "# Then print the value of your list to confirm that it now contains the following values:\n",
    "#     [10.1, 11.0, 10.5, 10.2, 10.8, 100.6, 10.8, 10.5, 9.5, 8.3]"
   ]
  },
  {
   "cell_type": "code",
   "execution_count": null,
   "id": "065291d3-add0-44b3-a91f-0429aa8219ef",
   "metadata": {},
   "outputs": [],
   "source": [
    "# ------------------------------------------------------------------------\n",
    "# A false reading has been identified which you now need to change.\n",
    "# Instead of 100.6, the temperature should have been 10.6.\n",
    "# Make that change to the 6th value in the list.\n",
    "\n",
    "# ADD YOUR CODE HERE\n",
    "\n",
    "# Then print the value of your list to confirm that it now contains the following values:\n",
    "#     [10.1, 11.0, 10.5, 10.2, 10.8, 10.6, 10.8, 10.5, 9.5, 8.3]"
   ]
  },
  {
   "cell_type": "code",
   "execution_count": null,
   "id": "c9798294-bd9c-487a-b1e8-308742a9ec83",
   "metadata": {},
   "outputs": [],
   "source": [
    "# ------------------------------------------------------------------------\n",
    "# You now realise that the very first temperature reading has been missed in error.  \n",
    "# Insert the temperature 9.5 as the first value in the list.\n",
    "# Hint:\n",
    "# * use the method:\n",
    "#       insert\n",
    "#   to insert a value before a given index/position\n",
    "\n",
    "# ADD YOUR CODE HERE"
   ]
  },
  {
   "cell_type": "code",
   "execution_count": null,
   "id": "30bc4766-83b7-4658-a7ca-376979e6edd7",
   "metadata": {},
   "outputs": [],
   "source": [
    "# ------------------------------------------------------------------------\n",
    "# Confirm that there are now 11 values in the list and that the value 9.5 is the first one.\n",
    "# Hint:\n",
    "# * use the function:\n",
    "#      len\n",
    "#   to determine how many values in the list\n",
    "\n",
    "# ADD YOUR CODE HERE"
   ]
  },
  {
   "cell_type": "code",
   "execution_count": null,
   "id": "7160361d-b140-45f8-80cc-ebf9050a2788",
   "metadata": {},
   "outputs": [],
   "source": [
    "# ------------------------------------------------------------------------\n",
    "# Apparently your method of gathering the temperatures is less than perfect\n",
    "# and it appears that the temperature 10.5 has only really occurred once, but\n",
    "# has nonetheless been recorded twice in your records.  \n",
    "# Programmatically find the second occurrence of this value and remove it from the list.\n",
    "# Hint: \n",
    "# * use the method:\n",
    "#      index\n",
    "#   (use the help function to learn about the index method of your list)\n",
    "#   to find the index of the first occurrence of that value in the list.\n",
    "#   Then use that method again with an additional argument to indicate where to start searching\n",
    "#   for the second occurrence. Remove that second occurrence from the list with the pop method.\n",
    "#   (use the help function to learn about the pop method of your list)\n",
    "\n",
    "# ADD YOUR CODE HERE\n",
    "\n",
    "# Confirm the list will then have the following values:\n",
    "#   [9.5, 10.1, 11.0, 10.5, 10.2, 10.8, 10.6, 10.8, 9.5, 8.3]"
   ]
  },
  {
   "cell_type": "markdown",
   "id": "1b5ab69c-994a-4979-8094-ce21df95040f",
   "metadata": {},
   "source": [
    "<hr>\n",
    "<a name=\"humidity_readings\"></a>\n",
    "<b>Q: Humidity Readings</b>"
   ]
  },
  {
   "cell_type": "code",
   "execution_count": null,
   "id": "876bb7c9-ca83-40d9-8109-e5c8031f31ad",
   "metadata": {},
   "outputs": [],
   "source": [
    "# There is a Python list containing values representing\n",
    "# relative humidity readings that form part of an Air Quality Time Series\n",
    "# (Source: https://www.kaggle.com/aayushkandpal/air-quality-time-series-data-uci)\n",
    "\n",
    "relative_humidities = [48.9, 47.7, 54.0, 60.0, 59.6, 59.2, 56.8, 60.0, 59.7, 60.2, \n",
    "                       60.5, 56.2, 58.1, 59.6, 57.4, 60.6, 58.4, 57.9, 66.8, 76.4, \n",
    "                       81.1, 79.8, 71.2, 67.6, 64.2, 69.3, 67.8, 64.0, 63.4, 60.8,\n",
    "                       58.5, 59.7, 61.8, 62.3, 65.9, 65.0, 62.9, 65.1, 63.1, 56.2]\n",
    "\n",
    "# ------------------------------------------------------------------------\n",
    "# Find the smallest and largest values in the list\n",
    "# Hints:\n",
    "# * use method:\n",
    "#     min\n",
    "#   and\n",
    "#     max\n",
    "#   or alternatively use the sort method to create a sorted list of items, \n",
    "#   then extract the first and last values.\n",
    "# * the last value in a sequence can be referred to with position/index -1\n",
    "#   or by using the index value of one less than the length of the list.\n",
    "\n",
    "# ADD YOUR CODE HERE"
   ]
  },
  {
   "cell_type": "code",
   "execution_count": null,
   "id": "ee6bfc61-4f76-4346-b104-3283f068a6a9",
   "metadata": {},
   "outputs": [],
   "source": [
    "# ------------------------------------------------------------------------\n",
    "# Print out the smallest three and the largest three values in the list\n",
    "# Hints:\n",
    "# * use the function sorted to create a sorted list of items, then slice it to extract the first three values.\n",
    "# * or, use the list method sort to sort 'in place' the list of values.\n",
    "\n",
    "# ADD YOUR CODE HERE"
   ]
  },
  {
   "cell_type": "markdown",
   "id": "c7f0eccf-d97c-4a33-bd08-0750952ce9a0",
   "metadata": {},
   "source": [
    "<a name=\"for_loops\"></a>\n",
    "# FOR loops\n",
    "\n",
    "<hr>"
   ]
  },
  {
   "cell_type": "markdown",
   "id": "7d22747b-f9ca-4720-8893-fa6b98cf1932",
   "metadata": {
    "tags": []
   },
   "source": [
    "<a name=\"find_maximum\"></a>\n",
    "<b>Q: Find Maximum Number</b>"
   ]
  },
  {
   "cell_type": "code",
   "execution_count": null,
   "id": "f1ee918c-9dad-42a1-b690-15b745a97f7c",
   "metadata": {},
   "outputs": [],
   "source": [
    "# Write a function that, given a list of numeric values, \n",
    "# returns the maximum value in that list. \n",
    "# raise a ValueError exception if the list is empty (just like the builtin max function)\n",
    "# You must not use the built-in function:\n",
    "#    max\n",
    "# but rather iterate over the list of values\n",
    "# to find the biggest one.\n",
    "\n",
    "# WRITE YOUR FUNCTION HERE"
   ]
  },
  {
   "cell_type": "code",
   "execution_count": null,
   "id": "5bc66804-c5ac-495d-86fc-8950cd5e8236",
   "metadata": {},
   "outputs": [],
   "source": [
    "# test your function ...\n",
    "find_maximum([3, 4, 2]) # should be 4"
   ]
  },
  {
   "cell_type": "code",
   "execution_count": null,
   "id": "235efa97-de10-489b-9dc4-3420051010d6",
   "metadata": {},
   "outputs": [],
   "source": [
    "find_maximum([23, 44, 200, 3021, 7891]) # should be 7891"
   ]
  },
  {
   "cell_type": "code",
   "execution_count": null,
   "id": "1ac64e68-41a8-49af-a526-95746adf9a59",
   "metadata": {},
   "outputs": [],
   "source": [
    "find_maximum([11, 11, 11, 11, 11, 11, 11]) # should be 11"
   ]
  },
  {
   "cell_type": "code",
   "execution_count": null,
   "id": "03646b80-d04f-4292-9e4e-9ac908c9ca14",
   "metadata": {},
   "outputs": [],
   "source": [
    "find_maximum([7]) # should be 7"
   ]
  },
  {
   "cell_type": "code",
   "execution_count": null,
   "id": "37593bf1-fae7-41ac-a14d-8ec6106f2038",
   "metadata": {},
   "outputs": [],
   "source": [
    "find_maximum([3, 5, -77, 9]) # should be 9"
   ]
  },
  {
   "cell_type": "code",
   "execution_count": null,
   "id": "78d8c38c-dc36-4cae-8d76-1955ab00750d",
   "metadata": {},
   "outputs": [],
   "source": [
    "find_maximum([3, 3.5, 7.12376, 1.119]) # should be 7.12376"
   ]
  },
  {
   "cell_type": "code",
   "execution_count": null,
   "id": "5ebce8cc-6f53-44b7-ad4f-f3ae9587b208",
   "metadata": {},
   "outputs": [],
   "source": [
    "find_maximum([]) # should raise a ValueError"
   ]
  },
  {
   "cell_type": "markdown",
   "id": "eee476be-0a72-41f5-95cd-a1cc2e0c706c",
   "metadata": {},
   "source": [
    "<a name=\"does_list_contain\"></a>\n",
    "<b>Q: Does List Contain...?</b>"
   ]
  },
  {
   "cell_type": "code",
   "execution_count": null,
   "id": "80948956-af64-43ab-8743-42c80bcbdae5",
   "metadata": {
    "tags": []
   },
   "outputs": [],
   "source": [
    "# Write a function that, given a list of values\n",
    "# and a key value to search for, returns a Boolean value \n",
    "# representing whether the key is found in that list or not.  \n",
    "# You must not use the built-in function operator:\n",
    "#    in\n",
    "# but rather you are to iterate over the list checking\n",
    "# if any value in the list is the same as the key.\n",
    "\n",
    "# WRITE YOUR FUNCTION HERE"
   ]
  },
  {
   "cell_type": "code",
   "execution_count": null,
   "id": "f8a17792-6c1b-489c-9934-8f46341b5634",
   "metadata": {
    "tags": []
   },
   "outputs": [],
   "source": [
    "does_list_contain([3, 4, 2], 5) # should return False"
   ]
  },
  {
   "cell_type": "code",
   "execution_count": null,
   "id": "9adbb420-6324-4564-991b-fa6036dd2fc7",
   "metadata": {
    "tags": []
   },
   "outputs": [],
   "source": [
    "does_list_contain([7, 11, 14, 0.4, 111, 101], 7) # should return True"
   ]
  },
  {
   "cell_type": "code",
   "execution_count": null,
   "id": "d264ef12-300e-4acd-928d-9a0e247e5a51",
   "metadata": {
    "tags": []
   },
   "outputs": [],
   "source": [
    "does_list_contain([7, 11, 14, 0.4, 111, 101], 101) # should return True"
   ]
  },
  {
   "cell_type": "code",
   "execution_count": null,
   "id": "857e1cc1-0796-40de-9fc1-f271fe9f97d5",
   "metadata": {
    "tags": []
   },
   "outputs": [],
   "source": [
    "does_list_contain([7, 11, 14, 0.4, [111, 7], 101], [111, 7]) # should return True"
   ]
  },
  {
   "cell_type": "code",
   "execution_count": null,
   "id": "63e17685-b710-4519-8089-533112260e19",
   "metadata": {
    "tags": []
   },
   "outputs": [],
   "source": [
    "does_list_contain([7, 11, 14, 0.4, [111, 7], 101], [111, 7, 101]) # should return False\n"
   ]
  },
  {
   "cell_type": "markdown",
   "id": "4e1161a4-2674-4f95-b843-f15dfb1e7df7",
   "metadata": {},
   "source": [
    "<a name=\"out_of_range\"></a>\n",
    "<b>Q: Out of Range?</b>\n"
   ]
  },
  {
   "cell_type": "code",
   "execution_count": null,
   "id": "1de67f4a-33ec-4aa9-bd62-3b642790e865",
   "metadata": {
    "tags": []
   },
   "outputs": [],
   "source": [
    "# Write a Python predicate (a function that returns a Boolean value)\n",
    "# that expects a list of numeric values, a lower bound and an upper bound,\n",
    "# and returns True if there are any values in the list outside the range\n",
    "# of the upper and lower bounds, otherwise returns False.\n",
    "# Use a FOR loop, and a RETURN statement to exit the loop early\n",
    "# to short-circuit the iteration where appropriate.\n",
    "\n",
    "# WRITE YOUR FUNCTION HERE"
   ]
  },
  {
   "cell_type": "code",
   "execution_count": null,
   "id": "e71701c1-3a37-4853-a489-9a39bc309d66",
   "metadata": {
    "tags": []
   },
   "outputs": [],
   "source": [
    "out_of_range([1, 9, 1, 9, 9, 5, 7, 7, 4], 0, 10) # should be False"
   ]
  },
  {
   "cell_type": "code",
   "execution_count": null,
   "id": "c52288ca-ff95-40d6-a306-a34ebb3c7d8a",
   "metadata": {
    "tags": []
   },
   "outputs": [],
   "source": [
    "out_of_range([0.1, 9.9999999, 1, 0.9, 9, 5, 7, 7, 4], 0, 10) # should be False"
   ]
  },
  {
   "cell_type": "code",
   "execution_count": null,
   "id": "854d8f21-af1a-41ea-a862-c9cd815392fd",
   "metadata": {
    "tags": []
   },
   "outputs": [],
   "source": [
    "out_of_range([4, 8, 10, 23, 28, 66, 69, 77, 100], 1, 100) # should be False"
   ]
  },
  {
   "cell_type": "code",
   "execution_count": null,
   "id": "414368f2-66cb-4d6e-8336-42ea4a49fcba",
   "metadata": {
    "tags": []
   },
   "outputs": [],
   "source": [
    "out_of_range([4, 8, 10, 23, 0, 28, 66, 69, 77, 100], 1, 100) # should be True"
   ]
  },
  {
   "cell_type": "code",
   "execution_count": null,
   "id": "ea1e7afc-7fb2-4c2d-8ce1-28ac6292a3b8",
   "metadata": {
    "tags": []
   },
   "outputs": [],
   "source": [
    "out_of_range([], 1, 100) # should be False"
   ]
  },
  {
   "cell_type": "markdown",
   "id": "8899db0c-53e7-4b76-89c6-6c256dac9ecc",
   "metadata": {},
   "source": [
    "<a name=\"filter_out_of_range_break\"></a>\n",
    "<b>Q: Filter Out of Range</b>"
   ]
  },
  {
   "cell_type": "code",
   "execution_count": null,
   "id": "8f53ae83-a397-47b5-a33f-f82e56bb6b68",
   "metadata": {},
   "outputs": [],
   "source": [
    "# Modify your solution to the previous exercise so that, rather than\n",
    "# finding out if there are any values in the list outside the range\n",
    "# of the upper and lower bounds, returning a new list of those\n",
    "# numbers, if any.\n",
    "\n",
    "# WRITE YOUR FUNCTION HERE"
   ]
  },
  {
   "cell_type": "code",
   "execution_count": null,
   "id": "3f8e16c7-0f03-4b92-8853-78e0ee9f774e",
   "metadata": {},
   "outputs": [],
   "source": [
    "filter_out_of_range([1, 9, 1, 9, 9, 5, 7, 7, 4], 0, 10) # Test 1\n",
    "# should be []"
   ]
  },
  {
   "cell_type": "code",
   "execution_count": null,
   "id": "8032a26d-5595-4e54-ae0c-b4365bcac260",
   "metadata": {},
   "outputs": [],
   "source": [
    "filter_out_of_range([0.1, 9.9999999, 1, 0.9, 9, 5, 7, 7, 4], 2, 4) \n",
    "# should return [0.1, 9.9999999, 1, 0.9, 9, 5, 7, 7]"
   ]
  },
  {
   "cell_type": "code",
   "execution_count": null,
   "id": "94dabda4-6637-49dc-a5f7-3f3897c1db2b",
   "metadata": {},
   "outputs": [],
   "source": [
    "filter_out_of_range([4, 8, 10, 23, 28, 66, 69, 77, 100], 1, 50) # Test 3\n",
    "# should return [66, 69, 77, 100]"
   ]
  },
  {
   "cell_type": "code",
   "execution_count": null,
   "id": "2715cdf2-e419-45f7-8d7f-f817274ff78a",
   "metadata": {},
   "outputs": [],
   "source": [
    "filter_out_of_range([4, 8, 10, 23, 0, 28, 66, 69, 77, 100], 1, 100) # Test 4\n",
    "# should return [0]"
   ]
  },
  {
   "cell_type": "code",
   "execution_count": null,
   "id": "29e1eac9-7997-4065-af23-0422a039755c",
   "metadata": {},
   "outputs": [],
   "source": [
    "filter_out_of_range([], 1, 100) # Test 5 - empty list\n",
    "# should be []"
   ]
  },
  {
   "cell_type": "markdown",
   "id": "2139bb79-7bb4-42de-8f84-f29bf1713c3f",
   "metadata": {},
   "source": [
    "<a name=\"in_range_break\"></a>\n",
    "<b>Q: In Range?</b>"
   ]
  },
  {
   "cell_type": "code",
   "execution_count": null,
   "id": "846a8cb8-a0fe-4ce8-bfa1-6be9ba1953fe",
   "metadata": {
    "tags": []
   },
   "outputs": [],
   "source": [
    "# Write a Python predicate (a function that returns a Boolean value)\n",
    "# that expects a list of numeric values, a lower bound and an upper bound,\n",
    "# and returns True if ALL values in the list are inside the range\n",
    "# of the upper and lower bounds, otherwise returns False.\n",
    "# Use a FOR loop, and exit the loop early - \n",
    "# to short-circuit the iteration where appropriate.\n",
    "\n",
    "# WRITE YOUR FUNCTION HERE"
   ]
  },
  {
   "cell_type": "code",
   "execution_count": null,
   "id": "009c8ba8-4b77-4d32-910b-21a15f1472b7",
   "metadata": {
    "tags": []
   },
   "outputs": [],
   "source": [
    "in_range_a([1, 9, 1, 9, 9, 5, 7, 7, 4], 0, 10) # should be True"
   ]
  },
  {
   "cell_type": "code",
   "execution_count": null,
   "id": "2a0f2acb-1a0b-44c3-9f35-8af05f3d6850",
   "metadata": {
    "tags": []
   },
   "outputs": [],
   "source": [
    "in_range_a([7], 7, 7) # should be True"
   ]
  },
  {
   "cell_type": "code",
   "execution_count": null,
   "id": "1a6440f2-314a-4f46-bf50-ebf3b3f8146e",
   "metadata": {
    "tags": []
   },
   "outputs": [],
   "source": [
    "in_range_a([1.1, 2.2, 3.3, 4.4, 5.5, 6.6, 7.7], 1, 7) # should be False"
   ]
  },
  {
   "cell_type": "code",
   "execution_count": null,
   "id": "9380f6c6-9c57-4dc9-affc-9c3c412253e6",
   "metadata": {
    "tags": []
   },
   "outputs": [],
   "source": [
    "in_range_a([4, 8, 10, 23, 0, 28, 66, 69, 77, 100], 1, 100) # should be False"
   ]
  },
  {
   "cell_type": "code",
   "execution_count": null,
   "id": "cc72a91d-81b6-4f3c-820f-caef8807321e",
   "metadata": {
    "tags": []
   },
   "outputs": [],
   "source": [
    "in_range_a([], 0, 10) # should be True"
   ]
  },
  {
   "cell_type": "markdown",
   "id": "76d92c35-6804-46ee-a0a3-e9b7ede7cb9a",
   "metadata": {},
   "source": [
    "<a name=\"map_sum\"></a>\n",
    "<b>Q: Map Sum</b>"
   ]
  },
  {
   "cell_type": "code",
   "execution_count": null,
   "id": "ef708e8e-7f50-4607-b850-bcd6c511e36a",
   "metadata": {},
   "outputs": [],
   "source": [
    "# Given a list of lists each containing numeric values, write a function \n",
    "# to return a new one-dimensional list containing the sum of the values in each of the sublists.\n",
    "# Hint:\n",
    "#   use the function\n",
    "#       sum\n",
    "#   to add up all numbers in a list\n",
    "\n",
    "# WRITE YOUR FUNCTION HERE"
   ]
  },
  {
   "cell_type": "code",
   "execution_count": null,
   "id": "597e3d57-1bd8-47a7-858d-4f6c53ceb60d",
   "metadata": {},
   "outputs": [],
   "source": [
    "map_sum([[1, 3, 5]]) # Test 1 - single sublist\n",
    "# should return [9]"
   ]
  },
  {
   "cell_type": "code",
   "execution_count": null,
   "id": "52fac84b-634c-48fe-b9e9-06993e782ebd",
   "metadata": {},
   "outputs": [],
   "source": [
    "map_sum([[1, 3, 5], [2, 4, 6, 8]]) # Test 2 - two sublists\n",
    "# should return [9, 20]"
   ]
  },
  {
   "cell_type": "code",
   "execution_count": null,
   "id": "e20dd706-fe18-4c0f-a742-0f776d91443e",
   "metadata": {},
   "outputs": [],
   "source": [
    "map_sum([[1, 3, 5], [2, 4, 6, 8], [0], [9], [1]]) # Test 3 - many sublists\n",
    "# should return [9, 20, 0, 9, 1]"
   ]
  },
  {
   "cell_type": "code",
   "execution_count": null,
   "id": "f7ad2345-43b7-4d21-ae0f-a1e47b5e19f8",
   "metadata": {},
   "outputs": [],
   "source": [
    "map_sum([[]]) # Test 4 - empty sublist\n",
    "# should return [0]"
   ]
  },
  {
   "cell_type": "markdown",
   "id": "3c6c1ff4-94dd-4456-bad9-cf737e3808c0",
   "metadata": {},
   "source": [
    "# While Loops"
   ]
  },
  {
   "cell_type": "code",
   "execution_count": null,
   "id": "47a2615c-17d3-4d31-851f-87d39be90b6d",
   "metadata": {},
   "outputs": [],
   "source": [
    "list = [24, 56, 34]\n",
    "\n",
    "for element in list :\n",
    "    print(element)"
   ]
  },
  {
   "cell_type": "code",
   "execution_count": null,
   "id": "87a31734-4d68-4298-b55f-62691bb985ba",
   "metadata": {},
   "outputs": [],
   "source": [
    "# write a While loop equivalent to the for loop in the previous code block \n"
   ]
  }
 ],
 "metadata": {
  "kernelspec": {
   "display_name": "Python 3 (ipykernel)",
   "language": "python",
   "name": "python3"
  },
  "language_info": {
   "codemirror_mode": {
    "name": "ipython",
    "version": 3
   },
   "file_extension": ".py",
   "mimetype": "text/x-python",
   "name": "python",
   "nbconvert_exporter": "python",
   "pygments_lexer": "ipython3",
   "version": "3.9.10"
  }
 },
 "nbformat": 4,
 "nbformat_minor": 5
}
