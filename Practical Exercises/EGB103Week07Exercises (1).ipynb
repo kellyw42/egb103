{
 "cells": [
  {
   "cell_type": "markdown",
   "id": "0ca77283-33c3-44cf-b3e9-64f17ccff596",
   "metadata": {},
   "source": [
    "# Topic: Pandas Data Frames\n",
    "\n",
    "### Online Documentation:\n",
    "* Pandas User Guide: https://pandas.pydata.org/docs/user_guide/index.html\n",
    "* Pandas User Guide - Intro to data structures: https://pandas.pydata.org/docs/user_guide/dsintro.html#dsintro\n",
    "* Reading from CSV file: https://pandas.pydata.org/docs/user_guide/io.html#io-read-csv-table"
   ]
  },
  {
   "cell_type": "markdown",
   "id": "28fce721-8257-4f50-93df-268cfb0bea6b",
   "metadata": {},
   "source": [
    "# About Data Attribution\n",
    "\n",
    "<i>\n",
    "    \"<b>Open data</b> is data that is openly accessible, exploitable, editable and shared by anyone for any purpose, even commercially\"</i>.\n",
    "<div style=\"text-align:right\">[<a href=\"https://en.wikipedia.org/wiki/Open_data\">Wikipedia</a>]</div>\n",
    "\n",
    "<p>Open data is typically distributed under some form of <a href=\"\">open license<a> agreement.</p>\n",
    "    \n",
    "<p>That license may impose <i>obligations</i> on the users of that data, including the need to:\n",
    "<ul>\n",
    "<li>include a reference to the license</li>\n",
    "<li>acknowledge the person or organization that provided the data</li>\n",
    "<li>note clearly when changes have been made to the original data</li>\n",
    "</ul>"
   ]
  },
  {
   "cell_type": "markdown",
   "id": "cf50c971-2ce7-4006-8010-820e5332fb1b",
   "metadata": {
    "tags": []
   },
   "source": [
    "# Example 1: House Hold Energy Data\n",
    "\n",
    "<h3>Data Attribution</h3>\n",
    "<table style=\"border-style:solid; margin-left:0\">\n",
    "        <tr><td>Contributor:</td><td>Jaganadh Gopinadhan</td></tr>\n",
    "        <tr><td>License:</td><td><a href=\"https://cdla.io/permissive-1-0/\">Community Data License Agreement - Permissive - Version 1.0</a></td></tr>\n",
    "        <tr><td>Data source:</td><td><a href=\"https://www.kaggle.com/jaganadhg/house-hold-energy-data\">https://www.kaggle.com/jaganadhg/house-hold-energy-data</a></td></tr>\n",
    "        <tr><td>Local data file:</td><td><a href=\"D202.csv\">D202.csv</a>  </td></tr>\n",
    "        <tr><td colspan=2>If you share this data, you must preserve this attribution.</td></tr>\n",
    "</table>      \n",
    "<p>Make sure you have uploaded file <code>D202.csv</code> to the same folder as this Notebook.</p>"
   ]
  },
  {
   "cell_type": "code",
   "execution_count": null,
   "id": "f4b8b217-eda9-4116-bdb4-74e92a051943",
   "metadata": {},
   "outputs": [],
   "source": [
    "# Read file D202.csv into a Pandas DataFrame\n",
    "\n",
    "import pandas\n",
    "D202 = pandas.read_csv(\"D202.csv\")\n",
    "D202"
   ]
  },
  {
   "cell_type": "code",
   "execution_count": null,
   "id": "0fbac58f-76f1-4faa-9ea8-a382a878bb58",
   "metadata": {},
   "outputs": [],
   "source": [
    "# Inspect the results above and answer the following questions:\n",
    "# 1) What is the column name of the first column?\n",
    "# 2) What is the row index of the first row?"
   ]
  },
  {
   "cell_type": "code",
   "execution_count": null,
   "id": "41b00507-de2e-4624-85f0-baf80d054ab2",
   "metadata": {},
   "outputs": [],
   "source": [
    "D202.info()"
   ]
  },
  {
   "cell_type": "code",
   "execution_count": null,
   "id": "a94703f1-054f-4ec0-98f3-0cfaee0c5683",
   "metadata": {},
   "outputs": [],
   "source": [
    "# What is the type of the Date Column?"
   ]
  },
  {
   "cell_type": "code",
   "execution_count": null,
   "id": "146dce40-8d92-4453-9ba6-1fc5549f47ce",
   "metadata": {},
   "outputs": [],
   "source": [
    "# What is the kind of the index\n",
    "D202.index"
   ]
  },
  {
   "cell_type": "code",
   "execution_count": null,
   "id": "cbb1d120-6ed3-4469-8f3e-9521d7ecb6fe",
   "metadata": {},
   "outputs": [],
   "source": [
    "# Add extra parameters to the read_csv function so that the Date column becomes the index and Date strings should be parsed as Dates.\n",
    "# insert your code here"
   ]
  },
  {
   "cell_type": "code",
   "execution_count": null,
   "id": "74000285-705a-42e5-b66e-9b474f467895",
   "metadata": {},
   "outputs": [],
   "source": [
    "D202.index\n",
    "# What is the kind of the index?\n",
    "# What is the data type of the values in the index?"
   ]
  },
  {
   "cell_type": "code",
   "execution_count": null,
   "id": "8aa79b15-0928-45cc-b21c-a960c70cd92e",
   "metadata": {},
   "outputs": [],
   "source": [
    "# Is the Date index unique? Why (examine the data)?\n",
    "D202.index.is_unique\n",
    "# Answer: No"
   ]
  },
  {
   "cell_type": "code",
   "execution_count": null,
   "id": "553ca5f4-fd41-4462-a5c8-17f07b270ab7",
   "metadata": {},
   "outputs": [],
   "source": [
    "D202.describe()\n",
    "# Why are statistics only listed for the Usage and Notes columns?\n",
    "# Answer: Because they are the only columns with a numeric type (COST is an object because of the dollar signs)"
   ]
  },
  {
   "cell_type": "code",
   "execution_count": null,
   "id": "2df3563b-724b-4c0c-8a1a-86de341f2d21",
   "metadata": {},
   "outputs": [],
   "source": [
    "# Extract just the Usage column from this data frame"
   ]
  },
  {
   "cell_type": "code",
   "execution_count": null,
   "id": "13705f3a-5b32-4e07-ad09-c97702fc4d86",
   "metadata": {},
   "outputs": [],
   "source": [
    "# What is the Python data type of this result (Data Frame or Data Series?)\n",
    "type(usage)"
   ]
  },
  {
   "cell_type": "code",
   "execution_count": null,
   "id": "06153638-cfab-466a-9c4e-20e90b11809a",
   "metadata": {},
   "outputs": [],
   "source": [
    "# What is another (equivalent) way of extracting the Usage column?"
   ]
  },
  {
   "cell_type": "code",
   "execution_count": null,
   "id": "21149fe2-1905-4ea7-a907-3ab4d08f3e4d",
   "metadata": {},
   "outputs": [],
   "source": [
    "# Extract just the Usage column using a loc expression"
   ]
  },
  {
   "cell_type": "code",
   "execution_count": null,
   "id": "066d666d-91e3-41ae-bd7c-7a4bf1b57b37",
   "metadata": {},
   "outputs": [],
   "source": [
    "# Extract just the Usage column using a iloc expression"
   ]
  },
  {
   "cell_type": "code",
   "execution_count": null,
   "id": "d47750bd-89fa-4775-8620-698fde216926",
   "metadata": {},
   "outputs": [],
   "source": [
    "# What is the maximum Usage?"
   ]
  },
  {
   "cell_type": "code",
   "execution_count": null,
   "id": "0b4703a6-76d6-4c59-9225-1bc98f443201",
   "metadata": {},
   "outputs": [],
   "source": [
    "# Extract the rows from the house hold energy data frame where the usage is at it's maximum.\n",
    "# How many rows are there?"
   ]
  },
  {
   "cell_type": "code",
   "execution_count": null,
   "id": "6e72bbfc-9a28-4e71-bda0-84adc2fa3d14",
   "metadata": {},
   "outputs": [],
   "source": [
    "# Retrieve all rows where the usage is greater than zero"
   ]
  },
  {
   "cell_type": "code",
   "execution_count": null,
   "id": "b68efc18-10d3-4eca-a51c-e0fc097428f5",
   "metadata": {},
   "outputs": [],
   "source": [
    "# What was the minimum usage from those rows?"
   ]
  },
  {
   "cell_type": "code",
   "execution_count": null,
   "id": "41f4f9af-b2f6-40bc-b6b8-e1702dd3b48a",
   "metadata": {},
   "outputs": [],
   "source": [
    "# Retrieve the rows where usage was at that minimum"
   ]
  },
  {
   "cell_type": "code",
   "execution_count": null,
   "id": "20ccac98-56f2-4301-a92d-ffe10366beee",
   "metadata": {},
   "outputs": [],
   "source": [
    "# Use the unique() method to determine the number of different dates where usage was at that minimum"
   ]
  },
  {
   "cell_type": "code",
   "execution_count": null,
   "id": "f058670a-4180-4f1f-aabe-25c709d6d6c2",
   "metadata": {},
   "outputs": [],
   "source": [
    "# Retrieve all rows for the xmas period between 25/12/2017 and 1/1/2018\n",
    "import datetime\n",
    "start = datetime.date(2017, 12, 25)\n",
    "end = datetime.date(2018, 1, 1)\n",
    "# insert your code here"
   ]
  },
  {
   "cell_type": "code",
   "execution_count": null,
   "id": "a8e5700f-1a7b-4254-8084-a6d9164554dd",
   "metadata": {},
   "outputs": [],
   "source": [
    "# What was the average usage during that xmas period?"
   ]
  },
  {
   "cell_type": "code",
   "execution_count": null,
   "id": "4f2518c0-10fd-429d-b48a-f7bbdd08aeb8",
   "metadata": {},
   "outputs": [],
   "source": [
    "# Retrieve all data where the day is a Wednesday\n",
    "# Hint: use the day_name() method to get the name from the index column"
   ]
  },
  {
   "cell_type": "code",
   "execution_count": null,
   "id": "ede78efc-9f3a-4227-8f16-f73b6056ad9a",
   "metadata": {
    "tags": []
   },
   "outputs": [],
   "source": [
    "# What was the total usage on Wednesdays?"
   ]
  },
  {
   "cell_type": "markdown",
   "id": "16db41cf-a6da-4a6b-9671-c32d30b8b57b",
   "metadata": {},
   "source": [
    "# Example 2: Thermodynamic Properties of Water\n",
    "\n",
    "<h3>Data Attribution</h3>\n",
    "<table style=\"border-style:solid; margin-left:0\">\n",
    "        <tr><td>Contributor:</td><td>Israel Urieli</td></tr>\n",
    "        <tr><td>License:</td><td><a href=\"http://creativecommons.org/licenses/by-nc-sa/3.0/us/\">Creative Commons Attribution-Noncommercial-Share Alike 3.0 United States</a></td></tr>\n",
    "        <tr><td>Data source:</td><td><a href=\"https://www.ohio.edu/mechanical/thermo/property_tables/H2O/\">https://www.ohio.edu/mechanical/thermo/property_tables/H2O/</a></td></tr>\n",
    "        <tr><td>Local data file:</td><td><a href=\"H2O_TempSat.csv\">H2O_TempSat.csv</a>  </td></tr>\n",
    "        <tr><td>Local changes:</td><td>Converted from Excel to CSV and top 2 header rows removed.</td></tr>\n",
    "        <tr><td colspan=2>If you share this data, you must preserve this attribution.</td></tr>\n",
    "</table>      \n",
    "<p>Make sure you have uploaded file <code>H2O_TempSat.csv</code> to the same folder as this Notebook.</p>"
   ]
  },
  {
   "cell_type": "code",
   "execution_count": null,
   "id": "92b63a57-07d1-499a-97a9-1862d8948713",
   "metadata": {
    "tags": []
   },
   "outputs": [],
   "source": [
    "# Read file Water Saturation Properties Temperature Table.csv into a pandas data frame \n",
    "# and use the temperature column as the index"
   ]
  },
  {
   "cell_type": "code",
   "execution_count": null,
   "id": "630c8e3d-6ede-4633-a692-e2d26d82a58d",
   "metadata": {},
   "outputs": [],
   "source": [
    "# Write Python code to find the data relating to water at 100 degrees celsius\n",
    "# Note: this can be done by either using using a .loc expression or by filtering the row where the index column == 100"
   ]
  },
  {
   "cell_type": "code",
   "execution_count": null,
   "id": "bc8fd019-4b25-44c0-b611-f5dfdaf4410b",
   "metadata": {},
   "outputs": [],
   "source": [
    "# Find the hfg enthalpy of water at 65 degrees celsius (hint: use a .loc expression)"
   ]
  },
  {
   "cell_type": "code",
   "execution_count": null,
   "id": "ddb4f57d-87b0-4d3b-85e6-ba5adb4336a4",
   "metadata": {},
   "outputs": [],
   "source": [
    "# Write Python code to find all data relating to temperatures of at most 38 degrees celsius"
   ]
  },
  {
   "cell_type": "code",
   "execution_count": null,
   "id": "5002c907-c711-4dc3-a455-1016ddaebbe3",
   "metadata": {},
   "outputs": [],
   "source": [
    "# Write Python code to find entropy data (columns sf, sfg and sg) \n",
    "# relating to temperatures in the range of 100 - 150 degrees celsius\n",
    "# Hint: use loc slicing for both the row and column labels"
   ]
  },
  {
   "cell_type": "markdown",
   "id": "aa75c910-f30f-444e-85e7-1abc468b57e9",
   "metadata": {},
   "source": [
    "# Example 3: Predictive Maintenance\n",
    "\n",
    "<h3>Data Attribution</h3>\n",
    "<table style=\"border-style:solid; margin-left:0\">\n",
    "        <tr><td>Contributor:</td><td>Stephan Matzka, School of Engineering - Technology and Life, Hochschule für Technik und Wirtschaft Berlin, 12459 Berlin, Germany</td></tr>\n",
    "        <tr><td>Data source:</td><td><a href=\"https://archive.ics.uci.edu/ml/datasets/AI4I+2020+Predictive+Maintenance+Dataset\">https://archive.ics.uci.edu/ml/datasets/AI4I+2020+Predictive+Maintenance+Dataset</a></td></tr>\n",
    "        <tr><td>Local data file:</td><td><a href=\"ai4i2020.csv\">ai4i2020.csv</a>  </td></tr>\n",
    "        <tr><td colspan=2>If you share this data, you must preserve this attribution.</td></tr>\n",
    "</table>      \n",
    "<p>Make sure you have uploaded file <code>ai4i2020.csv</code> to the same folder as this Notebook.</p>"
   ]
  },
  {
   "cell_type": "code",
   "execution_count": null,
   "id": "64f084c6-daaa-490d-a5c0-199daadd30f1",
   "metadata": {},
   "outputs": [],
   "source": [
    "# Read a local csv file containing predictive maintenance data and store in a data frame.  \n",
    "# Use the first column (UDI) as the row index."
   ]
  },
  {
   "cell_type": "code",
   "execution_count": null,
   "id": "51935982-243d-4cec-a336-f533c6bfc630",
   "metadata": {},
   "outputs": [],
   "source": [
    "# Find the rows for products that have failed because of tool wear (column TWF)"
   ]
  },
  {
   "cell_type": "code",
   "execution_count": null,
   "id": "0250c6a7-646a-4d88-88a1-0b45bace9634",
   "metadata": {},
   "outputs": [],
   "source": [
    "# How many rows are in those tool wear results"
   ]
  },
  {
   "cell_type": "code",
   "execution_count": null,
   "id": "fe2f876e-d142-4fb0-ba89-24bcb05e4e43",
   "metadata": {},
   "outputs": [],
   "source": [
    "# What is the average rotational of all products"
   ]
  },
  {
   "cell_type": "code",
   "execution_count": null,
   "id": "ae7916cf-02ef-4a16-bb62-be4b63a111b6",
   "metadata": {},
   "outputs": [],
   "source": [
    "# Find all the products that have had both heat dissipation failure (HDF) and overstrain failure (OSF)"
   ]
  },
  {
   "cell_type": "markdown",
   "id": "f1e63c4d-903a-414e-8333-3afdb0173bf7",
   "metadata": {},
   "source": [
    "<b>Change Data Frame and Write to File</b>"
   ]
  },
  {
   "cell_type": "code",
   "execution_count": null,
   "id": "31c7cf32-1768-48bb-a476-6254a79fe5dd",
   "metadata": {},
   "outputs": [],
   "source": [
    "# A corrupted version of the Ai4i2020 Dataset has been supplied to you that needs to be modified.  \n",
    "# Write Python code to create a dataframe from the supplied file: \"ai4i2020_DODGEY data.csv\""
   ]
  },
  {
   "cell_type": "code",
   "execution_count": null,
   "id": "574eb6e8-6dd8-4695-80b4-3deb0099e717",
   "metadata": {},
   "outputs": [],
   "source": [
    "# Make the required change to the dataframe data:\n",
    "#     The air temperature of UDI 7 should be 298.1 (not 2298.1).\n",
    "# Hint: use a loc expression to refer to the cell that needs to be changed"
   ]
  },
  {
   "cell_type": "code",
   "execution_count": null,
   "id": "a1097af0-7349-405b-9fea-18b4972e4fd6",
   "metadata": {},
   "outputs": [],
   "source": [
    "# How do we check that it worked?"
   ]
  },
  {
   "cell_type": "code",
   "execution_count": null,
   "id": "66924b57-52ad-47ea-8b43-91ae8d118862",
   "metadata": {},
   "outputs": [],
   "source": [
    "# Save the modified data to a file with the name: \"ai4i2020_MODIFIED data.csv\""
   ]
  },
  {
   "cell_type": "markdown",
   "id": "cc6add43-2279-4fb3-916a-b7977b20a5a7",
   "metadata": {},
   "source": [
    "# Example 4: Oscilloscope Data\n",
    "\n",
    "<h3>Data Attribution</h3>\n",
    "<table style=\"border-style:solid; margin-left:0\">\n",
    "        <tr><td>Contributor:</td><td>Xitong Gao</td></tr>\n",
    "        <tr><td>Data source:</td><td><a href=\"https://github.com/admk/Tektronix-Waveform-Converter/blob/master/Test%20Samples/TEK0002.CSV\">https://github.com/admk/Tektronix-Waveform-Converter/blob/master/Test%20Samples/TEK0002.CSV</a></td></tr>\n",
    "        <tr><td>Local data file:</td><td><a href=\"TEK0002.csv\">TEK0002.csv</a>  </td></tr>\n",
    "        <tr><td colspan=2>If you share this data, you must preserve this attribution.</td></tr>\n",
    "</table>      \n",
    "<p>Make sure you have uploaded file <code>TEK0002.csv</code> to the same folder as this Notebook.</p>"
   ]
  },
  {
   "cell_type": "code",
   "execution_count": null,
   "id": "1259c63d-9e65-4a11-9ab7-96a8a498c478",
   "metadata": {},
   "outputs": [],
   "source": [
    "# Write Python code to read the file: TEK0002.csv "
   ]
  },
  {
   "cell_type": "markdown",
   "id": "d9a9dd2d-8fb2-4907-9404-ea5f9c6d677f",
   "metadata": {},
   "source": [
    "What's wrong with the data in this DataFrame?\n",
    "\n",
    "Open the raw csv file to better understand the problem: <a href=\"TEK0002.csv\">TEK0002.csv</a>"
   ]
  },
  {
   "cell_type": "code",
   "execution_count": null,
   "id": "673b1f50-b0cb-4d2a-9b6f-25ddb776f47b",
   "metadata": {},
   "outputs": [],
   "source": [
    "# The first row of the csv file was treated as the header row, but it actually contained data and there are no column names provided.\n",
    "# Read the data again, but add parameter header=None to tell pandas there there is no header row."
   ]
  },
  {
   "cell_type": "code",
   "execution_count": null,
   "id": "e3367455-7a67-484a-bcfc-db3d7c5e8fed",
   "metadata": {},
   "outputs": [],
   "source": [
    "# The actual oscilloscope data is in columns 3 and 4, while columns 0 and 1 contain meta data.\n",
    "# Start by retrieving just the Meta data from columns 0 and 1 and rows 0 to 14"
   ]
  },
  {
   "cell_type": "code",
   "execution_count": null,
   "id": "75c9eba1-9d8f-44f9-8f86-1c7e6821c3d8",
   "metadata": {},
   "outputs": [],
   "source": [
    "# Next we will extract the actual oscilloscope data in columns 3 and 4 and change the column names to time and amplitude\n",
    "# Hint: use the rename method and pass a dictionary mapping old column names to new column names.\n",
    "# e.g. dataframe.rename(columns={'oldName1': 'newName1', 'oldName2': 'newName2'})"
   ]
  },
  {
   "cell_type": "code",
   "execution_count": null,
   "id": "c74ce810-48ec-457b-8e28-18905f33c896",
   "metadata": {},
   "outputs": [],
   "source": [
    "# Write code to get a sample of the data by selecting every 100th reading.\n",
    "# Hint: use slicing, specifying the 'step' argument"
   ]
  }
 ],
 "metadata": {
  "kernelspec": {
   "display_name": "Python 3 (ipykernel)",
   "language": "python",
   "name": "python3"
  },
  "language_info": {
   "codemirror_mode": {
    "name": "ipython",
    "version": 3
   },
   "file_extension": ".py",
   "mimetype": "text/x-python",
   "name": "python",
   "nbconvert_exporter": "python",
   "pygments_lexer": "ipython3",
   "version": "3.9.10"
  }
 },
 "nbformat": 4,
 "nbformat_minor": 5
}
