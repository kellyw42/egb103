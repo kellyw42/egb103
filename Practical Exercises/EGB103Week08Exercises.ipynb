{
 "cells": [
  {
   "cell_type": "markdown",
   "id": "48355745-8477-4c7e-9dff-72ac7e6fa0cc",
   "metadata": {},
   "source": [
    "# Visualization and Plotting using Pandas"
   ]
  },
  {
   "cell_type": "markdown",
   "id": "0a59487d-6645-4163-bb90-8720e5dbd401",
   "metadata": {},
   "source": [
    "## Grocery Data Example"
   ]
  },
  {
   "cell_type": "code",
   "execution_count": null,
   "id": "94c099d7-76b1-4721-8b0a-157953bdcf2e",
   "metadata": {},
   "outputs": [],
   "source": [
    "import pandas\n",
    "groceries = pandas.read_csv('groceries.csv') \n",
    "groceries"
   ]
  },
  {
   "cell_type": "markdown",
   "id": "783f677d-7b60-44a2-b1fc-cc5fe20a5a23",
   "metadata": {},
   "source": [
    "<style>\n",
    "    .jp-RenderedMarkdown {\n",
    "  background-color: yellow;\n",
    "}\n",
    "</style>  "
   ]
  },
  {
   "cell_type": "markdown",
   "id": "65c4f4b2-4dc4-41c7-9633-b4a35fb6483d",
   "metadata": {},
   "source": [
    "<div style=\"background-color:palegreen\">\n",
    "<h3>How to compute a new Pandas DataFrame column</h3>\n",
    "    \n",
    "Example:\n",
    "\n",
    "```bash\n",
    "    mydataframe['newColumn'] = mydataframe.Column1 - mydataframe.Column2 / mydataframe.Column3\n",
    "```\n",
    "</div>"
   ]
  },
  {
   "cell_type": "code",
   "execution_count": null,
   "id": "c2cc91da-9cc1-4aec-bcb7-d259000c9965",
   "metadata": {},
   "outputs": [],
   "source": [
    "# Compute a new TotalCost column for each row (CostPerItem x Quantity)\n",
    "\n",
    "# insert your code here\n",
    "\n",
    "groceries"
   ]
  },
  {
   "cell_type": "markdown",
   "id": "e2f17086-f50f-4d94-9075-1ea9a8e0080f",
   "metadata": {},
   "source": [
    "<div style=\"background-color:palegreen\">\n",
    "\n",
    "### How to compute a new Pandas column using a Python function\n",
    "\n",
    "Example:\n",
    "```bash    \n",
    "    def my_function(row) :\n",
    "        if row.a == 7 :\n",
    "            return row.c + row.d\n",
    "        else\n",
    "            return 42\n",
    "            \n",
    "    mydataframe['newCol'] = mydataframe.apply(my_function, axis=1)\n",
    "```\n",
    "</div>"
   ]
  },
  {
   "cell_type": "code",
   "execution_count": null,
   "id": "15223a49-3fca-4716-a66f-c0f2cc867dbd",
   "metadata": {},
   "outputs": [],
   "source": [
    "# Change the TotalCost calculation so that a 10% discount is applied to an item if the quantity purchased is more than 5.\n",
    "    \n",
    "# insert your code here\n",
    "\n",
    "groceries"
   ]
  },
  {
   "cell_type": "code",
   "execution_count": null,
   "id": "45fe168e-f502-4fab-b62e-763dbb6d181d",
   "metadata": {},
   "outputs": [],
   "source": [
    "# What is the total cost of all groceries purchased?\n",
    "\n",
    "# insert your code here\n",
    "\n",
    "# Answer should be $7620.38"
   ]
  },
  {
   "cell_type": "markdown",
   "id": "dc68ebea-cf37-4a6a-9503-a0123c95d1b2",
   "metadata": {},
   "source": [
    "<div style=\"background-color:palegreen\">\n",
    "\n",
    "### How to use a group by query in Pandas\n",
    "\n",
    "Examples:\n",
    "```bash      \n",
    "    mydataframe.groupby('my_column').other_column.mean()\n",
    "    mydataframe.groupby('my_column').other_column.sum()\n",
    "    mydataframe.groupby('my_column').other_column.min()\n",
    "``` \n",
    "</div>"
   ]
  },
  {
   "cell_type": "code",
   "execution_count": null,
   "id": "7faa999f-c377-4889-b105-ada7d3a9982c",
   "metadata": {},
   "outputs": [],
   "source": [
    "# Use a group by to compute the total groceries purchased on each Shopping Date\n",
    "\n",
    "# insert your code here"
   ]
  },
  {
   "cell_type": "markdown",
   "id": "63f1786c-024d-460b-9af8-ec02727a5db7",
   "metadata": {},
   "source": [
    "<div style=\"background-color:palegreen\">\n",
    "\n",
    "### How to Visualize a Pandas DataFrame as a line plot\n",
    "\n",
    "Example:\n",
    "```bash     \n",
    "    ax = mydataframe.plot(figsize=(width, height)) # width and height specified in inches\n",
    "    ax.set_title('My Title')\n",
    "    ax.set_xlabel('My X axis label')\n",
    "    ax.set_ylabel('My Y axis label')\n",
    "```\n",
    "</div>"
   ]
  },
  {
   "cell_type": "code",
   "execution_count": null,
   "id": "f0e2ae1e-6d46-4c4c-b53d-a80892fc87e0",
   "metadata": {},
   "outputs": [],
   "source": [
    "# Plot this data as a line graph with an appropriate title and axis labels\n",
    "# Hint: use the following code to display all 20 dates on the X-axis\n",
    "#   date_labels = totals_by_date.index\n",
    "#   ticks = ax.set_xticks(range(len(date_labels)), date_labels, rotation=90)\n",
    "\n",
    "# insert your code here"
   ]
  },
  {
   "cell_type": "markdown",
   "id": "a8582c14-e3ff-4a72-8f23-793a3596331d",
   "metadata": {},
   "source": [
    "<div style=\"background-color:palegreen\">\n",
    "\n",
    "### How to Visualize a Pandas DataFrame as a bar plot\n",
    "\n",
    "Example:\n",
    "```bash     \n",
    "    ax = mydataframe.plot.bar(figsize=(width, height)) # width and height specified in inches\n",
    "```\n",
    "</div>"
   ]
  },
  {
   "cell_type": "code",
   "execution_count": null,
   "id": "84f8b0a1-0ee2-48bb-9ba5-50ff9db137d7",
   "metadata": {},
   "outputs": [],
   "source": [
    "# Now visualize it using a bar graph instead\n",
    "\n",
    "# insert your code here"
   ]
  },
  {
   "cell_type": "code",
   "execution_count": null,
   "id": "e556080f-4e5a-4fb6-abdc-ba12fb420756",
   "metadata": {},
   "outputs": [],
   "source": [
    "# Use a group by to compute the total groceries purchased for each Category\n",
    "\n",
    "# insert your code here"
   ]
  },
  {
   "cell_type": "code",
   "execution_count": null,
   "id": "88ab47b5-93fb-4a18-8623-72d4883cdd58",
   "metadata": {},
   "outputs": [],
   "source": [
    "# Visualize category data using a bar graph\n",
    "\n",
    "# insert your code here"
   ]
  },
  {
   "cell_type": "markdown",
   "id": "5de085ca-38d7-4c6b-aecb-b7ef16f5349c",
   "metadata": {},
   "source": [
    "<div style=\"background-color:palegreen\">\n",
    "\n",
    "### How to Visualize a Pandas DataFrame as a pie plot\n",
    "\n",
    "Example:\n",
    "```bash     \n",
    "    ax = mydataframe.plot.pie(figsize=(width, height), autopct='%.1f%%') # width and height specified in inches\n",
    "```\n",
    "</div>"
   ]
  },
  {
   "cell_type": "code",
   "execution_count": null,
   "id": "dc576a88-2bba-4708-9680-314e0dc137af",
   "metadata": {},
   "outputs": [],
   "source": [
    "# Visualize the category data using a pie chart with percentages shown for each slice. \n",
    "\n",
    "# insert your code here"
   ]
  },
  {
   "cell_type": "markdown",
   "id": "e1755d23-c486-4045-8094-581199fba719",
   "metadata": {},
   "source": [
    "<div style=\"background-color:palegreen\">\n",
    "\n",
    "### How to use a group by with more than one column in Pandas\n",
    "\n",
    "Examples:\n",
    "```bash      \n",
    "    mydataframe.groupby(['column1', 'column2']).other_column.mean()\n",
    "    mydataframe.groupby(['column1', 'column2']).other_column.sum()\n",
    "    mydataframe.groupby(['column1', 'column2']).other_column.min()\n",
    "``` \n",
    "</div>"
   ]
  },
  {
   "cell_type": "code",
   "execution_count": null,
   "id": "9dab173f-ab00-4f8a-9455-5aba125cac1d",
   "metadata": {},
   "outputs": [],
   "source": [
    "# Group by both the ShoppingDate and the Category and compute the total cost for each group\n",
    "\n",
    "# insert your code here"
   ]
  },
  {
   "cell_type": "code",
   "execution_count": null,
   "id": "2d31c48e-7006-44f9-b12f-54a275d87f52",
   "metadata": {},
   "outputs": [],
   "source": [
    "# What happens if you apply the unstack() method to these results?\n",
    "\n",
    "# insert your code here"
   ]
  },
  {
   "cell_type": "code",
   "execution_count": null,
   "id": "8e646aa9-baf6-471a-92ed-aefc3fa723c6",
   "metadata": {},
   "outputs": [],
   "source": [
    "# Plot the resulting unstacked data as a stacked bar graph (set parameter stacked=True)\n",
    "\n",
    "# insert your code here"
   ]
  },
  {
   "cell_type": "code",
   "execution_count": null,
   "id": "fa3f9972-ee1b-4e57-8e2b-d9121547df96",
   "metadata": {},
   "outputs": [],
   "source": [
    "# Plot the total quantity of groceries purchased each week as a bar graph\n",
    "\n",
    "# insert your code here"
   ]
  },
  {
   "cell_type": "markdown",
   "id": "29aa364d-f2ea-4d3f-ba81-8e339af8e78f",
   "metadata": {},
   "source": [
    "## Weather Data Example"
   ]
  },
  {
   "cell_type": "code",
   "execution_count": null,
   "id": "c9974e14-8cc6-443a-8a34-abf08c3cd553",
   "metadata": {},
   "outputs": [],
   "source": [
    "import pandas\n",
    "weather = pandas.read_csv('BrisbaneDailyWeather.csv', index_col=0, parse_dates=[0])\n",
    "weather"
   ]
  },
  {
   "cell_type": "code",
   "execution_count": null,
   "id": "931e7408-f635-4b71-a04c-24494c5b0409",
   "metadata": {},
   "outputs": [],
   "source": [
    "# Plot the MinTemp and MaxTemp columns together on a simple line plot\n",
    "\n",
    "# insert your code here"
   ]
  },
  {
   "cell_type": "markdown",
   "id": "5ed683de-82cc-411f-962d-ce38ccb6aec6",
   "metadata": {},
   "source": [
    "<div style=\"background-color:palegreen\">\n",
    "\n",
    "### How to access the parts of a DataFrame index of type date/time\n",
    "\n",
    "Examples:\n",
    "```bash      \n",
    "    mydataframe.index.minute\n",
    "    mydataframe.index.hour\n",
    "    mydataframe.index.day\n",
    "    mydataframe.index.day_name()\n",
    "    mydataframe.index.day_of_week\n",
    "    mydataframe.index.day_of_year    \n",
    "    mydataframe.index.weekofyear \n",
    "    mydataframe.index.month\n",
    "    mydataframe.index.month_name\n",
    "    mydataframe.index.year  \n",
    "``` \n",
    "</div>"
   ]
  },
  {
   "cell_type": "code",
   "execution_count": null,
   "id": "2d022227-ccf1-49db-9d7d-1b2788d4082c",
   "metadata": {},
   "outputs": [],
   "source": [
    "# Use a group by to find the average Minimum and Maximum Temp for each day of the year\n",
    "\n",
    "# insert your code here\n",
    "\n",
    "# Result should be 366 rows × 2 columns"
   ]
  },
  {
   "cell_type": "code",
   "execution_count": null,
   "id": "6c4d38aa-0168-42dc-8360-a032ba0b9d66",
   "metadata": {},
   "outputs": [],
   "source": [
    "# Plot these day averages together on a single line plot\n",
    "\n",
    "# insert your code here"
   ]
  },
  {
   "cell_type": "code",
   "execution_count": null,
   "id": "09fcdeb6-9c61-488f-ad96-fbd8fd013661",
   "metadata": {},
   "outputs": [],
   "source": [
    "# Compute the statistical correlation between all variables in the weather data\n",
    "# Which columns are closely correlated?\n",
    "\n",
    "# insert your code here"
   ]
  },
  {
   "cell_type": "markdown",
   "id": "3f69877b-b7c9-48e8-897b-ea9f71769d6a",
   "metadata": {},
   "source": [
    "<div style=\"background-color:palegreen\">\n",
    "\n",
    "### How to Visualize a Pandas DataFrame as a scatter plot\n",
    "\n",
    "Example:\n",
    "```bash     \n",
    "    ax = mydataframe.plot.scatter(x='column1', y='column2')\n",
    "```\n",
    "</div>"
   ]
  },
  {
   "cell_type": "code",
   "execution_count": null,
   "id": "e39f05ea-8f5e-49d2-87c3-9b6a2140b25a",
   "metadata": {},
   "outputs": [],
   "source": [
    "# Create a scatter plot of the minimum temperature vs the maximum temperate\n",
    "# What pattern do you notice?\n",
    "\n",
    "# insert your code here"
   ]
  },
  {
   "cell_type": "code",
   "execution_count": null,
   "id": "294538d3-a7d2-47b8-bd47-c9b2bd270b72",
   "metadata": {},
   "outputs": [],
   "source": [
    "# Determine the minimum and maximum values of the MaxTemp column\n",
    "\n",
    "# insert your code here"
   ]
  },
  {
   "cell_type": "markdown",
   "id": "0c051199-67a4-463f-8dca-2e8237070b08",
   "metadata": {},
   "source": [
    "<div style=\"background-color:palegreen\">\n",
    "\n",
    "### How to group by using bins\n",
    "\n",
    "Example:\n",
    "```bash  \n",
    "    bins = range(lower, upper, step) # can use either a list or a range\n",
    "    groups = mydataframe.groupby(pandas.cut('columnName', bins)).SomeOtherColumnName\n",
    "```\n",
    "</div>"
   ]
  },
  {
   "cell_type": "code",
   "execution_count": null,
   "id": "dfed5019-28d8-44dd-ad6e-e46b1475711c",
   "metadata": {},
   "outputs": [],
   "source": [
    "# Divide the range of MaxTemp values into bins so that each bin covers 5 degrees\n",
    "# Use a group by over these MaxTemp bins to explore how the MinTemp is correlated to the MaxTemp.\n",
    "# For each group, use the agg method to compute:\n",
    "#     max (100 percentile), \n",
    "#     75 percentile, \n",
    "#     mean (50 percentile), \n",
    "#     25 percentile and \n",
    "#     min (0 percentile) \n",
    "\n",
    "def q25(x) :\n",
    "    return  x.quantile(0.25)\n",
    "\n",
    "# insert your code here\n"
   ]
  },
  {
   "cell_type": "code",
   "execution_count": null,
   "id": "8e7df284-c972-4ee2-8f50-890471a2bac2",
   "metadata": {},
   "outputs": [],
   "source": [
    "# plot the above data as a line graph.\n",
    "\n",
    "# insert your code here"
   ]
  },
  {
   "cell_type": "markdown",
   "id": "cb05ee8e-8429-4650-b776-f25330527d16",
   "metadata": {},
   "source": [
    "<div style=\"background-color:palegreen\">\n",
    "\n",
    "### How to plot a line graph with error bars\n",
    "\n",
    "Examples:\n",
    "```bash  \n",
    "    groups = mydataframe.plot(yerr=data.std(), ecolor='someColour', elinewidth=width, capsize=size,color='otherColour'))\n",
    "```\n",
    "</div>"
   ]
  },
  {
   "cell_type": "code",
   "execution_count": null,
   "id": "3162ce00-57ee-4487-9257-7e48546ac4ca",
   "metadata": {},
   "outputs": [],
   "source": [
    "# Plot just the mean MinTemp, but use the standard deviation as the y error bar\n",
    "\n",
    "# insert your code here"
   ]
  },
  {
   "cell_type": "code",
   "execution_count": null,
   "id": "ae07f71e-b145-4ece-a2fa-81bd19765b6c",
   "metadata": {},
   "outputs": [],
   "source": [
    "# Compute a new column named month that contains the month number of the index\n",
    "weather['month'] = weather.index.month"
   ]
  },
  {
   "cell_type": "code",
   "execution_count": null,
   "id": "be7e5b2b-bc8e-4408-9eab-85a9f84c4f24",
   "metadata": {},
   "outputs": [],
   "source": [
    "# Create  a box plot of the MaxTemp versus the month column\n",
    "\n",
    "# insert your code here"
   ]
  },
  {
   "cell_type": "code",
   "execution_count": null,
   "id": "f0edb6c6-6a0b-4761-bbe6-d5c09c7a74ca",
   "metadata": {},
   "outputs": [],
   "source": [
    "# Add friendly xtick labels to the above box plot\n",
    "# Hint, use:\n",
    "# ax.set_xticks(range(1,13), ['Jan','Feb','Mar','Apr','May','Jun','Jul','Aug','Sep','Oct','Nov','Dec'])"
   ]
  },
  {
   "cell_type": "code",
   "execution_count": null,
   "id": "377631be-3c65-49c5-9ad5-8797f5bef978",
   "metadata": {},
   "outputs": [],
   "source": [
    "# Use a group by to compute the average maximum temperature for each month of the year\n",
    "# Hint: groupby weather.index.month\n",
    "\n",
    "# insert your code here"
   ]
  },
  {
   "cell_type": "code",
   "execution_count": null,
   "id": "3a7a8c1d-b396-49cf-8c7f-541c5632c84c",
   "metadata": {},
   "outputs": [],
   "source": [
    "# Plot the above average maximum temperature for each month of the year and use the standard deviation as the y error bar\n",
    "\n",
    "# insert your code here"
   ]
  },
  {
   "cell_type": "code",
   "execution_count": null,
   "id": "37e50aa1-789b-4b50-a699-3083d9414c02",
   "metadata": {},
   "outputs": [],
   "source": [
    "# Add fill_between to the above graph from min to max and also  from 25 percentile to 50 percentile\n",
    "# Hint, use:\n",
    "#   means = max_temp_by_month.mean()\n",
    "#   ax.fill_between(means.index, max_temp_by_month.min(), max_temp_by_month.max(), alpha=0.1)\n",
    "#   ax.fill_between(means.index, max_temp_by_month.quantile(0.25), max_temp_by_month.quantile(0.75), alpha=0.2)\n",
    "\n",
    "# insert your code here"
   ]
  }
 ],
 "metadata": {
  "kernelspec": {
   "display_name": "Python 3 (ipykernel)",
   "language": "python",
   "name": "python3"
  },
  "language_info": {
   "codemirror_mode": {
    "name": "ipython",
    "version": 3
   },
   "file_extension": ".py",
   "mimetype": "text/x-python",
   "name": "python",
   "nbconvert_exporter": "python",
   "pygments_lexer": "ipython3",
   "version": "3.9.10"
  }
 },
 "nbformat": 4,
 "nbformat_minor": 5
}
