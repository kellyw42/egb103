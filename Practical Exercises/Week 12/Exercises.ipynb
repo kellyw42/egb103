{
 "cells": [
  {
   "cell_type": "markdown",
   "id": "550e24e5-bd79-404d-be65-39f7df8d38c3",
   "metadata": {},
   "source": [
    "# Installing required Python modules"
   ]
  },
  {
   "cell_type": "code",
   "execution_count": null,
   "id": "0bea1a63-a5d5-4242-a0a5-8bb0fbd3c55c",
   "metadata": {},
   "outputs": [],
   "source": [
    "# After executing the following commands you will need to restart the Python kernal (from the Kernel menu).\n",
    "%pip install ipyleaflet\n",
    "%pip install gtfs-realtime-bindings"
   ]
  },
  {
   "cell_type": "markdown",
   "id": "b2acc428-ebb7-40dc-b330-65d543c42566",
   "metadata": {},
   "source": [
    "# Visualizing GeoSpacial Data\n",
    "\n",
    "In this week's exercises we will explore a Python module called leaflet that allows us to visualize GeoSpacial data, i.e. data that has a longitude and latitude associated with it.\n",
    "\n",
    "We will start by revisiting the static GTFS public transport data set that we explored in week 9 and will  extend it to fetching and visualizing real-time vehicle locations."
   ]
  },
  {
   "cell_type": "code",
   "execution_count": null,
   "id": "844d4b67-b59f-4ade-abb8-91e340262e5e",
   "metadata": {},
   "outputs": [],
   "source": [
    "# Let's start by using leaflet to create an interactive map\n",
    "import ipyleaflet\n",
    "map = ipyleaflet.Map()\n",
    "map\n",
    "\n",
    "# Zoom out until you can see some land and then navigate to Australia"
   ]
  },
  {
   "cell_type": "code",
   "execution_count": null,
   "id": "d3e3ff26-7b4c-4040-aa6e-9e8b37784f35",
   "metadata": {},
   "outputs": [],
   "source": [
    "# Start as you did in week 9 by determining the exact longitute and latitude of the property where you live.\n",
    "my_longitude = # add your values here\n",
    "my_latitude = # add your values here"
   ]
  },
  {
   "cell_type": "code",
   "execution_count": null,
   "id": "ccb5eb6f-be92-4b40-8fda-4574909f3559",
   "metadata": {},
   "outputs": [],
   "source": [
    "# Now let's change the centre of the map, change the zoom level and change the map width and height\n",
    "map = ipyleaflet.Map(center=(my_longitude,my_latitude), zoom=15)\n",
    "map.layout.height=\"700px\"\n",
    "map.layout.width=\"1000px\"\n",
    "map"
   ]
  },
  {
   "cell_type": "code",
   "execution_count": null,
   "id": "23e69b94-3cd7-482b-9e54-85d611446208",
   "metadata": {},
   "outputs": [],
   "source": [
    "# Add a marker to the map to show the location of your home\n",
    "\n",
    "home = ipyleaflet.Marker(location=(my_longitude,my_latitude), draggable=False, icon=ipyleaflet.AwesomeIcon(name=\"home\", marker_color='blue'), title=\"Home\")\n",
    "map.add_layer(home)"
   ]
  },
  {
   "cell_type": "markdown",
   "id": "bc6dd66b-6b6b-4a30-94aa-f80e3de51bc9",
   "metadata": {},
   "source": [
    "# Stops near me ...\n",
    "\n",
    "The following is a repeat of what we did in the week 9 partical exercises"
   ]
  },
  {
   "cell_type": "code",
   "execution_count": null,
   "id": "9354a5fc-ebaf-49ca-83ec-31d7d316d470",
   "metadata": {},
   "outputs": [],
   "source": [
    "import pandas\n",
    "stops = pandas.read_csv('stops.txt', index_col = 0)"
   ]
  },
  {
   "cell_type": "code",
   "execution_count": null,
   "id": "86791c49-ab23-4a83-9c70-d49547fc5a06",
   "metadata": {},
   "outputs": [],
   "source": [
    "import math\n",
    "\n",
    "# https://en.wikipedia.org/wiki/Haversine_formula\n",
    "def haversine_distance(lon1, lat1, lon2, lat2):\n",
    "      # convert decimal degrees to radians \n",
    "      lon1 = math.radians(lon1)\n",
    "      lat1 = math.radians(lat1)\n",
    "      lon2 = math.radians(lon2)\n",
    "      lat2 = math.radians(lat2)\n",
    "        \n",
    "      # haversine formula \n",
    "      dlon = lon2 - lon1 \n",
    "      dlat = lat2 - lat1 \n",
    "      a =  math.sin(dlat/2)**2 +  math.cos(lat1) * math.cos(lat2) *  math.sin(dlon/2)**2\n",
    "      c = 2 * math.asin( math.sqrt(a)) \n",
    "      r = 6371 # Radius of earth in kilometers.\n",
    "      return c * r"
   ]
  },
  {
   "cell_type": "code",
   "execution_count": null,
   "id": "9bdaf948-846d-4d51-9889-bbfda43c17c9",
   "metadata": {},
   "outputs": [],
   "source": [
    "def near(stop_row, lon, lat) :\n",
    "    return haversine_distance(lon, lat, stop_row.stop_lat, stop_row.stop_lon)\n",
    "\n",
    "stops['dist_from_home'] = stops.apply(near, lon=my_longitude, lat=my_latitude, axis=1)\n",
    "\n",
    "nearby_stops = stops.sort_values('dist_from_home')\n",
    "nearby_stops[:10]"
   ]
  },
  {
   "cell_type": "markdown",
   "id": "749c685f-bbba-4fa3-b44a-59ff3f98be9a",
   "metadata": {},
   "source": [
    "# Visualize stops near me ..."
   ]
  },
  {
   "cell_type": "code",
   "execution_count": null,
   "id": "1fe113af-fc43-46d5-bfea-67a8527bee59",
   "metadata": {},
   "outputs": [],
   "source": [
    "# We now want to visualize the 10 stops closest to our home.\n",
    "# To do that, we will need to write a for loop that iterates through the rows in our Pandas dataframe:\n",
    "\n",
    "for index,stop in nearby_stops[:10].iterrows() :\n",
    "    print(index, stop[1], stop[2], stop[3], stop[4])"
   ]
  },
  {
   "cell_type": "code",
   "execution_count": null,
   "id": "f0feb5d2-2ba9-4284-8c41-679bf5d8c7cf",
   "metadata": {},
   "outputs": [],
   "source": [
    "# change the above loop so that it creates markers for each stop.\n",
    "# change the marker location so that it is based on the longitude and latitude of each stop\n",
    "# change the icon to show a \"bus\" rather than a home (https://fontawesome.com/v4/icons/)\n",
    "# change the marker colour to green\n",
    "# change the mouse over title to be the stop_id followed by the stop name\n",
    "\n",
    "for index,stop in nearby_stops[:10].iterrows() :\n",
    "    # add your code here"
   ]
  },
  {
   "cell_type": "markdown",
   "id": "6b1df932-6aa5-4de5-a4ca-cc0969038559",
   "metadata": {},
   "source": [
    "# Select a bus stop"
   ]
  },
  {
   "cell_type": "code",
   "execution_count": null,
   "id": "4f91bffe-5914-41b3-b39c-729aab1778f1",
   "metadata": {},
   "outputs": [],
   "source": [
    "# When visualizing the stops, if you put your mouse over an icon it will show the title which includes the stop_id\n",
    "# Select one of those stop_ids to explore further\n",
    "our_stop_id = ??? # make sure it is expressed as a 'string' rather than as an integer (as some stop_ids are not numeric)"
   ]
  },
  {
   "cell_type": "markdown",
   "id": "d3c60c1a-e191-41b7-8752-fbe53113b61b",
   "metadata": {},
   "source": [
    "# Find buses departing from my stop soon ...\n",
    "\n",
    "The following is a repeat of what we did in the week 9 partical exercises"
   ]
  },
  {
   "cell_type": "code",
   "execution_count": null,
   "id": "e18fced3-c178-4ab1-b476-c6c05c650e8f",
   "metadata": {},
   "outputs": [],
   "source": [
    "stop_times = pandas.read_csv('stop_times.txt', dtype={'stop_id':'str'})\n",
    "services = pandas.read_csv('calendar.txt', index_col = 0, parse_dates=['start_date','end_date'])"
   ]
  },
  {
   "cell_type": "code",
   "execution_count": null,
   "id": "9ef377c9-ea6c-4620-842c-311ded70e400",
   "metadata": {},
   "outputs": [],
   "source": [
    "import pytz\n",
    "timezone = pytz.timezone('Australia/Brisbane')\n",
    "today = pandas.Timestamp.now(tz=timezone).tz_localize(None)"
   ]
  },
  {
   "cell_type": "markdown",
   "id": "d1bb230c-672a-48a1-9fac-96abfe935439",
   "metadata": {},
   "source": [
    "## Make sure your update the day in the following query to reflect the current day of the week ..."
   ]
  },
  {
   "cell_type": "code",
   "execution_count": null,
   "id": "586c09d8-7d01-4e67-a2aa-ddfe646919e4",
   "metadata": {},
   "outputs": [],
   "source": [
    "todays_services = services[(services.thursday == 1) & (services.start_date <= today) & (today <= services.end_date)].index"
   ]
  },
  {
   "cell_type": "code",
   "execution_count": null,
   "id": "8d7579a2-83a8-4488-b5f5-e7ebfa55a808",
   "metadata": {},
   "outputs": [],
   "source": [
    "trips = pandas.read_csv('trips.txt', index_col = 2)"
   ]
  },
  {
   "cell_type": "code",
   "execution_count": null,
   "id": "b63e9676-ea0a-4009-b8ba-2c6bbd05cc4a",
   "metadata": {},
   "outputs": [],
   "source": [
    "todays_trips = trips[trips.service_id.isin(todays_services)].index"
   ]
  },
  {
   "cell_type": "code",
   "execution_count": null,
   "id": "11aec03c-6e42-478a-8c7f-ef6c0bf84d09",
   "metadata": {},
   "outputs": [],
   "source": [
    "time_now = today.strftime('%H:%M:%S')\n",
    "\n",
    "arriving_soon = stop_times[(stop_times.stop_id==our_stop_id) & (stop_times.trip_id.isin(todays_trips)) & (time_now <= stop_times.arrival_time)  ]"
   ]
  },
  {
   "cell_type": "code",
   "execution_count": null,
   "id": "87b14993-667a-40ee-bdbb-250ef35d82f2",
   "metadata": {},
   "outputs": [],
   "source": [
    "stops_with_trips = arriving_soon.join(trips, on='trip_id')"
   ]
  },
  {
   "cell_type": "code",
   "execution_count": null,
   "id": "8882caf7-8f49-41da-8260-b57bc7554ea2",
   "metadata": {},
   "outputs": [],
   "source": [
    "routes = pandas.read_csv('routes.txt', index_col = 0)"
   ]
  },
  {
   "cell_type": "code",
   "execution_count": null,
   "id": "503c8a03-c31f-4964-9e00-2b8519207518",
   "metadata": {},
   "outputs": [],
   "source": [
    "full = arriving_soon.join(trips, on='trip_id').join(routes, on='route_id')"
   ]
  },
  {
   "cell_type": "code",
   "execution_count": null,
   "id": "fc4c1dd6-8170-4062-aea4-f5a41dc5b9ad",
   "metadata": {},
   "outputs": [],
   "source": [
    "show = full[['trip_id','arrival_time', 'route_short_name', 'route_long_name', 'trip_headsign']]\n",
    "show"
   ]
  },
  {
   "cell_type": "markdown",
   "id": "502ead7f-b669-4523-84ee-f174eaa470ad",
   "metadata": {},
   "source": [
    "## Select a trip"
   ]
  },
  {
   "cell_type": "code",
   "execution_count": null,
   "id": "48db06fc-9f2d-45da-9158-26a71abd2758",
   "metadata": {},
   "outputs": [],
   "source": [
    "# Select one of these trips to explore further ...\n",
    "our_trip_id = ???"
   ]
  },
  {
   "cell_type": "code",
   "execution_count": null,
   "id": "d0c47526-1775-4cbf-b3dc-464ffe374b0f",
   "metadata": {},
   "outputs": [],
   "source": [
    "my_stops = stop_times[stop_times.trip_id == our_trip_id]\n",
    "full_stop_data = my_stops.join(stops, on='stop_id')[['arrival_time', 'stop_name', 'stop_lat', 'stop_lon']]\n",
    "full_stop_data"
   ]
  },
  {
   "cell_type": "markdown",
   "id": "ee3c6450-b77b-443e-8cbc-4fb00b4ab674",
   "metadata": {},
   "source": [
    "# Visualize the stops on the trip ..."
   ]
  },
  {
   "cell_type": "code",
   "execution_count": null,
   "id": "70bc12bb-6a04-4a37-8b25-06ee61ed64f6",
   "metadata": {},
   "outputs": [],
   "source": [
    "# Add markers for each of these stops to your map.\n",
    "# Use a different colour and icon from what you used previously for stops near you (https://fontawesome.com/v4/icons/)\n",
    "# The mouse over title should be the arrival time followed  by the stop name\n",
    "\n",
    "# Add your code here"
   ]
  },
  {
   "cell_type": "markdown",
   "id": "c84257ff-21b8-4813-a123-92a0ac68db32",
   "metadata": {},
   "source": [
    "# Get Realtime vehicle position feed ...\n",
    "\n",
    "Next we will fetch some real-time GTFS data (updated every 30 seconds) to get the current location of buses around Brisbane"
   ]
  },
  {
   "cell_type": "code",
   "execution_count": null,
   "id": "40c3302b-aa63-469e-91fa-60ae2ed529b2",
   "metadata": {},
   "outputs": [],
   "source": [
    "# Because these bus locations will get updated, we want to be able to easily remove the old bus icons and add new icons at the updated locations\n",
    "# To do so, rather than adding these markers directly to the map, we will instead create a Layer group and add these real-time bus locations to that layer\n",
    "bus_markers = ipyleaflet.LayerGroup()\n",
    "# We then add this layer group to the map\n",
    "map.add_layer(bus_markers)"
   ]
  },
  {
   "cell_type": "code",
   "execution_count": null,
   "id": "438a1249-21e6-4378-9395-77d54df51ba4",
   "metadata": {},
   "outputs": [],
   "source": [
    "# First we need to make a HTTPS request to fetch the latest data from the translink website \n",
    "import requests\n",
    "response = requests.get('https://gtfsrt.api.translink.com.au/api/realtime/SEQ/VehiclePositions')"
   ]
  },
  {
   "cell_type": "code",
   "execution_count": null,
   "id": "81990950-70f7-4d69-a7d4-5a06f1bbd25f",
   "metadata": {},
   "outputs": [],
   "source": [
    "# If you were to  view the response.content, you would see that the information is encoded in a binary format.\n",
    "# To decode that binary format, we need to import a GTFS module.\n",
    "\n",
    "from google.transit import  gtfs_realtime_pb2\n",
    "feed = gtfs_realtime_pb2.FeedMessage()"
   ]
  },
  {
   "cell_type": "code",
   "execution_count": null,
   "id": "97177f0a-2015-4939-b538-73d75302c6f1",
   "metadata": {},
   "outputs": [],
   "source": [
    "# We can now parse the response using this GTFS feed object\n",
    "feed.ParseFromString(response.content)"
   ]
  },
  {
   "cell_type": "code",
   "execution_count": null,
   "id": "ab67d866-4b26-40e7-8196-2ac2e955240c",
   "metadata": {},
   "outputs": [],
   "source": [
    "# The feed now provides us with a list of entities.\n",
    "# Let's start by viewing the first entity in the list ...\n",
    "\n",
    "update = feed.entity[0]\n",
    "print(update)"
   ]
  },
  {
   "cell_type": "code",
   "execution_count": null,
   "id": "d95afa95-36b9-487d-9151-27a490a8bbfd",
   "metadata": {},
   "outputs": [],
   "source": [
    "# We can see that the update contains and id, and a vehicle. The vehicle then contains a trip and a position, and the trip contains a trip_id etc.\n",
    "# So, we can, for example access the trip_id as follows\n",
    "print(update.vehicle.trip.trip_id)"
   ]
  },
  {
   "cell_type": "code",
   "execution_count": null,
   "id": "fa183fa1-b83b-4be3-a2e7-d25fcbc05b45",
   "metadata": {},
   "outputs": [],
   "source": [
    "# write a similar expression to access the longitude and latitude of the vehicle\n",
    "\n",
    "# add your code here"
   ]
  },
  {
   "cell_type": "code",
   "execution_count": null,
   "id": "b76e9c19-fecc-4f74-9d10-89fa8ac8e13d",
   "metadata": {},
   "outputs": [],
   "source": [
    "# Finally we will iterate through all the entities and add markers to our bus marker layer for every bus.\n",
    "# Change the location based on the longitude and latitude of the vehicle\n",
    "# Change icon and colour (https://fontawesome.com/v4/icons/)\n",
    "# Change the mouse over title to be the trip_id\n",
    "bus_markers.clear_layers()\n",
    "for entity in feed.entity :\n",
    "    # add your code here ...\n",
    "    bus_markers.add_layer(bus_marker)    "
   ]
  }
 ],
 "metadata": {
  "kernelspec": {
   "display_name": "Python 3 (ipykernel)",
   "language": "python",
   "name": "python3"
  },
  "language_info": {
   "codemirror_mode": {
    "name": "ipython",
    "version": 3
   },
   "file_extension": ".py",
   "mimetype": "text/x-python",
   "name": "python",
   "nbconvert_exporter": "python",
   "pygments_lexer": "ipython3",
   "version": "3.9.10"
  }
 },
 "nbformat": 4,
 "nbformat_minor": 5
}
