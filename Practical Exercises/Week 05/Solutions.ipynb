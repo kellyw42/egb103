{
 "cells": [
  {
   "cell_type": "markdown",
   "id": "79ca7265-c512-4275-89fc-5b7490d0a2d8",
   "metadata": {},
   "source": [
    "# Topic: Ranges and More Loops\n",
    "\n",
    "## Python Concepts: \n",
    "* Nested FOR loops\n",
    "* Nested lists\n",
    "* WHILE loops\n",
    "* Iterating over index values\n",
    "\n",
    "### Keywords\n",
    "* <code>in</code>\n",
    "* <code>while</code>\n",
    "\n",
    "### Data Types\n",
    "* <code>list</code>\n",
    "* <code>range</code>\n",
    "\n",
    "### Built-In functions:\n",
    "* <code>range</code>\n",
    "* <code>len</code>\n",
    "* <code>hex</code>\n",
    "* <code>type</code>\n",
    "* <code>str</code>\n",
    "* <code>int</code>\n",
    "* <code>sum</code>\n",
    "\n",
    "### Methods:\n",
    "* <code><i>list</i>.append</code>\n",
    "* <code><i>str</i>.rjust</code>\n",
    "\n",
    "### Modules:\n",
    "* <code>random</code> [<code>randint</code>]\n",
    "\n",
    "<hr>"
   ]
  },
  {
   "cell_type": "markdown",
   "id": "21670ba6-1a43-438c-aedb-fe723e2f87ed",
   "metadata": {},
   "source": [
    "<u><b>EXERCISES:</b></u>\n",
    "      <br>\n",
    "      \n",
    "[Multiplication Matrix](#multiplication_matrix)\n",
    "\n",
    ">[Print_Multiplication Table](#print_multiplication_table)\n",
    "        <br>\n",
    "    [Store Multiplication Table](#store_multiplication_table)\n",
    "        <br>\n",
    "    [Lookup Multiplication Table](#lookup_multiplication_table)\n",
    "        <br>\n",
    "    [Multiplication Matrix Function](#Multiplication_Matrix_Function)\n",
    "    <br>\n",
    "\n",
    "[Generate Hex](#Generate_Hex_a)\n",
    "        <br>\n",
    "    [Generate Hex - Condensed](#Generate_Hex_b)\n",
    "        <br>\n",
    "  [Count Over Threshold](#count_over_threshold)\n",
    "    <br>\n",
    "    [Is List Sorted](#is_list_sorted)\n",
    "        <br>\n",
    "    [Reverse Slice](#reverse_slice)\n",
    "    <br>\n",
    "    \n",
    "[List Manipulation](#list_manipulation)\n",
    "  >[Shift_Left](#shift_left)\n",
    "    <br>\n",
    "    [Shift Left By N](#shift_left_by_N)\n",
    "    <br>\n",
    "\n",
    "[Count Digits](#count_digits)\n",
    "<br>\n",
    "[Print Binary](#print_binary)\n",
    "<br>\n",
    "[Print Decimal](#print_decimal)\n",
    "<br>\n",
    "[Golf](#golfing)\n",
    "<br>\n",
    "\n",
    "\n",
    "[Structures - Concrete Cylinder Test Data Analysis](#concrete_cylinder_test_data_analysis)\n",
    " > [Cross Area](#cross_area)<br>\n",
    "    [Compressive Stress](#compressive_stress)<br>\n",
    "    \n",
    "[Structures - Stress-Strain Model for Concrete](#stress-strain)<br>\n",
    "   > [Stress](#stress)\n",
    "   <br>\n",
    "\n",
    "\n",
    "<hr>"
   ]
  },
  {
   "cell_type": "markdown",
   "id": "ce4557c3-a4a2-4666-89ea-3181c479fa7e",
   "metadata": {},
   "source": [
    "# ASCII Art"
   ]
  },
  {
   "cell_type": "code",
   "execution_count": 1,
   "id": "1e0ccb7c-98b7-4b07-946b-a6f7ac4a9a4c",
   "metadata": {},
   "outputs": [
    {
     "name": "stdout",
     "output_type": "stream",
     "text": [
      "*\n",
      "*\n",
      "*\n",
      "*\n",
      "*\n",
      "*\n",
      "*\n",
      "*\n",
      "*\n",
      "*\n"
     ]
    }
   ],
   "source": [
    "# Observe the difference between the following examples:\n",
    "for i in range(10) :\n",
    "    print('*')"
   ]
  },
  {
   "cell_type": "code",
   "execution_count": 2,
   "id": "c55b50e9-b92e-47dd-bd76-e8b487b3eb0c",
   "metadata": {},
   "outputs": [
    {
     "name": "stdout",
     "output_type": "stream",
     "text": [
      "*, *, *, *, *, *, *, *, *, *, "
     ]
    }
   ],
   "source": [
    "for i in range(10) :\n",
    "    print('*', end = ', ')"
   ]
  },
  {
   "cell_type": "code",
   "execution_count": 3,
   "id": "0dcd14b5-77da-4c15-9163-08812db4e89e",
   "metadata": {},
   "outputs": [
    {
     "name": "stdout",
     "output_type": "stream",
     "text": [
      "**********"
     ]
    }
   ],
   "source": [
    "for i in range(10) :\n",
    "    print('*', end = '')"
   ]
  },
  {
   "cell_type": "code",
   "execution_count": 4,
   "id": "a9d5c324-2238-4171-9cd7-48fc807357e6",
   "metadata": {},
   "outputs": [],
   "source": [
    "# What does the end parameter do?"
   ]
  },
  {
   "cell_type": "code",
   "execution_count": 5,
   "id": "fc204ba3-d92a-490e-bc22-9a69147336b0",
   "metadata": {},
   "outputs": [],
   "source": [
    "# Use nested for loops and print to generate the following ASCII art:"
   ]
  },
  {
   "cell_type": "markdown",
   "id": "73875a8b-447b-4eb9-ad37-927c1dbb39ae",
   "metadata": {},
   "source": [
    "<pre>\n",
    "*\n",
    "**\n",
    "***\n",
    "****\n",
    "*****\n",
    "******\n",
    "*******\n",
    "********\n",
    "*********\n",
    "</pre>"
   ]
  },
  {
   "cell_type": "code",
   "execution_count": 6,
   "id": "0559354d-081e-473d-bd59-d647cf090ebb",
   "metadata": {},
   "outputs": [
    {
     "name": "stdout",
     "output_type": "stream",
     "text": [
      "\n",
      "*\n",
      "**\n",
      "***\n",
      "****\n",
      "*****\n",
      "******\n",
      "*******\n",
      "********\n",
      "*********\n"
     ]
    }
   ],
   "source": [
    "for i in range(10) :\n",
    "    for j in range(i) :\n",
    "        print(end='*')\n",
    "    print()"
   ]
  },
  {
   "cell_type": "markdown",
   "id": "9736b653-c2e3-4851-9873-526ff11e9e9b",
   "metadata": {},
   "source": [
    "<pre>\n",
    "*****\n",
    "****\n",
    "***\n",
    "**\n",
    "*\n",
    "</pre>"
   ]
  },
  {
   "cell_type": "code",
   "execution_count": 7,
   "id": "8e4c6c7f-e93c-4329-a8b5-6f71977f22d3",
   "metadata": {},
   "outputs": [
    {
     "name": "stdout",
     "output_type": "stream",
     "text": [
      "*****\n",
      "****\n",
      "***\n",
      "**\n",
      "*\n"
     ]
    }
   ],
   "source": [
    "for i in range(5, 0, -1) :\n",
    "    for j in range(i) :\n",
    "        print(end='*')\n",
    "    print()"
   ]
  },
  {
   "cell_type": "markdown",
   "id": "cca57feb-ee6c-49eb-84ff-c7783261905d",
   "metadata": {},
   "source": [
    "<pre>\n",
    "***********\n",
    "***********\n",
    "***********\n",
    "***********\n",
    "</pre>"
   ]
  },
  {
   "cell_type": "code",
   "execution_count": 8,
   "id": "7095e5a1-8876-4215-8dac-f038cc37bc0e",
   "metadata": {},
   "outputs": [
    {
     "name": "stdout",
     "output_type": "stream",
     "text": [
      "***********\n",
      "***********\n",
      "***********\n",
      "***********\n"
     ]
    }
   ],
   "source": [
    "for i in range(4) :\n",
    "    for j in range(11) :\n",
    "        print(end='*')\n",
    "    print()"
   ]
  },
  {
   "cell_type": "markdown",
   "id": "ebc6fba4-276f-45d5-904f-d4b2ccf7571d",
   "metadata": {},
   "source": [
    "<pre>\n",
    "0\n",
    "*1\n",
    "****4\n",
    "*********9\n",
    "****************16\n",
    "*************************25\n",
    "************************************36\n",
    "*************************************************49\n",
    "****************************************************************64\n",
    "*********************************************************************************81\n",
    "</pre>"
   ]
  },
  {
   "cell_type": "code",
   "execution_count": 9,
   "id": "f67298a3-e60a-4f24-a143-27b72f659eda",
   "metadata": {},
   "outputs": [
    {
     "name": "stdout",
     "output_type": "stream",
     "text": [
      "0\n",
      "*1\n",
      "****4\n",
      "*********9\n",
      "****************16\n",
      "*************************25\n",
      "************************************36\n",
      "*************************************************49\n",
      "****************************************************************64\n",
      "*********************************************************************************81\n"
     ]
    }
   ],
   "source": [
    "for i in range(10) :\n",
    "    for j in range(i**2) :\n",
    "        print(end='*')\n",
    "    print(i**2)"
   ]
  },
  {
   "cell_type": "markdown",
   "id": "1fe00723-d48e-4873-94a2-37d4663450ee",
   "metadata": {
    "tags": []
   },
   "source": [
    "<a name=\"multiplication_matrix\"><a>\n",
    "# Multiplication Matrix\n",
    "<hr>"
   ]
  },
  {
   "cell_type": "code",
   "execution_count": 10,
   "id": "59340a2e-6c1c-4b7d-a57d-4de8eefab945",
   "metadata": {},
   "outputs": [
    {
     "data": {
      "text/plain": [
       "'36'"
      ]
     },
     "execution_count": 10,
     "metadata": {},
     "output_type": "execute_result"
    }
   ],
   "source": [
    "# what does the str function do?\n",
    "str(36)"
   ]
  },
  {
   "cell_type": "code",
   "execution_count": 11,
   "id": "8435357b-6cf5-4e1f-b4f6-340b40df60df",
   "metadata": {},
   "outputs": [
    {
     "data": {
      "text/plain": [
       "'     36'"
      ]
     },
     "execution_count": 11,
     "metadata": {},
     "output_type": "execute_result"
    }
   ],
   "source": [
    "# what does the rjust string method do?\n",
    "str(36).rjust(7)"
   ]
  },
  {
   "cell_type": "markdown",
   "id": "518a02f5-d331-43d0-b3fe-e266ef5e3a52",
   "metadata": {
    "tags": []
   },
   "source": [
    "<a name=\"print_multiplication_table\"></a>\n",
    "<b>Q: Print Multiplication Table</b>\n",
    "\n",
    "<img src=\"data:image/png;base64,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\">"
   ]
  },
  {
   "cell_type": "code",
   "execution_count": 12,
   "id": "72bbb675-8acd-48d5-949e-e6bfc2a6e3b9",
   "metadata": {
    "tags": []
   },
   "outputs": [],
   "source": [
    "# Imagine you are charged with tutoring a primary school child in arithmetic.\n",
    "# You want to produce a multiplication table for numbers from 1 to 12 to help the child memorise the 'times table'.\n",
    "# Using nested FOR loops, output (print) such a table that looks like the image above.\n",
    "# HINTs: \n",
    "# * The string method: \n",
    "#       rjust\n",
    "#   will be useful for outputting each number to a set number of spaces, \n",
    "#   right justified.\n",
    "# * Supplying an empty string as the argument for the default parameter (end)\n",
    "#   will ensure that a call to print does NOT output a newline character as well."
   ]
  },
  {
   "cell_type": "code",
   "execution_count": 13,
   "id": "9756e76d-c222-43be-94cf-0651f8241a9a",
   "metadata": {},
   "outputs": [
    {
     "name": "stdout",
     "output_type": "stream",
     "text": [
      "   1   2   3   4   5   6   7   8   9  10  11  12\n",
      "   2   4   6   8  10  12  14  16  18  20  22  24\n",
      "   3   6   9  12  15  18  21  24  27  30  33  36\n",
      "   4   8  12  16  20  24  28  32  36  40  44  48\n",
      "   5  10  15  20  25  30  35  40  45  50  55  60\n",
      "   6  12  18  24  30  36  42  48  54  60  66  72\n",
      "   7  14  21  28  35  42  49  56  63  70  77  84\n",
      "   8  16  24  32  40  48  56  64  72  80  88  96\n",
      "   9  18  27  36  45  54  63  72  81  90  99 108\n",
      "  10  20  30  40  50  60  70  80  90 100 110 120\n",
      "  11  22  33  44  55  66  77  88  99 110 121 132\n",
      "  12  24  36  48  60  72  84  96 108 120 132 144\n"
     ]
    }
   ],
   "source": [
    "# WRITE YOUR SOLUTION HERE\n",
    "for i in range(1,13) :\n",
    "    for j in range(1,13) :\n",
    "        print(str(i*j).rjust(4), end='')\n",
    "    print()"
   ]
  },
  {
   "cell_type": "markdown",
   "id": "97d4f18b-9c58-4680-8728-7ca8023bf426",
   "metadata": {},
   "source": [
    "<a name=\"store_multiplication_table\"></a>\n",
    "<b>Q: Store Multiplication Table</b>"
   ]
  },
  {
   "cell_type": "code",
   "execution_count": 14,
   "id": "81fdfc53-cef8-464f-a74a-804498e4f903",
   "metadata": {},
   "outputs": [
    {
     "data": {
      "text/plain": [
       "[[1, 2, 3, 4, 5, 6, 7, 8, 9, 10, 11, 12],\n",
       " [2, 4, 6, 8, 10, 12, 14, 16, 18, 20, 22, 24],\n",
       " [3, 6, 9, 12, 15, 18, 21, 24, 27, 30, 33, 36],\n",
       " [4, 8, 12, 16, 20, 24, 28, 32, 36, 40, 44, 48],\n",
       " [5, 10, 15, 20, 25, 30, 35, 40, 45, 50, 55, 60],\n",
       " [6, 12, 18, 24, 30, 36, 42, 48, 54, 60, 66, 72],\n",
       " [7, 14, 21, 28, 35, 42, 49, 56, 63, 70, 77, 84],\n",
       " [8, 16, 24, 32, 40, 48, 56, 64, 72, 80, 88, 96],\n",
       " [9, 18, 27, 36, 45, 54, 63, 72, 81, 90, 99, 108],\n",
       " [10, 20, 30, 40, 50, 60, 70, 80, 90, 100, 110, 120],\n",
       " [11, 22, 33, 44, 55, 66, 77, 88, 99, 110, 121, 132],\n",
       " [12, 24, 36, 48, 60, 72, 84, 96, 108, 120, 132, 144]]"
      ]
     },
     "execution_count": 14,
     "metadata": {},
     "output_type": "execute_result"
    }
   ],
   "source": [
    "# After using a printout of the multiplication matrix from the\n",
    "# previous exercise for your student to memorise, you decide to further\n",
    "# automate your teaching resources by firstly storing\n",
    "# each of the values in a Python list.\n",
    "# Using nested FOR loops, construct a list of lists\n",
    "# to store the 1 to 12 times table\n",
    "# Check your answer against the one you printed above.\n",
    "# HINTs: \n",
    "# * Create an empty list for the times table, and append a new list \n",
    "# for each row in the table\n",
    "# * The list method: \n",
    "#        append\n",
    "# will be useful for adding a value to the sublist, and adding a list\n",
    "# to the table\n",
    "\n",
    "# WRITE YOUR SOLUTION HERE\n",
    "times_tables = []\n",
    "for i in range(1,13) :\n",
    "    table = []\n",
    "    for j in range(1,13) :\n",
    "        table.append(i*j)\n",
    "    times_tables.append(table)\n",
    "times_tables"
   ]
  },
  {
   "cell_type": "markdown",
   "id": "b6166cc6-39b1-44bf-b458-e71d6e0ba95b",
   "metadata": {},
   "source": [
    "<a name=\"lookup_multiplication_table\"></a>\n",
    "<b>Q: Lookup Multiplication Table</b>"
   ]
  },
  {
   "cell_type": "code",
   "execution_count": 15,
   "id": "c953fa61-680a-4103-aba1-5c6039465fef",
   "metadata": {},
   "outputs": [],
   "source": [
    "# Now use the times table created in the previous exercise\n",
    "# to look up the product of two numbers\n",
    "# You will need to index into the Python list of lists to extract\n",
    "# the product of two numbers in the form: table[row][column]\n",
    "# Remember that Python lists are 0-indexed, so you will need\n",
    "# to take that into account when specifying the multiplicand\n",
    "# and multiplier\n",
    "\n",
    "# WRITE YOUR SOLUTION HERE\n",
    "def look_up_tables(multiplicand, multiplier) :\n",
    "    answer = times_tables[multiplicand-1][multiplier-1] \n",
    "    print(multiplicand, 'x', multiplier, 'is', answer)"
   ]
  },
  {
   "cell_type": "code",
   "execution_count": 16,
   "id": "bf911272-5a7a-4862-a52a-59d11f703e1f",
   "metadata": {},
   "outputs": [
    {
     "name": "stdout",
     "output_type": "stream",
     "text": [
      "7 x 12 is 84\n"
     ]
    }
   ],
   "source": [
    "look_up_tables(7, 12) # Answer should be 7 x 12 is 84"
   ]
  },
  {
   "cell_type": "code",
   "execution_count": 17,
   "id": "6cbd322f-0464-425d-86b1-552cfe4a8be3",
   "metadata": {},
   "outputs": [
    {
     "name": "stdout",
     "output_type": "stream",
     "text": [
      "9 x 3 is 27\n"
     ]
    }
   ],
   "source": [
    "look_up_tables(9, 3) # Answer should be 9 x 3 is 27"
   ]
  },
  {
   "cell_type": "markdown",
   "id": "73b2b580-3c72-4cbb-8769-de5ecf70bec1",
   "metadata": {},
   "source": [
    "<a name=\"Multiplication_Matrix_Function\"></a>\n",
    "<b>Q: Multiplication Matrix Function</b>"
   ]
  },
  {
   "cell_type": "code",
   "execution_count": 18,
   "id": "5d55a45e-6f3f-4b47-8a43-22940a72e20b",
   "metadata": {},
   "outputs": [],
   "source": [
    "# As an exercise in refactoring existing code, \n",
    "# revisit your solution to the Print Multiplication Table.  \n",
    "# Your task is to write a parameterised function to produce a multiplication matrix \n",
    "# (aka 'times table') up to any number <= 20, like the examples shown below."
   ]
  },
  {
   "cell_type": "markdown",
   "id": "7fb80165-cbe8-4398-9f45-d439e55a852f",
   "metadata": {},
   "source": [
    "<img src=\"data:image/png;base64,iVBORw0KGgoAAAANSUhEUgAAAicAAACgCAIAAABYGFvDAAAAAXNSR0IArs4c6QAAAARnQU1BAACxjwv8YQUAAAAJcEhZcwAADsMAAA7DAcdvqGQAACAKSURBVHhe7d1/cBNnmifw3svUKUWuNMVUNZW5sipj42QKK3MbNwdaUbm1fNxYPhaLcazT5qKYVHRiglawyKeCaJwQxUnwOGF0FtiKLuBoanC0M9GKMJZTrAWXs5ilrHMFt7kbBLeJcQWku1DuqlDoKpS7aiiuu/X6FzbYxtJr2fl+/gC9b7fV/b5Sv0+/b7+t/rO7d+8yAAAAVPwz8j8AAEDhIeoAAAA9iDoAAEAPos7i3Yh7qst01q6USDLyTEx1WXVl1Z74DZJBW6ELWPSEuKdKqoBj39kKKDjU8HfZdynq3Ig5yqY4egWSv0jC57+PXGOEZGviMslZqAXuwOVEa1JgrkV+//lD7uESPXwBVwkh2RtJS/+2JVIkZ8XgO6RvVoAnqYIR4i7lKxx7yBOjFVzDDyb0yod4YJgk55CnVoj5Y0Anv0HhP+sCWDlR54JPruQ9sWmfUjpik/Me/pObLct3HbB6Tj/oDdlNP7M8wbBbWwwVJCfPKgzNepapbPzrTSzJyaNiKOB9pE/Jx6OuY9pxJCZ9uWPrAYfxvbJ8yGNtji/hO8Hq6ywahjV4DVqSAzOx7JPk1XRCbI/8Yc1p5kFarDU8HCC7O4cia99ZDUderTwrJuoIX49I33X29D8kJ0+vriX7EuTlgjxuCo4qBvxGkjXL7cxQNHnrDknN7XFjW//o4PFGrYpkLNRCdkCi0trDg6MnWwyPk4x8KmgBl0bIxKWPmPkoOXl4i/xAZNHRQ8zwkWR2SSM3rLHt3Ohg6CXKFbDilJc87Ff0u1vDC2wEFsioKcCZacGtqBG2TRaLIT7wP7O5VPrzvpTDac8lYHWot1iYPp6M7In8+YjW4czDwQl5pmLk1u7RXGICa+rMNaiSqFvKaIqS1OhosG4lNI+VTrK7o6ODR6TvndE/QJKjo87i6ls8opID9iP3fgYrwsq6rvNkdb0xcp5Xwk46eVrY9VfV32eY7LfjUnqOEVWlv7yw8beJwYEtrjjDxPcpwzrEVM9aGTSfdG+PW9kBR+yGONLbaquV36HK1hq7uoiT7lwRJtxv0Dw7Eg94GqrkVXQ1trbYyG2yQCbwsQ6PVdl6WbXZcbCbv0kWLL2AsjtC8jfeXOlmvr9M/nNdICWtc8xjrpbW0NXs65q+wvweq65+caznfyij/VJPJ1r9138lj+Xc+naiGu9bwMna07lOM8xp14wSTnwr5D1UBmnTiYBr4jOKZ8hSafmMEZbpY32yVFeDlOuITa3PiBd8dWVlde08tavi2WuJ7oMOpXrLdLVWT0d8xhfgHpmYXBE619Q+3xH43oDHWqPUT5V5j7f7AjmNW4x1mk3k1SI9sIblA1aq3nS8Wdq9KlsoJd5Ode+RvupVntNpso5ESHYdMCsHQJX5QCD+xb37n/0iHiAr6Gp2tcZmrbAk81eg1AERJw/SxTYCsvkKKJt7kHNlWDFRZywjf0E1m/69Mdwvh51ryb6xHfoKVmNkksISxvDzLPvfD1ulpjbxhbxL6USX64VX8zoVLR0/UFfj8EWGlYNQGEkcc/k+myy+EGsxu9ojSWXrzDU+Hvaa7V35u2Cbjh3Ybm3pzpWOvH/ttBZNIgz5dm+3tkX4a3JCCsBmd2Rag/EAgvCV/B/37M6xT5LSPsvDa1XV+oqScmnDN3MHXj4KmB3r7zBX2Xyxic/IsXuB76C1H/EbmbirLUZKdJvvfDOQqnS3vMLRGiniu6tt3nBcqV5G+CIZaXdYf5mYu1m9mfTtc8UYk/+k31RC8oTTb5j3+SLJEaUG0/zpbq/F1rXoaSO5bk1BTv+HPmhy/E7avXTinYjvqM0rx5t0pCVGApQUR7dbW6O88hGk+ajPUWsLDE816+IfA7Zah4+sIIx81uWq7Z7j/OlhLaACs0MfOqwTB+miG4H5CjiBk/tlnaaVOMLG3F0hho6Wljp7xu5e//jl0kP/OD4W2739g0t37471OEtLjw5JK0g5paWlnXxudQXfKeXsjo2R5KSve6RV58iXPGDRNPLOlHbKW50mtwOlpZtffn9gbFzKuPXlb/dtLi194bfXcytMmW8rylvt7vmaJCflNrHZ3jmQljdw90/j1/mPT/RPvs9Y39HOHv76+J+U1PhY/3sN0uqd/0tJ5iyhgNf//mUpt+HNnkvfKOnxsYH3X5YKuPm9AWVvcn8lr/JG7Mtb8grXP5Y+HakgaWXxPCY+yvGBX21+4eOvpHfb/Gqf9DZD0qc4scMLKGDufeSvyhym7eGlW/Kb3Br4L9tnvYNE3mjue3WP6zH5M939ifSZjg/Jf/uytKsUXTrxixP9I7dyFX73m0sf/2dpd/b1TZR26oP7dqjzudJSw6t9Myt/rK+zMzZ0/dtcSqrBX8k1+L50KOXXfStwwlwrKAes9Ol08uPXP8kdTfKX59IHUj3nDgflw9287+MUqYFbqZ43pGK+/PHkMabUwBt935AaGk8Pffz2iYco3n2PwQdW4JIbgfkLuAqsrBE2iUa/zdAzHE/GMzueLcYZRkZfNOTQs/Kpr7r8+Z07WSb5+WXltGjp0v1/H2cqnMEjTn2Jcm79iEpTaWk0TJ7usMa9TlOlRvWIklKxhn9XLZ2cMX9SkkuVTsYSTEVzi9ekXatkqFi9o8VtYIQgP62vwJqOtLfUlaullypNtdHIMPH0osqv4raYR/r5WPKj6urN8ttMk5cCcu6T4ZY6rVp+E7XeULuod9DUvfWulY27W7tPdXo7xkxHWixPkEULMnPirGzGtMx5aRtbGw3r1aRrtVZbbZD6G6J4z/SQ23xgl8P3jSXY3Wac6OXksEans47TrMmlpBqslmvwT9QGCOfH/txtr1Q9+j35Nff6HqmXtu6HE2W4kfyH04zlrbcsFaQG1BUm+4tGJjEweYypHpOahdTA+XSu/6cq4SyvN+axpVhIBT58I7CAAq4CKyXqiOK35JVmU632o0OHvtqhn5zX+1URDbE9/SMNeSXTyMPfYp4OaTEzcl76Rldz5Bs/FyE5Oegva/CR/DwQBHnr3MwDWKOVY/+lzNQAAvdvN02vgYUbHyfjRCruWQvfduhEVbU+F94Yhs+MkVd5KGC1vpI02jLlArKzkqQWQG34RdBZEfe6A2P1b71W93CFfXjKRQtyVUGi2xcnC6Z8GXnT4UtybbNCjky5MufIXReUmfP4FcmLnUb95MdTXTnz6/Z1WiptxPEM2XdFlVvKuzp5ZqN9vq15a7p7X80zuhpXWySe99Z6ARX48I3AAgq4CqyUqJMVMgyzvkQ+q39CX/tjYUbzl69mvciJ85VTGRGeHPSnSEU6H0siRzWj8glLvZ0dgsD9G26yp0POJZetgDN9k8k1AcLNW/I8lkWZnDg7aTFD8+Jw7qIFuapwH0/W/sedHBMPHI0r1wamI1fm4rnrgqvSGq39+ODFs6G2ei4T9zi263TWAP+ACReL8x2owMJbUSNsSqdbOnewnBgd3DvvhUwx9fkQeblIGWHizHqJbvIDpxmmhL1nnOghqdl1Uvs0PHK/73vqzPGYwJpaey9+SRq00ZPy/NXZHqqAKpXUuYxPH0yTpFPnU0zF00qwyIfvKRNBVfrmuebaLryAzFdjefoIZ0vH2g/FStzRk81cwtPUQW/2mnTulfzExzOcMzR4hZQ/N8H3XupKZ3unhYk67t29y/HjpwS2vq13iPw5meK8UvyA1TOM/cRk6Sf12mfe0axeb7B42qL9V851Nq5L+nwT8z+W6iEqcFGNwIILuKKtuOs691Cp10p9XkY65WRLnpbSffGEcEfpBQcdtrZF3USqWMtKfePUJz2JGw/ZmIzfIjcoijeSgQNvRBjWWZWvCU7lnJllpJauJZa6STYiDEe6E+S8V/xWigjrNCUa+YrFHTE9HAt8GMktmvLwBdTqTVrmcqv3cCKdO3MUhUS7x5dguOf0eRw3n0WJdsp1lwUVUArOJVLr0NPzmfCQH+GDiKlgk+uUxv26natsbNnP8e2tXXPMLyoQMStPE2c1pcqgv5gdSXT7fjf3/CzNtraPjpjS7Q5bcFrgEUW5Bks0GqUJFDN8rOP47BosXk9oqyuYrvbWyHD63ktZhBDvCMSG0xN3CavW/VgrfR1GyBzIJVtYBU41AjdTkXcW0wjMX8DVYKVEnXRaOl+Yg1q9buJydQXnZJnUMZvuybKyJ3XWwwnN1hm/tzF1N8zMe1Zm3OKj0m6xsszlLtuWDbml025bmbrVwNwuJX3mXGLm1eCA7ZncX27YYvV9JnBNwT0Tw9Tz7cDUD4oog/Vx15ZcanIHVHpn0F3J8L9x1W0kG9E1eAb+H1lc/pNGqQICO5VB4Sc3VDW4fJ+P39tfWEIBtS+2yFsP2qqeVvI36GwdSUbvbn4+H0HnRuYSeXWPdet+xDBXM9I+LKiAUgk3yat17dJNlXCBP6gz9YMoymB9O6mAyVu+xOEu72Feu7fZLl8ZUmlfanZW8L7d+Z0c/wBsxSapix/3VCsl2/BMjc3bP0KWzaapezfYpEkedrzaO3Gmv14rV02H9RnpGJHe4C/NrnZ+dg0W0Hw1PB9t49tubrjb01C1QSkCMe0YFP/J52qoIgehVMafeuIMt6sqT+dFC6vAqUZgY53n1KIagfkLuAqs9L7ONCr9nr/z2w3ydTz2KYP9yJnQkV1Sd3WR1IZfhINNFm5RE5PmwJbrLe7gmdDevN7JsYZz/vqMtHv6p5Rv+hOcpSno3kq+9WpDc/iI3aAsYp/SWzyhc92vzRqIXEIBJ7ae+1upkhu94U9POB80uyGvFlZARr21ORx0WyrzfZ3/RvzV3T6+wjl1d84abs+bTq0Qe+NwvkZw5lH+UijqIfWvqTTa34t+6t+pLJmTitvb7q9nYvteJHdZSjUoHSNby5UaLNebm0P94dce8n7P5aGqdIb6gm6zXinDbKzJG26xGsnX+wnOaG0JD0bzNjw1XwWqN+1s+7lFT/aONALhxTQC8xVwNcATrPNGOouR+ijuk4uaEAUA8N2yivo6AABQ9BB1AACAHkQdAACgB9d1AACAHvR1AACAHkQdAACgB1EHAADoQdQBAAB6EHUAAIAeRB0AAKAHUQcAAOhB1AEAAHoQdQAAgB5EHQAAoAdRBwAA6EHUAQAAehb86583Yg7lkauzkeeYDQfKGuSH0s5i9A8ETY8zfEfuucizbPMPdppY+fnNOtecj6luio7u5ebdgUK//7IXcKk7sOoLOO8OrPoCLnUHVn0B8RVa8g7kA/o6AABAD550AAAA9KCvAwAA9OC6zsoZUV3iDqz6As67A6u+gEvdgVVfQHyFlrwD+YC+DgAA0IPrOgAAQA/6OgAAQA+iDgAA0IOoAwAA9CDqAAAAPYg6AABAD6IOAADQg6gDAAD0IOoAAAA9iDoAAEAPog4AANCDqAMAAPQg6gAAAD2IOgAAQA+iDgAA0FN8UedmKt7hqCorK+vgSQ5FQrLbu6tGJ21dV2M72M3fJPmU3BGSv/HaauXtl1WbHQe7kwJZQlsm5lL2Ylk+BQBYxYrp+ToCH/mwM3Askc4lc8+2o0fkO6zm9pmNLNsY6msxrCWpQhN6Hbp9M5/jR3cHJqRjbrPrPMMKgkD7UwCAVa54+jrZxFGz51hifKs7fLLNSDJpUrE/Kjd5QmeGRmVXzvnrWUboPvEZCYI0/POnm0NnLl7J7cDFqMcg7cDvqfd30r2+Q6c07tf3INoAQN4VT9RRc1vd9iNnzh536n/4KMmjS1PX5v+5oTzXsVBpTH/r1jNM4mt6jT5rdNoN5WqVklCpuW0/k6Lv91W5NC2ZmO+dmGZ/i33T90kOAED+FNF1HbXB2VxXriapYqF9jG6jP0G8mYp9eCJe6d6hp1kl6VibK6Zta3dol6fYALDaYQ7bfaWTfUmG2/EXWpKmYzigXMQv27CxrvObHb2/dnJryBIK0qdaXaeN/rcsGpIBAJBniDr3kYm1Nie4pubGCpJB30iv1+YI8LdJsuCkIrt505FmUwnJAADIO0SduWTinkYXX+9v38vRHmiqdCpzCUZHL50L7zcwSZ/jl4ksWVZQ6cgbUpFfc9ehnwMABYSocy/xasTV4Ojn/NH3TMvZAK/R6B3Bd19ihHBqhGQV0o3h/gQjnHLJd0rlbHHJk7jbzfLrPbHlunEIAFYZRJ0ZshcCthc8yWf9UZ9J8wjJXD4qdbFNrgAAWBpEnSnZ8z6bxZepCsohh+Qtn9tCqtfb2sGwDo7GfIbHTUEytDdhwC/fNdUUlV93mtjcagAAS1NEv00wx535OZRuj+cDZWYfeT2D++Sos5K8LiQhtkfnOk0SOazeHTxOdRrblBsxxxZXHL9NAAB5hb5OcdJw2xqbg2fOhpcp5AAAFEYx/Q4bAACsdujrAAAAPYg6AABAD6IOAADQg6gDAAD0IOoAAAA9iDoAAEAPog4AANCDqAMAAPQg6gAAAD2IOgAAQA+iDgAA0FNkUUdIdh+01ejKysp0Nbu83ReoPEVzttt8oEF+mNnyPM0sOxI/5nU0kOerOXpp7oK07YDHqnwCZWVVDY7W3pFl+gwAYHUqol//FIcD1gYfT1I5bOPxsy1bKT/aTOQ7rOaP0qwgCNv8g3QfLZM973O4A8lpgcZ4ZDBYR2cXxFTQWnd45ifAMNz+3rBDS/tJ3gCwShVRX0fFasrrmkNnLyrPFLtyzic190J3uC9NllMiDne1tqdNr79mIRkUZWKv7gwk1xibQ2cGLynVMDpKK+RIES8ZOcyz9W29Q1dym77yh5CzkuEPJ1JkDQCApSqmEbYSU9sRu2F9rmej0tS73c8yTEKgOsZ1m+96x5euf+u1upJHSRY1YvK3h+Ksyd8dtBvKWfqP1RHFWwyz7sda7VrSsVGV6Df+K4apUKGjAwD5UvSzCag2eSL/gdeXsfvfNi7HA5tTfFTQvrLLVELStLH6n1nZVJvNdjieuimKN0cSQcerv2FNf7ODxiO0AeC7oYijzrVk33mGe05PrckTL3R6OxhnwK1fnidGZy4JjFadjXd4rLXK5fxqs+dYUrhDlhee2vB2NGQrTwUddRs3bNhYY4uodoU/9W9bjhAMAKtU0UaddOywJ1Hpbn6eVtC5zXe+GVA1tez518s0nvR1Os4wkQNWR3sk+YUyrHiNj7RZt7+ZoDiLbF3Jn2vLJ6PMtcsj/+cW5rABQB4VZ9RJxw+86Prc5D/i5Ch1O8TkUUdA5W7+T9zyXsNg9fa2k+eufKlczB8Iu7eyQvh43zWytMDkyXs1+7oyVW1nLl4ZDDcbn0hHDtTYgimRrAAAsFRFNHOauD0SOWj1nNf7T/opXuHgA2VmH3k9mzs66uTI64K53FW3vVV/4krzs9MC3wVfmSXgPjnqrCQZBaTsQGqb/1ynSZPLySZaf2rrEhpDF1sMlKevA8AqVWR9nSwf2EU/5BSHknIpsCUvj5CkQhyn180Qrg6lGKax3kBCjkRtqH1R+q87dTWXBgBYqmKKOjeTvpfNvv9bHVyGkMM5lTtUpom6pext/kH5deE7OhI1t8XMpD70dQ1nc6EmeznW2t7FsE6uQkkXmHqtHG74RCJ1k4Q6MZPoT0j/N2rX5zIAAJaqiEbY+I4yczt5PUNTdHQvjWZ/JmXMje5vE4h/DFh33PPrDBpLMNpGaSJ3qquhrnWYJCbhtwkAII+KeOb0d4/qJ85Qn9++NTeJTMOZ3cG+XlohR6K1RwbD3kbDU7ktarhtjS3hwShCDgDkT/HNJgAAgNULfR0AAKAHUQcAAOhB1AEAAHoQdQAAgB5EHQAAoAdRBwAA6EHUAQAAehB1AACAHkQdAACgB1EHAADoQdQBAAB6EHUAAICe4oo6QrLbu6tGVyapMu/xdicFsoCm7Ej8mNfRUCXvRVmZo5fqPmQvTNSArsZ6oKsQFZC9HA/skUsXmPVQA6XwAU+u7NVmT0d85DZZAACQF8X0m9M3Yo4trjhJ5LCNx8+2bKX38OTseZ/DHZje1huPDAbrKD1rIN3rMu+LzQg0rCmPj1UVhiPHOwJdiXQuOevB2OmY2+w6NTPQVTb3nrRrSQIAYKmKqq+jetoTOjN0RXmU55WLJ5sNjNB9mmJ/JxN7dWcgucbYHDozeEnZi9FRaiGHuRkPSCGn0hkaIDUwGHJyQuzQb5P5eYp1NtHZ4OlKjBv2h6PvGUnmDOtKyvX296KDue0Phd1STBo+3pen7QMAyKS+TrG63rO7tPT1/lskWWjjA+9tLt28rydN0pTd+m9vlJZuP54iyZyho5tLS381RFJLdKv/6KGef5Krcywm1WxpJ5/Lv6/xfzwkrbY7NkbSAABLVqyzCcRsqrfrRJxzP6enNb6W4qOC9pVd+RrOWizx9hjDqNWPkWSO5kccw4xkbpDk0qgNe5tNTy26OtetwaNEASBvii3q8AH5QnZZ2YZn6o7e2tETclbSavJuZC4JjFadjXd4rLXKhIZqs+dYUrhDlhcaW/I0yyR9RyOpm0pazKaT3b7f8VKdpOkNMk4n8ud7GLaxmqN3XQ0AVr0injl9Nea1OwLDtC4qfJ2OM0zkgNXRHkl+oTTz1/hIm3X7m4mssrzgKk2v1bPCKU/dRhJ3q6zeiHxVa53qEbIKTeKFztZjjOl1u2EtyQEAWLpiizqcU7mSPfrllXNht0E699/dmsid+1PB6u1tJ89d+VLehSsDYfdWVggf77tGlhaYxvR2ONhk4Z6QE+xThkZvKOw1MkzJuh8oyykShwM2Z0DVFHy3TkOyAADyoVj7Oo+oNHpn8N1GRuhOfUXyCkul0jLMDofbUqnJ9S1Uj+udr1gYJil8o6xAwZpy4962aL8c8wb7Qi0vGVRZnmGfXv84WU5H9rzP2uATX4yG9nK4pAMA+VXEI2xSu/8vKF5RKCnnpAhzeYQkFeL4sk4azsROfCSwL+pp3i6T7vXU7QwwTdHwXlzPAYD8K9aoc0cULse8vwwwrJOrIHmFpea2mJnUh76u4Wwu1GQvx1rbu+jtwDRiNs33+mwNrhhjeus/SNGQDnHkdy7zvv6S/XLIQS8HAAqhiH6bQOh16Pbd89MEevd/pTeNTfxjwLrDx5NUjsYSjLYZKd0oyneUmdvJaxlraP510F6Rr+ILsT0612mSmI78SMEcvw2RY/QPBE10R/kAYLUq0r6OptLY6AmeORumN3OaYVQ/cYb6/Pat5UqQ0XBmd7Cvl1rImUbDPWtxH4kO/iGUv5ADAFAUiul32AAAYLUr6tkEAACwyiDqAAAAPYg6AABAD6IOAADQg6gDAAD0IOoAAAA9iDoAAEAPog4AANCDqAMAAPQg6gAAAD2IOgAAQE9xRh2R7zArj3F2xG6QLDqEZLd3j7lK2bau1uo5lhTukEV5czMV73DIm+iY+fPWCnkHdtXo5M3X2A528wV4jmr2cjywR95+YJjk3EtIRto81lp5Lx60GgDA4hVj1BGHu1rb0yz133oWTru2W73dp/l0LvmF1Phatx+IC0oyDwQ+0mar2ljnaI/nNjGTHGt10g58NiJvURhJhL3mWm8eH+AtDEdabVXPbHf4Ts+1fZk4EvVU6aRwG0l+kbdyAwBMKr6oc5vveseXrn/ttedJBi2pnvdjQqUz9Icr8hOkR0evDPW21bPCqd8n89PfyiaOmj3HEuNb3eGTbUaSOZ2K/VG5yRM6M5Tb/Dl/PcsI3Sc+u1+EWKRsorPB05UYN+wPR9+ba/tSzLnQ2XQgMq63t508d5FUg/LoHQCAPCm2qCPyH7b6Mqa39ptKvkeyqBGlk/v1T3Ml5JE2qrVajitnmHXqNbmMJVJzW932I2fOHnfqf/goyZtJU9fm/7mhfK2SUGlMf+vWM0zi6zz1OdRcdZPd33c25NBr5n5qT7rn/UCq0h083myp1KjxZB8AKIDiijrSuba3PW33vWtchidXag2vcEzUYTvQncyIoijwUa/nYJLbb9GryRpLpDY4m+vKF/tm2sfy1fyrDXubTU/df/s3hvsTTOPfNHL5ibIAAHMopqhzm+98M8DsDbqfXZ7TbK0t3Os1ClGv9S83bNigMx8e4Y6cCTm0y3XSn072JRlux19oSbrQvk7HGe06JtV90GGulucR6Gptrb0jWbIYACAPiifqiPwH3oDK3fIKt3xDOyqNdmPFEyTBCCOpkYyY9zlsC5SJtTYnuKbmxgqSUWhC5hLDpHy7rN5wnL+m5HyR6NpXYwullOUAAHlQLFFHPO9zdKjcr9uXcXgn3ev6qaWV/5fO0OCVi31+u55JdtjyOYdt4TJxT6OLr/e376UdgzXbmkNnyUyCi5/6GysZ/p2epEiWAgAsUbFEndRwl8DwvoYNyi0iMnO7lB13bZFf07hlJCud18eECmfwuNvAqtRPmZpPhFsMjHCqs+cyWYUO8WrE1eDo5/zR90wakkeDas06htE799sN68lMAnWFyf6iUQrHQgFuGwKA76bimk2wnK6muhlG+1ztVGfrkfLaeqnNTQ1dpdfbyV4I2F7wJJ/1R30mzSMkkw71DzVaJsn/75nXcURc1gGAfCqWqMPtVcZ0pok2SdlG/4D8msYtIz9g9VKEOZ9IZshwkngz1Z/gpUi0cT2lG1az5302iy9TFZRDDsmjqEK/o4KJHPPFr+ZqQBSSAW97kjFUVy7DlEIAWJ3+7O7du+RlkeE7ysztUtQJmig1ednEwZ/awvd2a9j64Kc+Y17CjtDr0O2Lk8R0TdHRvZxU4kCZ2UeyZnCfzEvcFWJ7dK7TJDHd5PvLv86wJzajClh9c1fI/pPlm+EBAKsLRtgmqQ1vnz0TdFsqc90MtlxvcQfPnM1TyFkR2G3+T8PyLaJKotxgbQl/GkbIAYA8Kt6+DgAArD7o6wAAAD2IOgAAQA+iDgAA0IOoAwAA9CDqAAAAPYg6AABAD6IOAADQg6gDAAD0IOoAAAA9iDoAAEAPog4AANCDqAMAAPQg6gAAAC0M8/8B9a8d34orOmcAAAAASUVORK5CYII=\">\n",
    "<img src=\"data:image/png;base64,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\">"
   ]
  },
  {
   "cell_type": "code",
   "execution_count": 19,
   "id": "937a7ec5-6338-4a1a-8a45-785009107192",
   "metadata": {},
   "outputs": [],
   "source": [
    "# WRITE YOUR FUNCTION HERE\n",
    "def times_tables(limit) :\n",
    "    for i in range(1,limit+1) :\n",
    "        for j in range(1,limit+1) :\n",
    "            print(str(i*j).rjust(4), end='')\n",
    "        print()"
   ]
  },
  {
   "cell_type": "code",
   "execution_count": 20,
   "id": "27e21f4c-75af-4e98-ae61-f489fc5f586b",
   "metadata": {},
   "outputs": [
    {
     "name": "stdout",
     "output_type": "stream",
     "text": [
      "   1   2   3   4\n",
      "   2   4   6   8\n",
      "   3   6   9  12\n",
      "   4   8  12  16\n"
     ]
    }
   ],
   "source": [
    "times_tables(4)"
   ]
  },
  {
   "cell_type": "code",
   "execution_count": 21,
   "id": "0479ba47-8b0d-4e3c-b9fd-8c5f2492c57d",
   "metadata": {},
   "outputs": [
    {
     "name": "stdout",
     "output_type": "stream",
     "text": [
      "   1   2   3   4   5   6   7   8   9  10  11  12\n",
      "   2   4   6   8  10  12  14  16  18  20  22  24\n",
      "   3   6   9  12  15  18  21  24  27  30  33  36\n",
      "   4   8  12  16  20  24  28  32  36  40  44  48\n",
      "   5  10  15  20  25  30  35  40  45  50  55  60\n",
      "   6  12  18  24  30  36  42  48  54  60  66  72\n",
      "   7  14  21  28  35  42  49  56  63  70  77  84\n",
      "   8  16  24  32  40  48  56  64  72  80  88  96\n",
      "   9  18  27  36  45  54  63  72  81  90  99 108\n",
      "  10  20  30  40  50  60  70  80  90 100 110 120\n",
      "  11  22  33  44  55  66  77  88  99 110 121 132\n",
      "  12  24  36  48  60  72  84  96 108 120 132 144\n"
     ]
    }
   ],
   "source": [
    "times_tables(12)"
   ]
  },
  {
   "cell_type": "markdown",
   "id": "7069a4d7-875b-4f0c-b5b1-79c0583b155c",
   "metadata": {},
   "source": [
    "<a name=\"Generate_Hex_a\"><a>\n",
    "    \n",
    "<b>Q: Generate Hex</b>"
   ]
  },
  {
   "cell_type": "code",
   "execution_count": 22,
   "id": "ae5875bc-d050-4414-a59b-36c0c949bb18",
   "metadata": {},
   "outputs": [
    {
     "name": "stdout",
     "output_type": "stream",
     "text": [
      "['0xdf', '0x17f', '0x226', '0x222', '0x273', '0x1d5', '0x114', '0x39e', '0x14a', '0xc9', '0x349', '0xb2', '0x310', '0x2f2', '0x2c', '0x327', '0x2cf', '0x138', '0x188', '0x233']\n"
     ]
    }
   ],
   "source": [
    "import random\n",
    "\n",
    "# Write code to generate a list of 20 randomly generated integers\n",
    "# between 1 and 1000, then convert those integers into hex string values.\n",
    "# Print out the list of hex values.\n",
    "# Hints: \n",
    "# * use function \n",
    "#        randint \n",
    "# to generate a random integer\n",
    "# * use function \n",
    "#        hex \n",
    "# to convert an integer to a string representation of a hex value\n",
    "\n",
    "\n",
    "# WRITE YOUR FUNCTION HERE\n",
    "list = []\n",
    "for i in range(20) :\n",
    "    random_number = random.randint(1, 1000)\n",
    "    hex_string = hex(random_number)\n",
    "    list.append(hex_string)\n",
    "print(list)"
   ]
  },
  {
   "cell_type": "markdown",
   "id": "51fa8409-411a-4f71-b2f4-1700fa71c623",
   "metadata": {},
   "source": [
    "<a name=\"Generate_Hex_b\"><a>\n",
    "    \n",
    "<b>Q: Generate Hex - condensed</b>"
   ]
  },
  {
   "cell_type": "code",
   "execution_count": 24,
   "id": "ff7b9ba0-e018-4e05-9add-642a9e16d6b3",
   "metadata": {},
   "outputs": [
    {
     "name": "stdout",
     "output_type": "stream",
     "text": [
      "['0x358', '0x327', '0x24a', '0x31a', '0x3d8', '0x8', '0x129', '0x20b', '0x3e7', '0x24f', '0x70', '0x8c', '0x4c', '0xad', '0x1', '0x27', '0x300', '0x1d4', '0x2d7', '0x157']\n"
     ]
    }
   ],
   "source": [
    "# Now modify your solution by condensing the body\n",
    "# of the FOR loop into a single line (with nested function calls)\n",
    "\n",
    "# WRITE YOUR SOLUTION HERE\n",
    "list = []\n",
    "for i in range(20) :\n",
    "    list.append(hex(random.randint(1, 1000)))\n",
    "print(list)"
   ]
  },
  {
   "cell_type": "markdown",
   "id": "1ccd730e-85cc-4bfb-b5f8-c1b4c22c1d35",
   "metadata": {},
   "source": [
    "<a name=\"count_over_threshold\"></a>\n",
    "<b>Q: Count Over Threshold</b>"
   ]
  },
  {
   "cell_type": "code",
   "execution_count": 25,
   "id": "5de0cd83-d53e-4cae-815f-d83b14e49039",
   "metadata": {},
   "outputs": [
    {
     "data": {
      "text/plain": [
       "True"
      ]
     },
     "execution_count": 25,
     "metadata": {},
     "output_type": "execute_result"
    }
   ],
   "source": [
    "# How to check if a value is some kind of number:\n",
    "  \n",
    "import numbers\n",
    "    \n",
    "isinstance(42, numbers.Number)"
   ]
  },
  {
   "cell_type": "code",
   "execution_count": 26,
   "id": "2b111929-26d2-442f-9f41-4c18cdaeaf91",
   "metadata": {},
   "outputs": [
    {
     "data": {
      "text/plain": [
       "False"
      ]
     },
     "execution_count": 26,
     "metadata": {},
     "output_type": "execute_result"
    }
   ],
   "source": [
    "isinstance([], numbers.Number)"
   ]
  },
  {
   "cell_type": "code",
   "execution_count": 27,
   "id": "3605e896-fef5-4ce4-b10a-41c2f67939e5",
   "metadata": {},
   "outputs": [
    {
     "data": {
      "text/plain": [
       "False"
      ]
     },
     "execution_count": 27,
     "metadata": {},
     "output_type": "execute_result"
    }
   ],
   "source": [
    "isinstance('fred', numbers.Number)"
   ]
  },
  {
   "cell_type": "code",
   "execution_count": 28,
   "id": "54151b99-dad9-4976-b92d-ce81aba1fd26",
   "metadata": {},
   "outputs": [
    {
     "data": {
      "text/plain": [
       "True"
      ]
     },
     "execution_count": 28,
     "metadata": {},
     "output_type": "execute_result"
    }
   ],
   "source": [
    "isinstance(3.14, numbers.Number)"
   ]
  },
  {
   "cell_type": "code",
   "execution_count": 29,
   "id": "e0efb7ee-3002-4e99-985e-9ec1ee0283e2",
   "metadata": {},
   "outputs": [
    {
     "data": {
      "text/plain": [
       "True"
      ]
     },
     "execution_count": 29,
     "metadata": {},
     "output_type": "execute_result"
    }
   ],
   "source": [
    "isinstance(2.7+4.2j, numbers.Number)"
   ]
  },
  {
   "cell_type": "code",
   "execution_count": 30,
   "id": "c5c2903a-8a0f-4e53-a521-dd0302dd7dd4",
   "metadata": {
    "tags": []
   },
   "outputs": [],
   "source": [
    "# Given a Python list of lists, use iteration to count the number of numeric values over a certain threshold.  \n",
    "# Note that each sublist may contain any type of data, including strings, lists, integers and floats.\n",
    "# Your function must be capable of processing a list with any number of sublists\n",
    "\n",
    "import numbers\n",
    "\n",
    "# WRITE YOUR FUNCTION HERE\n",
    "def count_over_threshold(list, threshold) :\n",
    "    count = 0\n",
    "    for sublist in list :\n",
    "        for item in sublist :\n",
    "            if isinstance(item, numbers.Number) and item > threshold :\n",
    "                count += 1\n",
    "    return count"
   ]
  },
  {
   "cell_type": "code",
   "execution_count": 31,
   "id": "8b66bc57-e3e0-4350-a55a-9626a537d922",
   "metadata": {
    "tags": []
   },
   "outputs": [
    {
     "data": {
      "text/plain": [
       "2"
      ]
     },
     "execution_count": 31,
     "metadata": {},
     "output_type": "execute_result"
    }
   ],
   "source": [
    "count_over_threshold([[65.656565, 6.01]], 0) # answer should be 2"
   ]
  },
  {
   "cell_type": "code",
   "execution_count": 32,
   "id": "761b08f1-28af-4bf5-8627-bab3b223af09",
   "metadata": {
    "tags": []
   },
   "outputs": [
    {
     "data": {
      "text/plain": [
       "0"
      ]
     },
     "execution_count": 32,
     "metadata": {},
     "output_type": "execute_result"
    }
   ],
   "source": [
    "count_over_threshold([[-7.000001, -101.26], [-9]], 0) # answer should be 0"
   ]
  },
  {
   "cell_type": "code",
   "execution_count": 33,
   "id": "7f176e02-716d-4cb2-8937-d6a8840c9594",
   "metadata": {
    "tags": []
   },
   "outputs": [
    {
     "data": {
      "text/plain": [
       "2"
      ]
     },
     "execution_count": 33,
     "metadata": {},
     "output_type": "execute_result"
    }
   ],
   "source": [
    "count_over_threshold([[7.1093655, -101.26], [9, 0]], 4.239856) # answer should be 2"
   ]
  },
  {
   "cell_type": "code",
   "execution_count": 34,
   "id": "b922f783-058b-4924-8e3d-a196fb359236",
   "metadata": {
    "tags": []
   },
   "outputs": [
    {
     "data": {
      "text/plain": [
       "4"
      ]
     },
     "execution_count": 34,
     "metadata": {},
     "output_type": "execute_result"
    }
   ],
   "source": [
    "count_over_threshold([[7, -101.26], [9.82736, 0]], -1000) # answer should be 4"
   ]
  },
  {
   "cell_type": "code",
   "execution_count": 35,
   "id": "30620aa0-c6ee-4f76-b3df-4101b9c15e33",
   "metadata": {
    "tags": []
   },
   "outputs": [
    {
     "data": {
      "text/plain": [
       "1"
      ]
     },
     "execution_count": 35,
     "metadata": {},
     "output_type": "execute_result"
    }
   ],
   "source": [
    "count_over_threshold([[7], [9, 33], [7, 11], [4], [5], [6]], 32.0) # answer should be 1"
   ]
  },
  {
   "cell_type": "code",
   "execution_count": 36,
   "id": "3dc66b32-837f-42bb-804f-01e09bb5a6f1",
   "metadata": {
    "tags": []
   },
   "outputs": [
    {
     "data": {
      "text/plain": [
       "0"
      ]
     },
     "execution_count": 36,
     "metadata": {},
     "output_type": "execute_result"
    }
   ],
   "source": [
    "count_over_threshold([['happy', 'hippy', 'hoppy'], [[7]]], 6) # answer should be 0"
   ]
  },
  {
   "cell_type": "code",
   "execution_count": 37,
   "id": "bf2359e6-ad85-43e5-b69c-581e8c544a8c",
   "metadata": {
    "tags": []
   },
   "outputs": [
    {
     "data": {
      "text/plain": [
       "0"
      ]
     },
     "execution_count": 37,
     "metadata": {},
     "output_type": "execute_result"
    }
   ],
   "source": [
    "count_over_threshold([['7.12', '8.8', '49.5'], ['1011101']], 6) # answer should be 0"
   ]
  },
  {
   "cell_type": "markdown",
   "id": "fa1c67a2-1986-48c0-9b43-c522f8c3334f",
   "metadata": {},
   "source": [
    "<a name=\"is_list_sorted\"></a>\n",
    "<b>Qa: Is List Sorted? - algorithm</b>"
   ]
  },
  {
   "cell_type": "code",
   "execution_count": 124,
   "id": "f866b31e-b948-4b05-8247-b2f8192a43c3",
   "metadata": {},
   "outputs": [],
   "source": [
    "# Write an algorithm (a set of clearly defined, unambiguous steps) to solve the following problem:\n",
    "# Given a non-empty list of integers with no duplicates (ie all values are unique), find out \n",
    "# if the list elements are in either ascending OR descending sorted order.  \n",
    "# Remember that a collection of only 1 or 2 values is already sorted.\n",
    "\n",
    "# Some test data with expected results is given below:\n",
    "# {1, 3, 6, 7, 8}  - True\n",
    "# {8, 7, 6, 2}     - True\n",
    "# {8, 2, 3, 4, 6}  - False\n",
    "# {1, 5, 4, 6, 2}  - False\n",
    "\n",
    "# WRITE YOUR ALGORITHM HERE (as comments)\n",
    "\n",
    "# first check to see if it is sorted in ascending order\n",
    "# if not, then check to see if it is sorted in descending order"
   ]
  },
  {
   "cell_type": "markdown",
   "id": "8fb9bb0d-ab13-4c1d-98a3-f7e8e7fd55e9",
   "metadata": {},
   "source": [
    "<b>Qb: Is List Sorted? - implementation</b>"
   ]
  },
  {
   "cell_type": "code",
   "execution_count": 39,
   "id": "76722fdd-0093-4ca7-bdae-f967b536695a",
   "metadata": {},
   "outputs": [],
   "source": [
    "# Implement the algorithm using Python.\n",
    "# Given a non-empty list of integers with no duplicates, write a function\n",
    "# to determine if it is sorted in either ascending or descending order.\n",
    "\n",
    "# WRITE YOUR CODE HERE\n",
    "\n",
    "def is_sorted_ascending(list) :\n",
    "    # check each successive pair of elements \n",
    "    for i in range(len(list)-1) :\n",
    "        # if an element is greater than the element that comes after it, then it is not sorted in ascending order\n",
    "        if list[i] > list[i+1] :\n",
    "            return False\n",
    "    # if we didn't encounter any successive pair of elements that were in the wrong order then the whole list must be sorted\n",
    "    return True\n",
    "\n",
    "def is_sorted_descending(list) :\n",
    "    # check each successive pair of elements \n",
    "    for i in range(len(list)-1) :\n",
    "        # if an element is less than the element that comes after it, then it is not sorted in descending order\n",
    "        if list[i] < list[i+1] :\n",
    "            return False\n",
    "    # if we didn't encounter any successive pair of elements that were in the wrong order then the whole list must be sorted\n",
    "    return True\n",
    "\n",
    "def is_list_sorted(list) :\n",
    "    # it is sorted if it is either sorted in ascending order or in descending order\n",
    "    return is_sorted_ascending(list) or is_sorted_descending(list)"
   ]
  },
  {
   "cell_type": "code",
   "execution_count": 40,
   "id": "9de4ccc0-a6b1-4f6f-96d1-ac213fad9b5b",
   "metadata": {},
   "outputs": [
    {
     "data": {
      "text/plain": [
       "True"
      ]
     },
     "execution_count": 40,
     "metadata": {},
     "output_type": "execute_result"
    }
   ],
   "source": [
    "is_list_sorted([1, 3, 6, 7, 8]) # should return True"
   ]
  },
  {
   "cell_type": "code",
   "execution_count": 41,
   "id": "dc15773b-a4b8-4dd7-aca4-c94986a9051a",
   "metadata": {},
   "outputs": [
    {
     "data": {
      "text/plain": [
       "True"
      ]
     },
     "execution_count": 41,
     "metadata": {},
     "output_type": "execute_result"
    }
   ],
   "source": [
    "is_list_sorted([8, 7, 6, 2]) # should return True"
   ]
  },
  {
   "cell_type": "code",
   "execution_count": 42,
   "id": "c1d257dd-7b2f-4a0f-bbcf-1ae234a4b877",
   "metadata": {},
   "outputs": [
    {
     "data": {
      "text/plain": [
       "False"
      ]
     },
     "execution_count": 42,
     "metadata": {},
     "output_type": "execute_result"
    }
   ],
   "source": [
    "is_list_sorted([8, 2, 3, 4, 6]) # should return False"
   ]
  },
  {
   "cell_type": "code",
   "execution_count": 43,
   "id": "af8f2be6-3a44-464f-98ba-7c54fc0d9aa5",
   "metadata": {},
   "outputs": [
    {
     "data": {
      "text/plain": [
       "False"
      ]
     },
     "execution_count": 43,
     "metadata": {},
     "output_type": "execute_result"
    }
   ],
   "source": [
    "is_list_sorted([1, 5, 4, 6, 2]) # should return False"
   ]
  },
  {
   "cell_type": "code",
   "execution_count": 44,
   "id": "e8a6b9aa-172e-4c57-909a-617fed7b8bf9",
   "metadata": {},
   "outputs": [
    {
     "data": {
      "text/plain": [
       "True"
      ]
     },
     "execution_count": 44,
     "metadata": {},
     "output_type": "execute_result"
    }
   ],
   "source": [
    "is_list_sorted([1, 5])  # should return True"
   ]
  },
  {
   "cell_type": "code",
   "execution_count": 45,
   "id": "0c46cb12-4cd8-46d8-b412-28b94c2fb2dd",
   "metadata": {},
   "outputs": [
    {
     "data": {
      "text/plain": [
       "True"
      ]
     },
     "execution_count": 45,
     "metadata": {},
     "output_type": "execute_result"
    }
   ],
   "source": [
    "is_list_sorted([5]) # should return True"
   ]
  },
  {
   "cell_type": "markdown",
   "id": "86866f0e-bcb4-46f3-9b27-d9cd39f0b27c",
   "metadata": {},
   "source": [
    "<a name=\"reverse_slice\"></a>\n",
    "<b>Qa: Reverse Slice - algorithm</b>"
   ]
  },
  {
   "cell_type": "code",
   "execution_count": 46,
   "id": "bc067e5d-e576-4caa-ae64-38f0a572b427",
   "metadata": {},
   "outputs": [],
   "source": [
    "# Write an algorithm to reverse the elements in a list between a lower index position and an upper index position.\n",
    "# You may assume that the list is not empty and lower and upper indexes are within the bounds of the list\n",
    "\n",
    "# WRITE YOUR ALGORITHM HERE\n"
   ]
  },
  {
   "cell_type": "markdown",
   "id": "71066337-6d4e-4347-b939-4473b05ee0f5",
   "metadata": {},
   "source": [
    "<b>Qb: Reverse Slice - implementation</b>"
   ]
  },
  {
   "cell_type": "code",
   "execution_count": 47,
   "id": "93dc040c-8515-43c6-9c5e-57be508563c3",
   "metadata": {},
   "outputs": [],
   "source": [
    "# Implement the algorithm.\n",
    "# Given a list of values, and upper and lower bounds of a slice of that list,\n",
    "# write a function to reverse the values in the list between those bounds, \n",
    "# and return the modified list.\n",
    "# Use the supplied swap function to modify a list by swapping two values.\n",
    "# You may assume that the list is not empty and lower and upper indexes are within the bounds of the list\n",
    "\n",
    "# utility function to swap two values\n",
    "def swap(list, position1, position2):\n",
    "    temp = list[position1]\n",
    "    list[position1] = list[position2]\n",
    "    list[position2] = temp\n",
    "\n",
    "# WRITE YOUR FUNCTION HERE    \n",
    "def reverse_slice(list, lower, upper) :\n",
    "    for i in range((int((upper-lower+1)/2))) :\n",
    "        swap(list, lower+i, upper-i)\n",
    "    return list"
   ]
  },
  {
   "cell_type": "code",
   "execution_count": 48,
   "id": "52ebf2d2-cd9b-4571-84fa-5b940c9a4b80",
   "metadata": {},
   "outputs": [
    {
     "data": {
      "text/plain": [
       "[1, 7, 6, 3, 8, 10, 12]"
      ]
     },
     "execution_count": 48,
     "metadata": {},
     "output_type": "execute_result"
    }
   ],
   "source": [
    "reverse_slice([1, 3, 6, 7, 8, 10, 12], 1, 3) # answer should be [1, 7, 6, 3, 8, 10, 12]"
   ]
  },
  {
   "cell_type": "code",
   "execution_count": 49,
   "id": "f447b004-eebe-4c40-99f4-df281840613e",
   "metadata": {},
   "outputs": [
    {
     "data": {
      "text/plain": [
       "[1, 3, 10, 8, 7, 6, 12]"
      ]
     },
     "execution_count": 49,
     "metadata": {},
     "output_type": "execute_result"
    }
   ],
   "source": [
    "reverse_slice([1, 3, 6, 7, 8, 10, 12], 2, 5) # answer should be [1, 3, 10, 8, 7, 6, 12]"
   ]
  },
  {
   "cell_type": "code",
   "execution_count": 50,
   "id": "9a2b1d5a-449c-49da-8cad-f9beb98755a0",
   "metadata": {},
   "outputs": [
    {
     "data": {
      "text/plain": [
       "[12, 10, 8, 7, 6, 3, 1]"
      ]
     },
     "execution_count": 50,
     "metadata": {},
     "output_type": "execute_result"
    }
   ],
   "source": [
    "reverse_slice( [1, 3, 6, 7, 8, 10, 12], 0, 6) # answer should be [12, 10, 8, 7, 6, 3, 1]"
   ]
  },
  {
   "cell_type": "code",
   "execution_count": 51,
   "id": "9ab270e5-f1ee-44e5-bbfb-42295466421b",
   "metadata": {},
   "outputs": [
    {
     "data": {
      "text/plain": [
       "[1, 3, 6, 7, 8, 10, 12]"
      ]
     },
     "execution_count": 51,
     "metadata": {},
     "output_type": "execute_result"
    }
   ],
   "source": [
    "reverse_slice([1, 3, 6, 7, 8, 10, 12], 5, 5) # answer should be [1, 3, 6, 7, 8, 10, 12]"
   ]
  },
  {
   "cell_type": "markdown",
   "id": "eb80db30-0699-430e-8e21-9e84120b4de9",
   "metadata": {
    "tags": []
   },
   "source": [
    "<a name=\"list_manipulation\"><a>\n",
    "# List Manipulation\n",
    "<hr>"
   ]
  },
  {
   "cell_type": "markdown",
   "id": "411b48cf-3326-426d-873a-6f6e9e794752",
   "metadata": {},
   "source": [
    "<a name=\"shift_left\"></a>\n",
    "<b>Qa: Shift Left</b>"
   ]
  },
  {
   "cell_type": "code",
   "execution_count": 52,
   "id": "2ad78b44-a137-4eb8-a383-d9c84f47ae20",
   "metadata": {},
   "outputs": [],
   "source": [
    "# Write an function to relocate each of the values in a non-empty list of floating point values one place to the left \n",
    "# (i.e., towards the beginning of the list).\n",
    "# The value originally in the first position should be relocated to the last position.\n",
    "# Return the list.\n",
    "\n",
    "# First design an algorithm for this task, then implement it in Python, retaining the algorithm as comments describing \n",
    "# each step in the algorithm.\n",
    "\n",
    "# WRITE YOUR FUNCTION HERE\n",
    "def shift_left(list) :\n",
    "    # save first element before it gets overwritten in the shuffling along process\n",
    "    first = list[0]\n",
    "    # shuffle all other elements along to the left\n",
    "    for i in range(len(list)-1) :\n",
    "        list[i] = list[i+1]\n",
    "    # replace the last element by what was first\n",
    "    list[-1] = first;\n",
    "    return list"
   ]
  },
  {
   "cell_type": "code",
   "execution_count": 53,
   "id": "67f8e66a-09f2-4bd2-8d0a-4423ab3ad573",
   "metadata": {},
   "outputs": [
    {
     "data": {
      "text/plain": [
       "[2, 3, 4, 5, 1]"
      ]
     },
     "execution_count": 53,
     "metadata": {},
     "output_type": "execute_result"
    }
   ],
   "source": [
    "shift_left([1, 2, 3, 4, 5])"
   ]
  },
  {
   "cell_type": "code",
   "execution_count": 54,
   "id": "b36a7a67-7342-4a72-979f-2564b6e7cd70",
   "metadata": {},
   "outputs": [
    {
     "data": {
      "text/plain": [
       "[3, 4, 5, 1, 2]"
      ]
     },
     "execution_count": 54,
     "metadata": {},
     "output_type": "execute_result"
    }
   ],
   "source": [
    "shift_left([2, 3, 4, 5, 1]) # answer should be [3, 4, 5, 1, 2]"
   ]
  },
  {
   "cell_type": "code",
   "execution_count": 55,
   "id": "c44b6786-8367-4672-8b31-569edf663af9",
   "metadata": {},
   "outputs": [
    {
     "data": {
      "text/plain": [
       "[4, 5, 1, 2, 3]"
      ]
     },
     "execution_count": 55,
     "metadata": {},
     "output_type": "execute_result"
    }
   ],
   "source": [
    "shift_left([3, 4, 5, 1, 2]) # answer should be [4, 5, 1, 2, 3]"
   ]
  },
  {
   "cell_type": "code",
   "execution_count": 56,
   "id": "fcd1fcd6-4258-473a-b1a7-64c0ff7fc4ad",
   "metadata": {},
   "outputs": [
    {
     "data": {
      "text/plain": [
       "[1, 2, 3, 4, 5]"
      ]
     },
     "execution_count": 56,
     "metadata": {},
     "output_type": "execute_result"
    }
   ],
   "source": [
    "shift_left([5, 1, 2, 3, 4]) # answer should be [5, 1, 2, 3, 4]"
   ]
  },
  {
   "cell_type": "code",
   "execution_count": 57,
   "id": "c18ef02a-b18c-47c4-9208-a3bc5c512c73",
   "metadata": {},
   "outputs": [
    {
     "data": {
      "text/plain": [
       "[7]"
      ]
     },
     "execution_count": 57,
     "metadata": {},
     "output_type": "execute_result"
    }
   ],
   "source": [
    "shift_left([7]) # answer should be [7]"
   ]
  },
  {
   "cell_type": "markdown",
   "id": "625cb47c-a8a6-46a8-8d16-3b82af37c981",
   "metadata": {},
   "source": [
    "<a name=\"shift_left_by_N\"></a>\n",
    "<b>Qb: Shift Left by N</b>"
   ]
  },
  {
   "cell_type": "code",
   "execution_count": 58,
   "id": "54886ac2-e063-43b4-9e5b-5252a04a32a3",
   "metadata": {},
   "outputs": [],
   "source": [
    "# Create a new function similar to the above function, but with another parameter N\n",
    "# to represent the number of places the values should be shifted.\n",
    "\n",
    "# WRITE YOUR FUNCTION HERE\n",
    "def shift_left_by_N(list, N) :\n",
    "    # just repeat the shift left operation N times\n",
    "    for i in range(N) :\n",
    "        shift_left(list)\n",
    "    return list"
   ]
  },
  {
   "cell_type": "code",
   "execution_count": 59,
   "id": "65c97879-5f0b-434a-8e47-54f48846221d",
   "metadata": {},
   "outputs": [
    {
     "data": {
      "text/plain": [
       "[1, 2, 3, 4, 5]"
      ]
     },
     "execution_count": 59,
     "metadata": {},
     "output_type": "execute_result"
    }
   ],
   "source": [
    "shift_left_by_N([1, 2, 3, 4, 5], 5) # answer should be [1, 2, 3, 4, 5]"
   ]
  },
  {
   "cell_type": "code",
   "execution_count": 60,
   "id": "988fb6bf-d14c-4fc1-b755-2209f1b7c2a1",
   "metadata": {},
   "outputs": [
    {
     "data": {
      "text/plain": [
       "[3, 4, 5, 1, 2]"
      ]
     },
     "execution_count": 60,
     "metadata": {},
     "output_type": "execute_result"
    }
   ],
   "source": [
    "shift_left_by_N([1, 2, 3, 4, 5], 2) # answer should be [3, 4, 5, 1, 2]"
   ]
  },
  {
   "cell_type": "code",
   "execution_count": 61,
   "id": "7b6240b2-7da1-4197-a07a-a1cb7bd1e742",
   "metadata": {},
   "outputs": [
    {
     "data": {
      "text/plain": [
       "[2, 3, 4, 5, 1]"
      ]
     },
     "execution_count": 61,
     "metadata": {},
     "output_type": "execute_result"
    }
   ],
   "source": [
    "shift_left_by_N([1, 2, 3, 4, 5], 6) # answer should be [2, 3, 4, 5, 1]"
   ]
  },
  {
   "cell_type": "code",
   "execution_count": 62,
   "id": "a09af428-402b-4660-a389-06108a11ca0b",
   "metadata": {},
   "outputs": [
    {
     "data": {
      "text/plain": [
       "[2, 3, 4, 5, 1]"
      ]
     },
     "execution_count": 62,
     "metadata": {},
     "output_type": "execute_result"
    }
   ],
   "source": [
    "shift_left_by_N([1, 2, 3, 4, 5], 1) # answer should be [2, 3, 4, 5, 1]"
   ]
  },
  {
   "cell_type": "code",
   "execution_count": 63,
   "id": "1a69c830-163d-4c39-9447-7810393dc220",
   "metadata": {},
   "outputs": [
    {
     "data": {
      "text/plain": [
       "[1, 2, 3, 4, 5]"
      ]
     },
     "execution_count": 63,
     "metadata": {},
     "output_type": "execute_result"
    }
   ],
   "source": [
    "shift_left_by_N([1, 2, 3, 4, 5], 0) # answer should be [1, 2, 3, 4, 5]"
   ]
  },
  {
   "cell_type": "markdown",
   "id": "905d6e6e-8602-49c3-93fe-a2c5129617d1",
   "metadata": {},
   "source": [
    "<a name=\"count_digits\"><b>Q: Count Digits\n",
    "    </b></a>"
   ]
  },
  {
   "cell_type": "code",
   "execution_count": 64,
   "id": "55d3f150-a2d3-4f93-a6ed-833fe92a483d",
   "metadata": {},
   "outputs": [],
   "source": [
    "# Given any positive integer, write a function to calculate how many digits in that number.\n",
    "# Hints:\n",
    "# * Dividing a number by 10 will reduce the integer part by 1 digit\n",
    "# * Use a WHILE loop to keep count of how many times the number can be divided by 10.\n",
    "# * Use the int() function to determine the integer part of a number\n",
    "\n",
    "# WRITE YOUR FUNCTION HERE\n",
    "def count_digits(number) :\n",
    "    digits = 0\n",
    "    # check to see if the integer part of the number is still positive\n",
    "    while int(number) > 0 :\n",
    "        number = number / 10\n",
    "        digits += 1\n",
    "    return digits"
   ]
  },
  {
   "cell_type": "code",
   "execution_count": 65,
   "id": "67077925-7387-4774-a66a-6d4856bd5baa",
   "metadata": {},
   "outputs": [
    {
     "data": {
      "text/plain": [
       "9"
      ]
     },
     "execution_count": 65,
     "metadata": {},
     "output_type": "execute_result"
    }
   ],
   "source": [
    "count_digits(123456789) # answer should be  9"
   ]
  },
  {
   "cell_type": "code",
   "execution_count": 66,
   "id": "2d861e94-64c0-4712-806c-0a25129beefb",
   "metadata": {},
   "outputs": [
    {
     "data": {
      "text/plain": [
       "8"
      ]
     },
     "execution_count": 66,
     "metadata": {},
     "output_type": "execute_result"
    }
   ],
   "source": [
    "count_digits(10101010) # Test answer should be 8"
   ]
  },
  {
   "cell_type": "code",
   "execution_count": 67,
   "id": "a0c49191-e226-468f-988f-7e23c7a38a30",
   "metadata": {},
   "outputs": [
    {
     "data": {
      "text/plain": [
       "1"
      ]
     },
     "execution_count": 67,
     "metadata": {},
     "output_type": "execute_result"
    }
   ],
   "source": [
    "count_digits(7) # Test answer should be 1"
   ]
  },
  {
   "cell_type": "code",
   "execution_count": 68,
   "id": "e908ac63-1dc7-44bd-a4e8-84c6ed907b65",
   "metadata": {},
   "outputs": [
    {
     "data": {
      "text/plain": [
       "3"
      ]
     },
     "execution_count": 68,
     "metadata": {},
     "output_type": "execute_result"
    }
   ],
   "source": [
    "count_digits(724) # Test answer should be 3"
   ]
  },
  {
   "cell_type": "markdown",
   "id": "7b4ea2c4-b669-45d2-babd-d85be853554f",
   "metadata": {},
   "source": [
    "<a name=\"print_binary\"><b>Q: Print Binary\n",
    "    </b></a>"
   ]
  },
  {
   "cell_type": "code",
   "execution_count": 69,
   "id": "c6eb15d6-c72b-4d13-aee3-3df024161f9b",
   "metadata": {},
   "outputs": [],
   "source": [
    "# Write a function that expects a positive integer and returns a \n",
    "# list of binary numbers (0 or 1) that correspond to the binary representation of that integer.\n",
    "# NB there are built-in functions to convert from binary to\n",
    "# decimal (int) and vice versa (bin), but instead use the algorithm\n",
    "# implicit in this example to create your own solution:\n",
    "#\n",
    "# 23 to binary:\n",
    "# / 2 = 11 r 1\n",
    "# / 2 = 5  r 1\n",
    "# / 2 = 2  r 1\n",
    "# / 2 = 1  r 0\n",
    "# / 2 = 0  r 1\n",
    "# The binary number can be determined from the series of remainder values,\n",
    "# from last to first ie [1,0,1,1,1]\n",
    "\n",
    "# Hint: Remainder is calculated using the % modulo operator.\n",
    "\n",
    "# WRITE YOUR FUNCTION HERE\n",
    "def convert_to_binary(number) :\n",
    "    result = []\n",
    "    while number > 0 :\n",
    "        # compute remainder\n",
    "        digit = number % 2\n",
    "        # the // operator performs division using integer arithmetic\n",
    "        number = number // 2\n",
    "        # prepend the latest digit to the start of our list\n",
    "        result.insert(0, digit)\n",
    "    return result"
   ]
  },
  {
   "cell_type": "code",
   "execution_count": 70,
   "id": "44141542-afff-4e43-841a-e6be1b4c317b",
   "metadata": {},
   "outputs": [
    {
     "data": {
      "text/plain": [
       "[1, 0, 1, 1, 1]"
      ]
     },
     "execution_count": 70,
     "metadata": {},
     "output_type": "execute_result"
    }
   ],
   "source": [
    "convert_to_binary(23) # answer should be [1, 0, 1, 1, 1]"
   ]
  },
  {
   "cell_type": "code",
   "execution_count": 71,
   "id": "ff484833-9fbb-446f-a200-4fbb337f50b7",
   "metadata": {},
   "outputs": [
    {
     "data": {
      "text/plain": [
       "[1, 1, 1]"
      ]
     },
     "execution_count": 71,
     "metadata": {},
     "output_type": "execute_result"
    }
   ],
   "source": [
    "convert_to_binary(7) # answer should be [1, 1, 1]"
   ]
  },
  {
   "cell_type": "code",
   "execution_count": 72,
   "id": "29179570-0c08-425c-bcc9-d288a54147f2",
   "metadata": {},
   "outputs": [
    {
     "data": {
      "text/plain": [
       "[1, 0]"
      ]
     },
     "execution_count": 72,
     "metadata": {},
     "output_type": "execute_result"
    }
   ],
   "source": [
    "convert_to_binary(2) # answer should be [1, 0]"
   ]
  },
  {
   "cell_type": "code",
   "execution_count": 73,
   "id": "c56cd002-b5cb-4fc8-92ed-4e942e4da0c0",
   "metadata": {},
   "outputs": [
    {
     "data": {
      "text/plain": [
       "[1, 1, 0, 0, 1, 0, 0]"
      ]
     },
     "execution_count": 73,
     "metadata": {},
     "output_type": "execute_result"
    }
   ],
   "source": [
    "convert_to_binary(100) # answer should be [1, 1, 0, 0, 1, 0, 0]"
   ]
  },
  {
   "cell_type": "code",
   "execution_count": 74,
   "id": "b2a57269-b57e-4155-a726-bed0c385e68a",
   "metadata": {},
   "outputs": [
    {
     "data": {
      "text/plain": [
       "[1]"
      ]
     },
     "execution_count": 74,
     "metadata": {},
     "output_type": "execute_result"
    }
   ],
   "source": [
    "convert_to_binary(1) # answer should be [1]"
   ]
  },
  {
   "cell_type": "code",
   "execution_count": 75,
   "id": "63353f7a-9c30-4554-9c49-bc97de9d9e18",
   "metadata": {},
   "outputs": [
    {
     "name": "stdout",
     "output_type": "stream",
     "text": [
      "[1, 0, 0, 0, 0, 1, 1, 1, 1, 0, 0, 0, 0, 1, 1, 0, 0, 1, 1, 1, 1, 0, 0, 0, 0, 0, 1, 1, 0, 0, 1, 0, 0, 1, 1, 0, 1, 1, 1, 0, 1, 0, 1, 0, 1, 1, 0, 0, 1, 0, 0, 0, 1, 1, 1, 1, 1, 1, 1, 1, 1, 1, 1, 1, 1, 1, 1, 1, 1, 1, 1, 1, 1, 1]\n"
     ]
    }
   ],
   "source": [
    "print(convert_to_binary(9999999999999999999999)) \n",
    "# answer should be [1, 0, 0, 0, 0, 1, 1, 1, 1, 0, 0, 0, 0, 1, 1, 0, 0, 1, 1, 1, 1, 0, 0, 0, 0, 0, 1, 1, 0, 0, 1, 0, 0, 1, 1, 0, 1, 1, 1, 0, 1, 0, 1, 0, 1, 1, 0, 0, 1, 0, 0, 0, 1, 1, 1, 1, 1, 1, 1, 1, 1, 1, 1, 1, 1, 1, 1, 1, 1, 1, 1, 1, 1, 1]"
   ]
  },
  {
   "cell_type": "code",
   "execution_count": 76,
   "id": "de2de39f-5da6-4bc2-88cc-0b79bf2471c3",
   "metadata": {},
   "outputs": [
    {
     "name": "stdout",
     "output_type": "stream",
     "text": [
      "[1, 0, 0, 0, 0, 1, 1, 1, 1, 0, 0, 0, 0, 1, 1, 0, 0, 1, 1, 1, 1, 0, 0, 0, 0, 0, 1, 1, 0, 0, 1, 0, 0, 1, 1, 0, 1, 1, 1, 0, 1, 0, 1, 0, 1, 1, 0, 0, 1, 0, 0, 0, 1, 1, 1, 1, 1, 1, 1, 1, 1, 1, 1, 1, 1, 1, 1, 1, 1, 1, 1, 1, 1, 1]\n"
     ]
    }
   ],
   "source": [
    "print(convert_to_binary(int('10000111100001100111100000110010011011101010110010001111111111111111111111', 2))) \n",
    "# answer should be [1, 0, 0, 0, 0, 1, 1, 1, 1, 0, 0, 0, 0, 1, 1, 0, 0, 1, 1, 1, 1, 0, 0, 0, 0, 0, 1, 1, 0, 0, 1, 0, 0, 1, 1, 0, 1, 1, 1, 0, 1, 0, 1, 0, 1, 1, 0, 0, 1, 0, 0, 0, 1, 1, 1, 1, 1, 1, 1, 1, 1, 1, 1, 1, 1, 1, 1, 1, 1, 1, 1, 1, 1, 1]"
   ]
  },
  {
   "cell_type": "markdown",
   "id": "95b4fe0a-0426-4e69-b639-36967527f940",
   "metadata": {},
   "source": [
    "<a name=\"print_decimal\"><b>Q: Print Decimal\n",
    "    </b></a>"
   ]
  },
  {
   "cell_type": "code",
   "execution_count": 125,
   "id": "bedf456c-1ed8-4c62-8fbe-56681f1f817a",
   "metadata": {},
   "outputs": [],
   "source": [
    "# Write a function that expects a list of binary digits \n",
    "# that correspond to the binary representation of an integer and return the equivalent decimal value.\n",
    "\n",
    "# NB there are built-in functions to convert from binary to\n",
    "# decimal (int) and vice versa (bin), but instead use the algorithm\n",
    "# implicit in this example to create your own solution:\n",
    "#\n",
    "# [1,0,1,1,1] to decimal:\n",
    "# 1 x 2^4 +\n",
    "# 0 x 2^3 +\n",
    "# 1 x 2^2 +\n",
    "# 1 x 2^1 +\n",
    "# 1 x 2^0\n",
    "\n",
    "# WRITE YOUR FUNCTION HERE\n",
    "def convert_to_decimal(binary_digits) :\n",
    "    # result will be accumulated as we iterate through the list\n",
    "    total = 0\n",
    "    for i in range(len(binary_digits)) :\n",
    "        # retrieve the current digit from the list (working backwards from the end of the list)\n",
    "        digit = binary_digits[-i-1]\n",
    "        # increment our total based on the current digit and its position\n",
    "        total += digit * 2 ** i\n",
    "    return total"
   ]
  },
  {
   "cell_type": "code",
   "execution_count": 126,
   "id": "c64e04c5-2371-405d-9a7b-dc4c024a4724",
   "metadata": {},
   "outputs": [
    {
     "data": {
      "text/plain": [
       "23"
      ]
     },
     "execution_count": 126,
     "metadata": {},
     "output_type": "execute_result"
    }
   ],
   "source": [
    "convert_to_decimal([1,0,1,1,1]) # answer should be 23"
   ]
  },
  {
   "cell_type": "code",
   "execution_count": 79,
   "id": "d2886b99-a652-42d6-ba96-9d4b10a453c6",
   "metadata": {},
   "outputs": [
    {
     "data": {
      "text/plain": [
       "7"
      ]
     },
     "execution_count": 79,
     "metadata": {},
     "output_type": "execute_result"
    }
   ],
   "source": [
    "convert_to_decimal([1,1,1]) # answer should be 7"
   ]
  },
  {
   "cell_type": "code",
   "execution_count": 80,
   "id": "a8a0abe6-f76a-4b25-963f-6c9078169738",
   "metadata": {},
   "outputs": [
    {
     "data": {
      "text/plain": [
       "2"
      ]
     },
     "execution_count": 80,
     "metadata": {},
     "output_type": "execute_result"
    }
   ],
   "source": [
    "convert_to_decimal([1,0])# answer should be 2"
   ]
  },
  {
   "cell_type": "code",
   "execution_count": 81,
   "id": "e588162e-0f4a-454d-9b06-c54e84b91f95",
   "metadata": {},
   "outputs": [
    {
     "data": {
      "text/plain": [
       "100"
      ]
     },
     "execution_count": 81,
     "metadata": {},
     "output_type": "execute_result"
    }
   ],
   "source": [
    "convert_to_decimal([1,1,0,0,1,0,0]) # answer should be 100"
   ]
  },
  {
   "cell_type": "code",
   "execution_count": 82,
   "id": "64f63405-3dc3-4b64-b633-2503cd3333b1",
   "metadata": {},
   "outputs": [
    {
     "data": {
      "text/plain": [
       "1"
      ]
     },
     "execution_count": 82,
     "metadata": {},
     "output_type": "execute_result"
    }
   ],
   "source": [
    "convert_to_decimal([1]) # answer should be 1"
   ]
  },
  {
   "cell_type": "code",
   "execution_count": 83,
   "id": "9c8b8490-37ec-49ef-a65c-3510f089b753",
   "metadata": {},
   "outputs": [
    {
     "data": {
      "text/plain": [
       "9999999999999999999999"
      ]
     },
     "execution_count": 83,
     "metadata": {},
     "output_type": "execute_result"
    }
   ],
   "source": [
    "convert_to_decimal([1,0,0,0,0,1,1,1,1,0,0,0,0,1,1,0,0,1,1,1,1,0,0,0,0,0,1,1,0,0,1,0,0,1,1,0,1,1,1,0,1,0,1,0,1,1,0,0,1,0,0,0,1,1,1,1,1,1,1,1,1,1,1,1,1,1,1,1,1,1,1,1,1,1]) \n",
    "# answer should be 9999999999999999999999"
   ]
  },
  {
   "cell_type": "markdown",
   "id": "fde2560a-0e3d-44c0-b6d8-ff054c7c0306",
   "metadata": {},
   "source": [
    "\n",
    "<a name=\"golfing\"><b>Q: Golf\n",
    "    </b></a>"
   ]
  },
  {
   "cell_type": "code",
   "execution_count": 84,
   "id": "ddc450a4-ef2d-420b-b852-4b1e42078f7f",
   "metadata": {},
   "outputs": [
    {
     "data": {
      "text/plain": [
       "34"
      ]
     },
     "execution_count": 84,
     "metadata": {},
     "output_type": "execute_result"
    }
   ],
   "source": [
    "# A game of golf consists of one or more groups of 9 holes.\n",
    "# (A 'hole' in general consists of not only the tiny hole in the ground\n",
    "# with a flag in it that is the ultimate destination of the ball,\n",
    "# but also the tee (starting area), fairway, fairway surrounds (trees, scrubs,\n",
    "# sand bunkers, water hazards etc.) as well as the putting green\n",
    "# with the hole and flag.  Most often 18 holes in total are played in a game,\n",
    "# with the object being to hit the ball the least number of times between\n",
    "# the tee and the hole.\n",
    "\n",
    "# Once a male-dominated domain, golf has become a popular sport for all genders and ages.\n",
    "\n",
    "# Each hole is classified in terms of how many strokes (hits of the ball)\n",
    "# it should take from tee to hole.  This is called the 'par' for the hole.\n",
    "# A handicapping system takes care of putting all players on a level\n",
    "# playing ground, the finer details of which are not important for this task.\n",
    "\n",
    "# Below is a Python list of integers representing\n",
    "# the pars for 18 holes at one golf course in Brisbane.\n",
    "# The par values are ordered from hole 1 to 18 with:\n",
    "#    1 to 9 (the 'front nine') and 10 to 18 (the 'back nine').\n",
    "# Remember that Python lists are 0-indexed.\n",
    "# So the par value for hole 5, for example will be found at\n",
    "# index 4 of the pars list.\n",
    "\n",
    "course_pars = [5, 4, 3, 4, 4, 3, 4, 4, 3,\n",
    "               3, 4, 3, 5, 3, 4, 5, 4, 4]\n",
    "\n",
    "# 1.  Write expressions to calculate the sum of the pars for each\n",
    "#     of the front and back nine and store them in separate (aptly named!)\n",
    "#     variables.  \n",
    "#     Hint: use list slicing\n",
    "\n",
    "# front_nine_pars = # insert expression to calculate here\n",
    "front_nine_pars = sum(course_pars[:9])\n",
    "# result should be 34\n",
    "front_nine_pars"
   ]
  },
  {
   "cell_type": "code",
   "execution_count": 85,
   "id": "d964e70b-f939-4d15-b384-6cf35d0835a3",
   "metadata": {},
   "outputs": [
    {
     "data": {
      "text/plain": [
       "35"
      ]
     },
     "execution_count": 85,
     "metadata": {},
     "output_type": "execute_result"
    }
   ],
   "source": [
    "# back_nine_pars = # insert expression to calculate here\n",
    "back_nine_pars = sum(course_pars[9:18])\n",
    "# result should be 35\n",
    "back_nine_pars"
   ]
  },
  {
   "cell_type": "code",
   "execution_count": 86,
   "id": "8a67fa33-cbd4-4cd1-adfc-392d400a6b3a",
   "metadata": {},
   "outputs": [
    {
     "data": {
      "text/plain": [
       "43"
      ]
     },
     "execution_count": 86,
     "metadata": {},
     "output_type": "execute_result"
    }
   ],
   "source": [
    "# Now imagine that you have played 18 holes (holes 1 to 18 inclusive)\n",
    "# and have recorded your strokes in another Python list as follows:\n",
    "my_results = [6, 6, 4, 5, 4, 3, 4, 5, 6,\n",
    "              3, 3, 4, 6, 5, 5, 6, 5, 5]\n",
    "\n",
    "# 2. It is normal to calculate the total number of strokes taken\n",
    "#    in your game for both the front and back nines.\n",
    "#    Write expressions to calculate the sum of strokes for the\n",
    "#    front and back nines that you played\n",
    "#    and store them in two separate (aptly named!) variables\n",
    "\n",
    "# strokes_front_nine = # insert expression to calculate here\n",
    "strokes_front_nine = sum(my_results[:9])\n",
    "strokes_front_nine"
   ]
  },
  {
   "cell_type": "code",
   "execution_count": 87,
   "id": "85f7ed39-6a5f-47db-8553-8b7f21ef69ca",
   "metadata": {},
   "outputs": [
    {
     "data": {
      "text/plain": [
       "42"
      ]
     },
     "execution_count": 87,
     "metadata": {},
     "output_type": "execute_result"
    }
   ],
   "source": [
    "# strokes_back_nine = # insert expression \n",
    "strokes_back_nine = sum(my_results[9:18])\n",
    "strokes_back_nine"
   ]
  },
  {
   "cell_type": "code",
   "execution_count": 88,
   "id": "9cf185e6-a6a8-489e-831b-8b828e1712f9",
   "metadata": {},
   "outputs": [
    {
     "name": "stdout",
     "output_type": "stream",
     "text": [
      "Result on front nine: + 9\n",
      "Result on back nine : + 7\n"
     ]
    }
   ],
   "source": [
    "# 3. Write expressions to calculate the difference between the par totals\n",
    "#    and your results, for both the front and back nine.\n",
    "#    Result will represent how many strokes you played 'over par'\n",
    "#    (unless of course you are a seriously good golfer, and end up\n",
    "#    with a negative result!).  Output the result of your game.\n",
    "\n",
    "gross_result_front_nine = strokes_front_nine - front_nine_pars\n",
    "gross_result_back_nine = strokes_back_nine - back_nine_pars\n",
    "\n",
    "print('Result on front nine: +',gross_result_front_nine)\n",
    "print('Result on back nine : +',gross_result_back_nine)\n",
    "\n",
    "#    Answer should be:\n",
    "#       Result on front nine : + 9\n",
    "#       Result on back nine: + 7"
   ]
  },
  {
   "cell_type": "code",
   "execution_count": 89,
   "id": "3e26422e-6e77-4298-8504-86e9979697b2",
   "metadata": {},
   "outputs": [
    {
     "name": "stdout",
     "output_type": "stream",
     "text": [
      "Pars:    4\n",
      "Birdies: 1\n",
      "Eagles:  0\n"
     ]
    }
   ],
   "source": [
    "# 4. In order to brag about your performance in golf, it will be\n",
    "#    necessary to know a few more statistics about your results.\n",
    "#    The following are some of the more common terms used:\n",
    "#    Bogey = where your stroke count is 1 more than par for that hole\n",
    "#    (Double Bogey is 2 more than par, Triple Bogey is 3 more etc. etc.)\n",
    "#    Par = where your stroke count is the same as par for that hole\n",
    "#    Birdie = where your stroke count is 1 less than par for that hole\n",
    "#    Eagle = where your stroke count is 2 less than par for that hole\n",
    "#    etc.  Ignoring results you don't want to brag about\n",
    "#    (bogeys or worse!) store the number of pars, birdies and eagles\n",
    "#    you achieved in your game.\n",
    "#    Hint: Use iteration to compare your result for each hole with the\n",
    "#    par for that hole, and calculate the difference.\n",
    "#    Visualise your brag sheet like this:\n",
    "#       Brag sheet\n",
    "#       ==========\n",
    "#       Pars:    4\n",
    "#       Birdies: 1\n",
    "#       Eagles:  0\n",
    "\n",
    "# WRITE YOUR CODE HERE\n",
    "pars = birdies = eagles = 0\n",
    "for hole in range(len(my_results)) :\n",
    "    if my_results[hole] == course_pars[hole] :\n",
    "        pars += 1\n",
    "    if my_results[hole] == course_pars[hole]-1 :\n",
    "        birdies += 1\n",
    "    if my_results[hole] == course_pars[hole]-2 :\n",
    "        eagles += 1     \n",
    "print('Pars:   ', pars)\n",
    "print('Birdies:', birdies)\n",
    "print('Eagles: ', eagles)"
   ]
  },
  {
   "cell_type": "markdown",
   "id": "8b61b48d-6201-487a-8b7f-c3b9aeb7cee3",
   "metadata": {},
   "source": [
    "<a name=\"concrete_cylinder_test_data_analysis\"><a>\n",
    "# Context: Structures - Concrete Cylinder Test Data Analysis\n",
    "    "
   ]
  },
  {
   "cell_type": "markdown",
   "id": "e197e519-2c72-4c2e-b92b-f1ec471a7b82",
   "metadata": {},
   "source": [
    "Concrete is one of the most used construction materials. Its quality is determined by casting and testing cylindrical samples. In second year, students get an opportunity to perform these experiments in lab. Analysis of raw data collected from the testing machine is important to find maximum and average strength of the tested samples. At least three samples as minimum are casted and tested. Raw data is also used to develop stress-strain curves of concrete to find other mechanical properties such as young’s modulus.  \n",
    "\n",
    "<strong>Standard Test Sample Size</strong>: 100 mm diameter x 200mm height (Cylindrical)\n",
    "\n",
    "<img src=\"data:image/png;base64,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\">"
   ]
  },
  {
   "cell_type": "markdown",
   "id": "12771456-2424-4f68-9e84-aa1ed728ca0e",
   "metadata": {},
   "source": [
    "<a name=\"cross_area\"><a>\n",
    "    \n",
    "<b>Q: Cross Area</b>   \n"
   ]
  },
  {
   "cell_type": "code",
   "execution_count": 110,
   "id": "97ba8a58-db06-4da7-90de-f7c54cde7259",
   "metadata": {},
   "outputs": [],
   "source": [
    "import math\n",
    "\n",
    "# Define a function to calculate the cross-sectional area of a cylinder given its diameter\n",
    "\n",
    "# WRITE YOUR FUNCTION HERE\n",
    "def cross_sectional_area(diameter) :\n",
    "    radius = diameter / 2\n",
    "    return math.pi * radius ** 2"
   ]
  },
  {
   "cell_type": "code",
   "execution_count": 111,
   "id": "95cf1df6-ab8d-49ba-ba4d-dca7def67f9a",
   "metadata": {},
   "outputs": [
    {
     "data": {
      "text/plain": [
       "0.0"
      ]
     },
     "execution_count": 111,
     "metadata": {},
     "output_type": "execute_result"
    }
   ],
   "source": [
    "cross_sectional_area(0) # answer should be 0.0"
   ]
  },
  {
   "cell_type": "code",
   "execution_count": 113,
   "id": "9c2ae460-cba9-4687-a127-bc946c69d522",
   "metadata": {},
   "outputs": [
    {
     "data": {
      "text/plain": [
       "3.141592653589793"
      ]
     },
     "execution_count": 113,
     "metadata": {},
     "output_type": "execute_result"
    }
   ],
   "source": [
    "cross_sectional_area(2) # answer should be 3.141592653589793"
   ]
  },
  {
   "cell_type": "code",
   "execution_count": 114,
   "id": "ce6df1a0-e516-4b6b-a423-f87cc26165ac",
   "metadata": {},
   "outputs": [
    {
     "data": {
      "text/plain": [
       "7853.981633974483"
      ]
     },
     "execution_count": 114,
     "metadata": {},
     "output_type": "execute_result"
    }
   ],
   "source": [
    "cross_sectional_area(100) # answer should be 7853.981633974483"
   ]
  },
  {
   "cell_type": "markdown",
   "id": "d1cd29ef-b333-4041-b91f-6d6698672a39",
   "metadata": {},
   "source": [
    "<a name=\"compressive_stress\"><a>\n",
    "    \n",
    "<b>Q: Compressive Stress</b>   \n",
    "    \n",
    "The Compressive Stress of concrete is given by the following formula:\n",
    "$f_c = \\frac{P}{A}$\n",
    "    \n",
    "where $f_c$ is the compressive stress in MPa, $P$ is the Load in Newtons and $A$ is the Cross Sectional Area in ${mm}^2$"
   ]
  },
  {
   "cell_type": "code",
   "execution_count": 120,
   "id": "5da51000-f1cc-4e26-86bc-7a9313a77082",
   "metadata": {},
   "outputs": [],
   "source": [
    "# Define a function to calculate the compressive stress given the load and the cyclinder diameter.\n",
    "\n",
    "# WRITE YOUR FUNCTION HERE\n",
    "def compressive_stress(P, diameter) :\n",
    "    return P / cross_sectional_area(diameter)"
   ]
  },
  {
   "cell_type": "code",
   "execution_count": 121,
   "id": "93b635ff-535d-49b0-9afe-81bedfd74287",
   "metadata": {},
   "outputs": [
    {
     "data": {
      "text/plain": [
       "0.0003819718634205488"
      ]
     },
     "execution_count": 121,
     "metadata": {},
     "output_type": "execute_result"
    }
   ],
   "source": [
    "compressive_stress(3, 100) # answer should be 0.0003819718634205488 MPa"
   ]
  },
  {
   "cell_type": "code",
   "execution_count": 122,
   "id": "09b9cbe3-4abc-4d6e-9f63-2e0faec63ab9",
   "metadata": {},
   "outputs": [
    {
     "data": {
      "text/plain": [
       "0.000353677651315323"
      ]
     },
     "execution_count": 122,
     "metadata": {},
     "output_type": "execute_result"
    }
   ],
   "source": [
    "compressive_stress(4, 120) # answer should be 0.000353677651315323 MPa"
   ]
  },
  {
   "cell_type": "code",
   "execution_count": 123,
   "id": "64194fa2-c7ba-432b-9b42-fff39a0bd9fb",
   "metadata": {},
   "outputs": [
    {
     "data": {
      "text/plain": [
       "0.00031438013450250935"
      ]
     },
     "execution_count": 123,
     "metadata": {},
     "output_type": "execute_result"
    }
   ],
   "source": [
    "compressive_stress(2, 90) # answer should be 0.00031438013450250935 MPa"
   ]
  },
  {
   "cell_type": "markdown",
   "id": "708dfcb9-ede4-416b-83f1-f5c4d543cbf7",
   "metadata": {},
   "source": [
    "<a name=\"stress-strain\"><a>\n",
    "# Context: Structures - Stress-Strain Model for Concrete\n",
    "    "
   ]
  },
  {
   "cell_type": "markdown",
   "id": "ce18907d-5e8d-4561-8c3b-7adcef5b8f36",
   "metadata": {},
   "source": [
    "Analytical stress-strain models of structural materials (also called material models) in terms of mathematical equations are important for developing simulation models of large-scale structures to analyse them under various loads such as earthquakes, gravity loads or wind loads. These material models can be used as subroutines in finite element analysis packages (such as ABAQUS, LS DYNA, STRANDS 7, SPASGASS) to simulate large size structures such as concrete or masonry walls or steel frames. \n",
    "\n",
    "<strong>Analytical model of concrete:</strong><br>\n",
    "<img src=\"data:image/png;base64,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\">\n",
    "\n",
    "Where:<br>\n",
    "$\\sigma$ = stress at any strain instant (MPa)<br>\n",
    "$\\sigma_{max}$ = Ultimate or peak strength from material tests (20 MPa to 50 MPa)<br>\n",
    "$\\epsilon$ = strain at any instant (MPa)<br>\n",
    "$\\epsilon_p$ = peak strain corresponding to peak strength (MPa) = $0.0007(\\sigma_{max})^{0.31}$\n",
    "\n"
   ]
  },
  {
   "cell_type": "markdown",
   "id": "fa2b843d-2329-4747-b445-7bd217e73d33",
   "metadata": {},
   "source": [
    "<a name=\"stress\"><a>\n",
    "    \n",
    "<b>Q: Stress</b>   "
   ]
  },
  {
   "cell_type": "code",
   "execution_count": 98,
   "id": "b5adc6be-e6e3-400e-83bb-06bf3c2c4dc5",
   "metadata": {},
   "outputs": [],
   "source": [
    "# Define a function to estimate stress (σ) given values for strain (ε or esp) \n",
    "# and peak strength (σ_max or sigmax)\n",
    "\n",
    "# WRITE YOUR FUNCTION HERE\n",
    "def stress(peak_strength, strain) :\n",
    "    peak_strain = 0.0007 * peak_strength ** 0.31\n",
    "    return 2 * peak_strength * 1.94 * (strain / peak_strain) / (0.75 * (1 + 0.25*strain/peak_strain) + (strain/peak_strain)**1.75)"
   ]
  },
  {
   "cell_type": "code",
   "execution_count": 99,
   "id": "4d97fecb-1d4e-4054-87c1-c76363a7d358",
   "metadata": {},
   "outputs": [
    {
     "data": {
      "text/plain": [
       "5.709293206599784"
      ]
     },
     "execution_count": 99,
     "metadata": {},
     "output_type": "execute_result"
    }
   ],
   "source": [
    "stress(20, 0.0001) # answer should be 5.709293206599782"
   ]
  },
  {
   "cell_type": "code",
   "execution_count": 100,
   "id": "44da37c4-da96-4e5c-9930-b04ceae51ba8",
   "metadata": {},
   "outputs": [
    {
     "data": {
      "text/plain": [
       "39.85529960905406"
      ]
     },
     "execution_count": 100,
     "metadata": {},
     "output_type": "execute_result"
    }
   ],
   "source": [
    "stress(20, 0.002) # answer should be 39.85529960905404"
   ]
  },
  {
   "cell_type": "code",
   "execution_count": 101,
   "id": "b8b1bd99-2d26-4b80-8987-8f6f9f9ebc15",
   "metadata": {},
   "outputs": [
    {
     "data": {
      "text/plain": [
       "20.223285905497978"
      ]
     },
     "execution_count": 101,
     "metadata": {},
     "output_type": "execute_result"
    }
   ],
   "source": [
    "stress(20, 0.0004) # answer should be 20.22328590549797"
   ]
  },
  {
   "cell_type": "code",
   "execution_count": 102,
   "id": "e62f5223-f2a6-4203-90cd-e3867b66ef11",
   "metadata": {},
   "outputs": [
    {
     "name": "stdout",
     "output_type": "stream",
     "text": [
      "0.0 0.0\n",
      "0.0001 5.709293206599784\n",
      "0.0002 11.043854370287827\n",
      "0.0003 15.898444177682146\n",
      "0.0004 20.223285905497978\n",
      "0.0005 24.006947840072765\n",
      "0.0006 27.264622974950395\n",
      "0.0007 30.02873755450169\n",
      "0.0008 32.34160754762151\n",
      "0.0009 34.249998118208815\n",
      "0.001 35.80133389226734\n",
      "0.0011 37.04123981458318\n",
      "0.0012 38.012088209021584\n",
      "0.0013 38.752264932471185\n",
      "0.0014 39.29592222772489\n",
      "0.0015 39.6730420108662\n",
      "0.0016 39.909682636640945\n",
      "0.0017 40.02832174052634\n",
      "0.0018 40.048237589985604\n",
      "0.0019 39.98589285740078\n",
      "0.002 39.85529960905406\n",
      "0.0021 39.66835425812353\n",
      "0.0022 39.43513765017691\n",
      "0.0023 39.16417941932487\n",
      "0.0024 38.86268807125474\n",
      "0.0025 38.53674948531205\n",
      "0.0026 38.19149707617342\n",
      "0.0027 37.83125698327449\n",
      "0.0028 37.45967153942217\n",
      "0.0029 37.07980402285357\n"
     ]
    }
   ],
   "source": [
    "# Assuming a peak strength of 20\n",
    "# Write a FOR loop to estimate the stress for a range of strains from 0 to 0.003 with increments of 0.0001\n",
    "\n",
    "for step in range(30):\n",
    "    strain = step / 10000\n",
    "    print(strain, stress(20, strain))"
   ]
  },
  {
   "cell_type": "markdown",
   "id": "3ac5322a-3fe5-47ea-a69a-9298c4b8454e",
   "metadata": {},
   "source": [
    "Expected output:\n",
    "<pre>\n",
    "0.0 0.0\n",
    "0.0001 5.709293206599782\n",
    "0.0002 11.043854370287823\n",
    "0.0003 15.898444177682148\n",
    "0.0004 20.22328590549797\n",
    "0.0005 24.00694784007276\n",
    "0.0006 27.2646229749504\n",
    "0.0007 30.028737554501692\n",
    "0.0008 32.3416075476215\n",
    "0.0009 34.24999811820882\n",
    "0.001 35.80133389226733\n",
    "0.0011 37.04123981458318\n",
    "0.0012 38.01208820902159\n",
    "0.0013 38.752264932471185\n",
    "0.0014 39.295922227724894\n",
    "0.0015 39.6730420108662\n",
    "0.0016 39.90968263664094\n",
    "0.0017 40.02832174052634\n",
    "0.0018 40.04823758998561\n",
    "0.0019 39.985892857400785\n",
    "0.002 39.85529960905404\n",
    "0.0021 39.66835425812352\n",
    "0.0022 39.43513765017691\n",
    "0.0023 39.16417941932487\n",
    "0.0024 38.862688071254745\n",
    "0.0025 38.536749485312065\n",
    "0.0026 38.19149707617342\n",
    "0.0027 37.83125698327449\n",
    "0.0028 37.459671539422175\n",
    "0.0029 37.07980402285357\n",
    "</pre>"
   ]
  },
  {
   "cell_type": "code",
   "execution_count": 103,
   "id": "47d7f876-5584-476b-b32a-18576edd8b1d",
   "metadata": {},
   "outputs": [
    {
     "data": {
      "image/png": "[encoded data removed]",
      "text/plain": [
       "<Figure size 432x288 with 1 Axes>"
      ]
     },
     "metadata": {
      "needs_background": "light"
     },
     "output_type": "display_data"
    }
   ],
   "source": [
    "# Plot the stress versus strain for the above values\n",
    "import matplotlib.pyplot\n",
    "\n",
    "sig_list = []\n",
    "esp_list = []\n",
    "for strain in range(0, 30):\n",
    "    esp = strain / 10000\n",
    "    sig = stress(20, esp)\n",
    "    sig_list.append(sig)\n",
    "    esp_list.append(esp)\n",
    "    \n",
    "matplotlib.pyplot.plot(esp_list, sig_list)\n",
    "matplotlib.pyplot.xlabel(\"Strain MPa\")\n",
    "x = matplotlib.pyplot.ylabel(\"Stress MPa\")"
   ]
  }
 ],
 "metadata": {
  "kernelspec": {
   "display_name": "Python 3 (ipykernel)",
   "language": "python",
   "name": "python3"
  },
  "language_info": {
   "codemirror_mode": {
    "name": "ipython",
    "version": 3
   },
   "file_extension": ".py",
   "mimetype": "text/x-python",
   "name": "python",
   "nbconvert_exporter": "python",
   "pygments_lexer": "ipython3",
   "version": "3.9.10"
  }
 },
 "nbformat": 4,
 "nbformat_minor": 5
}
