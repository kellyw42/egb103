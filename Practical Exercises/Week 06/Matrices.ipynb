{
 "cells": [
  {
   "cell_type": "markdown",
   "id": "5c4a7bae-672a-49c0-b9bc-e23711072003",
   "metadata": {
    "tags": []
   },
   "source": [
    "# Filling lists"
   ]
  },
  {
   "cell_type": "code",
   "execution_count": null,
   "id": "8a95be7d-ecef-47c5-b063-7ff623d0b610",
   "metadata": {},
   "outputs": [],
   "source": [
    "# We wish to fill a list to contain the first 100 square numbers: [0, 1, 2, 4, 9, 16, 25 ...]\n",
    "# It's too long to create manually, so we want to write a loop to create the list\n",
    "\n",
    "# Why does the following code not work?\n",
    "\n",
    "list = []\n",
    "for i in range(100) :\n",
    "    list[i] = i * i\n",
    "print(list)"
   ]
  },
  {
   "cell_type": "code",
   "execution_count": null,
   "id": "fe8bb203-9707-42fa-bcd5-86148fbad415",
   "metadata": {},
   "outputs": [],
   "source": [
    "# Rewrite the above code to incrementally append each element to the list, one by one\n",
    "\n",
    "# insert your code here\n"
   ]
  },
  {
   "cell_type": "code",
   "execution_count": null,
   "id": "a54b5596-4e91-409a-82b9-393899ca3546",
   "metadata": {},
   "outputs": [],
   "source": [
    "# Rewrite the above code to create a list of size 100 where each element is 0\n",
    "\n",
    "# insert  your code here\n"
   ]
  },
  {
   "cell_type": "code",
   "execution_count": null,
   "id": "06311918-23bd-42a8-8dd9-1aa2b0c8d772",
   "metadata": {},
   "outputs": [],
   "source": [
    "# Another way of achieving the same result is as follows:\n",
    "\n",
    "list = [0] * 100\n",
    "print(list)"
   ]
  },
  {
   "cell_type": "code",
   "execution_count": null,
   "id": "8ac67066-0205-42be-b292-6d0e3fc48d22",
   "metadata": {},
   "outputs": [],
   "source": [
    "# Rewrite your code to compute the first 100 square numbers, but this time first create a list of 100 elements that all have the value None\n",
    "# And then update the elements to their correct value inside the loop\n",
    "\n",
    "# insert your code here\n"
   ]
  },
  {
   "cell_type": "code",
   "execution_count": null,
   "id": "987b8ab3-1318-45ee-8a0d-a86bc7e68748",
   "metadata": {},
   "outputs": [],
   "source": [
    "# Another Python mechanism for achieving the same result is as follows (using something called a list comprehension)\n",
    "\n",
    "list = [i * i for i in range(100) ]\n",
    "print(list)"
   ]
  },
  {
   "cell_type": "code",
   "execution_count": null,
   "id": "e35a7200-9f3d-4848-bf0b-2139c3a7fd08",
   "metadata": {},
   "outputs": [],
   "source": [
    "# Use a list comprehension to create a list of 100 numbers where each element is 0\n",
    "\n",
    "# insert your code here\n"
   ]
  },
  {
   "cell_type": "code",
   "execution_count": null,
   "id": "5cf1a82f-1703-4161-86c5-8d3329f947ad",
   "metadata": {},
   "outputs": [],
   "source": [
    "# Use a list comprehension to create a list of consecutive integer numbers from 0 to 99\n",
    "\n",
    "# insert your code here\n"
   ]
  },
  {
   "cell_type": "markdown",
   "id": "744a2f7c-b8c8-457d-b5a5-5c332ba56c95",
   "metadata": {},
   "source": [
    "Note: the for loop used in a list comprehension needn't be a simple range loop."
   ]
  },
  {
   "cell_type": "markdown",
   "id": "fbefcc4d-f41c-44cb-802d-e76bcd3206cf",
   "metadata": {},
   "source": [
    "# Linear Algebra\n",
    "\n",
    "https://en.wikipedia.org/wiki/Linear_algebra\n",
    "\n",
    "Linear algebra requires us to represent vectors and matrices.\n",
    "\n",
    "In this tutorial we will explore two different ways of representing Matrices in Python:\n",
    "1. As a list of lists\n",
    "2. As a NumPy 2-dimensional array\n",
    "\n",
    "We will also consider two different ways of performing matrix and vector operations:\n",
    "1. Using high-level NumPy functions\n",
    "2. Implemented ourselves using loops that access individual elements of lists and arrays\n",
    "\n",
    "Clearly, using high-level NumPy functions is simplier and more efficient, but there will be times when the operation we wish to perform is not available via a high-level library, so we need the programming skills to be able to implement any operation using primitive element wise operations and loops. \n"
   ]
  },
  {
   "cell_type": "markdown",
   "id": "4038551a-422e-4474-a5c5-2e136ed4e77a",
   "metadata": {},
   "source": [
    "# Representing Matrices as Lists of Lists"
   ]
  },
  {
   "cell_type": "markdown",
   "id": "54a3a261-ec29-4c12-95d8-501932694fdc",
   "metadata": {},
   "source": [
    "Represent the following matrices in Python code as lists of lists:\n",
    "\n",
    "$$\n",
    "a = \\begin{bmatrix} \n",
    "1 & 2 & 3 \\\\\n",
    "4 & 5 & 6 \n",
    "\\end{bmatrix},\n",
    "b = \\begin{bmatrix} \n",
    "10 & 11 & 12 \\\\\n",
    "13 & 14 & 15 \n",
    "\\end{bmatrix}\n",
    "$$"
   ]
  },
  {
   "cell_type": "code",
   "execution_count": null,
   "id": "0fc95a20-83d2-45fb-97a6-b044b4520c7b",
   "metadata": {},
   "outputs": [],
   "source": [
    "# Insert your code here\n"
   ]
  },
  {
   "cell_type": "markdown",
   "id": "152b9c48-ddeb-4eb8-be66-32a7aab4d5d3",
   "metadata": {},
   "source": [
    "Write a function to compute the dimensions of a matrix represented as a list of lists.\n",
    "\n",
    "The function should return a <i>tuple</i> that contains the number of rows and number of columns.\n",
    "\n",
    "So the above examples should return dim(a) = (2, 3)"
   ]
  },
  {
   "cell_type": "code",
   "execution_count": null,
   "id": "3419e9fa-7bfe-4b7c-8f65-b8a2d73bfac8",
   "metadata": {},
   "outputs": [],
   "source": [
    "def dim(matrix) :\n",
    "    # Insert your code here"
   ]
  },
  {
   "cell_type": "code",
   "execution_count": null,
   "id": "02c7db6d-6e41-4b83-9f57-477372037f08",
   "metadata": {},
   "outputs": [],
   "source": [
    "dim(a)"
   ]
  },
  {
   "cell_type": "markdown",
   "id": "4195b804-6950-448b-8827-933cbe3288cb",
   "metadata": {},
   "source": [
    "Write a function that adds together two matrices.\n",
    "\n",
    "The result for the above two matrices should be:\n",
    "\n",
    "$$\\begin{bmatrix} \n",
    "11 & 13 & 15 \\\\\n",
    "17 & 19 & 21 \n",
    "\\end{bmatrix}\n",
    "$$\n",
    "\n",
    "We already demonstrated this in the lecture examples, but try to rewrite it yourself without referring back to the lecture material.\n",
    "\n",
    "Use the <code>dim</code> function above in your solution.\n",
    "\n",
    "You can also assume that the two matrices provided as input have the same dimensions. You can check that by using the following Python code:\n",
    "\n",
    "<code>assert dim(matrix_a) == dim(matrix_b)</code>"
   ]
  },
  {
   "cell_type": "code",
   "execution_count": null,
   "id": "a236da34-16d8-4853-9853-cf8090a98f97",
   "metadata": {},
   "outputs": [],
   "source": [
    "\n",
    "def matrix_add(matrix_a, matrix_b) :\n",
    "    assert dim(matrix_a) == dim(matrix_b)\n",
    "    # Insert your code here"
   ]
  },
  {
   "cell_type": "code",
   "execution_count": null,
   "id": "b6678755-d4a9-4dce-9ac0-27ab8c14bbea",
   "metadata": {},
   "outputs": [],
   "source": [
    "matrix_add(a, b) # result should be as above"
   ]
  },
  {
   "cell_type": "markdown",
   "id": "898c1c80-1b56-4fa4-a80c-aecd3634733c",
   "metadata": {},
   "source": [
    "### Matrix Multiplication\n",
    "\n",
    "To add two matrices, they need to have the same dimensions.\n",
    "\n",
    "To multiply two matrices, the number of columns of the first matrix must be the same as the number of rows in the second matrix.\n",
    "\n",
    "So, if the first matrix has dimension ($rowsA$, $colsA$), and the second matrix has dimension ($rowsB$, $colsB$), then $colsA$ must equal $rowsB$ and the result will have dimension ($rowsA$, $colsB$).\n",
    "\n",
    "So let's consider a new example that has those properties:\n",
    "\n",
    "$$\n",
    "x = \\begin{bmatrix} \n",
    "1 & 2 & 3 \\\\\n",
    "4 & 5 & 6 \n",
    "\\end{bmatrix},\n",
    "y = \\begin{bmatrix} \n",
    "10 & 11 \\\\\n",
    "12 & 13 \\\\\n",
    "14 & 15 \\\\\n",
    "\\end{bmatrix}\n",
    "$$"
   ]
  },
  {
   "cell_type": "code",
   "execution_count": null,
   "id": "1c5dc5ae-f591-4532-babc-0e7966092ee8",
   "metadata": {},
   "outputs": [],
   "source": [
    "# Represent the new matrices in Python code as lists of lists:\n",
    "\n",
    "# insert your code here\n"
   ]
  },
  {
   "cell_type": "markdown",
   "id": "514be0e3-31d6-4f3f-a609-e9e1c8b4d614",
   "metadata": {},
   "source": [
    "In this case the result of multiply those two matrices will be:\n",
    "$$x y = \\begin{bmatrix} \n",
    "76 & 82 \\\\\n",
    "184 & 199 \\\\\n",
    "\\end{bmatrix}\n",
    "$$\n",
    "\n",
    "Let's look at how this result is computed step by step (our algorithm will follow the same step by step proceedure).\n",
    "\n",
    "Firstly, the value $76$ in the result matrix is computed based on the first row of matrix $x$ and the first column of matrix $y$ (highlighted in blue below):\n",
    "\n",
    "$$x y = \\begin{bmatrix} \n",
    "\\color{blue}{76} & 82 \\\\\n",
    "184 & 199 \\\\\n",
    "\\end{bmatrix}\n",
    "$$\n",
    "\n",
    "$$\n",
    "x = \\begin{bmatrix} \n",
    "\\color{blue} 1 & \\color{blue}2 & \\color{blue}3 \\\\\n",
    "4 & 5 & 6 \n",
    "\\end{bmatrix},\n",
    "y = \\begin{bmatrix} \n",
    "\\color{blue}{10} & 11 \\\\\n",
    "\\color{blue}{12} & 13 \\\\\n",
    "\\color{blue}{14} & 15 \\\\\n",
    "\\end{bmatrix}\n",
    "$$\n",
    "\n",
    "- We multiply the $1$ (which is the <b>first</b> element of the first row in matrix x) by $10$ (which is the <b>first</b> element of the first column in matrix y),\n",
    "we then add to that the result of \n",
    "- multiplying $2$ (which is the <b>second</b> element of the first row in matrix x) by $12$ (which is the <b>second</b> element of the first column in matrix y),\n",
    "finally we add to that the result of\n",
    "- multiplying  $3$ (which is the <b>third</b> element of the first row in matrix x) by $14$ (which is the <b>third</b> element of the first column in matrix y)\n",
    "- to produce a grand total of $1 \\times 10 + 2 \\times 12 + 3 \\times 14 = 76$. "
   ]
  },
  {
   "cell_type": "code",
   "execution_count": null,
   "id": "80f4e88b-2ff2-49fe-9e01-bdf811d99a95",
   "metadata": {},
   "outputs": [],
   "source": [
    "#Let's start by writing Python code to compute just that first element of the result matrix\n",
    "\n",
    "def matrix_multiply_element00(matrix_a, matrix_b) :\n",
    "    # insert your code here"
   ]
  },
  {
   "cell_type": "code",
   "execution_count": null,
   "id": "712bb81b-c685-40fd-b9e7-58a8a23fc3f3",
   "metadata": {},
   "outputs": [],
   "source": [
    "matrix_multiply_element00(x, y) # result should be 76"
   ]
  },
  {
   "cell_type": "markdown",
   "id": "6a4ad6f4-22e3-4acf-9307-b7fe0a38ffb8",
   "metadata": {},
   "source": [
    "Next we move on to computing the result $82$ that appears in the second column of the first row of the result matrix.\n",
    "This is computed based on the first row of matrix $x$ and the <b>second</b> column of matrix $y$ (highlighted in blue below):\n",
    "\n",
    "$$x y = \\begin{bmatrix} \n",
    "{76} & \\color{blue}{82} \\\\\n",
    "184 & 199 \\\\\n",
    "\\end{bmatrix}\n",
    "$$\n",
    "\n",
    "$$\n",
    "x = \\begin{bmatrix} \n",
    "\\color{blue} 1 & \\color{blue}2 & \\color{blue}3 \\\\\n",
    "4 & 5 & 6 \n",
    "\\end{bmatrix},\n",
    "y = \\begin{bmatrix} \n",
    "{10} & \\color{blue}{11} \\\\\n",
    "{12} & \\color{blue}{13} \\\\\n",
    "{14} & \\color{blue}{15} \\\\\n",
    "\\end{bmatrix}\n",
    "$$\n",
    " \n",
    "- We multiply the  1  (which is the first element of the first row in matrix x) by  11  (which is the first element of the second column in matrix y), we then add to that the result of\n",
    "- multiplying  2  (which is the second element of the first row in matrix x) by  13  (which is the second element of the second column in matrix y), finally we add to that the result of\n",
    "- multiplying  3  (which is the third element of the first row in matrix x) by  15  (which is the third element of the second column in matrix y)\n",
    "- to produce a grand total of  1×11+2×13+3×15=82."
   ]
  },
  {
   "cell_type": "code",
   "execution_count": null,
   "id": "f3b47dfc-4398-46b3-8fa4-a192fa5cd30d",
   "metadata": {},
   "outputs": [],
   "source": [
    "# Alter your code to compute just that second element of the first row of the result matrix\n",
    "\n",
    "def matrix_multiply_element01(matrix_a, matrix_b) :\n",
    "    # insert your code here"
   ]
  },
  {
   "cell_type": "code",
   "execution_count": null,
   "id": "cd080486-3ad7-4e54-b350-9fda597e684c",
   "metadata": {},
   "outputs": [],
   "source": [
    "matrix_multiply_element01(x, y) # result should be 82"
   ]
  },
  {
   "cell_type": "code",
   "execution_count": null,
   "id": "f5ad1bb5-7b27-44a9-a261-3c1dd910ccc9",
   "metadata": {},
   "outputs": [],
   "source": [
    "# Now generalize your code to compute just the element at the specified row and column position of the result matrix\n",
    "\n",
    "def matrix_multiply_element(matrix_a, matrix_b, row, col) :\n",
    "    # insert your code here "
   ]
  },
  {
   "cell_type": "code",
   "execution_count": null,
   "id": "45193a53-e587-40c6-a4b5-9dbc96f92b5f",
   "metadata": {},
   "outputs": [],
   "source": [
    "matrix_multiply_element(x, y, 0, 0) # result should be 76"
   ]
  },
  {
   "cell_type": "code",
   "execution_count": null,
   "id": "0a27a412-a992-4ead-82f0-3e73e7f6f282",
   "metadata": {},
   "outputs": [],
   "source": [
    "matrix_multiply_element(x, y, 0, 1) # result should be 82"
   ]
  },
  {
   "cell_type": "code",
   "execution_count": null,
   "id": "cb4f84db-d5ea-4b19-91d5-1384a8ebae3d",
   "metadata": {},
   "outputs": [],
   "source": [
    "matrix_multiply_element(x, y, 1, 0) # result should be 184"
   ]
  },
  {
   "cell_type": "code",
   "execution_count": null,
   "id": "4e636320-942d-463f-bfe0-b61eeb50e47c",
   "metadata": {},
   "outputs": [],
   "source": [
    "matrix_multiply_element(x, y, 1, 1) # result should be 199"
   ]
  },
  {
   "cell_type": "code",
   "execution_count": null,
   "id": "fa1a469e-a48c-42b7-8e8a-c1431fed0fe1",
   "metadata": {},
   "outputs": [],
   "source": [
    "# Now implement matrix multipy by calling your matrix_multiply_element function to compute each element of the result\n",
    "# Hint: it will be very similar to your matrix_add function above\n",
    "\n",
    "def matrix_multiply(matrix_a, matrix_b) :\n",
    "    # insert your code here"
   ]
  },
  {
   "cell_type": "code",
   "execution_count": null,
   "id": "a17a9cca-790b-47a0-9e24-ae79999443d3",
   "metadata": {},
   "outputs": [],
   "source": [
    "matrix_multiply(x,y) # result should be as above"
   ]
  },
  {
   "cell_type": "code",
   "execution_count": null,
   "id": "b6d965ad-3e86-4d9b-bce3-c680460fef0f",
   "metadata": {},
   "outputs": [],
   "source": [
    "# Now create a new version of your function that incorporates the code from matrix_multiply_element directly into your matrix_multiply function \n",
    "# rather than calling the matrix_multiply_element function.\n",
    "# Your new function should now have triply nested for loops. \n",
    "\n",
    "def matrix_multiply_combined(matrix_a, matrix_b) :\n",
    "    # insert your code here"
   ]
  },
  {
   "cell_type": "code",
   "execution_count": null,
   "id": "5e72d759-306f-43d9-af0d-8912ada4469d",
   "metadata": {},
   "outputs": [],
   "source": [
    "# Test that it still produces the same answer\n",
    "matrix_multiply_combined(x,y) "
   ]
  },
  {
   "cell_type": "code",
   "execution_count": null,
   "id": "4a465270-4a28-437c-8ff2-16f1f1f8d864",
   "metadata": {},
   "outputs": [],
   "source": [
    "# Which of these two versions do you prefer? Why?"
   ]
  },
  {
   "cell_type": "markdown",
   "id": "a50c4b81-bc43-4397-a269-67896a8c80fd",
   "metadata": {},
   "source": [
    "# NumPy\n",
    "\n",
    "Next we explore using the NumPy library to represent matrices."
   ]
  },
  {
   "cell_type": "code",
   "execution_count": 3,
   "id": "717f818d-3170-4597-bd57-032c7d904f91",
   "metadata": {},
   "outputs": [
    {
     "name": "stdout",
     "output_type": "stream",
     "text": [
      "[[0. 0. 0. 0. 0. 0. 0. 0. 0. 0.]\n",
      " [0. 0. 0. 0. 0. 0. 0. 0. 0. 0.]\n",
      " [0. 0. 0. 0. 0. 0. 0. 0. 0. 0.]\n",
      " [0. 0. 0. 0. 0. 0. 0. 0. 0. 0.]\n",
      " [0. 0. 0. 0. 0. 0. 0. 0. 0. 0.]\n",
      " [0. 0. 0. 0. 0. 0. 0. 0. 0. 0.]\n",
      " [0. 0. 0. 0. 0. 0. 0. 0. 0. 0.]\n",
      " [0. 0. 0. 0. 0. 0. 0. 0. 0. 0.]\n",
      " [0. 0. 0. 0. 0. 0. 0. 0. 0. 0.]\n",
      " [0. 0. 0. 0. 0. 0. 0. 0. 0. 0.]]\n"
     ]
    }
   ],
   "source": [
    "# When using the NumPy module, we can create a 2-D array of zeros as follows:\n",
    "import numpy\n",
    "\n",
    "list = numpy.zeros((10,10))\n",
    "print(list)"
   ]
  },
  {
   "cell_type": "markdown",
   "id": "073c55d9-1bab-45ef-9bd8-6ac500493096",
   "metadata": {},
   "source": [
    "Represent the following matrices in Python code as NumPy arrays\n",
    "\n",
    "$$\n",
    "c = \\begin{bmatrix} \n",
    "1 & 2 & 3 \\\\\n",
    "4 & 5 & 6 \n",
    "\\end{bmatrix},\n",
    "d = \\begin{bmatrix} \n",
    "10 & 11 & 12 \\\\\n",
    "13 & 14 & 15 \n",
    "\\end{bmatrix}\n",
    "$$"
   ]
  },
  {
   "cell_type": "code",
   "execution_count": 4,
   "id": "063dd7d0-ffb2-43a9-8a3c-22f76cd79aae",
   "metadata": {},
   "outputs": [],
   "source": [
    "import numpy\n",
    "\n",
    "# insert your code here\n"
   ]
  },
  {
   "cell_type": "code",
   "execution_count": null,
   "id": "0d498a6d-f572-4fc0-a901-c85be3a3df97",
   "metadata": {},
   "outputs": [],
   "source": [
    "# How do we compute the equivalent of our dim function for NumPy arrays?\n",
    "\n",
    "# insert your code here\n"
   ]
  },
  {
   "cell_type": "code",
   "execution_count": null,
   "id": "31a36e5f-a278-44b7-bcf9-fca0b4ff8709",
   "metadata": {},
   "outputs": [],
   "source": [
    "# Add together matrix c and d using the NumPy add function\n",
    "\n",
    "# insert your code here\n"
   ]
  },
  {
   "cell_type": "code",
   "execution_count": null,
   "id": "cd9daff2-cf68-4f26-9761-a3ca651e3b8c",
   "metadata": {},
   "outputs": [],
   "source": [
    "# Or, even more simply ...\n",
    "c+d"
   ]
  },
  {
   "cell_type": "markdown",
   "id": "670ab8cf-9c4f-4044-b3fb-87abfa89c16d",
   "metadata": {},
   "source": [
    "### For matrix multiply, let's use this example:\n",
    "\n",
    "$$\n",
    "p = \\begin{bmatrix} \n",
    "1 & 2 & 3 \\\\\n",
    "4 & 5 & 6 \n",
    "\\end{bmatrix},\n",
    "q = \\begin{bmatrix} \n",
    "10 & 11 \\\\\n",
    "12 & 13 \\\\\n",
    "14 & 15 \\\\\n",
    "\\end{bmatrix}\n",
    "$$"
   ]
  },
  {
   "cell_type": "code",
   "execution_count": null,
   "id": "cf18b9ea-0640-446f-8e0d-f1e20a7a4850",
   "metadata": {},
   "outputs": [],
   "source": [
    "# insert your code to create NumPy arrays here\n"
   ]
  },
  {
   "cell_type": "code",
   "execution_count": null,
   "id": "5ffc58f9-2e28-4ecd-8c02-2e7e6db39cc6",
   "metadata": {},
   "outputs": [],
   "source": [
    "# matrix multiplication can similar be done simply using the NumPy dot function\n",
    "\n",
    "# insert your code here\n"
   ]
  },
  {
   "cell_type": "code",
   "execution_count": null,
   "id": "0b614258-5aef-4268-b52a-0a6a7e36683a",
   "metadata": {},
   "outputs": [],
   "source": [
    "# Or we could do it the hard way and compute matrix multiply ourselves element by element as we did above.\n",
    "# Change your matrix_mult function so that it operates on NumPy arrays rather than lists of lists\n",
    "\n",
    "# insert your code here\n",
    "def array_multiply(array_a, array_b) :\n",
    "    # insert your code here"
   ]
  },
  {
   "cell_type": "code",
   "execution_count": null,
   "id": "546f97b3-c50a-47c5-a6ba-857a345c812d",
   "metadata": {},
   "outputs": [],
   "source": [
    "array_multiply(p, q)"
   ]
  },
  {
   "cell_type": "code",
   "execution_count": null,
   "id": "eeb1b510-f96a-4e1b-8fae-e908e68e77ea",
   "metadata": {},
   "outputs": [],
   "source": [
    "# What was the main difference?"
   ]
  }
 ],
 "metadata": {
  "kernelspec": {
   "display_name": "Python 3 (ipykernel)",
   "language": "python",
   "name": "python3"
  },
  "language_info": {
   "codemirror_mode": {
    "name": "ipython",
    "version": 3
   },
   "file_extension": ".py",
   "mimetype": "text/x-python",
   "name": "python",
   "nbconvert_exporter": "python",
   "pygments_lexer": "ipython3",
   "version": "3.9.10"
  }
 },
 "nbformat": 4,
 "nbformat_minor": 5
}
