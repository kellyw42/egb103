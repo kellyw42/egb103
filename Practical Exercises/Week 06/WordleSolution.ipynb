{
 "cells": [
  {
   "cell_type": "markdown",
   "id": "f5cd8b3c-4c61-43ec-85a6-8d38dce79b7f",
   "metadata": {},
   "source": [
    "# Wordle\n",
    "\n",
    "In this exercise we are going to learn about the Python String and Dictionary types. We are also going to learn how large complex programs can be created by using user defined functions, each of which is very simple and conceptually does only one thing. Such functions may be build from other functions. We will also learn how such programs can be constructed in an <i>interative and incremental manner</i> - developing simple functions and testing that they work before proceeding to use them to build other functions.\n",
    "\n",
    "The exercise will be based on a well known Internet based game called 'Wordle' which recently went viral and was subsequently acquired by the New York times: https://www.nytimes.com/games/wordle\n",
    "\n",
    "### Wordle Rules\n",
    "\n",
    "The object of the game is to guess a randomly selected 5 letter word. The system responds to your guesses by indicating for each letter of the word that you guess whether it is:\n",
    "- the correct letter in the correct position, \n",
    "- a letter that exists within the secret word, but not at the correct position, or\n",
    "- the letter is not in the secret word at all.\n",
    "\n",
    "Only valid 5 letter words are allowed to be entered as guesses."
   ]
  },
  {
   "cell_type": "markdown",
   "id": "18f32870-b994-4211-8df8-42c2f344a348",
   "metadata": {
    "tags": []
   },
   "source": [
    "# Read all words"
   ]
  },
  {
   "cell_type": "markdown",
   "id": "e40508f0-2630-4b5c-a1b1-b25575fc426c",
   "metadata": {},
   "source": [
    "We need to start with every possible 5 letter word in the English dictionary.\n",
    "We have provided you with a file <code>words.txt</code> that contains a complete list of such words.\n",
    "You need to load that file and generate a list of words. Each word will be a Python string.\n",
    "\n",
    "- Use the built in Python open function to <code>open</code> the file named \"words.txt\".\n",
    "- Use the <code>read()</code> method of the file to read the content of the file.\n",
    "- Note, it is good practice to always call the <code>close()</code> method of the file once you've finished reading from it.\n",
    "- Examine the contents to see what it contains"
   ]
  },
  {
   "cell_type": "code",
   "execution_count": 1,
   "id": "983b5e61-a2b4-4521-8e7d-354d68b49f84",
   "metadata": {},
   "outputs": [],
   "source": [
    "# Write your code here\n",
    "file = open(\"words.txt\")\n",
    "content = file.read()\n",
    "file.close()"
   ]
  },
  {
   "cell_type": "code",
   "execution_count": 2,
   "id": "acf48207-81da-4acc-b796-1682dc83d71c",
   "metadata": {},
   "outputs": [],
   "source": [
    "# Next we will call the splitlines() method of the content string to convert it to a list of strings, one for each line in the file.\n",
    "# Store the resulting list in a variable so that we can use it later.\n",
    "\n",
    "# Write your code here\n",
    "all_words = content.splitlines()\n",
    "\n",
    "# Examine the list to see what it contains"
   ]
  },
  {
   "cell_type": "markdown",
   "id": "f64c492d-f4f1-470a-a620-b940cb7ccdeb",
   "metadata": {
    "tags": []
   },
   "source": [
    "# Randomly choose secret word"
   ]
  },
  {
   "cell_type": "code",
   "execution_count": 3,
   "id": "ee3cd8ac-939a-4278-b042-1d9a475fbb51",
   "metadata": {},
   "outputs": [],
   "source": [
    "# Next we will write a function that will randomly select a secret word from the list of all words.\n",
    "# Use the random.randrange function to select a random index position to select the secret word from.\n",
    "# Store the secret word in a global variable, so that we can use it later.\n",
    "# You can call this function whenever you want to start a new game.\n",
    "\n",
    "import random\n",
    "\n",
    "def new_game() :\n",
    "    global secret\n",
    "    number_of_words = len(all_words)\n",
    "    random_position = random.randrange(number_of_words)\n",
    "    secret = all_words[random_position]"
   ]
  },
  {
   "cell_type": "code",
   "execution_count": 4,
   "id": "60e4b146-7b10-4426-93b2-165727682f84",
   "metadata": {},
   "outputs": [],
   "source": [
    "# test that it works as expected\n",
    "new_game()"
   ]
  },
  {
   "cell_type": "markdown",
   "id": "0ba53df1-2a12-4ce2-9f21-6b43d97908e0",
   "metadata": {
    "tags": []
   },
   "source": [
    "# Cheat"
   ]
  },
  {
   "cell_type": "code",
   "execution_count": 5,
   "id": "af4ac6c5-bb6c-4685-a335-f91c34e14e08",
   "metadata": {},
   "outputs": [
    {
     "ename": "SyntaxError",
     "evalue": "invalid syntax (153706816.py, line 5)",
     "output_type": "error",
     "traceback": [
      "\u001b[0;36m  Input \u001b[0;32mIn [5]\u001b[0;36m\u001b[0m\n\u001b[0;31m    // insert your code here\u001b[0m\n\u001b[0m    ^\u001b[0m\n\u001b[0;31mSyntaxError\u001b[0m\u001b[0;31m:\u001b[0m invalid syntax\n"
     ]
    }
   ],
   "source": [
    "# Write a function which allows us to cheat (for testing purposes).\n",
    "# It should print: 'The answer is ' ...\n",
    "\n",
    "def cheat() :\n",
    "    // insert your code here\n",
    "    print('The answer is ' + secret)"
   ]
  },
  {
   "cell_type": "code",
   "execution_count": null,
   "id": "87d0d660-ec95-4a52-ade6-fb6b9378dfa0",
   "metadata": {},
   "outputs": [],
   "source": [
    "# test that it works as expected\n",
    "cheat()"
   ]
  },
  {
   "cell_type": "markdown",
   "id": "d8758d3d-a386-4b0e-a901-2a75eb0aacc8",
   "metadata": {
    "tags": []
   },
   "source": [
    "# Is valid word?\n",
    "\n",
    "Only valid words in the English dictionary can be used as guesses."
   ]
  },
  {
   "cell_type": "code",
   "execution_count": null,
   "id": "9789fbba-512d-4886-b88b-badce9af1249",
   "metadata": {},
   "outputs": [],
   "source": [
    "# Write a function that returns True if and only if the guessed word is in the list \n",
    "# It should print an error message: ...' is not a valid word' if it is not in the list\n",
    "\n",
    "def is_valid_word(guess) :\n",
    "    # insert your code here \n",
    "    valid = guess in all_words\n",
    "    if not valid :\n",
    "        print(guess + ' is not a valid word')\n",
    "    return valid"
   ]
  },
  {
   "cell_type": "code",
   "execution_count": null,
   "id": "b3a6012c-b272-4d8d-b995-414a86069464",
   "metadata": {},
   "outputs": [],
   "source": [
    "# Test that it works as expected\n",
    "\n",
    "# try at least one valid word and one invalid word ...\n",
    "is_valid_word('trail')"
   ]
  },
  {
   "cell_type": "code",
   "execution_count": null,
   "id": "a9804713-b69d-4e11-bc48-88ccf99c0409",
   "metadata": {},
   "outputs": [],
   "source": [
    "is_valid_word('wigwo')"
   ]
  },
  {
   "cell_type": "markdown",
   "id": "39928fd9-0d82-439b-8a14-8cbcd6fa315b",
   "metadata": {
    "tags": []
   },
   "source": [
    "# Test Letters\n",
    "\n",
    "Next we move on to the main step of determining which letters match.\n",
    "\n",
    "We start by doing this for just one letter at a particular position"
   ]
  },
  {
   "cell_type": "code",
   "execution_count": null,
   "id": "04312b8c-6f99-4f92-b8e9-bd56a6c48603",
   "metadata": {},
   "outputs": [],
   "source": [
    "# Write a function that take a letter guessed and its position (between 0 and 4)\n",
    "# and returns 'correct' if the letter matches the secret word at the specified position,\n",
    "# returns 'present' if the letter is present in the secret word, but not at the specified position,\n",
    "# otherwise returns 'wrong'\n",
    "\n",
    "def check_letter(letter_guess, position) :\n",
    "    if letter_guess == secret[position] :\n",
    "        return 'correct'\n",
    "    elif letter_guess in secret :\n",
    "        return 'present'\n",
    "    else :\n",
    "        return 'wrong'"
   ]
  },
  {
   "cell_type": "code",
   "execution_count": null,
   "id": "52adefc6-09e7-447d-90cf-8830ed8dd63b",
   "metadata": {},
   "outputs": [],
   "source": [
    "# Test that it works as expected.\n",
    "\n",
    "# Include at least one test for each of the above cases\n",
    "\n",
    "# You will need to use the Cheat function to know what the secret current is,\n",
    "# alternatively you could just hard code the secret word for testing purposes:\n",
    "\n",
    "secret = 'track'\n",
    "\n",
    "check_letter('t', 0)"
   ]
  },
  {
   "cell_type": "code",
   "execution_count": null,
   "id": "6e0fcb08-67c0-4701-aa95-01e2e7d63bd1",
   "metadata": {},
   "outputs": [],
   "source": [
    "check_letter('t', 4)"
   ]
  },
  {
   "cell_type": "code",
   "execution_count": null,
   "id": "7c24cdb7-de38-4f77-bebf-776c86b51a41",
   "metadata": {},
   "outputs": [],
   "source": [
    "check_letter('z', 0)"
   ]
  },
  {
   "cell_type": "markdown",
   "id": "d60931e2-28cb-447c-b888-9afc701ced49",
   "metadata": {},
   "source": [
    "# Guess prototype\n",
    "\n",
    "Next we will create a simple prototype of the main part of the game were the user is allowed to make a guess and receive feedback"
   ]
  },
  {
   "cell_type": "code",
   "execution_count": null,
   "id": "6f071d67-ab72-4834-9abe-77c6d0614436",
   "metadata": {},
   "outputs": [],
   "source": [
    "# Write a function that takes a guessed word as a parameter and \n",
    "# if it is a valid word, prints each of the letters in the word, \n",
    "# together with an indication of whether the guessed letter is correct, present or wrong."
   ]
  },
  {
   "cell_type": "markdown",
   "id": "4d542ef3-f305-4273-96a0-04d5049e08f9",
   "metadata": {},
   "source": [
    "For example if the guessed word is 'trail' then the output might be:\n",
    "<pre>\n",
    "t correct\n",
    "r correct\n",
    "a correct\n",
    "i wrong\n",
    "l wrong\n",
    "</pre>"
   ]
  },
  {
   "cell_type": "code",
   "execution_count": null,
   "id": "ab977754-8db0-48df-9ad8-bf61401efd6f",
   "metadata": {},
   "outputs": [],
   "source": [
    "# Write the function here\n",
    "def guess(word) :\n",
    "    if is_valid_word(word) :          \n",
    "        for i in range(len(word)) :\n",
    "            print(word[i], check_letter(word[i], i))"
   ]
  },
  {
   "cell_type": "code",
   "execution_count": null,
   "id": "4421e199-60ba-4316-9100-804a7ce7ab35",
   "metadata": {},
   "outputs": [],
   "source": [
    "# Try playing the game by making a sequence of calls to the guess function until you guess all letters correctly.\n"
   ]
  },
  {
   "cell_type": "code",
   "execution_count": null,
   "id": "a372aaa1-22f3-486d-8510-a35a3357283a",
   "metadata": {},
   "outputs": [],
   "source": [
    "guess('trail')"
   ]
  },
  {
   "cell_type": "markdown",
   "id": "04a1487b-e2e4-4fba-bfad-f811e3bf55ed",
   "metadata": {
    "tags": []
   },
   "source": [
    "# Display HTML\n",
    "\n",
    "For those wishing to continue with this exercise, we will now convert the output into a more user friendly HTML output format where each correct, present or wrong letter is indicated via a color code: <span style='background-color:#6aaa64; color: white'>green</span> for correct, <span style='background-color:#c9b458; color: white'>yellow</span> for present and <span style='background-color:#787c7e; color: white'>grey</span> for wrong"
   ]
  },
  {
   "cell_type": "code",
   "execution_count": null,
   "id": "597204f0-d0ca-49af-8e8b-0d50335f1549",
   "metadata": {},
   "outputs": [],
   "source": [
    "# To display HTML strings within Jupyter we will use the IPython.core.display.HTML function\n",
    "import IPython\n",
    "\n",
    "def display(html) :\n",
    "    return IPython.core.display.HTML(html) "
   ]
  },
  {
   "cell_type": "code",
   "execution_count": null,
   "id": "ec0d4d62-e55d-4fc1-8b6b-26edc2aeadd3",
   "metadata": {},
   "outputs": [],
   "source": [
    "# Test that it works as expected, e.g.:\n",
    "display('<b>Hello</b>')"
   ]
  },
  {
   "cell_type": "markdown",
   "id": "e4a1e965-dfd3-4e41-8401-0c769ad22a34",
   "metadata": {
    "tags": []
   },
   "source": [
    "# Generate HTML\n",
    "\n",
    "Next we want to generate HTML for just one letter of the guessed word."
   ]
  },
  {
   "cell_type": "code",
   "execution_count": null,
   "id": "01b1b820-1339-4801-a57d-55621a6287ae",
   "metadata": {},
   "outputs": [],
   "source": [
    "# Write a function that returns the following HTML string:\n",
    "# <div style='background-color:red;width: 20px; height: 20px; color:white; margin: 1px; line-height: 20px; display:inline-block; text-align:center'>T</div>\n",
    "# Note that the string contains single quotes '', so you'll need to use double quotes \"\" to create the string to return\n",
    "\n",
    "def generate_div() :\n",
    "    return # insert your code here\n",
    "    "
   ]
  },
  {
   "cell_type": "code",
   "execution_count": null,
   "id": "fafb71d7-498e-4726-9065-73ad1736a9ec",
   "metadata": {},
   "outputs": [],
   "source": [
    "# Test that it works as expected.\n",
    "# The function itself should return a HTML formatted string, \n",
    "# but you can then pass that string to your display function to display it in a graphical manner.\n"
   ]
  },
  {
   "cell_type": "code",
   "execution_count": null,
   "id": "610caafd-6b1b-428d-a31c-51da42de04b6",
   "metadata": {},
   "outputs": [],
   "source": [
    "# Next we will alter the generate_div function, so that it now takes two parameters, a color and a letter.\n",
    "# The colour should replace \"red\" in the hard coded string above and the letter should replace the \"T\" between the tags.\n",
    "# Use a Python f-String to insert the new values into the formated string.\n",
    "# Make sure the letter is displayed in upper case.\n",
    "\n",
    "def generate_div(letter, colour) :\n",
    "    return f\"<div style='background-color:{colour};width: 20px; height: 20px; color:white; margin: 1px; line-height: 20px; display:inline-block; text-align:center'>{letter.upper()}</div>\""
   ]
  },
  {
   "cell_type": "code",
   "execution_count": null,
   "id": "2b5bcfab-578d-4baa-80c9-3e2074c98d4d",
   "metadata": {},
   "outputs": [],
   "source": [
    "# Use the display function to help test that it works as expected\n",
    "\n",
    "display(generate_div('B', 'green'))"
   ]
  },
  {
   "cell_type": "markdown",
   "id": "345af9fa-1f12-4895-8a90-509c484aedd7",
   "metadata": {
    "tags": []
   },
   "source": [
    "# Guess One Letter"
   ]
  },
  {
   "cell_type": "code",
   "execution_count": null,
   "id": "dfc748c0-2570-4c39-a2a8-31add5cfadf4",
   "metadata": {},
   "outputs": [],
   "source": [
    "# We may wish to change the actual colours used later, so we store them in a dictionary that we can lookup.\n",
    "# Create a dictionary containing three values so that:\n",
    "\n",
    "# colourChoices['correct']  will return '#6aaa64'\n",
    "# colourChoices['present']  will return '#c9b458'\n",
    "# colourChoices['wrong']    will return '#787c7e'\n",
    "\n",
    "# Create your dictionary here ...\n",
    "colourChoices = { 'correct' : '#6aaa64', 'present' : '#c9b458', 'wrong': '#787c7e'}"
   ]
  },
  {
   "cell_type": "code",
   "execution_count": null,
   "id": "201b9aa0-718e-4f48-a0aa-23b56e0c1fc1",
   "metadata": {},
   "outputs": [],
   "source": [
    "# Write a function that will take a guessed letter and position as parameters and \n",
    "# returns the colour coded HTML response string for just that one letter\n",
    "\n",
    "def generate_letter(letter, i) :\n",
    "    letter_result = check_letter(letter, i)\n",
    "    colour = colourChoices[letter_result]\n",
    "    return generate_div(letter, colour)"
   ]
  },
  {
   "cell_type": "code",
   "execution_count": null,
   "id": "0b275ff4-595a-4856-954d-b2528a23e68d",
   "metadata": {},
   "outputs": [],
   "source": [
    "# Use your display function to test that it behaves as expected.\n",
    "# E.g. \n",
    "secret = 'taisq'\n",
    "display(generate_letter('t', 1)) \n",
    "# Should return a T with a mustard coloured background"
   ]
  },
  {
   "cell_type": "markdown",
   "id": "1a21c789-89f5-4125-a964-f143c42439ad",
   "metadata": {
    "tags": []
   },
   "source": [
    "# Allow Guesses"
   ]
  },
  {
   "cell_type": "code",
   "execution_count": null,
   "id": "9fac9503-e307-4fee-a738-62dae057d169",
   "metadata": {},
   "outputs": [],
   "source": [
    "# Update your guess function to display the responses in HTML format ...\n",
    "\n",
    "def guess(word) :\n",
    "    # insert your code here\n",
    "    if is_valid_word(word) :          \n",
    "        html = ''\n",
    "        for i in range(len(word)) :\n",
    "            html += generate_letter(word[i], i)\n",
    "        return display(html)"
   ]
  },
  {
   "cell_type": "code",
   "execution_count": null,
   "id": "c1e0df14-4f9f-40cf-920d-103d0efbb11f",
   "metadata": {},
   "outputs": [],
   "source": [
    "cheat()"
   ]
  },
  {
   "cell_type": "code",
   "execution_count": null,
   "id": "4e032f93-d4b6-4846-ad0f-759176a5d8c2",
   "metadata": {
    "scrolled": true,
    "tags": []
   },
   "outputs": [],
   "source": [
    "# Test that it works as expected:\n",
    "guess('trail')"
   ]
  },
  {
   "cell_type": "markdown",
   "id": "fd77d738-0776-4e66-9b37-e133e99e324e",
   "metadata": {},
   "source": [
    "The output should look something like this:\n",
    "\n",
    "<div style='background-color:#6aaa64;width: 20px; height: 20px; color:white; margin: 1px; line-height: 20px; display:inline-block; text-align:center'>T</div>\n",
    "<div style='background-color:#787c7e;width: 20px; height: 20px; color:white; margin: 1px; line-height: 20px; display:inline-block; text-align:center'>R</div>\n",
    "<div style='background-color:#c9b458;width: 20px; height: 20px; color:white; margin: 1px; line-height: 20px; display:inline-block; text-align:center'>A</div>\n",
    "<div style='background-color:#c9b458;width: 20px; height: 20px; color:white; margin: 1px; line-height: 20px; display:inline-block; text-align:center'>I</div>\n",
    "<div style='background-color:#787c7e;width: 20px; height: 20px; color:white; margin: 1px; line-height: 20px; display:inline-block; text-align:center'>L</div>\n",
    "\n",
    "Your answer will of course depend on the secret word currently selected"
   ]
  },
  {
   "cell_type": "code",
   "execution_count": null,
   "id": "58e41ac2-1254-4c4c-9876-1d54d1eb8851",
   "metadata": {},
   "outputs": [],
   "source": [
    "# Try playing the game by making a sequence of calls to the guess function until you guess all letters correctly."
   ]
  }
 ],
 "metadata": {
  "kernelspec": {
   "display_name": "Python 3 (ipykernel)",
   "language": "python",
   "name": "python3"
  },
  "language_info": {
   "codemirror_mode": {
    "name": "ipython",
    "version": 3
   },
   "file_extension": ".py",
   "mimetype": "text/x-python",
   "name": "python",
   "nbconvert_exporter": "python",
   "pygments_lexer": "ipython3",
   "version": "3.9.10"
  }
 },
 "nbformat": 4,
 "nbformat_minor": 5
}
