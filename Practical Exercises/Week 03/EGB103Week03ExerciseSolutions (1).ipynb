{
 "cells": [
  {
   "cell_type": "markdown",
   "id": "42c8c84d",
   "metadata": {},
   "source": [
    "# Topic: Selection\n",
    "Making decisions, conditional branching, Boolean, Numeric values\n",
    "\n",
    "## Python Concepts: \n",
    "* Boolean expressions\n",
    "* Boolean operators\n",
    "* Boolean literals\n",
    "* Conditional statements\n",
    "* Numeric representations\n",
    "\n",
    "### Keywords\n",
    "* <code>if</code>\n",
    "* <code>elif</code>\n",
    "* <code>else</code>\n",
    "* <code>and</code>\n",
    "* <code>or</code>\n",
    "* <code>not</code>\n",
    "* <code>True</code>\n",
    "* <code>False</code>\n",
    "\n",
    "### Data Types\n",
    "* <code>bool</code>\n",
    "\n",
    "---"
   ]
  },
  {
   "cell_type": "markdown",
   "id": "ac83bacb-64b0-4bbd-ac66-5c3c8e60cfb2",
   "metadata": {},
   "source": [
    "<a name=\"numeric_values\"></a>\n",
    "<b>Q: Numeric Types</b>"
   ]
  },
  {
   "cell_type": "code",
   "execution_count": null,
   "id": "32741fb8-3d8d-4f78-aefd-2e8237f408b4",
   "metadata": {},
   "outputs": [],
   "source": [
    "# The following are expressions of different types. \n",
    "# Look at each expression and without executing the code, decide what Python type it will evaluate to.\n",
    "# Once you have made a decision on each expression, check your answer.\n",
    "\n",
    "type(24 / 8)\n",
    "# what type will it be?"
   ]
  },
  {
   "cell_type": "code",
   "execution_count": null,
   "id": "b44a87a7-0e55-414f-9a67-7fc3f52fd92b",
   "metadata": {},
   "outputs": [],
   "source": [
    "type(2 * 8)\n",
    "# what type will it be?"
   ]
  },
  {
   "cell_type": "code",
   "execution_count": null,
   "id": "2f5496ef-84b4-48fd-8aff-0ea8fddd1892",
   "metadata": {},
   "outputs": [],
   "source": [
    "type(3+0j)\n",
    "# what type will it be?"
   ]
  },
  {
   "cell_type": "code",
   "execution_count": null,
   "id": "54e9deca-542e-477b-b0d0-d8b7b2f9944f",
   "metadata": {},
   "outputs": [],
   "source": [
    "type(3 * (4 + 5.0))\n",
    "# what type will it be?"
   ]
  },
  {
   "cell_type": "code",
   "execution_count": null,
   "id": "80ddb580-8740-44cc-ae25-ad205e5bb37a",
   "metadata": {},
   "outputs": [],
   "source": [
    "# Finally, consider this expression where logically\n",
    "# the left hand side of the comparison operator\n",
    "# has the same value as the right hand side.\n",
    "# Explain why then the expression evaluates to False.\n",
    "# \n",
    "(0.1 * 6) / 0.1 == 6\n",
    "\n",
    "# WRITE YOUR EXPLANATION HERE - as a comment\n",
    "# The value 0.1 cannot be represented precisely as a binary number using a finite number of bits. \n",
    "# The value actually used is 0.100000001490116119384765625 so when we multiply it by 6 we get 0.6000000000000001 \n",
    "# and then dividing by 0.1 gives 6.000000000000001 which is not the same as 6.0 "
   ]
  },
  {
   "cell_type": "markdown",
   "id": "e86995c7-7943-4ded-a074-16eaacf9a11c",
   "metadata": {},
   "source": [
    "<a name=\"traffic\"></a>\n",
    "# Context: Traffic\n",
    "    "
   ]
  },
  {
   "cell_type": "markdown",
   "id": "540e6ac2-3b60-4cf8-bd2d-39b0e89cc925",
   "metadata": {},
   "source": [
    "Traffic flow (q), speed (v) and density (k) are three fundamental variables used to define the dynamics of the traffic flow on the road. \n",
    "\n",
    "Below is the fundamental relationship between the variables:\n",
    "$$q =k.v$$\n",
    "\n",
    "A simple mathematical model relating two variables, flow (q) and density (k) is:\n",
    "\n",
    "<img src=\"data:image/png;base64,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\">\n",
    "\n",
    "Where:\n",
    "* $q_{max}$ = capacity\n",
    "* $k_c$ = cricitcal density\n",
    "* $k_j$ = jam density"
   ]
  },
  {
   "cell_type": "markdown",
   "id": "44f75549-abad-4798-aacb-dd8dad0e00ad",
   "metadata": {},
   "source": [
    "<a name=\"estimate_flow\"></a>\n",
    "<b>Traffic - Q: Estimate Flow</b>"
   ]
  },
  {
   "cell_type": "code",
   "execution_count": null,
   "id": "12723076-d437-4d0e-a007-81e54e6f6873",
   "metadata": {
    "tags": []
   },
   "outputs": [],
   "source": [
    "# Write a function to estimate flow, given the density, critical density, jam density and capacity.\n",
    "\n",
    "def estimate_flow(k, k_c, k_j, q_max) :\n",
    "    if k <= k_c :\n",
    "        return (q_max / k_c) * k\n",
    "    elif k <= k_j :\n",
    "        return (q_max / (k_j - k_c)) * (k_j - k)\n",
    "    else :\n",
    "        return 0\n",
    "    \n",
    "# What do you think the flow would be if the density is greater than the jam density?    "
   ]
  },
  {
   "cell_type": "code",
   "execution_count": null,
   "id": "45c1e1c9-aa35-442d-9a9d-ef59b2a130e8",
   "metadata": {},
   "outputs": [],
   "source": [
    "# Create a test case to estimate the flow on the road where:\n",
    "# density is 100 veh/km/lane\n",
    "# critical density is 80 veh/km/lane and\n",
    "# jam density is 180 veh/km/lane\n",
    "# capacity is 2000 veh/hr/lane\n",
    "\n",
    "# insert function call here\n",
    "estimate_flow(100, 80, 180, 2000)\n",
    "# Result should be 1600.0 veh/hr/lane"
   ]
  },
  {
   "cell_type": "code",
   "execution_count": null,
   "id": "e5083000-65be-47cc-945b-1305dd11f467",
   "metadata": {},
   "outputs": [],
   "source": [
    "# Create a second test case to estimate \n",
    "# the flow on the road in the same conditions except where:\n",
    "# density is 20 veh/km/lane\n",
    "\n",
    "# insert function call here\n",
    "estimate_flow(20, 80, 180, 2000)\n",
    "# Result should be 500.0 veh/hr/lane"
   ]
  },
  {
   "cell_type": "markdown",
   "id": "e0535d1c-4583-4252-80cc-122c9bf8ba88",
   "metadata": {},
   "source": [
    "<a name=\"speed_estimator\"></a>\n",
    "<b>Traffic - Q: Speed Estimator</b>\n",
    "\n",
    "The relationship between flow (q) and speed (v) is expressed as:\n",
    "\n",
    "<img src=\"data:image/png;base64,iVBORw0KGgoAAAANSUhEUgAABAAAAACECAYAAAAOc1leAAAAAXNSR0IArs4c6QAAAARnQU1BAACxjwv8YQUAAAAJcEhZcwAADsIAAA7CARUoSoAAADtCSURBVHhe7Z39yxVV9/+P39/TNH+qiMiEpKQwK6kUDMyekKL6XJUSQlGZN0Fkapbc3KSl2QPIbVkYRGiWKYVomUFCVpQ9YGQYqBHe1U9mpX+A3/Pazrrajnsez9OcM+8XzLXPNWdmzszea+/Za+211x5xoklDCCGEEEIIIYQQA83/i1IhhBBCCCGEEEIMMDIACCGEEEIIIYQQNUAGACGEEEIIIYQQogbIACCEEEIIIYQQQtQAGQCEEEIIIYQQQogaIAOAEEIIIYQQQghRA2QAEEIIIYQQQgghaoAMAEIIIYQQQgghRA2QAUAIIYQQQgghhKgBMgAIIYQQQgghhBA1QAYAIYQQQgghhBCiBsgAIIQQQgghhBBC1AAZAIQQQgghhBBCiBogA4AQQgghhBBCCFEDZAAQQgghhBBCCCFqgAwAQgghhBBCCCFEDZABQAghhBBCCCGEqAEyAAghhBBCCCGEEDVABgAhhBBCCCGEEKIGyAAghBBCCCGEEELUABkAhBBCCCGEEEKIGiADgBBCCCGEEEIIUQNkABBCCCGEEEIIIWqADABCCCGEEEIIIUQNkAFACCGEEEKILvLZZ5817rrrrsaYMWMaI0aMcNurr74afStEtUBer7jiiug/0e/IACCEEEIIIUSXePvttxtTp05tTJo0qXH06NHG7t273f6LL77YpXXijz/+cPmBMeTCCy8cNoagbD733HPu+zxwDc5HUc2Caz788MPDxhdS/v/555+jI8J8//337j7tHvm9IvfYK/LmjT1XaENezzrrrOhI0e/IACCEEEIIIUQLoGShKN1www3RnjAokXfffXdj5syZjYULF7p91157bePEiRMurRtjx451+QE7d+50+bB37173/6JFizLz84MPPnDKLdc4dOhQtDcZlHWuSXlt3brV/d769esbr7zySmPy5MmJRgDKbfr06e432DhvaGgo1z32iqJ5I+qDDAABqPxPPvmkqzRCCCGEEEKk8f7777v0tttuc2kS5uY/d+5clw4KNpKPMpxnFN5n3LhxjTVr1jQuuOAC9/+ll17aeOedd9znb775xl03Dr/Bbz3yyCNOcc/L0qVL3TVR/s3gctNNNzVWrlzZ+PPPP50nQIjbb7/dpTt27Bi+z+XLlztDDtfDE6AqlM0b4HkwboQ2nl0MBjIAxKBhprJgKcMSKYQQQgghRBooqShJDz74YLTndFCSGWmGCRMmuLTfQdlEaR4/frwbaf7oo4+ib/LDSHrcvRwlG8MAHD582KU+y5Ytc0aUgwcPBg0EIRjgI/9Hjx59mrcFii9w/3EvAK6PXnD99defdp9m8HnttddcWgXK5I2oFzIAeNCAPfTQQ42XX37ZVRiz8AkhhBBCCFEWlH9GnwEFlFHufgUFmRFvPGWZG45SzTz6JUuWOPf9IlMZMJowkp7GqFGjok//wGg08/GL8PHHH7v0yiuvdKkP5UG5gB1nmHcHMRviTJkyxaUYCJgmUAXK5I2oFzIARDDyTwOGC1C7Kw3WUQsaQmPpWxb9gCLx74QQQgghRHWxIGlsSf1HlGXmutvoP67mdk7ZyOr0H/1AdvQh+R36s52Ywuq7+DMyz9x3AhjOmzevsX37djfajCLfLsMG/WGbtz5jxgyXtsquXbtcet1117k0jhkG4h4H5hF89dVXu9THf97ffvst+iR8kM8yUySQAZNxNmIaGMhj0nciGxkAmiBgjPzj+m8BWdoFAv/WW2+5uU02tcAsiwjr/fff33jmmWdc48l3mzdvdt8JIYQQQohqc+TIkeF51qERYqBvyUg3yjKsXbt2eF71119/7fYVAUX8sssuc+daILstW7Y0VqxY4fqzNpLdDuIu/nv27BlW+jEA4DXLHPp2gnLHtADYuHFj2zxy//rrr+hTOt9++2306SQYbPKwb9++6JPwsakcRUBHQu4WLFjg5I0yePPNN9136G1XXXVV45577mkcOHDAfbd69Wr3nciHDABNEDB46aWXXNpO7rjjDtc4MmfI5g3ZMi8IL0FOaNhGjhzp9p133nkuFUIIIYQQ1cbv34VGiH1M2W9luT9bRQClCldvc7dnJNpGsJmr3ipxF3+8Gzqp9APPxu9ibCBPmU7QTq9cjBdpnHnmmdGnf8jj1t9Og0uvwZODPDfPElL+z5MPBkYjPFvsHOTokksucYYdyjfPqgnoSBs2bHA6kk0BMQMb+zB4IftW9zRtuxi1NwAgnAT8oCEtMmcpL75AWsNz9tlnuxShte9//PFHl4bmJQkhhBBCiGpige/S+pEoP0SLh1b6m3iOAoHeTPmJc80110SfyoOLP56pBMcj7ZTSb6AU4tXA7zKiizK+f//+6Nv2kDWSH/LgOH78ePQpmUHpu+N1gTfLE0884Qw9eLc8++yzbrCSssnrZo98M6hKWbKqGrLP6D2GnU8++cTJUhbItsn3d99951J/kNSmXpiRYdq0aS4V+ai9AcCWY3n88cdd2ikQfmt4QlaqdevWuUZWFiwhhBBCiP7AFBCbBpCEKbMWbb4MKGAYERi0Co2MM3oLF110kUtbgYB+/I4NkuEt28l51ngzMJUBpRO3f+bd4+lgXrrd4O+//44+FYM+fl4wdFj8h6IbI+udhKklbKZco4CzqgVTVmDOnDm5nxUjgC0biMxiRGC6CvuK6joWC+Lcc891qc+mTZucB0a74kTUhdobABB0sCienSKt4adCUzmeeuqpaM+pmBuWNQBJDTCVkobS3HbYijRKQgghhBAiP19++aVLs4L5ffHFFy69/PLLXVqGbdu2udTmx/vQ30NRQllvx2ASAf0wKOD2zxxspgHcfPPNro/ZSWMASifGDQvYx+/aYF2rZBlpbO6/PxUgz3KN5tkRWq1gEGA6MzCQ+dVXX7nPWaBfobsgk+Q7BiW8VtBpiuomSZ4zXAf5WLx4cdAbBhmlXppOhDdCEnl1rUGh1gYAFG+EuRvLsfz6668ujc8vQnhZq5PGNeQSRiNLUBfmumAV5V7POeec6Nt/4DpYFZlfRkCM3bt3u2NDFUIIIYQQQrSOKapZLsi4PsPEiRNdWgaLIRBy8bcA01lKblFw+8dl20bmcXfvhjGAfrkZOt577z2Xtor1ibNG+v2pAH4/+tixY9GnMHliO5inQ5mtlakjreDnQZ5Ah8jDCy+80HjjjTecIYDzkXvm9MPs2bNdmgdbHS0UZ2H+/PlOBkMB3PldZPSxxx5zeccAbFKctby61iBRawOAWWO7MXfHlhSJzy9CeJln8/TTT0d7/gEDBY0s829oCKlAHBsyVrz++uvOQsZUAo6jkeBYIYQQQgjRGWyJuKyRYosDlWdEOQkbCbXA0T4oWzB9+nSXthv6lozMo8Ayqsuy2ShfZgxg9JQR1iLB4rJIWlWhLOZ9EY/yb9gUCgLW+ZhRJaT8moIKrZTtIIHRCGOVGSzIV/QgZAhl3aYG5OH33393aVxXwyuEaQUm9z4MiqLUY0CyqTL8JtMZ4hTRtQaJWhsAzBqbtB5oOwlZGxFOhBfrMQLnw2j+rFmz3GeWdMEdhePj0NByLIE2gCAdHGtTG4QQQgghRPtB+bP4TmkKA321TnqcosRYIMJOT2kFphigyKHY4XGKFytKE8ta0w/lftqB9Z1D0fnLYJ4Tllc+KI0YNigjItD72KoKpjf4/PTTTy5lhDnel+8n0CUw6IQgb4yslS5C2Bz+MoS8LtBx0I2ITRD3isAIRflR39Cx0IkwToXIq2sNIrU2AJg1thtzdnxrIw0jc1KwOOFOFXoZYKmyBsdcf0JRMzmXY2mwaHzs2FBwGCGEEEII0R5sdDIrsJ/FgWrV4zTk3m9TSZn7D90euUQBo3/K9FP6tFl54UN/GKWL+dchUODg3nvvdWmrMDJt+RQfKMOTFkLzye+77z6XYjjwR/zB1p9PiuPVT6A0hwYQN2/e7FLkr8w0BPSSkJt+HnyvC/Ie/YbgkBidQiP6xK6wwO4Yp/ht8+yIk1fXGkiaD1tbeHy2poBEezrHkiVLhn+PramwZ/5us5E60axs0X/JHDp0yF2T3xBCCCGEEJ2Hfhz9L+urrV279sTQ0JD77NNUVtxxK1eujPaUg/O5jv0Gv99UuE/s3bvX7edzP2H5x0beHTlyxO3neXhG9pN3aXCO5Qsb59l1QnBt+uB+P5yU/ynHpHM3btzors8x9LuBe85zj72iSN4gOxxDPmzfvt3t41ie2/KLvOs23Ivdv23kexpW39LkwMiraw0atTUA+I2ONQCdxH4PQaMyZgkl33N8nkbFKgeVVAghhBBCdAdTVOnf0WcL9e9QMDjGFKtWMOUGhcx+z/qYrRoYug33bkYT8o9nsGdjX1r/3Fdsk7Ykg4hvYGDL2zen/Kws2fhcxb53mbyxsmA/+W/H8Yx58qZT8LtmgEDezfiSBvdMmWbBtXnGPLrWoDGCP82Hrx24HU2dOtV9bjYwpVxaOondX7MyBl1cfHCdIgZAs0HruuuXEEIIIYQIg4v+2LFj3eemwtGReeLMe2b+fVNBdW7u7QDX/LJUsV8t6gOyOzQ0lBkPrYiuNWjUOgZAlbEVCvIsKWJBSaT8CyGEEEJUB1s3fWYHg8TZSgTx4HVC1A2UesizgkQRXWvQqK0BwAq9qphSn8eCSlASXixCCCGEEKI6bNu2zaUE6usEBEZjecBx48a11cCAg3DZTaP/oleYfpdntYIiutagIQ+AisIKBZMD0V7j2HqrtrapEEIIIYToPR988IFb8WnevHkdW53JVrRKWupMiDrx3XffuXTChAkuTSOvrjWIyABQQWxdWZYKzMKWlpk4caJLhRBCCCFE72DeP/OQ58yZ01i5cmVHlxb79NNPXYo3qJaAFnUnrzdMEV1rEJEBoIKYNXfatGkuTcMa/lbXlhVCCCGEEK2D8oEr/NGjR0uvf54XjAvmep8V9EyIQQal/tChQ8Nr+6dRRNcaRGprALjkkkuiT43GsWPHok/VoIhST+AXLF0XXHBBtEcIIYQQQggh6oMGUPNTWwPAyJEjo0+Nxr59+6JPvYc5/cwXW7JkSaZS/+qrrzpL1+rVq6M9QgghhBBCCFEfmHbz1FNPuTn9WVNhiuhag4qmAFSIG264oTF9+nQnkMuXL4/2hmFu2apVqxobN25s25qvQgghhBBCCNEvPPfcc42xY8c65X/Hjh3R3jBFdK1BZsQJJg3VEOaJ4DoPQ0NDmjclhBBCCCGEEGKgqa0HgO/y8ddff0WfhBBCCCGEEEKIwaTWUwDMA+DgwYMuFUIIIYQQQgghBpVaGwAuvPBClxJITwghhBBCCCGEGGRqbQDwpwEQPVIIIYQQQgghhBhUam0AOP/886NPjcb+/fujT0IIIYQQQgghxOBRawPAJZdcEn0SQgghhBBCCCEGm1obAEaOHBl9ajS++OKL6JNI4rPPPmuMGDEiuAkhhDgV1iYOtZesQyyEEEII0QtqbQA4++yzo0+iKLt3726cOHFieBNCCHEqCxcuPKWdXLlyZfSNEEIIIURvUBBAIYQQteT7779vPPzww25FGBudv+uuu9z+vPz888+NJ5980l1jzJgx0V4hhBBCiGpSawOAEEKI+nLZZZc13n777caWLVvcCD2eTe+8807j9ttvj45IBxf/yZMnN0aNGtXYuXNn4+jRo9E3QgghhBDVRAYAIYQQtWX9+vWNSy+91H2+9tprGzNnzmwcOnTI/Z8Go/4rVqxo7Nq1y7n6y6NMCCGEEP2ADABCCCFqCaP+N910U/RffgiI+swzzzQWL148bDwQQgghhOgHZACI0JKAQghRb1DsP/roo8aSJUuiPWHeeustl+It8Oqrr7q4AWxMJxBCCCGEqDIyAEScc8450SchRJX5448/XOC2Dz74INojRMMtrVckeF8czp01a5ab0798+fJobxhT9J999lmX3nvvvS69++673dQAIYQQQogqQvyiWhsAiN4Mo0ePlhunEH3C7NmzG19//XXjqquuivYI0WhcfvnljenTp5cyAnAO544bN66xY8eOaG8yf/75pzMUYAh48MEH3TQCPrOPqQFCCCGEEFUDT8dFixbV2wDw008/uRTXTSFE9WHkf8+ePS5S+1lnnRXtFaLhRu2vv/56p8jjJZKXuPKfV65Cx9k+XrBCCCGEEFXiww8/dGkpAwAjHVdccYVbMxm3Sx/ccpO+qxrbtm1zKSM4ov2Yq7ZcYkU7oG155ZVXXNR2RVwXIdasWePS+fPnuzQL2iiW/Cuq/DPST6yAJFhNQAghhBCiSjBYQgDkwgYAlPq///572E2STpC5XKLooVTzHUGU+C7vSAgGg7JbGXD/x5Axb948uf93AGQCF+1p06ZlzqcVIgsUtTlz5riga2Witvca2puqG0QHART4l19+2XmI2Dz9NDAUsHZ/XPmnrPx3F+8Zv/z+85//uBQDp3kbEAwwTwBBIYQQQoheUtgAQOeKEXO/s2QK9P/93/+57/lu1KhRbt/ZZ5/t0qphnbSnn37apaJ90CHGpXb16tWnTa9gFJd9Y8aMcZ1qUr8TbWBAwKBk3iRsfK5T4DcUEJQOgnWEIM/47sILLzwlj0KKDwoo+W7H8dkMd3FQZOyapEm/301efPFFN+/6qaeeiva0D/K4iHJO/pIvScZNrmX5bBsjzKI7INvkd6hd8UH+MRQgV2PHjj2lvNJG9wEj1Pbt210sCjt33bp1jY0bN8rgKYQQQohqc6Ike/fuPcHpzY5WtOdUhoaGEr/rJdz3zJkzT4wePdp9FvnZvXu3K3M2Picxb948l8dx7PzJkyefOHLkiNu3cuVKt49zfDjf/51Dhw45eWIfnwcZno/84FnZyKMQ8TwiT6l37GsqIm4fsJ+84zs+c33KgDpg5WCsXbv2lGva/0n30A24X+4hJFPtgOvmuTZ5Ynnu51Ec/xh/69T9i9NB/snzXsptCGvvJAtCCCGE6BWlgwD+9ttvLmUkLA6jLoysPPDAA9GeasDI3GWXXeZGd3bt2iXX/w5A2TNPe+7cudGe0/HdbRcuXOhSW5HBBy8Nm0vLnG+Tp99//92lebERW0bpbNSW0T8bqc3jKtwtuD8CmTF1ghHGJLh/5LipSAznEXlqEcjfeOMNl8LmzZsbTSXafccx5CUuzIx8vv7669FRJ3niiSfctBi7Jt4+zHdesWJF6mhqJ3n++edd+sgjj7g0CfOIMO8SvCHwIgm1UUXhusuWLXMeCHlcvJuKnptj5W82bSov1AlGsXkW30PBnpHn61WZVB28AFjdpZdyK4QQQghRRUobAPbt2+fS6667zqU+KBV0vu67775oTzWgA753716nNJVdLkqk8/HHH7t0xowZLvVBqUQR8qePJEFZxV1pP/nkEydXEyZMiPacCopS3JDAlAFiVphC/MUXX7iU9bs3bNjglFtfWfZBPny3+ZArPMoFSpopnUVcyUOQR1999ZX73ZEjR0Z7T+eMM86IPoXxg+S99957LvX32RJ65KmB8QGjwPnnnx/tOQkGCfbv378/2tM9yF8MNLh0p8395zjyHoVv69atTs7uv/9+Z/SgjFuFtgyZpHxselO7QK6QoTgYPhYsWODaK3NJJy/OO+88Fwjxm2++SSwTrmlGL7YQfsBWtqQpDf0Khizk1tokIYQQQgjRggHgl19+cWm8M4zSxPqCFgugajDqT0f+yiuvdNGfNTrUXg4fPuzSvGVvSnXa6C6KCQox4LnhX9u+oxxRlJBHRn3tuiiNoVUeUKS4Dhvrh8fhehiJUOxRJrn21VdfHX37D7Ym/YEDB9yob8ggVpQ8eYcyj4KDYmhxEbhnlEaUZf+ZzVPAx37j4MGDLgUzjsSf0+r4r7/+6tJugvcCStzQ0FC0J8zSpUudQox8mPfCxRdf7FLKsVXylInPa6+9NqyAJ8W5QG4pO/Ibowuy7I/q04b6RhvgHN84FDKGIfsYQrZs2dLYvXv3aWUP/NbNN9/ceOyxxxpHjhxxhjXLt0GBmDTQibgRQgghhBB9S1O5KUWzU+nmMvrzYG2uMd8VhWuV3cpg84rjc89FMpS15XnS/Gfmmectf5unu2TJkmjP6djvMV+dsqLc4nAvXAPZY/Pnvxs29zYur+wLxYKw40O/Z1h+hH4PrI5kbUl5adfnXpKwOf+2kU/bt2+Pvj0J+0NlYucYoTwC2592H52CWAWhe/JJqsvkQ+hc9uXZkn4zKZ8Mi7NgWByFeBlwHN9RhpQbaUjeQuci7xwfh2taXUmD61FXWoHf4j6sjOw+Q/WJY8m30D0DZcX9cI20OsyzcQy/mSeGi12zKvFeTHZC9VGchLKnfOPtmBBVhjaO9oY6zmchhKgypT0A4qNZ/G/uz7hWVx1G1pqdUTdfPTT/XJTjr7/+ij6lwwj83Xff7Uax06JmN2XUbbg8cw7u3PHyYmR6586d7jPu6iHMY8VflQLXYGQgHguCEVa8WKD5Qg+6UDPKOmvWLPeZ5wi5UONpYveftpUdeWVUmeduKqLuOs1Oh7t3RnbjqyXE66tBfsY5duxY9OlULrnkkuhTd6CcGdVvKn2peWQu3rfccotLjc8//9yl8XPj+d9UxtwW31+2XPAW8Efu8cZAzvDE8GWXqSl4TDWVfidnbHHs+LgnADFWiNfgQ5kztQOPCdo1ZNI8YQyuh5cB98LvckzZaStMP+B3XnrpJZdfTK/as2fPcN0B5I57sOkZofaBPEBmH3/8cXcdYn1Qp3wZZmUKrouHB3JOXuHZEW8L4pDvsGnTJpeK6oKsIJu0a0zfsWlKQvQDtPtMJ8T7a/z48ZpiKoSoNKUNAHTMDRQzGjw6lLidFnWXBb/jXXQry6233urSeCA0UZ4zzzwz+pSMr/zj5pwHXPk5FuUGt3ADpfv99993yjYu1yzr+MMPPwQVHzBFis4mrsEWNM/HDA0oD0kyRvBC7h/l1I7ppgs1nQuUL+7Bfpd6Z8tasgSjwbP49dXHr6um4Ft8jzhpMQk6gSn2SUYdA0Ua/PujfMkfFPsqMGnSJJf6ASwJJojRAgX6zjvvbNx4441O5nxjjR3vx2VAtkOGK+qIlTvKODJpQTYN5J+6AmvXrnXH2P9FQe5YQ9/kj/tBMffbAMqGmAVMk2HaVQiUe+qRTVuxe37zzTddCqtWrRp+ZmT2X//6V675/ddcc41LzUAoqgkyj5GIPgRGHmShTD9CiF5CW0gMHzNQyggghKgqpQ0ANnI4depUp8zR4KFkxDulVcbmzzKaJtoDio4FLAvBCzGP8k9nMD6iHlJAeeGisNNZ5HdROPAoiCs+zHU3ZdA6myhL8ZFV4Htk2ZS2JFAqkpSaTnP8+PHoUzaMqoHfGbHR1dtuu82lcNFFF7n0u+++c6nx7rvv9mSOOIoAZJVDiBdffNEpiO2IyVAEZJZRdV+JB8tTf84+covSTuwFPFTIXxRlX/GxuAsWl4FzKI8krxnzekhrh+mggsVIaAfIFiO33PuaNWuivScNDnilpIFxLl6PqKu+twCKoS8HJotm/EnCZJr6HC8TUR2IpUIZEcCzn/oQQsShDTSjKkYAtTtCiCpS2gDAiBVgCNi4caPruIaUqSpjHQ06l1mupCIfjPZBKD95ERJ4kc69r/yzn0BpPijzjz766PB1SP/97387RfSOO+5w++Iwmpkkg4xUAooKyj/Bz5Kiyltk9VDQPx86rJ1SMMmTDz/80H1GeYx3IlAkMboxym2GEo4hGB74QRWJJE++4VbLMWzkJef7eUneMSqNQQxFE0h5TlZN6DY2aptVDhak8Mcff3TP5nt/ZJ1bFOTQVk6woIkhKAcrM0a4yVPyNjSqibEqyRjmK7g81wsvvJA6Yv/tt99mej2Yh0fIoGMGjLQt7l1DfWJ5VWSlnfXB8i+NLAMAMo3sgxk+RHuhTmD88VedyDL6+CA3tPe+N5PoX2gP4lPQ6gbtvHks2jtZdB57//vBdEX3oQwIxl03eBfyHuT5+0L+mkpTrSEL2NKCjImTkEdZ+UXwG74PBfGyYGhJmw/nNxWZ4e+anfjEIIB54FyuMzQ0lBkQzAJ1pQXysbzoRKAqe+bQ5sP98VzkjX3P84Xuifud7AVr47hQXnJNArvZNceNG+fKrdtwb3avWWXOPZuscL88q8laWhkanMuWhi/78c0/l3ulTLgP+558R6bKgKxSFlwvzzX4PcovDe6Xe2o3yB33mpSXSfkc2h/fx3PFnz+0LwTXyXtsp+EeuJf48/YrJp+0J9Q1Nv4vktdWV7LqOfJF3fLbMc4t8l6gHpP3ee+P4/y6zHNyjSzKntdL8uYN39tzJW1Vf9ZukVe2Rev47580+aONQoY5NguOpS/htznW3oX6uD7cj38en7POgbLndRPy1+4vactqRwYV8oYyo+5n6Rq9RgaAmgtrEfxKn9bA0iHr5w4u907lTcM6QXqxdwZegiZrZeAFTSNcJ6x+ZnUWOIY62gmoO0llxnehdoGyinfG+N+/R+t0GbxY8zwrYBDh2Cq0SdZuVOFekqBN4x6TytGgc0w7SdnwuQyUH7/jl20IkyvqtL17uE9khP3cQ1pbjLzYNdjyvO/t2mYA5Rqm0NE+JVH2vF5RNG9MhtO2tP5BnTBDdKfaW3ESa0ey8hnZpa0wOU2DNs0UccrR2jhk2/Yn/Z5/P5zHZnUszUBf9rxuY32NtC1PGzvIUIbkQ5XbQhkAJKy58St9mlDTaNHIVrGzkwfuPetFQoc1y0ggymOdzLJKfCvn9ivW2cxShDgmj+KcBW0AdYVrAr9LnaDDEoc2ge/Y4vdn7Yq1wfYcfhtj8mD7zGjAdbNoVZbaid1LKI+qguV/llKet9OdBr/BNbLk0TrBJms+plyH7sOMBMiKyQzHmqwlYc8WP85kNUn2yp7XC8rmjcmwXz9FGPLYyr0bIH/92C+hr4gsZsleCHunpbVXli+8A6wtYUvDjgvdk5UrW7we2HfxNt76xaFzoOx5RbB2qEw++7TrOoMO8kbZUbZVpHQMACGSYP4bAdyYh95vcwGJEcC8vaxAVMxPb1bu6D/Rbmxud2jOfBYWE4HYBcxHrQvUuebLJjUWy5dffulSPxhhWVhSk+B9zP9n3jf1gRUb4svA8t3YsWNdrBW2ZkfM7TOY993soLnls9hPxP9mh/CU+eDESViyZIlbepNjCBDI8+aRD1vdAnkQ2RCBv9k3GI4DkgTxKKCVoH0WgDdPMFXkK/RbtkqIxYvxYYUfVtA4cOCAe568QVtZIQaanXGXGsgkdSxpBYqy5/WCsnkj8kNbTHtHuceDGrcLm/dOHCUCLNPG9gPUV+aJM2eaZWCJZ1QGYhtBaEUn4HdYnpGNWGVWR9PgHAtmHa/LQLna/ngsoOeff96lfoBl4F1lbdVbb73lUp+y54nqsm7dOlf36btUERkAREego0bQrW3btvVVMBBTkKZMmeLSEGYkIMKv6AwEs4M8y0rGobONAsNWdom7fgSjVNaSiWYkaEVpM+gEkb+W1wTaJPBVXCm37+ObD0HjWKmD/aShAJ2sfMBvcAy/m/cZur18ZR0gsKUZVNLayjRMIcoyWgHlTec9jVBbYSvCFDEk0r6bEpVmcGD5WZ+y5/WKMnkjimPlnhY0tgzIG8E3Ma4uWrTI7Zs3b16lDQAYKzA2EaQPwwhKO206943RN756UxYMMNEOcX5SG2LvKd+gnIW/XG/Rd6UZTkOr7FifMWRcLXueqC7IDoYiDN3U16pRawNAkSiNWARpbLGysvkj21wn6bs6Q8cChSBpybKqQRkz+kiFTWr0KWsi4tNpTVqNQJyEUQl/pLcMZZYArCPkNUYp1sdPAoWLF9HixYujPfWjii/hqoC3DPWVjfdYCFsl4qGHHor2NIY9QNiKvFNNIWp15NlWC7n11ltd2ipmBA6N/IG1SXFFq+x54iRl3xfIHOfaKhR89kn7rhvgZQG2ekyr0L+0lVcYNUeRxoMKTw76W1nGtCS4LoZYq8so6SicDOAUWdUjBNc2YwVeCijtQ0NDp9x30qpMabz55psuveWWW1zaLvBuM7LeGbYKEXAs72EIGRxMuecYv60se94gUrae8m4y+aW+0583yN+k7zrN3LlzXYrRvGrU2gBgy71lYY0Xy6lhaaQSWsODIF111VWNe+65xzVkfMf68qK/oMHhRYqbadyF2aCBMVfmvO7HdcaWhBSdhZca7vN0ppJGOegw4j6PK1rRUZZB4vjx49EnEYdRMt5vkKSUm3cNsgZ04s2jg61Im2jTfMoqLMB7mfaY+25VSTGylpY04lNKyp4nTlLmfUH/i7aN5V6t37VixQqXAkosChpeRbzbbaS8m9gUpFYUN85FGTd3eVs2c/fu3e7ZkP1W+iPUI64L1CfqMkslo6wzSk/fqCiUTdzF35T+I0eOuOdp9b5tClEZ40EatElmyLOpAD48G/sZCJoxY0a0t9j7xdc/yp43iJSRNfrvTI9Ys2aNq+fIsE21Qn9jmghyjJcJ323evNl91w3sXWqG6iqhKQARaeuFo+CjFNIomLXPrPns27Jli+sYWUPWSodG9AaUIl56vJSSXkjW+cUVtahbWF2gM2bW23PPPdc1xoDxhO9ojPOwZ8+e6JPIApm0TmASKHe4WvaLN047STKKiNOx0crrrrvOpUn88MMPLm3FQ8em+dhv5oXOtylDdKro1DGC2C6+++676FMYf8TPp+x5/cp///tfp2BjgGTjc9GRu1bfF/S1UAKp4zbVxzdeMQeXmBbAe72MctEqdl9lDD+mRI8fP94p47By5UqnxCDz7WjbGJk05Zx6Zf1X/31yzTXXRJ+yocx8F3/qaTuVfgMZgSSPm1Yhn1HwMRqRR2bAYTSZvOK79evXn9Lf//HHH6NPYc4444zo06mUPa/X4NVCPbU2gLLGmFTE2EU5Ii/macE1MJpxDdoGrp8F3rjUB+TKZMu8JtDfaCMoJ6uL3RycMvmgzlKfq0StDQBZlc7whcpe8r4AmTJoAjxt2jSXClE3zHuCBh0XXzxiaMAZfSa4TV5LvbnDCSG6h7kppxnEwUYzso5rN3QIUSws2Bmd8P/9738tja7GIcBkGqE5ulD2vH6DMqcMmHKBYRED5N69e913KEu0/Xlpx/vCOtjWn/MVMt9Qj1E5K0ZKVUBRQJEyJRqjBoYuDL0MVvjP2Ar8zhNPPOE+8ztJoETlBU8MjB3cOx4KyEi7lH6fvP33siA7ePXyHEx5wvsTJZepFzwfyn9cPrO8gJIGjsqe1yuYIoGxDkMxijdtAO0x9QtjEgarvMouRqyXXnrJtR0Yu2jL8bDmGryP8hh3/fpgg0c2jQO5i7cRrU47K4oZqfzYElWg1gYAv9LltbAh5IC1Os6mTZtOcwnqFljRzApXdMtjYctD6NraBm9Lg8aWDgojL7ilU18IzsWL1EZi2kno/rTVbxPtwTpPWatE2Ghmt70rzFOLDYUI6JzzDmunESCNY8eORZ+KUeS8KrzPk6DM427nKCgoeihLyEZeT4B2vi8OHz7s0pBHCaPSGBeYqtkPoChYVHxTotvt5g6sBEG+hILomQJHmRZR3pnzbG7YU6dOdfLIyH+766f137O8lcrCgB73juccHgzW7lAePB/TGjDSFKFsHhQ9L9QusFEegLId+p4tD8gKnrC+MYoUZR3vCGSqSN7QpiDjQPvBiP3WrVvdvrhcpkE+2eBR6DzaGZTxItdsJ7/++mv0qRrU2gDwyy+/RJ/yW9iSOj4IHg02AbZCjaW5RVklS4uMX+RYIaqEjVwQtZYXAS9KAorNnz9/2GVPCFE96PDSecrq8Fs9NnftXoFC5CudtDHt4PLLL48+hdm3b59LMfb7lD1vUEBmaPPh3XffdWkW7Xxf2JSSkFcKo9J0/EMGK+QeY4b1t9I8GIoc2wqMXlo8DlOis6ZDlMHm0IeC6P30008uLeo1Qf6gHOIVQswZjIp47DCCznedMAZ0AuaN066g1HLfBjJk+Uaf3y8Xi/eQhD9/3x90LHteFbn33ntdSoyEvOVsU7owGtEGIDfLli1zhsQismL5FJoWQntCeSYtA8lvcQ9Wt9PqW5FjfcxIWRVqbQDI66Ji2PGhFzgvLF5cWMTiINxYCwmqggUR4Uyag1LkWB8aJbNQFt3M8tYqoWtrG7wtDTpxtrb0jTfe6BQKXqBEp6dBb3cnJnR/2uq3idaxKPZZHX6L3t8p5acIKJ2PP/64+2yd8laxufpZHc+4G2nZ80JU4X1eBssDGyjJop3vC7wSIK4gMX8bZSTkSoxCj/GBvht5x7xvDEohihzbKjaaikJkSjT9QpQOlI+ifdcQyCnXh5CLP0s4Q1n3c86zpVvx1sGgQR3tB2OAKYvgK/8G5WNKpgUEB3/J2azn8vO17HlJ+O2Bv+G9AMhu6Hu2VvGfJU/AQur4Cy+80HjjjTecPNCmT5w4cXh60OzZs12aBxthjy8JS57imYIMhoyAGCEJHko8N2JVoOOdc8450benUuTYytMs8NoyefJkpN2leWhWHnd8s+JHe06ydu1at5/v4zQF5ERTQE40X3TRnmSKHNsL7PmTnlUIn40bNzpZKQP1gHObL6pojxDlqUq7hTxzH/F3SBXgvcO98T5LI+9xWZAHXKfVOu6/l7LI85tNZSX1es1OpPuuqZhFe05S9ryq0I7yMPlOyoM0WnlfQOh39+7d6/YlPRPPzLsmD0WO9Skin0nQNyR/xo0bN3wt5KmV9iztvqwvynfkYbuw57C+Nxu/w7NQf4pgsla0PuUpD+vTpx1jv49cGDyfnRcqG5PxuM5R9ryi2LO3Usez8PM39CxZIONl78/KJH4+7yzkjHyOY/eb531W5Fgfa1spxypRaw8As/CluTv6hObwYbFiDmJTIE6zLOG6j2UVqzaWT1xFsOCGKHKsEP1AK+5O3Q7SIgYXTT3Jh70Ps4LVWQDAKVOmuLQs5jKfd/m8JOy93OzgubRV/NHQkOzg3gyMWPuUPa+f4LnomyStaW1l2ezwurQIrbwvQqOmNmLf7Pyf5plJvw0PFjwD6HOZK29oZL3IsSFMPpvKm0vLQB+VkWi8HBhNJ39xP2d6AP3Edo+kW2wA6lRZD4AQ9hzUBfNuwKOCZ8HDIW/sCDBvE5v60U78NjApXy0guD+fnOezcjZPKR9bPeXOO+90qVH2vF6B/Ic8I8DXk0Kj7VmYV0oZQu8SRuzRqUJLdzO1hoCjgB7Hc3F8iCLHJhGKHddTIkNALeHx2fKOuPsWv6aQDo+EYL1MwiyJeSxhRY7tBWb9qvI9isHALKadtFSLeuC3W+0czSqD/w6pGpZHafDey3NcHorkRdpxRUbW87Yrds34u91kKeteip5XBfLkjT0Ho3RxGF2zEeqio7mt4tdx7sNkixHT0KgfZHkH+BQ5No7dS7vLnnsyeWOzkXTqaB78UWcf8pJ868Q9J4G8cO9F8tfKnHstgi8rSZA35CfHhEZ7/e+5no+N1sfriJ3DFpLJsucVwZ69jBz7cA22kKyZXtQLTye/DfPlOG3k3e43D0WO9eEctrx1s1u0/hbvU6xBZ8tbGXwXP9uyXEGsgc5TcYsc2wv8hjPe6AnRTqwhz2ucEyIJv93qNZ1SBtqB5RHvH+s8xd9F1kltx/1budCxzcLuzVdwSC0/0xQ9w39/08lO64xxLes82jue49nH/SYZksqe12vy5o1fl/yy4LnyDIh0CvLd7su/vzSZMFnOY6wocmwc69e1qnQlwTNybeTLnj0v9p41WeU52Wfy0Kl7bhdFnxd5NTnNej7ygDxlI39MlpB1q+NJiqWVuckgm+1LOgfKnpcXq7+tlivXYCMfrE0jb7mu7bf86iYYHeze2Cg7njkN2jvuNw9FjjXIF+4lbtipArU1APgvsryVAYG2BoFKmfSS9EFY8hZ8kWN7gZ9nWZVKiFawhryKipLoL3zlptdYB6mKck0nl3vj/UYnOaSsWr1s1+iOlUvWu5TOL+9c3pF2Dhv5mNYx9t9ZaVsI63yTHxyT971f9rxuUzZvOC9eFiYzvewXmDKb9z5MlvOUS5Fj49Cn49xu5A11oUgfkuexfOM86wtbO9XL8syDKfNZhhl7xrQtpAeQP8i6lSEbn9mXlTdczz8vr1yWPS8PXIdrhp61COQLdSKer1ntcaex5zNZzjJC8D3HU55ZFDnWh/woc143kAGguXVSYLk+FTgPRY7tBX6etatBEiIEjTdyVtTaKkScKsmS3QsdpX7ElL4yI6EhrAPfy06jqCfUQQwXeShyrA+KEvJd5txeYvU8S4EKEVcKi2xFFdMqK1dVpF0GgEHB8sM8YNIocqyP1Ycqen/VNgigH6iiU4EZLBDQpEmTXJpGkWOFGHRsXdy8y0kJkYQFBooHABLFIBgW9bGpzASXDSvDrbfe6tL333/fpUJ0C4L65Q02W+RYn48//tilSQHTqojV88mTJ1e+zSRfuU+CCLZjacRBx5YXDS1XXkcs4GJW4FsocqyBXkfbMXPmzLYG02wXtTUA7Nu3L/rUOUxgrr76apemUeRY0R1Yn5QXzJgxY1zET1KifoaiwlqkYI5js/V62xmZt05cdNFF0adGyy92yoDyIYprvHxC0GhbWaaV+SDCc5IvPHcIyoII4O3OS/axEorVNc4psgZ4GhYl+rrrrnOpKIevzLRLMeBa48aNc1Ga1YEX3cIGXPK0CUWOjbNq1SqXLliwwKX9gNVz2uAy7NixwymZZbYyium6detcumTJEpcKkZdPPvnEpXlWKyhyrPHoo486g/nLL78c7akWtV4GsNPYMiETJkxwaRpFjhWdh5c+y9IcOnSoceDAAfdyWrx4sbM0L126NDrqJCg/d999t1uixV5kDzzwQGPRokWnHSvywdI6NJzw+++/u7QsLGlE+XBNyubIkSNu1IDywTDgw9JRLK1kZbl161Z3zOzZs6MjBheek5Fd8oUloEJs3rzZLYFDZ7ideTl//nynBDLyxDXpfFL/rPPdCnv27HGpeZWI4qCcY7yhrJ9++ulob3tYtmyZS59//nmXCtFpfvzxR5fmaROKHOtDW0f/Yd68eacsFVd1Pv30U5eef/75Lq06jKxu3LjRvT+KLssm6g19A95peShyLCCL9GfWr19f3frf7JjVEpuLydap+ewEomDLQ5Fje4XNgelknlUFe9b4HDj2MafHh/l97I9DeYb2i3zY/OBW56txfrPhjv47iZVv/Nr8ZrweWgCoIjKP3HBtZIPN5Ii501yffVWaE4ZMM4+SOavkVZLcdiIvyQf2+fPAyS/2xetaUWwOLlu8LvcC8qgdz9VNTB6Qj07lIfnBbxSpY0KUBVlG3mgfsihyrEE9ibf9/YL1W7j3eJteZSxqP21JFedbi2phfQPqdxZFjuUdxjsTWaz6+6y2HgDnnXde9KkzMGLSFJrG9ddfH+1JpsixojvYXKk8rq5J7tLQfJlGn0RRpk+f7lLzjikLboVff/119F86jCLg0u5zzTXXuNSm6fgwQh0/HvA6YDoPXiOMpu/fv9/V823btjW++uort4+5YSFwfTe3ebbQKDij67hP2zFJLvh52bBhg3NTw1KdJvOhvEyavpQ3Ly0f/Fgs3EPzJZqYR3n56aefXMq1qj6ftapQ3rSFyEen8hD5o4xmzZrlZFuITrJz5073bs4zMlfkWGA6E1OkYNeuXX3X7hw8eNDV96NHj/bVXPGbbrrJeWvinXb//fdHe4UIY56B06ZNc2kaeY+ljzd37lzn9YgsFpku0AtqawDoVOA/oxPCJXqLKVmPPPKISw1zYeV7m9/MPGleoPadKM6MGTNcSges3VAuo0ePbtxxxx3RnuS5niNHjnTpL7/84lKgrNlo4FFyafjp9Nk16DjFG386kL4SFXIp5Xxc3x977DHnCs89xq+DjGEcwfBER23mzJktxw4p00lFUSMPXnvttcb27dtPuc8ieZk0t87uibwty+eff+5SGVerDWXN3GEULWSb9jMUK0KIViky4FLkWKDdYxoV56D8VzHw1yBDO1LE4C/qi011yRPcM++x9PEwoCGDZfpUXafZgawl5rbK1m43DVy+cKPCDSSLIsf2mk7mWdWx5WZwYQ5ha2j7Wz+5z1UV6gV52U6XPnPpjC9lZvIdLzfbH3fbRiaQB1y9uM9QnTDXZh9zVQzB8bQHaZgbebOTGe35B7+Opm3xZ/EJ3XMcO4YNV//4sxfJy6Tfs/2hfM0Leck1quISamXnP784FeoV9SleP4VoB7RXtL+h9jNOkWOtL0cd7ze3fyHqhE07TOrP+xQ5tt+orQfA2WefHX1qL4yIjR071rkzMqKRRpFjRe8gmA9B5JqKY2P58uXR3n/gewKjrV271o3IsvGZwGhENhflMVe+TZs2ubRVCMxCIEeCBuEyGMKWjYtz+eWXR59OjsIfPnx4OMJ80ggR1uBmpzD67yRMA3j22Wej/07CSBNu/7i8M3qEW7+5kfrg9o9cAdflOB9G0U0G07ZW2xuL9Nx8Obr7JdhfKGp/nrw0kkZ8ywZGxUOBeyOfNBLXPyDjjOAl1U8hysDoPO0lbQKj82ku/UWONRjx66vRPyFqCP0qvMyaCn2wP+9T5Ni+pNmJqy08Plt8lEqE8UcXWxmV6yds5D8t+IeNAMdhH+eK8jCSQv4ystIqNvJPmYbgt/g+PjobGs3ms/3P8c2Ookvj9SJ+Pb4PyQrY7+NNkgbnMzLVKbhf7iMvPHv8OYvkJZZ19sXzruh9xLHrJpV3L+C5Q/kihBBCCNEtar0MYLMTFn0S4nQYQbSR/7R1PJOWTBOtw0gKI4KMxLSyLjxzim3kn+uF4LcYLbaYHMaHH37oUr+9YJSHjZEiRn0YIWJU3J/HbnPXbR488kSAGILjhSA4IFx88cUuDcEoOUvLTJo0KdrTXfBoIS99Ro0aFX36hyJ5OXHiRJfaclvAc+INMTQ0FO0pDuU9evTo4VgSQgghhBCixkEAwdxQLQiVEAYKyO233+4UFV/5Z3886j9KCkqZrxjxmX24DonWWLBggUtXr17t0qKgeDNFY+XKlaco/yjvcTd7fgODjq0nzLkokpRxyI0chR8DQIjjx49Hn05G9keetmzZkuhOum/fPpfGg+H5sJoAtBr0Lwme15R28icOUx6eeOKJ4e+oD0uXLnWf48Ex8+YlZcI0KK7LMWDXZF8ZmJbDb7MKg9xxhRBCCCE8Ik+AWkKQIbIAF2ORjbnvssXddQeNUFA/f4uDay9u6vY9btpZrtwiP0lu4nnAXd7KJb6FXLEpNytL2gZ+u2xQJ67DNZh+kHUN7iVpeoBhLuRl7ycJu25o4zuD/Cc/eSb7nv+TyiVvXjKNwC8n8qGVNsbyvd351CqWzyG5E0IIIYToBiP40+yQ1BZGcxkpIpiVAkWlw6gfwb6g2TlPHakUop0w0jx+/Hi3DMugBswk6FTWdBM8FvA4SPI6EP8E7Uyb7tErCPxKEEc8ixT4VQghhBC9oNZTAMA6iF9++aVLhRDVAzfu9evXu3nhrcQCqCrm+j5t2jSXJoF7vta0TwZDEVMOmGZQNeVfCCGEEKIK1N4AYPOLV61a5VIhRDVhWTBGyOfMmTMcYG9QMANk2pJ3GAnwVpKnUjLz58936Zo1a1wqhBBCCCFOpfYGAAJyoVQQZTwU9EoIUR1wj2caACO8jPYOCqw1PXr06FTl3owEU6ZMcak4Fdzrd+7c6fJSgf+EEEIIIcLU3gAAeAHQ+X700UejPUKIqrJhw4bGFVdcMbxsXr+D4ZGlAYlYnwQeD3gpMXdcHgBhWM0F5V/5I4QQQgiRjAwATfACYGSRZdsYRRJCVBdGd6mvTAnodwjqN2vWLLdc5MKFC6O9p0KbNG7cOLdUHsYPEYagelL+hRBCCCHSkQEggoBRTAUgQjNRpIUQotOgtB49erSxfPnyaM/pYBhgsRbaJbm2CyGEEEKIVpABwINRxbVr17olpDAIDFqgMSGEEEIIIYQQ9UUGgBgPPvigCwg4ZswY53IrhBBCCCGEEEIMAjIABLCYALjmCiGEEEIIIYQQg4AMAKIUU6dObYwYMWJ4E0IIcSoEcPTbSWLMCCGEEEL0khEniC4lhBBCCCGEEEKIgUYeAEIIIYQQQgghRA2QAUAIIYQQQgghhKgBMgAIIYQQQgghhBA1QAYAIYQQQgghhBCiBsgAIIQQQgghhBBC1AAZAIQQQgghhBBCiBogA4AQQgghhBBCCFEDZAAQQgghhBBCCCFqgAwAQgghhBBCCCHEwNNo/H+c8n+2Hao1FAAAAABJRU5ErkJggg==\">\n",
    "\n",
    "Where $v_{ff}$ is the free flow speed of the road (speed limit)"
   ]
  },
  {
   "cell_type": "code",
   "execution_count": null,
   "id": "745ec0c7-48ee-4aa9-8384-5ae4c245bbc5",
   "metadata": {},
   "outputs": [],
   "source": [
    "# Define function for speed estimation given flow and free flow speed.\n",
    "# Print a warning if the flow is out of bounds.\n",
    "\n",
    "def speed_estimator(q, v_ff):   \n",
    "    if q <= 3100 - 15 * v_ff :\n",
    "        return v_ff\n",
    "    elif q <= 1800 + 5 * v_ff :\n",
    "        return v_ff - (23*v_ff-1800)/28 * ((q + 15*v_ff - 3100)/(20*v_ff-1300)) ** 2.6\n",
    "    else :\n",
    "        raise ValueError(\"flow is out of bounds\")"
   ]
  },
  {
   "cell_type": "code",
   "execution_count": null,
   "id": "f5d0a995-b901-493f-9b30-ccb27f48cc4e",
   "metadata": {},
   "outputs": [],
   "source": [
    "# flow = 2000, max speed = 100 km/hr\n",
    "speed_estimator(2000, 100) \n",
    "# should be 95.83214072946132 km/hr"
   ]
  },
  {
   "cell_type": "code",
   "execution_count": null,
   "id": "13e306ff-049b-4b2d-8bf2-50bd96f5c35d",
   "metadata": {},
   "outputs": [],
   "source": [
    "# flow = 1600, max speed = 100 km/hr\n",
    "speed_estimator(1600, 100)\n",
    "# should be 100 km/hr"
   ]
  },
  {
   "cell_type": "markdown",
   "id": "b8b85152-efa3-49eb-a6f6-0c32ab0f5775",
   "metadata": {},
   "source": [
    "<a name=\"pac_motorway\"></a>\n",
    "<b>Traffic - Q: Density for Pacific Motorway Scenario</b>"
   ]
  },
  {
   "cell_type": "code",
   "execution_count": null,
   "id": "f5f0091a-93bd-48a0-8c8b-f0e67eb38883",
   "metadata": {
    "tags": []
   },
   "outputs": [],
   "source": [
    "# Make calls to the speed_estimator function you have written,\n",
    "# to estimate the density on Pacific motorway with v_ff = 100 km/hr and q = 2000 veh/hr/lane\n",
    "# Note q = k.v  \n",
    "\n",
    "q = 2000\n",
    "v_ff = 100\n",
    "v = speed_estimator(q, v_ff)\n",
    "k = q / v\n",
    "k\n",
    "# Result should be 20.869824933224596 veh/km/lane"
   ]
  },
  {
   "cell_type": "markdown",
   "id": "783041c7-40f1-42cb-8c1a-1439fd6aa436",
   "metadata": {},
   "source": [
    "--- \n",
    "\n",
    "**Below you will create some Boolean-valued functions (or *predicates*)**\n",
    "\n",
    "Hint: use the % (modulo) operator\n",
    "\n",
    "https://docs.python.org/3.3/reference/expressions.html#binary-arithmetic-operations"
   ]
  },
  {
   "cell_type": "code",
   "execution_count": null,
   "id": "6ee78640-787e-45b6-9cbc-00108044bce3",
   "metadata": {},
   "outputs": [],
   "source": [
    "# Write a function to determines if one number is divisible by some other number\n",
    "\n",
    "def is_divisible(numerator, denominator) :\n",
    "    return numerator % denominator == 0"
   ]
  },
  {
   "cell_type": "code",
   "execution_count": null,
   "id": "af4a1602-116a-44ed-9326-f5e0ab124fa0",
   "metadata": {},
   "outputs": [],
   "source": [
    "is_divisible(4, 4) # should return True"
   ]
  },
  {
   "cell_type": "code",
   "execution_count": null,
   "id": "014b2911-7b9a-4c79-a992-9711d457a1af",
   "metadata": {},
   "outputs": [],
   "source": [
    "is_divisible(12, 4) # should return True"
   ]
  },
  {
   "cell_type": "code",
   "execution_count": null,
   "id": "7e28f671-2230-4006-babc-1382bec692f2",
   "metadata": {},
   "outputs": [],
   "source": [
    "is_divisible(13, 4) # should return False"
   ]
  },
  {
   "cell_type": "code",
   "execution_count": null,
   "id": "5e1e6ace-da47-4b7a-bdc4-90ec8cf3d337",
   "metadata": {},
   "outputs": [],
   "source": [
    "is_divisible(0, 4) # should return True"
   ]
  },
  {
   "cell_type": "code",
   "execution_count": null,
   "id": "f4924e27-b22f-4a59-b04c-d836861c8eb0",
   "metadata": {},
   "outputs": [],
   "source": [
    "is_divisible(13, 1) # should return True"
   ]
  },
  {
   "cell_type": "markdown",
   "id": "7e3b15fa",
   "metadata": {
    "tags": []
   },
   "source": [
    "<a name=\"leap_year\"></a>\n",
    "<b>Q: Leap Year</b>"
   ]
  },
  {
   "cell_type": "code",
   "execution_count": null,
   "id": "20f7dd69",
   "metadata": {},
   "outputs": [],
   "source": [
    "\n",
    "# Write a function which returns True if a given year is a leap year and False otherwise.  \n",
    "# Step one: research how leap years are determined!\n",
    "\n",
    "def leap_year(year) :\n",
    "    return is_divisible(year, 4) and (not is_divisible(year, 100) or is_divisible(year, 400))\n",
    "        \n",
    "# Have you violated any Boolean anti-patterns?\n",
    "\n",
    "# Can you write the function without using constants True or False?"
   ]
  },
  {
   "cell_type": "code",
   "execution_count": null,
   "id": "3b1af3d9-7492-4ab4-b612-1c34ea1da14f",
   "metadata": {},
   "outputs": [],
   "source": [
    "leap_year(2008) # should be True"
   ]
  },
  {
   "cell_type": "code",
   "execution_count": null,
   "id": "31702eba-b9fb-43c9-902a-1b73328626f1",
   "metadata": {},
   "outputs": [],
   "source": [
    "leap_year(2000)  # should be True"
   ]
  },
  {
   "cell_type": "code",
   "execution_count": null,
   "id": "88c014f6-1866-46b3-9623-99e895793867",
   "metadata": {},
   "outputs": [],
   "source": [
    "leap_year(1600) # should be True"
   ]
  },
  {
   "cell_type": "code",
   "execution_count": null,
   "id": "a1c0c1c1-609d-42a4-8913-dcbf16c11fd0",
   "metadata": {},
   "outputs": [],
   "source": [
    "leap_year(2014) # should be False"
   ]
  },
  {
   "cell_type": "code",
   "execution_count": null,
   "id": "ccc12db2-89c2-4892-ab88-b3e68f9540a1",
   "metadata": {},
   "outputs": [],
   "source": [
    "leap_year(1900) # should be False"
   ]
  },
  {
   "cell_type": "code",
   "execution_count": null,
   "id": "53df012b-1901-4d77-8982-c999f0afd0ac",
   "metadata": {},
   "outputs": [],
   "source": [
    "leap_year(2100) # should be False"
   ]
  },
  {
   "cell_type": "markdown",
   "id": "a9fd324e-9776-4012-a0b9-6cd18e2797b4",
   "metadata": {},
   "source": [
    "# Boolean Algebra\n",
    "\n",
    "Consider the Python logical ***and*** operator. There are two boolean operands, each of which can be either True or False. That makes a total of 4 possible combinations:"
   ]
  },
  {
   "cell_type": "code",
   "execution_count": null,
   "id": "c0de38f2-be8d-4789-8c40-4d25058160b6",
   "metadata": {},
   "outputs": [],
   "source": [
    "False and False"
   ]
  },
  {
   "cell_type": "code",
   "execution_count": null,
   "id": "3b35669b-28a3-4522-802a-49905738049e",
   "metadata": {},
   "outputs": [],
   "source": [
    "False and True"
   ]
  },
  {
   "cell_type": "code",
   "execution_count": null,
   "id": "6fa3911f-a506-416d-a63d-4abb125e8e6f",
   "metadata": {},
   "outputs": [],
   "source": [
    "True and False"
   ]
  },
  {
   "cell_type": "code",
   "execution_count": null,
   "id": "0a6e325b-2004-4e72-87f9-359cf2c861f5",
   "metadata": {},
   "outputs": [],
   "source": [
    "True and True"
   ]
  },
  {
   "cell_type": "markdown",
   "id": "c3753aac-acac-4f57-b177-f28ceb11d6ad",
   "metadata": {},
   "source": [
    "These results can be summarised in a ***truth table***:\n",
    "\n",
    "| A | B | A and B |\n",
    "| --- | --- | --- |\n",
    "| False | False | False |\n",
    "| False | True | False |\n",
    "| True | False | False |\n",
    "| True | True | True |"
   ]
  },
  {
   "cell_type": "code",
   "execution_count": null,
   "id": "1be5d619-688f-4a73-b611-ffd2f23abf4e",
   "metadata": {},
   "outputs": [],
   "source": [
    "# Perform the same tests and create similar truth tables for the Python logical \"or\" and \"not\"  operators"
   ]
  },
  {
   "cell_type": "code",
   "execution_count": null,
   "id": "75b8aefe-b7d1-41ce-ab4f-360c0d94057b",
   "metadata": {},
   "outputs": [],
   "source": [
    "False or False"
   ]
  },
  {
   "cell_type": "code",
   "execution_count": null,
   "id": "1cb459f4-89a0-4687-9f89-e74359e0bae4",
   "metadata": {},
   "outputs": [],
   "source": [
    "False or True"
   ]
  },
  {
   "cell_type": "code",
   "execution_count": null,
   "id": "6f1f09c6-bcf1-49fc-b64d-0d6d1a6d36eb",
   "metadata": {},
   "outputs": [],
   "source": [
    "True or False"
   ]
  },
  {
   "cell_type": "code",
   "execution_count": null,
   "id": "2cf0b8d6-a6da-4d61-8c32-41e2cf9dd091",
   "metadata": {},
   "outputs": [],
   "source": [
    "True or True"
   ]
  },
  {
   "cell_type": "code",
   "execution_count": null,
   "id": "ac697a0e-098e-44d5-8849-7f178cb00b5e",
   "metadata": {},
   "outputs": [],
   "source": [
    "not True"
   ]
  },
  {
   "cell_type": "code",
   "execution_count": null,
   "id": "4681dc96-2f76-4f49-94ae-4f8ec6986811",
   "metadata": {},
   "outputs": [],
   "source": [
    "not False"
   ]
  },
  {
   "cell_type": "markdown",
   "id": "b458a019-590f-47df-a44c-5c3a57d0f8f2",
   "metadata": {},
   "source": [
    "| A | B | A or B |\n",
    "| --- | --- | --- |\n",
    "| False | False | False |\n",
    "| False | True | True |\n",
    "| True | False | True |\n",
    "| True | True | True |\n",
    "\n",
    "| A | not A |\n",
    "| --- | --- |\n",
    "| False | True |\n",
    "| True | False |"
   ]
  },
  {
   "cell_type": "code",
   "execution_count": null,
   "id": "8486a1c9",
   "metadata": {},
   "outputs": [],
   "source": [
    "# In Boolean logic, the XOR (Exclusive-OR) expression is True when only one\n",
    "# of its operands is True.  If both operands are True or both operands \n",
    "# are False, then XOR is False.  Write a function to implement the XOR operator.\n",
    "\n",
    "def XOR(a, b) :\n",
    "    return (a or b) and not (a and b)\n",
    "\n",
    "# Have you violated any Boolean anti-patterns?\n",
    "\n",
    "# Can you write the function without using constants True or False?"
   ]
  },
  {
   "cell_type": "code",
   "execution_count": null,
   "id": "dc00f318-9d73-449a-9ae3-2e4db06ca2d8",
   "metadata": {},
   "outputs": [],
   "source": [
    "XOR(False, False) # should return False"
   ]
  },
  {
   "cell_type": "code",
   "execution_count": null,
   "id": "7bcb03dd-29e0-402d-919e-665f956b0cd3",
   "metadata": {},
   "outputs": [],
   "source": [
    "XOR(False, True) # should return True"
   ]
  },
  {
   "cell_type": "code",
   "execution_count": null,
   "id": "d25010f3-2588-42be-8e86-b147ae224fbd",
   "metadata": {},
   "outputs": [],
   "source": [
    "XOR(True, False) # should return True"
   ]
  },
  {
   "cell_type": "code",
   "execution_count": null,
   "id": "0dcc24fc-5ee9-4748-9557-4ef01b48edac",
   "metadata": {},
   "outputs": [],
   "source": [
    "XOR(True, True) # should return False"
   ]
  },
  {
   "cell_type": "markdown",
   "id": "1fb6ea3a-0c2e-469c-883b-8e809a918bf7",
   "metadata": {},
   "source": [
    "# Binary Representation\n",
    "\n",
    "We know that numbers are represented internally as a sequence of binary digits.\n",
    "\n",
    "For example, the decimal number 13 is represented as the binary number 1101."
   ]
  },
  {
   "cell_type": "code",
   "execution_count": null,
   "id": "8692d2be-6f33-4ef3-bc47-aa95211f2438",
   "metadata": {},
   "outputs": [],
   "source": [
    "# What is the binary representation of the number 14?\n",
    "bin(14)"
   ]
  },
  {
   "cell_type": "code",
   "execution_count": null,
   "id": "14f1a800-4d6e-4740-a11e-029131fdfcfa",
   "metadata": {},
   "outputs": [],
   "source": [
    "# What is the decimal representation of the binary number 10010?\n",
    "0b10010"
   ]
  },
  {
   "cell_type": "markdown",
   "id": "9c35a815-4dc6-49a1-b6eb-4654720eb69d",
   "metadata": {},
   "source": [
    "Boolean values in Python are also represented internally in binary, with 0 used for False and 1 used for True.\n",
    "\n",
    "Some programming languages don't even have a Boolean type, they just use integer numbers directly to represent boolean concepts.\n",
    "\n",
    "Python also overloads the boolean operators *and*, *or* and *not* by allowing them to operate on numbers as well as boolean values. \n",
    "\n",
    "Try evaluating the following expressions:\n",
    "- 0 and 0\n",
    "- 0 and 1\n",
    "- 1 and 0\n",
    "- 1 and 1"
   ]
  },
  {
   "cell_type": "code",
   "execution_count": null,
   "id": "1dd2a75e-3b1e-40fd-97ed-022c216c86d1",
   "metadata": {},
   "outputs": [],
   "source": [
    "0 and 0"
   ]
  },
  {
   "cell_type": "code",
   "execution_count": null,
   "id": "e3d62fcc-d126-4521-b55f-75ee8730694b",
   "metadata": {},
   "outputs": [],
   "source": [
    "0 and 1"
   ]
  },
  {
   "cell_type": "code",
   "execution_count": null,
   "id": "8f95d06c-bb74-49d8-a198-4089c48e0cdc",
   "metadata": {},
   "outputs": [],
   "source": [
    "1 and 0"
   ]
  },
  {
   "cell_type": "code",
   "execution_count": null,
   "id": "ed45caef-3001-4f8b-af45-7777c7d6e502",
   "metadata": {},
   "outputs": [],
   "source": [
    "1 and 1"
   ]
  },
  {
   "cell_type": "code",
   "execution_count": null,
   "id": "97367b62-0528-4f85-8024-6bd85b23a400",
   "metadata": {},
   "outputs": [],
   "source": [
    "# What pattern do you observe? \n",
    "# Answer: It is equivalent to using 0 for False and 1 for True"
   ]
  },
  {
   "cell_type": "markdown",
   "id": "54ccc756-13ee-4f4d-bc6f-60efa1b08f5e",
   "metadata": {},
   "source": [
    "Perform the same tests for the *or* and *not* operators."
   ]
  },
  {
   "cell_type": "code",
   "execution_count": null,
   "id": "61d77efa-9728-468d-b59f-dd6892faed61",
   "metadata": {},
   "outputs": [],
   "source": [
    "0 or 0"
   ]
  },
  {
   "cell_type": "code",
   "execution_count": null,
   "id": "2c485643-2254-422f-8be5-e053b0ec3e54",
   "metadata": {},
   "outputs": [],
   "source": [
    "0 or 1"
   ]
  },
  {
   "cell_type": "code",
   "execution_count": null,
   "id": "e8cd1465-a418-4a78-b4b6-5d16285b5420",
   "metadata": {},
   "outputs": [],
   "source": [
    "1 or 0"
   ]
  },
  {
   "cell_type": "code",
   "execution_count": null,
   "id": "7c7bbe9a-39cf-458f-8e57-dbd2eb0f8d73",
   "metadata": {},
   "outputs": [],
   "source": [
    "1 or 1"
   ]
  },
  {
   "cell_type": "code",
   "execution_count": null,
   "id": "675e56df-a976-41b7-92ea-3b522a0942dc",
   "metadata": {},
   "outputs": [],
   "source": [
    "not 0"
   ]
  },
  {
   "cell_type": "code",
   "execution_count": null,
   "id": "3faff022-2ebf-47f2-b3ce-adf0769d2628",
   "metadata": {},
   "outputs": [],
   "source": [
    "not 1"
   ]
  },
  {
   "cell_type": "code",
   "execution_count": null,
   "id": "06e65f93-afe3-4600-b001-d8d2106db758",
   "metadata": {},
   "outputs": [],
   "source": [
    "# What pattern do you observe? \n",
    "# Answer: It is equivalent to using 0 for False and 1 for True"
   ]
  },
  {
   "cell_type": "markdown",
   "id": "c6f90540-2d05-4218-ac46-78fded8330e9",
   "metadata": {},
   "source": [
    "What happens if we perform boolean operations on numbers other than 0 and 1?\n",
    "\n",
    "Try evaluating the following expressions:\n",
    "- 0 and 5\n",
    "- 0 and 3\n",
    "- 1 and 3\n",
    "- 1 and 5\n",
    "- 3 and 1\n",
    "- 3 and 5\n",
    "- -1 and 3\n",
    "- 3.4 and 5.6\n",
    "- False and 4\n",
    "- 3 and True"
   ]
  },
  {
   "cell_type": "code",
   "execution_count": null,
   "id": "e72e97f9-c547-469f-b777-933c8d91c95d",
   "metadata": {},
   "outputs": [],
   "source": [
    "0 and 5"
   ]
  },
  {
   "cell_type": "code",
   "execution_count": null,
   "id": "9a0b228c-fb5b-413f-8a65-6a91cb0a169f",
   "metadata": {},
   "outputs": [],
   "source": [
    "0 and 3"
   ]
  },
  {
   "cell_type": "code",
   "execution_count": null,
   "id": "e57e8d1f-d98f-406d-9ad9-0e7af7431359",
   "metadata": {},
   "outputs": [],
   "source": [
    "1 and 3"
   ]
  },
  {
   "cell_type": "code",
   "execution_count": null,
   "id": "02cdce74-e89d-4a89-8aac-aae6841cfa1f",
   "metadata": {},
   "outputs": [],
   "source": [
    "1 and 5"
   ]
  },
  {
   "cell_type": "code",
   "execution_count": null,
   "id": "27636e4a-59a5-42a5-9f43-589a0e030af9",
   "metadata": {},
   "outputs": [],
   "source": [
    "3 and 1"
   ]
  },
  {
   "cell_type": "code",
   "execution_count": null,
   "id": "b589725e-5cd6-49d9-b239-1b5507af87e4",
   "metadata": {},
   "outputs": [],
   "source": [
    "3 and 5"
   ]
  },
  {
   "cell_type": "code",
   "execution_count": null,
   "id": "8ca2ba7d-5d8c-46c8-b057-bfffac46143b",
   "metadata": {},
   "outputs": [],
   "source": [
    "-1 and 3"
   ]
  },
  {
   "cell_type": "code",
   "execution_count": null,
   "id": "1c7df171-9a08-44c1-b879-c8314c625778",
   "metadata": {},
   "outputs": [],
   "source": [
    "3.4 and 5.6"
   ]
  },
  {
   "cell_type": "code",
   "execution_count": null,
   "id": "61cbf0dd-0696-48f4-8871-75e38586d4c6",
   "metadata": {},
   "outputs": [],
   "source": [
    "False and 4"
   ]
  },
  {
   "cell_type": "code",
   "execution_count": null,
   "id": "b8b9de6f-b96f-489b-b938-918eb303fc2a",
   "metadata": {},
   "outputs": [],
   "source": [
    "3 and True"
   ]
  },
  {
   "cell_type": "code",
   "execution_count": null,
   "id": "fe6e1353-270f-48a9-b68a-72bad63bc7ad",
   "metadata": {},
   "outputs": [],
   "source": [
    "# What pattern do you observe?\n",
    "# Answer: if the first value is considered false then the result will be the first value, otherwise the result is the second value"
   ]
  },
  {
   "cell_type": "code",
   "execution_count": null,
   "id": "37bbada2-67f7-4547-a457-8c04e245287d",
   "metadata": {},
   "outputs": [],
   "source": [
    "# Write a function that takes two numbers A and B as parameters and returns the equivalent of the Python and operator\n",
    "def And(A, B) :\n",
    "    if A :\n",
    "        return B\n",
    "    else :\n",
    "        return A"
   ]
  },
  {
   "cell_type": "code",
   "execution_count": null,
   "id": "64fb994b-21c8-4aae-bdfc-415b365fe8ac",
   "metadata": {},
   "outputs": [],
   "source": [
    "# Test that it works as expected"
   ]
  },
  {
   "cell_type": "code",
   "execution_count": null,
   "id": "5a495c8a-ae07-4daa-9a57-8481c43914a4",
   "metadata": {},
   "outputs": [],
   "source": [
    "And(0, 5) == (0 and 5)"
   ]
  },
  {
   "cell_type": "code",
   "execution_count": null,
   "id": "4600e4b8-f645-4732-b8cb-afa047bf1ea5",
   "metadata": {},
   "outputs": [],
   "source": [
    "And(0, 3) == (0 and 3)"
   ]
  },
  {
   "cell_type": "code",
   "execution_count": null,
   "id": "0034852e-137f-4fad-bf7e-02d50bc19985",
   "metadata": {},
   "outputs": [],
   "source": [
    "And(1, 3) == (1 and 3)"
   ]
  },
  {
   "cell_type": "code",
   "execution_count": null,
   "id": "73bcd25a-b19c-40e7-b9ce-e3cef3add98a",
   "metadata": {},
   "outputs": [],
   "source": [
    "And(1, 5) == (1 and 5)"
   ]
  },
  {
   "cell_type": "code",
   "execution_count": null,
   "id": "7c536eb9-3d54-4b1f-aaa4-c3fcb207e520",
   "metadata": {},
   "outputs": [],
   "source": [
    "And(3, 1) == (3 and 1)"
   ]
  },
  {
   "cell_type": "code",
   "execution_count": null,
   "id": "396e0ea7-83a4-47c1-b123-c496db6b6e0e",
   "metadata": {},
   "outputs": [],
   "source": [
    "And(3, 5) == (3 and 5)"
   ]
  },
  {
   "cell_type": "code",
   "execution_count": null,
   "id": "0c382f79-cbba-4204-9e5d-d99cd732f1b0",
   "metadata": {},
   "outputs": [],
   "source": [
    "And(-1, 3) == (-1 and 3)"
   ]
  },
  {
   "cell_type": "code",
   "execution_count": null,
   "id": "2cd7d667-2017-4b71-bc8a-d5fa271b05fd",
   "metadata": {},
   "outputs": [],
   "source": [
    "And(3.4, 5.6) == (3.4 and 5.6)"
   ]
  },
  {
   "cell_type": "code",
   "execution_count": null,
   "id": "e0201a55-10bf-4934-9673-f14ae015ba3f",
   "metadata": {},
   "outputs": [],
   "source": [
    "And(False, 4) == (False and 4)"
   ]
  },
  {
   "cell_type": "code",
   "execution_count": null,
   "id": "8f278a1e-4667-4636-bc58-0684f1688baf",
   "metadata": {},
   "outputs": [],
   "source": [
    "And(3, True) == (3 and True)"
   ]
  },
  {
   "cell_type": "code",
   "execution_count": null,
   "id": "c76fb3c5-529e-4523-b54c-f6d1fa421214",
   "metadata": {},
   "outputs": [],
   "source": [
    "# Perform similar tests for Python's logical 'or' and 'not' operators."
   ]
  },
  {
   "cell_type": "code",
   "execution_count": null,
   "id": "3da69240-8b96-49b9-bed2-2fd1959e6654",
   "metadata": {},
   "outputs": [],
   "source": [
    " 0 or 5"
   ]
  },
  {
   "cell_type": "code",
   "execution_count": null,
   "id": "501d828a-a49e-4478-8a79-ab74a3feaa3e",
   "metadata": {},
   "outputs": [],
   "source": [
    "0 or 3"
   ]
  },
  {
   "cell_type": "code",
   "execution_count": null,
   "id": "9706837f-3175-4d46-a615-2a7e85c39398",
   "metadata": {},
   "outputs": [],
   "source": [
    "1 or 3"
   ]
  },
  {
   "cell_type": "code",
   "execution_count": null,
   "id": "3fa726ef-bd55-4482-ab37-3baeb4cc6544",
   "metadata": {},
   "outputs": [],
   "source": [
    "1 or 5"
   ]
  },
  {
   "cell_type": "code",
   "execution_count": null,
   "id": "8c0e4bc0-aa9d-4751-9ace-42e11d2ec08a",
   "metadata": {},
   "outputs": [],
   "source": [
    "3 or 1"
   ]
  },
  {
   "cell_type": "code",
   "execution_count": null,
   "id": "17db18b8-5ba4-4188-bf29-adbd505ac845",
   "metadata": {},
   "outputs": [],
   "source": [
    "3 or 5"
   ]
  },
  {
   "cell_type": "code",
   "execution_count": null,
   "id": "70b6d486-7b11-408b-8092-4f7b816fa36d",
   "metadata": {},
   "outputs": [],
   "source": [
    "-1 or 3"
   ]
  },
  {
   "cell_type": "code",
   "execution_count": null,
   "id": "fa18b210-e208-46c9-80d4-c2f67d1fb411",
   "metadata": {},
   "outputs": [],
   "source": [
    "3.4 or 5.6"
   ]
  },
  {
   "cell_type": "code",
   "execution_count": null,
   "id": "0c315d7d-1d66-4cc9-9417-3a7c795c125c",
   "metadata": {},
   "outputs": [],
   "source": [
    "False or 4"
   ]
  },
  {
   "cell_type": "code",
   "execution_count": null,
   "id": "4b199c2d-20f2-4b2a-8f9e-409982a9c98f",
   "metadata": {},
   "outputs": [],
   "source": [
    "3 or True"
   ]
  },
  {
   "cell_type": "code",
   "execution_count": null,
   "id": "61bd25cb-2027-4899-a9fd-ec35ee019720",
   "metadata": {},
   "outputs": [],
   "source": [
    "not 2"
   ]
  },
  {
   "cell_type": "code",
   "execution_count": null,
   "id": "d1838e47-394e-4f4d-a312-06a5dd9062ce",
   "metadata": {},
   "outputs": [],
   "source": [
    "not -3"
   ]
  },
  {
   "cell_type": "code",
   "execution_count": null,
   "id": "8a6ccdee-8ba7-496e-a2a0-1697af95bc32",
   "metadata": {},
   "outputs": [],
   "source": [
    "# What pattern do you observe?\n",
    "\n",
    "# Answer: if the first value is considered true then the result will be the first value, otherwise the result is the second value"
   ]
  },
  {
   "cell_type": "code",
   "execution_count": null,
   "id": "58ac9e32-af29-4513-a4e8-738bb06b2e5b",
   "metadata": {},
   "outputs": [],
   "source": [
    "# Write a function that takes two numbers A and B as parameters and returns the equivalent of the Python or operator\n",
    "def Or(A, B) :\n",
    "    if A :\n",
    "        return A\n",
    "    else :\n",
    "        return B"
   ]
  },
  {
   "cell_type": "code",
   "execution_count": null,
   "id": "fdb676e2-5d96-426c-b248-da92ff820722",
   "metadata": {},
   "outputs": [],
   "source": [
    "# Test that it works as expected"
   ]
  },
  {
   "cell_type": "code",
   "execution_count": null,
   "id": "7916b0e0-7043-43f8-98db-b479d2207178",
   "metadata": {},
   "outputs": [],
   "source": [
    "Or(0, 5) == (0 or 5)"
   ]
  },
  {
   "cell_type": "code",
   "execution_count": null,
   "id": "921eacb2-c0d0-4920-b8a8-c9821c3bb2de",
   "metadata": {},
   "outputs": [],
   "source": [
    "Or(0, 3) == (0 or 3)"
   ]
  },
  {
   "cell_type": "code",
   "execution_count": null,
   "id": "f1c2ae02-459a-410a-9ef3-a956368333a4",
   "metadata": {},
   "outputs": [],
   "source": [
    "Or(1, 3) == (1 or 3)"
   ]
  },
  {
   "cell_type": "code",
   "execution_count": null,
   "id": "6df0062f-7f8c-4540-be4d-06ec4884b3cd",
   "metadata": {},
   "outputs": [],
   "source": [
    "Or(1, 5) == (1 or 5)"
   ]
  },
  {
   "cell_type": "code",
   "execution_count": null,
   "id": "3335bbad-94ea-4830-ba3a-ba4806c91653",
   "metadata": {},
   "outputs": [],
   "source": [
    "Or(3, 1) == (3 or 1)"
   ]
  },
  {
   "cell_type": "code",
   "execution_count": null,
   "id": "308e49c6-965f-4fc2-8222-a22b38876169",
   "metadata": {},
   "outputs": [],
   "source": [
    "Or(3, 5) == (3 or 5)"
   ]
  },
  {
   "cell_type": "code",
   "execution_count": null,
   "id": "972572a0-210f-4c00-b02d-7bc8605f4727",
   "metadata": {},
   "outputs": [],
   "source": [
    "Or(-1, 3) == (-1 or 3)"
   ]
  },
  {
   "cell_type": "code",
   "execution_count": null,
   "id": "fbd88899-288b-42e5-bd45-0b30f84bd832",
   "metadata": {},
   "outputs": [],
   "source": [
    "Or(3.4, 5.6) == (3.4 or 5.6)"
   ]
  },
  {
   "cell_type": "code",
   "execution_count": null,
   "id": "1f668934-26e1-4ae6-bdbe-996459611776",
   "metadata": {},
   "outputs": [],
   "source": [
    "Or(False, 4) == (False or 4)"
   ]
  },
  {
   "cell_type": "code",
   "execution_count": null,
   "id": "ccafde1b-1594-47e9-a6c0-b2f31bd2f88d",
   "metadata": {},
   "outputs": [],
   "source": [
    "Or(3, True) == (3 or True)"
   ]
  },
  {
   "cell_type": "code",
   "execution_count": null,
   "id": "87f888cd-32eb-4858-a8db-45beeec18afd",
   "metadata": {},
   "outputs": [],
   "source": [
    "# Write a function that takes a number A as a parameter and returns the equivalent of the Python not operator\n",
    "def Not(A) :\n",
    "    if A :\n",
    "        return False\n",
    "    else :\n",
    "        return True"
   ]
  },
  {
   "cell_type": "code",
   "execution_count": null,
   "id": "f8cc7768-f2c8-43cb-aaa5-ee4aa2304bcb",
   "metadata": {},
   "outputs": [],
   "source": [
    "# Test that it works as expected"
   ]
  },
  {
   "cell_type": "code",
   "execution_count": null,
   "id": "1032224b-7f28-4be1-9e5d-aaff540fdb12",
   "metadata": {},
   "outputs": [],
   "source": [
    "Not(2) == (not 2)"
   ]
  },
  {
   "cell_type": "code",
   "execution_count": null,
   "id": "41f11fbf-290f-41a7-8395-8a455736be2a",
   "metadata": {},
   "outputs": [],
   "source": [
    "Not(0) == (not 0)"
   ]
  },
  {
   "cell_type": "code",
   "execution_count": null,
   "id": "10d19ca9-3154-41d0-a3f6-30caee2e7159",
   "metadata": {},
   "outputs": [],
   "source": [
    "Not(-3) == (not -3)"
   ]
  },
  {
   "cell_type": "markdown",
   "id": "b95f5117-9eaf-4737-9842-248b1bd57c73",
   "metadata": {},
   "source": [
    "# Electronic circuits\n",
    "\n",
    "Consider the following simple electronic circuit:\n",
    "\n",
    "<img src=\"data:image/jpeg;base64,/9j/4AAQSkZJRgABAQAAAQABAAD/2wDEAAYGBgYHBgcICAcKCwoLCg8ODAwODxYQERAREBYiFRkVFRkVIh4kHhweJB42KiYmKjY+NDI0PkxERExfWl98fKcRAA0ADQANAA0ADgANAA4AEAAQAA4AFAAWABMAFgAUAB4AGwAZABkAGwAeAC0AIAAiACAAIgAgAC0ARAAqADIAKgAqADIAKgBEADwASQA7ADcAOwBJADwAbABVAEsASwBVAGwAfQBpAGMAaQB9AJcAhwCHAJcAvgC1AL4A+QD5AU7/wgARCAFuAfwDASIAAhEBAxEB/8QAHQABAAMBAAMBAQAAAAAAAAAAAAUGBwgBAwQCCf/aAAgBAQAAAADqkAAAAAAAAAAAAAAAAAAAAAAAAAAAAAAAAAAAAAAAAAAAAAAAAAAAAAAAAAAAAAAAAAAAAAAAAAAAQPNV8AAAAAAAyns0AAEDUtLAAAAAAAwjdwAAQNS0sAAAAAADCd2AABA1LSwAAAAAAMI3cAAEDUtLAAAAAAAwndgAAQNS0sAAAAAADCN3AABA1LSwAAAAAAOUdV1kACv0wr0BoAus8AAAAABCfzHkf6hAAR3wgH3SIAAAAADmeidpgAEAHvmAAAAAAAUutayAAoUSJ66is/dFJP8AMx7AAAACL+/4JPzzl0P7gAjvhAE/RaVC/e/e6fsAAADCoSRr0ptNjgMs3IAIGlAEpf3gfD94AAAD8jy8ufd3+sAAAAAAAAABFYtvwAMwqzKtWmdeAAAAAAHp4Yn+zmdaKAAYTuwAAAAAAIv+aMt/SwAAGE7sAAAAAABm0RsAAAMJ3YAAAAAACBqWlgAAwndgAAAAAAIGpaWAADCd2AAADwDyAAgalpYAAMJ3YAAAeM9tMBLRdioug/cACBqWlgAAwndgAAAw6r2a6UTyvt8ABA1LSwAAYTuwAAAeIaZPLx5ABA1LSwAAYTuwAAAMvqR6tjnwAIGpaWAADCd2AAAEdyR0ldhi3q24AEDUtLAABhO7AAAHp5x2/Iugh6eYbluQAQNS0sAAGE7sAAAYfqk5TKBuSO5x6Ox3WZoAQNS0sAAGE7sAAAc9dCmZfJeMB6Y90fju5ACBqWlgAA5TuAAABGdHjnaE6kHK+qgCvWnSwAAAAABz50GUTO2s2Y5r3UAJT6wAAAAABz5vvuzWqbq5t32VyW03EAAAAAAAARWGWj1bKenmjofBujwAAAAAAAAZ3ivVHuFK5R7d9wAAAAAAAAEViz3ej0ze1AAAAAAAAAAAAAAAAAAAAAAAAAAAAAAAAAAAAAAAAAAAAAAAAAAAAAAAAAD/xAAVAQEBAAAAAAAAAAAAAAAAAAAAAf/aAAgBAhAAAAAAAAAAAAAAAAAAAAAAAAAAAAAAAAAAAAAAAAAAAAAAAAAAAAAAAAAAAAAAAAAAAAAAAAAAAAAAAAABKAAAAAAAAAAAAAAAAAAAAAAAAAAAAAAAAAAAAAAAAAAAAA//xAAUAQEAAAAAAAAAAAAAAAAAAAAA/9oACAEDEAAAAAAAAAAAAAAAAAAAAAAAAAAAAAAAAAAAAAAAAAAAAAAAAAAAAAAAAAAAAAAAAAAAAAAAAAAAAAAAAAAAAAAAAAAAAAAAAAAAAAAAAAAAAAAAAAAAAAAAAAAAAAAA/8QANxAAAAUCAwUHBAIBBAMAAAAAAQMEBQYAAgcIVhESFzVRExQxNkBQdRAVMHEgISIWIySAJjJD/9oACAEBAAESAP8AsPtDrW0OtbQ61tDrW0OtbQ61tDrW0OtbQ61tDrW0OtbQ61tDrW0OtbQ61tDrW0OtbQ61tDrW0OtbQ61tDrW0OtbQ61tDrW0OtbQ61tDrW0OtbQ61tDrW0OtbQ61tDrW0OtbQ61tDrW0OtbQ61tDrW0OtbQ61tDrW0OtbQ6+jn/kSWfDLKw8wWi0nhzW8LVznYep7bfsHLZCQDmjzQ5bISAc0eaHLZCQDmjzQ5bISAc0eaHLZCQDmjzQ5bISAc0eaHLZCQDmjzQ5bISAc0eaHLZCQDmjzQ5bISAc0eaHLZCQDmjzQ5bISAc0eaHLZCQDmjzQ5bISAc0eaHLZCQDmjzQ5bISAc0eaHLZCQDmjzQ5bISAc0eaHLZCQDmjzQ5bISAc0eaHLZCQDmjzQ5bISAc0eaHLZCQDmjzQ5bISAc0eaHLZCQDmjzQ5bISAc0eaHLZCQDmjzQ5bISAc0eaHLZCQDmjzQ5bISAc0eaHLZCQDmjzQ5bISAc0eaHLZCQDmjzQ5bISAc0eaHLZCQDmjzQ5bISAc0eaHLZCQDmjzQ5bISAc0eaHLZCQDmjzQ5bISAc0eaHLZCQDmjzQ5bISAc0eaHLZCQDmjzWK+FEehseRuLcrcDTTV9hAgHgHop/5ElnwyysDBDhewftV7ZmU8ktfzJVB4B6Kf8AkSWfDLKwMEOF7B+1XtmZTyS1/MlUHgHop/5ElnwyysDBDhewftV7ZmU8ktfzJVB4B6Kf+RJZ8MsrAwQ4XsH7Ve2ZlPJLX8yVQeAein/kSWfDLKwMEOF7B+1XtmZTyS1/MlUHgHop/wCRJZ8MsrAwQ4XsH7Ve2Y/ThgcEhcaRmXnLEi+w48zD7F9gmJ4IRIvQuIFjcCf8sjlLFGERS14Wd2TmHATbfxswv1ENcbML9RDXGzC/UQ1LMX8Ol8Vf0SV83z1LYpJKtwtxRgjDBWZsc3gSVRAn9qVxswv1ENcbML9RDXGzC/UQ1xswv1ENRyUsMmQGLWZYKkgs4Sb7/ZZKc4ERx7ObgvFaWgUXpgppOcCHVvObgvFaWpKvTAH5XJpa3Uiwhxb0ysq2/ftLGAQTSjNQwCCaUZqGAQTSjNQwCCaUZqGAQTSjNQwCCaUZqGAQTSjNQwCCaUZqGAQTSjNTa0tbURcQ3N6ZIVdeN9xfs05y+2ODgavjStMkA+/beia4jwynsSOkliJUmV74dv8AnWyyKt6oxKuf21OeXs3yQn8E1WzUE/gmq2agn8E1WzUE/gmq2amySxx0OuIbntArOssG8S/4h9AH+/rt9f8A1WIMPSTCMqWwz+j7dpyQzCCZq5CwHoHKy8t0ab7Equ38z7hdA310UuTizierO3O0N4J4X6dGuCeF+nRrgnhfp0a4J4X6dGo5h3DowuMWszX3c+8kSbr/AOEukP8ApxgWOvdu8dgJQdknfmVUmUqSHRGYSm2goNXziKImc92F4SnJCjALG9vnEWclrklSu6UwURNpx15UiYDkBjgW8Ib0hd+5epTSSPKiFJ6d6QGlJ7N88ywy2+22+y8BtuABAfVq3huRr29CoP3FC64y1NYWcSdYF5Rlt9u263b95bvvH2jt/wDm917z2X0l6W/D3EpBMiLbLGh0vBK5UQeQoIJPIOsNKNsC8sz8bk7NbURae4uCZIVdeFlpgT+CarZqCfwTVbNQT+CarZqCfwTVbNQT+CarZqCfwTVbNQT+CarZqCfwTVbNQT+CarZqQyyLOCopKikDYoPM27hVYjs7i9Q5zb0CcD1JokbhTtH5UuPkrilZbE156ZAnKSHQiTKUs1EtrWWd/FsNSFvkTkzmMyAltPJBzvb1ZAusOf3Jklt4Il9ytw7jZbZiIyXnShgSprgttfCwQrirLbbLQtAAAADYAepnDqtQzIi6x0UX2hajApuVPUgQOKtALku3I6tNXqr0Kh7OPg96lwWj96Uuqk4mKrUKVkiCRa8no2wbF/fjHQglXITj0zq6X2kwa45OriCxQuizCrUXjece3pzDLqlUeSSSOubOpHdtVEjaF+B0jVHtq+Jul2xyZDrygs/HI4swyZAWieUYqSCzgOss4J4X6dGuCeF+nRrgnhfp0a4J4X6dGuCeF+nRrgnhfp0a4J4X6dGuCeF+nRrgnhfp0aZMLoIwuidza2cSFRG/2Rv8vtjcK8F4ok4rAL7MFPqv6+uwK2fwxbSr4q/s0+Zrbw3L7EzoWgWpnBCkWpTN9OpJsOJv/LtDrW0OtbQ61tDrW0PbXxmQvjOva1tm8QqJuLvrCV6Oj7w64dul+09AcaYgO/JNcKI7M3UhxcFa8o0pNaQFo5bISAc0eavy2wi0OaPNYT4Tx6ZR1Y4uKxeUaU4XkAA5bISAc0eajOCsVjD8jd0K9yMPTb+4HtCg8hMQceedYUSVZdeYZOMZ5Q/uJoNa5S2t1l4dgVhhjQ9oHRK1yBderbz7wKA/6SiAWPUsjkjTOV6NS23gBv5x8BrLX5JdPmTfa31rF3Y3Zt7Xsu+Ijk/aOrU4M7gpb3BNeQqIv3DSojF3GUvyJqRWX7TLwE430I+A1lr8kunzJvtmJ8UjrvFXxeubCTVaJsUGkKMDUCIjDxpVFJSbD1Hb9ud6EfAay1+SXT5k32yf+RJZ8MsrAwQ4XsH7VeiHwGstfkl0+ZN9sn/kSWfDLKwMEOF7B+1Xoh8BrLX5JdPmTfbJ/wCRJZ8MsrAwQ4XsH7VeiHwGstfkl0+ZN9QTOTThWAW3FB3eQg1jRsij5S0UJryhsVhfZYKdhnTS6rnFAcelSq07kekKTsUpY3+5wBtWWHCkUCSbTDN2t1WOCM85MkUkuahGSR95Z9m37mk2Aq7qInYkFkibvt1tthclBouvQOSByT2qUKwhSQIiAG/kn/kSWfDLKwMEOF7B+1Xoh8BrLX5JdPmTfTjRsQkV3etiHbvzkpxtpYQcn7ki7uSo3Z8Wb3//AEa/gUdut4BeM6ByAYQ1OTTfIUyxFfZac7qVRB4ROSX2ujcLLuArlouNi86Kyi1Qcksab7yhmhbqCpbEJL/yL7GoDhCcA5Wlw1qcUqmRr1iIUf3FyE8pL+Sf+RJZ8MsrAwQ4XsH7VeiHwGstfkl0+ZN9TbHmGxxFytaEQLtoj3r0U/8AIks+GWVgYIcL2D9qvRD4DWWvyS6fMm+plWL0KjJ4pj1l6tUF+7eQE3xodx7dlgBKUi3/AAus+wZiNaM9d2zDM2xR3xnet8Nzu12Mcojd5JMxg6lMAXjYctj0qjskSipaHMlVZb/7h+Wf+RJZ8MsrAwQ4XsH7VeiHwGstfkl0+ZN9O6uzezt6lwcFNhCUizfNNkmIj5NnRvbz1p0cja84+whbDoBGogl7NsS7xw72+s/hLcG2xaeDlFz/ALE6lb42GQvEl6KebIrOUdiF1GwsUh/5J/5ElnwyysDBDhewftV6IfAay1+SXT5k30yg8hMQceedYUSVYN5hiVKvxfkJ6tWfuRJrW3FkEP8AEWB/YLmRYisBIFloEhhxJnCKvyqBydXeG5eAMin+Cg8hMQceedYUSVYN5hj3Y440PfdmuyxHH2y+8Ac8Lpe6IHM+ASKwkHBsJCxIf+Of+RJZ8MsrAwQ4XsH7VeiHwGstfkl0+ZN9NjPIDwRtcSblFli99UlkCMdYG+OMqJoQW3gnTWCFn0nkFZpkziiWBuHl7RSqsJ527HKlkRlY9k8oP6JH6Ors3s7epcHBTYQlIs3zTf8AzXF5d/8AZrhwnU1NLezt6Zvb01hCUizcKKxnZr0BTdOmy/ccmY4gL6jj2Q/MDU6khYAK01ho2fin/kSWfDLKwMEOF7B+1Xoh8BrLX5JdPmTfTNZd79j67rBOvOTsiACyDPriZh8RKG3v6HfIfEFnaIFOFM/PlDae3u42EvjfeJakiTydoi7Oc6Oh+4TZ/VtrIhkuMC4hzfy+5RlIdcJCNOQQmIJIIJsKJKsCwsunZuIdGlxbjxvApWmNIMuwAXKRiC9qWGiB7a5nFd1/FP8AyJLPhllYGCHC9g/ar0Q+FQprxyhjWe3tsUQmkmqRPEQkGYjRbPQSDMRotnoJBmI0Wz0EgzEaLZ6CQZiNFs9BIMxGi2egkGYjRbPQSDMRotnoJBmI0Wz0EgzEaLZ6CQZiNFs9BIMxGi2egkGYjRbPQSDMRotnoJBmI0Wz0EgzEaLZ6CQZiNFs9BIMxGi2egkGYjRbPQSDMRotnoJBmI0Wz1gWY4myLEcxxJsJW3ryRVFfwxvb2dl7hLELj9ukRR1oEVAUZ2Kr0ZIpQrTHENl4FENH8ILOIzE5vib96cO7d6eL+xrjZhfqIa42YX6iGuNmF+ohrjZhfqIa42YX6iGuNmF+ohrjZhfqIa42YX6iGuNmF+ohrjZhfqIalmL+HS+Kv6JK+b56lsUklW4GCHC9g/ar2mFHkMeNc6ZLDrAJcLLVe36zjEFhhzeacrOsMWbgCQhieHC6SrrpXPiu3WH7gpG3EeJL40tNn8UESFhH+TikiUpbpSwonVFfZ/u2ABxX0GsF2Fkk6GTSJ4akatUteTd6wYBBNKM1DAIJpRmoYBBNKM1DAIJpRmoYBBNKM1DAIJpRmoYBBNKM1DAIJpRmoYBBNKM1DAIJpRmoYBBNKM1IUCFvSlpUSQlOns27hPtGLqdZH5dEpwlKVXkIrwTuF6c8hSQSeQdYaUbYF5ZlYiYhpokmJSpSe+PSzZahQwbClUQ7hKpar7+9G7DgJ+kzZF2FrwEujNm1qVHWlubWxvKF8Z0Loiv3iFRNpln0xnlZDBCVpADZcqc7L0ZNkBYL47DmNrMC+00pMAnW+6PjMhfGde1rbN4hUTcXfWFsiVRBddAJMAp1Nhw3Nh+ImIilsVExqNE98kSzZbZZhphqey3i/wAiPvWyA+z+zfqeQQpIOIPJsNKNsGwwt0BdgxISVKHtlUWdDh7VGufGhAz3vCleTYgtIA4VMNRLJ/P75wtQ3lM6OzsWkv3bE2Eky+MKk5aey5wIsE1AZh85WYdSla3zBpvJWuKkwAfyDyFJBJ5B1hpRtgXlmfwnjzEG2PLS5LeTelPJuDusOh79NVadntUuxERIUqFaW9OQQmIJIIJsKJKstsLL93eWNnfEN6JzQEqiB27LF+F0sjHelWH0iOT2X791zZxIxUaP9h5w2OVHj/mF4Zk4SAcrea49onH/AGY7E3lyVh/neSY+Y5ya8kWtjTMCQ2/badE8G2xEdc5Sg/766m7g3Ge+bA6f9Hv/xAA6EAACAQMBBQYEBQIFBQAAAAABAgMAERIEExQx0tMhQFBRg4QQIDBxIkFCkpMyYjNygLPCI0Nhc7H/2gAIAQEAEz8A/wBY3omoZIwgwlZBxQ1tYenW1h6dbWHp1tYenW1h6dbWHp1tYenW1h6dbWHp1tYenW1h6dbWHp1tYenW1h6dbWHp1tYenW1h6dbWHp1tYenW1h6dbWHp1tYenW1h6dbWHp1tYenW1h6dbWHp1tYenW1h6dbWHp1tYenW1h6dbWHp1tYenW1h6dbWHp1tYenW1h6dbWHp1tYenW1h6dbWHp1tYenU7oUxKO/BEHc/RNe4fwz0ZO5+ia9w/hnoydz9E17h/DPRk7n6Jr3D+GejJ3P0TXuH8M9GTufomvcP4YtjChVHQx3451IwdJP/AFP9bB5LuQWAsgJ4Ct01HJW6ajkrdNRyVu84u7xkAXKVsJntnM78USt01HJW6ajkrdNRyVumo5KweOzgBiLOAeB8GRM22wQlLLY5G/wRM2MwYFLLY5G/1p4llUMBbIBwRetzh5a3OHlrc4eWtzh5a3OHlrc4eWtzh5a3OHlrc4eWoIliUsRbIhABfweYFYk8zGUB/ZXGLTzBsQ4LlP6LqS7dwm1McbrcXF1Y1vkPNW+Q81b5DzVvkPNUGoSVgoNrkIT4XmUCahQQhawN1p883AFlkkz/AFmxDfX28yXwAQdiOBW96jnre9Rz1veo563vUc9baWS6EhiLOx+XPC+0kCcbHzpJkZIioucyDZbVBKkt5G4IMTxoSrhgRcsDftVf1NSzoYlY2Fi4NqjnjZYl83INlHZQ7QQe+YsczEubdoBAsPOlNxdTiRceRFYt/hZYZXtbj8RYYPLxawX+wSUhDK6sLggjsIP1J5ViUsRfEFyBet8h5q3yHmrfIeat8h5q3yHmrfIeat8h5q3yHmrfIeaodTHI7WFzZVPwLBA2Eque1qlOmlafdpM3kF84wbdiZ1qtXHPNJuj/AIw7ZsAxp5IOOlC5wP8Aiezn9layfR5zDTyBi5XTKsa2FecOldZ8hQ71DqpdJMXaaxaNCjR6gH9You7mfRyyxsiOTxAjd6M7gbKWEvFH9kFJrpYcNan9EMjq14vw3IStrJpp3KyNg8hQRmvNmQEn4dpwcHJHsCL4sAbUXDEwg28zfA/UzeOzgFQboQeBre9Rz1veo563vUc9b3qOet71HPW96jnre9Rz1veo563vUc9beZ7Zgoex3I+fZrtcOOOdr28Dj7BNFfszsh+xY1YjJJBkpsbEeP2BK34MmQIyXiDRKIJYGtJiAP5PqwOirirFuDI1bWHp1tYenUDoFxCI/B0NbWHp1NJGUOaFDwQeEuQqoqi5ZiewADiahfCY2uM5XSp3GenZ2/raR+KfFFJOohD5CK+QxHaw7h6MfheOWG1Qpla4vTcQf/hB4g0FyEMNxnK3AWXufox+GcJUMUbFRktiVBPClQB5cJ5AuZ7n6MfhnomvcP3P0Y/DPRNe4fufox+Geia9w/c/Rj7w+rSK4NryjMC57eyMU06CXJ7YjEm9zT6hTLOITbNUNjQI4j8/PE8AaedTJOIOLqpsa2q9k/DZf5/7eNGewAwzM5utQyLIhtxAK/V9E17h+5+jH3jaJ26RcbyVFNFKHMkmeBCEuJQOxwRWcd91z/xKyjKSxztcWAYsDW1hKxQJIHzIvnkQLAUJohGdMWBNgWzyWjLEMtKqWzosjMiBAmTmIlcnIufq+ia9w/c/Rj7yIEE1yLXztfufomvcP3P0Y+86MCVo+IOZJCggixWtc5EufmM2grBOhVkTH+/hBWlN4izAugivdD/JSdjpckDNGsy3sbX+t6Jr3D9z9GPu7cAOH3JPACjG426AYWma4DLU1m1DhyDiXAFl+XTXjje6YBbIRh90rhHqcvsSubfV9E17h+5+jH3ZyFVFUXLMT2AAcTUbEHWSp+t6jAQwFBZGi/JStTLiJorkKMv9v5XIVUVRcsxPYABxNSwZySzEcE5KRxhNCgBVPuE+p6Jr3D9z9GPu2VsIHcJdsDcBzTtkxJOTMT5kkn4AXeF+XzFTE7XUJzKP3j4twA4fck8AK/AJZxBzfxil4AcfuSeJNF2CSwM9sCF8y9I4kCMw/EmQ4lD2H6fomvcP3P0Y+7RWMaO6BDE/8j/JEcJGZPxiImiMJHVezalDw8nFDteVzwSMfmxqIkb045eDPSAKqKosFUDsAA4D4JYMFlUqSpNxeiAksCNZ7Ov+fL6fomvcP3OeaJjkVC8VmFZp16zTr1mnXrNOvWades069Zp16zTr1mnXrNOvWades069Zp16zTr1mnXrNOvWades069Zp16zTr1mnXpOCTF5sx8qcdWByLUXZGGIvm6Ek4H5dlJJfCaa/wDQDW6ajkrdNRyVumo5K3TUclbpqOSt01HJW6ajkrdNRyVumo5K3TUclbvOLu8ZAFyle4fwmQjavNYTFE/mb5EcCaUtcD7J5vT3WLSxA5KHT/hQQtFqYiRm5H+5QbIwzWu8TXANx8k0KSxRcJTsg4JFzJW5w8tbnDy1ucPLW5w8tbnDy1ucPLW5w8tbnDy1ucPLW5w8tbnDy1CgjRcjc2VbAeExhHCQZ/8AMO4pCGVlYXBBHYQfgoLEljiHcLTAFNNLzJ+1PjYiIcgq4JW/FXxJGS8CPgfKQWke1wbBadgxWaUmSRbp2WDN4rYErfgyZAjJeINf9idJTfBDSgMNKGF83qVzMdMtrYBzxfzb5HAZWVhYgg9hBrtJ00g8mrLJCjcCpXjl+VuNTYXdo+Ukt/4fxewzEg4oDcWEnCpXLxy8DbN/0Em7vSEMrKwuCCOwg/KSDLPj+US3BLA/tqdDYpnhihAwMtIAqoqiwUAdgAHAeMSKDYkFclPFWAPYRWoIeIk9p2RcEZdgUZVoS5iCeRwE9bKHqVgFtFwL/wDS2takq0yBAQRKJOnWpykjSyYFbOTn93/0t//EABURAQEAAAAAAAAAAAAAAAAAAIBR/9oACAECAQE/ABTFv//EABQRAQAAAAAAAAAAAAAAAAAAAJD/2gAIAQMBAT8AOD//2Q==\">\n",
    "\n",
    "When the switch is in the *closed* position the light bulb turns on. When the switch is in the *open* position, the light bulb turns off.\n",
    "\n",
    "Image now that we wish to add a second switch to the circuit ..."
   ]
  },
  {
   "cell_type": "code",
   "execution_count": null,
   "id": "2079ffc6-61d2-48cb-b333-736d6bfceb57",
   "metadata": {},
   "outputs": [],
   "source": [
    "# How would we rearrange the wires and the switches such that the light bulb will turn on only if switch A and switch B is in the closed position?\n",
    "\n",
    "# Answer: arrange the two switches in series."
   ]
  },
  {
   "cell_type": "code",
   "execution_count": null,
   "id": "613409b9-ac15-48bc-8ebc-f7c8f019c263",
   "metadata": {},
   "outputs": [],
   "source": [
    "# How would we rearrange the wires and the switches such that the light bulb will turn on only if switch A or switch B is in the closed position? \n",
    "\n",
    "# Answer: arrange the two switches in parallel."
   ]
  },
  {
   "cell_type": "markdown",
   "id": "0225bfba-ba5d-45d7-97e8-144c63efad14",
   "metadata": {},
   "source": [
    "This demonstrates how electronic computers can perform boolean logic.\n",
    "\n",
    "Each switch can be in one of two positions, which we can think of as *on* and *off* or *1* and *0*.\n",
    "\n",
    "The position or state of a physical light switch can be changed by someone physically pressing on the switch. \n",
    "Such a switch has two terminals: an input terminal (where the current flows from) and an output terminal (where the current flows to, if the switch is closed).\n",
    "\n",
    "In a computer, the switches are electronic, i.e. the state of a switch (either open or closed) is controlled not by someone physically pressing on it, but rather by an electronic input. Such switches have three terminals: an input terminal, an output  terminal and a control terminal. \n",
    "\n",
    "<img src=\"data:image/png;base64,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\">\n",
    "\n",
    "If current flows in to the control terminal, then the switch is closed and current is able to flow from the input terminal to the output terminal. If no current flows to the control terminal then the switch remains in the open position and no current flows from the input terminal to the output terminal. Such an electronic switch is called a ***Transistor*** and is the fundamental building block of electronic computers. \n",
    "\n",
    "Note: this is a very simplified explanation of how a transistor works using non-standard terminology.\n",
    "\n",
    "https://en.wikipedia.org/wiki/Transistor"
   ]
  },
  {
   "cell_type": "markdown",
   "id": "aa11c150-5ae3-4171-b0c4-0098b186c98e",
   "metadata": {},
   "source": [
    "# Digital Arithmetic\n",
    "\n",
    "Boolean operations can be used to implement numeric arithmetic operations such as addition.\n",
    "\n",
    "Consider first how we add together two decimal numbers:\n",
    "\n",
    "<table>\n",
    "    <tr><td style=\"text-align:right\">456</td></tr>\n",
    "    <tr><td style=\"text-align:right\">+729</td></tr>    \n",
    "    <tr><td style=\"text-align:right; border-top:solid\">1185</td></tr>     \n",
    "</table>\n",
    "\n",
    "We work from right to left: \n",
    "- We first calculate 6 + 9 = 15 which gives us 5 and carry the 1.\n",
    "- We then calculate 5 + 2 + 1 (carry) = 8 which gives us 8 with a carry of 0.\n",
    "- We then calculate 4 + 7 + 0 (carry) = 11 which gives us 1 with a carry of 1.\n",
    "\n",
    "So at each stage we are adding 2 digits (between 0 and 9) plus a carry (either 0 or 1) and the result will be a number between 0 and 19 which is then converted into a digit between 0 and 9 plus a carry of either 0 or 1.\n",
    "\n",
    "Now let's do the same thing, but using binary numbers rather than decimal numbers.\n",
    "\n",
    "<table>\n",
    "    <tr><td style=\"text-align:right\">101</td></tr>\n",
    "    <tr><td style=\"text-align:right\">+001</td></tr>    \n",
    "    <tr><td style=\"text-align:right; border-top:solid\">110</td></tr>     \n",
    "</table>\n",
    "\n",
    "We work from right to left: \n",
    "- We first calculate 1 + 1 = 10 which give us 0 and carry the 1.\n",
    "- We then calculate 0 + 0 + 1 (carry) = 1 which gives us 1 with a carry of 0.\n",
    "- We then calculate 1 + 0 + 0 (carry) = 1 which gives us 1 with a carry of 0.\n",
    "\n",
    "So at each stage we are adding 2 binary digits or bits (either 0 or 1) plus a carry bit (either 0 or 1) and the result will be a number between 0 and 3 which is then converted into a bit (either 0 or 1) plus a carry of either 0 or 1."
   ]
  },
  {
   "cell_type": "code",
   "execution_count": null,
   "id": "75df0e21-5960-4318-86d6-193bd7cfaaa0",
   "metadata": {},
   "outputs": [],
   "source": [
    "# Use pencil and paper to add the following binary numbers using the process described above:\n",
    "\n",
    "1011 + 1101\n",
    "\n",
    "# By the way, in Python we can express a number in binary form by adding the prefix 0b or 0B.\n",
    "# We can also output the binary representation of a number by using the bin function:\n",
    "bin(0b1011 + 0b1101)"
   ]
  },
  {
   "cell_type": "markdown",
   "id": "a657f273-866e-4071-b2d2-ea3974c66437",
   "metadata": {},
   "source": [
    "We can create a circuit to implement such a 1-bit adder. \n",
    "\n",
    "We can then chain together a number of such 1-bit adders to create an 32-bit adder or a 64bit adder."
   ]
  },
  {
   "cell_type": "markdown",
   "id": "629640b0-2144-4b6f-b08e-233b2b29f653",
   "metadata": {},
   "source": [
    "In embedded electronics, logic circuits are built using a series of logic gates.\n",
    "\n",
    "Below we see 5 different logic gates. \n",
    "\n",
    "<img src=\"data:image/png;base64,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\">"
   ]
  },
  {
   "cell_type": "code",
   "execution_count": null,
   "id": "deb47eb2-39d7-4705-9943-df99cd3654ab",
   "metadata": {},
   "outputs": [],
   "source": [
    "# Create functions to represent each of the logic gates above\n",
    "# The input to all functions will be integer values of either 0 or 1 and the output will be a integer value of 0 or 1.\n",
    "# Your functions do not need deal with cases where a value other than 0 or 1 is passed in as a parameter."
   ]
  },
  {
   "cell_type": "code",
   "execution_count": null,
   "id": "35142226-dcdc-4cbe-b634-653bfa9817c5",
   "metadata": {},
   "outputs": [],
   "source": [
    "def AND_gate(a, b) :\n",
    "    return a and b"
   ]
  },
  {
   "cell_type": "code",
   "execution_count": null,
   "id": "18835976-42b1-459f-986e-070f83a67c2a",
   "metadata": {},
   "outputs": [],
   "source": [
    "# test all four cases as listed in the table above"
   ]
  },
  {
   "cell_type": "code",
   "execution_count": null,
   "id": "f89b6150-7f72-447a-8176-dcf4b57368ba",
   "metadata": {},
   "outputs": [],
   "source": [
    "AND_gate(0, 0) == 0"
   ]
  },
  {
   "cell_type": "code",
   "execution_count": null,
   "id": "910d3a6e-2c79-4945-88d7-2966fc27ea55",
   "metadata": {},
   "outputs": [],
   "source": [
    "AND_gate(0, 1) == 0"
   ]
  },
  {
   "cell_type": "code",
   "execution_count": null,
   "id": "4675bf3b-50d3-41ce-820a-8eafd85bc782",
   "metadata": {},
   "outputs": [],
   "source": [
    "AND_gate(1, 0) == 0"
   ]
  },
  {
   "cell_type": "code",
   "execution_count": null,
   "id": "6af5550a-2695-4747-a1e8-2f08bf863f1c",
   "metadata": {},
   "outputs": [],
   "source": [
    "AND_gate(1, 1) == 1"
   ]
  },
  {
   "cell_type": "code",
   "execution_count": null,
   "id": "1b5dadff-db98-4a0f-a842-4dff773144b8",
   "metadata": {},
   "outputs": [],
   "source": [
    "def OR_gate(a, b) :\n",
    "    return a or b"
   ]
  },
  {
   "cell_type": "code",
   "execution_count": null,
   "id": "41cc50d7-98fa-4711-9adb-db7c0c152f1c",
   "metadata": {},
   "outputs": [],
   "source": [
    "# test all four cases as listed in the table above"
   ]
  },
  {
   "cell_type": "code",
   "execution_count": null,
   "id": "7057b74b-84a6-4965-b69f-daf90c092fb3",
   "metadata": {},
   "outputs": [],
   "source": [
    "OR_gate(0, 0) == 0"
   ]
  },
  {
   "cell_type": "code",
   "execution_count": null,
   "id": "b4aa008f-d58e-4eb5-82ab-4ee4d3342c68",
   "metadata": {},
   "outputs": [],
   "source": [
    "OR_gate(0, 1) == 1"
   ]
  },
  {
   "cell_type": "code",
   "execution_count": null,
   "id": "0258bb23-cf99-4c52-a779-ed10f51377c4",
   "metadata": {},
   "outputs": [],
   "source": [
    "OR_gate(1, 0) == 1"
   ]
  },
  {
   "cell_type": "code",
   "execution_count": null,
   "id": "ee92d2bf-b28b-4ac8-af87-120d208744de",
   "metadata": {},
   "outputs": [],
   "source": [
    "OR_gate(1, 1) == 1"
   ]
  },
  {
   "cell_type": "code",
   "execution_count": null,
   "id": "1aa552d4-451f-4842-b9ad-741d663dbdce",
   "metadata": {},
   "outputs": [],
   "source": [
    "def NOT_gate(a) :\n",
    "    if a :\n",
    "        return 0\n",
    "    else :\n",
    "        return 1"
   ]
  },
  {
   "cell_type": "code",
   "execution_count": null,
   "id": "75554911-5616-452c-83f9-b0a58c331029",
   "metadata": {},
   "outputs": [],
   "source": [
    "# test both cases as listed in the table above"
   ]
  },
  {
   "cell_type": "code",
   "execution_count": null,
   "id": "f38ac0b8-d0b8-4126-bf32-7b29028e6cb4",
   "metadata": {},
   "outputs": [],
   "source": [
    "NOT_gate(0) == 1"
   ]
  },
  {
   "cell_type": "code",
   "execution_count": null,
   "id": "979072d8-9bfd-4ef1-9a5c-bd92e6aebe9f",
   "metadata": {},
   "outputs": [],
   "source": [
    "NOT_gate(1) == 0"
   ]
  },
  {
   "cell_type": "code",
   "execution_count": null,
   "id": "1895677c-7602-4f6f-8b40-cd7d1b501ced",
   "metadata": {},
   "outputs": [],
   "source": [
    "# NAND is short for Not And\n",
    "def NAND_gate(a, b) :\n",
    "    return NOT_gate(a and b)"
   ]
  },
  {
   "cell_type": "code",
   "execution_count": null,
   "id": "c698771d-c7eb-44f0-a8d3-9ef147bb8f1c",
   "metadata": {},
   "outputs": [],
   "source": [
    "# test all four cases as listed in the table above"
   ]
  },
  {
   "cell_type": "code",
   "execution_count": null,
   "id": "0d8432e4-723c-48af-a688-80922bd39e76",
   "metadata": {},
   "outputs": [],
   "source": [
    "NAND_gate(0, 0) == 1"
   ]
  },
  {
   "cell_type": "code",
   "execution_count": null,
   "id": "814e5c1a-92ab-4784-b64a-f82c2167e4b9",
   "metadata": {},
   "outputs": [],
   "source": [
    "NAND_gate(0, 1) == 1"
   ]
  },
  {
   "cell_type": "code",
   "execution_count": null,
   "id": "eac7520e-e6b8-4211-b07e-5367fb7fe06f",
   "metadata": {},
   "outputs": [],
   "source": [
    "NAND_gate(1, 0) == 1"
   ]
  },
  {
   "cell_type": "code",
   "execution_count": null,
   "id": "b91f8b8c-ab54-4e43-aa64-11dce30232af",
   "metadata": {},
   "outputs": [],
   "source": [
    "NAND_gate(1, 1) == 0"
   ]
  },
  {
   "cell_type": "code",
   "execution_count": null,
   "id": "0e7a7443-da16-4601-9fd4-89c9ac4ad6bb",
   "metadata": {},
   "outputs": [],
   "source": [
    "# NOR is short for Not Or\n",
    "def NOR_gate(a, b) :\n",
    "    return NOT_gate(a or b)"
   ]
  },
  {
   "cell_type": "code",
   "execution_count": null,
   "id": "af834204-0b99-43fc-927e-1f939483c734",
   "metadata": {},
   "outputs": [],
   "source": [
    "# test all four cases as listed in the table above"
   ]
  },
  {
   "cell_type": "code",
   "execution_count": null,
   "id": "9f17634a-bdea-4b9a-a878-ec5f7120749e",
   "metadata": {},
   "outputs": [],
   "source": [
    "NOR_gate(0, 0) == 1"
   ]
  },
  {
   "cell_type": "code",
   "execution_count": null,
   "id": "39c54b9f-f090-48f2-8875-bd860a4d68b6",
   "metadata": {},
   "outputs": [],
   "source": [
    "NOR_gate(0, 1) == 0"
   ]
  },
  {
   "cell_type": "code",
   "execution_count": null,
   "id": "5c235910-6e99-4403-8b2b-c9b06f5f3fb5",
   "metadata": {},
   "outputs": [],
   "source": [
    "NOR_gate(1, 0) == 0"
   ]
  },
  {
   "cell_type": "code",
   "execution_count": null,
   "id": "28ff33c1-d89b-4ea1-beb5-541b8decc3ed",
   "metadata": {},
   "outputs": [],
   "source": [
    "NOR_gate(1, 1) == 0"
   ]
  },
  {
   "cell_type": "markdown",
   "id": "19c80624-19ae-4ffe-85e0-4dffb55acf73",
   "metadata": {},
   "source": [
    "## Universality of NAND and NOR gates\n",
    "\n",
    "One of the nice properties of NAND and NOR gates is that we can build all other gates (AND, OR, NOT) by using a combination of just NOR gates or just NAND gates (none of the other logic gates possess this property).\n",
    "\n",
    "For example, an AND gate can be implemented using 2 NAND_gates as follows:"
   ]
  },
  {
   "cell_type": "code",
   "execution_count": null,
   "id": "4a2762e8-1081-442b-ba9f-a8fa72d15380",
   "metadata": {},
   "outputs": [],
   "source": [
    "def alternative_AND_gate(a, b) :\n",
    "    return NAND_gate(NAND_gate(a, b), 1) \n",
    "\n",
    "# test this implementation still produces the correct results for an AND gate."
   ]
  },
  {
   "cell_type": "code",
   "execution_count": null,
   "id": "40d07366-564e-4ef1-8ebb-0acd21df113d",
   "metadata": {},
   "outputs": [],
   "source": [
    "alternative_AND_gate(0, 0) == AND_gate(0, 0)"
   ]
  },
  {
   "cell_type": "code",
   "execution_count": null,
   "id": "580c12a5-c5c2-4519-b3df-69cc10ebc3c8",
   "metadata": {},
   "outputs": [],
   "source": [
    "alternative_AND_gate(0, 1) == AND_gate(0, 1)"
   ]
  },
  {
   "cell_type": "code",
   "execution_count": null,
   "id": "62d8a169-111e-47c7-aad8-f09f4732ba00",
   "metadata": {},
   "outputs": [],
   "source": [
    "alternative_AND_gate(1, 0) == AND_gate(1, 0)"
   ]
  },
  {
   "cell_type": "code",
   "execution_count": null,
   "id": "c0e07677-e08c-42eb-a6c7-bb175064a563",
   "metadata": {},
   "outputs": [],
   "source": [
    "alternative_AND_gate(1, 1) == AND_gate(1, 1)"
   ]
  },
  {
   "cell_type": "code",
   "execution_count": null,
   "id": "6ad399f1-0ee2-411c-ac03-36114c9060c5",
   "metadata": {},
   "outputs": [],
   "source": [
    "# Perform a Google search  for \"Universality of NAND and NOR gates\" to learn how OR_gate and NOT_gate can be implemented using NAND_gates."
   ]
  },
  {
   "cell_type": "code",
   "execution_count": null,
   "id": "38e5e6c6-dc05-4fa9-96b6-f0dc954481b0",
   "metadata": {},
   "outputs": [],
   "source": [
    "def alternative_OR_gate(a, b) :\n",
    "    return NAND_gate(NAND_gate(a, 1), NAND_gate(b, 1))\n",
    "# test this implementation still produces the correct results for an OR gate."
   ]
  },
  {
   "cell_type": "code",
   "execution_count": null,
   "id": "d5b973ad-387c-4dde-9310-c7728a4e4896",
   "metadata": {},
   "outputs": [],
   "source": [
    "alternative_OR_gate(0, 1) == OR_gate(0, 1)"
   ]
  },
  {
   "cell_type": "code",
   "execution_count": null,
   "id": "58239d55-3509-4412-aeb9-4669964f5a35",
   "metadata": {},
   "outputs": [],
   "source": [
    "alternative_OR_gate(0, 1) == OR_gate(0, 1)"
   ]
  },
  {
   "cell_type": "code",
   "execution_count": null,
   "id": "cde97003-e7f2-4c1c-8172-3e428d620a07",
   "metadata": {},
   "outputs": [],
   "source": [
    "alternative_OR_gate(1, 0) == OR_gate(1, 0)"
   ]
  },
  {
   "cell_type": "code",
   "execution_count": null,
   "id": "ca4a8557-6b01-4854-b3de-800022fae3b9",
   "metadata": {},
   "outputs": [],
   "source": [
    "alternative_OR_gate(1, 1) == OR_gate(1, 1)"
   ]
  },
  {
   "cell_type": "code",
   "execution_count": null,
   "id": "1b54e805-d240-4dd3-8b43-5464306b4a63",
   "metadata": {},
   "outputs": [],
   "source": [
    "def alternative_NOT_gate(a) :\n",
    "    return NAND_gate(a, a)\n",
    "# test this implementation still produces the correct results for an NOT gate."
   ]
  },
  {
   "cell_type": "code",
   "execution_count": null,
   "id": "12c512a0-33f7-46fd-a7cb-5bb84efb46e5",
   "metadata": {},
   "outputs": [],
   "source": [
    "alternative_NOT_gate(0) == NOT_gate(0)"
   ]
  },
  {
   "cell_type": "code",
   "execution_count": null,
   "id": "3ee39801-fa98-430b-aa78-af61700a9da9",
   "metadata": {},
   "outputs": [],
   "source": [
    "alternative_NOT_gate(1) == NOT_gate(1)"
   ]
  },
  {
   "cell_type": "markdown",
   "id": "5359717e-189f-487e-b7a4-824295ffc3ee",
   "metadata": {},
   "source": [
    "# 1-bit numeric addition\n",
    "\n",
    "We can now use the above logic gates to illustrate how a 1-bit adder can be constructed.\n",
    "\n",
    "There are many different ways of doing so using different combinations of logic gates.\n",
    "\n",
    "Start by doing a Google image search for \"full adder using logic gates\".\n",
    "\n",
    "You will come across many equivalent logic gate networks.\n",
    "\n",
    "Choose one of those diagrams and convert it into Python code for a full 1-bit adder\n",
    "(you might also need to add an XOR_gate if your diagram includes that kind of logic gate)."
   ]
  },
  {
   "cell_type": "code",
   "execution_count": null,
   "id": "3d304a48-0f03-4e90-b8f3-7567a87a0fe4",
   "metadata": {},
   "outputs": [],
   "source": [
    "def XOR_gate(a, b) :\n",
    "    return (a or b) and NOT_gate(a and b)"
   ]
  },
  {
   "cell_type": "code",
   "execution_count": null,
   "id": "0bebfd42-d80b-4577-8ef9-ec6a36882233",
   "metadata": {},
   "outputs": [],
   "source": [
    "def full_adder(a, b, c) :\n",
    "    # the inputs a, b and c will each be 0 or 1\n",
    "    # add code here to compute sum and carry bits\n",
    "    out = XOR_gate(a, b)\n",
    "    sum = XOR_gate(out, c)\n",
    "    carry = OR_gate(AND_gate(c, out), AND_gate(a, b))    \n",
    "    print(carry, sum)"
   ]
  },
  {
   "cell_type": "code",
   "execution_count": null,
   "id": "d6cf5e20-fb61-4a32-a720-e46f50a70472",
   "metadata": {},
   "outputs": [],
   "source": [
    "full_adder(0, 0, 0) # 0 + 0 + 0 = decimal 0 (binary 00)"
   ]
  },
  {
   "cell_type": "code",
   "execution_count": null,
   "id": "21b70815-1215-4682-a847-ed161a8c5a9d",
   "metadata": {},
   "outputs": [],
   "source": [
    "full_adder(0, 0, 1) # 0 + 0 + 1 = decimal 1 (binary 01)"
   ]
  },
  {
   "cell_type": "code",
   "execution_count": null,
   "id": "b62e75bf-1497-4d8d-bc6f-6aece3139d03",
   "metadata": {},
   "outputs": [],
   "source": [
    "full_adder(0, 1, 0) # 0 + 1 + 0 = decimal 1 (binary 01)"
   ]
  },
  {
   "cell_type": "code",
   "execution_count": null,
   "id": "6f47dc22-061a-4214-a4d9-593221984c0b",
   "metadata": {},
   "outputs": [],
   "source": [
    "full_adder(0, 1, 1) # 0 + 1 + 1 = decimal 2 (binary 10)"
   ]
  },
  {
   "cell_type": "code",
   "execution_count": null,
   "id": "ff1d3876-5dd8-4cae-9391-099865b95c72",
   "metadata": {},
   "outputs": [],
   "source": [
    "full_adder(1, 0, 0) # 1 + 0 + 0 = decimal 1 (binary 01)"
   ]
  },
  {
   "cell_type": "code",
   "execution_count": null,
   "id": "478d6b88-0a59-4def-b8b9-30e440f13258",
   "metadata": {},
   "outputs": [],
   "source": [
    "full_adder(1, 0, 1) # 1 + 0 + 1 = decimal 2 (binary 10)"
   ]
  },
  {
   "cell_type": "code",
   "execution_count": null,
   "id": "1b80d823-efee-46bb-815e-100f2c34f932",
   "metadata": {},
   "outputs": [],
   "source": [
    "full_adder(1, 1, 0) # 1 + 1 + 0 = decimal 2 (binary 10)"
   ]
  },
  {
   "cell_type": "code",
   "execution_count": null,
   "id": "5a46ba66-979a-46d3-9b7b-966d8dd1ea13",
   "metadata": {},
   "outputs": [],
   "source": [
    "full_adder(1, 1, 1) # 1 + 1 + 1 = decimal 3 (binary 11)"
   ]
  }
 ],
 "metadata": {
  "kernelspec": {
   "display_name": "Python 3 (ipykernel)",
   "language": "python",
   "name": "python3"
  },
  "language_info": {
   "codemirror_mode": {
    "name": "ipython",
    "version": 3
   },
   "file_extension": ".py",
   "mimetype": "text/x-python",
   "name": "python",
   "nbconvert_exporter": "python",
   "pygments_lexer": "ipython3",
   "version": "3.9.7"
  }
 },
 "nbformat": 4,
 "nbformat_minor": 5
}
