{
 "cells": [
  {
   "cell_type": "markdown",
   "id": "353df06d-19d0-4ee9-85bc-8b04db8f2c8c",
   "metadata": {},
   "source": [
    "# EGB103 Assignment 3\n",
    "\n",
    "In this assignment, we continue working with GTFS realtime data from the train system in south east Queensland. There are two different types of GTFS-realtime data transmitted: In assignment 2 we looked at estimated stop arrival and departure times for each trip. The other type of GTFS-realtime data  that we consider in this assignment includes the GPS (Global Positioning System) location of each train during each trip. The csv file contains the following columns:\n",
    "- *timestamp*: the Unix timestamp of when the GPS location was recorded\n",
    "- *line*: the name of the train line that the train is currently on\n",
    "- *trip*: the identifier for the trip\n",
    "- *status*: which is either StoppedAt or InTransitTo (i.e. on it's way to the next station)\n",
    "- *stop*: the name of the train station that the train is  either stopped at on on its way to.\n",
    "- *longitude*: the east-west component of the train's current GPS location\n",
    "- *latitude*: the north-south component of the train's current GPS location\n",
    "- *previous*: the row index of the record corresponding to where this train just came from most recently. The first record for each trip therefore has no previous record. "
   ]
  },
  {
   "cell_type": "code",
   "execution_count": null,
   "id": "d6ad4fde-6021-4785-ad30-bf447ce9f2a6",
   "metadata": {},
   "outputs": [],
   "source": []
  },
  {
   "cell_type": "markdown",
   "id": "4e54eec9-fbf2-4f0a-bc14-4269d0928891",
   "metadata": {},
   "source": [
    "# Integrating/Joining data \n",
    "\n",
    "Often we perform joins between different data frames in order to integrate different but related data. In this assignment, we will use joins in a slightly different manner - we will instead join a data frame with itself!\n",
    "\n",
    "## Task 1:\n",
    "\n",
    "We wish to analyse the *distance* travelled and *speed* of each train during a trip. To do that we need both the GPS location of the train *now* and the GPS location of where it was most recently as captured in the *previous* record for that trip. To do that we are going to join each row in our data frame with the corresponding previous row. To make this joining process a little easier for you, we have provided a column named ``previous`` that contains the row index of the corresponding previous row. From the previous row we are only really interested in the previous timestamp, previous longitude and previous latitude. The resulting join will look something like this:"
   ]
  },
  {
   "cell_type": "code",
   "execution_count": null,
   "id": "710aa264-5c20-4c47-b67e-298d8abe8368",
   "metadata": {},
   "outputs": [],
   "source": []
  },
  {
   "cell_type": "markdown",
   "id": "a5ca20c3-b841-4ff7-8d0b-df069190e2a8",
   "metadata": {},
   "source": [
    "## Task 2: Computing distance and speed\n",
    "\n",
    "Now that we have two different GPS coordinates in each row (the previous location and the current location), we can then compute a new column that contains the distance travelled in km. Use the Haversine distance function from week 9 practical exercises to compute the distance between coordinates. \n",
    "\n",
    "We can similarly compute the time elapsed (in seconds) from the previous timestamp to the current timestamp, and then use that to compute a new column that contains the speed in km/h. The result should look like this:"
   ]
  },
  {
   "cell_type": "code",
   "execution_count": null,
   "id": "e17365cf-e9ce-4ae2-adca-f1c6931aae62",
   "metadata": {},
   "outputs": [],
   "source": []
  },
  {
   "cell_type": "markdown",
   "id": "a2979466-0304-4ec7-8bae-4ef115ad3755",
   "metadata": {},
   "source": [
    "## Task 3:\n",
    "\n",
    "We can then use this new data to compute for example the total distance travelled during trip 23331381-QR 22_23-32616-1R84:"
   ]
  },
  {
   "cell_type": "code",
   "execution_count": null,
   "id": "2b13ed32-8a21-4c68-9e96-acc105a8d7bd",
   "metadata": {},
   "outputs": [],
   "source": []
  },
  {
   "cell_type": "markdown",
   "id": "c3f394f9-50cd-4ebf-a15b-218ae45bb960",
   "metadata": {},
   "source": [
    "## Task 4:\n",
    "\n",
    "Or the average speed on each train line:"
   ]
  },
  {
   "cell_type": "code",
   "execution_count": null,
   "id": "19c439d1-6812-41a4-813e-620284548eb6",
   "metadata": {},
   "outputs": [],
   "source": []
  },
  {
   "cell_type": "markdown",
   "id": "04c2c8d0-e968-4948-beb1-7c797351d064",
   "metadata": {},
   "source": [
    "## Task 5:\n",
    "\n",
    "We can also plot the speed vs time for a trip (23331381-QR 22_23-32616-1R84):"
   ]
  },
  {
   "cell_type": "code",
   "execution_count": null,
   "id": "68bb41e7-5413-499b-b296-b46ae01eab6b",
   "metadata": {},
   "outputs": [],
   "source": []
  },
  {
   "cell_type": "markdown",
   "id": "55a4a518-65a8-4fcf-9fda-6dd26073a076",
   "metadata": {},
   "source": [
    "## Task 6:\n",
    "\n",
    "Does the data in this plot look reasonable? \n",
    "\n",
    "Let's examine the speed data for this trip more closely in tabular format:"
   ]
  },
  {
   "cell_type": "code",
   "execution_count": null,
   "id": "ead7570c-abd6-41d3-9c24-9995c0cc13d7",
   "metadata": {},
   "outputs": [],
   "source": []
  },
  {
   "cell_type": "markdown",
   "id": "26a05831-d9d3-4cc7-bba5-e83f14fe46ae",
   "metadata": {},
   "source": [
    "What are you observations?"
   ]
  },
  {
   "cell_type": "markdown",
   "id": "424f377a-2275-4c76-a22a-37efd39dca8a",
   "metadata": {},
   "source": [
    "<hr/>\n",
    "\n",
    "# Plotting Rail Maps\n",
    "\n",
    "Next we are going to use the GPS locations to create a 2D map of the train network.\n",
    "\n",
    "## Task 7:\n",
    "\n",
    "We start by plotting each of the positions that the train passes through during a trip.\n",
    "\n",
    "For example, trip 23331381-QR 22_23-32616-1R84:"
   ]
  },
  {
   "cell_type": "code",
   "execution_count": null,
   "id": "590c527b-8aa4-4e93-9f1c-5cd716112836",
   "metadata": {},
   "outputs": [],
   "source": []
  },
  {
   "cell_type": "markdown",
   "id": "47d8c62c-2056-4240-9932-57e6a8d265c9",
   "metadata": {},
   "source": [
    "## Task 8:\n",
    "\n",
    "We can also plot just the location of the train stations by considering only those records where the train is stopped at a station.\n",
    "\n",
    "For example, for the same trip:"
   ]
  },
  {
   "cell_type": "code",
   "execution_count": null,
   "id": "a117fc69-dd07-4d5c-884b-cb71bdb0335b",
   "metadata": {},
   "outputs": [],
   "source": []
  },
  {
   "cell_type": "markdown",
   "id": "28ba190c-84bf-4768-8d29-46797c229b59",
   "metadata": {},
   "source": [
    "## Using matplotlib directly\n",
    "\n",
    "The plotting functions within Pandas are implemented with the help of another Python library named matplotlib.pyplot.\n",
    "\n",
    "Normally, we try to avoid using that module directly and instead just perform plot operations on Pandas dataframes.\n",
    "\n",
    "However, occassionally, when we need  more control, we need to use matplotlib directly. One example of this is when we want to draw multiple plots on the same surface, for  example to combine the two plots above into a single plot that shows both the route taken between stations and the location of each station.\n",
    "\n",
    "To do this we use the following Python code:"
   ]
  },
  {
   "cell_type": "code",
   "execution_count": null,
   "id": "ffb741a4-c23f-45c3-99db-ebf535217fdd",
   "metadata": {},
   "outputs": [],
   "source": [
    "import matplotlib.pyplot\n",
    "\n",
    "# create a figure that contains a single subplot\n",
    "figure, axes = matplotlib.pyplot.subplots()\n",
    "  \n",
    "# by using the same axes in each of the following plots, they are drawn on the same surface    \n",
    "dataframe.plot(ax=axes, other parameters)\n",
    "\n",
    "other_dataframe.plot(ax=axes, other parameters)"
   ]
  },
  {
   "cell_type": "markdown",
   "id": "8f0e936b-bc62-4abb-ae1d-fb68f82e87ae",
   "metadata": {},
   "source": [
    "## Task 9:\n",
    "In this way we can combine the above two plots:"
   ]
  },
  {
   "cell_type": "code",
   "execution_count": null,
   "id": "b5994dd8-0ffd-43a4-a8ef-f44ba0106ca6",
   "metadata": {},
   "outputs": [],
   "source": []
  },
  {
   "cell_type": "markdown",
   "id": "609af527-6f84-4857-a349-b2c1464f23a0",
   "metadata": {},
   "source": [
    "## Task 10:\n",
    "\n",
    "Using a for loop we can also annotate each of the stations with a station name (by using the axes.annotate method)"
   ]
  },
  {
   "cell_type": "code",
   "execution_count": null,
   "id": "f50357a7-f74f-4e64-8b88-5cc0fda5ebb2",
   "metadata": {},
   "outputs": [],
   "source": [
    "        "
   ]
  },
  {
   "cell_type": "markdown",
   "id": "52c932fe-f9e4-48fe-ad2b-55da3919e364",
   "metadata": {},
   "source": [
    "## Task 11:\n",
    "\n",
    "Do the same for a couple of other trips. Remember not to repeat yourself!"
   ]
  },
  {
   "cell_type": "code",
   "execution_count": null,
   "id": "6dc3db53-cfc7-4fe7-811e-b6c51066ca83",
   "metadata": {},
   "outputs": [],
   "source": []
  },
  {
   "cell_type": "markdown",
   "id": "8665bcf4-6996-437b-8a18-8e74fab295a4",
   "metadata": {},
   "source": [
    "## Task 12:\n",
    "\n",
    "To draw a map of the entire rail network, we need to plot a trip on each train line. So, we first select one trip for each train line. It doesn't matter which trip we choose, so we will just choose the first trip:"
   ]
  },
  {
   "cell_type": "code",
   "execution_count": null,
   "id": "acf14730-4f51-4837-8ba2-37ad259cf9c9",
   "metadata": {},
   "outputs": [],
   "source": []
  },
  {
   "cell_type": "markdown",
   "id": "db9f0ad2-bb71-4f79-98bf-8fd6a294c787",
   "metadata": {},
   "source": [
    "## Task 13:\n",
    "\n",
    "We can then plot each of those trips on the same map (without stations or station names):"
   ]
  },
  {
   "cell_type": "code",
   "execution_count": null,
   "id": "1a2839ea-60ac-4fa2-b40d-c8fed301e12a",
   "metadata": {},
   "outputs": [],
   "source": []
  },
  {
   "cell_type": "markdown",
   "id": "850814ad-20e5-4f76-98fb-92dbfa79916a",
   "metadata": {},
   "source": [
    "## Task 14:\n",
    "As a final challenge exercise, see if you can generate an animated video of the train moving along the line during a trip.\n",
    "\n",
    "Use the animation/visualization code from assignment 1 as a guide. Most of the *background* of the plot remains constant from one video frame to the next, so the animate function only need to modify the current location of the train."
   ]
  },
  {
   "cell_type": "code",
   "execution_count": null,
   "id": "45bbe630-a296-49d6-b0d8-3c06c25e3cbd",
   "metadata": {},
   "outputs": [],
   "source": []
  },
  {
   "cell_type": "markdown",
   "id": "e262bf7f-2c06-4203-a2b2-85913aee99d2",
   "metadata": {},
   "source": [
    "## Task 15:\n",
    "Do the same for some other trips to demonstrate that you know how to not repeat yourself."
   ]
  },
  {
   "cell_type": "code",
   "execution_count": null,
   "id": "6f149b68-c427-47c7-a645-b9688b721777",
   "metadata": {},
   "outputs": [],
   "source": []
  }
 ],
 "metadata": {
  "kernelspec": {
   "display_name": "Python 3 (ipykernel)",
   "language": "python",
   "name": "python3"
  },
  "language_info": {
   "codemirror_mode": {
    "name": "ipython",
    "version": 3
   },
   "file_extension": ".py",
   "mimetype": "text/x-python",
   "name": "python",
   "nbconvert_exporter": "python",
   "pygments_lexer": "ipython3",
   "version": "3.9.16"
  }
 },
 "nbformat": 4,
 "nbformat_minor": 5
}
