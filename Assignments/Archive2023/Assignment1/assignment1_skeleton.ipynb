{
 "cells": [
  {
   "cell_type": "markdown",
   "id": "4564a06f-9d1a-4e85-8e35-ec78c4f43e6c",
   "metadata": {
    "deletable": false,
    "editable": false
   },
   "source": [
    "# EGB103 Assignment One - Simulating the Hang of Power Line Cables\n",
    "\n",
    "The computer simulation we are going to create is going to involve lots of positions, velocities and forces in 2D space.\n",
    "\n",
    "We therefore start by implementing some functions that will allow us to more easily manipulate such 2D vectors."
   ]
  },
  {
   "cell_type": "markdown",
   "id": "e36455ad-4c10-4e0b-bfb4-e7833b67fd90",
   "metadata": {
    "deletable": false,
    "editable": true
   },
   "source": [
    "<div style=\"background-color: yellow; padding:10px\">\n",
    "    <div style=\"color:#990000\"><b>Assessment Criteria 2e</b> (1 mark total)</div>\n",
    "Insert Markdown here including your name, student number and email address.\n",
    "\n",
    "Also briefly describe any previous programming experience you may have had (if any).\n",
    "</div>"
   ]
  },
  {
   "cell_type": "markdown",
   "id": "623bdaf3-1f0a-47cf-9cee-ce2cb16c6273",
   "metadata": {
    "deletable": false,
    "editable": false
   },
   "source": [
    "# Vector functions\n",
    "\n",
    "We are going to represent two dimensional vectors in Python using tuples.\n",
    "\n",
    "So the vector $\\begin{pmatrix}3.2\\\\-6.9\\end{pmatrix}$ will be represented by the tuple <code>(3.2, -6.9)</code>.\n",
    "\n",
    "2D Vectors can be used to represent positions, velocities and forces in two dimensional space.\n",
    "\n",
    "The first value in the tuple is the x coordinator or horizontal coordinate and the second is the y coordinator or vertical coordinate."
   ]
  },
  {
   "cell_type": "markdown",
   "id": "eb533c6d-774c-460d-8296-798775d86a6b",
   "metadata": {
    "deletable": false,
    "editable": false
   },
   "source": [
    "This next function adds together two vectors:\n",
    "\n",
    "$\\begin{pmatrix}x_1\\\\y_1\\end{pmatrix} +\\begin{pmatrix}x_2\\\\y_2\\end{pmatrix} = \\begin{pmatrix}x_1+x_2\\\\y_1+y_2\\end{pmatrix} $"
   ]
  },
  {
   "cell_type": "code",
   "execution_count": null,
   "id": "8cada1ba-2dc6-4859-8365-3b0f218d6906",
   "metadata": {
    "deletable": false,
    "editable": false
   },
   "outputs": [],
   "source": [
    "# This function has been implemented for you (do not change it!)\n",
    "def vector_sum(vector1, vector2) :\n",
    "    (x1, y1) = vector1 # extract the x,y coordinates of the first vector\n",
    "    (x2, y2) = vector2 # extract the x,y coordinates of the second vector\n",
    "    return (x1 + x2, y1 + y2) # create a new vector by adding together the corresponding coordinates      "
   ]
  },
  {
   "cell_type": "code",
   "execution_count": null,
   "id": "8402ca27-74a5-4173-b610-aa3679500fed",
   "metadata": {
    "deletable": false,
    "editable": false
   },
   "outputs": [],
   "source": [
    "from code_analyser import assert_equal"
   ]
  },
  {
   "cell_type": "code",
   "execution_count": null,
   "id": "e3a68a93-574f-4bd0-8eb0-6d7380bbd9f0",
   "metadata": {
    "deletable": false,
    "editable": false
   },
   "outputs": [],
   "source": [
    "# Some tests to check that vector sum is working correctly ...\n",
    "\n",
    "result = vector_sum((1.3, 5.3), (-9.4,2.3))\n",
    "assert_equal(result, (-8.1, 7.6))"
   ]
  },
  {
   "cell_type": "code",
   "execution_count": null,
   "id": "9a33a683-ed5b-4bc9-a19e-ac7641a265f2",
   "metadata": {
    "deletable": false,
    "editable": false
   },
   "outputs": [],
   "source": [
    "result = vector_sum((1.3, 5.3), (0,0))\n",
    "assert_equal(result, (1.3, 5.3))"
   ]
  },
  {
   "cell_type": "markdown",
   "id": "b74f49d8-35c0-4d7c-b5c3-1427d5a7f613",
   "metadata": {
    "deletable": false,
    "editable": false
   },
   "source": [
    "# Adding force vectors\n",
    "\n",
    "Vectors can be used to represent forces. If more than one individual forces act on a particular object, to determine a single equivalent <a href=\"https://en.wikipedia.org/wiki/Net_force\">Net force</a> we add together the individual force vectors acting on that object.\n",
    "\n",
    "For example, if we have two forces acting on an object, where the first force is $\\begin{pmatrix}3\\\\0\\end{pmatrix}$ (pulling it to the right) and the second force is $\\begin{pmatrix}-2\\\\1\\end{pmatrix}$ (pulling it up and to the left), then the net force will be $\\begin{pmatrix}3\\\\0\\end{pmatrix} + \\begin{pmatrix}-2\\\\-1\\end{pmatrix} = \\begin{pmatrix}1\\\\1\\end{pmatrix}$ (which will pull the object up and to the right).\n",
    "\n",
    "<center>\n",
    "<img style=\"width:50%; height=50%\" src=\"data:image/png;base64,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\" alt=\"\" />"
   ]
  },
  {
   "cell_type": "markdown",
   "id": "8d7805c0-06d8-42dc-b104-8e982cac5ede",
   "metadata": {
    "deletable": false,
    "editable": false
   },
   "source": [
    "Vector difference:\n",
    "\n",
    "$\\begin{pmatrix}x_1\\\\y_1\\end{pmatrix} - \\begin{pmatrix}x_2\\\\y_2\\end{pmatrix} = \\begin{pmatrix}x_1-x_2\\\\y_1-y_2\\end{pmatrix} $"
   ]
  },
  {
   "cell_type": "code",
   "execution_count": null,
   "id": "5f92510f-257e-4552-a1d9-5b1d6728ab0e",
   "metadata": {
    "deletable": false,
    "editable": false
   },
   "outputs": [],
   "source": [
    "# This function has been implemented for you (do not change it!)\n",
    "\n",
    "def vector_difference(vector1, vector2) :\n",
    "    (x1, y1) = vector1\n",
    "    (x2, y2) = vector2\n",
    "    return (x1 - x2, y1 - y2)            "
   ]
  },
  {
   "cell_type": "code",
   "execution_count": null,
   "id": "fccdc515-d976-488d-81b3-bced15ccbb0a",
   "metadata": {
    "deletable": false,
    "editable": false
   },
   "outputs": [],
   "source": [
    "# Some tests to help you check that vector_difference is implemented correctly (don't alter the tests)\n",
    "result = vector_difference((1.3, 5.3), (-9.4,2.3))\n",
    "assert_equal(result, (10.7, 3.0))"
   ]
  },
  {
   "cell_type": "code",
   "execution_count": null,
   "id": "75e9225c-b520-43d9-9eb9-c4f86505f8b9",
   "metadata": {
    "deletable": false,
    "editable": false
   },
   "outputs": [],
   "source": [
    "result = vector_difference((0.8765, -0.342), (0.124,-0.78452))\n",
    "assert_equal(result, (0.7525, 0.44252))"
   ]
  },
  {
   "cell_type": "markdown",
   "id": "9aea0782-4aef-469d-b099-1540a0ba2aa0",
   "metadata": {
    "deletable": false,
    "editable": false
   },
   "source": [
    "# Subtracting position vectors\n",
    "\n",
    "If we have a point at some $(x, y)$ coordinate, then we can represent the position of that point (relative to the origin at coordinate $(0, 0)$) \n",
    "using a *position vector* $\\begin{pmatrix}x\\\\y\\end{pmatrix}$. \n",
    "\n",
    "We can think of such position vectors as starting at the origin $(0, 0)$ and ending at the point $(x, y)$.\n",
    "\n",
    "If we have two points $A = (x_a, y_a)$ and $B = (x_b, y_b)$, then to compute a vector from $A$ to $B$ ($\\vec{AB}$), \n",
    "we subtract the position vector of point $A$ ($\\vec{OA}$) from the position vector of point $B$ ($\\vec{OB}$):\n",
    "    \n",
    "$$\\vec{AB} = \\vec{OB} - \\vec{OA} = \\begin{pmatrix}x_b\\\\y_b\\end{pmatrix} - \\begin{pmatrix}x_a\\\\y_a\\end{pmatrix} = \\begin{pmatrix}x_b-x_a\\\\y_b-y_a\\end{pmatrix}$$\n",
    "\n",
    "<center>\n",
    "<img style=\"width:40%; height:40%\" src=\"data:image/png;base64,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\" alt=\"\" />\n",
    "</center>\n",
    "\n",
    "\n",
    "If we wish to compute the vector in the opposite direction from $B$ to $A$, then $\\vec{BA} = \\vec{OA} - \\vec{OB}$.\n",
    " "
   ]
  },
  {
   "cell_type": "markdown",
   "id": "0da08fd7-03ed-4d23-b7c1-c34293960786",
   "metadata": {
    "deletable": false,
    "editable": false
   },
   "source": [
    "Scale a vector by some scalar multiple. A scalar is just a number (either integer or real) as opposed to a vector or matrix.\n",
    "\n",
    "$\\begin{pmatrix}x\\\\y\\end{pmatrix} s = \\begin{pmatrix}x s\\\\y s\\end{pmatrix} $"
   ]
  },
  {
   "cell_type": "code",
   "execution_count": null,
   "id": "102ac6d0-5f24-4b15-b93f-104485367011",
   "metadata": {
    "deletable": false,
    "editable": false
   },
   "outputs": [],
   "source": [
    "# This function has been implemented for you (do not change it!)\n",
    "\n",
    "def scalar_multiply(vector, scalar) :\n",
    "    (x, y) = vector\n",
    "    return (x * scalar, y * scalar)"
   ]
  },
  {
   "cell_type": "code",
   "execution_count": null,
   "id": "5f0f14d7-36b0-4ae3-8f80-b406f98e4751",
   "metadata": {
    "deletable": false,
    "editable": false
   },
   "outputs": [],
   "source": [
    "result = scalar_multiply((0.8765, -0.342), 1.5)\n",
    "assert_equal(result, (1.31475, -0.513))"
   ]
  },
  {
   "cell_type": "code",
   "execution_count": null,
   "id": "c13d8215-7377-4a1f-9621-bd7acef7253a",
   "metadata": {
    "deletable": false,
    "editable": false
   },
   "outputs": [],
   "source": [
    "result = scalar_multiply((1.3, 5.3), 0)\n",
    "assert_equal(result, (0, 0))"
   ]
  },
  {
   "cell_type": "markdown",
   "id": "c64636a2-f99b-4d5d-97b6-e7c4e936de2a",
   "metadata": {
    "deletable": false,
    "editable": false
   },
   "source": [
    "The division equivalent of scalar multiply.\n",
    "\n",
    "$\\frac{\\vec{v}}{s} = \\vec{v} \\frac{1}{s} $"
   ]
  },
  {
   "cell_type": "code",
   "execution_count": null,
   "id": "adb5b5aa-9878-4757-9ed2-e7972ce2dede",
   "metadata": {
    "deletable": false,
    "editable": false
   },
   "outputs": [],
   "source": [
    "# This function has been implemented for you (do not change it!)\n",
    "\n",
    "def scalar_divide(vector, scalar) :\n",
    "    return scalar_multiply(vector, 1/scalar)   "
   ]
  },
  {
   "cell_type": "code",
   "execution_count": null,
   "id": "920ea308-ed81-4f34-bcb9-06ef07c56249",
   "metadata": {
    "deletable": false,
    "editable": false
   },
   "outputs": [],
   "source": [
    "result = scalar_divide((0.876, -0.342), 0.3)\n",
    "assert_equal(result, (2.92, -1.14))"
   ]
  },
  {
   "cell_type": "code",
   "execution_count": null,
   "id": "6080e584-042a-4ad1-810a-1372a29e4998",
   "metadata": {
    "deletable": false,
    "editable": false
   },
   "outputs": [],
   "source": [
    "result = scalar_divide((0.1, 0), 10)\n",
    "assert_equal(result, (0.01, 0))"
   ]
  },
  {
   "cell_type": "markdown",
   "id": "e7781b0f-fac9-48f2-b27f-c4ad2150adc8",
   "metadata": {
    "deletable": false,
    "editable": false
   },
   "source": [
    "The *magnitude* of a vector is a number representing the length of that vector.\n",
    "\n",
    "$\\left| \\begin{pmatrix}x\\\\y\\end{pmatrix} \\right| = \\sqrt{x^2+y^2} $"
   ]
  },
  {
   "cell_type": "code",
   "execution_count": null,
   "id": "ee449262-b1d0-4a3a-b0c6-72c40cb58845",
   "metadata": {
    "deletable": false,
    "editable": true
   },
   "outputs": [],
   "source": [
    "# You need to implement this function yourself!!! \n",
    "# Use the above examples as a guide\n",
    "       \n",
    "def vector_magnitude(vector) :\n",
    "    return 0 # TODO: replace this dummy placeholder code by your own code to implement this function correctly"
   ]
  },
  {
   "cell_type": "markdown",
   "id": "f380e890-7172-40b3-8c44-789ebec7fdd6",
   "metadata": {
    "deletable": false,
    "editable": false
   },
   "source": [
    "<div style=\"background:#00cc00; padding:10px\">\n",
    "    <div style=\"color:#990000\"><b>Assessment Criteria 1a</b> (1 mark)</div>\n",
    "Pass the following tests in order to get full marks\n",
    "</div>"
   ]
  },
  {
   "cell_type": "code",
   "execution_count": null,
   "id": "13212e2a-af3c-43de-9b97-7f17a1608b1c",
   "metadata": {
    "deletable": false,
    "editable": false
   },
   "outputs": [],
   "source": [
    "result = vector_magnitude((1, 1))\n",
    "assert_equal(result, 1.4142135623730951, 'testa1')"
   ]
  },
  {
   "cell_type": "code",
   "execution_count": null,
   "id": "9a53b7df-975b-4fc4-b1a0-fb086db90025",
   "metadata": {
    "deletable": false,
    "editable": false
   },
   "outputs": [],
   "source": [
    "result = vector_magnitude((-2.4, 4.5))\n",
    "assert_equal(result, 5.1, 'testa2')"
   ]
  },
  {
   "cell_type": "markdown",
   "id": "4248b2b2-f38c-45c4-bd40-d328d810602a",
   "metadata": {
    "deletable": false,
    "editable": false
   },
   "source": [
    "The *norm* of a vector is a vector that is in the same direction as the original vector, but has a magnitude of one.\n",
    "\n",
    "$\\left\\lVert \\vec{v} \\right\\rVert = \\frac{\\vec{v}}{\\left| \\vec{v} \\right|} $\n",
    "\n",
    "A special case is when the magnitude of the vector is zero:\n",
    "\n",
    "$\\left\\lVert \\begin{pmatrix}0\\\\0\\end{pmatrix}  \\right\\rVert = \\begin{pmatrix}0\\\\0\\end{pmatrix} $"
   ]
  },
  {
   "cell_type": "code",
   "execution_count": null,
   "id": "276c69c5-d5b7-44e8-a7d1-34151035552f",
   "metadata": {
    "deletable": false,
    "editable": true
   },
   "outputs": [],
   "source": [
    "# You need to implement this function yourself!!! \n",
    "def vector_norm(vector) :\n",
    "    return (3, 3) # TODO: replace this dummy placeholder code by your own code to implement this function correctly"
   ]
  },
  {
   "cell_type": "markdown",
   "id": "fbbb4187-e833-4410-8886-b29f4c3af73c",
   "metadata": {
    "deletable": false,
    "editable": false
   },
   "source": [
    "<div style=\"background:#00cc00; padding:10px\">\n",
    "    <div style=\"color:#990000\"><b>Assessment Criteria 1b</b> (1 mark)</div>\n",
    "Pass the following tests in order to get full marks\n",
    "</div>"
   ]
  },
  {
   "cell_type": "code",
   "execution_count": null,
   "id": "1ce80cf5-2aeb-4810-9424-b998dfaff185",
   "metadata": {
    "deletable": false,
    "editable": false
   },
   "outputs": [],
   "source": [
    "result = vector_norm((1, 1))\n",
    "assert_equal(result, (0.7071067811865475, 0.7071067811865475), 'testb1')"
   ]
  },
  {
   "cell_type": "code",
   "execution_count": null,
   "id": "4f26dcbd-5ae8-4e43-864b-d6867e385db2",
   "metadata": {
    "deletable": false,
    "editable": false
   },
   "outputs": [],
   "source": [
    "result = vector_norm((-3, 4))\n",
    "assert_equal(result, (-0.6, 0.8), 'testb2')"
   ]
  },
  {
   "cell_type": "code",
   "execution_count": null,
   "id": "99b2420e-9e08-41f5-a775-ad5f80677d16",
   "metadata": {
    "deletable": false,
    "editable": false
   },
   "outputs": [],
   "source": [
    "result = vector_norm((0, 0))\n",
    "assert_equal(result, (0, 0), 'testb3')"
   ]
  },
  {
   "cell_type": "code",
   "execution_count": null,
   "id": "7ed5602c-a514-4884-b918-eca59780ec84",
   "metadata": {
    "deletable": false,
    "editable": false
   },
   "outputs": [],
   "source": [
    "result = vector_norm((1, 1))\n",
    "assert_equal(result, (0.7071067811865475, 0.7071067811865475), 'testb4')"
   ]
  },
  {
   "cell_type": "markdown",
   "id": "1795a324-8eb7-48b8-959c-f312cab07100",
   "metadata": {
    "deletable": false,
    "editable": false
   },
   "source": [
    "To sum a list of vectors:\n",
    "    \n",
    "$\\sum_i v_i = \\left( \\left( \\begin{pmatrix}0\\\\0\\end{pmatrix} + v_0 \\right) + v_1 \\right) + v_2 + \\ldots + v_{n-1}$    "
   ]
  },
  {
   "cell_type": "code",
   "execution_count": null,
   "id": "8eddad78-a48f-4ecd-810b-e2a4db49e071",
   "metadata": {
    "deletable": false,
    "editable": true
   },
   "outputs": [],
   "source": [
    "# You need to implement this function yourself!!! \n",
    "\n",
    "def sum_vectors(list_of_vectors) :\n",
    "    return (3, 4) # TODO: replace this dummy placeholder code by your own code to implement this function correctly"
   ]
  },
  {
   "cell_type": "markdown",
   "id": "740dba97-b99e-434a-8e8e-8ada5a01e17f",
   "metadata": {
    "deletable": false,
    "editable": false
   },
   "source": [
    "<div style=\"background:#00cc00; padding:10px\">\n",
    "    <div style=\"color:#990000\"><b>Assessment Criteria 1c</b> (1 mark)</div>\n",
    "Pass the following tests in order to get full marks\n",
    "</div>"
   ]
  },
  {
   "cell_type": "code",
   "execution_count": null,
   "id": "c5d5da6a-be5d-4523-915d-41179dfefb3b",
   "metadata": {
    "deletable": false,
    "editable": false
   },
   "outputs": [],
   "source": [
    "# Some tests to check that sum_vectors is working correctly ...\n",
    "result = sum_vectors([(0,1), (3,-4), (3,4)])\n",
    "assert_equal(result, (6, 1), 'testc1')"
   ]
  },
  {
   "cell_type": "code",
   "execution_count": null,
   "id": "b51ad268-d5eb-4d46-9b26-1eb82c974211",
   "metadata": {
    "deletable": false,
    "editable": false
   },
   "outputs": [],
   "source": [
    "result = sum_vectors([(0.0, -0.05716666666666667), (-1.3416407864998738e-05, 2.6832815729997476e-05), (0.002508806254068022, -0.0005575125009040045), (-0.010712050667568708, 0.0011902278519520793)])\n",
    "assert_equal(result, (-0.008216660821365684, -0.0565071184998886), 'testc2')"
   ]
  },
  {
   "cell_type": "code",
   "execution_count": null,
   "id": "d510c37e-949b-4569-b3dc-5b68e5c20ada",
   "metadata": {
    "deletable": false,
    "editable": false
   },
   "outputs": [],
   "source": [
    "result = sum_vectors([])\n",
    "assert_equal(result, (0, 0), 'testc3')"
   ]
  },
  {
   "cell_type": "markdown",
   "id": "b004a101-1e7b-4073-b7ac-e75ca8fa2988",
   "metadata": {
    "deletable": false,
    "editable": false
   },
   "source": [
    "## Scaling Vectors\n",
    "\n",
    "Often we need to scale a vector. We are given a vector and need to produce a new vector that is in the same *\"direction\"* as the original vector, but has a different length.\n",
    "\n",
    "To do this we first use the vector norm to compute a new vector in the same direction as the original vector, but with a length of one. \n",
    "We then scale that vector norm to the desired magnitude.\n",
    "\n",
    "For example in the calculation of drag force below, we need to compute $v^2$ where v is a velocity vector.\n",
    "To do so, we compute the direction of the force:<br>\n",
    "<code>direction = vector_norm(velocity)</code>\n",
    "\n",
    "and the desired magnitude of the force:<br>\n",
    "<code>magnitude = vector_magnitude(velocity)**2</code>\n",
    "\n",
    "and then combine them to compute $v^2$:<br>\n",
    "<code>velocity_squared = scalar_multiply(direction, magnitude)</code>\n",
    "\n",
    "If we call <code>scalar_multiply(direction, magnitude)</code> where the magnitude is negative, then we will get a vector in the opposite direction to the original vector.\n"
   ]
  },
  {
   "cell_type": "markdown",
   "id": "9eb4d610-89a4-41d8-ad25-7e7aac2a3a9c",
   "metadata": {
    "deletable": false,
    "editable": false
   },
   "source": [
    "This helper function will display a list of vectors. It can be used to print a list of positions, velocities or forces. This function is only for debugging purposes and should not be used in the final version of your assignment submission"
   ]
  },
  {
   "cell_type": "code",
   "execution_count": null,
   "id": "0cd2f117-d7f3-4cac-a210-1f168235f9e5",
   "metadata": {
    "deletable": false,
    "editable": false
   },
   "outputs": [],
   "source": [
    "# This function has been implemented for you (do not change it!)\n",
    "\n",
    "def print_points(points) :\n",
    "    for (x,y) in points :\n",
    "        print(f'({x:.3f},{y:.3f})', end=' ')\n",
    "    print()    "
   ]
  },
  {
   "cell_type": "code",
   "execution_count": null,
   "id": "31df0797-ca27-465a-a9ad-38bb1eb65403",
   "metadata": {
    "deletable": false,
    "editable": false
   },
   "outputs": [],
   "source": [
    "# Test that print_points is working correctly\n",
    "print_points([(-2.4, 4.5), (-0.6, 0.8), (0.7071067811865475, 0.7071067811865475), (0.876, -0.342)])"
   ]
  },
  {
   "cell_type": "code",
   "execution_count": null,
   "id": "b5eeb533-7aef-47ff-906d-8feb84262d84",
   "metadata": {
    "deletable": false,
    "editable": false
   },
   "outputs": [],
   "source": [
    "# This function has been implemented for you (do not change it!)\n",
    "\n",
    "import matplotlib.pyplot\n",
    "\n",
    "def plot_points(points) :\n",
    "    x_coordinates = [ x for (x,y) in points ]\n",
    "    y_coordinates = [ y for (x,y) in points ]   \n",
    "    matplotlib.pyplot.plot(x_coordinates, y_coordinates, '-o') "
   ]
  },
  {
   "cell_type": "code",
   "execution_count": null,
   "id": "053a1ff3-cef5-4cfe-86ec-9600da950c40",
   "metadata": {
    "deletable": false,
    "editable": false
   },
   "outputs": [],
   "source": [
    "# Test that plot_points is working correctly\n",
    "plot_points([ (-2.4, 4.5), (-0.6, 0.8), (0.7071067811865475, 0.7071067811865475), (0.876, -0.342)])"
   ]
  },
  {
   "cell_type": "markdown",
   "id": "83d5066c-3358-49a3-ba79-f313ad453f98",
   "metadata": {
    "deletable": false,
    "editable": false
   },
   "source": [
    "# Simulating the Hang of Power Line Cables\n",
    "\n",
    "Overhead power lines are suspended between transmission towers. Here we seek to better understand how low they will hang, the shape of the hang and how this depends on physical properties of the cables.\n",
    "\n",
    "We assume that each end of a cable is fixed securely to a transmission tower and so cannot move. We simulate the shape of the cable as it hangs between transmission towers\n",
    "by pretending that the cable is made up of a finite number of particles. Such Finite element analysis (FEA) is commonly applied to create computer models for a huge variety of engineering problems from vibration, heat and fluid flow, car crash simulation and weather modelling. \n",
    "\n",
    "If the entire transmission cable has a mass of M and we divide it into N equal length parts/particles, then each particle will have a mass of $M/N$. \n",
    "Each particle will have a distinct physical location and current velocity. Since the particles of the cable are connected to each other, we model this connection \n",
    "as a set of springs which connect each particle to the particles immediately to its left and right:\n",
    "\n",
    "<center><img src=\"data:image/png;base64,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\" alt=\"\" /></center>\n",
    "\n",
    "The simulation needs to start in some initial state, so we initially position all particles, equally distanced apart, in a straight line between the two fixed attachment points. Note that the tops of the transmission towers to which it is attached, may not necessarily be at the exact same height. We also give each particle an initial velocity of zero (i.e. they are initially artificially suspended and not moving). We then *\"drop\"* the particles, allowing gravity and the force of the springs to take effect. We also account for drag due to wind resistence which will tend to dampen the bouncing of the cable. Eventually the position of each particle will stabilize revealing he natural hang of the cable. This shape is referred to as *Catenary* and occurs commonly in physics and nature. It is similar but different from a Parabola.\n",
    "\n",
    "The simulation needs to compute the forces acting on each particle. Each particle has 4 forces acting on it:\n",
    "- The force exerted on it by the spring connected to the particle to its left\n",
    "- The force exerted on it by the spring connected to the particle to its right\n",
    "- The force of gravity in the downward direction\n",
    "- The drag force due to air resistence of the cable passing through the air.\n",
    "\n",
    "<center><img style=\"width: 50%; height: 50%\" src=\"data:image/png;base64,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\" alt=\"\" /></centre>\n",
    "\n",
    "If we sum these forces we determine the net force acting on each particle and can then use that force to determine the instantaneous acceleration, which changes the particle's velocity and position. The simulation proceeds via a sequence of small simulation steps representing what happens to each particle during a very short time interval. At each time step we recompute forces and update the velocities and positions of all particles. This is referred to as a Discrete Time simulation.\n"
   ]
  },
  {
   "cell_type": "markdown",
   "id": "0c32d812-0af1-4278-955d-0c3ecfe41875",
   "metadata": {
    "deletable": false,
    "editable": false
   },
   "source": [
    "# System Configuration Parameters\n",
    "\n",
    "These parameters represent physical properties of the cable and can be altered to change the behaviour of the simulation"
   ]
  },
  {
   "cell_type": "code",
   "execution_count": null,
   "id": "356f4c5f-104e-4891-800b-7512b46366fb",
   "metadata": {
    "tags": []
   },
   "outputs": [],
   "source": [
    "# Don't change this code, the tests that follow assume these configuration properties (unless otherwise specified)\n",
    "\n",
    "number_of_particles = 12 # divide the cable into a finite number of particles\n",
    "dt = 0.005               # divide time up into small time time slices (seconds per time period)\n",
    "total_mass = 0.07        # total mass for the whole cable measured in kilograms\n",
    "drag_coefficient = 0.1   # movement is dampened by resistance moving though the air\n",
    "spring_constant = 5      # the stiffness of the springs (see Hooke's Law)\n",
    "endpoint_a = (0, 0)      # the two fixed attached end points\n",
    "endpoint_b = (1, -0.2)\n",
    "\n",
    "# derived parameters ...\n",
    "mass = total_mass / number_of_particles\n",
    "total_length = vector_magnitude(vector_difference(endpoint_a, endpoint_b))\n",
    "equilibrium_spring_length = total_length / (number_of_particles - 1)                       "
   ]
  },
  {
   "cell_type": "markdown",
   "id": "bf8409a0-039b-41ef-b5b5-3e6c70d8fde4",
   "metadata": {
    "deletable": false,
    "editable": false
   },
   "source": [
    "# Initial Positions\n",
    "\n",
    "Here we determine the initial position of each section of the cable based on the positions of the attached fixed endpoints.\n",
    "\n",
    "Each point is initially positioined equally distanced from each other, in a straight line between the two fixed endpoints.\n",
    "\n",
    "The initial velocity of each section of the cable is also set to zero."
   ]
  },
  {
   "cell_type": "code",
   "execution_count": null,
   "id": "8c785bfa-bf49-410e-84c1-85f1b2e5368b",
   "metadata": {
    "deletable": false,
    "editable": false
   },
   "outputs": [],
   "source": [
    "# This function has been implemented for you (do not change it!)\n",
    "\n",
    "# Use linear interpolation to find a point between p1 and p2. \n",
    "# posn is assumed to be a fraction between 0 and 1, where posn=0 will give us p1 and posn=1 will give us p2\n",
    "# and a posn of 0.5 will give us the point half way between p1 and p2\n",
    "def interpolate(posn, p1, p2) :\n",
    "    return (posn-1) * p1 + posn * p2\n",
    "\n",
    "# create global variables to represent the current position and velocity of each part of the cable\n",
    "# These positions and velocities will change as the simulation proceeds\n",
    "position = [] \n",
    "velocity = []\n",
    "\n",
    "# This function places each part of the cable at an initial location (in a straight line between the two fixed attachment points)\n",
    "# Don't alter this function, it has been provided for you.\n",
    "# Later we will let gravity and the springs take effect to find how the cable hangs naturally through simulation\n",
    "def initialize_positions() :\n",
    "    \n",
    "    # clear they position of velocity lists of any previous data, so that we can reset them to their initial start positions here\n",
    "    position.clear()\n",
    "    velocity.clear()\n",
    "    \n",
    "    # find the x, y coordinates of each end point\n",
    "    (xa, ya) = endpoint_a\n",
    "    (xb, yb) = endpoint_b\n",
    "\n",
    "    for i in range(number_of_particles) :\n",
    "        # initially position points equally spaced in a straight line between the two fixed attachment end point\n",
    "        position.append((interpolate(i/(number_of_particles-1), xa, xb), interpolate(i/(number_of_particles-1), ya, yb)))\n",
    "        \n",
    "        # the velocity of all points is initially zero (i.e. they are not moving)\n",
    "        velocity.append((0, 0))"
   ]
  },
  {
   "cell_type": "code",
   "execution_count": null,
   "id": "c8377a04-0997-4dd9-aa57-83356ef5fc1e",
   "metadata": {
    "deletable": false,
    "editable": false
   },
   "outputs": [],
   "source": [
    "# Test that initialize_positions is working correctly\n",
    "initialize_positions()\n",
    "\n",
    "plot_points(position)\n",
    "\n",
    "assert_equal(position,[(0.0, -0.0), (0.09090909090909091, -0.018181818181818184), (0.18181818181818182, -0.03636363636363637), (0.2727272727272727, -0.05454545454545454), (0.36363636363636365, -0.07272727272727274), (0.45454545454545453, -0.09090909090909091), (0.5454545454545454, -0.10909090909090909), (0.6363636363636364, -0.1272727272727273), (0.7272727272727273, -0.14545454545454548), (0.8181818181818182, -0.16363636363636366), (0.9090909090909091, -0.18181818181818182), (1.0, -0.2)])\n",
    "assert_equal(velocity, [(0, 0), (0, 0), (0, 0), (0, 0), (0, 0), (0, 0), (0, 0), (0, 0), (0, 0), (0, 0), (0, 0), (0, 0)])       \n",
    "             "
   ]
  },
  {
   "cell_type": "markdown",
   "id": "1d95d7a5-1437-419c-bd41-272b7229754e",
   "metadata": {
    "deletable": false,
    "editable": false
   },
   "source": [
    "# Gravitational Forces\n",
    "\n",
    "Compute the gravitational force acting on a part of the cable, where each part of the cable has the same *mass* (derived in the configurable parameters above).\n",
    "\n",
    "The result will be a force vector (with $x$ and $y$ components), but gravity operates only in the vertical direction.\n",
    "\n",
    "Gravity creates an acceleration of $9.8$ metres per second per second.\n",
    "\n",
    "Newton's second law tells us that $F = m a$ \n",
    "\n",
    "where \n",
    "- $m$ is the mass (measured in kilograms)\n",
    "- $a$ is the acceleration (measured in metres per second per second)"
   ]
  },
  {
   "cell_type": "code",
   "execution_count": null,
   "id": "6cbd9bb5-6de4-4754-94b0-da9801dba4e1",
   "metadata": {
    "deletable": false,
    "editable": true
   },
   "outputs": [],
   "source": [
    "# You need to implement this function yourself!!! \n",
    "\n",
    "def compute_gravitational_force() :\n",
    "    return (0, 0) # TODO: replace this dummy placeholder code by your own code to implement this function correctly"
   ]
  },
  {
   "cell_type": "markdown",
   "id": "eb2d9e25-2906-4d74-8732-0565c67e4048",
   "metadata": {
    "deletable": false,
    "editable": false
   },
   "source": [
    "<div style=\"background:#00cc00; padding:10px\">\n",
    "    <div style=\"color:#990000\"><b>Assessment Criteria 1d</b> (1 mark)</div>\n",
    "Pass the following tests in order to get full marks\n",
    "</div>"
   ]
  },
  {
   "cell_type": "code",
   "execution_count": null,
   "id": "10a39f34-c705-46fd-b2dc-1bfa670490df",
   "metadata": {
    "deletable": false,
    "editable": false
   },
   "outputs": [],
   "source": [
    "# Test that compute_gravitational_force is working correctly ...\n",
    "result1 = compute_gravitational_force()\n",
    "assert_equal(result1, (0, -0.05716666666666667), 'testd1')"
   ]
  },
  {
   "cell_type": "code",
   "execution_count": null,
   "id": "eb675edb-c782-417b-a719-a9c1a3a581b9",
   "metadata": {
    "deletable": false,
    "editable": false
   },
   "outputs": [],
   "source": [
    "# test with a custom configuration (changing the mass of each part of the cable)\n",
    "mass = 1.25\n",
    "\n",
    "result = compute_gravitational_force()\n",
    "assert_equal(result, (0, -12.25), 'testd2')\n",
    "\n",
    "mass = 0.005833333333333334 # restore default configuation so that we don't alter subsequent experiments"
   ]
  },
  {
   "cell_type": "markdown",
   "id": "d55a1711-583c-4e6c-88ba-6318e825ac98",
   "metadata": {
    "deletable": false,
    "editable": false
   },
   "source": [
    "# Drag Forces\n",
    "As the cable moves through the air, it encounters air resistence.\n",
    "\n",
    "This drag will be a force vector (with $x$ and $y$ components) and will be in the opposite direction to the current velocity.\n",
    "\n",
    "The standard drag equation (https://en.wikipedia.org/wiki/Drag_equation) is:\n",
    "\n",
    "$F_D = \\frac{1}{2} \\rho v^2 C_D A$\n",
    "\n",
    "where\n",
    "- $F_d$ is the drag force\n",
    "- $\\rho$ is the mass density of the fluid which is equal to $1.2$ for air (https://en.wikipedia.org/wiki/Density)\n",
    "- $v$ is the velocity\n",
    "- $A$ is the reference area \n",
    "- $C_d$ is the drag coefficient\\\n",
    "\n",
    "The *area* is equal for all parts of the cable, so for simplicity we set the area to $1.0$"
   ]
  },
  {
   "cell_type": "code",
   "execution_count": null,
   "id": "e47e5e5f-89da-47a5-bfa7-3986ec73d9b1",
   "metadata": {
    "deletable": false,
    "editable": false
   },
   "outputs": [],
   "source": [
    "# This function has been implemented for you (do not change it!)\n",
    "\n",
    "def compute_drag_force(velocity) :\n",
    "    density = 1.2 # mass density of air\n",
    "    area    = 1.0\n",
    "    magnitude = 0.5 * density * vector_magnitude(velocity)**2 * drag_coefficient * area\n",
    "    direction = vector_norm(velocity)\n",
    "    return scalar_multiply(direction, - magnitude)"
   ]
  },
  {
   "cell_type": "code",
   "execution_count": null,
   "id": "ae0f90ec-448b-49ea-9222-192527e406d2",
   "metadata": {
    "deletable": false,
    "editable": false
   },
   "outputs": [],
   "source": [
    "# Test that compute_drag_force is working correctly\n",
    "\n",
    "result = compute_drag_force((1, -2))\n",
    "assert_equal(result, (-0.1341640786499874, 0.2683281572999748))"
   ]
  },
  {
   "cell_type": "code",
   "execution_count": null,
   "id": "5d49ed5e-bc1d-433f-8973-f2ff022cc121",
   "metadata": {
    "deletable": false,
    "editable": false
   },
   "outputs": [],
   "source": [
    "result = compute_drag_force((0.015, -0.021))\n",
    "assert_equal(result, (-2.3226278221015095e-05, 3.251678950942114e-05))"
   ]
  },
  {
   "cell_type": "code",
   "execution_count": null,
   "id": "ca848d17-c7b8-4cdd-97b6-56e177f36863",
   "metadata": {
    "deletable": false,
    "editable": false
   },
   "outputs": [],
   "source": [
    "result2 = compute_drag_force((0.01, -0.02))\n",
    "assert_equal(result2, (-1.3416407864998738e-05, 2.6832815729997476e-05))                       "
   ]
  },
  {
   "cell_type": "code",
   "execution_count": null,
   "id": "564b22e1-4c32-4cf2-b7e9-c0c491c42887",
   "metadata": {
    "deletable": false,
    "editable": false
   },
   "outputs": [],
   "source": [
    "drag_coefficient = 1.0 # test with a custom configuration (different drag coefficient)\n",
    "\n",
    "result = compute_drag_force((1, -2))\n",
    "assert_equal(result, (-1.341640786499874, 2.683281572999748))\n",
    "\n",
    "drag_coefficient = 0.1  # restore default configuation so that we don't alter subsequent experiments"
   ]
  },
  {
   "cell_type": "markdown",
   "id": "34dd1d88-3e9d-4bf1-9162-2e7f930d9330",
   "metadata": {
    "deletable": false,
    "editable": false
   },
   "source": [
    "# Spring Forces\n",
    "Here we are given the two end positions of the spring and wish to compute the force that the spring exerts on the part of the cable at this end (the here end).\n",
    "\n",
    "The force is computed using Hooke's law (<a href=\"https://en.wikipedia.org/wiki/Hooke's law\">https://en.wikipedia.org/wiki/Hooke's law</a>):\n",
    "\n",
    "$F_s = k x$<br>\n",
    "where\n",
    "- $k$ is the spring constant\n",
    "- $x$ is the difference betwen the current length of the spring and its equilibrium length\n",
    "\n",
    "It depends on the *\"stiffness\"* of the spring as indicated by the *spring constant* listed above in the configurable parameters section.\n",
    "\n",
    "It also depends on how *far* the spring is either *stretched* or *compressed* compared to it's *equilibrium length*:\n",
    "\n",
    "$x$ = *equilibrium length of spring - current length of spring*\n",
    "\n",
    "The first step is to compute the vector from the position *here* to the position of the *far end* of the spring:\n",
    "\n",
    "<center>\n",
    "<img style=\"width:30%; height:30%\" src=\"data:image/png;base64,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\" alt=\"\" /><centre>\n",
    "\n",
    "This vector gives us both the direction of the force and the current length of the spring.\n",
    "    \n",
    "If the spring is stretched beyond its equilibrium length then it will exert a force towards the other end point.\n",
    "\n",
    "If the spring is compressed to less than its equilibrium length then it will exert a force in the opposite direction.\n",
    "    \n",
    "See discussion on scaling vectors above."
   ]
  },
  {
   "cell_type": "code",
   "execution_count": null,
   "id": "df3a86dc-3d70-4c87-a968-6bd5cd789817",
   "metadata": {
    "deletable": false,
    "editable": true
   },
   "outputs": [],
   "source": [
    "# You need to implement this function yourself!!! \n",
    "\n",
    "def compute_spring_force(position_here, position_other_end) :\n",
    "    return (0, 0) # TODO: replace this dummy placeholder code by your own code to implement this function correctly"
   ]
  },
  {
   "cell_type": "markdown",
   "id": "c41becb9-2fd8-4f8a-be53-bd55df44438b",
   "metadata": {
    "deletable": false,
    "editable": false
   },
   "source": [
    "<div style=\"background:#00cc00; padding:10px\">\n",
    "    <div style=\"color:#990000\"><b>Assessment Criteria 1e</b> (2 marks)</div>\n",
    "Pass the following tests in order to get full marks\n",
    "</div>"
   ]
  },
  {
   "cell_type": "code",
   "execution_count": null,
   "id": "dc0c93b5-f282-4476-ab7e-5178fa29e234",
   "metadata": {
    "deletable": false,
    "editable": false
   },
   "outputs": [],
   "source": [
    "result = compute_spring_force((0.09, -0.02), (0.19, -0.04)) # stretched beyond equilibrium\n",
    "assert_equal(result, (0.04545454545454549, -0.009090909090909097), 'teste1')"
   ]
  },
  {
   "cell_type": "code",
   "execution_count": null,
   "id": "ae13ceaf-46b5-4df5-8c86-eccb029eb161",
   "metadata": {
    "deletable": false,
    "editable": false
   },
   "outputs": [],
   "source": [
    "result3 = compute_spring_force((0.45, -0.09), (0.36, -0.07)) # compressed below equilibrium\n",
    "assert_equal(result3, (0.002508806254068022, -0.0005575125009040045), 'teste2')"
   ]
  },
  {
   "cell_type": "code",
   "execution_count": null,
   "id": "be6bd055-c39d-4195-8fd4-b246b44f33ad",
   "metadata": {
    "deletable": false,
    "editable": false
   },
   "outputs": [],
   "source": [
    "result4 = compute_spring_force((0.45, -0.09), (0.54, -0.10)) # compressed below equilibrium\n",
    "assert_equal(result4, (-0.010712050667568708, 0.0011902278519520793), 'teste3')"
   ]
  },
  {
   "cell_type": "code",
   "execution_count": null,
   "id": "4892c22c-90b0-468e-9d37-67421e57d915",
   "metadata": {
    "deletable": false,
    "editable": false
   },
   "outputs": [],
   "source": [
    "result = compute_spring_force((0.45454545454545453, -0.09090909090909091), (0.5554545454545454, -0.10909090909090909)) # stretched beyond equilibrium\n",
    "assert_equal(result, (0.04834434069600647, -0.00871069201729846), 'teste4')"
   ]
  },
  {
   "cell_type": "code",
   "execution_count": null,
   "id": "6c40449f-70a3-4c33-b6e0-90925bc7d9d0",
   "metadata": {
    "deletable": false,
    "editable": false
   },
   "outputs": [],
   "source": [
    "spring_constant = 1.0 # test using custom spring_constant\n",
    "\n",
    "result = compute_spring_force((0.45454545454545453, -0.09090909090909091), (0.5554545454545454, -0.10909090909090909)) # stretched beyond equilibrium\n",
    "assert_equal(result, (0.009668868139201293, -0.001742138403459692), 'teste5')\n",
    "\n",
    "spring_constant = 5.0  # restore default configuation so that we don't alter subsequent experiments"
   ]
  },
  {
   "cell_type": "markdown",
   "id": "285fd1b5-05b8-4cbe-a287-12aec9b656b0",
   "metadata": {
    "deletable": false,
    "editable": false
   },
   "source": [
    "# Total Force\n",
    "The total force exerted on each part of the cable is the sum of the forces exerted by the springs that connect it to the cable sections to its immediate left and right, plus the force of gravity downwards and the drag force against the direction that it is currently travelling."
   ]
  },
  {
   "cell_type": "code",
   "execution_count": null,
   "id": "24e8bf14-cab2-4535-8877-aa5fb3e311d6",
   "metadata": {
    "deletable": false,
    "editable": false
   },
   "outputs": [],
   "source": [
    "# This function has been implemented for you (do not change it!) \n",
    "\n",
    "def compute_total_force_on_one_part(position_left, position_here, position_right, velocity) :\n",
    "    left_spring_force = compute_spring_force(position_here = position_here, position_other_end = position_left)\n",
    "    right_spring_force = compute_spring_force(position_here = position_here, position_other_end = position_right)\n",
    "    gravitational_force = compute_gravitational_force()\n",
    "    drag_force = compute_drag_force(velocity)\n",
    "    return sum_vectors([left_spring_force, right_spring_force, gravitational_force, drag_force])"
   ]
  },
  {
   "cell_type": "code",
   "execution_count": null,
   "id": "17cc76c3-37c7-4f86-8876-718a929b47ce",
   "metadata": {
    "deletable": false,
    "editable": false
   },
   "outputs": [],
   "source": [
    "# Using individual test results from above\n",
    "print(result1, result2, result3, result4)\n",
    "total = sum_vectors([result1, result2, result3, result4])\n",
    "assert_equal(total, (-0.008216660821365684, -0.0565071184998886))"
   ]
  },
  {
   "cell_type": "code",
   "execution_count": null,
   "id": "22c11586-2185-4f94-a289-45db480f7331",
   "metadata": {
    "deletable": false,
    "editable": false
   },
   "outputs": [],
   "source": [
    "# Test that compute_total_force_on_one_part is working correctly.\n",
    "result = compute_total_force_on_one_part((0.36, -0.07), (0.45, -0.09), (0.54, -0.10), (0.01, -0.02))\n",
    "assert_equal(result, (-0.008216660821365684, -0.0565071184998886))"
   ]
  },
  {
   "cell_type": "code",
   "execution_count": null,
   "id": "161d9c93-afc2-4376-82ce-c04f6e165a27",
   "metadata": {
    "deletable": false,
    "editable": false
   },
   "outputs": [],
   "source": [
    "# test with a custom configuration\n",
    "spring_constant = 10\n",
    "drag_coefficient = 0.47\n",
    "\n",
    "result = compute_total_force_on_one_part((0.6363636363636364, -0.1272727272727273), (0.7272727272727273, -0.14545454545454548), (0.8181818181818182, -0.16363636363636366), (0, 0))\n",
    "assert_equal(result,  (0.0, -0.05716666666666667))\n",
    "\n",
    " # restore default configuation so that we don't alter subsequent experiments\n",
    "spring_constant = 5   \n",
    "drag_coefficient = 0.1 "
   ]
  },
  {
   "cell_type": "markdown",
   "id": "8ce0b986-d9d6-47fb-8aff-5c7b4e5b6305",
   "metadata": {
    "deletable": false,
    "editable": false
   },
   "source": [
    "# New Velocity\n",
    "Using Newton's Second law ($F = m a$) we can first compute the acceleration that results from the given force and the mass of the particle.\n",
    "\n",
    "We can then use that acceleration to compute the new velocity when accelerated for *dt* seconds.\n",
    "\n",
    "$ a = \\frac{\\Delta v}{t}$ \n",
    "\n",
    "Acceleration is the change in velocity divided by the time period (measured in metres per second per second)"
   ]
  },
  {
   "cell_type": "code",
   "execution_count": null,
   "id": "c2914c3f-6adb-4364-89ee-319c6cabf488",
   "metadata": {
    "deletable": false,
    "editable": true
   },
   "outputs": [],
   "source": [
    "# You need to implement this function yourself!!! \n",
    "\n",
    "def compute_new_velocity(old_velocity, force) :\n",
    "    return old_velocity # TODO: replace this dummy placeholder code by your own code to implement this function correctly"
   ]
  },
  {
   "cell_type": "markdown",
   "id": "01361c3b-704f-4cbf-a296-7943b4294980",
   "metadata": {
    "deletable": false,
    "editable": false
   },
   "source": [
    "<div style=\"background:#00cc00; padding:10px\">\n",
    "    <div style=\"color:#990000\"><b>Assessment Criteria 1f</b> (1 mark)</div>\n",
    "Pass the following tests in order to get full marks\n",
    "</div>"
   ]
  },
  {
   "cell_type": "code",
   "execution_count": null,
   "id": "40a4ae98-0671-45ea-aa8f-806974e80d76",
   "metadata": {
    "deletable": false,
    "editable": false
   },
   "outputs": [],
   "source": [
    "result = compute_new_velocity((0, 0), (0.1, -0.2))\n",
    "assert_equal(result, (0.08571428571428572, -0.17142857142857143), 'testf1')"
   ]
  },
  {
   "cell_type": "code",
   "execution_count": null,
   "id": "aa8f597f-3d6b-427d-a85d-00fd66acd58e",
   "metadata": {
    "deletable": false,
    "editable": false
   },
   "outputs": [],
   "source": [
    "result = compute_new_velocity((0.1, -0.2), (0, -0.23))\n",
    "assert_equal(result,(0.1, -0.39714285714285713), 'testf2')"
   ]
  },
  {
   "cell_type": "code",
   "execution_count": null,
   "id": "7da92b31-e2c1-4966-b46f-0494432d1a60",
   "metadata": {
    "deletable": false,
    "editable": false
   },
   "outputs": [],
   "source": [
    "dt = 0.01 # test with a custom configuration\n",
    "\n",
    "result = compute_new_velocity((0.1, -0.2), (0, -0.23))\n",
    "assert_equal(result, (0.1, -0.5942857142857143), 'testf3')\n",
    "\n",
    "dt = 0.005  # restore default configuation so that we don't alter subsequent experiments"
   ]
  },
  {
   "cell_type": "markdown",
   "id": "48a6d4e4-029b-4817-ad23-dbdff2d8b564",
   "metadata": {
    "deletable": false,
    "editable": false
   },
   "source": [
    "# New Position    \n",
    "The new position is determined based on how far we will travel from the old position when travelling at the specified velocity for *dt* seconds.\n",
    "\n",
    "$v = \\frac{\\Delta p}{t}$ \n",
    "\n",
    "Velocity is the change in position divided by the time period (measured in metres per second)."
   ]
  },
  {
   "cell_type": "code",
   "execution_count": null,
   "id": "76d98703-c57f-4936-b8eb-aa2ca50809ff",
   "metadata": {
    "deletable": false,
    "editable": true
   },
   "outputs": [],
   "source": [
    "# You need to implement this function yourself!!! \n",
    "\n",
    "def compute_new_position(old_position, velocity) :\n",
    "    return old_position # TODO: replace this dummy placeholder code by your own code to implement this function correctly"
   ]
  },
  {
   "cell_type": "markdown",
   "id": "5e28e792-0523-4650-9700-3f5f11afdd75",
   "metadata": {
    "deletable": false,
    "editable": false
   },
   "source": [
    "<div style=\"background:#00cc00; padding:10px\">\n",
    "    <div style=\"color:#990000\"><b>Assessment Criteria 1g</b> (1 mark)</div>\n",
    "Pass the following tests in order to get full marks\n",
    "</div>"
   ]
  },
  {
   "cell_type": "code",
   "execution_count": null,
   "id": "c50968ee-6465-45ef-8941-a646b403fee4",
   "metadata": {
    "deletable": false,
    "editable": false
   },
   "outputs": [],
   "source": [
    "result = compute_new_position((0, 0), (0.1, -0.2))\n",
    "assert_equal(result, (0.0005, -0.001), 'testg1')"
   ]
  },
  {
   "cell_type": "code",
   "execution_count": null,
   "id": "f2ae52d6-a7ec-4b70-9060-12b35c536b0e",
   "metadata": {
    "deletable": false,
    "editable": false
   },
   "outputs": [],
   "source": [
    "result = compute_new_position((0.4, -0.3), (0, -0.1))\n",
    "assert_equal(result, (0.4, -0.3005), 'testg2')"
   ]
  },
  {
   "cell_type": "code",
   "execution_count": null,
   "id": "573ad45a-aff9-4175-9fc4-8b30bedf6cda",
   "metadata": {
    "deletable": false,
    "editable": false
   },
   "outputs": [],
   "source": [
    "dt = 0.01 # test with a custom configuration\n",
    "\n",
    "result = compute_new_position((0.4, -0.3), (0, -0.1))\n",
    "assert_equal(result, (0.4, -0.301), 'testg3')\n",
    "\n",
    "dt = 0.005 # restore default configuation so that we don't alter subsequent experiments"
   ]
  },
  {
   "cell_type": "markdown",
   "id": "bb4003be-1605-4d8e-9892-1b59f12041ed",
   "metadata": {
    "deletable": false,
    "editable": false
   },
   "source": [
    "# All Forces\n",
    "\n",
    "Compute the net force acting on each part of the cable based on their current positions and velocities.\n",
    "\n",
    "We ignore the forces acting on the two attached end points (the first and last particles) as they can't move, so we simply treat the force on those particles as (0, 0).\n",
    "\n",
    "The result will be a list of 2D force vectors."
   ]
  },
  {
   "cell_type": "code",
   "execution_count": null,
   "id": "c3737398-a436-4552-bb06-2923d96ee484",
   "metadata": {
    "deletable": false,
    "editable": true
   },
   "outputs": [],
   "source": [
    "# You need to implement this function yourself!!! \n",
    "def compute_forces():\n",
    "    return [] # TODO: replace this dummy placeholder code by your own code to implement this function correctly"
   ]
  },
  {
   "cell_type": "markdown",
   "id": "be9877a7-d1fb-47a8-8643-f412857f5a71",
   "metadata": {
    "deletable": false,
    "editable": false
   },
   "source": [
    "<div style=\"background:#00cc00; padding:10px\">\n",
    "    <div style=\"color:#990000\"><b>Assessment Criteria 1h</b> (2 marks)</div>\n",
    "Pass the following tests in order to get full marks\n",
    "</div>"
   ]
  },
  {
   "cell_type": "code",
   "execution_count": null,
   "id": "70714f7b-0241-4fa2-947a-00825efd2de3",
   "metadata": {
    "deletable": false,
    "editable": false
   },
   "outputs": [],
   "source": [
    "# Test that compute_forces is working correctly\n",
    "\n",
    "# The forces depend on the current position and velocities of all parts of the cable\n",
    "position = [(0.0, -0.0), (0.09090909090909091, -0.018181818181818184), (0.18181818181818182, -0.03636363636363637), (0.2727272727272727, -0.05454545454545454), (0.36363636363636365, -0.07272727272727274), (0.45454545454545453, -0.09090909090909091), (0.5454545454545454, -0.10909090909090909), (0.6363636363636364, -0.1272727272727273), (0.7272727272727273, -0.14545454545454548), (0.8181818181818182, -0.16363636363636366), (0.9090909090909091, -0.18181818181818182), (1.0, -0.2)]\n",
    "velocity = [(0, 0), (0, 0), (0, 0), (0, 0), (0, 0), (0, 0), (0, 0), (0, 0), (0, 0), (0, 0), (0, 0), (0, 0)] \n",
    "\n",
    "forces = compute_forces()\n",
    "\n",
    "assert_equal(forces, [(0, 0), (0.0, -0.05716666666666667), (-1.3608290545681912e-16, -0.05716666666666664), (2.721658109136383e-16, -0.05716666666666673), (-2.721658109136383e-16, -0.057166666666666616), (0.0, -0.05716666666666667), (2.721658109136383e-16, -0.05716666666666673), (0.0, -0.05716666666666667), (0.0, -0.05716666666666667), (-5.443316218272766e-16, -0.05716666666666656), (5.443316218272766e-16, -0.05716666666666678), (0, 0)], 'testh1')"
   ]
  },
  {
   "cell_type": "code",
   "execution_count": null,
   "id": "831e2c22-3c7b-436a-b91f-6046e6d89ef5",
   "metadata": {
    "deletable": false,
    "editable": false
   },
   "outputs": [],
   "source": [
    "# Test with different current positions and velocities.\n",
    "position = [(0.0, -0.0), (0.057640944232208086, -0.14168206602594569), (0.12573749615747115, -0.266995919225775), (0.2093359462435404, -0.371689251312528), (0.30485617003016885, -0.4553017978804889), (0.417426098476755, -0.502108693261341), (0.533557239290024, -0.5272878469583597), (0.6506873191333143, -0.5368812983571859), (0.7658193356968678, -0.5095825098304003), (0.857986740404007, -0.4285707314990119), (0.941281472373802, -0.32738070200847635), (1.0, -0.2)]\n",
    "velocity = [(0, 0), (0.11596734382469494, -0.09776403583634255), (0.015816858551175057, -0.28833719489059095), (0.1381747792616368, -0.30738152887709963), (-0.008771887824062689, -0.5551931395858181), (-0.0960725180196904, -0.8229579930970368), (-0.09331282386993622, -0.8816610286001194), (-0.048422161672488466, -0.7405972729732636), (-0.09437253639773505, -0.3231119034977196), (-0.15028093571462353, -0.16158357719624442), (-0.05546800386007124, -0.09823899379987278), (0, 0)]\n",
    "\n",
    "forces = compute_forces()\n",
    "\n",
    "assert_equal(forces, [(0, 0), (0.004578158418140041, 0.0034864095105795654), (0.009317365778121107, 0.005868858364202638), (-0.00273543340955459, -0.0024654955916574694), (0.006316156190777565, 0.018015681124588415), (-0.0024183780944922323, 0.012133823216248858), (0.0009796583242526625, 0.007279152727627768), (0.0031244542366916767, 0.015488222523271325), (-0.010045440235526263, 0.018841150595713594), (0.011196699833483786, -0.005999734740980093), (-0.021961340513562532, 0.011370888351811386), (0, 0)], 'testh2')"
   ]
  },
  {
   "cell_type": "markdown",
   "id": "0c791fcb-aa8d-4eaf-9d1c-5ca0f421f1a2",
   "metadata": {
    "deletable": false,
    "editable": false
   },
   "source": [
    "# Move all parts of the cable to new locations\n",
    "\n",
    "This function simulates the entire system (all particles) for a single period of *dt* seconds.\n",
    "\n",
    "We first compute the forces acting on each part of the cable based on their current position and velocity.\n",
    "\n",
    "We then apply those forces to compute new velocities and positions for each part of the cable.\n",
    "\n",
    "The first and last points are attached to fixed anchors and so don't/can't move.\n",
    "\n",
    "It is important that we first compute all forces based on the current positions of all points, i.e. before we start updating the velocity or positions of these points.\n",
    "This is because the force depends on the current position and velocity of the points, so if we start updating point positions while we are still computing forces, then we will compute the wrong force results (based on future positions rather than current positions).\n",
    "\n",
    "This function doesn't return a result. Its effect is to update the existing list of velocities and positions at every point (except the first and last). Note we don't create new lists of velocities and positions, we just change the values of the current lists.\n",
    "\n",
    "For example <code>velocity[4] = 3.2</code> would update the velocity of particle 4 to $3.2$ metres per second\n",
    "\n",
    "Hint: use a loop and the functions above."
   ]
  },
  {
   "cell_type": "code",
   "execution_count": null,
   "id": "5255a835-0528-48be-9c81-457f86bb3fea",
   "metadata": {
    "deletable": false,
    "editable": true
   },
   "outputs": [],
   "source": [
    "# You need to implement this function yourself!!! \n",
    "\n",
    "def simulate_one_iteration() : \n",
    "    pass # TODO: replace this dummy placeholder code by your own code to implement this function correctly"
   ]
  },
  {
   "cell_type": "markdown",
   "id": "4efd6f64-4ba9-4fae-85f6-b88b415c78cd",
   "metadata": {
    "deletable": false,
    "editable": false
   },
   "source": [
    "<div style=\"background:#00cc00; padding:10px\">\n",
    "    <div style=\"color:#990000\"><b>Assessment Criteria 1i</b> (2 marks)</div>\n",
    "Pass the following tests in order to get full marks\n",
    "</div>"
   ]
  },
  {
   "cell_type": "code",
   "execution_count": null,
   "id": "e0bcc54d-5bd3-4a9f-8f03-fa43ae89a091",
   "metadata": {
    "deletable": false,
    "editable": false
   },
   "outputs": [],
   "source": [
    "# Test that simulate_one_iteration is working correctly.\n",
    "\n",
    "# Set the current positions and vecolities to use for this test.\n",
    "position = [(0.0, -0.0), (0.09090909090909091, -0.018181818181818184), (0.18181818181818182, -0.03636363636363637), (0.2727272727272727, -0.05454545454545454), (0.36363636363636365, -0.07272727272727274), (0.45454545454545453, -0.09090909090909091), (0.5454545454545454, -0.10909090909090909), (0.6363636363636364, -0.1272727272727273), (0.7272727272727273, -0.14545454545454548), (0.8181818181818182, -0.16363636363636366), (0.9090909090909091, -0.18181818181818182), (1.0, -0.2)]\n",
    "velocity = [(0, 0), (0, 0), (0, 0), (0, 0), (0, 0), (0, 0), (0, 0), (0, 0), (0, 0), (0, 0), (0, 0), (0, 0)] \n",
    "\n",
    "simulate_one_iteration()\n",
    "\n",
    "plot_points(position)\n",
    "\n",
    "# check that the positions ad velocities are changed as they should have after one iteration of simulation\n",
    "assert_equal(position, [(0.0, -0.0), (0.09090909090909091, -0.018426818181818183), (0.18181818181818182, -0.03660863636363637), (0.2727272727272727, -0.054790454545454545), (0.36363636363636365, -0.07297227272727273), (0.45454545454545453, -0.0911540909090909), (0.5454545454545454, -0.10933590909090908), (0.6363636363636364, -0.12751772727272728), (0.7272727272727273, -0.14569954545454547), (0.8181818181818182, -0.16388136363636366), (0.9090909090909091, -0.18206318181818182), (1.0, -0.2)], 'testi1')\n",
    "assert_equal(velocity, [(0, 0), (0.0, -0.049), (-1.1664249039155925e-16, -0.04899999999999998), (2.3328498078311855e-16, -0.04900000000000005), (-2.3328498078311855e-16, -0.04899999999999995), (0.0, -0.049), (2.3328498078311855e-16, -0.04900000000000005), (0.0, -0.049), (0.0, -0.049), (-4.665699615662371e-16, -0.048999999999999905), (4.665699615662371e-16, -0.04900000000000009), (0, 0)], 'testi2')"
   ]
  },
  {
   "cell_type": "code",
   "execution_count": null,
   "id": "9dd4ce2f-0069-419b-86c2-c4f3c34f104a",
   "metadata": {
    "deletable": false,
    "editable": false
   },
   "outputs": [],
   "source": [
    "# Use a different set of current positions and vecolities to use for this second test\n",
    "position = [(0.0, -0.0), (0.09090909090909091, -0.018426818181818183), (0.18181818181818182, -0.03660863636363637), (0.2727272727272727, -0.054790454545454545), (0.36363636363636365, -0.07297227272727273), (0.45454545454545453, -0.0911540909090909), (0.5454545454545454, -0.10933590909090908), (0.6363636363636364, -0.12751772727272728), (0.7272727272727273, -0.14569954545454547), (0.8181818181818182, -0.16388136363636366), (0.9090909090909091, -0.18206318181818182), (1.0, -0.2)]\n",
    "velocity = [(0, 0), (0.0, -0.049), (-1.6329948654818296e-18, -0.049), (3.2659897309636595e-18, -0.049), (-3.2659897309636595e-18, -0.049), (0.0, -0.049), (3.2659897309636595e-18, -0.049), (0.0, -0.049), (0.0, -0.049), (-6.531979461927319e-18, -0.049), (6.531979461927319e-18, -0.049), (0, 0)]\n",
    "\n",
    "simulate_one_iteration()\n",
    "\n",
    "plot_points(position)\n",
    "\n",
    "# check that the positions amd velocities are changed as they should have after one iteration of simulation\n",
    "assert_equal(position, [(0.0, -0.0), (0.09090807528622227, -0.018915994920140823), (0.18181818181818182, -0.03709801896363637), (0.2727272727272727, -0.05527983714545454), (0.36363636363636365, -0.07346165532727274), (0.45454545454545453, -0.09164347350909091), (0.5454545454545454, -0.10982529169090909), (0.6363636363636364, -0.1280071098727273), (0.7272727272727273, -0.14618892805454548), (0.8181818181818182, -0.16437074623636366), (0.9090899055028049, -0.18255236640523093), (1.0, -0.2)], 'testi3')\n",
    "assert_equal(velocity, [(0, 0), (-0.00020312457372868007, -0.09783534766452807), (-1.1827137010998008e-16, -0.09787651999999998), (2.3654274021996015e-16, -0.09787652000000005), (-2.3654274021996015e-16, -0.09787651999999995), (0.0, -0.09787652), (2.3654274021996015e-16, -0.09787652000000005), (0.0, -0.09787652), (0.0, -0.09787652), (-4.730854804399203e-16, -0.09787651999999991), (-0.00020071762083603378, -0.09783691740982095), (0, 0)], 'testi4')"
   ]
  },
  {
   "cell_type": "markdown",
   "id": "2d4b9b5e-024f-4d8e-a96b-3c02192729b1",
   "metadata": {
    "deletable": false,
    "editable": false
   },
   "source": [
    "# Simulate longer time periods\n",
    "\n",
    "We can now call the simulation function multiple times to simulate multiple time steps.\n",
    "\n",
    "Before simulating individual time steps we need to start by positioning the points in their initial positions."
   ]
  },
  {
   "cell_type": "code",
   "execution_count": null,
   "id": "b18ec1d5-6464-419a-9cd3-dc3807d48e0a",
   "metadata": {
    "deletable": false,
    "editable": true
   },
   "outputs": [],
   "source": [
    "# You need to implement this function yourself!!! \n",
    "\n",
    "def simulate_fixed_number_of_timesteps(count) :\n",
    "    pass # TODO: replace this dummy placeholder code by your own code to implement this function correctly"
   ]
  },
  {
   "cell_type": "markdown",
   "id": "196dde40-e214-445c-a1e4-c0292fc50e41",
   "metadata": {
    "deletable": false,
    "editable": false
   },
   "source": [
    "<div style=\"background:#00cc00; padding:10px\">\n",
    "    <div style=\"color:#990000\"><b>Assessment Criteria 1j</b> (1 mark)</div>\n",
    "Pass the following tests in order to get full marks\n",
    "</div>"
   ]
  },
  {
   "cell_type": "code",
   "execution_count": null,
   "id": "d7e98c78-88c7-4003-ad1a-71ce6cfc219a",
   "metadata": {
    "deletable": false,
    "editable": false
   },
   "outputs": [],
   "source": [
    "# Test that simulate_fixed_number_of_timesteps is working correctly\n",
    "simulate_fixed_number_of_timesteps(1)\n",
    "\n",
    "plot_points(position)\n",
    "\n",
    "# check that the positions and velocities are changed as they should have after one iteration of simulation\n",
    "assert_equal(velocity, [(0, 0), (0.0, -0.049), (-1.1664249039155925e-16, -0.04899999999999998), (2.3328498078311855e-16, -0.04900000000000005), (-2.3328498078311855e-16, -0.04899999999999995), (0.0, -0.049), (2.3328498078311855e-16, -0.04900000000000005), (0.0, -0.049), (0.0, -0.049), (-4.665699615662371e-16, -0.048999999999999905), (4.665699615662371e-16, -0.04900000000000009), (0, 0)], 'testj2')"
   ]
  },
  {
   "cell_type": "code",
   "execution_count": null,
   "id": "2bd89f7b-aa8e-42ef-a1ef-b83fb3c221ba",
   "metadata": {
    "deletable": false,
    "editable": false
   },
   "outputs": [],
   "source": [
    "simulate_fixed_number_of_timesteps(2)\n",
    "\n",
    "plot_points(position)\n",
    "\n",
    "# check that the positions and velocities are changed as they should have after one iteration of simulation\n",
    "assert_equal(position, [(0.0, -0.0), (0.09090807528622227, -0.018915994920140823), (0.18181818181818182, -0.03709801896363637), (0.2727272727272727, -0.05527983714545454), (0.36363636363636365, -0.07346165532727274), (0.45454545454545453, -0.09164347350909091), (0.5454545454545454, -0.10982529169090909), (0.6363636363636364, -0.1280071098727273), (0.7272727272727273, -0.14618892805454548), (0.8181818181818182, -0.16437074623636366), (0.9090899055028049, -0.18255236640523093), (1.0, -0.2)], 'testj3')\n",
    "assert_equal(velocity, [(0, 0), (-0.00020312457372868007, -0.09783534766452807), (-2.3299104170733173e-16, -0.09787651999999997), (4.659820834146636e-16, -0.0978765200000001), (-4.659820834146636e-16, -0.09787651999999991), (0.0, -0.09787652), (4.659820834146636e-16, -0.0978765200000001), (0.0, -0.09787652), (0.0, -0.09787652), (-9.319641668293273e-16, -0.0978765199999998), (-0.0002007176208355749, -0.09783691740982103), (0, 0)], 'testj4')"
   ]
  },
  {
   "cell_type": "code",
   "execution_count": null,
   "id": "bb7da19a-bf5a-4147-ba20-43bef6995916",
   "metadata": {
    "deletable": false,
    "editable": false
   },
   "outputs": [],
   "source": [
    "simulate_fixed_number_of_timesteps(5)\n",
    "\n",
    "plot_points(position)\n",
    "\n",
    "# check that the positions and velocities are changed as they should have after one iteration of simulation\n",
    "assert_equal(position,[(0.0, -0.0), (0.09087402910788994, -0.02181869794520351), (0.1818175846442507, -0.040007931310758485), (0.27272726858188895, -0.058189867776636185), (0.3636363636263651, -0.07637168678459899), (0.45454545454545453, -0.09455350496841688), (0.5454545454545454, -0.11273532315023506), (0.6363636363537665, -0.1309171413300793), (0.7272727232164385, -0.14909895870353412), (0.8181812434990083, -0.16728066307422215), (0.9090582249571137, -0.18545660046291923), (1.0, -0.2)], 'testj5')\n",
    "assert_equal(velocity, [(0, 0), (-0.003988594488457652, -0.24046817884456323), (-8.92229765068646e-05, -0.24132284069294602), (-7.357569208581115e-07, -0.24134048035624164), (-1.99971178098025e-09, -0.24134062692119984), (0.0, -0.24134062732114223), (1.1490029307509883e-15, -0.24134062732114248), (-1.9739676926691474e-09, -0.24134062692634867), (-7.19139266068268e-07, -0.24134048367737146), (-8.54471594162867e-05, -0.24132359444323845), (-0.0036482437168139873, -0.24068818139102205), (0, 0)], 'testj6')"
   ]
  },
  {
   "cell_type": "code",
   "execution_count": null,
   "id": "72fec0e5-088c-420e-b0cc-78a198d791fb",
   "metadata": {
    "deletable": false,
    "editable": false
   },
   "outputs": [],
   "source": [
    "simulate_fixed_number_of_timesteps(10)\n",
    "\n",
    "plot_points(position)\n",
    "\n",
    "# check that the positions and velocities are changed as they should have after one iteration of simulation\n",
    "assert_equal(position,[(0.0, -0.0), (0.09043945444404765, -0.03105186729789343), (0.18178504191350833, -0.049347924335526656), (0.27272603500823833, -0.067536007610033), (0.3636363367372788, -0.08571806476533092), (0.4545454541861532, -0.10389988820556115), (0.5454545451101575, -0.12208170639034716), (0.6363636110816122, -0.1402635196319099), (0.7272716012256502, -0.15844512063312505), (0.8181534975403595, -0.1766216031026351), (0.9087348610807928, -0.19475973896277785), (1.0, -0.2)], 'testj7')\n",
    "assert_equal(velocity, [(0, 0), (-0.03042092787014359, -0.44871732463796904), (-0.00296831141299144, -0.4566474570582234), (-0.00013840959948958285, -0.4572004294218503), (-3.5352276071526323e-06, -0.4572269798825792), (-5.344519381373659e-08, -0.457227668804715), (-5.1072972896640664e-08, -0.45722766927660324), (-3.300889768255529e-06, -0.4572270263822134), (-0.00012405234642193263, -0.4572032684793801), (-0.0024395334268225424, -0.45675161290741406), (-0.020411564513149908, -0.4549620425547375), (0, 0)], 'testj8')"
   ]
  },
  {
   "cell_type": "code",
   "execution_count": null,
   "id": "da1f144b-2476-4f12-aadc-765eea529cfa",
   "metadata": {
    "deletable": false,
    "editable": false
   },
   "outputs": [],
   "source": [
    "simulate_fixed_number_of_timesteps(100)\n",
    "\n",
    "plot_points(position)\n",
    "\n",
    "# check that the positions and velocities are changed as they should have after one iteration of simulation\n",
    "assert_equal(position, [(0.0, -0.0), (0.057640944232208086, -0.14168206602594569), (0.12573749615747115, -0.266995919225775), (0.2093359462435404, -0.371689251312528), (0.30485617003016885, -0.4553017978804889), (0.417426098476755, -0.502108693261341), (0.533557239290024, -0.5272878469583597), (0.6506873191333143, -0.5368812983571859), (0.7658193356968678, -0.5095825098304003), (0.857986740404007, -0.4285707314990119), (0.941281472373802, -0.32738070200847635), (1.0, -0.2)], 'testj9')\n",
    "assert_equal(velocity, [(0, 0), (0.11596734382469494, -0.09776403583634255), (0.015816858551175057, -0.28833719489059095), (0.1381747792616368, -0.30738152887709963), (-0.008771887824062689, -0.5551931395858181), (-0.0960725180196904, -0.8229579930970368), (-0.09331282386993622, -0.8816610286001194), (-0.048422161672488466, -0.7405972729732636), (-0.09437253639773505, -0.3231119034977196), (-0.15028093571462353, -0.16158357719624442), (-0.05546800386007124, -0.09823899379987278), (0, 0)], 'testj10')"
   ]
  },
  {
   "cell_type": "markdown",
   "id": "f1810383-98e6-48d8-b019-afba48941b76",
   "metadata": {
    "deletable": false,
    "editable": false
   },
   "source": [
    "# Visualize the resulting multi-step simulation ..."
   ]
  },
  {
   "cell_type": "code",
   "execution_count": null,
   "id": "b30edb31-bb56-49fd-a668-71de520d9a0a",
   "metadata": {
    "deletable": false,
    "editable": false
   },
   "outputs": [],
   "source": [
    "# This function has been implemented for you (do not change it!)\n",
    "\n",
    "import IPython.display\n",
    "import matplotlib.pyplot\n",
    "import matplotlib.animation\n",
    "\n",
    "def visualize(iterations=1000) :\n",
    "    # Create a Plotting surface so that we can visualize the resulting position\n",
    "    fig, ax = matplotlib.pyplot.subplots()\n",
    "    line, = ax.plot([],'-o')\n",
    "    ax.set_xlim(-0.1, 1.1)\n",
    "    ax.set_ylim(-1.1, 0.1)\n",
    "\n",
    "    # This function performs one time step of the simulation and then updates the plot to show the x,y coordinates of the new positions\n",
    "    def animate(i):\n",
    "        simulate_one_iteration()\n",
    "        x_coordinates = [ x for (x,y) in position ]\n",
    "        y_coordinates = [ y for (x,y) in position ]\n",
    "        line.set_data((x_coordinates, y_coordinates))\n",
    "        return line\n",
    "\n",
    "    # We are going to create a video animation of the simulation that runs for 1000 iterations, one video frame per iteration, displayed at 20 frames per second\n",
    "    animation = matplotlib.animation.FuncAnimation(fig, animate, frames=iterations, init_func = initialize_positions, interval=20)\n",
    "    matplotlib.pyplot.close(fig)\n",
    "    video = animation.to_html5_video()\n",
    "    html = IPython.display.HTML(video)\n",
    "    IPython.display.display(html)"
   ]
  },
  {
   "cell_type": "code",
   "execution_count": null,
   "id": "8e5608db-6d5d-48af-89c7-6c2e0c934262",
   "metadata": {
    "deletable": false,
    "editable": false
   },
   "outputs": [],
   "source": [
    "visualize(iterations = 500)"
   ]
  },
  {
   "cell_type": "markdown",
   "id": "5ef8ffe7-7e43-444d-b019-c22139391f0f",
   "metadata": {
    "deletable": false,
    "editable": false
   },
   "source": [
    "# Interactive Exploration\n",
    "\n",
    "Now for the fun part - playing with the parameters and observing how they change the simulation.\n",
    "\n",
    "Experiment by changing some of the configuration parameters listed here. Change one at a time to see the individual effect of each parameter.\n",
    "\n",
    "What combination of parameter values can you find that creates a simulation that still looks realistic, but is more visually interesting?\n",
    "\n",
    "Record your observations in a markdown cell below."
   ]
  },
  {
   "cell_type": "code",
   "execution_count": null,
   "id": "d8908792-61d7-4e07-941a-29b4cab64030",
   "metadata": {
    "deletable": false,
    "editable": true
   },
   "outputs": [],
   "source": [
    "number_of_particles = 12 # divide the cable into a finite number of particles\n",
    "dt = 0.005               # divide time up into small time time slices (seconds per time period)\n",
    "total_mass = 0.07        # total mass for the whole cable measured in kilograms\n",
    "drag_coefficient = 0.1   # movement is dampened by resistance moving though the air\n",
    "spring_constant = 5      # the stiffness of the springs (see Hooke's Law)\n",
    "endpoint_a = (0, 0)      # the two fixed attached end points\n",
    "endpoint_b = (1, -0.2)\n",
    "\n",
    "# derived parameters ...\n",
    "mass = total_mass / number_of_particles\n",
    "total_length = vector_magnitude(vector_difference(endpoint_a, endpoint_b))\n",
    "equilibrium_spring_length = total_length / (number_of_particles - 1)   \n",
    "\n",
    "visualize(iterations = 500) # You can extend the number of iterations if you want to watch longer, but it will take longer to generate"
   ]
  },
  {
   "cell_type": "markdown",
   "id": "88355e7d-d356-4b11-a40d-59711f3d597e",
   "metadata": {
    "deletable": false,
    "editable": true
   },
   "source": [
    "<div style=\"background-color: yellow; padding:10px\">\n",
    "    <div style=\"color:#990000\"><b>Assessment Criteria 2e</b> (1 mark total)</div>\n",
    "    \n",
    "*Add markdown to discuss your observations here*\n",
    "    \n",
    "</div>"
   ]
  },
  {
   "cell_type": "markdown",
   "id": "580d2744-ef99-47dd-81ad-66e6e1af2fd8",
   "metadata": {
    "deletable": false,
    "editable": false
   },
   "source": [
    "<div style=\"background:#00cc00; padding:10px\">\n",
    "    \n",
    "# Automated feedback and semi-automated marking\n",
    "    \n",
    "Running the following code will give you a good idea how well you are meeting the assessment criteria and the rough mark that you can expect to receive. Note that some of the assessment criteria are marked manually by human tutors, so you won't know your final mark until it is officially submitted and assessed.\n",
    "</div>"
   ]
  },
  {
   "cell_type": "code",
   "execution_count": null,
   "id": "7e28deab-7b5c-4f06-b214-1ac9178b68a4",
   "metadata": {
    "deletable": false,
    "editable": false
   },
   "outputs": [],
   "source": [
    "# This code has been supplied to provide automated feedback and semi-automated marking (do not change it!)\n",
    "\n",
    "import code_analyser\n",
    "\n",
    "code_analyser.assess_criteria([vector_magnitude, vector_norm, sum_vectors, compute_gravitational_force, compute_spring_force, compute_new_velocity, compute_new_position, compute_forces, simulate_one_iteration, simulate_fixed_number_of_timesteps])"
   ]
  }
 ],
 "metadata": {
  "kernelspec": {
   "display_name": "Python 3 (ipykernel)",
   "language": "python",
   "name": "python3"
  },
  "language_info": {
   "codemirror_mode": {
    "name": "ipython",
    "version": 3
   },
   "file_extension": ".py",
   "mimetype": "text/x-python",
   "name": "python",
   "nbconvert_exporter": "python",
   "pygments_lexer": "ipython3",
   "version": "3.9.13"
  }
 },
 "nbformat": 4,
 "nbformat_minor": 5
}
