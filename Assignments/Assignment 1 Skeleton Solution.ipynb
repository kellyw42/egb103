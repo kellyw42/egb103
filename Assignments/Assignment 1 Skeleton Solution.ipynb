{
 "cells": [
  {
   "cell_type": "markdown",
   "id": "b504634a-833b-4bb5-bc1b-254281448753",
   "metadata": {
    "deletable": false,
    "editable": false
   },
   "source": [
    "# EGB103 Assignment One - Structural Analysis for Bridge Design\n",
    "\n",
    "Programming and software play a crucial role in aiding engineers in problem-solving tasks related to analyzing and designing structures like bridges using methods such as finite element analysis, free body diagrams, and truss analysis. These tools enable engineers to efficiently process complex mathematical calculations, simulate structural behaviors, and visualize results. Through programming, engineers can automate repetitive tasks, optimize algorithms, and implement sophisticated numerical methods, allowing them to explore various design scenarios rapidly. \n",
    "\n",
    "In this assignment, to help us learn Python in the context of an Authentic Engineering problem, we will use a Python Module called AnaStruct to model and analyse different truss bridge designs. The theory and mathematics behind the kind of analysis performed by AnaStruct will be covered in later units such as EGB121 Engineering Mechananics."
   ]
  },
  {
   "cell_type": "markdown",
   "id": "adafc2b1-2c60-4504-aac3-618ef3bd0b6c",
   "metadata": {
    "deletable": false,
    "editable": false
   },
   "source": [
    "<div style=\"background-color: #ff5555; padding:10px; font-size:x-large; font-weight: bold\">\n",
    "    Part A - due Week 3 (Friday 15th March)\n",
    "</div>"
   ]
  },
  {
   "cell_type": "markdown",
   "id": "02e4915e-0cc9-4474-af53-b2daf7500da0",
   "metadata": {
    "deletable": false,
    "editable": false
   },
   "source": [
    "<div style=\"background-color: #00cc00; padding:10px; font-size:large; font-weight: bold\">\n",
    "Task 1: Edit this markdown cell, remove this comment and replace it with markdown that includes your name and briefly describes your previous programming experience if any.\n",
    "</div>"
   ]
  },
  {
   "cell_type": "code",
   "execution_count": null,
   "id": "7b639a51-61ba-4f2f-b5eb-7585f9fd544e",
   "metadata": {
    "deletable": false,
    "editable": false,
    "tags": [
     "raises-exception"
    ]
   },
   "outputs": [],
   "source": [
    "# Always execute this code first before trying to execute any of the code cells below\n",
    "\n",
    "import anastruct\n",
    "import math"
   ]
  },
  {
   "cell_type": "markdown",
   "id": "39c03520-678a-4dcb-b896-56edd09e3726",
   "metadata": {
    "deletable": false,
    "editable": false
   },
   "source": [
    "# Simple Demo of How to Use the AnaStruct Python Library\n",
    "\n",
    "In this assignment you will use a Python Module called AnaStruct. The following simple example illustrates how to perform each of the key modelling and structural analysis tasks using Python code.\n",
    "\n",
    "Run this code and visualize the results.\n",
    "\n",
    "Browse through the code to learn how to perform each of the key modelling tasks using the AnaStruct library."
   ]
  },
  {
   "cell_type": "markdown",
   "id": "c0113078-56d0-4500-a25c-36c955c1603e",
   "metadata": {
    "deletable": false,
    "editable": false
   },
   "source": [
    "<div style=\"background-color: #00cc00; padding:10px; font-size:large; font-weight: bold\">\n",
    "Task 2: Run this code and visualize the results\n",
    "</div>"
   ]
  },
  {
   "cell_type": "code",
   "execution_count": null,
   "id": "724e7181-e1e7-49e5-a907-d6a045265684",
   "metadata": {
    "deletable": false,
    "editable": false,
    "tags": [
     "raises-exception"
    ]
   },
   "outputs": [],
   "source": [
    "# We start by creating a new SystemElements object (from the anastruct module) and store it in a variable for later use.\n",
    "bridge = anastruct.SystemElements()\n",
    "\n",
    "# Next we will create a 2D model of the structure that we wish to analyse.\n",
    "# A model is an abstraction of an object in the real-world, meaning that the model simplifies (and ignores) some details of the real world object that may make analysis more complex.\n",
    "# The structure is made of up 2D elements (or edges) which are connected to one another at nodes or vertices.\n",
    "\n",
    "# Next we create some variables to store the 2D coordinates for all of the vertices (represented as a tuple).\n",
    "v1 = (0, 0)\n",
    "v2 = (0.5, 1)\n",
    "v3 = (1, 0)\n",
    "\n",
    "# Next we create elements (i.e. edges) that connect two vertices.\n",
    "# In this assignment we will be creating a specific type of structure referred to as a Truss.\n",
    "# To create a truss element we call the add_truss_element method and invoke it on our SystemElements object created earlier.\n",
    "# We pass to the add_truss_elements a list consisting of precisely 2 vertices that will be connected by this element.\n",
    "# The add_truss_element method returns an element id which is an integer that can be used to later uniquely refer to that element.\n",
    "left_element_id = bridge.add_truss_element([v1, v2])\n",
    "right_element_id = bridge.add_truss_element([v2, v3])\n",
    "bottom_element_id = bridge.add_truss_element([v1, v3])\n",
    "\n",
    "# Internally, the SystemElements creates nodes for each of the vertices that we connect via elements. \n",
    "# These nodes have a unique node id which is an integer  that can  be used to later uniquely refer to that node.\n",
    "# We can call the find_node_id method to retrieve the node id associated with a specific 2D coordinate (but only if it has already been connected via an element)\n",
    "bottom_left_node_id = bridge.find_node_id(v1)\n",
    "bottom_right_node_id = bridge.find_node_id(v3)\n",
    "\n",
    "# To hold up the bridge we will add a fixed support under the bottom left corner of our bridge\n",
    "bridge.add_support_fixed(bottom_left_node_id)\n",
    "# On the right side of the bridge, rather than use a fixed support, we will instead use a roll support, which supports the bridge vertically but allows that vertex to move horizontally.\n",
    "# Using this kind of roll support rather than a fixed support allows for expansion and contraction to occur.\n",
    "bridge.add_support_roll(bottom_right_node_id)\n",
    "\n",
    "# Next we apply a load vertically downward to the bottom element of our bridge, simulating the weight of the road surface and vehicles crossing the bridge.\n",
    "weight = 20000000\n",
    "bridge.q_load(q = -weight, element_id = bottom_element_id)\n",
    "\n",
    "# We can call the show_structure method to visually inspect the bridge model that we have created.\n",
    "# This is very useful to check  that we haven't made any obvious mistakes in building the model.\n",
    "print(\"structure:\")\n",
    "bridge.show_structure(figsize=[6,4])\n",
    "\n",
    "# This is where the magic happens!\n",
    "# The solve method uses complex physics and mathematical techniques to analyse the effect of all of the forces and interations between connected elements.\n",
    "# You will learn about these methods in later units such as EGB121 Engineering Mechananics.\n",
    "# For now, we will leave these complex calculations to the AnaStruct library to solve for us.\n",
    "bridge.solve()\n",
    "\n",
    "# After analysing the effects of the forces, we can visualize the results in various ways, such as viewing the axial compression and tension forces acting on each element.\n",
    "print(\"axial forces:\")\n",
    "bridge.show_axial_force(figsize=[6,4])\n",
    "\n",
    "# We can also visualize how the elements may bend, stretch and sag as a result of severe loads.\n",
    "# In this simple example, there is no visible displacement of any nodes.\n",
    "print(\"displacement:\")\n",
    "bridge.show_displacement(figsize=[6,4])"
   ]
  },
  {
   "cell_type": "markdown",
   "id": "2e52b33e-2526-46ed-b4fa-408d11ab587c",
   "metadata": {
    "deletable": false,
    "editable": false
   },
   "source": [
    "# Compute Position of Top Left Vertex for each kind of Truss\n",
    "\n",
    "In this assignment we will compare two different Bridge Truss designs:\n",
    "\n",
    "**Warren Truss:**\n",
    "\n",
    "![Warren Truss](https://images2.imgbox.com/01/c0/RhOz8eX4_o.png \"Warren Truss\") \n",
    "\n",
    "**Howe Truss:**\n",
    "\n",
    "![Howe Truss](https://images2.imgbox.com/1a/1b/FmNXils9_o.png \"Howe Truss\") "
   ]
  },
  {
   "cell_type": "markdown",
   "id": "2968707a-f70f-49ee-b8c0-f8aa4ecfad49",
   "metadata": {
    "deletable": false,
    "editable": false
   },
   "source": [
    "## Howe Truss\n",
    "\n",
    "The first step is to compute the coordinates of each of the vertices.\n",
    "The bottom leftmost vertice will always be placed at the origin, coordinate (0,0).\n",
    "\n",
    "The coordinate of the top leftmost vertex will depend on the truss design.\n",
    "\n",
    "For a Howe truss, we base this calculation on the fact that each segment of a Howe Truss is a perfect square with diagonals at 45 degrees:\n",
    "\n",
    "![Howe Truss - Top Leftmost Vertex?](https://images2.imgbox.com/07/1c/H2blTetz_o.png \"Howe Truss - Top Leftmost Vertex?\") "
   ]
  },
  {
   "cell_type": "code",
   "execution_count": null,
   "id": "7949130f-6e72-4925-b7f3-885c39ad10f9",
   "metadata": {
    "deletable": false,
    "editable": false,
    "tags": [
     "raises-exception"
    ]
   },
   "outputs": [],
   "source": [
    "# This function is provided to you - do not modify it in any way.\n",
    "# Use it as example to help understand what is required for the warren_truss_top_left_vertex function that you must implement\n",
    "# Parameters:\n",
    "# - horizontal_segment_length is the horizontal length of each segment of the bridge\n",
    "# Return value:\n",
    "# - a tuple containing the x and y coordinates of the top left vertex\n",
    "def howe_truss_top_left_vertex(horizontal_segment_length) :\n",
    "    # since each segment is a perfect square, the x and y coordinates of the top left vertice will be the horizontal length of each segment.\n",
    "    top_left_x = horizontal_segment_length\n",
    "    top_left_y = horizontal_segment_length\n",
    "    return (top_left_x, top_left_y) # return a tuple consisting of the x and y coordinates"
   ]
  },
  {
   "cell_type": "markdown",
   "id": "986958a6-f33f-4d4a-ae3a-3be924845c4c",
   "metadata": {
    "deletable": false,
    "editable": false,
    "jp-MarkdownHeadingCollapsed": true,
    "tags": [],
    "toc-hr-collapsed": true
   },
   "source": [
    "### Tests ..."
   ]
  },
  {
   "cell_type": "code",
   "execution_count": null,
   "id": "e195eef4-0ca6-46e3-97e0-df5f5fb4bb62",
   "metadata": {
    "deletable": false,
    "editable": false,
    "tags": [
     "raises-exception"
    ]
   },
   "outputs": [],
   "source": [
    "import code_analyser"
   ]
  },
  {
   "cell_type": "code",
   "execution_count": null,
   "id": "7f679da1-3ac9-43fb-ade7-e6ffab1c76bd",
   "metadata": {
    "deletable": false,
    "editable": false
   },
   "outputs": [],
   "source": [
    "result = howe_truss_top_left_vertex(1) \n",
    "code_analyser.assert_equal(result, (1, 1))"
   ]
  },
  {
   "cell_type": "code",
   "execution_count": null,
   "id": "4237f9cb-e113-4855-979e-b9ecf5e33418",
   "metadata": {
    "deletable": false,
    "editable": false
   },
   "outputs": [],
   "source": [
    "result = howe_truss_top_left_vertex(1.5) \n",
    "code_analyser.assert_equal(result, (1.5, 1.5))"
   ]
  },
  {
   "cell_type": "markdown",
   "id": "6fe13263-2f09-475b-b50a-b99c82e19763",
   "metadata": {
    "deletable": false,
    "editable": false
   },
   "source": [
    "## Warren Truss\n",
    "\n",
    "For a Warren Truss, we calculate the coordinates of the top leftmost vertices using trigonometry based on the fact that each of the segments is an equilateral triange (with equal length edges and equal internal angles of 60 degrees).\n",
    "\n",
    "![Warren Truss - Top Leftmost Vertex?](https://images2.imgbox.com/39/a9/sEyA4q8L_o.png \"Warren Truss - Top Leftmost Vertex?\")\n"
   ]
  },
  {
   "cell_type": "markdown",
   "id": "5328ca09-cd70-42cd-a5e6-b0ea12e9531d",
   "metadata": {
    "deletable": false,
    "editable": false
   },
   "source": [
    "<div style=\"background-color: #00cc00; padding:10px; font-size:large; font-weight: bold\">\n",
    "Task 3: Implement the warren_truss_top_left_vertex function in the code cell below.\n",
    "</div>"
   ]
  },
  {
   "cell_type": "code",
   "execution_count": null,
   "id": "43de5840-9568-4a5c-bdac-898a43a83eaf",
   "metadata": {
    "deletable": false,
    "editable": true,
    "tags": [
     "raises-exception"
    ]
   },
   "outputs": [],
   "source": [
    "# Assuming that the bottom left vertex is located at the origin (0,0), compute the coordinates of the top leftmost vertex.\n",
    "# We know that each segment of a Warren Truss is an equilateral triangle, so it will have equal length edges and equal internal angles of 60 degrees.\n",
    "# We can therefore use trigonometry to calculate the x and y coodinates of the top left vertex based on this angle and the length of the base of the triangle. \n",
    "# Parameters:\n",
    "# - horizontal_segment_length is the horizontal length of each segment of the bridge\n",
    "# Return value:\n",
    "# - a tuple containing the x and y coordinates of the top left vertex\n",
    "def warren_truss_top_left_vertex(horizontal_segment_length) : # do not change this line in any way - the function name and parameters must remain exactly as specified here\n",
    "    pass # ToDo: replace this line by your code"
   ]
  },
  {
   "cell_type": "markdown",
   "id": "c87df627-6c74-4515-b7ee-33e5220d68ba",
   "metadata": {
    "deletable": false,
    "editable": false,
    "jp-MarkdownHeadingCollapsed": true,
    "tags": [],
    "toc-hr-collapsed": true
   },
   "source": [
    "### Tests ..."
   ]
  },
  {
   "cell_type": "code",
   "execution_count": null,
   "id": "950852bc-3765-4e30-9fc4-0511b3bc743e",
   "metadata": {
    "deletable": false,
    "editable": false,
    "tags": [
     "raises-exception"
    ]
   },
   "outputs": [],
   "source": [
    "result = warren_truss_top_left_vertex(1) \n",
    "code_analyser.assert_equal(result, (0.5, 0.8660254037844386), 'a1')"
   ]
  },
  {
   "cell_type": "code",
   "execution_count": null,
   "id": "d4df0594-a252-4754-9165-b5b855dde535",
   "metadata": {
    "deletable": false,
    "editable": false,
    "tags": [
     "raises-exception"
    ]
   },
   "outputs": [],
   "source": [
    "result = warren_truss_top_left_vertex(1.5) \n",
    "code_analyser.assert_equal(result, (0.75, 1.299038105676658), 'a2')"
   ]
  },
  {
   "cell_type": "code",
   "execution_count": null,
   "id": "dc69810f-789f-4149-a89b-a0156905f4b0",
   "metadata": {
    "deletable": false,
    "editable": false,
    "tags": [
     "raises-exception"
    ]
   },
   "outputs": [],
   "source": [
    "result = warren_truss_top_left_vertex(0.75) \n",
    "code_analyser.assert_equal(result, (0.375, 0.649519052838329), 'a3')"
   ]
  },
  {
   "cell_type": "code",
   "execution_count": null,
   "id": "a94310f6-9b8e-43d6-a134-69b07b5ba14d",
   "metadata": {
    "deletable": false,
    "editable": false,
    "tags": [
     "raises-exception"
    ]
   },
   "outputs": [],
   "source": [
    "result = warren_truss_top_left_vertex(3.14) \n",
    "code_analyser.assert_equal(result, (1.57, 2.719319767883137), 'a4')"
   ]
  },
  {
   "cell_type": "markdown",
   "id": "c62edab1-9d60-417a-a167-04d6423e4c3c",
   "metadata": {
    "deletable": false,
    "editable": false
   },
   "source": [
    "<div style=\"background-color: #ff5555; padding:10px; font-size:x-large; font-weight: bold\">\n",
    "    Part B - due Week 6 (Friday 12th April)\n",
    "</div>"
   ]
  },
  {
   "cell_type": "markdown",
   "id": "660fc76c-c0fd-48a2-8600-a050ffcc6354",
   "metadata": {
    "deletable": false,
    "editable": false
   },
   "source": [
    "# Evenly Space Horizontal Vertices\n",
    "\n",
    "We note for both Warren and Howe trusses that the vertices are arranged into an upper (Red) and lower (Blue) row of equally spaced, horizontally arranged vertices.\n",
    "\n",
    "![Howe Truss Rows](https://images2.imgbox.com/dd/a4/e6lqVbwR_o.png \"Howe Truss Rows\")   \n",
    "\n",
    "![Warren Truss Rows](https://images2.imgbox.com/02/90/n1CvJukz_o.png \"Warren Truss Rows\") \n",
    "\n",
    "So, once we know the coordinates of the leftmost bottom coordinate (always 0,0) and we've calculated the coordinates for the leftmost top vertex, then it is a simple matter to compute the coordinates of all of the vertices in that row. So, we create the following helper function which we will later use to compute the positions of the top and bottom rows of vertices for both Warren and Howe trusses.\n",
    "\n",
    "![Equally Spaced Horizontal Vertices](https://images2.imgbox.com/23/43/DORrv0Bb_o.png \"Equally Spaced Horizontal Vertices\")"
   ]
  },
  {
   "cell_type": "markdown",
   "id": "45de7628-b232-4409-8b5e-9d09ae2a553b",
   "metadata": {
    "deletable": false,
    "editable": false
   },
   "source": [
    "<div style=\"background-color: #00cc00; padding:10px; font-size:large; font-weight: bold\">\n",
    "Task 4: Implement the evenly_spaced_horizontal_vertices function in the code cell below.\n",
    "</div>"
   ]
  },
  {
   "cell_type": "code",
   "execution_count": null,
   "id": "636830db-297c-42b2-8320-a9842f438fc7",
   "metadata": {
    "deletable": false,
    "editable": true,
    "tags": [
     "raises-exception"
    ]
   },
   "outputs": [],
   "source": [
    "# Parameters:\n",
    "# - leftmost_vertex is a tuple containing the x and y coordinate  of the leftmost vertex.\n",
    "# - horizontal_gap_between_vertices is a number representing the horizontal distance between vertices\n",
    "# - number_of_vertices is the integer number of vertices that need to be returned.\n",
    "# Return value:\n",
    "# - a list of tuples containing the x,y coodinates for each vertex. All vertices should have the same y coordinate as the leftmost vertex.\n",
    "def evenly_spaced_horizontal_vertices(leftmost_vertex, horizontal_gap_between_vertices, number_of_vertices) : # do not change this line in any way - the function name and parameters must remain exactly as specified here\n",
    "    pass # ToDo: replace this line by your code"
   ]
  },
  {
   "cell_type": "markdown",
   "id": "9fc2b56a-214a-448e-a529-5fcc9e6a011b",
   "metadata": {
    "deletable": false,
    "editable": false,
    "jp-MarkdownHeadingCollapsed": true,
    "tags": [],
    "toc-hr-collapsed": true
   },
   "source": [
    "### Tests ..."
   ]
  },
  {
   "cell_type": "code",
   "execution_count": null,
   "id": "69ace84f-1ef4-41c6-972f-1d748ccd0806",
   "metadata": {
    "deletable": false,
    "editable": false,
    "tags": [
     "raises-exception"
    ]
   },
   "outputs": [],
   "source": [
    "result = evenly_spaced_horizontal_vertices((1,1), 1, 5) \n",
    "code_analyser.assert_equal(result, [(1, 1), (2, 1), (3, 1), (4, 1), (5, 1)], 'b1')"
   ]
  },
  {
   "cell_type": "code",
   "execution_count": null,
   "id": "f88787f3-eb50-4f9e-96d2-7734a95469ce",
   "metadata": {
    "deletable": false,
    "editable": false,
    "tags": [
     "raises-exception"
    ]
   },
   "outputs": [],
   "source": [
    "result = evenly_spaced_horizontal_vertices((0.6,1.5), 1, 5) \n",
    "code_analyser.assert_equal(result, [(0.6, 1.5), (1.6, 1.5), (2.6, 1.5), (3.6, 1.5), (4.6, 1.5)], 'b2')"
   ]
  },
  {
   "cell_type": "code",
   "execution_count": null,
   "id": "f93da0a5-498e-4cee-bfe1-752c69d5a654",
   "metadata": {
    "deletable": false,
    "editable": false,
    "tags": [
     "raises-exception"
    ]
   },
   "outputs": [],
   "source": [
    "result = evenly_spaced_horizontal_vertices((1,1), 0.4, 6) \n",
    "code_analyser.assert_equal(result, [(1, 1), (1.4, 1), (1.8, 1), (2.2, 1), (2.6, 1), (3.0, 1)], 'b3')"
   ]
  },
  {
   "cell_type": "code",
   "execution_count": null,
   "id": "d8f6c29f-df18-472a-bd95-4fa82aec8fe9",
   "metadata": {
    "deletable": false,
    "editable": false,
    "tags": [
     "raises-exception"
    ]
   },
   "outputs": [],
   "source": [
    "result = evenly_spaced_horizontal_vertices((0,0.5), 0.1, 8) \n",
    "code_analyser.assert_equal(result,  [(0, 0.5), (0.1, 0.5), (0.2, 0.5), (0.3, 0.5), (0.4, 0.5), (0.5, 0.5), (0.6, 0.5), (0.7, 0.5)], 'b4')"
   ]
  },
  {
   "cell_type": "markdown",
   "id": "438cef1a-d16c-4924-855a-d604e8c9f541",
   "metadata": {
    "deletable": false,
    "editable": false
   },
   "source": [
    "# Warren Truss"
   ]
  },
  {
   "cell_type": "markdown",
   "id": "1b8f9e73-b31d-4497-8e8a-aa5b5ce80d41",
   "metadata": {
    "deletable": false,
    "editable": false
   },
   "source": [
    "## Position Vertices\n",
    "\n",
    "![Warren Truss Rows](https://images2.imgbox.com/9a/75/Ryl4ZDpH_o.png \"Warren Truss Rows\") \n",
    "\n",
    "The width of each segment will depend on the total horizontal distance that the bridge spans and the number of segments (on the lower level).\n",
    "\n",
    "Start by computing the position of the top (red) vertices, then compute the position of the bottom (blue) vertices (using the functions we created above).\n",
    "\n",
    "Then return a tuple containing both lists of vertices.\n"
   ]
  },
  {
   "cell_type": "markdown",
   "id": "2ecf6dfc-dd5a-403e-b450-2fcd2ddd6257",
   "metadata": {
    "deletable": false,
    "editable": false
   },
   "source": [
    "<div style=\"background-color: #00cc00; padding:10px; font-size:large; font-weight: bold\">\n",
    "Task 5: Implement the position_warren_truss_vertices function in the code cell below.\n",
    "</div>"
   ]
  },
  {
   "cell_type": "code",
   "execution_count": null,
   "id": "9fe1ba07-d366-473f-8ce9-504b60693485",
   "metadata": {
    "deletable": false,
    "editable": true,
    "tags": [
     "raises-exception"
    ]
   },
   "outputs": [],
   "source": [
    "# This function determines the x,y coordinates of each of the vertices in the top row and bottom row of a Warren Truss.\n",
    "# Parameters:\n",
    "# - horizontal_span_length is the total distance that the bridge spans (from the leftmost bottom vertice to the rightmost bottom vertex)\n",
    "# - number_of_segments is the integer number of segments across the bottom of the bridge.\n",
    "# Return values:\n",
    "# - a tuple containing two lists of vertices for the top and bottom rows.\n",
    "def position_warren_truss_vertices(horizontal_span_length, number_of_segments) : # do not change this line in any way - the function name and parameters must remain exactly as specified here\n",
    "    pass # ToDo: replace this line by your code"
   ]
  },
  {
   "cell_type": "markdown",
   "id": "6e55a45c-77cf-49ed-8a09-1ba9dbdfcb45",
   "metadata": {
    "deletable": false,
    "editable": false,
    "jp-MarkdownHeadingCollapsed": true,
    "tags": [],
    "toc-hr-collapsed": true
   },
   "source": [
    "### Tests ..."
   ]
  },
  {
   "cell_type": "code",
   "execution_count": null,
   "id": "133fdf2f-c721-4da0-ae5c-db7023558f3d",
   "metadata": {
    "deletable": false,
    "editable": false,
    "tags": [
     "raises-exception"
    ]
   },
   "outputs": [],
   "source": [
    "result = position_warren_truss_vertices(1, 1) \n",
    "code_analyser.assert_equal(result, ([(0.5, 0.8660254037844386)], [(0, 0), (1.0, 0)]), 'c1')"
   ]
  },
  {
   "cell_type": "code",
   "execution_count": null,
   "id": "1d6fab41-22f9-45c2-ad7a-a6311e2be97e",
   "metadata": {
    "deletable": false,
    "editable": false,
    "tags": [
     "raises-exception"
    ]
   },
   "outputs": [],
   "source": [
    "result = position_warren_truss_vertices(2.1, 1) \n",
    "code_analyser.assert_equal(result, ([(1.05, 1.818653347947321)], [(0, 0), (2.1, 0)]), 'c2')"
   ]
  },
  {
   "cell_type": "code",
   "execution_count": null,
   "id": "3d7760e6-c1d9-47ed-bf75-a955fbdd1971",
   "metadata": {
    "deletable": false,
    "editable": false,
    "tags": [
     "raises-exception"
    ]
   },
   "outputs": [],
   "source": [
    "result = position_warren_truss_vertices(1, 2) \n",
    "code_analyser.assert_equal(result, ([(0.25000000000000006, 0.4330127018922193), (0.75, 0.4330127018922193)], [(0, 0), (0.5, 0), (1.0, 0)]), 'c3')"
   ]
  },
  {
   "cell_type": "code",
   "execution_count": null,
   "id": "ef6d3d8a",
   "metadata": {
    "deletable": false,
    "editable": false,
    "tags": [
     "raises-exception"
    ]
   },
   "outputs": [],
   "source": [
    "result = position_warren_truss_vertices(5, 5) \n",
    "code_analyser.assert_equal(result, ([(0.5, 0.8660254037844386), (1.5, 0.8660254037844386), (2.5, 0.8660254037844386), (3.5, 0.8660254037844386), (4.5, 0.8660254037844386)], [(0, 0), (1.0, 0), (2.0, 0), (3.0, 0), (4.0, 0), (5.0, 0)]), 'c4')"
   ]
  },
  {
   "cell_type": "code",
   "execution_count": null,
   "id": "ac1106a2-b446-4fcf-885d-3820c4b6374e",
   "metadata": {
    "deletable": false,
    "editable": false,
    "tags": [
     "raises-exception"
    ]
   },
   "outputs": [],
   "source": [
    "result = position_warren_truss_vertices(1.5, 6) \n",
    "code_analyser.assert_equal(result, ([(0.125, 0.21650635094610965), (0.375, 0.21650635094610965), (0.625, 0.21650635094610965), (0.875, 0.21650635094610965), (1.125, 0.21650635094610965), (1.375, 0.21650635094610965)], [(0, 0), (0.25, 0), (0.5, 0), (0.75, 0), (1.0, 0), (1.25, 0), (1.5, 0)]), 'c5')"
   ]
  },
  {
   "cell_type": "code",
   "execution_count": null,
   "id": "4d3a5fc2-0c68-4c3b-9e05-55bbd0fc826f",
   "metadata": {
    "deletable": false,
    "editable": false,
    "tags": [
     "raises-exception"
    ]
   },
   "outputs": [],
   "source": [
    "result = position_warren_truss_vertices(3.14, 8) \n",
    "code_analyser.assert_equal(result, ([(0.19625, 0.33991497098539214), (0.58875, 0.33991497098539214), (0.98125, 0.33991497098539214), (1.37375, 0.33991497098539214), (1.76625, 0.33991497098539214), (2.15875, 0.33991497098539214), (2.55125, 0.33991497098539214), (2.94375, 0.33991497098539214)], [(0, 0), (0.3925, 0), (0.785, 0), (1.1775, 0), (1.57, 0), (1.9625, 0), (2.355, 0), (2.7475, 0), (3.14, 0)]), 'c6')"
   ]
  },
  {
   "cell_type": "markdown",
   "id": "261270ab-00a1-4453-92a7-302e353206ac",
   "metadata": {
    "deletable": false,
    "editable": false
   },
   "source": [
    "## Warren Truss - Connect Vertices\n",
    "\n",
    "![Connect Warren Vertices](https://images2.imgbox.com/6f/bd/dWdjKOh3_o.png \"Connect Warren Vertices\") \n",
    "\n",
    "The logic for connecting all these vertices according to the Warren Truss pattern can become overwhelming complicated.\n",
    "\n",
    "So, as always, proceed step by step with each category of edges. First work out how to add each of the (orange) top edges. Once you've tested that and it works, go on to progressively add each of the (green) bottom edges, then the purple diagonally up edges and finally the pink diagonally down edges. Make sure you test after each step and get it working before proceeding. The tests below (for various sized bridges) will provide you with a visual depiction of the edges you have created, so you can easily spot any obvious mistakes.\n",
    "\n",
    "Importantly, note how the top and bottom vertices are numbered in the diagram above. For example the pink edges are from node 0 of the top list to node 1 of the bottom list, from node 1 of the top list to node 2 of the bottom list and so on. Work out the pattern and use it to write a loop that indexes appropriately into the top and bottom vertex lists."
   ]
  },
  {
   "cell_type": "markdown",
   "id": "608b87f1-b715-4878-9ea6-458b95ccf647",
   "metadata": {
    "deletable": false,
    "editable": false
   },
   "source": [
    "<div style=\"background-color: #00cc00; padding:10px; font-size:large; font-weight: bold\">\n",
    "Task 6: Implement the connect_warren_truss_vertices function in the code cell below.\n",
    "</div>"
   ]
  },
  {
   "cell_type": "code",
   "execution_count": null,
   "id": "987f613a-15c4-4b26-b4a9-3cfb6e97a795",
   "metadata": {
    "deletable": false,
    "editable": true,
    "tags": [
     "raises-exception"
    ]
   },
   "outputs": [],
   "source": [
    "# This function adds truss elements to connect each of the top and bottom vertices according to the pattern of a Warren Truss.\n",
    "# It also computes and returns a list of the element ids of the \"green\" elements across the bottom of the bridge.\n",
    "# Parameters: \n",
    "# - bridge a SystemElements object from the AnaStruct module (to which we can add truss elements).\n",
    "# - top_vertices a list of the x,y coordinates of the vertices in the top row (ordered from left to right)\n",
    "# - bottom_vertices a list of the x,y coordinates of the vertices in the bottom row (ordered from left to right)\n",
    "# Return values:\n",
    "# - a list of the element ids of the \"green\" elements across the bottom of the bridge.\n",
    "def connect_warren_truss_vertices(bridge, top_vertices, bottom_vertices) : # do not change this line in any way - the function name and parameters must remain exactly as specified here\n",
    "    pass # ToDo: replace this line by your code"
   ]
  },
  {
   "cell_type": "markdown",
   "id": "72165fb5-543e-46eb-92dc-8e357ca29247",
   "metadata": {
    "deletable": false,
    "editable": false,
    "jp-MarkdownHeadingCollapsed": true,
    "tags": [],
    "toc-hr-collapsed": true
   },
   "source": [
    "### Tests ..."
   ]
  },
  {
   "cell_type": "code",
   "execution_count": null,
   "id": "905aec8d-e818-4826-ab51-7f6f7f83e3a9",
   "metadata": {
    "deletable": false,
    "editable": false,
    "tags": [
     "raises-exception"
    ]
   },
   "outputs": [],
   "source": [
    "test_bridge21 = anastruct.SystemElements()\n",
    "v0 = (0.5000000000000001, 0.8660254037844386)\n",
    "test_top_vertices = [v0]\n",
    "v1 = (0, 0)\n",
    "v2 = (1.0, 0)\n",
    "test_bottom_vertices = [v1, v2]\n",
    "bottom_elements_result = connect_warren_truss_vertices(test_bridge21, test_top_vertices, test_bottom_vertices)\n",
    "code_analyser.inspect_bridge(test_bridge21, bottom_elements_result, [v0, v1, v2],[(0, 1), (0, 2), (1, 2)], \"d01\")"
   ]
  },
  {
   "cell_type": "code",
   "execution_count": null,
   "id": "373a93e7-0ad7-43c0-acaf-3a4cded48975",
   "metadata": {
    "deletable": false,
    "editable": false,
    "tags": [
     "raises-exception"
    ]
   },
   "outputs": [],
   "source": [
    "test_bridge22 = anastruct.SystemElements()\n",
    "v0 = (0.25000000000000006, 0.4330127018922193)\n",
    "v1 = (0.75, 0.4330127018922193)\n",
    "test_top_vertices = [v0, v1]\n",
    "v2 = (0, 0)\n",
    "v3 = (0.5, 0)\n",
    "v4 = (1.0, 0)\n",
    "test_bottom_vertices = [v2, v3, v4]\n",
    "bottom_elements_result = connect_warren_truss_vertices(test_bridge22, test_top_vertices, test_bottom_vertices)\n",
    "code_analyser.inspect_bridge(test_bridge22, bottom_elements_result, [v0, v1, v2, v3, v4],[(0, 1), (0, 2), (0, 3), (1, 3), (1, 4), (2, 3), (3, 4)], \"d02\")"
   ]
  },
  {
   "cell_type": "code",
   "execution_count": null,
   "id": "7d7eb3d8-61db-4bcc-abc5-c5474e7a29b7",
   "metadata": {
    "deletable": false,
    "editable": false,
    "tags": [
     "raises-exception"
    ]
   },
   "outputs": [],
   "source": [
    "test_bridge23 = anastruct.SystemElements()\n",
    "v0 = (0.16666666666666669, 0.28867513459481287)\n",
    "v1 = (0.5, 0.28867513459481287)\n",
    "v2 = (0.8333333333333333, 0.28867513459481287)\n",
    "test_top_vertices = [v0, v1, v2]\n",
    "v3 = (0, 0)\n",
    "v4 = (0.3333333333333333, 0)\n",
    "v5 = (0.6666666666666666, 0)\n",
    "v6 = (1.0, 0)\n",
    "test_bottom_vertices = [v3, v4, v5, v6]\n",
    "bottom_elements_result = connect_warren_truss_vertices(test_bridge23, test_top_vertices, test_bottom_vertices)\n",
    "code_analyser.inspect_bridge(test_bridge23, bottom_elements_result, [v0, v1, v2, v3, v4, v5, v6],[(0, 1), (0, 3), (0, 4), (1, 2), (1, 4), (1, 5), (2, 5), (2, 6), (3, 4), (4, 5), (5, 6)], \"d03\")"
   ]
  },
  {
   "cell_type": "code",
   "execution_count": null,
   "id": "e4d96268-4848-4ebf-a7ca-755fa1645d3e",
   "metadata": {
    "deletable": false,
    "editable": false,
    "tags": [
     "raises-exception"
    ]
   },
   "outputs": [],
   "source": [
    "test_bridge24 = anastruct.SystemElements()\n",
    "v0 = (0.12500000000000003, 0.21650635094610965)\n",
    "v1 = (0.375, 0.21650635094610965)\n",
    "v2 = (0.625, 0.21650635094610965)\n",
    "v3 = (0.875, 0.21650635094610965)\n",
    "test_top_vertices = [v0, v1, v2, v3]\n",
    "v4 = (0, 0)\n",
    "v5 = (0.25, 0)\n",
    "v6 = (0.5, 0)\n",
    "v7 = (0.75, 0)\n",
    "v8 = (1.0, 0)\n",
    "test_bottom_vertices = [v4, v5, v6, v7, v8]\n",
    "bottom_elements_result = connect_warren_truss_vertices(test_bridge24, test_top_vertices, test_bottom_vertices)\n",
    "code_analyser.inspect_bridge(test_bridge24, bottom_elements_result, [v0, v1, v2, v3, v4, v5, v6, v7, v8],[(0, 1), (0, 4), (0, 5), (1, 2), (1, 5), (1, 6), (2, 3), (2, 6), (2, 7), (3, 7), (3, 8), (4, 5), (5, 6), (6, 7), (7, 8)], \"d04\")"
   ]
  },
  {
   "cell_type": "code",
   "execution_count": null,
   "id": "f4e9cf05-f6c6-46bd-8b06-afbd65f5d5ac",
   "metadata": {
    "deletable": false,
    "editable": false,
    "tags": [
     "raises-exception"
    ]
   },
   "outputs": [],
   "source": [
    "test_bridge26 = anastruct.SystemElements()\n",
    "v0 = (0.08333333333333334, 0.14433756729740643)\n",
    "v1 = (0.25, 0.14433756729740643)\n",
    "v2 = (0.41666666666666663, 0.14433756729740643)\n",
    "v3 = (0.5833333333333333, 0.14433756729740643)\n",
    "v4 = (0.7499999999999999, 0.14433756729740643)\n",
    "v5 = (0.9166666666666665, 0.14433756729740643)\n",
    "test_top_vertices = [v0, v1, v2, v3, v4, v5]\n",
    "v6 = (0, 0)\n",
    "v7 = (0.16666666666666666, 0)\n",
    "v8 = (0.3333333333333333, 0)\n",
    "v9 = (0.5, 0)\n",
    "v10 = (0.6666666666666666, 0)\n",
    "v11 = (0.8333333333333333, 0)\n",
    "v12 = (0.9999999999999999, 0)\n",
    "test_bottom_vertices = [v6, v7, v8, v9, v10, v11, v12]\n",
    "bottom_elements_result = connect_warren_truss_vertices(test_bridge26, test_top_vertices, test_bottom_vertices)\n",
    "code_analyser.inspect_bridge(test_bridge26, bottom_elements_result, [v0, v1, v2, v3, v4, v5, v6, v7, v8, v9, v10, v11, v12],[(0, 1), (0, 6), (0, 7), (1, 2), (1, 7), (1, 8), (2, 3), (2, 8), (2, 9), (3, 4), (3, 9), (3, 10), (4, 5), (4, 10), (4, 11), (5, 11), (5, 12), (6, 7), (7, 8), (8, 9), (9, 10), (10, 11), (11, 12)], \"d05\")"
   ]
  },
  {
   "cell_type": "code",
   "execution_count": null,
   "id": "aaddc236-bcce-45b8-91ae-cbccb627f016",
   "metadata": {
    "deletable": false,
    "editable": false,
    "tags": [
     "raises-exception"
    ]
   },
   "outputs": [],
   "source": [
    "test_bridge28 = anastruct.SystemElements()\n",
    "v0 = (0.06250000000000001, 0.10825317547305482)\n",
    "v1 = (0.1875, 0.10825317547305482)\n",
    "v2 = (0.3125, 0.10825317547305482)\n",
    "v3 = (0.4375, 0.10825317547305482)\n",
    "v4 = (0.5625, 0.10825317547305482)\n",
    "v5 = (0.6875, 0.10825317547305482)\n",
    "v6 = (0.8125, 0.10825317547305482)\n",
    "v7 = (0.9375, 0.10825317547305482)\n",
    "test_top_vertices = [v0, v1, v2, v3, v4, v5, v6, v7]\n",
    "v8 = (0, 0)\n",
    "v9 = (0.125, 0)\n",
    "v10 = (0.25, 0)\n",
    "v11 = (0.375, 0)\n",
    "v12 = (0.5, 0)\n",
    "v13 = (0.625, 0)\n",
    "v14 = (0.75, 0)\n",
    "v15 = (0.875, 0)\n",
    "v16 = (1.0, 0)\n",
    "test_bottom_vertices = [v8, v9, v10, v11, v12, v13, v14, v15, v16]\n",
    "bottom_elements_result = connect_warren_truss_vertices(test_bridge28, test_top_vertices, test_bottom_vertices)\n",
    "code_analyser.inspect_bridge(test_bridge28, bottom_elements_result, [v0, v1, v2, v3, v4, v5, v6, v7, v8, v9, v10, v11, v12, v13, v14, v15, v16],[(0, 1), (0, 8), (0, 9), (1, 2), (1, 9), (1, 10), (2, 3), (2, 10), (2, 11), (3, 4), (3, 11), (3, 12), (4, 5), (4, 12), (4, 13), (5, 6), (5, 13), (5, 14), (6, 7), (6, 14), (6, 15), (7, 15), (7, 16), (8, 9), (9, 10), (10, 11), (11, 12), (12, 13), (13, 14), (14, 15), (15, 16)], \"d06\")"
   ]
  },
  {
   "cell_type": "code",
   "execution_count": null,
   "id": "b3c979ed-9d82-46b2-ba03-5ef3e9df5cc6",
   "metadata": {
    "deletable": false,
    "editable": false,
    "tags": [
     "raises-exception"
    ]
   },
   "outputs": [],
   "source": [
    "test_bridge29 = anastruct.SystemElements()\n",
    "v0 = (0.055555555555555566, 0.09622504486493762)\n",
    "v1 = (0.16666666666666669, 0.09622504486493762)\n",
    "v2 = (0.2777777777777778, 0.09622504486493762)\n",
    "v3 = (0.3888888888888889, 0.09622504486493762)\n",
    "v4 = (0.5, 0.09622504486493762)\n",
    "v5 = (0.6111111111111112, 0.09622504486493762)\n",
    "v6 = (0.7222222222222223, 0.09622504486493762)\n",
    "v7 = (0.8333333333333335, 0.09622504486493762)\n",
    "v8 = (0.9444444444444446, 0.09622504486493762)\n",
    "test_top_vertices = [v0, v1, v2, v3, v4, v5, v6, v7, v8]\n",
    "v9 = (0, 0)\n",
    "v10 = (0.1111111111111111, 0)\n",
    "v11 = (0.2222222222222222, 0)\n",
    "v12 = (0.3333333333333333, 0)\n",
    "v13 = (0.4444444444444444, 0)\n",
    "v14 = (0.5555555555555556, 0)\n",
    "v15 = (0.6666666666666667, 0)\n",
    "v16 = (0.7777777777777779, 0)\n",
    "v17 = (0.8888888888888891, 0)\n",
    "v18 = (1.0000000000000002, 0)\n",
    "test_bottom_vertices = [v9, v10, v11, v12, v13, v14, v15, v16, v17, v18]\n",
    "bottom_elements_result = connect_warren_truss_vertices(test_bridge29, test_top_vertices, test_bottom_vertices)\n",
    "code_analyser.inspect_bridge(test_bridge29, bottom_elements_result, [v0, v1, v2, v3, v4, v5, v6, v7, v8, v9, v10, v11, v12, v13, v14, v15, v16, v17, v18],[(0, 1), (0, 9), (0, 10), (1, 2), (1, 10), (1, 11), (2, 3), (2, 11), (2, 12), (3, 4), (3, 12), (3, 13), (4, 5), (4, 13), (4, 14), (5, 6), (5, 14), (5, 15), (6, 7), (6, 15), (6, 16), (7, 8), (7, 16), (7, 17), (8, 17), (8, 18), (9, 10), (10, 11), (11, 12), (12, 13), (13, 14), (14, 15), (15, 16), (16, 17), (17, 18)], \"d07\")"
   ]
  },
  {
   "cell_type": "code",
   "execution_count": null,
   "id": "1e05be45-31ee-4040-adc5-a7ce2a79e762",
   "metadata": {
    "deletable": false,
    "editable": false,
    "tags": [
     "raises-exception"
    ]
   },
   "outputs": [],
   "source": [
    "test_bridge32 = anastruct.SystemElements()\n",
    "v0 = (0.5000000000000001, 0.8660254037844386)\n",
    "v1 = (1.5, 0.8660254037844386)\n",
    "v2 = (2.5, 0.8660254037844386)\n",
    "test_top_vertices = [v0, v1, v2]\n",
    "v3 = (0, 0)\n",
    "v4 = (1.0, 0)\n",
    "v5 = (2.0, 0)\n",
    "v6 = (3.0, 0)\n",
    "test_bottom_vertices = [v3, v4, v5, v6]\n",
    "bottom_elements_result = connect_warren_truss_vertices(test_bridge32, test_top_vertices, test_bottom_vertices)\n",
    "code_analyser.inspect_bridge(test_bridge32, bottom_elements_result, [v0, v1, v2, v3, v4, v5, v6],[(0, 1), (0, 3), (0, 4), (1, 2), (1, 4), (1, 5), (2, 5), (2, 6), (3, 4), (4, 5), (5, 6)], \"d08\")"
   ]
  },
  {
   "cell_type": "code",
   "execution_count": null,
   "id": "e3b0e103-d704-478b-adcd-ee0b7f117bd4",
   "metadata": {
    "deletable": false,
    "editable": false,
    "tags": [
     "raises-exception"
    ]
   },
   "outputs": [],
   "source": [
    "test_bridge35 = anastruct.SystemElements()\n",
    "v0 = (0.25000000000000006, 0.4330127018922193)\n",
    "v1 = (0.75, 0.4330127018922193)\n",
    "v2 = (1.25, 0.4330127018922193)\n",
    "v3 = (1.75, 0.4330127018922193)\n",
    "v4 = (2.25, 0.4330127018922193)\n",
    "v5 = (2.75, 0.4330127018922193)\n",
    "test_top_vertices = [v0, v1, v2, v3, v4, v5]\n",
    "v6 = (0, 0)\n",
    "v7 = (0.5, 0)\n",
    "v8 = (1.0, 0)\n",
    "v9 = (1.5, 0)\n",
    "v10 = (2.0, 0)\n",
    "v11 = (2.5, 0)\n",
    "v12 = (3.0, 0)\n",
    "test_bottom_vertices = [v6, v7, v8, v9, v10, v11, v12]\n",
    "bottom_elements_result = connect_warren_truss_vertices(test_bridge35, test_top_vertices, test_bottom_vertices)\n",
    "code_analyser.inspect_bridge(test_bridge35, bottom_elements_result, [v0, v1, v2, v3, v4, v5, v6, v7, v8, v9, v10, v11, v12],[(0, 1), (0, 6), (0, 7), (1, 2), (1, 7), (1, 8), (2, 3), (2, 8), (2, 9), (3, 4), (3, 9), (3, 10), (4, 5), (4, 10), (4, 11), (5, 11), (5, 12), (6, 7), (7, 8), (8, 9), (9, 10), (10, 11), (11, 12)], \"d09\")"
   ]
  },
  {
   "cell_type": "code",
   "execution_count": null,
   "id": "79c6996f-6732-4a8b-8e97-4c0ed52aea2c",
   "metadata": {
    "deletable": false,
    "editable": false,
    "tags": [
     "raises-exception"
    ]
   },
   "outputs": [],
   "source": [
    "test_bridge38 = anastruct.SystemElements()\n",
    "v0 = (0.16666666666666669, 0.28867513459481287)\n",
    "v1 = (0.5, 0.28867513459481287)\n",
    "v2 = (0.8333333333333333, 0.28867513459481287)\n",
    "v3 = (1.1666666666666665, 0.28867513459481287)\n",
    "v4 = (1.4999999999999998, 0.28867513459481287)\n",
    "v5 = (1.833333333333333, 0.28867513459481287)\n",
    "v6 = (2.1666666666666665, 0.28867513459481287)\n",
    "v7 = (2.5, 0.28867513459481287)\n",
    "v8 = (2.8333333333333335, 0.28867513459481287)\n",
    "test_top_vertices = [v0, v1, v2, v3, v4, v5, v6, v7, v8]\n",
    "v9 = (0, 0)\n",
    "v10 = (0.3333333333333333, 0)\n",
    "v11 = (0.6666666666666666, 0)\n",
    "v12 = (1.0, 0)\n",
    "v13 = (1.3333333333333333, 0)\n",
    "v14 = (1.6666666666666665, 0)\n",
    "v15 = (1.9999999999999998, 0)\n",
    "v16 = (2.333333333333333, 0)\n",
    "v17 = (2.6666666666666665, 0)\n",
    "v18 = (3.0, 0)\n",
    "test_bottom_vertices = [v9, v10, v11, v12, v13, v14, v15, v16, v17, v18]\n",
    "bottom_elements_result = connect_warren_truss_vertices(test_bridge38, test_top_vertices, test_bottom_vertices)\n",
    "code_analyser.inspect_bridge(test_bridge38, bottom_elements_result, [v0, v1, v2, v3, v4, v5, v6, v7, v8, v9, v10, v11, v12, v13, v14, v15, v16, v17, v18],[(0, 1), (0, 9), (0, 10), (1, 2), (1, 10), (1, 11), (2, 3), (2, 11), (2, 12), (3, 4), (3, 12), (3, 13), (4, 5), (4, 13), (4, 14), (5, 6), (5, 14), (5, 15), (6, 7), (6, 15), (6, 16), (7, 8), (7, 16), (7, 17), (8, 17), (8, 18), (9, 10), (10, 11), (11, 12), (12, 13), (13, 14), (14, 15), (15, 16), (16, 17), (17, 18)], \"d10\")"
   ]
  },
  {
   "cell_type": "code",
   "execution_count": null,
   "id": "e8398f95-8cd8-42c7-9352-e049c3874068",
   "metadata": {
    "deletable": false,
    "editable": false,
    "tags": [
     "raises-exception"
    ]
   },
   "outputs": [],
   "source": [
    "test_bridge41 = anastruct.SystemElements()\n",
    "v0 = (0.8333333333333336, 1.4433756729740643)\n",
    "v1 = (2.5000000000000004, 1.4433756729740643)\n",
    "v2 = (4.166666666666667, 1.4433756729740643)\n",
    "test_top_vertices = [v0, v1, v2]\n",
    "v3 = (0, 0)\n",
    "v4 = (1.6666666666666667, 0)\n",
    "v5 = (3.3333333333333335, 0)\n",
    "v6 = (5.0, 0)\n",
    "test_bottom_vertices = [v3, v4, v5, v6]\n",
    "bottom_elements_result = connect_warren_truss_vertices(test_bridge41, test_top_vertices, test_bottom_vertices)\n",
    "code_analyser.inspect_bridge(test_bridge41, bottom_elements_result, [v0, v1, v2, v3, v4, v5, v6],[(0, 1), (0, 3), (0, 4), (1, 2), (1, 4), (1, 5), (2, 5), (2, 6), (3, 4), (4, 5), (5, 6)], \"d11\")"
   ]
  },
  {
   "cell_type": "code",
   "execution_count": null,
   "id": "6023bc95-2f6c-470b-85c6-e4b380693e5c",
   "metadata": {
    "deletable": false,
    "editable": false,
    "tags": [
     "raises-exception"
    ]
   },
   "outputs": [],
   "source": [
    "test_bridge44 = anastruct.SystemElements()\n",
    "v0 = (0.4166666666666668, 0.7216878364870322)\n",
    "v1 = (1.2500000000000002, 0.7216878364870322)\n",
    "v2 = (2.0833333333333335, 0.7216878364870322)\n",
    "v3 = (2.916666666666667, 0.7216878364870322)\n",
    "v4 = (3.7500000000000004, 0.7216878364870322)\n",
    "v5 = (4.583333333333334, 0.7216878364870322)\n",
    "test_top_vertices = [v0, v1, v2, v3, v4, v5]\n",
    "v6 = (0, 0)\n",
    "v7 = (0.8333333333333334, 0)\n",
    "v8 = (1.6666666666666667, 0)\n",
    "v9 = (2.5, 0)\n",
    "v10 = (3.3333333333333335, 0)\n",
    "v11 = (4.166666666666667, 0)\n",
    "v12 = (5.0, 0)\n",
    "test_bottom_vertices = [v6, v7, v8, v9, v10, v11, v12]\n",
    "bottom_elements_result = connect_warren_truss_vertices(test_bridge44, test_top_vertices, test_bottom_vertices)\n",
    "code_analyser.inspect_bridge(test_bridge44, bottom_elements_result, [v0, v1, v2, v3, v4, v5, v6, v7, v8, v9, v10, v11, v12],[(0, 1), (0, 6), (0, 7), (1, 2), (1, 7), (1, 8), (2, 3), (2, 8), (2, 9), (3, 4), (3, 9), (3, 10), (4, 5), (4, 10), (4, 11), (5, 11), (5, 12), (6, 7), (7, 8), (8, 9), (9, 10), (10, 11), (11, 12)], \"d12\")"
   ]
  },
  {
   "cell_type": "code",
   "execution_count": null,
   "id": "7c997efa-332c-458d-bed5-ed1b6744ad16",
   "metadata": {
    "deletable": false,
    "editable": false,
    "tags": [
     "raises-exception"
    ]
   },
   "outputs": [],
   "source": [
    "test_bridge47 = anastruct.SystemElements()\n",
    "v0 = (0.27777777777777785, 0.4811252243246881)\n",
    "v1 = (0.8333333333333335, 0.4811252243246881)\n",
    "v2 = (1.388888888888889, 0.4811252243246881)\n",
    "v3 = (1.9444444444444446, 0.4811252243246881)\n",
    "v4 = (2.5, 0.4811252243246881)\n",
    "v5 = (3.0555555555555554, 0.4811252243246881)\n",
    "v6 = (3.6111111111111107, 0.4811252243246881)\n",
    "v7 = (4.166666666666666, 0.4811252243246881)\n",
    "v8 = (4.722222222222221, 0.4811252243246881)\n",
    "test_top_vertices = [v0, v1, v2, v3, v4, v5, v6, v7, v8]\n",
    "v9 = (0, 0)\n",
    "v10 = (0.5555555555555556, 0)\n",
    "v11 = (1.1111111111111112, 0)\n",
    "v12 = (1.6666666666666667, 0)\n",
    "v13 = (2.2222222222222223, 0)\n",
    "v14 = (2.7777777777777777, 0)\n",
    "v15 = (3.333333333333333, 0)\n",
    "v16 = (3.8888888888888884, 0)\n",
    "v17 = (4.444444444444444, 0)\n",
    "v18 = (4.999999999999999, 0)\n",
    "test_bottom_vertices = [v9, v10, v11, v12, v13, v14, v15, v16, v17, v18]\n",
    "bottom_elements_result = connect_warren_truss_vertices(test_bridge47, test_top_vertices, test_bottom_vertices)\n",
    "code_analyser.inspect_bridge(test_bridge47, bottom_elements_result, [v0, v1, v2, v3, v4, v5, v6, v7, v8, v9, v10, v11, v12, v13, v14, v15, v16, v17, v18],[(0, 1), (0, 9), (0, 10), (1, 2), (1, 10), (1, 11), (2, 3), (2, 11), (2, 12), (3, 4), (3, 12), (3, 13), (4, 5), (4, 13), (4, 14), (5, 6), (5, 14), (5, 15), (6, 7), (6, 15), (6, 16), (7, 8), (7, 16), (7, 17), (8, 17), (8, 18), (9, 10), (10, 11), (11, 12), (12, 13), (13, 14), (14, 15), (15, 16), (16, 17), (17, 18)], \"d13\")"
   ]
  },
  {
   "cell_type": "code",
   "execution_count": null,
   "id": "268f54ff-a94f-40e0-9b84-24a297dd1fd1",
   "metadata": {
    "deletable": false,
    "editable": false,
    "tags": [
     "raises-exception"
    ]
   },
   "outputs": [],
   "source": [
    "test_bridge50 = anastruct.SystemElements()\n",
    "v0 = (1.166666666666667, 2.0207259421636903)\n",
    "v1 = (3.5000000000000004, 2.0207259421636903)\n",
    "v2 = (5.833333333333334, 2.0207259421636903)\n",
    "test_top_vertices = [v0, v1, v2]\n",
    "v3 = (0, 0)\n",
    "v4 = (2.3333333333333335, 0)\n",
    "v5 = (4.666666666666667, 0)\n",
    "v6 = (7.0, 0)\n",
    "test_bottom_vertices = [v3, v4, v5, v6]\n",
    "bottom_elements_result = connect_warren_truss_vertices(test_bridge50, test_top_vertices, test_bottom_vertices)\n",
    "code_analyser.inspect_bridge(test_bridge50, bottom_elements_result, [v0, v1, v2, v3, v4, v5, v6],[(0, 1), (0, 3), (0, 4), (1, 2), (1, 4), (1, 5), (2, 5), (2, 6), (3, 4), (4, 5), (5, 6)], \"d14\")"
   ]
  },
  {
   "cell_type": "code",
   "execution_count": null,
   "id": "b713ab62-1cb2-44bd-b681-8949bceae9fb",
   "metadata": {
    "deletable": false,
    "editable": false,
    "tags": [
     "raises-exception"
    ]
   },
   "outputs": [],
   "source": [
    "test_bridge53 = anastruct.SystemElements()\n",
    "v0 = (0.5833333333333335, 1.0103629710818451)\n",
    "v1 = (1.7500000000000002, 1.0103629710818451)\n",
    "v2 = (2.916666666666667, 1.0103629710818451)\n",
    "v3 = (4.083333333333334, 1.0103629710818451)\n",
    "v4 = (5.250000000000001, 1.0103629710818451)\n",
    "v5 = (6.416666666666668, 1.0103629710818451)\n",
    "test_top_vertices = [v0, v1, v2, v3, v4, v5]\n",
    "v6 = (0, 0)\n",
    "v7 = (1.1666666666666667, 0)\n",
    "v8 = (2.3333333333333335, 0)\n",
    "v9 = (3.5, 0)\n",
    "v10 = (4.666666666666667, 0)\n",
    "v11 = (5.833333333333334, 0)\n",
    "v12 = (7.000000000000001, 0)\n",
    "test_bottom_vertices = [v6, v7, v8, v9, v10, v11, v12]\n",
    "bottom_elements_result = connect_warren_truss_vertices(test_bridge53, test_top_vertices, test_bottom_vertices)\n",
    "code_analyser.inspect_bridge(test_bridge53, bottom_elements_result, [v0, v1, v2, v3, v4, v5, v6, v7, v8, v9, v10, v11, v12],[(0, 1), (0, 6), (0, 7), (1, 2), (1, 7), (1, 8), (2, 3), (2, 8), (2, 9), (3, 4), (3, 9), (3, 10), (4, 5), (4, 10), (4, 11), (5, 11), (5, 12), (6, 7), (7, 8), (8, 9), (9, 10), (10, 11), (11, 12)], \"d15\")"
   ]
  },
  {
   "cell_type": "code",
   "execution_count": null,
   "id": "eaed102f-d628-4a71-b6bf-67f8670282a9",
   "metadata": {
    "deletable": false,
    "editable": false,
    "tags": [
     "raises-exception"
    ]
   },
   "outputs": [],
   "source": [
    "test_bridge56 = anastruct.SystemElements()\n",
    "v0 = (0.388888888888889, 0.6735753140545634)\n",
    "v1 = (1.1666666666666667, 0.6735753140545634)\n",
    "v2 = (1.9444444444444446, 0.6735753140545634)\n",
    "v3 = (2.7222222222222223, 0.6735753140545634)\n",
    "v4 = (3.5, 0.6735753140545634)\n",
    "v5 = (4.277777777777778, 0.6735753140545634)\n",
    "v6 = (5.055555555555555, 0.6735753140545634)\n",
    "v7 = (5.833333333333333, 0.6735753140545634)\n",
    "v8 = (6.611111111111111, 0.6735753140545634)\n",
    "test_top_vertices = [v0, v1, v2, v3, v4, v5, v6, v7, v8]\n",
    "v9 = (0, 0)\n",
    "v10 = (0.7777777777777778, 0)\n",
    "v11 = (1.5555555555555556, 0)\n",
    "v12 = (2.3333333333333335, 0)\n",
    "v13 = (3.111111111111111, 0)\n",
    "v14 = (3.888888888888889, 0)\n",
    "v15 = (4.666666666666667, 0)\n",
    "v16 = (5.444444444444445, 0)\n",
    "v17 = (6.222222222222222, 0)\n",
    "v18 = (7.0, 0)\n",
    "test_bottom_vertices = [v9, v10, v11, v12, v13, v14, v15, v16, v17, v18]\n",
    "bottom_elements_result = connect_warren_truss_vertices(test_bridge56, test_top_vertices, test_bottom_vertices)\n",
    "code_analyser.inspect_bridge(test_bridge56, bottom_elements_result, [v0, v1, v2, v3, v4, v5, v6, v7, v8, v9, v10, v11, v12, v13, v14, v15, v16, v17, v18],[(0, 1), (0, 9), (0, 10), (1, 2), (1, 10), (1, 11), (2, 3), (2, 11), (2, 12), (3, 4), (3, 12), (3, 13), (4, 5), (4, 13), (4, 14), (5, 6), (5, 14), (5, 15), (6, 7), (6, 15), (6, 16), (7, 8), (7, 16), (7, 17), (8, 17), (8, 18), (9, 10), (10, 11), (11, 12), (12, 13), (13, 14), (14, 15), (15, 16), (16, 17), (17, 18)], \"d16\")"
   ]
  },
  {
   "cell_type": "code",
   "execution_count": null,
   "id": "18890eb3-7ee8-4167-96e8-b7dc5ab149d3",
   "metadata": {
    "deletable": false,
    "editable": false,
    "tags": [
     "raises-exception"
    ]
   },
   "outputs": [],
   "source": [
    "test_bridge57 = anastruct.SystemElements()\n",
    "v0 = (4.500000000000001, 7.794228634059947)\n",
    "test_top_vertices = [v0]\n",
    "v1 = (0, 0)\n",
    "v2 = (9.0, 0)\n",
    "test_bottom_vertices = [v1, v2]\n",
    "bottom_elements_result = connect_warren_truss_vertices(test_bridge57, test_top_vertices, test_bottom_vertices)\n",
    "code_analyser.inspect_bridge(test_bridge57, bottom_elements_result, [v0, v1, v2],[(0, 1), (0, 2), (1, 2)], \"d17\")"
   ]
  },
  {
   "cell_type": "code",
   "execution_count": null,
   "id": "8d74c728-22b1-4389-9d31-dec40b6e4d77",
   "metadata": {
    "deletable": false,
    "editable": false,
    "tags": [
     "raises-exception"
    ]
   },
   "outputs": [],
   "source": [
    "test_bridge60 = anastruct.SystemElements()\n",
    "v0 = (1.1250000000000002, 1.9485571585149868)\n",
    "v1 = (3.375, 1.9485571585149868)\n",
    "v2 = (5.625, 1.9485571585149868)\n",
    "v3 = (7.875, 1.9485571585149868)\n",
    "test_top_vertices = [v0, v1, v2, v3]\n",
    "v4 = (0, 0)\n",
    "v5 = (2.25, 0)\n",
    "v6 = (4.5, 0)\n",
    "v7 = (6.75, 0)\n",
    "v8 = (9.0, 0)\n",
    "test_bottom_vertices = [v4, v5, v6, v7, v8]\n",
    "bottom_elements_result = connect_warren_truss_vertices(test_bridge60, test_top_vertices, test_bottom_vertices)\n",
    "code_analyser.inspect_bridge(test_bridge60, bottom_elements_result, [v0, v1, v2, v3, v4, v5, v6, v7, v8],[(0, 1), (0, 4), (0, 5), (1, 2), (1, 5), (1, 6), (2, 3), (2, 6), (2, 7), (3, 7), (3, 8), (4, 5), (5, 6), (6, 7), (7, 8)], \"d18\")"
   ]
  },
  {
   "cell_type": "code",
   "execution_count": null,
   "id": "6fbe2d8f-e86b-46c7-8998-7c9229f5890d",
   "metadata": {
    "deletable": false,
    "editable": false,
    "tags": [
     "raises-exception"
    ]
   },
   "outputs": [],
   "source": [
    "test_bridge63 = anastruct.SystemElements()\n",
    "v0 = (0.642857142857143, 1.1134612334371354)\n",
    "v1 = (1.9285714285714288, 1.1134612334371354)\n",
    "v2 = (3.2142857142857144, 1.1134612334371354)\n",
    "v3 = (4.5, 1.1134612334371354)\n",
    "v4 = (5.785714285714286, 1.1134612334371354)\n",
    "v5 = (7.071428571428571, 1.1134612334371354)\n",
    "v6 = (8.357142857142858, 1.1134612334371354)\n",
    "test_top_vertices = [v0, v1, v2, v3, v4, v5, v6]\n",
    "v7 = (0, 0)\n",
    "v8 = (1.2857142857142858, 0)\n",
    "v9 = (2.5714285714285716, 0)\n",
    "v10 = (3.8571428571428577, 0)\n",
    "v11 = (5.142857142857143, 0)\n",
    "v12 = (6.428571428571429, 0)\n",
    "v13 = (7.714285714285714, 0)\n",
    "v14 = (9.0, 0)\n",
    "test_bottom_vertices = [v7, v8, v9, v10, v11, v12, v13, v14]\n",
    "bottom_elements_result = connect_warren_truss_vertices(test_bridge63, test_top_vertices, test_bottom_vertices)\n",
    "code_analyser.inspect_bridge(test_bridge63, bottom_elements_result, [v0, v1, v2, v3, v4, v5, v6, v7, v8, v9, v10, v11, v12, v13, v14],[(0, 1), (0, 7), (0, 8), (1, 2), (1, 8), (1, 9), (2, 3), (2, 9), (2, 10), (3, 4), (3, 10), (3, 11), (4, 5), (4, 11), (4, 12), (5, 6), (5, 12), (5, 13), (6, 13), (6, 14), (7, 8), (8, 9), (9, 10), (10, 11), (11, 12), (12, 13), (13, 14)], \"d19\")"
   ]
  },
  {
   "cell_type": "code",
   "execution_count": null,
   "id": "78df6aa8-8f8e-4aa0-b6d5-58fc85657129",
   "metadata": {
    "deletable": false,
    "editable": false,
    "tags": [
     "raises-exception"
    ]
   },
   "outputs": [],
   "source": [
    "test_bridge67 = anastruct.SystemElements()\n",
    "v0 = (0.5000000000000001, 0.8660254037844386)\n",
    "v1 = (1.5, 0.8660254037844386)\n",
    "v2 = (2.5, 0.8660254037844386)\n",
    "v3 = (3.5, 0.8660254037844386)\n",
    "v4 = (4.5, 0.8660254037844386)\n",
    "v5 = (5.5, 0.8660254037844386)\n",
    "v6 = (6.5, 0.8660254037844386)\n",
    "v7 = (7.5, 0.8660254037844386)\n",
    "v8 = (8.5, 0.8660254037844386)\n",
    "v9 = (9.5, 0.8660254037844386)\n",
    "v10 = (10.5, 0.8660254037844386)\n",
    "v11 = (11.5, 0.8660254037844386)\n",
    "v12 = (12.5, 0.8660254037844386)\n",
    "v13 = (13.5, 0.8660254037844386)\n",
    "v14 = (14.5, 0.8660254037844386)\n",
    "v15 = (15.5, 0.8660254037844386)\n",
    "v16 = (16.5, 0.8660254037844386)\n",
    "v17 = (17.5, 0.8660254037844386)\n",
    "v18 = (18.5, 0.8660254037844386)\n",
    "v19 = (19.5, 0.8660254037844386)\n",
    "v20 = (20.5, 0.8660254037844386)\n",
    "v21 = (21.5, 0.8660254037844386)\n",
    "v22 = (22.5, 0.8660254037844386)\n",
    "v23 = (23.5, 0.8660254037844386)\n",
    "v24 = (24.5, 0.8660254037844386)\n",
    "v25 = (25.5, 0.8660254037844386)\n",
    "v26 = (26.5, 0.8660254037844386)\n",
    "v27 = (27.5, 0.8660254037844386)\n",
    "v28 = (28.5, 0.8660254037844386)\n",
    "v29 = (29.5, 0.8660254037844386)\n",
    "v30 = (30.5, 0.8660254037844386)\n",
    "v31 = (31.5, 0.8660254037844386)\n",
    "v32 = (32.5, 0.8660254037844386)\n",
    "v33 = (33.5, 0.8660254037844386)\n",
    "v34 = (34.5, 0.8660254037844386)\n",
    "v35 = (35.5, 0.8660254037844386)\n",
    "v36 = (36.5, 0.8660254037844386)\n",
    "v37 = (37.5, 0.8660254037844386)\n",
    "v38 = (38.5, 0.8660254037844386)\n",
    "v39 = (39.5, 0.8660254037844386)\n",
    "v40 = (40.5, 0.8660254037844386)\n",
    "v41 = (41.5, 0.8660254037844386)\n",
    "v42 = (42.5, 0.8660254037844386)\n",
    "v43 = (43.5, 0.8660254037844386)\n",
    "v44 = (44.5, 0.8660254037844386)\n",
    "v45 = (45.5, 0.8660254037844386)\n",
    "v46 = (46.5, 0.8660254037844386)\n",
    "v47 = (47.5, 0.8660254037844386)\n",
    "v48 = (48.5, 0.8660254037844386)\n",
    "v49 = (49.5, 0.8660254037844386)\n",
    "test_top_vertices = [v0, v1, v2, v3, v4, v5, v6, v7, v8, v9, v10, v11, v12, v13, v14, v15, v16, v17, v18, v19, v20, v21, v22, v23, v24, v25, v26, v27, v28, v29, v30, v31, v32, v33, v34, v35, v36, v37, v38, v39, v40, v41, v42, v43, v44, v45, v46, v47, v48, v49]\n",
    "v50 = (0, 0)\n",
    "v51 = (1.0, 0)\n",
    "v52 = (2.0, 0)\n",
    "v53 = (3.0, 0)\n",
    "v54 = (4.0, 0)\n",
    "v55 = (5.0, 0)\n",
    "v56 = (6.0, 0)\n",
    "v57 = (7.0, 0)\n",
    "v58 = (8.0, 0)\n",
    "v59 = (9.0, 0)\n",
    "v60 = (10.0, 0)\n",
    "v61 = (11.0, 0)\n",
    "v62 = (12.0, 0)\n",
    "v63 = (13.0, 0)\n",
    "v64 = (14.0, 0)\n",
    "v65 = (15.0, 0)\n",
    "v66 = (16.0, 0)\n",
    "v67 = (17.0, 0)\n",
    "v68 = (18.0, 0)\n",
    "v69 = (19.0, 0)\n",
    "v70 = (20.0, 0)\n",
    "v71 = (21.0, 0)\n",
    "v72 = (22.0, 0)\n",
    "v73 = (23.0, 0)\n",
    "v74 = (24.0, 0)\n",
    "v75 = (25.0, 0)\n",
    "v76 = (26.0, 0)\n",
    "v77 = (27.0, 0)\n",
    "v78 = (28.0, 0)\n",
    "v79 = (29.0, 0)\n",
    "v80 = (30.0, 0)\n",
    "v81 = (31.0, 0)\n",
    "v82 = (32.0, 0)\n",
    "v83 = (33.0, 0)\n",
    "v84 = (34.0, 0)\n",
    "v85 = (35.0, 0)\n",
    "v86 = (36.0, 0)\n",
    "v87 = (37.0, 0)\n",
    "v88 = (38.0, 0)\n",
    "v89 = (39.0, 0)\n",
    "v90 = (40.0, 0)\n",
    "v91 = (41.0, 0)\n",
    "v92 = (42.0, 0)\n",
    "v93 = (43.0, 0)\n",
    "v94 = (44.0, 0)\n",
    "v95 = (45.0, 0)\n",
    "v96 = (46.0, 0)\n",
    "v97 = (47.0, 0)\n",
    "v98 = (48.0, 0)\n",
    "v99 = (49.0, 0)\n",
    "v100 = (50.0, 0)\n",
    "test_bottom_vertices = [v50, v51, v52, v53, v54, v55, v56, v57, v58, v59, v60, v61, v62, v63, v64, v65, v66, v67, v68, v69, v70, v71, v72, v73, v74, v75, v76, v77, v78, v79, v80, v81, v82, v83, v84, v85, v86, v87, v88, v89, v90, v91, v92, v93, v94, v95, v96, v97, v98, v99, v100]\n",
    "bottom_elements_result = connect_warren_truss_vertices(test_bridge67, test_top_vertices, test_bottom_vertices)\n",
    "code_analyser.inspect_bridge(test_bridge67, bottom_elements_result, [v0, v1, v2, v3, v4, v5, v6, v7, v8, v9, v10, v11, v12, v13, v14, v15, v16, v17, v18, v19, v20, v21, v22, v23, v24, v25, v26, v27, v28, v29, v30, v31, v32, v33, v34, v35, v36, v37, v38, v39, v40, v41, v42, v43, v44, v45, v46, v47, v48, v49, v50, v51, v52, v53, v54, v55, v56, v57, v58, v59, v60, v61, v62, v63, v64, v65, v66, v67, v68, v69, v70, v71, v72, v73, v74, v75, v76, v77, v78, v79, v80, v81, v82, v83, v84, v85, v86, v87, v88, v89, v90, v91, v92, v93, v94, v95, v96, v97, v98, v99, v100],[(0, 1), (0, 50), (0, 51), (1, 2), (1, 51), (1, 52), (2, 3), (2, 52), (2, 53), (3, 4), (3, 53), (3, 54), (4, 5), (4, 54), (4, 55), (5, 6), (5, 55), (5, 56), (6, 7), (6, 56), (6, 57), (7, 8), (7, 57), (7, 58), (8, 9), (8, 58), (8, 59), (9, 10), (9, 59), (9, 60), (10, 11), (10, 60), (10, 61), (11, 12), (11, 61), (11, 62), (12, 13), (12, 62), (12, 63), (13, 14), (13, 63), (13, 64), (14, 15), (14, 64), (14, 65), (15, 16), (15, 65), (15, 66), (16, 17), (16, 66), (16, 67), (17, 18), (17, 67), (17, 68), (18, 19), (18, 68), (18, 69), (19, 20), (19, 69), (19, 70), (20, 21), (20, 70), (20, 71), (21, 22), (21, 71), (21, 72), (22, 23), (22, 72), (22, 73), (23, 24), (23, 73), (23, 74), (24, 25), (24, 74), (24, 75), (25, 26), (25, 75), (25, 76), (26, 27), (26, 76), (26, 77), (27, 28), (27, 77), (27, 78), (28, 29), (28, 78), (28, 79), (29, 30), (29, 79), (29, 80), (30, 31), (30, 80), (30, 81), (31, 32), (31, 81), (31, 82), (32, 33), (32, 82), (32, 83), (33, 34), (33, 83), (33, 84), (34, 35), (34, 84), (34, 85), (35, 36), (35, 85), (35, 86), (36, 37), (36, 86), (36, 87), (37, 38), (37, 87), (37, 88), (38, 39), (38, 88), (38, 89), (39, 40), (39, 89), (39, 90), (40, 41), (40, 90), (40, 91), (41, 42), (41, 91), (41, 92), (42, 43), (42, 92), (42, 93), (43, 44), (43, 93), (43, 94), (44, 45), (44, 94), (44, 95), (45, 46), (45, 95), (45, 96), (46, 47), (46, 96), (46, 97), (47, 48), (47, 97), (47, 98), (48, 49), (48, 98), (48, 99), (49, 99), (49, 100), (50, 51), (51, 52), (52, 53), (53, 54), (54, 55), (55, 56), (56, 57), (57, 58), (58, 59), (59, 60), (60, 61), (61, 62), (62, 63), (63, 64), (64, 65), (65, 66), (66, 67), (67, 68), (68, 69), (69, 70), (70, 71), (71, 72), (72, 73), (73, 74), (74, 75), (75, 76), (76, 77), (77, 78), (78, 79), (79, 80), (80, 81), (81, 82), (82, 83), (83, 84), (84, 85), (85, 86), (86, 87), (87, 88), (88, 89), (89, 90), (90, 91), (91, 92), (92, 93), (93, 94), (94, 95), (95, 96), (96, 97), (97, 98), (98, 99), (99, 100)], \"d20\")"
   ]
  },
  {
   "cell_type": "markdown",
   "id": "94aef9be-04cc-492f-81bf-985d0b7ec283",
   "metadata": {
    "deletable": false,
    "editable": false
   },
   "source": [
    "## Build Warren Truss"
   ]
  },
  {
   "cell_type": "code",
   "execution_count": null,
   "id": "d2b3c911-21ab-4648-bc29-f609bdf2f91b",
   "metadata": {
    "deletable": false,
    "editable": false,
    "tags": [
     "raises-exception"
    ]
   },
   "outputs": [],
   "source": [
    "# This function has been provided for you - do not modify it in any way\n",
    "# This function positions vertices and then adds truss elements to connect vertices according to a Warren Truss pattern.\n",
    "# Parameters:\n",
    "# - bridge a SystemElements object from the AnaStruct module (to which we can add truss elements).\n",
    "# - horizontal_span_length is the total distance that the bridge spans (from the leftmost bottom vertice to the rightmost bottom vertex)\n",
    "# - number_of_segments is the integer number of segments across the bottom of the bridge.\n",
    "# Return values:\n",
    "# - a tuple consisting of the list of vertices on the bottom and a list of element ids for the bottom elements.\n",
    "def build_warren_truss(bridge, horizontal_span_length, number_of_segments) : \n",
    "    # find the position of all vertices (top and bottom rows)\n",
    "    top_vertices, bottom_vertices = position_warren_truss_vertices(horizontal_span_length, number_of_segments)\n",
    "    \n",
    "    # connect vertices based on warren truss structure\n",
    "    bottom_elements = connect_warren_truss_vertices(bridge, top_vertices, bottom_vertices)       \n",
    "    \n",
    "    # return separate lists for top and bottom rows\n",
    "    return bottom_vertices, bottom_elements"
   ]
  },
  {
   "cell_type": "markdown",
   "id": "a4ed432e-9c96-44fe-8a20-312ccd07d0bf",
   "metadata": {
    "deletable": false,
    "editable": false,
    "jp-MarkdownHeadingCollapsed": true,
    "tags": []
   },
   "source": [
    "### Tests ..."
   ]
  },
  {
   "cell_type": "code",
   "execution_count": null,
   "id": "15ffcb34-da96-4725-8c0e-be6ec39ce170",
   "metadata": {
    "deletable": false,
    "editable": false,
    "tags": [
     "raises-exception"
    ]
   },
   "outputs": [],
   "source": [
    "test_bridge100 = anastruct.SystemElements()\n",
    "build_warren_truss(test_bridge100, 2, 2)\n"
   ]
  },
  {
   "cell_type": "markdown",
   "id": "6b4f8946-8152-4c2c-bcfb-d721fab57dca",
   "metadata": {
    "deletable": false,
    "editable": false
   },
   "source": [
    "# Howe Truss"
   ]
  },
  {
   "cell_type": "markdown",
   "id": "9bfda341-9191-4b71-861a-561692a7cf97",
   "metadata": {
    "deletable": false,
    "editable": false
   },
   "source": [
    "## Position Vertices\n",
    "\n",
    "![Howe Truss Rows](https://images2.imgbox.com/dd/a4/e6lqVbwR_o.png \"Howe Truss Rows\")   \n",
    "\n",
    "Positioning the vertices for a Howe truss is largely the same as for a Warren Truss, the only real difference is computing the location of the top leftmost vertex (using the function created earlier)."
   ]
  },
  {
   "cell_type": "markdown",
   "id": "cc49c98a-76f6-4dd1-b1c2-cac404d0398f",
   "metadata": {
    "deletable": false,
    "editable": false
   },
   "source": [
    "<div style=\"background-color: #00cc00; padding:10px; font-size:large; font-weight: bold\">\n",
    "Task 7: Implement the position_howe_truss_vertices function in the code cell below.\n",
    "</div>"
   ]
  },
  {
   "cell_type": "code",
   "execution_count": null,
   "id": "0d1a35bd-59d1-41e6-a6ca-6ff0cd89647a",
   "metadata": {
    "deletable": false,
    "editable": true,
    "tags": [
     "raises-exception"
    ]
   },
   "outputs": [],
   "source": [
    "# This function determines the x,y coordinates of each of the vertices in the top row and bottom row of a Howe Truss.\n",
    "# Parameters:\n",
    "# - horizontal_span_length is the total distance that the bridge spans (from the leftmost bottom vertice to  the rightmost bottom vertex)\n",
    "# - number_of_segments is the integer number of segments across the bottom of the bridge.\n",
    "# Return values:\n",
    "# - a tuple containing two lists of vertices for the top and bottom rows.\n",
    "def position_howe_truss_vertices(horizontal_span_length, number_of_segments) : # do not change this line in any way - the function name and parameters must remain exactly as specified here\n",
    "    pass # ToDo: replace this line by your code"
   ]
  },
  {
   "cell_type": "markdown",
   "id": "c5f970a0-d7d5-4a54-b515-f550f1bbc797",
   "metadata": {
    "deletable": false,
    "editable": false,
    "jp-MarkdownHeadingCollapsed": true,
    "tags": [],
    "toc-hr-collapsed": true
   },
   "source": [
    "### Tests ..."
   ]
  },
  {
   "cell_type": "code",
   "execution_count": null,
   "id": "642fea7c-c78a-4426-a5e2-1c5f73081aed",
   "metadata": {
    "deletable": false,
    "editable": false,
    "tags": [
     "raises-exception"
    ]
   },
   "outputs": [],
   "source": [
    "result = position_howe_truss_vertices(1, 1) \n",
    "code_analyser.assert_equal(result, ([], [(0, 0), (1.0, 0)]), 'e1')"
   ]
  },
  {
   "cell_type": "code",
   "execution_count": null,
   "id": "ffab0e1e-bfa7-49cd-bfc9-6d5d42ef416a",
   "metadata": {
    "deletable": false,
    "editable": false,
    "tags": [
     "raises-exception"
    ]
   },
   "outputs": [],
   "source": [
    "result = position_howe_truss_vertices(2.1, 1) \n",
    "code_analyser.assert_equal(result, ([], [(0, 0), (2.1, 0)]), 'e2')"
   ]
  },
  {
   "cell_type": "code",
   "execution_count": null,
   "id": "5f4972dc-6afb-4946-9c2a-855653724baf",
   "metadata": {
    "deletable": false,
    "editable": false,
    "tags": [
     "raises-exception"
    ]
   },
   "outputs": [],
   "source": [
    "result = position_howe_truss_vertices(1, 2) \n",
    "code_analyser.assert_equal(result, ([(0.5, 0.5)], [(0, 0), (0.5, 0), (1.0, 0)]), 'e3')"
   ]
  },
  {
   "cell_type": "code",
   "execution_count": null,
   "id": "c041e0c3-ced1-4ede-ac01-3c844f7be079",
   "metadata": {
    "deletable": false,
    "editable": false,
    "tags": [
     "raises-exception"
    ]
   },
   "outputs": [],
   "source": [
    "result = position_howe_truss_vertices(5, 5) \n",
    "code_analyser.assert_equal(result, ([(1.0, 1.0), (2.0, 1.0), (3.0, 1.0), (4.0, 1.0)], [(0, 0), (1.0, 0), (2.0, 0), (3.0, 0), (4.0, 0), (5.0, 0)]), 'e4')"
   ]
  },
  {
   "cell_type": "code",
   "execution_count": null,
   "id": "67796b27-45db-45a3-b09b-10fbe7a508d0",
   "metadata": {
    "deletable": false,
    "editable": false,
    "tags": [
     "raises-exception"
    ]
   },
   "outputs": [],
   "source": [
    "result = position_howe_truss_vertices(1.5, 6) \n",
    "code_analyser.assert_equal(result, ([(0.25, 0.25), (0.5, 0.25), (0.75, 0.25), (1.0, 0.25), (1.25, 0.25)], [(0, 0), (0.25, 0), (0.5, 0), (0.75, 0), (1.0, 0), (1.25, 0), (1.5, 0)]), 'e5')"
   ]
  },
  {
   "cell_type": "code",
   "execution_count": null,
   "id": "a069aa35-70f7-478d-9c3c-a36e8a5942d4",
   "metadata": {
    "deletable": false,
    "editable": false,
    "tags": [
     "raises-exception"
    ]
   },
   "outputs": [],
   "source": [
    "result = position_howe_truss_vertices(3.14, 8) \n",
    "code_analyser.assert_equal(result, ([(0.3925, 0.3925), (0.785, 0.3925), (1.1775, 0.3925), (1.57, 0.3925), (1.9625, 0.3925), (2.355, 0.3925), (2.7475, 0.3925)], [(0, 0), (0.3925, 0), (0.785, 0), (1.1775, 0), (1.57, 0), (1.9625, 0), (2.355, 0), (2.7475, 0), (3.14, 0)]), 'e6')"
   ]
  },
  {
   "cell_type": "markdown",
   "id": "e5a39c5a-455c-400e-b8fa-5db2fc123642",
   "metadata": {
    "deletable": false,
    "editable": false
   },
   "source": [
    "## Howe Truss - Connecting Vertices\n",
    "\n",
    "![Connect Howe Vertices](https://images2.imgbox.com/6d/9f/hAlR1Ndy_o.png \"Connect Howe Vertices\")   \n",
    "\n",
    "As when connecting the Warren Truss Vertices, we should proceed step by step to add each of the five categories of edges: the top orange edges, the bottom green edges, the black vertical edges, the purple diagonally up edges (on the left side of the bridge) and the pink diagonally down edges (on the right side of the bridge).\n",
    "\n",
    "In the example above there are 6 segments, so there will be 3 purple edges and 3 pink edges. However, your code should work for any (even) number of segments. \n",
    "\n",
    "![Connect Howe Vertices Longer](https://images2.imgbox.com/51/da/dCLdISZK_o.png \"Connect Howe Vertices Longer\")   \n",
    "\n",
    "The switch from diagonally up to diagonally down always happens at the midpoint of the bridge. A Howe Truss bridge must therefore always consist of an even number of segments."
   ]
  },
  {
   "cell_type": "markdown",
   "id": "7ae1204e-21db-411e-98d6-463ad3c2b98f",
   "metadata": {
    "deletable": false,
    "editable": false
   },
   "source": [
    "<div style=\"background-color: #00cc00; padding:10px; font-size:large; font-weight: bold\">\n",
    "Task 8: Implement the connect_howe_truss_vertices function in the code cell below.\n",
    "</div>"
   ]
  },
  {
   "cell_type": "code",
   "execution_count": null,
   "id": "07316a5c-ef75-4270-8c12-a45490d71f05",
   "metadata": {
    "deletable": false,
    "editable": true,
    "tags": [
     "raises-exception"
    ]
   },
   "outputs": [],
   "source": [
    "# This function adds truss elements to connect each of the top and bottom vertices according to the pattern of a Howe Truss.\n",
    "# It also computes and returns a list of the element ids of the \"green\" elements across the bottom of the bridge.\n",
    "# Parameters:\n",
    "# - bridge a SystemElements object from the AnaStruct module (to which we can add truss elements).\n",
    "# - top_vertices a list of the x,y coordinates of the vertices in the top row (ordered from left to right)\n",
    "# - bottom_vertices a list of the x,y coordinates of the vertices in the bottom row (ordered from left to right)\n",
    "# Return values:\n",
    "# - a list of the element ids of the \"green\" elements across the bottom of the bridge.\n",
    "def connect_howe_truss_vertices(bridge, top_vertices, bottom_vertices) : # do not change this line in any way - the function name and parameters must remain exactly as specified here\n",
    "    pass # ToDo: replace this line by your code"
   ]
  },
  {
   "cell_type": "markdown",
   "id": "ebf78218-b506-41c3-b410-8186c5209179",
   "metadata": {
    "deletable": false,
    "editable": false,
    "jp-MarkdownHeadingCollapsed": true,
    "tags": [],
    "toc-hr-collapsed": true
   },
   "source": [
    "### Tests ...\n"
   ]
  },
  {
   "cell_type": "code",
   "execution_count": null,
   "id": "3d78d0d5-550b-40f7-a463-24fb549ba7ee",
   "metadata": {
    "deletable": false,
    "editable": false,
    "tags": [
     "raises-exception"
    ]
   },
   "outputs": [],
   "source": [
    "test_bridge1 = anastruct.SystemElements()\n",
    "v0 = (0.5, 0.5)\n",
    "test_top_vertices = [v0]\n",
    "v1 = (0, 0)\n",
    "v2 = (0.5, 0)\n",
    "v3 = (1.0, 0)\n",
    "test_bottom_vertices = [v1, v2, v3]\n",
    "bottom_elements_result = connect_howe_truss_vertices(test_bridge1, test_top_vertices, test_bottom_vertices)\n",
    "code_analyser.inspect_bridge(test_bridge1, bottom_elements_result, [v0, v1, v2, v3],[(0, 1), (0, 2), (0, 3), (1, 2), (2, 3)], \"f01\")"
   ]
  },
  {
   "cell_type": "code",
   "execution_count": null,
   "id": "1fad5ebb-3c47-4326-90a2-2ac299cdda20",
   "metadata": {
    "deletable": false,
    "editable": false,
    "tags": [
     "raises-exception"
    ]
   },
   "outputs": [],
   "source": [
    "test_bridge2 = anastruct.SystemElements()\n",
    "v0 = (0.25, 0.25)\n",
    "v1 = (0.5, 0.25)\n",
    "v2 = (0.75, 0.25)\n",
    "test_top_vertices = [v0, v1, v2]\n",
    "v3 = (0, 0)\n",
    "v4 = (0.25, 0)\n",
    "v5 = (0.5, 0)\n",
    "v6 = (0.75, 0)\n",
    "v7 = (1.0, 0)\n",
    "test_bottom_vertices = [v3, v4, v5, v6, v7]\n",
    "bottom_elements_result = connect_howe_truss_vertices(test_bridge2, test_top_vertices, test_bottom_vertices)\n",
    "code_analyser.inspect_bridge(test_bridge2, bottom_elements_result, [v0, v1, v2, v3, v4, v5, v6, v7],[(0, 1), (0, 3), (0, 4), (1, 2), (1, 4), (1, 5), (1, 6), (2, 6), (2, 7), (3, 4), (4, 5), (5, 6), (6, 7)], \"f02\")"
   ]
  },
  {
   "cell_type": "code",
   "execution_count": null,
   "id": "e6fd2ef1-1c9b-456b-9c5f-e8b9230e5f15",
   "metadata": {
    "deletable": false,
    "editable": false,
    "tags": [
     "raises-exception"
    ]
   },
   "outputs": [],
   "source": [
    "test_bridge3 = anastruct.SystemElements()\n",
    "v0 = (0.16666666666666666, 0.16666666666666666)\n",
    "v1 = (0.3333333333333333, 0.16666666666666666)\n",
    "v2 = (0.5, 0.16666666666666666)\n",
    "v3 = (0.6666666666666666, 0.16666666666666666)\n",
    "v4 = (0.8333333333333333, 0.16666666666666666)\n",
    "test_top_vertices = [v0, v1, v2, v3, v4]\n",
    "v5 = (0, 0)\n",
    "v6 = (0.16666666666666666, 0)\n",
    "v7 = (0.3333333333333333, 0)\n",
    "v8 = (0.5, 0)\n",
    "v9 = (0.6666666666666666, 0)\n",
    "v10 = (0.8333333333333333, 0)\n",
    "v11 = (0.9999999999999999, 0)\n",
    "test_bottom_vertices = [v5, v6, v7, v8, v9, v10, v11]\n",
    "bottom_elements_result = connect_howe_truss_vertices(test_bridge3, test_top_vertices, test_bottom_vertices)\n",
    "code_analyser.inspect_bridge(test_bridge3, bottom_elements_result, [v0, v1, v2, v3, v4, v5, v6, v7, v8, v9, v10, v11],[(0, 1), (0, 5), (0, 6), (1, 2), (1, 6), (1, 7), (2, 3), (2, 7), (2, 8), (2, 9), (3, 4), (3, 9), (3, 10), (4, 10), (4, 11), (5, 6), (6, 7), (7, 8), (8, 9), (9, 10), (10, 11)], \"f03\")"
   ]
  },
  {
   "cell_type": "code",
   "execution_count": null,
   "id": "0dbaff17-3ce4-432c-87c1-680c533ef782",
   "metadata": {
    "deletable": false,
    "editable": false,
    "tags": [
     "raises-exception"
    ]
   },
   "outputs": [],
   "source": [
    "test_bridge4 = anastruct.SystemElements()\n",
    "v0 = (0.125, 0.125)\n",
    "v1 = (0.25, 0.125)\n",
    "v2 = (0.375, 0.125)\n",
    "v3 = (0.5, 0.125)\n",
    "v4 = (0.625, 0.125)\n",
    "v5 = (0.75, 0.125)\n",
    "v6 = (0.875, 0.125)\n",
    "test_top_vertices = [v0, v1, v2, v3, v4, v5, v6]\n",
    "v7 = (0, 0)\n",
    "v8 = (0.125, 0)\n",
    "v9 = (0.25, 0)\n",
    "v10 = (0.375, 0)\n",
    "v11 = (0.5, 0)\n",
    "v12 = (0.625, 0)\n",
    "v13 = (0.75, 0)\n",
    "v14 = (0.875, 0)\n",
    "v15 = (1.0, 0)\n",
    "test_bottom_vertices = [v7, v8, v9, v10, v11, v12, v13, v14, v15]\n",
    "bottom_elements_result = connect_howe_truss_vertices(test_bridge4, test_top_vertices, test_bottom_vertices)\n",
    "code_analyser.inspect_bridge(test_bridge4, bottom_elements_result, [v0, v1, v2, v3, v4, v5, v6, v7, v8, v9, v10, v11, v12, v13, v14, v15],[(0, 1), (0, 7), (0, 8), (1, 2), (1, 8), (1, 9), (2, 3), (2, 9), (2, 10), (3, 4), (3, 10), (3, 11), (3, 12), (4, 5), (4, 12), (4, 13), (5, 6), (5, 13), (5, 14), (6, 14), (6, 15), (7, 8), (8, 9), (9, 10), (10, 11), (11, 12), (12, 13), (13, 14), (14, 15)], \"f04\")"
   ]
  },
  {
   "cell_type": "code",
   "execution_count": null,
   "id": "875d1807-d382-49a1-8ee6-eea95cc07c14",
   "metadata": {
    "deletable": false,
    "editable": false,
    "tags": [
     "raises-exception"
    ]
   },
   "outputs": [],
   "source": [
    "test_bridge5 = anastruct.SystemElements()\n",
    "v0 = (1.5, 1.5)\n",
    "test_top_vertices = [v0]\n",
    "v1 = (0, 0)\n",
    "v2 = (1.5, 0)\n",
    "v3 = (3.0, 0)\n",
    "test_bottom_vertices = [v1, v2, v3]\n",
    "bottom_elements_result = connect_howe_truss_vertices(test_bridge5, test_top_vertices, test_bottom_vertices)\n",
    "code_analyser.inspect_bridge(test_bridge5, bottom_elements_result, [v0, v1, v2, v3],[(0, 1), (0, 2), (0, 3), (1, 2), (2, 3)], \"f05\")"
   ]
  },
  {
   "cell_type": "code",
   "execution_count": null,
   "id": "d097b7d6-b15f-4ee6-a94a-47a14e867c3d",
   "metadata": {
    "deletable": false,
    "editable": false,
    "tags": [
     "raises-exception"
    ]
   },
   "outputs": [],
   "source": [
    "test_bridge7 = anastruct.SystemElements()\n",
    "v0 = (0.5, 0.5)\n",
    "v1 = (1.0, 0.5)\n",
    "v2 = (1.5, 0.5)\n",
    "v3 = (2.0, 0.5)\n",
    "v4 = (2.5, 0.5)\n",
    "test_top_vertices = [v0, v1, v2, v3, v4]\n",
    "v5 = (0, 0)\n",
    "v6 = (0.5, 0)\n",
    "v7 = (1.0, 0)\n",
    "v8 = (1.5, 0)\n",
    "v9 = (2.0, 0)\n",
    "v10 = (2.5, 0)\n",
    "v11 = (3.0, 0)\n",
    "test_bottom_vertices = [v5, v6, v7, v8, v9, v10, v11]\n",
    "bottom_elements_result = connect_howe_truss_vertices(test_bridge7, test_top_vertices, test_bottom_vertices)\n",
    "code_analyser.inspect_bridge(test_bridge7, bottom_elements_result, [v0, v1, v2, v3, v4, v5, v6, v7, v8, v9, v10, v11],[(0, 1), (0, 5), (0, 6), (1, 2), (1, 6), (1, 7), (2, 3), (2, 7), (2, 8), (2, 9), (3, 4), (3, 9), (3, 10), (4, 10), (4, 11), (5, 6), (6, 7), (7, 8), (8, 9), (9, 10), (10, 11)], \"f06\")"
   ]
  },
  {
   "cell_type": "code",
   "execution_count": null,
   "id": "5b35cd3a-7222-453b-bebc-511f165edcd3",
   "metadata": {
    "deletable": false,
    "editable": false,
    "tags": [
     "raises-exception"
    ]
   },
   "outputs": [],
   "source": [
    "test_bridge69 = anastruct.SystemElements()\n",
    "v0 = (0.1, 0.1)\n",
    "v1 = (0.2, 0.1)\n",
    "v2 = (0.3, 0.1)\n",
    "v3 = (0.4, 0.1)\n",
    "v4 = (0.5, 0.1)\n",
    "v5 = (0.6, 0.1)\n",
    "v6 = (0.7, 0.1)\n",
    "v7 = (0.8, 0.1)\n",
    "v8 = (0.9, 0.1)\n",
    "test_top_vertices = [v0, v1, v2, v3, v4, v5, v6, v7, v8]\n",
    "v9 = (0, 0)\n",
    "v10 = (0.1, 0)\n",
    "v11 = (0.2, 0)\n",
    "v12 = (0.3, 0)\n",
    "v13 = (0.4, 0)\n",
    "v14 = (0.5, 0)\n",
    "v15 = (0.6, 0)\n",
    "v16 = (0.7, 0)\n",
    "v17 = (0.8, 0)\n",
    "v18 = (0.9, 0)\n",
    "v19 = (1.0, 0)\n",
    "test_bottom_vertices = [v9, v10, v11, v12, v13, v14, v15, v16, v17, v18, v19]\n",
    "bottom_elements_result = connect_howe_truss_vertices(test_bridge69, test_top_vertices, test_bottom_vertices)\n",
    "code_analyser.inspect_bridge(test_bridge69, bottom_elements_result, [v0, v1, v2, v3, v4, v5, v6, v7, v8, v9, v10, v11, v12, v13, v14, v15, v16, v17, v18, v19],[(0, 1), (0, 9), (0, 10), (1, 2), (1, 10), (1, 11), (2, 3), (2, 11), (2, 12), (3, 4), (3, 12), (3, 13), (4, 5), (4, 13), (4, 14), (4, 15), (5, 6), (5, 15), (5, 16), (6, 7), (6, 16), (6, 17), (7, 8), (7, 17), (7, 18), (8, 18), (8, 19), (9, 10), (10, 11), (11, 12), (12, 13), (13, 14), (14, 15), (15, 16), (16, 17), (17, 18), (18, 19)], \"f07\")\n",
    "\n",
    "([(0, 0),\n",
    "  (0.1, 0),\n",
    "  (0.2, 0),\n",
    "  (0.3, 0),\n",
    "  (0.4, 0),\n",
    "  (0.5, 0),\n",
    "  (0.6, 0),\n",
    "  (0.7, 0),\n",
    "  (0.8, 0),\n",
    "  (0.9, 0),\n",
    "  (1.0, 0)],\n",
    " [28, 29, 30, 31, 32, 33, 34, 35, 36, 37])"
   ]
  },
  {
   "cell_type": "code",
   "execution_count": null,
   "id": "8c2c98f2-a713-4646-9cb7-be7f5deb1fa6",
   "metadata": {
    "deletable": false,
    "editable": false,
    "tags": [
     "raises-exception"
    ]
   },
   "outputs": [],
   "source": [
    "test_bridge68 = anastruct.SystemElements()\n",
    "v0 = (1.0, 1.0)\n",
    "v1 = (2.0, 1.0)\n",
    "v2 = (3.0, 1.0)\n",
    "v3 = (4.0, 1.0)\n",
    "v4 = (5.0, 1.0)\n",
    "v5 = (6.0, 1.0)\n",
    "v6 = (7.0, 1.0)\n",
    "v7 = (8.0, 1.0)\n",
    "v8 = (9.0, 1.0)\n",
    "v9 = (10.0, 1.0)\n",
    "v10 = (11.0, 1.0)\n",
    "v11 = (12.0, 1.0)\n",
    "v12 = (13.0, 1.0)\n",
    "v13 = (14.0, 1.0)\n",
    "v14 = (15.0, 1.0)\n",
    "v15 = (16.0, 1.0)\n",
    "v16 = (17.0, 1.0)\n",
    "v17 = (18.0, 1.0)\n",
    "v18 = (19.0, 1.0)\n",
    "v19 = (20.0, 1.0)\n",
    "v20 = (21.0, 1.0)\n",
    "v21 = (22.0, 1.0)\n",
    "v22 = (23.0, 1.0)\n",
    "v23 = (24.0, 1.0)\n",
    "v24 = (25.0, 1.0)\n",
    "v25 = (26.0, 1.0)\n",
    "v26 = (27.0, 1.0)\n",
    "v27 = (28.0, 1.0)\n",
    "v28 = (29.0, 1.0)\n",
    "v29 = (30.0, 1.0)\n",
    "v30 = (31.0, 1.0)\n",
    "v31 = (32.0, 1.0)\n",
    "v32 = (33.0, 1.0)\n",
    "v33 = (34.0, 1.0)\n",
    "v34 = (35.0, 1.0)\n",
    "v35 = (36.0, 1.0)\n",
    "v36 = (37.0, 1.0)\n",
    "v37 = (38.0, 1.0)\n",
    "v38 = (39.0, 1.0)\n",
    "v39 = (40.0, 1.0)\n",
    "v40 = (41.0, 1.0)\n",
    "v41 = (42.0, 1.0)\n",
    "v42 = (43.0, 1.0)\n",
    "v43 = (44.0, 1.0)\n",
    "v44 = (45.0, 1.0)\n",
    "v45 = (46.0, 1.0)\n",
    "v46 = (47.0, 1.0)\n",
    "v47 = (48.0, 1.0)\n",
    "v48 = (49.0, 1.0)\n",
    "test_top_vertices = [v0, v1, v2, v3, v4, v5, v6, v7, v8, v9, v10, v11, v12, v13, v14, v15, v16, v17, v18, v19, v20, v21, v22, v23, v24, v25, v26, v27, v28, v29, v30, v31, v32, v33, v34, v35, v36, v37, v38, v39, v40, v41, v42, v43, v44, v45, v46, v47, v48]\n",
    "v49 = (0, 0)\n",
    "v50 = (1.0, 0)\n",
    "v51 = (2.0, 0)\n",
    "v52 = (3.0, 0)\n",
    "v53 = (4.0, 0)\n",
    "v54 = (5.0, 0)\n",
    "v55 = (6.0, 0)\n",
    "v56 = (7.0, 0)\n",
    "v57 = (8.0, 0)\n",
    "v58 = (9.0, 0)\n",
    "v59 = (10.0, 0)\n",
    "v60 = (11.0, 0)\n",
    "v61 = (12.0, 0)\n",
    "v62 = (13.0, 0)\n",
    "v63 = (14.0, 0)\n",
    "v64 = (15.0, 0)\n",
    "v65 = (16.0, 0)\n",
    "v66 = (17.0, 0)\n",
    "v67 = (18.0, 0)\n",
    "v68 = (19.0, 0)\n",
    "v69 = (20.0, 0)\n",
    "v70 = (21.0, 0)\n",
    "v71 = (22.0, 0)\n",
    "v72 = (23.0, 0)\n",
    "v73 = (24.0, 0)\n",
    "v74 = (25.0, 0)\n",
    "v75 = (26.0, 0)\n",
    "v76 = (27.0, 0)\n",
    "v77 = (28.0, 0)\n",
    "v78 = (29.0, 0)\n",
    "v79 = (30.0, 0)\n",
    "v80 = (31.0, 0)\n",
    "v81 = (32.0, 0)\n",
    "v82 = (33.0, 0)\n",
    "v83 = (34.0, 0)\n",
    "v84 = (35.0, 0)\n",
    "v85 = (36.0, 0)\n",
    "v86 = (37.0, 0)\n",
    "v87 = (38.0, 0)\n",
    "v88 = (39.0, 0)\n",
    "v89 = (40.0, 0)\n",
    "v90 = (41.0, 0)\n",
    "v91 = (42.0, 0)\n",
    "v92 = (43.0, 0)\n",
    "v93 = (44.0, 0)\n",
    "v94 = (45.0, 0)\n",
    "v95 = (46.0, 0)\n",
    "v96 = (47.0, 0)\n",
    "v97 = (48.0, 0)\n",
    "v98 = (49.0, 0)\n",
    "v99 = (50.0, 0)\n",
    "test_bottom_vertices = [v49, v50, v51, v52, v53, v54, v55, v56, v57, v58, v59, v60, v61, v62, v63, v64, v65, v66, v67, v68, v69, v70, v71, v72, v73, v74, v75, v76, v77, v78, v79, v80, v81, v82, v83, v84, v85, v86, v87, v88, v89, v90, v91, v92, v93, v94, v95, v96, v97, v98, v99]\n",
    "bottom_elements_result = connect_howe_truss_vertices(test_bridge68, test_top_vertices, test_bottom_vertices)\n",
    "code_analyser.inspect_bridge(test_bridge68, bottom_elements_result, [v0, v1, v2, v3, v4, v5, v6, v7, v8, v9, v10, v11, v12, v13, v14, v15, v16, v17, v18, v19, v20, v21, v22, v23, v24, v25, v26, v27, v28, v29, v30, v31, v32, v33, v34, v35, v36, v37, v38, v39, v40, v41, v42, v43, v44, v45, v46, v47, v48, v49, v50, v51, v52, v53, v54, v55, v56, v57, v58, v59, v60, v61, v62, v63, v64, v65, v66, v67, v68, v69, v70, v71, v72, v73, v74, v75, v76, v77, v78, v79, v80, v81, v82, v83, v84, v85, v86, v87, v88, v89, v90, v91, v92, v93, v94, v95, v96, v97, v98, v99],[(0, 1), (0, 49), (0, 50), (1, 2), (1, 50), (1, 51), (2, 3), (2, 51), (2, 52), (3, 4), (3, 52), (3, 53), (4, 5), (4, 53), (4, 54), (5, 6), (5, 54), (5, 55), (6, 7), (6, 55), (6, 56), (7, 8), (7, 56), (7, 57), (8, 9), (8, 57), (8, 58), (9, 10), (9, 58), (9, 59), (10, 11), (10, 59), (10, 60), (11, 12), (11, 60), (11, 61), (12, 13), (12, 61), (12, 62), (13, 14), (13, 62), (13, 63), (14, 15), (14, 63), (14, 64), (15, 16), (15, 64), (15, 65), (16, 17), (16, 65), (16, 66), (17, 18), (17, 66), (17, 67), (18, 19), (18, 67), (18, 68), (19, 20), (19, 68), (19, 69), (20, 21), (20, 69), (20, 70), (21, 22), (21, 70), (21, 71), (22, 23), (22, 71), (22, 72), (23, 24), (23, 72), (23, 73), (24, 25), (24, 73), (24, 74), (24, 75), (25, 26), (25, 75), (25, 76), (26, 27), (26, 76), (26, 77), (27, 28), (27, 77), (27, 78), (28, 29), (28, 78), (28, 79), (29, 30), (29, 79), (29, 80), (30, 31), (30, 80), (30, 81), (31, 32), (31, 81), (31, 82), (32, 33), (32, 82), (32, 83), (33, 34), (33, 83), (33, 84), (34, 35), (34, 84), (34, 85), (35, 36), (35, 85), (35, 86), (36, 37), (36, 86), (36, 87), (37, 38), (37, 87), (37, 88), (38, 39), (38, 88), (38, 89), (39, 40), (39, 89), (39, 90), (40, 41), (40, 90), (40, 91), (41, 42), (41, 91), (41, 92), (42, 43), (42, 92), (42, 93), (43, 44), (43, 93), (43, 94), (44, 45), (44, 94), (44, 95), (45, 46), (45, 95), (45, 96), (46, 47), (46, 96), (46, 97), (47, 48), (47, 97), (47, 98), (48, 98), (48, 99), (49, 50), (50, 51), (51, 52), (52, 53), (53, 54), (54, 55), (55, 56), (56, 57), (57, 58), (58, 59), (59, 60), (60, 61), (61, 62), (62, 63), (63, 64), (64, 65), (65, 66), (66, 67), (67, 68), (68, 69), (69, 70), (70, 71), (71, 72), (72, 73), (73, 74), (74, 75), (75, 76), (76, 77), (77, 78), (78, 79), (79, 80), (80, 81), (81, 82), (82, 83), (83, 84), (84, 85), (85, 86), (86, 87), (87, 88), (88, 89), (89, 90), (90, 91), (91, 92), (92, 93), (93, 94), (94, 95), (95, 96), (96, 97), (97, 98), (98, 99)], \"f08\")"
   ]
  },
  {
   "cell_type": "markdown",
   "id": "e776da3f-0501-4912-9941-cd6976e5b35e",
   "metadata": {
    "deletable": false,
    "editable": false
   },
   "source": [
    "## Build Howe Truss"
   ]
  },
  {
   "cell_type": "code",
   "execution_count": null,
   "id": "0c2a24fc-3431-44af-9d94-dab065f66526",
   "metadata": {
    "deletable": false,
    "editable": false,
    "tags": [
     "raises-exception"
    ]
   },
   "outputs": [],
   "source": [
    "# This function has been provided for you - do not modify it in any way\n",
    "# This function positions vertices and then adds truss elements to connect vertices according to a Howe Truss pattern.\n",
    "# Parameters:\n",
    "# - bridge a SystemElements object from the AnaStruct module (to which we can add truss elements).\n",
    "# - horizontal_span_length is the total distance that the bridge spans (from the leftmost bottom vertice to  the rightmost bottom vertex)\n",
    "# - number_of_segments is the integer number of segments across the bottom of the bridge.\n",
    "# Return values:\n",
    "# - a tuple consisting of the list of vertices on the bottom and a list of element ids for the bottom elements.\n",
    "def build_howe_truss(bridge, horizontal_span_length, number_of_segments) : # do not change this line in any way - the function name and parameters must remain exactly as specified here\n",
    "    # Howe trusses must have even number of segments\n",
    "    assert(number_of_segments % 2 == 0)\n",
    "    top_vertices, bottom_vertices = position_howe_truss_vertices(horizontal_span_length, number_of_segments)\n",
    "    bottom_elements = connect_howe_truss_vertices(bridge, top_vertices, bottom_vertices)\n",
    "    return bottom_vertices, bottom_elements"
   ]
  },
  {
   "cell_type": "markdown",
   "id": "346d7724-cab2-4eec-9260-d956b02da62a",
   "metadata": {
    "deletable": false,
    "editable": false
   },
   "source": [
    "# Apply Loads"
   ]
  },
  {
   "cell_type": "code",
   "execution_count": null,
   "id": "e5a4c5ff-e425-42cf-8c20-c85da2f2c22c",
   "metadata": {
    "deletable": false,
    "editable": false,
    "tags": [
     "raises-exception"
    ]
   },
   "outputs": [],
   "source": [
    "# This function has been provided for you - do not modify it in any way\n",
    "# This function applies the total weight of the bridge evenly to each of the elements across the bottom of the bridge.\n",
    "# Parameters:\n",
    "# - bridge a SystemElements object from the AnaStruct module (to which we can apply loads to truss elements).\n",
    "# - bottom_elements a list of element ids of the elements across the bottom of the bridge (to which we will apply weight loads)\n",
    "# - total_weight is a number representing the total weight of the road surface and vehicles travelling on the bridge\n",
    "# Return value:\n",
    "# - None    \n",
    "\n",
    "def apply_loads(bridge, bottom_elements, total_weight) : # do not change this line in any way - the function name and parameters must remain exactly as specified here\n",
    "    weight_per_element = total_weight / len(bottom_elements)\n",
    "    for id in bottom_elements :\n",
    "        bridge.q_load(q=weight_per_element, element_id=id)"
   ]
  },
  {
   "cell_type": "markdown",
   "id": "17e41f74-9ceb-4132-b1e4-13dc696a3cc4",
   "metadata": {
    "deletable": false,
    "editable": false
   },
   "source": [
    "# Add Supports"
   ]
  },
  {
   "cell_type": "code",
   "execution_count": null,
   "id": "d76941fd-af4d-4172-9787-a1569e04fdc5",
   "metadata": {
    "deletable": false,
    "editable": false,
    "tags": [
     "raises-exception"
    ]
   },
   "outputs": [],
   "source": [
    "# This function has been provided for you - do not modify it in any way\n",
    "# This function adds a fixed support to the left-most bottom vertex and a roll support to the right-most bottom vertex.\n",
    "# Parameters:\n",
    "# - bridge a SystemElements object from the AnaStruct module (to which we can apply loads to truss elements).\n",
    "# - bottom_vertices a list of x,y coordinates of the vertices across the bottom of the bridge (used to compute the leftmost and rightmost node).\n",
    "# Return value:\n",
    "# - None\n",
    "def add_supports(bridge, bottom_vertices) : # do not change this line in any way - the function name and parameters must remain exactly as specified here\n",
    "    bottom_left_node_id = bridge.find_node_id(bottom_vertices[0])\n",
    "    bridge.add_support_fixed(bottom_left_node_id)\n",
    "    \n",
    "    bottom_right_node_id = bridge.find_node_id(bottom_vertices[-1])\n",
    "    bridge.add_support_roll(bottom_right_node_id)"
   ]
  },
  {
   "cell_type": "markdown",
   "id": "f208e89e-52f4-4a72-8d64-73328924f1d4",
   "metadata": {
    "deletable": false,
    "editable": false
   },
   "source": [
    "# Build Bridge"
   ]
  },
  {
   "cell_type": "markdown",
   "id": "939c55bd-ab51-4b11-af81-2c79a1fa8c75",
   "metadata": {
    "deletable": false,
    "editable": false
   },
   "source": [
    "<div style=\"background-color: #00cc00; padding:10px; font-size:large; font-weight: bold\">\n",
    "Task 9: Implement the build_bridge function in the code cell below.\n",
    "</div>"
   ]
  },
  {
   "cell_type": "code",
   "execution_count": null,
   "id": "9d962e54-1959-4349-92ca-a8dfb281593d",
   "metadata": {
    "deletable": false,
    "editable": true,
    "tags": [
     "raises-exception"
    ]
   },
   "outputs": [],
   "source": [
    "# This function creates and builds a model of a bridge based on the specified truss kind and then adds weight loads and supports on each side of the bridge.\n",
    "# It starts by creating a new SystemElements object from the anastruct module.\n",
    "# Parameters:\n",
    "# - truss_design is a string describing what kind of truss to use (either 'Warren' or 'Howe')\n",
    "# - horizontal_span_length is the total distance that the bridge spans (from the leftmost bottom vertice to  the rightmost bottom vertex)\n",
    "# - number_of_segments is the integer number of segments across the bottom of the bridge.\n",
    "# - weight_per_metre is a number representing the weight of the road surface and vehicles per horizontal metre\n",
    "# Return value:\n",
    "# - the SystemElements object representing the bridge model (with all vertices, elements, loads and supports added)\n",
    "def build_bridge(truss_design, horizontal_span_length, number_of_segments, weight_per_metre) : # do not change this line in any way - the function name and parameters must remain exactly as specified here\n",
    "    pass # ToDo: replace this line by your code"
   ]
  },
  {
   "cell_type": "markdown",
   "id": "8122088c-119a-4981-8d96-3d37fbb45d9d",
   "metadata": {
    "deletable": false,
    "editable": false,
    "jp-MarkdownHeadingCollapsed": true,
    "tags": []
   },
   "source": [
    "### Tests ..."
   ]
  },
  {
   "cell_type": "code",
   "execution_count": null,
   "id": "ee60799c-f771-4296-b5b2-012268cf00b2",
   "metadata": {
    "deletable": false,
    "editable": false,
    "tags": [
     "raises-exception"
    ]
   },
   "outputs": [],
   "source": [
    "test_bridge20 = build_bridge(\"Warren\", 1, 2, 115)\n",
    "code_analyser.inspect_bridge(test_bridge20, None, [(0.25000000000000006, 0.4330127018922193), (0.75, 0.4330127018922193), (0, 0), (0.5, 0), (1.0, 0)],[(0, 1), (0, 2), (0, 3), (1, 3), (1, 4), (2, 3), (3, 4)], \"g01\")"
   ]
  },
  {
   "cell_type": "code",
   "execution_count": null,
   "id": "33461cf5-ea22-4884-85c7-cd6a5a23a109",
   "metadata": {
    "deletable": false,
    "editable": false,
    "tags": [
     "raises-exception"
    ]
   },
   "outputs": [],
   "source": [
    "test_bridge21 = build_bridge(\"Warren\", 1, 4, 115)\n",
    "code_analyser.inspect_bridge(test_bridge21, None, [(0.12500000000000003, 0.21650635094610965), (0.375, 0.21650635094610965), (0.625, 0.21650635094610965), (0.875, 0.21650635094610965), (0, 0), (0.25, 0), (0.5, 0), (0.75, 0), (1.0, 0)],[(0, 1), (0, 4), (0, 5), (1, 2), (1, 5), (1, 6), (2, 3), (2, 6), (2, 7), (3, 7), (3, 8), (4, 5), (5, 6), (6, 7), (7, 8)], \"g02\")"
   ]
  },
  {
   "cell_type": "code",
   "execution_count": null,
   "id": "1845fea5-e444-4d4a-bf55-99f9999c8ad9",
   "metadata": {
    "deletable": false,
    "editable": false,
    "tags": [
     "raises-exception"
    ]
   },
   "outputs": [],
   "source": [
    "test_bridge22 = build_bridge(\"Warren\", 1, 6, 115)\n",
    "code_analyser.inspect_bridge(test_bridge22, None, [(0.08333333333333334, 0.14433756729740643), (0.25, 0.14433756729740643), (0.41666666666666663, 0.14433756729740643), (0.5833333333333333, 0.14433756729740643), (0.7499999999999999, 0.14433756729740643), (0.9166666666666665, 0.14433756729740643), (0, 0), (0.16666666666666666, 0), (0.3333333333333333, 0), (0.5, 0), (0.6666666666666666, 0), (0.8333333333333333, 0), (0.9999999999999999, 0)],[(0, 1), (0, 6), (0, 7), (1, 2), (1, 7), (1, 8), (2, 3), (2, 8), (2, 9), (3, 4), (3, 9), (3, 10), (4, 5), (4, 10), (4, 11), (5, 11), (5, 12), (6, 7), (7, 8), (8, 9), (9, 10), (10, 11), (11, 12)], \"g03\")"
   ]
  },
  {
   "cell_type": "code",
   "execution_count": null,
   "id": "0f527c6b-5cc9-442b-b541-544c3d162c1d",
   "metadata": {
    "deletable": false,
    "editable": false,
    "tags": [
     "raises-exception"
    ]
   },
   "outputs": [],
   "source": [
    "test_bridge23 = build_bridge(\"Warren\", 1, 8, 115)\n",
    "code_analyser.inspect_bridge(test_bridge23, None, [(0.06250000000000001, 0.10825317547305482), (0.1875, 0.10825317547305482), (0.3125, 0.10825317547305482), (0.4375, 0.10825317547305482), (0.5625, 0.10825317547305482), (0.6875, 0.10825317547305482), (0.8125, 0.10825317547305482), (0.9375, 0.10825317547305482), (0, 0), (0.125, 0), (0.25, 0), (0.375, 0), (0.5, 0), (0.625, 0), (0.75, 0), (0.875, 0), (1.0, 0)],[(0, 1), (0, 8), (0, 9), (1, 2), (1, 9), (1, 10), (2, 3), (2, 10), (2, 11), (3, 4), (3, 11), (3, 12), (4, 5), (4, 12), (4, 13), (5, 6), (5, 13), (5, 14), (6, 7), (6, 14), (6, 15), (7, 15), (7, 16), (8, 9), (9, 10), (10, 11), (11, 12), (12, 13), (13, 14), (14, 15), (15, 16)], \"g04\")"
   ]
  },
  {
   "cell_type": "code",
   "execution_count": null,
   "id": "945f36d2-f070-49ac-9494-7a5c436812de",
   "metadata": {
    "deletable": false,
    "editable": false,
    "tags": [
     "raises-exception"
    ]
   },
   "outputs": [],
   "source": [
    "test_bridge24 = build_bridge(\"Warren\", 3, 2, 115)\n",
    "code_analyser.inspect_bridge(test_bridge24, None, [(0.7500000000000002, 1.299038105676658), (2.25, 1.299038105676658), (0, 0), (1.5, 0), (3.0, 0)],[(0, 1), (0, 2), (0, 3), (1, 3), (1, 4), (2, 3), (3, 4)], \"g05\")"
   ]
  },
  {
   "cell_type": "code",
   "execution_count": null,
   "id": "e9a2eb27-6572-4607-a8d0-c91bea90e2d5",
   "metadata": {
    "deletable": false,
    "editable": false,
    "tags": [
     "raises-exception"
    ]
   },
   "outputs": [],
   "source": [
    "test_bridge25 = build_bridge(\"Warren\", 3, 6, 115)\n",
    "code_analyser.inspect_bridge(test_bridge25, None, [(0.25000000000000006, 0.4330127018922193), (0.75, 0.4330127018922193), (1.25, 0.4330127018922193), (1.75, 0.4330127018922193), (2.25, 0.4330127018922193), (2.75, 0.4330127018922193), (0, 0), (0.5, 0), (1.0, 0), (1.5, 0), (2.0, 0), (2.5, 0), (3.0, 0)],[(0, 1), (0, 6), (0, 7), (1, 2), (1, 7), (1, 8), (2, 3), (2, 8), (2, 9), (3, 4), (3, 9), (3, 10), (4, 5), (4, 10), (4, 11), (5, 11), (5, 12), (6, 7), (7, 8), (8, 9), (9, 10), (10, 11), (11, 12)], \"g06\")"
   ]
  },
  {
   "cell_type": "code",
   "execution_count": null,
   "id": "f1b792c9-d53e-4a59-94f5-1583c4f0a07f",
   "metadata": {
    "deletable": false,
    "editable": false,
    "tags": [
     "raises-exception"
    ]
   },
   "outputs": [],
   "source": [
    "test_bridge26 = build_bridge(\"Warren\", 1, 10, 115)\n",
    "code_analyser.inspect_bridge(test_bridge26, None, [(0.05000000000000002, 0.08660254037844387), (0.15000000000000002, 0.08660254037844387), (0.25, 0.08660254037844387), (0.35, 0.08660254037844387), (0.44999999999999996, 0.08660254037844387), (0.5499999999999999, 0.08660254037844387), (0.6499999999999999, 0.08660254037844387), (0.7499999999999999, 0.08660254037844387), (0.8499999999999999, 0.08660254037844387), (0.9499999999999998, 0.08660254037844387), (0, 0), (0.1, 0), (0.2, 0), (0.30000000000000004, 0), (0.4, 0), (0.5, 0), (0.6, 0), (0.7, 0), (0.7999999999999999, 0), (0.8999999999999999, 0), (0.9999999999999999, 0)],[(0, 1), (0, 10), (0, 11), (1, 2), (1, 11), (1, 12), (2, 3), (2, 12), (2, 13), (3, 4), (3, 13), (3, 14), (4, 5), (4, 14), (4, 15), (5, 6), (5, 15), (5, 16), (6, 7), (6, 16), (6, 17), (7, 8), (7, 17), (7, 18), (8, 9), (8, 18), (8, 19), (9, 19), (9, 20), (10, 11), (11, 12), (12, 13), (13, 14), (14, 15), (15, 16), (16, 17), (17, 18), (18, 19), (19, 20)], \"g07\")"
   ]
  },
  {
   "cell_type": "code",
   "execution_count": null,
   "id": "8f2a5aeb-d6a1-44a4-9536-6cb12070d1f7",
   "metadata": {
    "deletable": false,
    "editable": false,
    "tags": [
     "raises-exception"
    ]
   },
   "outputs": [],
   "source": [
    "test_bridge27 = build_bridge(\"Warren\", 50, 50, 115)\n",
    "code_analyser.inspect_bridge(test_bridge27, None, [(0.5000000000000001, 0.8660254037844386), (1.5, 0.8660254037844386), (2.5, 0.8660254037844386), (3.5, 0.8660254037844386), (4.5, 0.8660254037844386), (5.5, 0.8660254037844386), (6.5, 0.8660254037844386), (7.5, 0.8660254037844386), (8.5, 0.8660254037844386), (9.5, 0.8660254037844386), (10.5, 0.8660254037844386), (11.5, 0.8660254037844386), (12.5, 0.8660254037844386), (13.5, 0.8660254037844386), (14.5, 0.8660254037844386), (15.5, 0.8660254037844386), (16.5, 0.8660254037844386), (17.5, 0.8660254037844386), (18.5, 0.8660254037844386), (19.5, 0.8660254037844386), (20.5, 0.8660254037844386), (21.5, 0.8660254037844386), (22.5, 0.8660254037844386), (23.5, 0.8660254037844386), (24.5, 0.8660254037844386), (25.5, 0.8660254037844386), (26.5, 0.8660254037844386), (27.5, 0.8660254037844386), (28.5, 0.8660254037844386), (29.5, 0.8660254037844386), (30.5, 0.8660254037844386), (31.5, 0.8660254037844386), (32.5, 0.8660254037844386), (33.5, 0.8660254037844386), (34.5, 0.8660254037844386), (35.5, 0.8660254037844386), (36.5, 0.8660254037844386), (37.5, 0.8660254037844386), (38.5, 0.8660254037844386), (39.5, 0.8660254037844386), (40.5, 0.8660254037844386), (41.5, 0.8660254037844386), (42.5, 0.8660254037844386), (43.5, 0.8660254037844386), (44.5, 0.8660254037844386), (45.5, 0.8660254037844386), (46.5, 0.8660254037844386), (47.5, 0.8660254037844386), (48.5, 0.8660254037844386), (49.5, 0.8660254037844386), (0, 0), (1.0, 0), (2.0, 0), (3.0, 0), (4.0, 0), (5.0, 0), (6.0, 0), (7.0, 0), (8.0, 0), (9.0, 0), (10.0, 0), (11.0, 0), (12.0, 0), (13.0, 0), (14.0, 0), (15.0, 0), (16.0, 0), (17.0, 0), (18.0, 0), (19.0, 0), (20.0, 0), (21.0, 0), (22.0, 0), (23.0, 0), (24.0, 0), (25.0, 0), (26.0, 0), (27.0, 0), (28.0, 0), (29.0, 0), (30.0, 0), (31.0, 0), (32.0, 0), (33.0, 0), (34.0, 0), (35.0, 0), (36.0, 0), (37.0, 0), (38.0, 0), (39.0, 0), (40.0, 0), (41.0, 0), (42.0, 0), (43.0, 0), (44.0, 0), (45.0, 0), (46.0, 0), (47.0, 0), (48.0, 0), (49.0, 0), (50.0, 0)],[(0, 1), (0, 50), (0, 51), (1, 2), (1, 51), (1, 52), (2, 3), (2, 52), (2, 53), (3, 4), (3, 53), (3, 54), (4, 5), (4, 54), (4, 55), (5, 6), (5, 55), (5, 56), (6, 7), (6, 56), (6, 57), (7, 8), (7, 57), (7, 58), (8, 9), (8, 58), (8, 59), (9, 10), (9, 59), (9, 60), (10, 11), (10, 60), (10, 61), (11, 12), (11, 61), (11, 62), (12, 13), (12, 62), (12, 63), (13, 14), (13, 63), (13, 64), (14, 15), (14, 64), (14, 65), (15, 16), (15, 65), (15, 66), (16, 17), (16, 66), (16, 67), (17, 18), (17, 67), (17, 68), (18, 19), (18, 68), (18, 69), (19, 20), (19, 69), (19, 70), (20, 21), (20, 70), (20, 71), (21, 22), (21, 71), (21, 72), (22, 23), (22, 72), (22, 73), (23, 24), (23, 73), (23, 74), (24, 25), (24, 74), (24, 75), (25, 26), (25, 75), (25, 76), (26, 27), (26, 76), (26, 77), (27, 28), (27, 77), (27, 78), (28, 29), (28, 78), (28, 79), (29, 30), (29, 79), (29, 80), (30, 31), (30, 80), (30, 81), (31, 32), (31, 81), (31, 82), (32, 33), (32, 82), (32, 83), (33, 34), (33, 83), (33, 84), (34, 35), (34, 84), (34, 85), (35, 36), (35, 85), (35, 86), (36, 37), (36, 86), (36, 87), (37, 38), (37, 87), (37, 88), (38, 39), (38, 88), (38, 89), (39, 40), (39, 89), (39, 90), (40, 41), (40, 90), (40, 91), (41, 42), (41, 91), (41, 92), (42, 43), (42, 92), (42, 93), (43, 44), (43, 93), (43, 94), (44, 45), (44, 94), (44, 95), (45, 46), (45, 95), (45, 96), (46, 47), (46, 96), (46, 97), (47, 48), (47, 97), (47, 98), (48, 49), (48, 98), (48, 99), (49, 99), (49, 100), (50, 51), (51, 52), (52, 53), (53, 54), (54, 55), (55, 56), (56, 57), (57, 58), (58, 59), (59, 60), (60, 61), (61, 62), (62, 63), (63, 64), (64, 65), (65, 66), (66, 67), (67, 68), (68, 69), (69, 70), (70, 71), (71, 72), (72, 73), (73, 74), (74, 75), (75, 76), (76, 77), (77, 78), (78, 79), (79, 80), (80, 81), (81, 82), (82, 83), (83, 84), (84, 85), (85, 86), (86, 87), (87, 88), (88, 89), (89, 90), (90, 91), (91, 92), (92, 93), (93, 94), (94, 95), (95, 96), (96, 97), (97, 98), (98, 99), (99, 100)], \"g08\")"
   ]
  },
  {
   "cell_type": "code",
   "execution_count": null,
   "id": "a3240e66-d14d-4329-bec9-324dac10fd51",
   "metadata": {
    "deletable": false,
    "editable": false,
    "tags": [
     "raises-exception"
    ]
   },
   "outputs": [],
   "source": [
    "test_bridge28 = build_bridge(\"Howe\", 1, 2, 115)\n",
    "code_analyser.inspect_bridge(test_bridge28, None, [(0.5, 0.5), (0, 0), (0.5, 0), (1.0, 0)],[(0, 1), (0, 2), (0, 3), (1, 2), (2, 3)], \"g09\")"
   ]
  },
  {
   "cell_type": "code",
   "execution_count": null,
   "id": "078d78a3-145f-4cac-b741-1487f79280d3",
   "metadata": {
    "deletable": false,
    "editable": false,
    "tags": [
     "raises-exception"
    ]
   },
   "outputs": [],
   "source": [
    "test_bridge29 = build_bridge(\"Howe\", 1, 4, 115)\n",
    "code_analyser.inspect_bridge(test_bridge29, None, [(0.25, 0.25), (0.5, 0.25), (0.75, 0.25), (0, 0), (0.25, 0), (0.5, 0), (0.75, 0), (1.0, 0)],[(0, 1), (0, 3), (0, 4), (1, 2), (1, 4), (1, 5), (1, 6), (2, 6), (2, 7), (3, 4), (4, 5), (5, 6), (6, 7)], \"g10\")"
   ]
  },
  {
   "cell_type": "code",
   "execution_count": null,
   "id": "7fb00f7b-6de7-4f92-83d3-d966ef4eebe1",
   "metadata": {
    "deletable": false,
    "editable": false,
    "tags": [
     "raises-exception"
    ]
   },
   "outputs": [],
   "source": [
    "test_bridge30 = build_bridge(\"Howe\", 1, 6, 115)\n",
    "code_analyser.inspect_bridge(test_bridge30, None, [(0.16666666666666666, 0.16666666666666666), (0.3333333333333333, 0.16666666666666666), (0.5, 0.16666666666666666), (0.6666666666666666, 0.16666666666666666), (0.8333333333333333, 0.16666666666666666), (0, 0), (0.16666666666666666, 0), (0.3333333333333333, 0), (0.5, 0), (0.6666666666666666, 0), (0.8333333333333333, 0), (0.9999999999999999, 0)],[(0, 1), (0, 5), (0, 6), (1, 2), (1, 6), (1, 7), (2, 3), (2, 7), (2, 8), (2, 9), (3, 4), (3, 9), (3, 10), (4, 10), (4, 11), (5, 6), (6, 7), (7, 8), (8, 9), (9, 10), (10, 11)], \"g11\")"
   ]
  },
  {
   "cell_type": "code",
   "execution_count": null,
   "id": "a9989116-4f31-4571-a7ba-0a76f77dc821",
   "metadata": {
    "deletable": false,
    "editable": false,
    "tags": [
     "raises-exception"
    ]
   },
   "outputs": [],
   "source": [
    "test_bridge31 = build_bridge(\"Howe\", 1, 8, 115)\n",
    "code_analyser.inspect_bridge(test_bridge31, None, [(0.125, 0.125), (0.25, 0.125), (0.375, 0.125), (0.5, 0.125), (0.625, 0.125), (0.75, 0.125), (0.875, 0.125), (0, 0), (0.125, 0), (0.25, 0), (0.375, 0), (0.5, 0), (0.625, 0), (0.75, 0), (0.875, 0), (1.0, 0)],[(0, 1), (0, 7), (0, 8), (1, 2), (1, 8), (1, 9), (2, 3), (2, 9), (2, 10), (3, 4), (3, 10), (3, 11), (3, 12), (4, 5), (4, 12), (4, 13), (5, 6), (5, 13), (5, 14), (6, 14), (6, 15), (7, 8), (8, 9), (9, 10), (10, 11), (11, 12), (12, 13), (13, 14), (14, 15)], \"g12\")"
   ]
  },
  {
   "cell_type": "code",
   "execution_count": null,
   "id": "cd16f895-52ff-4b0e-8ae4-f10bd7dc6cd8",
   "metadata": {
    "deletable": false,
    "editable": false,
    "tags": [
     "raises-exception"
    ]
   },
   "outputs": [],
   "source": [
    "test_bridge32 = build_bridge(\"Howe\", 3, 2, 115)\n",
    "code_analyser.inspect_bridge(test_bridge32, None, [(1.5, 1.5), (0, 0), (1.5, 0), (3.0, 0)],[(0, 1), (0, 2), (0, 3), (1, 2), (2, 3)], \"g13\")"
   ]
  },
  {
   "cell_type": "code",
   "execution_count": null,
   "id": "d6c25d49-0362-4a85-b364-03436ef17eb0",
   "metadata": {
    "deletable": false,
    "editable": false,
    "tags": [
     "raises-exception"
    ]
   },
   "outputs": [],
   "source": [
    "test_bridge33 = build_bridge(\"Howe\", 3, 6, 115)\n",
    "code_analyser.inspect_bridge(test_bridge33, None, [(0.5, 0.5), (1.0, 0.5), (1.5, 0.5), (2.0, 0.5), (2.5, 0.5), (0, 0), (0.5, 0), (1.0, 0), (1.5, 0), (2.0, 0), (2.5, 0), (3.0, 0)],[(0, 1), (0, 5), (0, 6), (1, 2), (1, 6), (1, 7), (2, 3), (2, 7), (2, 8), (2, 9), (3, 4), (3, 9), (3, 10), (4, 10), (4, 11), (5, 6), (6, 7), (7, 8), (8, 9), (9, 10), (10, 11)], \"g14\")"
   ]
  },
  {
   "cell_type": "code",
   "execution_count": null,
   "id": "2e1ee0e2-ceee-4798-bd2e-6a418f697de7",
   "metadata": {
    "deletable": false,
    "editable": false,
    "tags": [
     "raises-exception"
    ]
   },
   "outputs": [],
   "source": [
    "test_bridge34 = build_bridge(\"Howe\", 1, 10, 115)\n",
    "code_analyser.inspect_bridge(test_bridge34, None, [(0.1, 0.1), (0.2, 0.1), (0.3, 0.1), (0.4, 0.1), (0.5, 0.1), (0.6, 0.1), (0.7, 0.1), (0.7999999999999999, 0.1), (0.8999999999999999, 0.1), (0, 0), (0.1, 0), (0.2, 0), (0.30000000000000004, 0), (0.4, 0), (0.5, 0), (0.6, 0), (0.7, 0), (0.7999999999999999, 0), (0.8999999999999999, 0), (0.9999999999999999, 0)],[(0, 1), (0, 9), (0, 10), (1, 2), (1, 10), (1, 11), (2, 3), (2, 11), (2, 12), (3, 4), (3, 12), (3, 13), (4, 5), (4, 13), (4, 14), (4, 15), (5, 6), (5, 15), (5, 16), (6, 7), (6, 16), (6, 17), (7, 8), (7, 17), (7, 18), (8, 18), (8, 19), (9, 10), (10, 11), (11, 12), (12, 13), (13, 14), (14, 15), (15, 16), (16, 17), (17, 18), (18, 19)], \"g15\")"
   ]
  },
  {
   "cell_type": "code",
   "execution_count": null,
   "id": "d39e5982-b497-4abc-9dea-2c89cc48feb5",
   "metadata": {
    "deletable": false,
    "editable": false,
    "tags": [
     "raises-exception"
    ]
   },
   "outputs": [],
   "source": [
    "test_bridge35 = build_bridge(\"Howe\", 50, 50, 115)\n",
    "code_analyser.inspect_bridge(test_bridge35, None, [(1.0, 1.0), (2.0, 1.0), (3.0, 1.0), (4.0, 1.0), (5.0, 1.0), (6.0, 1.0), (7.0, 1.0), (8.0, 1.0), (9.0, 1.0), (10.0, 1.0), (11.0, 1.0), (12.0, 1.0), (13.0, 1.0), (14.0, 1.0), (15.0, 1.0), (16.0, 1.0), (17.0, 1.0), (18.0, 1.0), (19.0, 1.0), (20.0, 1.0), (21.0, 1.0), (22.0, 1.0), (23.0, 1.0), (24.0, 1.0), (25.0, 1.0), (26.0, 1.0), (27.0, 1.0), (28.0, 1.0), (29.0, 1.0), (30.0, 1.0), (31.0, 1.0), (32.0, 1.0), (33.0, 1.0), (34.0, 1.0), (35.0, 1.0), (36.0, 1.0), (37.0, 1.0), (38.0, 1.0), (39.0, 1.0), (40.0, 1.0), (41.0, 1.0), (42.0, 1.0), (43.0, 1.0), (44.0, 1.0), (45.0, 1.0), (46.0, 1.0), (47.0, 1.0), (48.0, 1.0), (49.0, 1.0), (0, 0), (1.0, 0), (2.0, 0), (3.0, 0), (4.0, 0), (5.0, 0), (6.0, 0), (7.0, 0), (8.0, 0), (9.0, 0), (10.0, 0), (11.0, 0), (12.0, 0), (13.0, 0), (14.0, 0), (15.0, 0), (16.0, 0), (17.0, 0), (18.0, 0), (19.0, 0), (20.0, 0), (21.0, 0), (22.0, 0), (23.0, 0), (24.0, 0), (25.0, 0), (26.0, 0), (27.0, 0), (28.0, 0), (29.0, 0), (30.0, 0), (31.0, 0), (32.0, 0), (33.0, 0), (34.0, 0), (35.0, 0), (36.0, 0), (37.0, 0), (38.0, 0), (39.0, 0), (40.0, 0), (41.0, 0), (42.0, 0), (43.0, 0), (44.0, 0), (45.0, 0), (46.0, 0), (47.0, 0), (48.0, 0), (49.0, 0), (50.0, 0)],[(0, 1), (0, 49), (0, 50), (1, 2), (1, 50), (1, 51), (2, 3), (2, 51), (2, 52), (3, 4), (3, 52), (3, 53), (4, 5), (4, 53), (4, 54), (5, 6), (5, 54), (5, 55), (6, 7), (6, 55), (6, 56), (7, 8), (7, 56), (7, 57), (8, 9), (8, 57), (8, 58), (9, 10), (9, 58), (9, 59), (10, 11), (10, 59), (10, 60), (11, 12), (11, 60), (11, 61), (12, 13), (12, 61), (12, 62), (13, 14), (13, 62), (13, 63), (14, 15), (14, 63), (14, 64), (15, 16), (15, 64), (15, 65), (16, 17), (16, 65), (16, 66), (17, 18), (17, 66), (17, 67), (18, 19), (18, 67), (18, 68), (19, 20), (19, 68), (19, 69), (20, 21), (20, 69), (20, 70), (21, 22), (21, 70), (21, 71), (22, 23), (22, 71), (22, 72), (23, 24), (23, 72), (23, 73), (24, 25), (24, 73), (24, 74), (24, 75), (25, 26), (25, 75), (25, 76), (26, 27), (26, 76), (26, 77), (27, 28), (27, 77), (27, 78), (28, 29), (28, 78), (28, 79), (29, 30), (29, 79), (29, 80), (30, 31), (30, 80), (30, 81), (31, 32), (31, 81), (31, 82), (32, 33), (32, 82), (32, 83), (33, 34), (33, 83), (33, 84), (34, 35), (34, 84), (34, 85), (35, 36), (35, 85), (35, 86), (36, 37), (36, 86), (36, 87), (37, 38), (37, 87), (37, 88), (38, 39), (38, 88), (38, 89), (39, 40), (39, 89), (39, 90), (40, 41), (40, 90), (40, 91), (41, 42), (41, 91), (41, 92), (42, 43), (42, 92), (42, 93), (43, 44), (43, 93), (43, 94), (44, 45), (44, 94), (44, 95), (45, 46), (45, 95), (45, 96), (46, 47), (46, 96), (46, 97), (47, 48), (47, 97), (47, 98), (48, 98), (48, 99), (49, 50), (50, 51), (51, 52), (52, 53), (53, 54), (54, 55), (55, 56), (56, 57), (57, 58), (58, 59), (59, 60), (60, 61), (61, 62), (62, 63), (63, 64), (64, 65), (65, 66), (66, 67), (67, 68), (68, 69), (69, 70), (70, 71), (71, 72), (72, 73), (73, 74), (74, 75), (75, 76), (76, 77), (77, 78), (78, 79), (79, 80), (80, 81), (81, 82), (82, 83), (83, 84), (84, 85), (85, 86), (86, 87), (87, 88), (88, 89), (89, 90), (90, 91), (91, 92), (92, 93), (93, 94), (94, 95), (95, 96), (96, 97), (97, 98), (98, 99)], \"g16\")"
   ]
  },
  {
   "cell_type": "markdown",
   "id": "c79147d5-cc86-44bd-a441-ae6140816345",
   "metadata": {
    "deletable": false,
    "editable": false
   },
   "source": [
    "# Post Analysis"
   ]
  },
  {
   "cell_type": "code",
   "execution_count": null,
   "id": "32997589-ca0d-4c03-8409-c0c6a178ba70",
   "metadata": {
    "deletable": false,
    "editable": false,
    "tags": [
     "raises-exception"
    ]
   },
   "outputs": [],
   "source": [
    "# These functions has been provided for you - do not modify them in any way\n",
    "\n",
    "# Compute the total length of all elements used to build the bridge. \n",
    "# A greater length will corresponds to higher material costs $$$ when constructing the bridge.\n",
    "def total_element_length(bridge) :\n",
    "    total_length = 0\n",
    "    for result in bridge.get_element_results(0):\n",
    "        total_length += result[\"length\"]   \n",
    "    return total_length\n",
    "\n",
    "# Return the maximum compression force acting on any element of the bridge\n",
    "def max_compression_force(bridge) : \n",
    "    return - min(bridge.get_element_result_range(\"axial\", \"min\"))\n",
    "\n",
    "# Return the maximum tension force acting on any element of the bridge\n",
    "def max_tension_force(bridge) :\n",
    "    return max(bridge.get_element_result_range(\"axial\", \"max\")) \n",
    "\n",
    "# Return the maximum vertical distance that any node in the bridge will be displayed when the load is applied.\n",
    "def max_displacement(bridge) :\n",
    "    return - min(bridge.get_node_result_range('uy'))\n",
    "\n",
    "# Determine if the bridge is safe to use - based on properties of the building materials used and safety standards.\n",
    "def is_safe(bridge) :\n",
    "    max_safe_compression = 400\n",
    "    max_safe_tension = 450\n",
    "    max_allowed_displacement = 0.3\n",
    "    \n",
    "    if max_compression_force(bridge) < max_safe_compression and max_tension_force(bridge) < max_safe_tension and max_displacement(bridge) < max_allowed_displacement :\n",
    "        return 'yes'\n",
    "    else :\n",
    "        return 'no'"
   ]
  },
  {
   "cell_type": "markdown",
   "id": "4156951a-e61b-4d2e-b449-9473537e1a6b",
   "metadata": {
    "deletable": false,
    "editable": false
   },
   "source": [
    "# Analyse Bridge"
   ]
  },
  {
   "cell_type": "code",
   "execution_count": null,
   "id": "e954417d-86b9-47b5-a200-6568bac4b8b5",
   "metadata": {
    "deletable": false,
    "editable": false,
    "tags": [
     "raises-exception"
    ]
   },
   "outputs": [],
   "source": [
    "# This function has been provided for you - do not modify it in any way\n",
    "# Parameters:\n",
    "# - truss_design is a string describing what kind of truss to use (either 'Warren' or 'Howe')\n",
    "# - horizontal_span_length is the total distance that the bridge spans (from the leftmost bottom vertice to  the rightmost bottom vertex)\n",
    "# - number_of_segments is the integer number of segments across the bottom of the bridge.\n",
    "# - weight_per_metre is a number representing the weight of the road surface and vehicles per horizontal metre\n",
    "# - visualize is a boolean value telling us whether to display the results graphically or numerically.\n",
    "# Return value:\n",
    "# - None\n",
    "def analyse_bridge(truss_design, horizontal_span_length, number_of_segments, weight_per_metre, visualize) : \n",
    "    bridge = build_bridge(truss_design, horizontal_span_length, number_of_segments, weight_per_metre)    \n",
    "    \n",
    "    bridge.solve()   \n",
    "\n",
    "    # Print a headin summarizing the parameters used to build this bridge.\n",
    "    print(truss_design, \"Truss, span =\", horizontal_span_length, \", segments =\", number_of_segments, \", total weight =\", weight_per_metre * horizontal_span_length) \n",
    "    \n",
    "    if visualize :\n",
    "        bridge.show_structure()\n",
    "        bridge.show_axial_force()\n",
    "        bridge.show_displacement()\n",
    "    else :\n",
    "        print(\"    total length =\", \"%.2f\" % total_element_length(bridge))    \n",
    "        print(\"    max compression =\", \"%.2f\" % max_compression_force(bridge))\n",
    "        print(\"    max tension =\", \"%.2f\" % max_tension_force(bridge))\n",
    "        print(\"    max displacement =\", \"%.2f\" % max_displacement(bridge))\n",
    "        print(\"    is safe =\", is_safe(bridge))"
   ]
  },
  {
   "cell_type": "markdown",
   "id": "77082722-8a19-4d3e-aa86-93de4ce1810f",
   "metadata": {
    "deletable": false,
    "editable": false,
    "jp-MarkdownHeadingCollapsed": true,
    "tags": []
   },
   "source": [
    "### Tests ..."
   ]
  },
  {
   "cell_type": "code",
   "execution_count": null,
   "id": "74e45b33-ae86-4ddc-a217-be17620c1e2c",
   "metadata": {
    "deletable": false,
    "editable": false,
    "tags": [
     "raises-exception"
    ]
   },
   "outputs": [],
   "source": [
    "weight_per_metre = 115\n",
    "\n",
    "analyse_bridge(\"Howe\", 5, 4, weight_per_metre, visualize = False)\n",
    "\n",
    "analyse_bridge(\"Warren\", 5, 4, weight_per_metre, visualize = False)\n",
    "\n",
    "analyse_bridge(\"Howe\", 5, 8, weight_per_metre, visualize = True)"
   ]
  },
  {
   "cell_type": "markdown",
   "id": "755452d9-5980-4e77-9a80-51127a98a101",
   "metadata": {
    "deletable": false,
    "editable": false
   },
   "source": [
    "# Experiments and Comparisions\n",
    "\n",
    "Now that we can build models with different parameters and observe the results, we are now in a great place to start experimenting.\n",
    "We have 4 input variables:\n",
    "- kind of truss (Warren or Howe)\n",
    "- total length of bridge\n",
    "- number of bridge truss segments\n",
    "- weight\n",
    "\n",
    "And we have 4 output variables:\n",
    "- total length of elements (more steel will cost more to build)\n",
    "- maximum compression force\n",
    "- maximum tension force\n",
    "- maximum displacement\n",
    "- which together tell us if it is structurally safe.\n",
    "\n",
    "Call analyse_bridge with different input parameters and observe the resulting output variables.\n",
    "\n",
    "What patterns, observations or conclusions can you make?\n",
    "Is one kind of truss \"better\" than another? or does it depend? How might be define better?\n",
    "\n",
    "Your observations/conclusions should be about one paragraph (i.e. more than a single sentence, but not an essay).\n",
    "\n",
    "Create code cells for your explorations/experiments and a markdown cell to summarize your conclusions ..."
   ]
  },
  {
   "cell_type": "code",
   "execution_count": null,
   "id": "187c973d-c51e-4926-810e-4ab37b6a5eaa",
   "metadata": {
    "deletable": false,
    "editable": true
   },
   "outputs": [],
   "source": [
    "# ToDo: add your code here for experiments\n"
   ]
  },
  {
   "cell_type": "markdown",
   "id": "4bbcbce7-2a5e-4b4b-b4a7-8d585dc1b7c9",
   "metadata": {
    "deletable": false,
    "editable": true
   },
   "source": [
    "Add your observations and conclusions here using markdown."
   ]
  },
  {
   "cell_type": "markdown",
   "id": "14765f38-d5a3-48b5-89fd-335e8772745b",
   "metadata": {
    "deletable": false,
    "editable": false
   },
   "source": [
    "<div style=\"background:#00cc00; padding:10px\">\n",
    "    \n",
    "# Task 10: Automated feedback and semi-automated marking\n",
    "\n",
    "Running the following code will give you a good idea how well you are meeting the assessment criteria and the rough mark that you can expect to receive. Note that some of the assessment criteria are marked manually by human tutors, so you won't know your final mark until it is officially submitted and assessed.\n",
    "</div>"
   ]
  },
  {
   "cell_type": "code",
   "execution_count": null,
   "id": "c000e8f6-4576-4415-81e3-b9a026fd5640",
   "metadata": {
    "deletable": false,
    "editable": false,
    "tags": [
     "raises-exception"
    ]
   },
   "outputs": [],
   "source": [
    "# This code has been supplied to provide automated feedback and semi-automated marking (do not change it!)\n",
    "\n",
    "import code_analyser\n",
    "\n",
    "code_analyser.assess_criteria([warren_truss_top_left_vertex, evenly_spaced_horizontal_vertices, position_warren_truss_vertices, connect_warren_truss_vertices, position_howe_truss_vertices, connect_howe_truss_vertices, build_bridge])"
   ]
  }
 ],
 "metadata": {
  "kernelspec": {
   "display_name": "Python 3 (ipykernel)",
   "language": "python",
   "name": "python3"
  },
  "language_info": {
   "codemirror_mode": {
    "name": "ipython",
    "version": 3
   },
   "file_extension": ".py",
   "mimetype": "text/x-python",
   "name": "python",
   "nbconvert_exporter": "python",
   "pygments_lexer": "ipython3",
   "version": "3.10.13"
  },
  "toc-autonumbering": true,
  "toc-showcode": false,
  "toc-showmarkdowntxt": false
 },
 "nbformat": 4,
 "nbformat_minor": 5
}
