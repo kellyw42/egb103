{
 "cells": [
  {
   "cell_type": "markdown",
   "id": "f8a87250-45c9-486e-af5f-dc0d2e58564e",
   "metadata": {
    "deletable": false,
    "editable": false
   },
   "source": [
    "# EGB103 Assignment One - Optimizing Formula 1 Pitstop/Tyre Stragegy\n",
    "\n",
    "Data modelling is used extensively by Engineers working in Motor Sport (and many other fields of endeavour).\n",
    "\n",
    "In this assignment, to help us learn Python in the context of an Authentic Engineering problem, we will create a simple model to help predict the optimal Pitstop/Tyre Strategy for various Grand Prix on the F1 Calendar.\n",
    "\n",
    "<a href=\"https://www.youtube.com/watch?v=szDbWcZAPMU\">INSIDER: F1 Race Strategy Special with Bernie Collins</a>\n"
   ]
  },
  {
   "cell_type": "markdown",
   "id": "87656dee-63d8-4320-bdb4-acfd4438bd48",
   "metadata": {
    "deletable": false,
    "editable": true
   },
   "source": [
    "<div style=\"background-color: yellow; padding:10px\">\n",
    "ToDo: Add Markdown here that includes your name and briefly describe your previous programming experience if any.\n",
    "</div>"
   ]
  },
  {
   "cell_type": "markdown",
   "id": "33f55736-d854-42b7-b976-5f53d66cc8b1",
   "metadata": {
    "deletable": false,
    "editable": false
   },
   "source": [
    "# Fuel Economy\n",
    "\n",
    "The fuel used (measured in kilograms) by an F1 car  is estimated by using the formula: $$0.2 d (1+10^{-5} v^2)$$\n",
    "where $d$ is distance travelled in kilometres and $v$ is velocity (or speed)."
   ]
  },
  {
   "cell_type": "code",
   "execution_count": null,
   "id": "7b3dbfc7-8a19-4892-b1fc-1fac67a7892e",
   "metadata": {
    "deletable": false,
    "tags": []
   },
   "outputs": [],
   "source": [
    "# Parameters:\n",
    "# - speed is measured in kilometres per hour\n",
    "# - distance is measured in kilometres\n",
    "def compute_fuel_used(speed, distance): # do not change this line in any way - the function name and parameters must remain exactly as specified here\n",
    "    pass # ToDo: replace this line by your code"
   ]
  },
  {
   "cell_type": "code",
   "execution_count": null,
   "id": "e39ba9a3-f634-4e54-9dd7-11789113ce91",
   "metadata": {
    "deletable": false,
    "editable": false,
    "tags": []
   },
   "outputs": [],
   "source": [
    "from code_analyser import assert_equal\n",
    "\n",
    "result = compute_fuel_used(1, 1) # travelling 1 km/h for 1 km\n",
    "assert_equal(result, 0.200002, 'testa1')"
   ]
  },
  {
   "cell_type": "code",
   "execution_count": null,
   "id": "33acec98-e301-416b-8483-cfdc8f38d718",
   "metadata": {
    "deletable": false,
    "editable": false,
    "tags": []
   },
   "outputs": [],
   "source": [
    "result = compute_fuel_used(100, 1) # travelling 100 km/h for 1 km\n",
    "assert_equal(result, 0.22, 'testa2')"
   ]
  },
  {
   "cell_type": "code",
   "execution_count": null,
   "id": "27a26ee8-045e-4e98-8394-a6185f51a91f",
   "metadata": {
    "deletable": false,
    "editable": false,
    "tags": []
   },
   "outputs": [],
   "source": [
    "result = compute_fuel_used(200, 1)\n",
    "assert_equal(result, 0.28, 'testa3')"
   ]
  },
  {
   "cell_type": "code",
   "execution_count": null,
   "id": "8b25a492-b6b1-46d7-8295-45674407e666",
   "metadata": {
    "deletable": false,
    "editable": false,
    "tags": []
   },
   "outputs": [],
   "source": [
    "result = compute_fuel_used(300, 1)\n",
    "assert_equal(result, 0.38, 'testa4')"
   ]
  },
  {
   "cell_type": "code",
   "execution_count": null,
   "id": "48f5dde1-9dd2-4b5b-984d-e76bafd15ea6",
   "metadata": {
    "deletable": false,
    "editable": false,
    "tags": []
   },
   "outputs": [],
   "source": [
    "result = compute_fuel_used(202.55922295699946, 5.412)\n",
    "assert_equal(result, 1.5265113048247074, 'testa5')"
   ]
  },
  {
   "cell_type": "code",
   "execution_count": null,
   "id": "1a25efcc-5866-44d4-a8eb-c81c8bd1a11f",
   "metadata": {
    "deletable": false,
    "editable": false,
    "tags": []
   },
   "outputs": [],
   "source": [
    "result = compute_fuel_used(202.65843923951383, 5.412)\n",
    "assert_equal(result, 1.5269464749778336, 'testa6')"
   ]
  },
  {
   "cell_type": "code",
   "execution_count": null,
   "id": "1e7df52c-898e-448f-bad2-d54c5d8e4eab",
   "metadata": {
    "deletable": false,
    "editable": false,
    "tags": []
   },
   "outputs": [],
   "source": [
    "result = compute_fuel_used(204.1036114363781, 5.412)\n",
    "assert_equal(result, 1.5333092681956506, 'testa7')"
   ]
  },
  {
   "cell_type": "code",
   "execution_count": null,
   "id": "c9148605-9722-4fb6-a022-30a2191ed997",
   "metadata": {
    "deletable": false,
    "editable": false,
    "tags": []
   },
   "outputs": [],
   "source": [
    "result = compute_fuel_used(233.8957083029993, 6.174)\n",
    "assert_equal(result, 1.9103245347729125, 'testa8')"
   ]
  },
  {
   "cell_type": "code",
   "execution_count": null,
   "id": "f38f808a-59ae-4b7b-b5a0-cc363bd0059e",
   "metadata": {
    "deletable": false,
    "editable": false,
    "tags": []
   },
   "outputs": [],
   "source": [
    "result = compute_fuel_used(234.06110535562004, 6.174)\n",
    "assert_equal(result, 1.9112802536455589, 'testa9')"
   ]
  },
  {
   "cell_type": "code",
   "execution_count": null,
   "id": "1bf91c5b-7bf3-4de4-a851-1db5e6bf82c6",
   "metadata": {
    "deletable": false,
    "editable": false,
    "tags": []
   },
   "outputs": [],
   "source": [
    "result = compute_fuel_used(234.0251903370518, 6.174)\n",
    "assert_equal(result, 1.9110726673673983, 'testa10')"
   ]
  },
  {
   "cell_type": "markdown",
   "id": "57f4534e-16a7-4e43-b6c4-e052b6634952",
   "metadata": {
    "deletable": false,
    "editable": false
   },
   "source": [
    "# About Tyre Compounds\n",
    "All F1 teams are required to use standard tyres produced by the same tyre manufacturer (which is Pirelli in 2023). Pirelli makes different types of *slick* tyres which are made using different rubber compounds. They are named C0 through to C5. The C5 compound has the softest rubber and so generates the most grip and therefore the fastest lap times, while the C0 compound has the hardest rubber and so generates the least grip and therefore slower lap times. However the disadvantage of the softer compounds is that they wear out faster due the outer surface slowly disintergrating due to friction with the abrasive asphalt track surface. As they wear out, their grip decreases as does lap speed, so they will need to take a pit stop to replace the tyres earlier on softer tyres.\n",
    "\n",
    "<a href=\"https://www.formula1.com/en/latest/article.the-beginners-guide-to-formula-1-tyres.61SvF0Kfg29UR2SPhakDqd.html\">The beginner’s guide to Formula 1 tyres</a>"
   ]
  },
  {
   "cell_type": "code",
   "execution_count": null,
   "id": "1a243a99-cfb1-474e-8a14-3f0ab674d542",
   "metadata": {
    "deletable": false,
    "editable": false,
    "tags": []
   },
   "outputs": [],
   "source": [
    "# We use a dictionary to store information about each tyre compound:\n",
    "\n",
    "C0 = {\"grip\":0.975, \"wear\":1e-14} # hardest compound\n",
    "C1 = {\"grip\":0.980, \"wear\":1e-12}\n",
    "C2 = {\"grip\":0.985, \"wear\":1e-10}\n",
    "C3 = {\"grip\":0.990, \"wear\":1e-8}\n",
    "C4 = {\"grip\":0.995, \"wear\":1e-5}\n",
    "C5 = {\"grip\":1.000, \"wear\":1e-3} # softest compound"
   ]
  },
  {
   "cell_type": "markdown",
   "id": "a1626402-afab-4afa-9c02-516dcc2c382b",
   "metadata": {
    "deletable": false,
    "editable": false
   },
   "source": [
    "# Variation from one Grand Prix Track to another\n",
    "\n",
    "Every Grand Prix track is slightly different due to climate and track characteristics including the speed possible on the straights and corners and the smoothness of asphalt track surface. Pirelli therefore select a different set of tyres for teams to choose from for each Grand Prix track. At every Grand Prix, teams are given three different types of slick tyres that they can select from during the race. Those three types of tyres are always referred to as Soft, Medium and Hard. However these are relative terms and don't refer to a specific tyre compound. For example at the Bahrain Grand Prix, the Soft tyre  is the C3, the Medium tyre is the C2 and the hard tyre is the C1. However, at the Baku Grand Prix (where the asphalt is less abrasive) the teams are offered a softer selection of compounds to select from: the Soft is the C5, the Medium is the C4 and the Hard is the C3. This and other data about each Grand Prix track is stored in a dictionary (with some examples below).\n",
    "\n",
    "Most Gran Prix races have a total distance of around 305km (with Monaco being an exception at only  260km). However the length/distance of each lap varies from track to track, so the number of laps is adjusted accordingly (see examples below). The lap times listed below (measured in seconds) are a reference time for that track based on new tyres with maximum grip and minimal fuel load. They are used as a reference point for estimating actual lap times with heavier fuel loads and more worn tyres. "
   ]
  },
  {
   "cell_type": "code",
   "execution_count": null,
   "id": "6d724ed1-0ad3-43b1-9a34-74da4c8c1b78",
   "metadata": {
    "deletable": false,
    "editable": false,
    "tags": []
   },
   "outputs": [],
   "source": [
    "bahrain =     {\"laps\":57, \"lap_time\": 91.4, \"lap_distance\":5.412, \"abrasion\":5, \"Soft\":C3, \"Medium\":C2, \"Hard\":C1}\n",
    "jeddah =      {\"laps\":50, \"lap_time\": 90.7, \"lap_distance\":6.174, \"abrasion\":2, \"Soft\":C4, \"Medium\":C3, \"Hard\":C2}\n",
    "melbourne =   {\"laps\":58, \"lap_time\": 80.2, \"lap_distance\":5.278, \"abrasion\":2, \"Soft\":C4, \"Medium\":C3, \"Hard\":C2}\n",
    "baku =        {\"laps\":51, \"lap_time\":103.0, \"lap_distance\":6.003, \"abrasion\":1, \"Soft\":C5, \"Medium\":C4, \"Hard\":C3}\n",
    "miami =       {\"laps\":57, \"lap_time\": 91.3, \"lap_distance\":5.412, \"abrasion\":2, \"Soft\":C4, \"Medium\":C3, \"Hard\":C2}\n",
    "monaco =      {\"laps\":78, \"lap_time\": 71.3, \"lap_distance\":3.337, \"abrasion\":1, \"Soft\":C5, \"Medium\":C4, \"Hard\":C3}\n",
    "silverstone = {\"laps\":52, \"lap_time\": 86.7, \"lap_distance\":5.891, \"abrasion\":4, \"Soft\":C3, \"Medium\":C2, \"Hard\":C1}\n",
    "monza =       {\"laps\":53, \"lap_time\": 81.0, \"lap_distance\":5.793, \"abrasion\":3, \"Soft\":C4, \"Medium\":C3, \"Hard\":C2}"
   ]
  },
  {
   "cell_type": "markdown",
   "id": "5ade9206-4a93-4d8c-9606-456927f2a2db",
   "metadata": {
    "deletable": false,
    "editable": false
   },
   "source": [
    "# How Tyre Grip Decreases With Age\n",
    "\n",
    "The grip coefficient for an F1 tyre is given by: $$\\frac{g}{1+ w 10^{a-3} 1.10571^d}$$\n",
    "where: $g$ is the initial grip (when new) of the tyre compound, $a$ is the abrasion of the track, $w$ is the wear coeffient of the tyre compound and $d$ is the distanced travelled on the current tyre.                                                          "
   ]
  },
  {
   "cell_type": "code",
   "execution_count": null,
   "id": "b0b1c021-c3e3-41ee-be06-54a6ff6caef4",
   "metadata": {
    "deletable": false,
    "editable": true,
    "tags": []
   },
   "outputs": [],
   "source": [
    "# Parameters:\n",
    "# - track_abrasion is a number indicating the relative roughness of the track surface (which causes the tyres to wear out faster)\n",
    "# - tyre_data is dictionary as per the type compounds listed above, e.g. C1 or C2\n",
    "# - distance_travelled is the total distance travelled so far on the current set of tyres\n",
    "def tyre_grip(track_abrasion, tyre_data, distance_travelled): # do not change this line in any way - the function name and parameters must remain exactly as specified here\n",
    "    pass # ToDo: replace this line by your code"
   ]
  },
  {
   "cell_type": "code",
   "execution_count": null,
   "id": "985b5f3b-73e2-4a2c-b6ee-555b92eded5a",
   "metadata": {
    "deletable": false,
    "editable": false,
    "tags": []
   },
   "outputs": [],
   "source": [
    "result = tyre_grip(3, C3, 0)\n",
    "assert_equal(result, 0.9899999901000002, \"testb1\")"
   ]
  },
  {
   "cell_type": "code",
   "execution_count": null,
   "id": "87301165-d05b-414d-8a9f-03061f231591",
   "metadata": {
    "deletable": false,
    "editable": false,
    "tags": []
   },
   "outputs": [],
   "source": [
    "result = tyre_grip(5, C2, 0)\n",
    "assert_equal(result, 0.9849999901500002, \"testb2\")"
   ]
  },
  {
   "cell_type": "code",
   "execution_count": null,
   "id": "46db3861-e37f-4a5c-9c6a-1a808ad1e119",
   "metadata": {
    "deletable": false,
    "editable": false,
    "tags": []
   },
   "outputs": [],
   "source": [
    "result = tyre_grip(5, C2, 5.412)\n",
    "assert_equal(result, 0.9849999830770305, \"testb3\")"
   ]
  },
  {
   "cell_type": "code",
   "execution_count": null,
   "id": "c3dedec2-b428-4cd1-a303-5c965223f459",
   "metadata": {
    "deletable": false,
    "editable": false,
    "tags": []
   },
   "outputs": [],
   "source": [
    "result = tyre_grip(5, C2, 129.888)\n",
    "assert_equal(result, 0.9807094918944097, \"testb4\")"
   ]
  },
  {
   "cell_type": "code",
   "execution_count": null,
   "id": "b8dfad2c-b884-45e4-8181-b0478fb37fc7",
   "metadata": {
    "deletable": false,
    "editable": false,
    "tags": []
   },
   "outputs": [],
   "source": [
    "result = tyre_grip(5, C1, 0)\n",
    "assert_equal(result, 0.9799999999019999, \"testb5\")"
   ]
  },
  {
   "cell_type": "code",
   "execution_count": null,
   "id": "ed160df4-35a6-4462-b321-f801974f8582",
   "metadata": {
    "deletable": false,
    "editable": false,
    "tags": []
   },
   "outputs": [],
   "source": [
    "result = tyre_grip(5, C1, 5.412)\n",
    "assert_equal(result, 0.9799999998316293, \"testb6\")"
   ]
  },
  {
   "cell_type": "code",
   "execution_count": null,
   "id": "c09ce237-f204-4d32-87a8-f7d4fd35684c",
   "metadata": {
    "deletable": false,
    "editable": false,
    "tags": []
   },
   "outputs": [],
   "source": [
    "result = tyre_grip(5, C1, 167.772)\n",
    "assert_equal(result, 0.9781092324455153, \"testb7\")"
   ]
  },
  {
   "cell_type": "code",
   "execution_count": null,
   "id": "a3e85421-f51b-4723-8f6e-e5015a3a684b",
   "metadata": {
    "deletable": false,
    "editable": false,
    "tags": []
   },
   "outputs": [],
   "source": [
    "result = tyre_grip(2, C4, 0)\n",
    "assert_equal(result, 0.994999005000995, \"testb8\")"
   ]
  },
  {
   "cell_type": "code",
   "execution_count": null,
   "id": "597521fb-150e-466b-8cab-e2f803bb50aa",
   "metadata": {
    "deletable": false,
    "editable": false,
    "tags": []
   },
   "outputs": [],
   "source": [
    "result = tyre_grip(2, C4, 6.174)\n",
    "assert_equal(result, 0.994998155171975, \"testb9\")"
   ]
  },
  {
   "cell_type": "code",
   "execution_count": null,
   "id": "27b6aaab-7525-4691-a52a-e300223910c9",
   "metadata": {
    "deletable": false,
    "editable": false,
    "tags": []
   },
   "outputs": [],
   "source": [
    "result = tyre_grip(2, C4, 92.61)\n",
    "assert_equal(result, 0.9846418435568105, \"testb10\")"
   ]
  },
  {
   "cell_type": "code",
   "execution_count": null,
   "id": "3de1d1f8-1260-4585-a39b-f525e7c7387a",
   "metadata": {
    "deletable": false,
    "editable": false,
    "tags": []
   },
   "outputs": [],
   "source": [
    "result = tyre_grip(2, C2, 0)\n",
    "assert_equal(result, 0.98499999999015, \"testb11\")"
   ]
  },
  {
   "cell_type": "code",
   "execution_count": null,
   "id": "5a813a99-6ed8-4d12-9aff-f2fecdf464ea",
   "metadata": {
    "deletable": false,
    "editable": false,
    "tags": []
   },
   "outputs": [],
   "source": [
    "result = tyre_grip(2, C2, 6.174)\n",
    "assert_equal(result, 0.9849999999817372, \"testb12\")"
   ]
  },
  {
   "cell_type": "code",
   "execution_count": null,
   "id": "8dbc8249-9046-40e9-8326-1b4dd86cf940",
   "metadata": {
    "deletable": false,
    "editable": false,
    "tags": []
   },
   "outputs": [],
   "source": [
    "result = tyre_grip(2, C2, 12.348)\n",
    "assert_equal(result, 0.9849999999661387, \"testb13\")"
   ]
  },
  {
   "cell_type": "code",
   "execution_count": null,
   "id": "232b6195-5a42-412e-99e4-50891309fda7",
   "metadata": {
    "deletable": false,
    "editable": false,
    "tags": []
   },
   "outputs": [],
   "source": [
    "result = tyre_grip(2, C2, 203.742)\n",
    "assert_equal(result, 0.9781008935175808, \"testb14\")"
   ]
  },
  {
   "cell_type": "markdown",
   "id": "b88f3378-6de2-4f6f-b320-b6042e54b607",
   "metadata": {
    "deletable": false,
    "editable": false
   },
   "source": [
    "# Tyre Wear and Fuel Adjusted Lap Times\n",
    "\n",
    "The time taken to complete a lap (measured in seconds) is computed by dividing the reference lap time for the track by the grip coefficient of the current tyres. \n",
    "We also need to adjust for the current fuel by adding $0.0057 d f$ seconds where $d$ is the lap distance (measured in kilometres)  and $f$ is the current fuel load (measured in kilograms)."
   ]
  },
  {
   "cell_type": "code",
   "execution_count": null,
   "id": "ef37b331-a3a6-4b5b-b0a8-fe961fec03e2",
   "metadata": {
    "deletable": false,
    "editable": true,
    "tags": []
   },
   "outputs": [],
   "source": [
    "# Parameters:\n",
    "# - track_data is a dictionary as per the track data above, e.g. bahrain or monaco\n",
    "# - tyre_name is either \"Soft\", \"Medium\" or \"Hard\"\n",
    "# - fuel load is the load at the start of the lap (measured in kilograms)\n",
    "# - distance_travelled is the total distance travelled so far on the current set of tyres\n",
    "def compute_lap_time(track_data, tyre_name, fuel_load, distance_travelled): # do not change this line in any way - the function name and parameters must remain exactly as specified here\n",
    "    pass # ToDo: replace this line by your code"
   ]
  },
  {
   "cell_type": "code",
   "execution_count": null,
   "id": "79da33a2-a45f-4158-97b9-0a5ee3d025af",
   "metadata": {
    "deletable": false,
    "editable": false,
    "tags": []
   },
   "outputs": [],
   "source": [
    "result = compute_lap_time(bahrain, 'Medium', 110.0, 0)\n",
    "assert_equal(result, 96.18520310050762, 'testc1')"
   ]
  },
  {
   "cell_type": "code",
   "execution_count": null,
   "id": "18e92230-8d1d-4a08-a66f-21c6bac43f18",
   "metadata": {
    "deletable": false,
    "editable": false,
    "tags": []
   },
   "outputs": [],
   "source": [
    "result = compute_lap_time(bahrain, 'Medium', 108.47348869517529, 5.412)\n",
    "assert_equal(result, 96.13811333548065, 'testc2')"
   ]
  },
  {
   "cell_type": "code",
   "execution_count": null,
   "id": "31116bf6-9db0-40d4-a485-44f25d4f1a9d",
   "metadata": {
    "deletable": false,
    "editable": false,
    "tags": []
   },
   "outputs": [],
   "source": [
    "result = compute_lap_time(bahrain, 'Medium', 73.24743106461801, 129.888)\n",
    "assert_equal(result, 95.45739961623943, 'testc3')"
   ]
  },
  {
   "cell_type": "code",
   "execution_count": null,
   "id": "356e9e59-7b5a-4304-a6ef-7e9be846683a",
   "metadata": {
    "deletable": false,
    "editable": false,
    "tags": []
   },
   "outputs": [],
   "source": [
    "result = compute_lap_time(bahrain, 'Hard', 71.71412179642236, 0)\n",
    "assert_equal(result, 95.47757204660027, 'testc4')"
   ]
  },
  {
   "cell_type": "code",
   "execution_count": null,
   "id": "f88eabd9-0a80-4ec1-b0e3-950864479b02",
   "metadata": {
    "deletable": false,
    "editable": false,
    "tags": []
   },
   "outputs": [],
   "source": [
    "result = compute_lap_time(bahrain, 'Hard', 70.18100304364778, 5.412)\n",
    "assert_equal(result, 95.43027779276426, 'testc5')"
   ]
  },
  {
   "cell_type": "code",
   "execution_count": null,
   "id": "0c7dd817-9770-493d-956a-53394dfd4040",
   "metadata": {
    "deletable": false,
    "editable": false,
    "tags": []
   },
   "outputs": [],
   "source": [
    "result = compute_lap_time(bahrain, 'Hard', 23.978482648619117, 167.772)\n",
    "assert_equal(result, 94.18529364115842, 'testc6')"
   ]
  },
  {
   "cell_type": "code",
   "execution_count": null,
   "id": "3a18b7f8-afbf-4e2f-bb55-eb2e60bd2bb4",
   "metadata": {
    "deletable": false,
    "editable": false,
    "tags": []
   },
   "outputs": [],
   "source": [
    "result = compute_lap_time(jeddah, 'Soft', 110.0, 0)\n",
    "assert_equal(result, 95.02696805025126, 'testc7')"
   ]
  },
  {
   "cell_type": "code",
   "execution_count": null,
   "id": "058dfe8d-faeb-4c98-8292-ec3ec94e6ae6",
   "metadata": {
    "deletable": false,
    "editable": false,
    "tags": []
   },
   "outputs": [],
   "source": [
    "result = compute_lap_time(jeddah, 'Soft', 108.08967546522709, 6.174)\n",
    "assert_equal(result, 94.95981814761743, 'testc8')"
   ]
  },
  {
   "cell_type": "code",
   "execution_count": null,
   "id": "59c4e360-9292-4ce0-b7b6-51d47ed6bc18",
   "metadata": {
    "deletable": false,
    "editable": false,
    "tags": []
   },
   "outputs": [],
   "source": [
    "result = compute_lap_time(jeddah, 'Soft', 81.25981436316495, 92.61)\n",
    "assert_equal(result, 94.97439129517943, 'testc9')"
   ]
  },
  {
   "cell_type": "code",
   "execution_count": null,
   "id": "52a23910-6ec5-4cb0-9026-e44c90750e19",
   "metadata": {
    "deletable": false,
    "editable": false,
    "tags": []
   },
   "outputs": [],
   "source": [
    "result = compute_lap_time(jeddah, 'Hard', 79.34874169579756, 0)\n",
    "assert_equal(result, 94.87364332304267, 'testc10')"
   ]
  },
  {
   "cell_type": "code",
   "execution_count": null,
   "id": "4f5aadec-0ea6-4ca5-a301-52b96cf0671e",
   "metadata": {
    "deletable": false,
    "editable": false,
    "tags": []
   },
   "outputs": [],
   "source": [
    "result = compute_lap_time(jeddah, 'Hard', 77.43623197440076, 6.174)\n",
    "assert_equal(result, 94.80633866421567, 'testc11')"
   ]
  },
  {
   "cell_type": "code",
   "execution_count": null,
   "id": "76d7b307-5ded-41e5-860b-fbea50ee3556",
   "metadata": {
    "deletable": false,
    "editable": false,
    "tags": []
   },
   "outputs": [],
   "source": [
    "result = compute_lap_time(jeddah, 'Hard', 75.52275967575518, 12.348)\n",
    "assert_equal(result, 94.73900013123439, 'testc12')"
   ]
  },
  {
   "cell_type": "code",
   "execution_count": null,
   "id": "e83d44a0-6bcc-468d-9c08-469295c2bbd4",
   "metadata": {
    "deletable": false,
    "editable": false,
    "tags": []
   },
   "outputs": [],
   "source": [
    "result = compute_lap_time(jeddah, 'Hard', 15.724978789937186, 203.742)\n",
    "assert_equal(result, 93.284110218069, 'testc13')"
   ]
  },
  {
   "cell_type": "markdown",
   "id": "8e44af05-01dc-48aa-8d1e-f96ea2c82908",
   "metadata": {
    "deletable": false,
    "editable": false
   },
   "source": [
    "# What is a Stint?\n",
    "\n",
    "A *stint* is a sequence of consequive laps completed on the same set of tyres. Each stint begins with a new fresh set of tyres. Pit stops are conducted between stints to change tyres but fuel cannot be added during an F1 pit stop. At the start of each lap in a stint we need to compute the lap time for the next lap (based on the current fuel load and tyre age (measured in kilometres travelled). At the end of each lap we need to reduce the current fuel load, increase the distance travelled on these tyres and keep track of the total number of seconds raced during this stint. The function should return a tuple containing two numbers: the total stint time measured in seconds and the fuel load measured in kilograms that remains at the end of the stint. Note: that fuel load will be used as the initial fuel load for the next stint. You can however assume that you will start with enough fuel so that you will never run out entirely before the end of the race.\n",
    "\n",
    "<a href=\"https://formulapedia.com/stint-in-f1-easy/\">What Is a Stint In F1?</a>\n"
   ]
  },
  {
   "cell_type": "code",
   "execution_count": null,
   "id": "a286ab04-efdd-46d4-b345-232162e93b92",
   "metadata": {
    "deletable": false,
    "editable": true,
    "tags": []
   },
   "outputs": [],
   "source": [
    "# Parameters:\n",
    "# - track_data is a dictionary as per the track data above, e.g. bahrain or monaco\n",
    "# - tyre_name is either \"Soft\", \"Medium\" or \"Hard\"\n",
    "# - stint_laps is an integer number indicating how many laps we will complete on this set of tyres during this stint\n",
    "# - initial fuel load at the start of the stint measured in kilograms\n",
    "def compute_stint_time(track_data, tyre_name, stint_laps, fuel_load): # do not change this line in any way - the function name and parameters must remain exactly as specified here\n",
    "    pass # ToDo: replace this line by your code"
   ]
  },
  {
   "cell_type": "code",
   "execution_count": null,
   "id": "b6b70b0b-f49a-4914-ac36-ef4819be43d8",
   "metadata": {
    "deletable": false,
    "editable": false,
    "tags": []
   },
   "outputs": [],
   "source": [
    "result = compute_stint_time(bahrain, 'Medium', 25, 110.0)\n",
    "assert_equal(result, (2391.4434415376595, 71.71412179642236), 'testd1')"
   ]
  },
  {
   "cell_type": "code",
   "execution_count": null,
   "id": "c86893a7-ab3c-49eb-a678-030093d30929",
   "metadata": {
    "deletable": false,
    "editable": false,
    "tags": []
   },
   "outputs": [],
   "source": [
    "result = compute_stint_time(bahrain, 'Hard', 32, 71.71412179642236)\n",
    "assert_equal(result, (3032.1866318780667, 22.43291078565353), 'testd2')"
   ]
  },
  {
   "cell_type": "code",
   "execution_count": null,
   "id": "953c0acf-08da-4a76-b87f-cc0cfb16c6ec",
   "metadata": {
    "deletable": false,
    "editable": false,
    "tags": []
   },
   "outputs": [],
   "source": [
    "result = compute_stint_time(bahrain, 'Medium', 3, 110.0)\n",
    "assert_equal(result, (288.414327060594, 105.41915981523911), 'testd3')"
   ]
  },
  {
   "cell_type": "code",
   "execution_count": null,
   "id": "56bde582-25d3-4b9c-b143-16fc32f2b266",
   "metadata": {
    "deletable": false,
    "editable": false,
    "tags": []
   },
   "outputs": [],
   "source": [
    "result = compute_stint_time(bahrain, 'Hard', 54, 105.41915981523911)\n",
    "assert_equal(result, (69079.68657224762, 28.42091713609472), 'testd4')"
   ]
  },
  {
   "cell_type": "code",
   "execution_count": null,
   "id": "d3dfc134-799b-401d-8c3a-4c735885330f",
   "metadata": {
    "deletable": false,
    "editable": false,
    "tags": []
   },
   "outputs": [],
   "source": [
    "result = compute_stint_time(jeddah, 'Soft', 16, 110.0)\n",
    "assert_equal(result, (1514.4264853438342, 79.34874169579756), 'testd5')"
   ]
  },
  {
   "cell_type": "code",
   "execution_count": null,
   "id": "8892efb3-6370-4a3d-95ff-976fcc429726",
   "metadata": {
    "deletable": false,
    "editable": false,
    "tags": []
   },
   "outputs": [],
   "source": [
    "result = compute_stint_time(jeddah, 'Hard', 34, 79.34874169579756)\n",
    "assert_equal(result, (3189.1498413229015, 13.789176356096561), 'testd6')"
   ]
  },
  {
   "cell_type": "code",
   "execution_count": null,
   "id": "a1dc2fb6-595a-4e02-8593-6f4c3a9eda1a",
   "metadata": {
    "deletable": false,
    "editable": false,
    "tags": []
   },
   "outputs": [],
   "source": [
    "result = compute_stint_time(jeddah, 'Medium', 4, 110.0)\n",
    "assert_equal(result, (381.5469125265276, 102.37904089559137), 'testd7')"
   ]
  },
  {
   "cell_type": "code",
   "execution_count": null,
   "id": "70d972f7-ce54-4cb9-9a1d-ed9cc83b7a15",
   "metadata": {
    "deletable": false,
    "editable": false,
    "tags": []
   },
   "outputs": [],
   "source": [
    "result = compute_stint_time(jeddah, 'Hard', 46, 102.37904089559137)\n",
    "assert_equal(result, (6659.231222460979, 18.229897585239637), 'testd8')"
   ]
  },
  {
   "cell_type": "markdown",
   "id": "be5ef959-3afe-4942-9804-cca622856f7e",
   "metadata": {
    "deletable": false,
    "editable": false
   },
   "source": [
    "# About Tyre/Pitstop Race Strategy\n",
    "\n",
    "A single set of tyres will typically not last an entire Grand Prix race. However, even if they could, F1 has a strict rule/regulation that says that teams must conduct at least one pit stop during the race in which they change tyres and use a different tyre compound. If a team chooses to stop for a pit stop only once during the race then that is referred to as a *one-stop* strategy. There will therefore be two stints on two different tyre compounds. Teams can however, opt to  stop for as many pit stops as they wish provided they do at least one pit stop and use at least two different tyre compounds. The pit stop/tyre strategy also involves deciding how many laps to do during each stint.  For example, if the entire race was 57 laps then one possible one-stop strategy would be to race the first 20 laps on the Soft tyre and then conduct a pit stop, and race the final 37 laps on the Hard tyre. We will represent each stint using a tuple containing the name of the tyre (i.e. \"Soft\", \"Medium\" or \"Hard\") and the number of laps for that stint. A particular race strategy is represented by a list of such tuples, one for each stint. For example the above strategy would be represented by the list: [(\"Soft\", 20), (\"Hard\", 37)]. An alternative two-stop strategy might be: [(\"Soft\", 14), (\"Soft\", 18), (\"Medium\", 25)]. Note that the total number of laps across all stints must sum to 57 (for this particular Grand Prix track) and at least two different tyre compounds needs to be used, so [(\"Medium\", 25), (\"Medium\", 32)] is **not** a valid/legal strategy.\n",
    "\n",
    "<a href=\"https://www.youtube.com/watch?v=szDbWcZAPMU\">INSIDER: F1 Race Strategy Special with Bernie Collins</a>"
   ]
  },
  {
   "cell_type": "code",
   "execution_count": null,
   "id": "a30bc995-f4f4-4c67-b2be-c489b7af0158",
   "metadata": {
    "deletable": false,
    "editable": false,
    "tags": []
   },
   "outputs": [],
   "source": [
    "tyre_option_names = ['Soft', 'Medium', 'Hard']"
   ]
  },
  {
   "cell_type": "code",
   "execution_count": null,
   "id": "2f0d692b-1acb-406f-907f-f396b1de6c87",
   "metadata": {
    "deletable": false,
    "editable": true,
    "tags": []
   },
   "outputs": [],
   "source": [
    "# Parameters:\n",
    "# - track_data is a dictionary as per the track data above, e.g. bahrain or monico\n",
    "def enumerate_one_stop_strategies(track_data): # do not change this line in any way - the function name and parameters must remain exactly as specified here\n",
    "    # returns a list containing every possible strategy for this track (the strategies don't need to be enumerated in any particular order)\n",
    "    return [] # ToDo: replace this line by your code"
   ]
  },
  {
   "cell_type": "code",
   "execution_count": null,
   "id": "60e0624d-c499-40ad-9b80-e3473ab660b7",
   "metadata": {
    "deletable": false,
    "editable": false,
    "tags": []
   },
   "outputs": [],
   "source": [
    "short_test_track = {\"laps\":3, \"lap_time\": 90, \"lap_distance\":5, \"abrasion\":3, \"Soft\":C4, \"Medium\":C3, \"Hard\":C2}\n",
    "result = enumerate_one_stop_strategies(short_test_track)\n",
    "assert_equal(sorted(result), [[('Hard', 1), ('Medium', 2)], [('Hard', 1), ('Soft', 2)], [('Hard', 2), ('Medium', 1)], [('Hard', 2), ('Soft', 1)], [('Medium', 1), ('Hard', 2)], [('Medium', 1), ('Soft', 2)], [('Medium', 2), ('Hard', 1)], [('Medium', 2), ('Soft', 1)], [('Soft', 1), ('Hard', 2)], [('Soft', 1), ('Medium', 2)], [('Soft', 2), ('Hard', 1)], [('Soft', 2), ('Medium', 1)]], 'teste1')"
   ]
  },
  {
   "cell_type": "code",
   "execution_count": null,
   "id": "196b7e61-12e2-4ed5-9afc-733556b0b0d8",
   "metadata": {
    "deletable": false,
    "editable": false,
    "tags": []
   },
   "outputs": [],
   "source": [
    "result = enumerate_one_stop_strategies(bahrain)\n",
    "assert_equal(sorted(result), [[('Hard', 1), ('Medium', 56)], [('Hard', 1), ('Soft', 56)], [('Hard', 2), ('Medium', 55)], [('Hard', 2), ('Soft', 55)], [('Hard', 3), ('Medium', 54)], [('Hard', 3), ('Soft', 54)], [('Hard', 4), ('Medium', 53)], [('Hard', 4), ('Soft', 53)], [('Hard', 5), ('Medium', 52)], [('Hard', 5), ('Soft', 52)], [('Hard', 6), ('Medium', 51)], [('Hard', 6), ('Soft', 51)], [('Hard', 7), ('Medium', 50)], [('Hard', 7), ('Soft', 50)], [('Hard', 8), ('Medium', 49)], [('Hard', 8), ('Soft', 49)], [('Hard', 9), ('Medium', 48)], [('Hard', 9), ('Soft', 48)], [('Hard', 10), ('Medium', 47)], [('Hard', 10), ('Soft', 47)], [('Hard', 11), ('Medium', 46)], [('Hard', 11), ('Soft', 46)], [('Hard', 12), ('Medium', 45)], [('Hard', 12), ('Soft', 45)], [('Hard', 13), ('Medium', 44)], [('Hard', 13), ('Soft', 44)], [('Hard', 14), ('Medium', 43)], [('Hard', 14), ('Soft', 43)], [('Hard', 15), ('Medium', 42)], [('Hard', 15), ('Soft', 42)], [('Hard', 16), ('Medium', 41)], [('Hard', 16), ('Soft', 41)], [('Hard', 17), ('Medium', 40)], [('Hard', 17), ('Soft', 40)], [('Hard', 18), ('Medium', 39)], [('Hard', 18), ('Soft', 39)], [('Hard', 19), ('Medium', 38)], [('Hard', 19), ('Soft', 38)], [('Hard', 20), ('Medium', 37)], [('Hard', 20), ('Soft', 37)], [('Hard', 21), ('Medium', 36)], [('Hard', 21), ('Soft', 36)], [('Hard', 22), ('Medium', 35)], [('Hard', 22), ('Soft', 35)], [('Hard', 23), ('Medium', 34)], [('Hard', 23), ('Soft', 34)], [('Hard', 24), ('Medium', 33)], [('Hard', 24), ('Soft', 33)], [('Hard', 25), ('Medium', 32)], [('Hard', 25), ('Soft', 32)], [('Hard', 26), ('Medium', 31)], [('Hard', 26), ('Soft', 31)], [('Hard', 27), ('Medium', 30)], [('Hard', 27), ('Soft', 30)], [('Hard', 28), ('Medium', 29)], [('Hard', 28), ('Soft', 29)], [('Hard', 29), ('Medium', 28)], [('Hard', 29), ('Soft', 28)], [('Hard', 30), ('Medium', 27)], [('Hard', 30), ('Soft', 27)], [('Hard', 31), ('Medium', 26)], [('Hard', 31), ('Soft', 26)], [('Hard', 32), ('Medium', 25)], [('Hard', 32), ('Soft', 25)], [('Hard', 33), ('Medium', 24)], [('Hard', 33), ('Soft', 24)], [('Hard', 34), ('Medium', 23)], [('Hard', 34), ('Soft', 23)], [('Hard', 35), ('Medium', 22)], [('Hard', 35), ('Soft', 22)], [('Hard', 36), ('Medium', 21)], [('Hard', 36), ('Soft', 21)], [('Hard', 37), ('Medium', 20)], [('Hard', 37), ('Soft', 20)], [('Hard', 38), ('Medium', 19)], [('Hard', 38), ('Soft', 19)], [('Hard', 39), ('Medium', 18)], [('Hard', 39), ('Soft', 18)], [('Hard', 40), ('Medium', 17)], [('Hard', 40), ('Soft', 17)], [('Hard', 41), ('Medium', 16)], [('Hard', 41), ('Soft', 16)], [('Hard', 42), ('Medium', 15)], [('Hard', 42), ('Soft', 15)], [('Hard', 43), ('Medium', 14)], [('Hard', 43), ('Soft', 14)], [('Hard', 44), ('Medium', 13)], [('Hard', 44), ('Soft', 13)], [('Hard', 45), ('Medium', 12)], [('Hard', 45), ('Soft', 12)], [('Hard', 46), ('Medium', 11)], [('Hard', 46), ('Soft', 11)], [('Hard', 47), ('Medium', 10)], [('Hard', 47), ('Soft', 10)], [('Hard', 48), ('Medium', 9)], [('Hard', 48), ('Soft', 9)], [('Hard', 49), ('Medium', 8)], [('Hard', 49), ('Soft', 8)], [('Hard', 50), ('Medium', 7)], [('Hard', 50), ('Soft', 7)], [('Hard', 51), ('Medium', 6)], [('Hard', 51), ('Soft', 6)], [('Hard', 52), ('Medium', 5)], [('Hard', 52), ('Soft', 5)], [('Hard', 53), ('Medium', 4)], [('Hard', 53), ('Soft', 4)], [('Hard', 54), ('Medium', 3)], [('Hard', 54), ('Soft', 3)], [('Hard', 55), ('Medium', 2)], [('Hard', 55), ('Soft', 2)], [('Hard', 56), ('Medium', 1)], [('Hard', 56), ('Soft', 1)], [('Medium', 1), ('Hard', 56)], [('Medium', 1), ('Soft', 56)], [('Medium', 2), ('Hard', 55)], [('Medium', 2), ('Soft', 55)], [('Medium', 3), ('Hard', 54)], [('Medium', 3), ('Soft', 54)], [('Medium', 4), ('Hard', 53)], [('Medium', 4), ('Soft', 53)], [('Medium', 5), ('Hard', 52)], [('Medium', 5), ('Soft', 52)], [('Medium', 6), ('Hard', 51)], [('Medium', 6), ('Soft', 51)], [('Medium', 7), ('Hard', 50)], [('Medium', 7), ('Soft', 50)], [('Medium', 8), ('Hard', 49)], [('Medium', 8), ('Soft', 49)], [('Medium', 9), ('Hard', 48)], [('Medium', 9), ('Soft', 48)], [('Medium', 10), ('Hard', 47)], [('Medium', 10), ('Soft', 47)], [('Medium', 11), ('Hard', 46)], [('Medium', 11), ('Soft', 46)], [('Medium', 12), ('Hard', 45)], [('Medium', 12), ('Soft', 45)], [('Medium', 13), ('Hard', 44)], [('Medium', 13), ('Soft', 44)], [('Medium', 14), ('Hard', 43)], [('Medium', 14), ('Soft', 43)], [('Medium', 15), ('Hard', 42)], [('Medium', 15), ('Soft', 42)], [('Medium', 16), ('Hard', 41)], [('Medium', 16), ('Soft', 41)], [('Medium', 17), ('Hard', 40)], [('Medium', 17), ('Soft', 40)], [('Medium', 18), ('Hard', 39)], [('Medium', 18), ('Soft', 39)], [('Medium', 19), ('Hard', 38)], [('Medium', 19), ('Soft', 38)], [('Medium', 20), ('Hard', 37)], [('Medium', 20), ('Soft', 37)], [('Medium', 21), ('Hard', 36)], [('Medium', 21), ('Soft', 36)], [('Medium', 22), ('Hard', 35)], [('Medium', 22), ('Soft', 35)], [('Medium', 23), ('Hard', 34)], [('Medium', 23), ('Soft', 34)], [('Medium', 24), ('Hard', 33)], [('Medium', 24), ('Soft', 33)], [('Medium', 25), ('Hard', 32)], [('Medium', 25), ('Soft', 32)], [('Medium', 26), ('Hard', 31)], [('Medium', 26), ('Soft', 31)], [('Medium', 27), ('Hard', 30)], [('Medium', 27), ('Soft', 30)], [('Medium', 28), ('Hard', 29)], [('Medium', 28), ('Soft', 29)], [('Medium', 29), ('Hard', 28)], [('Medium', 29), ('Soft', 28)], [('Medium', 30), ('Hard', 27)], [('Medium', 30), ('Soft', 27)], [('Medium', 31), ('Hard', 26)], [('Medium', 31), ('Soft', 26)], [('Medium', 32), ('Hard', 25)], [('Medium', 32), ('Soft', 25)], [('Medium', 33), ('Hard', 24)], [('Medium', 33), ('Soft', 24)], [('Medium', 34), ('Hard', 23)], [('Medium', 34), ('Soft', 23)], [('Medium', 35), ('Hard', 22)], [('Medium', 35), ('Soft', 22)], [('Medium', 36), ('Hard', 21)], [('Medium', 36), ('Soft', 21)], [('Medium', 37), ('Hard', 20)], [('Medium', 37), ('Soft', 20)], [('Medium', 38), ('Hard', 19)], [('Medium', 38), ('Soft', 19)], [('Medium', 39), ('Hard', 18)], [('Medium', 39), ('Soft', 18)], [('Medium', 40), ('Hard', 17)], [('Medium', 40), ('Soft', 17)], [('Medium', 41), ('Hard', 16)], [('Medium', 41), ('Soft', 16)], [('Medium', 42), ('Hard', 15)], [('Medium', 42), ('Soft', 15)], [('Medium', 43), ('Hard', 14)], [('Medium', 43), ('Soft', 14)], [('Medium', 44), ('Hard', 13)], [('Medium', 44), ('Soft', 13)], [('Medium', 45), ('Hard', 12)], [('Medium', 45), ('Soft', 12)], [('Medium', 46), ('Hard', 11)], [('Medium', 46), ('Soft', 11)], [('Medium', 47), ('Hard', 10)], [('Medium', 47), ('Soft', 10)], [('Medium', 48), ('Hard', 9)], [('Medium', 48), ('Soft', 9)], [('Medium', 49), ('Hard', 8)], [('Medium', 49), ('Soft', 8)], [('Medium', 50), ('Hard', 7)], [('Medium', 50), ('Soft', 7)], [('Medium', 51), ('Hard', 6)], [('Medium', 51), ('Soft', 6)], [('Medium', 52), ('Hard', 5)], [('Medium', 52), ('Soft', 5)], [('Medium', 53), ('Hard', 4)], [('Medium', 53), ('Soft', 4)], [('Medium', 54), ('Hard', 3)], [('Medium', 54), ('Soft', 3)], [('Medium', 55), ('Hard', 2)], [('Medium', 55), ('Soft', 2)], [('Medium', 56), ('Hard', 1)], [('Medium', 56), ('Soft', 1)], [('Soft', 1), ('Hard', 56)], [('Soft', 1), ('Medium', 56)], [('Soft', 2), ('Hard', 55)], [('Soft', 2), ('Medium', 55)], [('Soft', 3), ('Hard', 54)], [('Soft', 3), ('Medium', 54)], [('Soft', 4), ('Hard', 53)], [('Soft', 4), ('Medium', 53)], [('Soft', 5), ('Hard', 52)], [('Soft', 5), ('Medium', 52)], [('Soft', 6), ('Hard', 51)], [('Soft', 6), ('Medium', 51)], [('Soft', 7), ('Hard', 50)], [('Soft', 7), ('Medium', 50)], [('Soft', 8), ('Hard', 49)], [('Soft', 8), ('Medium', 49)], [('Soft', 9), ('Hard', 48)], [('Soft', 9), ('Medium', 48)], [('Soft', 10), ('Hard', 47)], [('Soft', 10), ('Medium', 47)], [('Soft', 11), ('Hard', 46)], [('Soft', 11), ('Medium', 46)], [('Soft', 12), ('Hard', 45)], [('Soft', 12), ('Medium', 45)], [('Soft', 13), ('Hard', 44)], [('Soft', 13), ('Medium', 44)], [('Soft', 14), ('Hard', 43)], [('Soft', 14), ('Medium', 43)], [('Soft', 15), ('Hard', 42)], [('Soft', 15), ('Medium', 42)], [('Soft', 16), ('Hard', 41)], [('Soft', 16), ('Medium', 41)], [('Soft', 17), ('Hard', 40)], [('Soft', 17), ('Medium', 40)], [('Soft', 18), ('Hard', 39)], [('Soft', 18), ('Medium', 39)], [('Soft', 19), ('Hard', 38)], [('Soft', 19), ('Medium', 38)], [('Soft', 20), ('Hard', 37)], [('Soft', 20), ('Medium', 37)], [('Soft', 21), ('Hard', 36)], [('Soft', 21), ('Medium', 36)], [('Soft', 22), ('Hard', 35)], [('Soft', 22), ('Medium', 35)], [('Soft', 23), ('Hard', 34)], [('Soft', 23), ('Medium', 34)], [('Soft', 24), ('Hard', 33)], [('Soft', 24), ('Medium', 33)], [('Soft', 25), ('Hard', 32)], [('Soft', 25), ('Medium', 32)], [('Soft', 26), ('Hard', 31)], [('Soft', 26), ('Medium', 31)], [('Soft', 27), ('Hard', 30)], [('Soft', 27), ('Medium', 30)], [('Soft', 28), ('Hard', 29)], [('Soft', 28), ('Medium', 29)], [('Soft', 29), ('Hard', 28)], [('Soft', 29), ('Medium', 28)], [('Soft', 30), ('Hard', 27)], [('Soft', 30), ('Medium', 27)], [('Soft', 31), ('Hard', 26)], [('Soft', 31), ('Medium', 26)], [('Soft', 32), ('Hard', 25)], [('Soft', 32), ('Medium', 25)], [('Soft', 33), ('Hard', 24)], [('Soft', 33), ('Medium', 24)], [('Soft', 34), ('Hard', 23)], [('Soft', 34), ('Medium', 23)], [('Soft', 35), ('Hard', 22)], [('Soft', 35), ('Medium', 22)], [('Soft', 36), ('Hard', 21)], [('Soft', 36), ('Medium', 21)], [('Soft', 37), ('Hard', 20)], [('Soft', 37), ('Medium', 20)], [('Soft', 38), ('Hard', 19)], [('Soft', 38), ('Medium', 19)], [('Soft', 39), ('Hard', 18)], [('Soft', 39), ('Medium', 18)], [('Soft', 40), ('Hard', 17)], [('Soft', 40), ('Medium', 17)], [('Soft', 41), ('Hard', 16)], [('Soft', 41), ('Medium', 16)], [('Soft', 42), ('Hard', 15)], [('Soft', 42), ('Medium', 15)], [('Soft', 43), ('Hard', 14)], [('Soft', 43), ('Medium', 14)], [('Soft', 44), ('Hard', 13)], [('Soft', 44), ('Medium', 13)], [('Soft', 45), ('Hard', 12)], [('Soft', 45), ('Medium', 12)], [('Soft', 46), ('Hard', 11)], [('Soft', 46), ('Medium', 11)], [('Soft', 47), ('Hard', 10)], [('Soft', 47), ('Medium', 10)], [('Soft', 48), ('Hard', 9)], [('Soft', 48), ('Medium', 9)], [('Soft', 49), ('Hard', 8)], [('Soft', 49), ('Medium', 8)], [('Soft', 50), ('Hard', 7)], [('Soft', 50), ('Medium', 7)], [('Soft', 51), ('Hard', 6)], [('Soft', 51), ('Medium', 6)], [('Soft', 52), ('Hard', 5)], [('Soft', 52), ('Medium', 5)], [('Soft', 53), ('Hard', 4)], [('Soft', 53), ('Medium', 4)], [('Soft', 54), ('Hard', 3)], [('Soft', 54), ('Medium', 3)], [('Soft', 55), ('Hard', 2)], [('Soft', 55), ('Medium', 2)], [('Soft', 56), ('Hard', 1)], [('Soft', 56), ('Medium', 1)]], 'teste2')"
   ]
  },
  {
   "cell_type": "code",
   "execution_count": null,
   "id": "060cea09-f6be-4346-a5a0-04a242bd7a2f",
   "metadata": {
    "deletable": false,
    "editable": false,
    "tags": []
   },
   "outputs": [],
   "source": [
    "result = enumerate_one_stop_strategies(jeddah)\n",
    "assert_equal(sorted(result), [[('Hard', 1), ('Medium', 49)], [('Hard', 1), ('Soft', 49)], [('Hard', 2), ('Medium', 48)], [('Hard', 2), ('Soft', 48)], [('Hard', 3), ('Medium', 47)], [('Hard', 3), ('Soft', 47)], [('Hard', 4), ('Medium', 46)], [('Hard', 4), ('Soft', 46)], [('Hard', 5), ('Medium', 45)], [('Hard', 5), ('Soft', 45)], [('Hard', 6), ('Medium', 44)], [('Hard', 6), ('Soft', 44)], [('Hard', 7), ('Medium', 43)], [('Hard', 7), ('Soft', 43)], [('Hard', 8), ('Medium', 42)], [('Hard', 8), ('Soft', 42)], [('Hard', 9), ('Medium', 41)], [('Hard', 9), ('Soft', 41)], [('Hard', 10), ('Medium', 40)], [('Hard', 10), ('Soft', 40)], [('Hard', 11), ('Medium', 39)], [('Hard', 11), ('Soft', 39)], [('Hard', 12), ('Medium', 38)], [('Hard', 12), ('Soft', 38)], [('Hard', 13), ('Medium', 37)], [('Hard', 13), ('Soft', 37)], [('Hard', 14), ('Medium', 36)], [('Hard', 14), ('Soft', 36)], [('Hard', 15), ('Medium', 35)], [('Hard', 15), ('Soft', 35)], [('Hard', 16), ('Medium', 34)], [('Hard', 16), ('Soft', 34)], [('Hard', 17), ('Medium', 33)], [('Hard', 17), ('Soft', 33)], [('Hard', 18), ('Medium', 32)], [('Hard', 18), ('Soft', 32)], [('Hard', 19), ('Medium', 31)], [('Hard', 19), ('Soft', 31)], [('Hard', 20), ('Medium', 30)], [('Hard', 20), ('Soft', 30)], [('Hard', 21), ('Medium', 29)], [('Hard', 21), ('Soft', 29)], [('Hard', 22), ('Medium', 28)], [('Hard', 22), ('Soft', 28)], [('Hard', 23), ('Medium', 27)], [('Hard', 23), ('Soft', 27)], [('Hard', 24), ('Medium', 26)], [('Hard', 24), ('Soft', 26)], [('Hard', 25), ('Medium', 25)], [('Hard', 25), ('Soft', 25)], [('Hard', 26), ('Medium', 24)], [('Hard', 26), ('Soft', 24)], [('Hard', 27), ('Medium', 23)], [('Hard', 27), ('Soft', 23)], [('Hard', 28), ('Medium', 22)], [('Hard', 28), ('Soft', 22)], [('Hard', 29), ('Medium', 21)], [('Hard', 29), ('Soft', 21)], [('Hard', 30), ('Medium', 20)], [('Hard', 30), ('Soft', 20)], [('Hard', 31), ('Medium', 19)], [('Hard', 31), ('Soft', 19)], [('Hard', 32), ('Medium', 18)], [('Hard', 32), ('Soft', 18)], [('Hard', 33), ('Medium', 17)], [('Hard', 33), ('Soft', 17)], [('Hard', 34), ('Medium', 16)], [('Hard', 34), ('Soft', 16)], [('Hard', 35), ('Medium', 15)], [('Hard', 35), ('Soft', 15)], [('Hard', 36), ('Medium', 14)], [('Hard', 36), ('Soft', 14)], [('Hard', 37), ('Medium', 13)], [('Hard', 37), ('Soft', 13)], [('Hard', 38), ('Medium', 12)], [('Hard', 38), ('Soft', 12)], [('Hard', 39), ('Medium', 11)], [('Hard', 39), ('Soft', 11)], [('Hard', 40), ('Medium', 10)], [('Hard', 40), ('Soft', 10)], [('Hard', 41), ('Medium', 9)], [('Hard', 41), ('Soft', 9)], [('Hard', 42), ('Medium', 8)], [('Hard', 42), ('Soft', 8)], [('Hard', 43), ('Medium', 7)], [('Hard', 43), ('Soft', 7)], [('Hard', 44), ('Medium', 6)], [('Hard', 44), ('Soft', 6)], [('Hard', 45), ('Medium', 5)], [('Hard', 45), ('Soft', 5)], [('Hard', 46), ('Medium', 4)], [('Hard', 46), ('Soft', 4)], [('Hard', 47), ('Medium', 3)], [('Hard', 47), ('Soft', 3)], [('Hard', 48), ('Medium', 2)], [('Hard', 48), ('Soft', 2)], [('Hard', 49), ('Medium', 1)], [('Hard', 49), ('Soft', 1)], [('Medium', 1), ('Hard', 49)], [('Medium', 1), ('Soft', 49)], [('Medium', 2), ('Hard', 48)], [('Medium', 2), ('Soft', 48)], [('Medium', 3), ('Hard', 47)], [('Medium', 3), ('Soft', 47)], [('Medium', 4), ('Hard', 46)], [('Medium', 4), ('Soft', 46)], [('Medium', 5), ('Hard', 45)], [('Medium', 5), ('Soft', 45)], [('Medium', 6), ('Hard', 44)], [('Medium', 6), ('Soft', 44)], [('Medium', 7), ('Hard', 43)], [('Medium', 7), ('Soft', 43)], [('Medium', 8), ('Hard', 42)], [('Medium', 8), ('Soft', 42)], [('Medium', 9), ('Hard', 41)], [('Medium', 9), ('Soft', 41)], [('Medium', 10), ('Hard', 40)], [('Medium', 10), ('Soft', 40)], [('Medium', 11), ('Hard', 39)], [('Medium', 11), ('Soft', 39)], [('Medium', 12), ('Hard', 38)], [('Medium', 12), ('Soft', 38)], [('Medium', 13), ('Hard', 37)], [('Medium', 13), ('Soft', 37)], [('Medium', 14), ('Hard', 36)], [('Medium', 14), ('Soft', 36)], [('Medium', 15), ('Hard', 35)], [('Medium', 15), ('Soft', 35)], [('Medium', 16), ('Hard', 34)], [('Medium', 16), ('Soft', 34)], [('Medium', 17), ('Hard', 33)], [('Medium', 17), ('Soft', 33)], [('Medium', 18), ('Hard', 32)], [('Medium', 18), ('Soft', 32)], [('Medium', 19), ('Hard', 31)], [('Medium', 19), ('Soft', 31)], [('Medium', 20), ('Hard', 30)], [('Medium', 20), ('Soft', 30)], [('Medium', 21), ('Hard', 29)], [('Medium', 21), ('Soft', 29)], [('Medium', 22), ('Hard', 28)], [('Medium', 22), ('Soft', 28)], [('Medium', 23), ('Hard', 27)], [('Medium', 23), ('Soft', 27)], [('Medium', 24), ('Hard', 26)], [('Medium', 24), ('Soft', 26)], [('Medium', 25), ('Hard', 25)], [('Medium', 25), ('Soft', 25)], [('Medium', 26), ('Hard', 24)], [('Medium', 26), ('Soft', 24)], [('Medium', 27), ('Hard', 23)], [('Medium', 27), ('Soft', 23)], [('Medium', 28), ('Hard', 22)], [('Medium', 28), ('Soft', 22)], [('Medium', 29), ('Hard', 21)], [('Medium', 29), ('Soft', 21)], [('Medium', 30), ('Hard', 20)], [('Medium', 30), ('Soft', 20)], [('Medium', 31), ('Hard', 19)], [('Medium', 31), ('Soft', 19)], [('Medium', 32), ('Hard', 18)], [('Medium', 32), ('Soft', 18)], [('Medium', 33), ('Hard', 17)], [('Medium', 33), ('Soft', 17)], [('Medium', 34), ('Hard', 16)], [('Medium', 34), ('Soft', 16)], [('Medium', 35), ('Hard', 15)], [('Medium', 35), ('Soft', 15)], [('Medium', 36), ('Hard', 14)], [('Medium', 36), ('Soft', 14)], [('Medium', 37), ('Hard', 13)], [('Medium', 37), ('Soft', 13)], [('Medium', 38), ('Hard', 12)], [('Medium', 38), ('Soft', 12)], [('Medium', 39), ('Hard', 11)], [('Medium', 39), ('Soft', 11)], [('Medium', 40), ('Hard', 10)], [('Medium', 40), ('Soft', 10)], [('Medium', 41), ('Hard', 9)], [('Medium', 41), ('Soft', 9)], [('Medium', 42), ('Hard', 8)], [('Medium', 42), ('Soft', 8)], [('Medium', 43), ('Hard', 7)], [('Medium', 43), ('Soft', 7)], [('Medium', 44), ('Hard', 6)], [('Medium', 44), ('Soft', 6)], [('Medium', 45), ('Hard', 5)], [('Medium', 45), ('Soft', 5)], [('Medium', 46), ('Hard', 4)], [('Medium', 46), ('Soft', 4)], [('Medium', 47), ('Hard', 3)], [('Medium', 47), ('Soft', 3)], [('Medium', 48), ('Hard', 2)], [('Medium', 48), ('Soft', 2)], [('Medium', 49), ('Hard', 1)], [('Medium', 49), ('Soft', 1)], [('Soft', 1), ('Hard', 49)], [('Soft', 1), ('Medium', 49)], [('Soft', 2), ('Hard', 48)], [('Soft', 2), ('Medium', 48)], [('Soft', 3), ('Hard', 47)], [('Soft', 3), ('Medium', 47)], [('Soft', 4), ('Hard', 46)], [('Soft', 4), ('Medium', 46)], [('Soft', 5), ('Hard', 45)], [('Soft', 5), ('Medium', 45)], [('Soft', 6), ('Hard', 44)], [('Soft', 6), ('Medium', 44)], [('Soft', 7), ('Hard', 43)], [('Soft', 7), ('Medium', 43)], [('Soft', 8), ('Hard', 42)], [('Soft', 8), ('Medium', 42)], [('Soft', 9), ('Hard', 41)], [('Soft', 9), ('Medium', 41)], [('Soft', 10), ('Hard', 40)], [('Soft', 10), ('Medium', 40)], [('Soft', 11), ('Hard', 39)], [('Soft', 11), ('Medium', 39)], [('Soft', 12), ('Hard', 38)], [('Soft', 12), ('Medium', 38)], [('Soft', 13), ('Hard', 37)], [('Soft', 13), ('Medium', 37)], [('Soft', 14), ('Hard', 36)], [('Soft', 14), ('Medium', 36)], [('Soft', 15), ('Hard', 35)], [('Soft', 15), ('Medium', 35)], [('Soft', 16), ('Hard', 34)], [('Soft', 16), ('Medium', 34)], [('Soft', 17), ('Hard', 33)], [('Soft', 17), ('Medium', 33)], [('Soft', 18), ('Hard', 32)], [('Soft', 18), ('Medium', 32)], [('Soft', 19), ('Hard', 31)], [('Soft', 19), ('Medium', 31)], [('Soft', 20), ('Hard', 30)], [('Soft', 20), ('Medium', 30)], [('Soft', 21), ('Hard', 29)], [('Soft', 21), ('Medium', 29)], [('Soft', 22), ('Hard', 28)], [('Soft', 22), ('Medium', 28)], [('Soft', 23), ('Hard', 27)], [('Soft', 23), ('Medium', 27)], [('Soft', 24), ('Hard', 26)], [('Soft', 24), ('Medium', 26)], [('Soft', 25), ('Hard', 25)], [('Soft', 25), ('Medium', 25)], [('Soft', 26), ('Hard', 24)], [('Soft', 26), ('Medium', 24)], [('Soft', 27), ('Hard', 23)], [('Soft', 27), ('Medium', 23)], [('Soft', 28), ('Hard', 22)], [('Soft', 28), ('Medium', 22)], [('Soft', 29), ('Hard', 21)], [('Soft', 29), ('Medium', 21)], [('Soft', 30), ('Hard', 20)], [('Soft', 30), ('Medium', 20)], [('Soft', 31), ('Hard', 19)], [('Soft', 31), ('Medium', 19)], [('Soft', 32), ('Hard', 18)], [('Soft', 32), ('Medium', 18)], [('Soft', 33), ('Hard', 17)], [('Soft', 33), ('Medium', 17)], [('Soft', 34), ('Hard', 16)], [('Soft', 34), ('Medium', 16)], [('Soft', 35), ('Hard', 15)], [('Soft', 35), ('Medium', 15)], [('Soft', 36), ('Hard', 14)], [('Soft', 36), ('Medium', 14)], [('Soft', 37), ('Hard', 13)], [('Soft', 37), ('Medium', 13)], [('Soft', 38), ('Hard', 12)], [('Soft', 38), ('Medium', 12)], [('Soft', 39), ('Hard', 11)], [('Soft', 39), ('Medium', 11)], [('Soft', 40), ('Hard', 10)], [('Soft', 40), ('Medium', 10)], [('Soft', 41), ('Hard', 9)], [('Soft', 41), ('Medium', 9)], [('Soft', 42), ('Hard', 8)], [('Soft', 42), ('Medium', 8)], [('Soft', 43), ('Hard', 7)], [('Soft', 43), ('Medium', 7)], [('Soft', 44), ('Hard', 6)], [('Soft', 44), ('Medium', 6)], [('Soft', 45), ('Hard', 5)], [('Soft', 45), ('Medium', 5)], [('Soft', 46), ('Hard', 4)], [('Soft', 46), ('Medium', 4)], [('Soft', 47), ('Hard', 3)], [('Soft', 47), ('Medium', 3)], [('Soft', 48), ('Hard', 2)], [('Soft', 48), ('Medium', 2)], [('Soft', 49), ('Hard', 1)], [('Soft', 49), ('Medium', 1)]], 'teste3')"
   ]
  },
  {
   "cell_type": "markdown",
   "id": "0534cbb5-d5cd-4c55-af88-71aaccff9787",
   "metadata": {
    "deletable": false,
    "editable": false
   },
   "source": [
    "# Estimating Effectiveness (i.e. total race duration) of a particular Strategy\n",
    "\n",
    "To evaluate the effectiveness of a particular tyre/pitstop strategy we add together the time for each stint within that strategy and add the pit stop time between stints. Note: if there are $n$ stints, then there will be $n-1$ pit stops. For example a one stops strategy will have two stints but only one pit stop.\n",
    "\n",
    "The `enumerate_one_stop_strategies` function above will only generate one stop strategies, however, your `compute_strategy_time` function should allow you to evaulate any strategy (with potentially more than one pit stop).\n",
    "\n",
    "The initial fuel load at the start of the  race will always be 110kg. Fuel may not be added during a pit stop, so the fuel remaing at the end of one stint becomes the initial fuel load for the start of the next stint."
   ]
  },
  {
   "cell_type": "code",
   "execution_count": null,
   "id": "0f1fa1bd-7eb4-41f0-895c-69722404b4a4",
   "metadata": {
    "deletable": false,
    "editable": false,
    "tags": []
   },
   "outputs": [],
   "source": [
    "# Do not change the following constants. These values apply to all Grand Prix tracks\n",
    "\n",
    "pit_stop_time = 20.5 # seconds\n",
    "\n",
    "initial_fuel_load = 110.0 # kilograms"
   ]
  },
  {
   "cell_type": "code",
   "execution_count": null,
   "id": "83aa0ddd-43ff-4ba6-94d7-cf6bf25d20c2",
   "metadata": {
    "deletable": false,
    "editable": true,
    "tags": []
   },
   "outputs": [],
   "source": [
    "# Parameters:\n",
    "# - track_data is a dictionary as per the track data above, e.g. bahrain or monaco\n",
    "# - a strategy is a list of stint data where each stint is represented by a tuple containing the name of the tyre used (\"Soft\", \"Medium\", or \"Hard\") \n",
    "#   and the number of laps completed in that stint on those tyres.\n",
    "#   e.g. [(\"Soft\",20), (\"Hard\", 37)] is a strategy of racing the first 20 laps on the Soft tyre and then conducting a pitstop and racing the remaining 37 laps on the Hard tyre.\n",
    "#  Note that the strategy may include more than 2 stints.\n",
    "def compute_strategy_time(track_data, strategy): # do not change this line in any way - the function name and parameters must remain exactly as specified here\n",
    "    pass # ToDo: replace this line by your code"
   ]
  },
  {
   "cell_type": "code",
   "execution_count": null,
   "id": "e4f9ec85-3a7e-4081-8eff-bfe8e3567c53",
   "metadata": {
    "deletable": false,
    "editable": false,
    "tags": []
   },
   "outputs": [],
   "source": [
    "result = compute_strategy_time(bahrain, [('Medium', 25), ('Hard', 32)])\n",
    "assert_equal(result, 5444.130073415727, 'testf1')"
   ]
  },
  {
   "cell_type": "code",
   "execution_count": null,
   "id": "d19152f0-3840-4616-b2c9-3a8b6bd2f7bb",
   "metadata": {
    "deletable": false,
    "editable": false,
    "tags": []
   },
   "outputs": [],
   "source": [
    "result = compute_strategy_time(bahrain, [('Soft', 1), ('Medium', 56)])\n",
    "assert_equal(result, 18781465.22689464, 'testf2')"
   ]
  },
  {
   "cell_type": "code",
   "execution_count": null,
   "id": "afc1f098-0c68-4089-82ed-990faa9d710f",
   "metadata": {
    "deletable": false,
    "editable": false,
    "tags": []
   },
   "outputs": [],
   "source": [
    "result = compute_strategy_time(bahrain, [('Soft', 2), ('Hard', 55)])\n",
    "assert_equal(result, 115297.42328287667, 'testf3')"
   ]
  },
  {
   "cell_type": "code",
   "execution_count": null,
   "id": "046f9810-7d31-4073-a1f1-051c503266a2",
   "metadata": {
    "deletable": false,
    "editable": false,
    "tags": []
   },
   "outputs": [],
   "source": [
    "result = compute_strategy_time(bahrain, [('Medium', 2), ('Soft', 55)])\n",
    "assert_equal(result, 1087343397.193185, 'testf4')"
   ]
  },
  {
   "cell_type": "code",
   "execution_count": null,
   "id": "673d1cb2-ccb3-442a-953b-866f7e9622bb",
   "metadata": {
    "deletable": false,
    "editable": false,
    "tags": []
   },
   "outputs": [],
   "source": [
    "result = compute_strategy_time(bahrain, [('Medium', 3), ('Hard', 54)])\n",
    "assert_equal(result, 69388.60089930822, 'testf5')"
   ]
  },
  {
   "cell_type": "code",
   "execution_count": null,
   "id": "341857ae-2404-4823-ba03-d25e0e2a0992",
   "metadata": {
    "deletable": false,
    "editable": false,
    "tags": []
   },
   "outputs": [],
   "source": [
    "result = compute_strategy_time(bahrain, [('Hard', 4), ('Soft', 53)])\n",
    "assert_equal(result, 368375080.89035845, 'testf6')"
   ]
  },
  {
   "cell_type": "code",
   "execution_count": null,
   "id": "3580c216-d54d-469c-a182-3cb14e43c4c5",
   "metadata": {
    "deletable": false,
    "editable": false,
    "tags": []
   },
   "outputs": [],
   "source": [
    "result = compute_strategy_time(bahrain, [('Hard', 5), ('Medium', 52)])\n",
    "assert_equal(result, 2160408.697372883, 'testf7')"
   ]
  },
  {
   "cell_type": "code",
   "execution_count": null,
   "id": "0a6ee68f-06c2-46a7-8abc-d180a7c47255",
   "metadata": {
    "deletable": false,
    "editable": false,
    "tags": []
   },
   "outputs": [],
   "source": [
    "result = compute_strategy_time(jeddah, [('Soft', 16), ('Hard', 34)])\n",
    "assert_equal(result, 4724.076326666735, 'testf8')"
   ]
  },
  {
   "cell_type": "code",
   "execution_count": null,
   "id": "e5f5fd6f-75a6-4f89-a2b7-969f7d04ff9b",
   "metadata": {
    "deletable": false,
    "editable": false,
    "tags": []
   },
   "outputs": [],
   "source": [
    "result = compute_strategy_time(jeddah, [('Soft', 1), ('Medium', 49)])\n",
    "assert_equal(result, 1480453.248244802, 'testf9')"
   ]
  },
  {
   "cell_type": "code",
   "execution_count": null,
   "id": "594c1c5a-3560-48e6-bd3a-7bc9805b5f5a",
   "metadata": {
    "deletable": false,
    "editable": false,
    "tags": []
   },
   "outputs": [],
   "source": [
    "result = compute_strategy_time(jeddah,  [('Soft', 2), ('Hard', 48)])\n",
    "assert_equal(result, 12734.27111265304, 'testf10')"
   ]
  },
  {
   "cell_type": "code",
   "execution_count": null,
   "id": "ebf2f25e-7652-424f-ab74-71a03ac4e7db",
   "metadata": {
    "deletable": false,
    "editable": false,
    "tags": []
   },
   "outputs": [],
   "source": [
    "result = compute_strategy_time(jeddah,  [('Medium', 3), ('Soft', 47)])\n",
    "assert_equal(result, 427128967.71519256, 'testf11')"
   ]
  },
  {
   "cell_type": "code",
   "execution_count": null,
   "id": "81f2bde8-6099-4faa-b963-9114649cb57b",
   "metadata": {
    "deletable": false,
    "editable": false,
    "tags": []
   },
   "outputs": [],
   "source": [
    "result = compute_strategy_time(jeddah,  [('Medium', 4), ('Hard', 46)])\n",
    "assert_equal(result, 7061.278134987506, 'testf12')"
   ]
  },
  {
   "cell_type": "code",
   "execution_count": null,
   "id": "b5a86bff-5227-4901-91e1-facf31f85797",
   "metadata": {
    "deletable": false,
    "editable": false,
    "tags": []
   },
   "outputs": [],
   "source": [
    "result = compute_strategy_time(jeddah,  [('Hard', 5), ('Soft', 45)])\n",
    "assert_equal(result, 124252019.03183927, 'testf13')"
   ]
  },
  {
   "cell_type": "code",
   "execution_count": null,
   "id": "845c8af8-03ef-4b0b-9e0b-a8975670f7e5",
   "metadata": {
    "deletable": false,
    "editable": false,
    "tags": []
   },
   "outputs": [],
   "source": [
    "result = compute_strategy_time(jeddah,  [('Hard', 5), ('Medium', 45)])\n",
    "assert_equal(result, 129591.20857195137, 'testf14')"
   ]
  },
  {
   "cell_type": "code",
   "execution_count": null,
   "id": "41eddcfe-f9b1-4372-a53f-6aedf431456b",
   "metadata": {
    "deletable": false,
    "editable": false,
    "tags": []
   },
   "outputs": [],
   "source": [
    "result = compute_strategy_time(jeddah,  [('Hard', 6), ('Soft', 44)])\n",
    "assert_equal(result, 67016829.33911129, 'testf15')"
   ]
  },
  {
   "cell_type": "markdown",
   "id": "6cdf3fff-c66b-4070-9a06-063a9ce26b1f",
   "metadata": {
    "deletable": false,
    "editable": false,
    "tags": []
   },
   "source": [
    "# Choosing the Best (one-stop) Strategy\n",
    "\n",
    "Finally we wish to consider every possible one stop strategy and select the one that is most effective (i.e. minimizes total number of seconds)."
   ]
  },
  {
   "cell_type": "code",
   "execution_count": null,
   "id": "4ca0da78-71d8-4e0f-a08f-965af8303ef4",
   "metadata": {
    "deletable": false,
    "editable": true,
    "tags": []
   },
   "outputs": [],
   "source": [
    "# Parameters:\n",
    "# - track_data is a dictionary as per the track data above, e.g. bahrain or monaco\n",
    "def find_best_one_stop_strategy(track_data): # do not change this line in any way - the function name and parameters must remain exactly as specified here\n",
    "    pass # ToDo: replace this line by your code"
   ]
  },
  {
   "cell_type": "code",
   "execution_count": null,
   "id": "1a2c0d5e-72ec-455b-aa29-3ffd8a2cae0b",
   "metadata": {
    "deletable": false,
    "editable": false,
    "tags": []
   },
   "outputs": [],
   "source": [
    "result = find_best_one_stop_strategy(bahrain)\n",
    "assert_equal(result, [('Medium', 25), ('Hard', 32)], 'testg1')"
   ]
  },
  {
   "cell_type": "code",
   "execution_count": null,
   "id": "5a1136ee-db50-41c5-8658-da827f15fb78",
   "metadata": {
    "deletable": false,
    "editable": false,
    "tags": []
   },
   "outputs": [],
   "source": [
    "result = find_best_one_stop_strategy(jeddah)\n",
    "assert_equal(result, [('Soft', 16), ('Hard', 34)], 'testg2')"
   ]
  },
  {
   "cell_type": "code",
   "execution_count": null,
   "id": "a23c7f7d-2804-49b1-9969-e997730469da",
   "metadata": {
    "deletable": false,
    "editable": false,
    "tags": []
   },
   "outputs": [],
   "source": [
    "result = find_best_one_stop_strategy(silverstone)\n",
    "assert_equal(result, [('Soft', 22), ('Medium', 30)], 'testg3')"
   ]
  },
  {
   "cell_type": "code",
   "execution_count": null,
   "id": "f985a3d2-3d72-41bb-824c-93688e77535f",
   "metadata": {
    "deletable": false,
    "editable": false,
    "tags": []
   },
   "outputs": [],
   "source": [
    "result = find_best_one_stop_strategy(monza)\n",
    "assert_equal(result, [('Medium', 24), ('Hard', 29)], 'testg4')"
   ]
  },
  {
   "cell_type": "code",
   "execution_count": null,
   "id": "ece28e58-5470-48cd-bfe4-879329fe5804",
   "metadata": {
    "deletable": false,
    "editable": false,
    "tags": []
   },
   "outputs": [],
   "source": [
    "result = find_best_one_stop_strategy(melbourne)\n",
    "assert_equal(result, [('Soft', 19), ('Hard', 39)], 'testg5')"
   ]
  },
  {
   "cell_type": "code",
   "execution_count": null,
   "id": "37eb6dfb-4035-4d10-aefc-e92df84c0794",
   "metadata": {
    "deletable": false,
    "editable": false,
    "tags": []
   },
   "outputs": [],
   "source": [
    "result = find_best_one_stop_strategy(miami)\n",
    "assert_equal(result, [('Soft', 19), ('Hard', 38)], 'testg6')"
   ]
  },
  {
   "cell_type": "code",
   "execution_count": null,
   "id": "8be6a5ff-6fa3-41dc-873a-9159bf7f8be2",
   "metadata": {
    "deletable": false,
    "editable": false,
    "tags": []
   },
   "outputs": [],
   "source": [
    "result = find_best_one_stop_strategy(monaco)\n",
    "assert_equal(result, [('Soft', 23), ('Hard', 55)], 'testg7')"
   ]
  },
  {
   "cell_type": "code",
   "execution_count": null,
   "id": "58acf99d-6c9d-4458-a873-4e1ab03467d7",
   "metadata": {
    "deletable": false,
    "editable": false,
    "tags": []
   },
   "outputs": [],
   "source": [
    "result = find_best_one_stop_strategy(baku)\n",
    "assert_equal(result, [('Medium', 20), ('Hard', 31)], 'testg8')"
   ]
  },
  {
   "cell_type": "markdown",
   "id": "2e1b20fe-b1b1-4872-90ff-d3608e45ba69",
   "metadata": {
    "deletable": false,
    "editable": true
   },
   "source": [
    "<div style=\"background-color: yellow; padding:10px\">\n",
    "<h1>Overly Simplistic?</h1>\n",
    "<p>\n",
    "ToDo: Describe one way in which how we have modelled Tyre/Pitstop strategy that is overly simplistic? How might that aspect be improved?\n",
    "    </p>    \n",
    "</div>"
   ]
  },
  {
   "cell_type": "markdown",
   "id": "3499a8ad-1cf9-49ca-a3fa-fa1be5219ea0",
   "metadata": {
    "deletable": false,
    "editable": false,
    "tags": []
   },
   "source": [
    "<div style=\"background:#00cc00; padding:10px\">\n",
    "    \n",
    "# Automated feedback and semi-automated marking\n",
    "    \n",
    "Running the following code will give you a good idea how well you are meeting the assessment criteria and the rough mark that you can expect to receive. Note that some of the assessment criteria are marked manually by human tutors, so you won't know your final mark until it is officially submitted and assessed.\n",
    "</div>"
   ]
  },
  {
   "cell_type": "code",
   "execution_count": null,
   "id": "76e7d56a-cdb8-4836-b39b-4e753453c537",
   "metadata": {
    "deletable": false,
    "editable": false,
    "tags": []
   },
   "outputs": [],
   "source": [
    "# This code has been supplied to provide automated feedback and semi-automated marking (do not change it!)\n",
    "\n",
    "import code_analyser\n",
    "\n",
    "code_analyser.assess_criteria([compute_fuel_used, tyre_grip, compute_lap_time, compute_stint_time, enumerate_one_stop_strategies, compute_strategy_time, find_best_one_stop_strategy])"
   ]
  }
 ],
 "metadata": {
  "kernelspec": {
   "display_name": "Python 3 (ipykernel)",
   "language": "python",
   "name": "python3"
  },
  "language_info": {
   "codemirror_mode": {
    "name": "ipython",
    "version": 3
   },
   "file_extension": ".py",
   "mimetype": "text/x-python",
   "name": "python",
   "nbconvert_exporter": "python",
   "pygments_lexer": "ipython3",
   "version": "3.10.12"
  }
 },
 "nbformat": 4,
 "nbformat_minor": 5
}
