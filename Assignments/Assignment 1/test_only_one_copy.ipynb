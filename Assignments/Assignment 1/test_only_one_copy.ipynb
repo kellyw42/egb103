{
 "cells": [
  {
   "cell_type": "code",
   "execution_count": 2,
   "id": "5915f0c1-16bd-4e9b-96e2-964630acc970",
   "metadata": {
    "tags": []
   },
   "outputs": [
    {
     "name": "stdout",
     "output_type": "stream",
     "text": [
      "Error: multiple definitions of function build_bridge\n"
     ]
    }
   ],
   "source": [
    "import only_one_copy\n",
    "\n",
    "only_one_copy.test('Assignment 1 Skeleton Solution.ipynb')"
   ]
  },
  {
   "cell_type": "code",
   "execution_count": null,
   "id": "9f48cad3-b51c-4b21-80ef-59713e431866",
   "metadata": {},
   "outputs": [],
   "source": []
  }
 ],
 "metadata": {
  "kernelspec": {
   "display_name": "Python 3 (ipykernel)",
   "language": "python",
   "name": "python3"
  },
  "language_info": {
   "codemirror_mode": {
    "name": "ipython",
    "version": 3
   },
   "file_extension": ".py",
   "mimetype": "text/x-python",
   "name": "python",
   "nbconvert_exporter": "python",
   "pygments_lexer": "ipython3",
   "version": "3.10.13"
  }
 },
 "nbformat": 4,
 "nbformat_minor": 5
}
