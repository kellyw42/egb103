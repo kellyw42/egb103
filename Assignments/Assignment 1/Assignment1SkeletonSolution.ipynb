{
 "cells": [
  {
   "cell_type": "markdown",
   "id": "237e9b13-5721-4097-801c-42f9905c7c7c",
   "metadata": {
    "deletable": false,
    "editable": false
   },
   "source": [
    "# EGB103 Assignment One - Wake Modeling and Control for Wind Farms\n",
    "\n",
    "Programming and software play a crucial role in aiding engineers in problem-solving tasks related to design, layout and control of wind turbines within large-scale wind farms using methods such as computational fluid dynamics and wake modeling. These tools enable engineers to efficiently process complex mathematical calculations, simulate dynamic behaviors, and visualize results. Through programming, engineers can automate repetitive tasks, implement sophisticated numerical methods and find optimal solutions to engineering design problems.\n",
    "\n",
    "In this assignment, to help us learn Python in the context of an Authentic Engineering problem, we will use a Python Module called FLORIS to try to optimally position and orient the wind turbines within a wind farm and steer their wakes to further optimize energy output given known local prevailing wind patterns. You may study the theory and mathematics behind the kind of analysis performed by Floris in later units such as EGB323 Fluid Mechananics."
   ]
  },
  {
   "cell_type": "markdown",
   "id": "662f5e2e-25a1-43f4-91e7-adf7ef47f409",
   "metadata": {
    "deletable": false,
    "editable": false
   },
   "source": [
    "<div style=\"background-color: #00ccff; padding:10px\">\n",
    "    \n",
    "## Part A - Due Friday 9th August 2024 (end of week 3)\n",
    "\n",
    "- Task 1 - *Add markdown*\n",
    "- Task 5 - *Rotate a single location*\n",
    "- Task 10 - *Compute the distance downwind for a particular turbine*\n",
    "\n",
    "## Part B - Due Friday 30th August 2024 (end of week 6)\n",
    "\n",
    "- Task 2 - *Creating a layout of turbines within a wind farm*\n",
    "- Task 3 - *Implement create hexagonal layout*\n",
    "- Task 4 - *Which layout produces the best energy production?*\n",
    "- Task 6 - *Rotate an entire layout*\n",
    "- Task 7 - *Finding the best rotation*\n",
    "- Task 8 - *Which layout is now the best?*\n",
    "- Task 9 - *Greedily optimize the yaw angle for just one turbine*\n",
    "- Task 11 - *Order by downwind distance*\n",
    "- Task 12 - *Optimize all yaw angles*\n",
    "\n",
    "</div>"
   ]
  },
  {
   "cell_type": "markdown",
   "id": "f50723a3-4d80-4f69-b357-421d7710d986",
   "metadata": {
    "deletable": false,
    "editable": false
   },
   "source": [
    "<div style=\"background-color: #00cc00; padding:10px\">\n",
    "\n",
    "# Task 1: Add markdown to list your name and previous programming experience\n",
    "    \n",
    "Create a new markdown cell ***immediately below this cell*** that includes your name and briefly describes your previous programming experience if any.\n",
    "\n",
    "Must include some markdown to style or format in some manner.\n",
    "</div>"
   ]
  },
  {
   "cell_type": "markdown",
   "id": "4f269088-885e-42af-a5d4-5ddfc7b6b97c",
   "metadata": {},
   "source": []
  },
  {
   "cell_type": "markdown",
   "id": "bc281dca-80e5-4f1d-b9de-3d1ea0ce5c2d",
   "metadata": {
    "deletable": false,
    "editable": false
   },
   "source": [
    "\n",
    "<div style=\"background-color: #ffcc00; padding:10px\">\n",
    "\n",
    "# Rules and Restrictions\n",
    "\n",
    "- You must use Jupyter in the cloud (on https://jupyter.eres.qut.edu.au) to develop your solution.\n",
    "- For the assignments you cannot work with friends or colleagues, or get help from anyone other than the EGB103 teaching team - it needs to be entirely your own work.\n",
    "- You cannot use AI tools such as ChatGPT or Copilot to help develop your solution.\n",
    "- Do not modify the name or list of parameters for any of the functions.\n",
    "- Every function must be implemented in only one place within this .ipynb file. Do not cut and paste to duplicate function definitions.\n",
    "- The only python module that you are allowed to import is the math module. The Floris, Numpy and Matplotlib modules are also imported but should only be used within the functions that I have provided for you, not  within the functions that you need to implement.\n",
    "- When importing the math module, it should be just `import math`. Do not use other forms of import such as `from <module_name> import <name(s)>` or `import <module_name> as <alt_name>`. This means that all use of features within the math module will be explicit, e.g. `math.sin(0.5)`.\n",
    "- You should only use Python language features that we have covered in lectures or tutorials, for example you should not use match statements or list comprehensions (don't worry if you don't know what these are).\n",
    "\n",
    "</div>"
   ]
  },
  {
   "cell_type": "code",
   "execution_count": null,
   "id": "9baf11be-d2f8-4719-92ba-6c7dff177797",
   "metadata": {
    "deletable": false,
    "editable": false
   },
   "outputs": [],
   "source": [
    "import code_analyser\n",
    "\n",
    "ok = code_analyser.test_rules_and_restrictions()"
   ]
  },
  {
   "cell_type": "markdown",
   "id": "4a69685e-9a71-479d-8470-da11ef4f2329",
   "metadata": {
    "deletable": false,
    "editable": false
   },
   "source": [
    "# Wake Modeling\n",
    "\n",
    "The prevailing wind direction (and speed) will vary from day to day and even hour to hour. Wind turbines are normally designed to turn so that they are always facing towards the prevailing wind direction as this maximizes the wind velocity over the blades and so maximizes rotor rotation speed and therefore energy production. \n",
    "\n",
    "Once the air has passed through the rotating blades of a wind turbine, its velocity will tend to decrease and the amount of turbulance will tend to increase. This wake affect can have a negative effect on other nearby wind turbines located down wind. The turbulance also causes variations in the mechanical loading on the blades which can cause long term structural fatique. Even at a distance of 500 metres, this wake effect is still very evident. We could place all of the wind turbines very far apart, so as to eliminate any wake effect, however that would require more land resources and also more cabling and time spent travelling between turbines during maintainance. The following diagram shows an example of these wakes when the wind is coming from the south west (as modeled and visualized by Floris).\n",
    "\n",
    "<img src=\"images/wake.png\" style=\"display: block; margin: auto\" />\n"
   ]
  },
  {
   "cell_type": "markdown",
   "id": "8852945a-79a0-48a5-b330-334dd0bb5451",
   "metadata": {
    "deletable": false,
    "editable": false
   },
   "source": [
    "# Wind Rose\n",
    "\n",
    "A wind rose is a graphic tool used by meteorologists to give a succinct view of how wind speed and direction are typically distributed at a particular location.\n",
    "\n",
    "https://en.wikipedia.org/wiki/Wind_rose\n",
    "\n",
    "The Floris Python module provides support for creating a Wind Rose for a particular location as a Python data object.\n",
    "\n",
    "The following function (which has been provided for you) creates a Wind Rose based on data provided by the Australian Bureau of Metrorology for the Brisbane Area.\n",
    "\n",
    "http://www.bom.gov.au/climate/averages/wind/selection_map.shtml\n",
    "\n",
    "For example, in Brisbane the wind is from the North (0 degrees) with a speed of around 1 metre/second on average 3.4% of the time (over the course of a year)."
   ]
  },
  {
   "cell_type": "code",
   "execution_count": null,
   "id": "4c9191ba-d9c7-4b2e-8df4-6850e8d52db1",
   "metadata": {
    "deletable": false,
    "editable": false
   },
   "outputs": [],
   "source": [
    "# The following function has been provided for you,  do not modify it in any way.\n",
    "\n",
    "import floris\n",
    "import numpy\n",
    "\n",
    "# This function creates a wind rose for Brisbane Australia.\n",
    "# Parameters:\n",
    "# - None\n",
    "# Return value:\n",
    "# - a Floris WindRose object\n",
    "# Makes use of floris\n",
    "\n",
    "def brisbane_wind_rose() :\n",
    "    standard_wind_directions = [0,45,90,135,180,225,270,315]\n",
    "    standard_wind_speeds = [1,4,7,10,13]\n",
    "    brisbane_wind_freqs = [[3.4,3.0,0.7,0.0,0.0],[1.7,1.8,0.3,0.0,0.0],[1.8,3.2,1.3,0.2,0.2],[3.0,4.6,2.4,0.3,0.3],[8.8,12.0,2.3,0.1,0.1],[10.7,11.9,2.4,0.2,0.2],[2.7,2.4,1.7,0.5,0.5],[3.0,1.3,0.2,0.0,0.0]]\n",
    "    return floris.WindRose(wind_directions=numpy.array(standard_wind_directions), \n",
    "                                wind_speeds=numpy.array(standard_wind_speeds), \n",
    "                                ti_table=0.06, \n",
    "                                freq_table = numpy.array(brisbane_wind_freqs))"
   ]
  },
  {
   "cell_type": "code",
   "execution_count": null,
   "id": "58e1b1dd-8137-4d87-9d80-720da003869f",
   "metadata": {
    "deletable": false,
    "editable": false
   },
   "outputs": [],
   "source": [
    "ax = brisbane_wind_rose().plot(ws_step=3)"
   ]
  },
  {
   "cell_type": "markdown",
   "id": "4d4e99a1-507e-4ad2-928c-119385fb38c9",
   "metadata": {
    "deletable": false,
    "editable": false
   },
   "source": [
    "# Representing the location of each Wind Turbine within the Wind Farm\n",
    "\n",
    "We will represent the location of each wind turbine within the Wind Farm using 2D coordinates which will be represented as a Python tuple containing 2 numbers.\n",
    "The first number is the x coordinate (or its position in the east-west direction), while the second number is the y coordinate (or its position in the north-south direction).\n",
    "\n",
    "The layout of the entire wind farm will therefore be represented by a list of 2D coordinates (i.e. a list of tuples).\n",
    "\n",
    "For example, a wind farm containing 4 wind turbines might have a layout of say [(0,0), (250, 500), (500, 0), (750, 500)] \n",
    "\n",
    "However, internally the Floris model likes to represent the wind farm layout as a list of x coordinates and a list of y coordinates. So internally the above layout would be represented as x coordinates: [0, 250, 500, 750] and y coordinates [0, 500, 0, 500].\n",
    "\n",
    "The following function (which has been provided for you) converts a list of 2D coordinates to a list of x coordinates and a list of y coordinates."
   ]
  },
  {
   "cell_type": "code",
   "execution_count": null,
   "id": "52c1fac2-8449-4f20-97a7-3da0351ba140",
   "metadata": {
    "deletable": false,
    "editable": false
   },
   "outputs": [],
   "source": [
    "# The following function has been provided for you,  do not modify it in any way.\n",
    "\n",
    "# This function converts a list of 2D coordinates to a list of x coordinates and a list of y coordinates.\n",
    "# Parameters:\n",
    "# - layout is a list of (x,y) tuples (corresponding to the location of each turbine)\n",
    "# Return value:\n",
    "# - a tuple containing a list of the x coordinates and a list of the y coordinates.\n",
    "\n",
    "def unzip(layout) :\n",
    "    x_coords = []\n",
    "    y_coords = []\n",
    "    for (x, y) in layout :\n",
    "        x_coords.append(x)\n",
    "        y_coords.append(y)\n",
    "    return x_coords, y_coords"
   ]
  },
  {
   "cell_type": "code",
   "execution_count": null,
   "id": "fc59c172-b5a7-405d-858b-32c9a66f00e0",
   "metadata": {
    "deletable": false,
    "editable": false
   },
   "outputs": [],
   "source": [
    "import code_analyser\n",
    "\n",
    "x_coords1, y_coords1 = unzip([(0,0), (250, 500), (500, 0), (750, 500)])\n",
    "code_analyser.assert_equal(x_coords1, [0, 250, 500, 750])\n",
    "code_analyser.assert_equal(y_coords1, [0, 500, 0, 500])"
   ]
  },
  {
   "cell_type": "markdown",
   "id": "3043cce6-0fac-4a9d-bc95-a31fc60211d1",
   "metadata": {
    "deletable": false,
    "editable": false
   },
   "source": [
    "# Modeling the Energy produced by the Wind Farm\n",
    "\n",
    "The Floris module provides means to estimate the total power produced by the wind farm per hour. To do this it uses the wind rose for the area where the wind farm is located. For each combination of wind direction and wind speed included in the wind rose it computes the estimated power produced by each of the wind turbines taking account of the affect of wind speed and turbulance that may result from the wake generated by other turbines upwind. The power produced by the farm is the sum of the power produced by each wind turbine within the farm. The average power produced is computed as a weighted average overall all the different combinations of prevailing wind speed and direction based on the frequency of each combination as captured in the wind rose for the local area.\n",
    "\n",
    "The following function (which has been provided for you) computes the average kilowatts of energy produced by the farm per hour (we divide the power measured in watts by 1000 to compute the power measured in kilowatts. In your subsequent functions you must always use this function to estimate the power produced for a given layout of the turbines - you must not use the FlorisModel or any of its functions/methods directly yourself."
   ]
  },
  {
   "cell_type": "code",
   "execution_count": null,
   "id": "8c00fb5a-7056-4c43-a00e-68c8380f0c45",
   "metadata": {
    "deletable": false,
    "editable": false
   },
   "outputs": [],
   "source": [
    "# The following function has been provided for you,  do not modify it in any way.\n",
    "\n",
    "import floris\n",
    "\n",
    "# This function takes the location of each turbine in a wind farm and models the expected power generated by the entire wind farm assuming Brisbane wind patterns.\n",
    "# Parameters:\n",
    "# - layout is a list of (x,y) tuples (corresponding to the location of each turbine)\n",
    "# Return value:\n",
    "# - a tuple containg a pair of values: the Floris model object, and the expected power generated by the entire farm measured in kilowatts per hour.\n",
    "# Makes use of unzip, brisbane_wind_rose, floris\n",
    "\n",
    "def evaluate_turbine_layout(layout) :\n",
    "    \n",
    "    x_coords, y_coords = unzip(layout)\n",
    "    fmodel = floris.FlorisModel(\"gch.yaml\") # read from configuration file gch.yaml which provides specifications for the wind turbines\n",
    "    fmodel.set(layout_x=x_coords, layout_y=y_coords)\n",
    "    \n",
    "    fmodel.set(wind_data=brisbane_wind_rose())\n",
    "\n",
    "    fmodel.run()      \n",
    "    return fmodel, fmodel.get_expected_farm_power() / 1000 # divide by 1000 to convert watts to kilowatts"
   ]
  },
  {
   "cell_type": "code",
   "execution_count": null,
   "id": "11d43903-7022-417c-99b1-c51352267018",
   "metadata": {
    "deletable": false,
    "editable": false
   },
   "outputs": [],
   "source": [
    "model2, power2 = evaluate_turbine_layout([(0,0), (250, 500), (500, 0), (750, 500)]) \n",
    "code_analyser.assert_equal(power2, 1249.2909419363739)"
   ]
  },
  {
   "cell_type": "markdown",
   "id": "5a573172-b31d-4e53-892f-b1d1adec161b",
   "metadata": {
    "deletable": false,
    "editable": false
   },
   "source": [
    "# Visualizing the Layout of wind turbines within the Wind farm\n",
    "\n",
    "The following function (which has been provided for you) allows you to easily visualise the layout of each the wind  turbines within a wind farm.\n",
    "For each wind turbine it plots a dot with  a label. The visualization also includes the total average power generated per hour based on  a specific layout of turbines within the wind farm."
   ]
  },
  {
   "cell_type": "code",
   "execution_count": null,
   "id": "a0efcfff-e494-475b-9aa8-e9dd00d7258d",
   "metadata": {
    "deletable": false,
    "editable": false
   },
   "outputs": [],
   "source": [
    "# The following function has been provided for you,  do not modify it in any way.\n",
    "\n",
    "import floris.layout_visualization\n",
    "import matplotlib\n",
    "\n",
    "# This function provides a visualisation the layout of each the turbines within a wind farm. For each turbine it plots a dot with a label. \n",
    "# The visualization also includes the total average power generated per hour based on a specific layout of turbines within the wind farm.\n",
    "# Parameters:\n",
    "# - layout is a list of (x,y) tuples (corresponding to the location of each turbine)\n",
    "# Return value:\n",
    "# - None (does not return a value)\n",
    "# Makes use of: evaluate_turbine_layout, floris, matplotlib\n",
    "\n",
    "def visualize_layout(layout) :\n",
    "    fmodel, power = evaluate_turbine_layout(layout)\n",
    "    figure, axes = matplotlib.pyplot.subplots()\n",
    "    \n",
    "    figure.suptitle(f\"Entire grid of turbines produces {power:.2f} kW\")\n",
    "    \n",
    "    floris.layout_visualization.plot_turbine_points(fmodel, ax=axes)\n",
    "    floris.layout_visualization.plot_turbine_labels(fmodel, ax=axes)"
   ]
  },
  {
   "cell_type": "code",
   "execution_count": null,
   "id": "b96151d4-e8e3-49b1-84c8-796477a79d1b",
   "metadata": {
    "deletable": false,
    "editable": false
   },
   "outputs": [],
   "source": [
    "visualize_layout([(0,0), (250, 500), (500, 0), (750, 500)]) "
   ]
  },
  {
   "cell_type": "markdown",
   "id": "9a093164-79b3-4560-b741-266e744cf54d",
   "metadata": {
    "deletable": false,
    "editable": false
   },
   "source": [
    "<div style=\"background-color: #00cc00; padding:10px\" id=\"fred\">\n",
    "\n",
    "# Task 2: Creating a layout of turbines within a wind farm\n",
    "\n",
    "The simplest manner in which to lay out turbines within a wind farm is to arrange them neatly into a set of equally spaced rows and columns.\n",
    "\n",
    "The following function (which you need to implement) takes as input the number of rows and columns and the distance between these rows and columns, and produces a layout, i.e. a list of tuples (x,y) coordinates corresponding to the location of each of the turbines within the wind farm.\n",
    "\n",
    "The first turbine is always located at location (0,0), then we have the other turbines located in the first column, followed by the turbines in the second column and so on.\n",
    "\n",
    "</div>"
   ]
  },
  {
   "cell_type": "code",
   "execution_count": null,
   "id": "ba9efa4a-4a08-4aa6-8921-0f74ff292841",
   "metadata": {},
   "outputs": [],
   "source": [
    "# This function creates simple grid layout where the turbines are organised neatly into evenly spaced rows and columns.\n",
    "# The first turbine is always located at location (0,0), then we have the other turbines located in the first column, followed by the turbines in the second column and so on.\n",
    "# Parameters:\n",
    "# - number_of_rows is an integer number that specifies how many equally spaced rows of turbines to create\n",
    "# - number_of_columns is an integer number that specifies how  many equally spaced columns of turbines to create\n",
    "# - minimum_gap_between_turbines is the gap (measured in metres) between all rows and columns of turbines \n",
    "# Return value:\n",
    "# - a list of (x,y) tuples corresponding to the x and y coordinates of each of the turbines. \n",
    "\n",
    "def create_grid_layout(number_of_rows, number_of_columns, minimum_gap_between_turbines) : # do not change this line in any way - the function name and parameters must remain exactly as specified here\n",
    "    return None # replace this line with your code for this function\n",
    "\n",
    "    # Hint: look at the doubly nested loop example used to print the 12 times tables"
   ]
  },
  {
   "cell_type": "code",
   "execution_count": null,
   "id": "247aa277-1832-4ebc-af85-bf9145e5407b",
   "metadata": {
    "deletable": false,
    "editable": false
   },
   "outputs": [],
   "source": [
    "import code_analyser\n",
    "\n",
    "grid21 = create_grid_layout(2, 1, 100)\n",
    "code_analyser.assert_equal(grid21, [(0, 0), (0, 100)], 'test1a')"
   ]
  },
  {
   "cell_type": "code",
   "execution_count": null,
   "id": "1016bfb6-0968-4155-addf-a844ba04d5cf",
   "metadata": {
    "deletable": false,
    "editable": false
   },
   "outputs": [],
   "source": [
    "grid12 = create_grid_layout(1, 2, 50)\n",
    "code_analyser.assert_equal(grid12, [(0, 0), (50, 0)], 'test1b')"
   ]
  },
  {
   "cell_type": "code",
   "execution_count": null,
   "id": "054fd9ef-160f-4e06-96a7-7441786a5589",
   "metadata": {
    "deletable": false,
    "editable": false
   },
   "outputs": [],
   "source": [
    "grid35 = create_grid_layout(3, 5, 100)\n",
    "code_analyser.assert_equal(grid35, [(0, 0), (0, 100), (0, 200), (100, 0), (100, 100), (100, 200), (200, 0), (200, 100), (200, 200), (300, 0), (300, 100), (300, 200), (400, 0), (400, 100), (400, 200)], 'test1c')"
   ]
  },
  {
   "cell_type": "code",
   "execution_count": null,
   "id": "6fb42362-e473-419e-8173-6b6e6992a5a2",
   "metadata": {
    "deletable": false,
    "editable": false
   },
   "outputs": [],
   "source": [
    "grid43 = create_grid_layout(4, 3, 500)\n",
    "code_analyser.assert_equal(grid43, [(0, 0), (0, 500), (0, 1000), (0, 1500), (500, 0), (500, 500), (500, 1000), (500, 1500), (1000, 0), (1000, 500), (1000, 1000), (1000, 1500)], 'test1d')"
   ]
  },
  {
   "cell_type": "code",
   "execution_count": null,
   "id": "95fe86ca-8522-488b-ba91-db9ecb21e1e2",
   "metadata": {
    "deletable": false,
    "editable": false
   },
   "outputs": [],
   "source": [
    "grid_layout43a = create_grid_layout(4, 3, 500)\n",
    "if grid_layout43a:\n",
    "    visualize_layout(grid_layout43a)"
   ]
  },
  {
   "cell_type": "code",
   "execution_count": null,
   "id": "6edf48ed-63c5-4eec-9cdf-3849a40d8b2b",
   "metadata": {
    "deletable": false,
    "editable": false
   },
   "outputs": [],
   "source": [
    "import code_analyser\n",
    "code_analyser.test_non_functional_requirements_create_grid_layout()"
   ]
  },
  {
   "cell_type": "markdown",
   "id": "7d74b6c9-ce27-46ec-a85d-ec3e9ce57e9e",
   "metadata": {
    "deletable": false,
    "editable": false
   },
   "source": [
    "# Alternative Hexagonal Layout\n",
    "\n",
    "If we wish to maintain a regular lattice structure, but wish to pack the turbines more densely while still maintaining a mimimum distance (M) between all wind turbines, then the optimal arrangement is a hexagonal packing (see https://en.wikipedia.org/wiki/Circle_packing#Densest_packing).\n",
    "\n",
    "In the illustration below, the red dots represent the locations of the wind turbines. The blue circles (which have a radius equal to the minimum allowed distance between turbines) demonstrate that none of the wind turbines are closer together than this minimum distance. The green lines highlight the hexagonal nature of this arrangement. \n",
    "\n",
    "Note that the distance between the rows is M, but the distance between the columns is less than M. This example has 6 rows and 8 columns.\n",
    "\n",
    "<img src=\"images/hex.png\">"
   ]
  },
  {
   "cell_type": "markdown",
   "id": "2e1a286b-9104-4b0a-8bf3-78db4f346fee",
   "metadata": {
    "deletable": false,
    "editable": false
   },
   "source": [
    "<div style=\"background-color: #00cc00; padding:10px\">\n",
    "    \n",
    "# Task 3: Implement create hexagonal layout\n",
    "\n",
    "The following function (which you need to implement) creates one of these hexagonal layouts, with the specified number of rows and columns and minimum distance between turbines. You may assume that there are an even number of columns.\n",
    "\n",
    "As with the grid layout, the first turbine is always at location (0,0), followed by the other turbines in the first column, then the turbines in the next column and so on.\n",
    "\n",
    "</div>"
   ]
  },
  {
   "cell_type": "code",
   "execution_count": null,
   "id": "814e7ca8-141e-4917-92a4-8ce7a443574e",
   "metadata": {},
   "outputs": [],
   "source": [
    "# This function creates a hexagonal layout where the turbines are packed as closely together as possible.\n",
    "# As with the grid layout, the first turbine is always at location (0,0), followed by the other turbines in the first column, then the turbines in the next column and so on.\n",
    "# Parameters:\n",
    "# - number_of_rows is an integer number that specifies how many turbines there are in each column\n",
    "# - number_of_columns is an integer number that specifies how  many equally spaced columns of turbines to create (you may assume that there are an even number of columns)\n",
    "# - minimum_gap_between_turbines is the minimum gap (measured in metres) between all turbines\n",
    "# Return value:\n",
    "# - a list of (x,y) tuples corresponding to the x and y coordinates of each of the turbines. \n",
    "\n",
    "import math\n",
    "\n",
    "def create_hexagonal_layout(number_of_rows, number_of_columns, minimum_gap_between_turbines) : # do not change this line in any way - the function name and parameters must remain exactly as specified here\n",
    "    return None # replace this line with your code for this function"
   ]
  },
  {
   "cell_type": "code",
   "execution_count": null,
   "id": "7d9fecc7-8e90-4985-bf6e-4222373f2e95",
   "metadata": {
    "deletable": false,
    "editable": false
   },
   "outputs": [],
   "source": [
    "import code_analyser\n",
    "\n",
    "test_layout22 = create_hexagonal_layout(2, 2, 500)\n",
    "code_analyser.assert_equal(test_layout22, [(0.0, 0), (0.0, 500), (433.0127018922193, 250.0), (433.0127018922193, 750.0)], 'test2a')"
   ]
  },
  {
   "cell_type": "code",
   "execution_count": null,
   "id": "8aedce0b-8f94-48bc-8bdb-9447f0781036",
   "metadata": {
    "deletable": false,
    "editable": false
   },
   "outputs": [],
   "source": [
    "test_layout34 = create_hexagonal_layout(3, 4, 500)\n",
    "code_analyser.assert_equal(test_layout34, [(0.0, 0), (0.0, 500), (0.0, 1000), (433.0127018922193, 250.0), (433.0127018922193, 750.0), (433.0127018922193, 1250.0), (866.0254037844386, 0), (866.0254037844386, 500), (866.0254037844386, 1000), (1299.0381056766578, 250.0), (1299.0381056766578, 750.0), (1299.0381056766578, 1250.0)], 'test2b')"
   ]
  },
  {
   "cell_type": "code",
   "execution_count": null,
   "id": "34a21ea3-ba60-4f12-bf1a-ce5a0c5cdec9",
   "metadata": {
    "deletable": false,
    "editable": false
   },
   "outputs": [],
   "source": [
    "test_layout44 = create_hexagonal_layout(4, 4, 500)\n",
    "code_analyser.assert_equal(test_layout44, [(0.0, 0), (0.0, 500), (0.0, 1000), (0.0, 1500), (433.0127018922193, 250.0), (433.0127018922193, 750.0), (433.0127018922193, 1250.0), (433.0127018922193, 1750.0), (866.0254037844386, 0), (866.0254037844386, 500), (866.0254037844386, 1000), (866.0254037844386, 1500), (1299.0381056766578, 250.0), (1299.0381056766578, 750.0), (1299.0381056766578, 1250.0), (1299.0381056766578, 1750.0)], 'test2c')"
   ]
  },
  {
   "cell_type": "code",
   "execution_count": null,
   "id": "afff5791-bf0b-4aaa-8ae9-e1e9b044c810",
   "metadata": {
    "deletable": false,
    "editable": false
   },
   "outputs": [],
   "source": [
    "test_layout33 = create_hexagonal_layout(3, 3, 100)\n",
    "code_analyser.assert_equal(test_layout33, [(0.0, 0), (0.0, 100), (0.0, 200), (86.60254037844386, 50.0), (86.60254037844386, 150.0), (86.60254037844386, 250.0), (173.20508075688772, 0), (173.20508075688772, 100), (173.20508075688772, 200)], 'test2d')"
   ]
  },
  {
   "cell_type": "code",
   "execution_count": null,
   "id": "a229e4ad-4cd0-49da-964e-4f866b7c2fed",
   "metadata": {
    "deletable": false,
    "editable": false
   },
   "outputs": [],
   "source": [
    "hex_layout34 = create_hexagonal_layout(3, 4, 500)\n",
    "if hex_layout34:\n",
    "    visualize_layout(hex_layout34)"
   ]
  },
  {
   "cell_type": "code",
   "execution_count": null,
   "id": "2aecb40f-3bbf-4593-b54f-5a262c3a4141",
   "metadata": {
    "deletable": false,
    "editable": false
   },
   "outputs": [],
   "source": [
    "import code_analyser\n",
    "code_analyser.test_non_functional_requirements_create_hexagonal_layout()"
   ]
  },
  {
   "cell_type": "markdown",
   "id": "bb897008-4c68-477c-b1c2-5b90c95dd8e5",
   "metadata": {
    "deletable": false,
    "editable": false
   },
   "source": [
    "<div style=\"background-color: #00cc00; padding:10px\">\n",
    "    \n",
    "# Task 4: Which layout produces the best energy production?\n",
    "\n",
    "Which produces the best energy production, a grid layout or a hexagonal layout (assuming the same total number of turbines with the same number of rows and columns)?"
   ]
  },
  {
   "cell_type": "markdown",
   "id": "569b903d-2a76-4629-b31f-308b35058fbe",
   "metadata": {},
   "source": [
    "Comment on your observations here."
   ]
  },
  {
   "cell_type": "markdown",
   "id": "66bd743c-0f0e-456a-9ede-b7fb6f4c049d",
   "metadata": {
    "deletable": false,
    "editable": false
   },
   "source": [
    "# Rotating a layout\n",
    "\n",
    "If the wind is often from say the south or the west, then the problem with a grid layout (and to a slightly less extent a hexagonal layout) \n",
    "is that many of the turbines will be positioned directly downwind of other turbines, which will reduce wind velocity and increase turbulance \n",
    "reaching those downwind turbines and so decrease their energy production. A simple solution to this problem might be to orient the wind farm so that it is not oriented directly north-south/east-west.\n",
    "We can experiment with orienting the wind farm at different angles and seek to find the optimal angle given the variety of prevailing wind directions that are most commonly encountered according to the wind rose.\n",
    "\n",
    "To create a new re-oriented layout, we can take any given layout and rotate the location of every wind turbine by $d$ degree (clockwise) around the origin (0,0).\n",
    "\n",
    "For example, if we rotated a 4 x 3 grid layout by 30 degrees (clockwise):\n",
    "\n",
    "<img src=\"images/rotate.png\">"
   ]
  },
  {
   "cell_type": "markdown",
   "id": "627391b7-182a-41f9-b0ed-bd23a3bb4c5e",
   "metadata": {
    "deletable": false,
    "editable": false
   },
   "source": [
    "<div style=\"background-color: #00cc00; padding:10px\">\n",
    "    \n",
    "# Task 5: Rotate a single location\n",
    "\n",
    "The first step towards rotating an entire layout is to be able to rotate a single point/ turbine location. The following function (which you need to implement) returns the new location of the specified location, after it has been rotated by the specified number of degrees (clockwise) about the origin.\n",
    "\n",
    "The mathematics related to such a geometric transform is not overly complex, but is not expected to be known to you. We therefore expect you, as an engineer in training, to be able research/lookup this kind of well defined technical challenge. It this case it should be as simple as a Google search for \"*formula for rotating a point around the origin*\". Note: what you are seeking is a mathematical formula, not Python code. Once you have a mathematical formula you should then be able to translate it into a Python expression based on the function parameters provided. \n",
    "\n",
    "<img src=\"images/rotateLocation.png\" width=\"400\">\n",
    "\n",
    "</div>"
   ]
  },
  {
   "cell_type": "code",
   "execution_count": null,
   "id": "43709a66-5763-433a-87a1-2aba7ab9c625",
   "metadata": {},
   "outputs": [],
   "source": [
    "import math\n",
    "\n",
    "# This function computes the location that will result from rotating a given location about the origin by a specified angle (clockwise) measured in degrees.\n",
    "# Parameters:\n",
    "# - location is an (x,y) tuple representing the location that we wish to rotate\n",
    "# - angle_degrees is the angle (measured in degrees) that we wish to rotate the location\n",
    "# Return value:\n",
    "# - An (x,y) tuple that represents the location that results from rotating the given location (around the origin)\n",
    "\n",
    "def rotate_single_location(location, angle_degrees) : # do not change this line in any way - the function name and parameters must remain exactly as specified here\n",
    "    return None # replace this line with your code for this function\n",
    "\n",
    "    # Hint: to unpack the location tuple into its constituent x and y components use: \n",
    "    # x, y = location"
   ]
  },
  {
   "cell_type": "code",
   "execution_count": null,
   "id": "978f51a5-a347-47ba-9813-fc2cd77bb015",
   "metadata": {
    "deletable": false,
    "editable": false
   },
   "outputs": [],
   "source": [
    "import code_analyser\n",
    "\n",
    "new_position1 = rotate_single_location((0,0), 0)\n",
    "code_analyser.assert_equal(new_position1, (0,0), \"test3a\")"
   ]
  },
  {
   "cell_type": "code",
   "execution_count": null,
   "id": "502beb59-71a6-4c6f-a547-878b48768167",
   "metadata": {
    "deletable": false,
    "editable": false
   },
   "outputs": [],
   "source": [
    "new_position2 = rotate_single_location((0,0), 42)\n",
    "code_analyser.assert_equal(new_position2, (0,0), \"test3b\")"
   ]
  },
  {
   "cell_type": "code",
   "execution_count": null,
   "id": "6bc1a4e5-9aee-45ad-9dc8-c3ef1565dbe0",
   "metadata": {
    "deletable": false,
    "editable": false
   },
   "outputs": [],
   "source": [
    "new_position3 = rotate_single_location((1,1), 0)\n",
    "code_analyser.assert_equal(new_position3, (1,1), \"test3c\")"
   ]
  },
  {
   "cell_type": "code",
   "execution_count": null,
   "id": "a95ba3db-3b27-40ff-bfec-57917ef9ee3d",
   "metadata": {
    "deletable": false,
    "editable": false
   },
   "outputs": [],
   "source": [
    "new_position4 = rotate_single_location((1,1), 45)\n",
    "code_analyser.assert_equal(new_position4, (1.414213562373095, 0), \"test3d\")"
   ]
  },
  {
   "cell_type": "code",
   "execution_count": null,
   "id": "3e69fe27-f20e-49bc-b921-8ef5d74cf925",
   "metadata": {
    "deletable": false,
    "editable": false
   },
   "outputs": [],
   "source": [
    "new_position5 = rotate_single_location((1,1), 10)\n",
    "code_analyser.assert_equal(new_position5, (1.1584559306791384, 0.8111595753452777), \"test3e\")"
   ]
  },
  {
   "cell_type": "code",
   "execution_count": null,
   "id": "6a57ba19-8323-44fd-b5b4-fc2f0e93cffc",
   "metadata": {
    "deletable": false,
    "editable": false
   },
   "outputs": [],
   "source": [
    "new_position6 = rotate_single_location((2,-1), 30)\n",
    "code_analyser.assert_equal(new_position6, (1.2320508075688774, -1.8660254037844386), \"test3f\")"
   ]
  },
  {
   "cell_type": "code",
   "execution_count": null,
   "id": "b06fc402-7001-422f-bc4d-ec7e08f3f0eb",
   "metadata": {
    "deletable": false,
    "editable": false
   },
   "outputs": [],
   "source": [
    "new_position7 = rotate_single_location((1,1), 90)\n",
    "code_analyser.assert_equal(new_position7, (1,-1), \"test3g\")"
   ]
  },
  {
   "cell_type": "code",
   "execution_count": null,
   "id": "d563d3e8-9f20-4e74-a987-ab094c4a340c",
   "metadata": {
    "deletable": false,
    "editable": false
   },
   "outputs": [],
   "source": [
    "new_position8 = rotate_single_location((1,1), 135)\n",
    "code_analyser.assert_equal(new_position8, (0, -1.414213562373095), \"test3h\")"
   ]
  },
  {
   "cell_type": "code",
   "execution_count": null,
   "id": "69250555-3365-4383-9ac9-a474ffaa03d3",
   "metadata": {
    "deletable": false,
    "editable": false
   },
   "outputs": [],
   "source": [
    "new_position9 = rotate_single_location((1,1), 180)\n",
    "code_analyser.assert_equal(new_position9, (-1, -1), \"test3i\")"
   ]
  },
  {
   "cell_type": "code",
   "execution_count": null,
   "id": "60e9f9d1-00a4-43e3-8499-eca081fb5d4d",
   "metadata": {
    "deletable": false,
    "editable": false
   },
   "outputs": [],
   "source": [
    "new_position10 = rotate_single_location((1,1), 225)\n",
    "code_analyser.assert_equal(new_position10, (-1.4142135623730951, 0), \"test3j\")"
   ]
  },
  {
   "cell_type": "code",
   "execution_count": null,
   "id": "8cf20cff-9c65-4015-9718-0dca84b3b030",
   "metadata": {
    "deletable": false,
    "editable": false
   },
   "outputs": [],
   "source": [
    "new_position11 = rotate_single_location((1,1), 270)\n",
    "code_analyser.assert_equal(new_position11, (-1, 1), \"test3k\")"
   ]
  },
  {
   "cell_type": "code",
   "execution_count": null,
   "id": "3739e0de-83fc-47e3-b0e3-45575ab32e42",
   "metadata": {
    "deletable": false,
    "editable": false
   },
   "outputs": [],
   "source": [
    "new_position12 = rotate_single_location((12.6,-17.5), 15.6)\n",
    "code_analyser.assert_equal(new_position12, (7.429751480883344, -20.243734658711368), \"test3m\")"
   ]
  },
  {
   "cell_type": "code",
   "execution_count": null,
   "id": "5d821a83-27b3-474f-9ae6-75e9e5ed0d57",
   "metadata": {
    "deletable": false,
    "editable": false
   },
   "outputs": [],
   "source": [
    "import code_analyser\n",
    "code_analyser.test_non_functional_requirements_rotate_single_location()"
   ]
  },
  {
   "cell_type": "markdown",
   "id": "caffc478-2425-48ac-8081-bf19b8fddbf0",
   "metadata": {
    "deletable": false,
    "editable": false
   },
   "source": [
    "<div style=\"background-color: #00cc00; padding:10px\">\n",
    "    \n",
    "# Task 6: Rotate an entire layout\n",
    "\n",
    "We can now use the rotate_single_location function to help us rotate each of the locations within our original layout.\n",
    "\n",
    "Note that we are not modifying/changing the original layout, we are creating a brand new separate layout (i.e. a new Python list).\n",
    "</div>"
   ]
  },
  {
   "cell_type": "code",
   "execution_count": null,
   "id": "a254657d-075e-4b84-ada5-f9c6d467ec54",
   "metadata": {},
   "outputs": [],
   "source": [
    "# This function computes the location that will result from rotating a given location about the origin by a specified angle (clockwise) measured in degrees.\n",
    "# Important node: we are not modifying the original layout, we are creating a new layout (i.e. a new list) that would be the result of rotating the original layout. \n",
    "# Parameters:\n",
    "# - layout is a list of (x,y) tuples representing the initial locations of each turbine\n",
    "# - angle_degrees is the angle (measured in degrees) that we wish to rotate the layout\n",
    "# Return value:\n",
    "# - a new list of (x,y) tuples that presents the layout of the turbines if they were all rotated the specified angle about the origin.\n",
    "# Makes use of: rotate_single_location\n",
    "\n",
    "def rotate_layout(layout, angle_degrees) : # do not change this line in any way - the function name and parameters must remain exactly as specified here\n",
    "    return None # replace this line with your code for this function"
   ]
  },
  {
   "cell_type": "code",
   "execution_count": null,
   "id": "1f0082b2-611d-4d0e-b5a3-c61271cf92d9",
   "metadata": {
    "deletable": false,
    "editable": false
   },
   "outputs": [],
   "source": [
    "import code_analyser\n",
    "\n",
    "new_layout3 = rotate_layout([(0,0),(1,1), (2,2)], 45)\n",
    "code_analyser.assert_equal(new_layout3,  [(0.0, 0.0), (1.414213562373095, 0), (2.82842712474619, 0)], \"test4a\")"
   ]
  },
  {
   "cell_type": "code",
   "execution_count": null,
   "id": "4a6c9e9b-a2be-47fa-88e5-e07d2ef6ad43",
   "metadata": {
    "deletable": false,
    "editable": false
   },
   "outputs": [],
   "source": [
    "new_layout4 = rotate_layout([(0,0),(0,100),(0,200),(100,0),(100,100),(100,200),(200,0),(200,100),(200,200),(300,0),(300,100),(300,200),(400,0),(400,100),(400,200)], 0)\n",
    "code_analyser.assert_equal(new_layout4, [(0,0),(0,100),(0,200),(100,0),(100,100),(100,200),(200,0),(200,100),(200,200),(300,0),(300,100),(300,200),(400,0),(400,100),(400,200)], \"test4b\")"
   ]
  },
  {
   "cell_type": "code",
   "execution_count": null,
   "id": "b2f49f85-c1b8-4868-b179-b3b1d17f2db0",
   "metadata": {
    "deletable": false,
    "editable": false
   },
   "outputs": [],
   "source": [
    "new_layout5 = rotate_layout([(0,0),(0,100),(0,200),(100,0),(100,100),(100,200),(200,0),(200,100),(200,200),(300,0),(300,100),(300,200),(400,0),(400,100),(400,200)], 45)\n",
    "code_analyser.assert_equal(new_layout5, [(0.0, 0.0), (70.71067811865474, 70.71067811865476), (141.42135623730948, 141.4213562373095), (70.71067811865476, -70.71067811865474), (141.4213562373095, 1.4210854715202004e-14), (212.13203435596424, 70.71067811865477), (141.4213562373095, -141.42135623730948), (212.13203435596427, -70.71067811865473), (282.842712474619, 2.842170943040401e-14), (212.13203435596427, -212.13203435596424), (282.842712474619, -141.42135623730948), (353.5533905932738, -70.71067811865473), (282.842712474619, -282.84271247461896), (353.5533905932738, -212.1320343559642), (424.26406871192853, -141.42135623730945)], \"test4c\")"
   ]
  },
  {
   "cell_type": "code",
   "execution_count": null,
   "id": "88c339cb-bf2f-4af2-9ceb-15e64df727e3",
   "metadata": {
    "deletable": false,
    "editable": false
   },
   "outputs": [],
   "source": [
    "new_layout6 = rotate_layout([(12.6,4.5), (-10.6,17.7), (-22.6,27.8)], 135.5)\n",
    "code_analyser.assert_equal(new_layout6, [(-5.832863969993356, -12.04108375137194), (19.966548739141686, -5.19489474845059), (35.604737698420365, -3.9878131133096115)], \"test4d\")"
   ]
  },
  {
   "cell_type": "code",
   "execution_count": null,
   "id": "f9ec97a2-3b82-408f-9b66-ab6656eed775",
   "metadata": {
    "deletable": false,
    "editable": false
   },
   "outputs": [],
   "source": [
    "grid_layout43b = create_grid_layout(4, 3, 500)\n",
    "rotated_grid_layout2 = rotate_layout(grid_layout43b, 30)\n",
    "if rotated_grid_layout2:\n",
    "    visualize_layout(rotated_grid_layout2)"
   ]
  },
  {
   "cell_type": "code",
   "execution_count": null,
   "id": "e26cad5c-f103-4a8d-ab7e-5b782a79b08b",
   "metadata": {
    "deletable": false,
    "editable": false
   },
   "outputs": [],
   "source": [
    "import code_analyser\n",
    "code_analyser.test_non_functional_requirements_rotate_layout()"
   ]
  },
  {
   "cell_type": "markdown",
   "id": "c3e0de65-d53b-4140-a8e2-ad30a2d949ff",
   "metadata": {
    "deletable": false,
    "editable": false
   },
   "source": [
    "<div style=\"background-color: #00cc00; padding:10px\">\n",
    "\n",
    "# Task 7: Finding the best rotation\n",
    "\n",
    "Now that we can create new rotated layouts and we can evalulate the average power produced per hour for each such layout, we are now in a position to search for the best possible rotation, i.e. the rotation that yield the maximum power.\n",
    "\n",
    "In the following function (which you need to implement), we will test every possible rotation of the original layout provided, ranging from -45 degrees to +45 degrees. To save time, we won't consider every possible angle in that range, but instead just steps of 5 degrees. So in total we will explore -45, -40, -35, -30, -25, -20, -15, -10, -5, 0, 5, 10, 15, 20, 25, 30, 35, 40 and 45 degrees. For each we will evaluate the power that would be produced for that rotated layout and return the layout that yields the highest average power.\n",
    "</div>"
   ]
  },
  {
   "cell_type": "code",
   "execution_count": null,
   "id": "7d84c4df-1d80-4afe-9f55-283d865ef6da",
   "metadata": {},
   "outputs": [],
   "source": [
    "# This function tests every possible rotation of the original layout provided, ranging from -45 degrees to +45 degrees (in steps of 5).\n",
    "# For each we will evaluate the power that would be produced for that rotated layout and return the layout that yields the highest average power.\n",
    "# Parameters:\n",
    "# - layout is a list of (x,y) tuples representing the initial locations of each turbine\n",
    "# Return value:\n",
    "# - a list of (x,y) tuples that presents the layout of the turbines if they were all rotated from their original location by the optimal angle (between -45 and +45 degrees)\n",
    "# Makes use of: rotate_layout, evaluate_turbine_layout\n",
    "\n",
    "def find_best_rotation(layout) : # do not change this line in any way - the function name and parameters must remain exactly as specified here\n",
    "    return None # replace this line with your code for this function\n",
    "\n",
    "    # Hint: when debugging, placing the following print statement inside your loop my help you understand the calculations as they are performed\n",
    "    # print(f\"rotating {angle} degrees produces {power:.2f} kW\")"
   ]
  },
  {
   "cell_type": "code",
   "execution_count": null,
   "id": "78964b87-b84d-494b-b249-16154b15c05a",
   "metadata": {
    "deletable": false,
    "editable": false
   },
   "outputs": [],
   "source": [
    "import code_analyser\n",
    "\n",
    "rotated_grid2 = find_best_rotation([(0, 0), (0, 500), (0, 1000), (500, 0), (500, 500), (500, 1000), (1000, 0), (1000, 500), (1000, 1000)])\n",
    "code_analyser.assert_equal(rotated_grid2, [(0.0, 0.0), (-129.40952255126038, 482.9629131445342), (-258.81904510252076, 965.9258262890684), (482.9629131445342, 129.40952255126038), (353.5533905932738, 612.3724356957946), (224.14386804201342, 1095.3353488403288), (965.9258262890684, 258.81904510252076), (836.516303737808, 741.781958247055), (707.1067811865476, 1224.7448713915892)], \"test5a\")"
   ]
  },
  {
   "cell_type": "code",
   "execution_count": null,
   "id": "ce5ded40-22d7-458d-a6c5-7c415c1fba59",
   "metadata": {
    "deletable": false,
    "editable": false
   },
   "outputs": [],
   "source": [
    "rotated_grid3 = find_best_rotation([(-62.9785,425.1580),(-294.4899,-46.8077),(123.5603,-405.6379),(122.6698,-310.7602)])\n",
    "code_analyser.assert_equal(rotated_grid3,[(-135.8496269935961, 407.7627928979676), (-281.8878648980094, -97.23422033698607), (192.12142353215484, -378.01932790861156), (174.76911252186775, -284.73766706285755)], \"test5b\")"
   ]
  },
  {
   "cell_type": "code",
   "execution_count": null,
   "id": "02925ad7-da8c-431b-9784-b6bb3c92f08e",
   "metadata": {
    "deletable": false,
    "editable": false
   },
   "outputs": [],
   "source": [
    "import code_analyser\n",
    "code_analyser.test_non_functional_requirements_find_best_rotation()"
   ]
  },
  {
   "cell_type": "code",
   "execution_count": null,
   "id": "af09b852-5bb2-427e-8ad5-b67a49e570c2",
   "metadata": {
    "deletable": false,
    "editable": false
   },
   "outputs": [],
   "source": [
    "# Find the best rotated 4x4 regular grid layout ...\n",
    "\n",
    "grid_layout_4x4 = create_grid_layout(4, 4, 500)\n",
    "best_grid_4x4 = find_best_rotation(grid_layout_4x4)\n",
    "if best_grid_4x4:\n",
    "    visualize_layout(best_grid_4x4)"
   ]
  },
  {
   "cell_type": "code",
   "execution_count": null,
   "id": "9a1b7859-dcab-4809-b844-1b2bbcff45d8",
   "metadata": {
    "deletable": false,
    "editable": false
   },
   "outputs": [],
   "source": [
    "# Find the best rotated 4x4 hexagonal layout ...\n",
    "\n",
    "hex_layout_4x4 = create_hexagonal_layout(4, 4, 500)\n",
    "best_hex_4x4a = find_best_rotation(hex_layout_4x4)\n",
    "if best_hex_4x4a:\n",
    "    visualize_layout(best_hex_4x4a)"
   ]
  },
  {
   "cell_type": "markdown",
   "id": "18adfeb2-109e-44ca-a852-f375f41c2d59",
   "metadata": {
    "deletable": false,
    "editable": false
   },
   "source": [
    "<div style=\"background-color: #00cc00; padding:10px\">\n",
    "\n",
    "# Task 8: Which layout is now the best?\n",
    "\n",
    "If we consider the affect of rotation, which now produces the best overall power, the optimally rotated grid layout or the optimally rotated hexagonal layout?\n",
    "\n",
    "Why do you think that might be?"
   ]
  },
  {
   "cell_type": "markdown",
   "id": "7ecb5d6b-7987-4406-8cb3-d3f0c0039409",
   "metadata": {},
   "source": [
    "Include your observations and comments here."
   ]
  },
  {
   "cell_type": "markdown",
   "id": "5f21b2ac-f3f9-4125-ac15-85f8fd8e309f",
   "metadata": {
    "deletable": false,
    "editable": false
   },
   "source": [
    "# After positioning each wind turbine\n",
    "\n",
    "In the following we will be assuming that we have selected the location for each wind turbine (via the above or other means) and will be seeking to further improve the power yield from the farm with changing any of those locations ..."
   ]
  },
  {
   "cell_type": "markdown",
   "id": "afabff20-b6c5-46e1-bc59-d6adbc7018c1",
   "metadata": {
    "deletable": false,
    "editable": false
   },
   "source": [
    "# Wake Steering\n",
    "\n",
    "Normally a wind turbine is designed to turn so that it faces directly towards the current prevailing wind direction. However, it is also possible to instead point the turbine either slight to the left or right of where the wind is coming from. This is referred to as the ***yaw*** angle - the angle between the direction of the wind and the direction that the turbine is facing. This will have a negative effect on the power generated by that particular wind turbine, however, by changing the angle of the wind turbine relative to the wind, we can also change the direction of the *wake* caused by that turbine. In particular, we can actively ***steer*** the wake so as to try to avoid or lessen the wake affect on other nearby wind turbines which are downwind. So, the reduced negative wake effects on the downwind turbines can actually more than compensate for the slightly lower efficiency of the upwind turbine (which doesn't point directly towards the wind). Each wind turbine within the wind farm can be independently steered, either left or right any number of degrees. It is therefore a complex optimization problem to determine the best *yaw* angle for each of the turbines. And when the wind changes direction we have entirely new/different optimization problem which needs to be rapidly solved so as to maintain optimal efficiency of the wind farm as a whole.\n",
    "\n",
    "| Without Wake Steering | With Wake Steering |\n",
    "| --------------------- | ------------------ |\n",
    "| <img src=\"images/wake.png\"> | <img src=\"images/steering.png\"> |"
   ]
  },
  {
   "cell_type": "markdown",
   "id": "deda8709-6132-4d00-b51c-fc90cef20fdf",
   "metadata": {
    "deletable": false,
    "editable": false
   },
   "source": [
    "# Representing yaw angles as a list\n",
    "\n",
    "To describe the wake steering we will use a list of yaw angles, one for each wind turbine. For example, if we have 16 wind turbines, then the following yaw angle list [$-16$, $-12$, $-12$, $0$, $-12$, $-12$, $0$, $0$, $-16$, $-12$, $-12$, $0$, $0$, $0$, $0$, $0$] tells us that the first wind turbine will have a yaw angle of $-16$ degrees, while the second wind turbine will have a yaw angle of $-12$ degrees.\n",
    "\n",
    "Without active wake steering, the yaw angle for each wind turbine will be zero. The following function (which has been provided for you) creates a list of yaw angles for the simple special case where all wind turbines are directly facing the prevailing wind, i.e. all yaw angles are zero."
   ]
  },
  {
   "cell_type": "code",
   "execution_count": null,
   "id": "436ee96f-91a6-4fe6-93f8-7311c9ba9091",
   "metadata": {
    "deletable": false,
    "editable": false
   },
   "outputs": [],
   "source": [
    "# The following function has been provided for you,  do not modify it in any way.\n",
    "\n",
    "# This function returns a list of yaw angles (one for each turbine) with all angles equal to zero.\n",
    "# Parameters:\n",
    "# - layout is a list of (x,y) tuples (corresponding to the location of each turbine)\n",
    "# Return value:\n",
    "# - A list of the yaw angles for each turbine\n",
    "\n",
    "def zero_yaw(layout) :\n",
    "    return [0] * len(layout)"
   ]
  },
  {
   "cell_type": "code",
   "execution_count": null,
   "id": "a4ef9119-5d9d-4f6f-b9e6-7779ffc1f6c2",
   "metadata": {
    "deletable": false,
    "editable": false
   },
   "outputs": [],
   "source": [
    "import code_analyser\n",
    "\n",
    "layout03 = [(0.0, 0.0), (-129.40952255126038, 482.9629131445342), (-258.81904510252076, 965.9258262890684), (482.9629131445342, 129.40952255126038), (353.5533905932738, 612.3724356957946), (224.14386804201342, 1095.3353488403288), (965.9258262890684, 258.81904510252076), (836.516303737808, 741.781958247055), (707.1067811865476, 1224.7448713915892)]\n",
    "yaw_angles03 = zero_yaw(layout03)\n",
    "code_analyser.assert_equal(yaw_angles03, [0, 0, 0, 0, 0, 0, 0, 0, 0])"
   ]
  },
  {
   "cell_type": "markdown",
   "id": "68e09c28-591c-4c50-8247-170c0f262cb4",
   "metadata": {
    "deletable": false,
    "editable": false
   },
   "source": [
    "# Evaluating a particular wind direction\n",
    "\n",
    "Whenever we wish to perform wake steering, we need to know the prevailing wind direction since different wind directions will require different wake steering (with different yaw angles).\n",
    "\n",
    "The following function (which has been provided for you) computes the estimated total power from the wind farm given a layout, a given wind direction and a given set of yaw angles.\n",
    "We don't yet know which set of yaw angles will produce the maximum total power for a given wind direction, however, this function will help us compare different sets of yaw angles and thereby help us find the best.\n"
   ]
  },
  {
   "cell_type": "code",
   "execution_count": null,
   "id": "2dace4bf-c048-43e6-a7a4-60d8cfe1efc0",
   "metadata": {
    "deletable": false,
    "editable": false
   },
   "outputs": [],
   "source": [
    "# The following function has been provided for you,  do not modify it in any way.\n",
    "\n",
    "import floris\n",
    "\n",
    "# This function models the expected power generated by the entire wind farm given the location of each turbine, the prevailing wind direction and the specified yaw angle for each turbine.\n",
    "# The wind speed is assumed to be 7.\n",
    "# Parameters:\n",
    "# - layout is a list of (x,y) tuples corresponding to the location of each turbine\n",
    "# - wind_direction is the angle from which the wind is blowing, measured in degrees clockwise from North.\n",
    "# - yaw_angles is a list of the yaw angles for each turbine\n",
    "# Return value:\n",
    "# - a tuple containg a pair of values: the Floris model object, and the expected power generated by the entire farm measured in kilowatts per hour.\n",
    "\n",
    "def evaluate_single_direction_with_yaws(layout, wind_direction, yaw_angles) :\n",
    "    x_coords, y_coords = unzip(layout)\n",
    "    fmodel = floris.FlorisModel(\"gch.yaml\")\n",
    "    fmodel.set(layout_x=x_coords, layout_y=y_coords)\n",
    "    \n",
    "    fmodel.set(wind_directions=[wind_direction], wind_speeds=[7], turbulence_intensities=[0.06], yaw_angles=numpy.array([yaw_angles], dtype=float))   \n",
    "    \n",
    "    fmodel.run()\n",
    "    return fmodel, fmodel.get_expected_farm_power() / 1000 "
   ]
  },
  {
   "cell_type": "code",
   "execution_count": null,
   "id": "ff887ef4-dd47-4c54-99ba-13f613dc73d3",
   "metadata": {
    "deletable": false,
    "editable": false
   },
   "outputs": [],
   "source": [
    "import code_analyser\n",
    "\n",
    "layout04 = [(0.0, 0.0), (-129.40952255126038, 482.9629131445342), (-258.81904510252076, 965.9258262890684), (482.9629131445342, 129.40952255126038), (353.5533905932738, 612.3724356957946), (224.14386804201342, 1095.3353488403288), (965.9258262890684, 258.81904510252076), (836.516303737808, 741.781958247055), (707.1067811865476, 1224.7448713915892)]\n",
    "no_steering = zero_yaw(layout04)\n",
    "model04, power04 = evaluate_single_direction_with_yaws(layout04, 225, no_steering)\n",
    "code_analyser.assert_equal(power04, 9791.825293281678)"
   ]
  },
  {
   "cell_type": "markdown",
   "id": "3d7aa56c-c9ac-4f21-995a-fd44fa6c2e1c",
   "metadata": {
    "deletable": false,
    "editable": false
   },
   "source": [
    "# Visualizing the Wake\n",
    "\n",
    "The following function (which has been provided for you), provides a graphical visualization (from above) of the wake that results from a given layout, wind direction and yaw angles for each turbine.\n"
   ]
  },
  {
   "cell_type": "code",
   "execution_count": null,
   "id": "4bad0e5a-9d8b-427c-9f71-db2c02fb2c16",
   "metadata": {
    "deletable": false,
    "editable": false
   },
   "outputs": [],
   "source": [
    "# The following function has been provided for you,  do not modify it in any way.\n",
    "\n",
    "import floris\n",
    "\n",
    "# This function provides a graphical visualization (from above) of the wake that results from a given layout, wind direction and yaw angles for each turbine.\n",
    "# Parameters:\n",
    "# - layout is a list of (x,y) tuples corresponding to the location of each turbine\n",
    "# - wind_direction is the angle from which the wind is blowing, measured in degrees clockwise from North.\n",
    "# - yaw_angles is a list of the yaw angles for each turbine\n",
    "# - axis is an optimal parameter specifying which matplotlib subplot (if any) the visualization should be displayed within\n",
    "# Return value:\n",
    "# - the total estimated power produced by the wind farm given this configuration.\n",
    "# Makes use of: evaluate_single_direction_with_yaws\n",
    "\n",
    "def visualize_flow_with_yaws(layout, wind_direction, yaw_angles, axis=None) :\n",
    "    fmodel, power = evaluate_single_direction_with_yaws(layout, wind_direction, yaw_angles)\n",
    "    horizontal_plane = fmodel.calculate_horizontal_plane(height=90.0)\n",
    "    floris.flow_visualization.visualize_cut_plane(horizontal_plane, ax = axis)\n",
    "    return power"
   ]
  },
  {
   "cell_type": "code",
   "execution_count": null,
   "id": "a9b930c2-25f8-46f1-9073-856f33d6c850",
   "metadata": {
    "deletable": false,
    "editable": false
   },
   "outputs": [],
   "source": [
    "layout05 = [(0.0, 0.0), (-129.40952255126038, 482.9629131445342), (-258.81904510252076, 965.9258262890684), (482.9629131445342, 129.40952255126038), (353.5533905932738, 612.3724356957946), (224.14386804201342, 1095.3353488403288), (965.9258262890684, 258.81904510252076), (836.516303737808, 741.781958247055), (707.1067811865476, 1224.7448713915892)]\n",
    "no_steering05 = zero_yaw(layout05)\n",
    "visualize_flow_with_yaws(layout05, 225, no_steering05)"
   ]
  },
  {
   "cell_type": "code",
   "execution_count": null,
   "id": "b096d8f9-5b0d-4577-8fe5-c519eb118324",
   "metadata": {
    "deletable": false,
    "editable": false
   },
   "outputs": [],
   "source": [
    "layout06 = [(0.0, 0.0), (-129.40952255126038, 482.9629131445342), (-258.81904510252076, 965.9258262890684), (482.9629131445342, 129.40952255126038), (353.5533905932738, 612.3724356957946), (224.14386804201342, 1095.3353488403288), (965.9258262890684, 258.81904510252076), (836.516303737808, 741.781958247055), (707.1067811865476, 1224.7448713915892)]\n",
    "wind_direction06 = 225 # wind from South West\n",
    "yaw_angles06 = zero_yaw(layout06) # without any yaw steering\n",
    "visualize_flow_with_yaws(layout06, wind_direction06, yaw_angles06)"
   ]
  },
  {
   "cell_type": "code",
   "execution_count": null,
   "id": "2651e751-acdf-41f9-b5a3-d7d9b9b629ce",
   "metadata": {
    "deletable": false,
    "editable": false
   },
   "outputs": [],
   "source": [
    "layout07 = [(0.0, 0.0), (-129.40952255126038, 482.9629131445342), (-258.81904510252076, 965.9258262890684), (482.9629131445342, 129.40952255126038), (353.5533905932738, 612.3724356957946), (224.14386804201342, 1095.3353488403288), (965.9258262890684, 258.81904510252076), (836.516303737808, 741.781958247055), (707.1067811865476, 1224.7448713915892)]\n",
    "wind_direction07 = 135 # wind from South East\n",
    "yaw_angles07 = zero_yaw(layout07) # without any yaw steering\n",
    "visualize_flow_with_yaws(layout07, wind_direction07, yaw_angles07)"
   ]
  },
  {
   "cell_type": "markdown",
   "id": "c698ac03-90f8-4a4a-80f1-20289548573f",
   "metadata": {
    "deletable": false,
    "editable": false
   },
   "source": [
    "# Heuristic Solutions\n",
    "\n",
    "Finding the perfect yaw angle for every turbine within a large wind farm is a computationally challenging problem, i.e. there are just so many different combinations of possible yaw angles that even a super fast computer able to perform billions of computation per second will still take too long to compute the optimal solution. There is little value in spending say 12 hours computing the optimal yaw angle for each turbine, because by then the wind may have shifted to a different direction.\n",
    "\n",
    "For such computationally intensive calculations, it is common to use a heuristic, i.e. an simpler and faster algorithm that isn't guaranteed to always find the best possible solution, but will generally find pretty good solution. We will use such a heuristic to try to determine a yaw angle for each wind turbine that will maximize the overall energy production of the wind farm. The heuristic that we will use is referred to as a \"greedy\" heuristic. We start with a simple solution where every turbine has a yaw angle of zero degrees. i.e. it points directly towards the wind. We then consider each wind turbine one by one and for each turbine we will \"greedily\" choose the yaw angle for that wind turbine that yields the best overall energy production for the whole of the wind farm. We will then lock in that choice of yaw angle for that particular turbine (and will not reconsider it again) as we then move on to likewise greedily choose the locally optimal/best yaw angle for each of the remaining turbines. We say it is locally optimal meaning that given fixed yaw angles for all the other turbines, the one we select is best, even though some other combination of yaw angles for other turbines might produce an overall better solution.\n",
    "\n"
   ]
  },
  {
   "cell_type": "markdown",
   "id": "54ee7d84-3969-45c1-96a2-dbc89ffaa4a2",
   "metadata": {
    "deletable": false,
    "editable": false
   },
   "source": [
    "<div style=\"background-color: #00cc00; padding:10px\">\n",
    "\n",
    "# Task 9: Greedily optimize the yaw angle for just one turbine\n",
    "\n",
    "The following function (which you need to implement), takes as input a set of yaw angles (one for each turbine). Our goal is to find the optimal yaw angle for one particular wind turbine (given as the first parameter).\n",
    "We can set the yaw angle for that turbine to whatever we like, but the yaw angles of all other other turbines need to remain as whatever they are specified to be in the input yaw_angles array.\n",
    "\n",
    "There are an infinite number of possible real-valued angles to choose from (even for just one turbine), so we will instea just explore a finite sample of possible yaw angles for the turbine in question. We will only explore yaw angles between $-20$ degrees and $+20$ degrees, but even if we explored in 1 degree increment, exploring $41$ different angles will still take a bit longer than we would like, so to speed up our experiment, we will only explore in increments of $4$ degrees (i.e. just $-20$, $-16$, $-12$, $-8$, $-4$, $0$, $4$, $8$, $12$, $16$ and $20$).\n",
    "\n",
    "To explore a particular angle for a our particular turbine, we will need to update the list of yaw angles and change the entry for just the turbine that we are focusing on. We can then call evaluate_single_direction_with_yaws to determine the total wind farm power that will result. In this way we can determine which of the various angles considered produces the best overall power.\n",
    "\n",
    "This particular function is not designed to explicitly return a value. It will instead alter the yaw_angles list that is pasted as a parameter.\n",
    "It should leave all the other yaw angles unaltered, but set the yaw angle for the turbine in question to the optimal angle (from amongst those that we considered).\n",
    "\n",
    "For example, if the turbine_number is 3 and the input yaw angles are [$-16$, $-8$, $-12$, $0$, $-4$, $-12$, $0$, $0$, $-16$, $-12$, $-12$, $0$, $0$, $0$, $0$, $0$] then if the best yaw angle determined for turbine 3 is say $4$ degrees, then the greedy_optimize_yaw_angle_for_just_one_turbine function should alter that list so that on return it contains:\n",
    "[$-16$, $-8$, $-12$, $4$, $-4$, $-12$, $0$, $0$, $-16$, $-12$, $-12$, $0$, $0$, $0$, $0$, $0$] \n",
    "\n",
    "</div>\n"
   ]
  },
  {
   "cell_type": "code",
   "execution_count": null,
   "id": "0965d2f3-bf14-4fda-893c-ba79e1d75d6c",
   "metadata": {},
   "outputs": [],
   "source": [
    "# This function greedily selects the optimal yaw angle for the specified turbine number.\n",
    "# All yaw angle for all the other turbines needs to remain unaltered, but the entry for the specified turbine number will be updated/replaced by the optimal angle (between -20 and +20 degrees, in steps of 4).\n",
    "# Important note: this function does not return any value, it instead updates/modifies the list of yaw angles that is passed to it as the last parameter.\n",
    "# Parameters:\n",
    "# - turbine_number is the number of the turbine for which we are going to select the best yaw angle \n",
    "# - layout is a list of (x,y) tuples corresponding to the location of each turbine\n",
    "# - wind_direction is the angle that the wind is coming from (measured in degrees from North, clockwise).\n",
    "# - yaw_angles is a list of current yaw angles for each turbine. \n",
    "# Return value:\n",
    "# - None (this function does not contain a return statement)\n",
    "# Makes use of: evaluate_single_direction_with_yaws\n",
    "\n",
    "def greedy_optimize_yaw_angle_for_just_one_turbine(turbine_number, layout, wind_direction, yaw_angles) : # do not change this line in any way - the function name and parameters must remain exactly as specified here\n",
    "    return None # replace this line with your code for this function\n",
    "\n",
    "    # Hint: when debugging, placing the following print statement inside your loop my help you understand the calculations as they are performed       \n",
    "    # print(f\"Optimize turbine: {turbine_number}, yaw angles: {yaw_angles}, power: {power:.1f}\")"
   ]
  },
  {
   "cell_type": "code",
   "execution_count": null,
   "id": "7195b482-2625-49e5-899b-48f4c034dc85",
   "metadata": {
    "deletable": false,
    "editable": false
   },
   "outputs": [],
   "source": [
    "import code_analyser\n",
    "\n",
    "layout08 = [(0.0, 0.0), (171.01007166283435, 469.8463103929542), (342.0201433256687, 939.6926207859084), (513.0302149885031, 1409.5389311788626), (492.403876506104, 86.8240888334652), (663.4139481689383, 556.6703992264195), (834.4240198317727, 1026.5167096193736), (1005.4340914946072, 1496.363020012328), (813.7976813493736, -296.1981327260238), (984.807753012208, 173.6481776669304), (1155.8178246750424, 643.4944880598846), (1326.8278963378766, 1113.340798452839), (1306.2015578554776, -209.3740438925586), (1477.2116295183118, 260.4722665003956), (1648.2217011811463, 730.3185768933497), (1819.2317728439807, 1200.164887286304)]\n",
    "yaw_angles08 = [0, 0, 0, 0, 0, 0, 0, 0, 0, 0, 0, 0, 0, 0, 0, -4]\n",
    "greedy_optimize_yaw_angle_for_just_one_turbine(15 , layout08, 225, yaw_angles08)\n",
    "code_analyser.assert_equal(yaw_angles08, [0, 0, 0, 0, 0, 0, 0, 0, 0, 0, 0, 0, 0, 0, 0, 0], 'test6a')"
   ]
  },
  {
   "cell_type": "code",
   "execution_count": null,
   "id": "286cdd7f-3c4c-431f-abcd-7b87c9cad855",
   "metadata": {
    "deletable": false,
    "editable": false
   },
   "outputs": [],
   "source": [
    "layout09 =  [(0.0, 0.0), (171.01007166283435, 469.8463103929542), (342.0201433256687, 939.6926207859084), (513.0302149885031, 1409.5389311788626), (492.403876506104, 86.8240888334652), (663.4139481689383, 556.6703992264195), (834.4240198317727, 1026.5167096193736), (1005.4340914946072, 1496.363020012328), (813.7976813493736, -296.1981327260238), (984.807753012208, 173.6481776669304), (1155.8178246750424, 643.4944880598846), (1326.8278963378766, 1113.340798452839), (1306.2015578554776, -209.3740438925586), (1477.2116295183118, 260.4722665003956), (1648.2217011811463, 730.3185768933497), (1819.2317728439807, 1200.164887286304)]\n",
    "yaw_angles09 =  [0, 0, 0, 0, 0, 0, 0, 0, 0, 0, 0, 0, 0, 0, 0, 0]\n",
    "greedy_optimize_yaw_angle_for_just_one_turbine(10 , layout09, 225, yaw_angles09)\n",
    "code_analyser.assert_equal(yaw_angles09, [0, 0, 0, 0, 0, 0, 0, 0, 0, 0, -16, 0, 0, 0, 0, 0], 'test6b')"
   ]
  },
  {
   "cell_type": "code",
   "execution_count": null,
   "id": "ba373d27-5dbb-4b52-8186-9aeaffe60c1d",
   "metadata": {
    "deletable": false,
    "editable": false
   },
   "outputs": [],
   "source": [
    "layout10 = [(0.0, 0.0), (171.01007166283435, 469.8463103929542), (342.0201433256687, 939.6926207859084), (513.0302149885031, 1409.5389311788626), (492.403876506104, 86.8240888334652), (663.4139481689383, 556.6703992264195), (834.4240198317727, 1026.5167096193736), (1005.4340914946072, 1496.363020012328), (813.7976813493736, -296.1981327260238), (984.807753012208, 173.6481776669304), (1155.8178246750424, 643.4944880598846), (1326.8278963378766, 1113.340798452839), (1306.2015578554776, -209.3740438925586), (1477.2116295183118, 260.4722665003956), (1648.2217011811463, 730.3185768933497), (1819.2317728439807, 1200.164887286304)]\n",
    "yaw_angles10 = [0, -12, -12, 0, -12, -20, -12, 0, -16, 0, -16, 0, 0, 0, 0, 0]\n",
    "greedy_optimize_yaw_angle_for_just_one_turbine(0 , layout10, 225, yaw_angles10)\n",
    "code_analyser.assert_equal(yaw_angles10, [-12, -12, -12, 0, -12, -20, -12, 0, -16, 0, -16, 0, 0, 0, 0, 0], 'test6c')"
   ]
  },
  {
   "cell_type": "code",
   "execution_count": null,
   "id": "b4a292d4-8c5f-45d7-b553-e5199d49a88e",
   "metadata": {
    "deletable": false,
    "editable": false
   },
   "outputs": [],
   "source": [
    "layout11 = [(0.0, 0.0), (171.01007166283435, 469.8463103929542), (342.0201433256687, 939.6926207859084), (513.0302149885031, 1409.5389311788626), (492.403876506104, 86.8240888334652), (663.4139481689383, 556.6703992264195), (834.4240198317727, 1026.5167096193736), (1005.4340914946072, 1496.363020012328), (813.7976813493736, -296.1981327260238), (984.807753012208, 173.6481776669304), (1155.8178246750424, 643.4944880598846), (1326.8278963378766, 1113.340798452839), (1306.2015578554776, -209.3740438925586), (1477.2116295183118, 260.4722665003956), (1648.2217011811463, 730.3185768933497), (1819.2317728439807, 1200.164887286304)]\n",
    "yaw_angles11 = [-16, -12, -12, 0, -12, -12, 0, 20, -16, -12, -12, 0, 0, 0, 0, -4]\n",
    "greedy_optimize_yaw_angle_for_just_one_turbine(15 , layout11, 225, yaw_angles11)\n",
    "code_analyser.assert_equal(yaw_angles11, [-16, -12, -12, 0, -12, -12, 0, 20, -16, -12, -12, 0, 0, 0, 0, 0], 'test6d')"
   ]
  },
  {
   "cell_type": "code",
   "execution_count": null,
   "id": "df1cb8f5-f4b7-47e3-955b-23a14b64531b",
   "metadata": {
    "deletable": false,
    "editable": false
   },
   "outputs": [],
   "source": [
    "import code_analyser\n",
    "code_analyser.test_non_functional_requirements_greedy_optimize_yaw_angle_for_just_one_turbine()"
   ]
  },
  {
   "cell_type": "markdown",
   "id": "69c3349f-4bca-4283-929f-bc1ae843fb73",
   "metadata": {
    "deletable": false,
    "editable": false
   },
   "source": [
    "# In which order should we greedily optimize the yaw angles for each turbine\n",
    "\n",
    "We could just apply the above greedy optimization algorithm to each of the turbines, first turbine number 1, then turbine number 2 and so on.\n",
    "\n",
    "However, our heuristic will tend to work better if we apply it to each turbine using a more strategic order that takes accounnt of the wind direction. \n",
    "\n",
    "We will start by determining the greedy optimal angle for the turbine that is closest to the direction from which the wind is blowing, followed by the second closest and so on, before finally the most down wind  turbine. This order won't always be the same, it will depend on the wind direction.\n",
    "\n",
    "For example if the wind is coming from the south west as in the following illustration, then turbine 0 will be processed first, followed by 4, then 8 and finally 11. Whereas if the wind was coming from the south, the turbine 8 would be processed first.\n",
    "\n",
    "<img src=\"images/downwind.png\">"
   ]
  },
  {
   "cell_type": "markdown",
   "id": "4386f036-e667-4ae4-b7ad-2451889bd543",
   "metadata": {
    "deletable": false,
    "editable": false
   },
   "source": [
    "<div style=\"background-color: #00cc00; padding:10px\">\n",
    "\n",
    "# Task 10: Compute the distance downwind for a particular turbine\n",
    "\n",
    "To determine the distance downwind of a turbine, we need to project the location vector $(x,y)$ of the turbine onto the wind vector $\\vec{w}$.\n",
    "\n",
    "<img src=\"images/wind projection.png\">\n",
    "\n",
    "If the wind is from direction $\\theta$ (measured clockwise from North), then the magnitude of the x and y components of the wind direction will be $\\sin \\theta$ and $\\cos \\theta$ respectively. However, the wind is *from* direction $\\theta$, not *towards* direction $\\theta$, so the (unit length) wind vector will be $(-\\sin \\theta, -\\cos \\theta)$. The scalar projection (i.e. magnitude) of the location vector onto the wind vector is just the dot product of these two vectors, which is $(-x \\sin \\theta, -y \\cos \\theta)$. \n",
    "\n",
    "Implement the following function to compute this downwind distance.\n",
    "</div>"
   ]
  },
  {
   "cell_type": "code",
   "execution_count": null,
   "id": "896f1e3a-0737-484d-9a17-822bb98f20cf",
   "metadata": {},
   "outputs": [],
   "source": [
    "import math  \n",
    "\n",
    "# This function computes the downwind distance of the specified location, where the downwind distance is the scalar projection of the location vector onto the wind vector (see above formula)\n",
    "# Parameters:\n",
    "# - turbine_location is an (x,y) tuple corresponding to the location of one of the turbines \n",
    "# - wind_direction_degrees is the direction that the wind is blowing from, measured in degrees, clockwise from North.\n",
    "# Return value:\n",
    "# - a real/floating point number representing the downwind distance of this turbine \n",
    "\n",
    "def distance_downwind(turbine_location, wind_direction_degrees): # do not change this line in any way - the function name and parameters must remain exactly as specified here\n",
    "    return None # replace this line with your code for this function"
   ]
  },
  {
   "cell_type": "code",
   "execution_count": null,
   "id": "f2e1aad8-627c-4198-a5f2-b004cf8c5bff",
   "metadata": {
    "deletable": false,
    "editable": false
   },
   "outputs": [],
   "source": [
    "import code_analyser\n",
    "\n",
    "distance00 = distance_downwind((1, 1), 0)\n",
    "code_analyser.assert_equal(distance00, -1, \"test7a\")"
   ]
  },
  {
   "cell_type": "code",
   "execution_count": null,
   "id": "62a648db-89ef-4195-8cbb-5e2728187e79",
   "metadata": {
    "deletable": false,
    "editable": false
   },
   "outputs": [],
   "source": [
    "distance01 = distance_downwind((1, 1), 1)\n",
    "code_analyser.assert_equal(distance01, -1.017300101593675, \"test7b\")"
   ]
  },
  {
   "cell_type": "code",
   "execution_count": null,
   "id": "8c30d69a-6512-4160-a7ea-c33216a855ae",
   "metadata": {
    "deletable": false,
    "editable": false
   },
   "outputs": [],
   "source": [
    "distance02 = distance_downwind((1, 1), 10)\n",
    "code_analyser.assert_equal(distance02, -1.1584559306791384, \"test7c\")"
   ]
  },
  {
   "cell_type": "code",
   "execution_count": null,
   "id": "a8fd7f87-d3b1-4a03-a23c-d7268a628f2c",
   "metadata": {
    "deletable": false,
    "editable": false
   },
   "outputs": [],
   "source": [
    "distance03 = distance_downwind((1, 1), 30)\n",
    "code_analyser.assert_equal(distance03, -1.3660254037844388, \"test7d\")"
   ]
  },
  {
   "cell_type": "code",
   "execution_count": null,
   "id": "82c6827c-d1e0-4e57-942a-f1b7d84ea93e",
   "metadata": {
    "deletable": false,
    "editable": false
   },
   "outputs": [],
   "source": [
    "distance04 = distance_downwind((1, 1), 45)\n",
    "code_analyser.assert_equal(distance04, -1.414213562373095, \"test7e\")"
   ]
  },
  {
   "cell_type": "code",
   "execution_count": null,
   "id": "83d6d109-b57e-4ee0-84e9-49187cbfde95",
   "metadata": {
    "deletable": false,
    "editable": false
   },
   "outputs": [],
   "source": [
    "distance05 = distance_downwind((1, 1), 90)\n",
    "code_analyser.assert_equal(distance05, -1, \"test7f\")"
   ]
  },
  {
   "cell_type": "code",
   "execution_count": null,
   "id": "a262a8a6-d818-49bc-ba74-8dfeaf4943a7",
   "metadata": {
    "deletable": false,
    "editable": false
   },
   "outputs": [],
   "source": [
    "distance06 = distance_downwind((1, 1), 135)\n",
    "code_analyser.assert_equal(distance06, 0, \"test7g\")"
   ]
  },
  {
   "cell_type": "code",
   "execution_count": null,
   "id": "1cbff9a3-7382-45e5-9292-a2f00679158d",
   "metadata": {
    "deletable": false,
    "editable": false
   },
   "outputs": [],
   "source": [
    "distance07 = distance_downwind((1, 1), 180)\n",
    "code_analyser.assert_equal(distance07, 1, \"test7h\")"
   ]
  },
  {
   "cell_type": "code",
   "execution_count": null,
   "id": "eab2e56d-2fce-46fd-b51d-c32a2623a3e5",
   "metadata": {
    "deletable": false,
    "editable": false
   },
   "outputs": [],
   "source": [
    "distance08 = distance_downwind((1, 1), 225)\n",
    "code_analyser.assert_equal(distance08, 1.414213562373095, \"test7i\")"
   ]
  },
  {
   "cell_type": "code",
   "execution_count": null,
   "id": "f46974c7-8ba4-4bb2-a77e-a1e3b9e80d2f",
   "metadata": {
    "deletable": false,
    "editable": false
   },
   "outputs": [],
   "source": [
    "distance09 = distance_downwind((1, 1), 270)\n",
    "code_analyser.assert_equal(distance09, 1, \"test7j\")"
   ]
  },
  {
   "cell_type": "code",
   "execution_count": null,
   "id": "dff11f8e-e922-483d-91cd-8ec5ee22e6bf",
   "metadata": {
    "deletable": false,
    "editable": false
   },
   "outputs": [],
   "source": [
    "distance10 = distance_downwind((1, 1), 315)\n",
    "code_analyser.assert_equal(distance10, 0, \"test7k\")"
   ]
  },
  {
   "cell_type": "code",
   "execution_count": null,
   "id": "d6439162-83c9-4900-a254-c92e5642fe8b",
   "metadata": {
    "deletable": false,
    "editable": false
   },
   "outputs": [],
   "source": [
    "distance11 = distance_downwind((1299.0381056766578, 1750.0), 225)\n",
    "code_analyser.assert_equal(distance11, 2155.99552062015, \"test7l\")"
   ]
  },
  {
   "cell_type": "code",
   "execution_count": null,
   "id": "fcaffece-b19f-4ee8-8000-ce4a0d56d794",
   "metadata": {
    "deletable": false,
    "editable": false
   },
   "outputs": [],
   "source": [
    "import code_analyser\n",
    "code_analyser.test_non_functional_requirements_distance_downwind()"
   ]
  },
  {
   "cell_type": "markdown",
   "id": "fe10ea52-14b9-43c6-9133-99e7163606f5",
   "metadata": {
    "deletable": false,
    "editable": false
   },
   "source": [
    "# Sorting by distance\n",
    "\n",
    "Given the distance downwind of each turbine, the following function (which has been provided for you) computes the order of the turbines, with more upwind turbines first and more downwind turbines later. For example if the downwind distance of each turbine is $[-4.53, 27.45, 5.35]$, then the resulting order of the turbine numbers would be $[0, 2, 1]$, i.e. turbine number $0$ first (because it is the most upwind turbine with a distance of $-4.53$, followed by turbine number $2$ (which has a downwind distance of $5.35$), followed by turbine number $1$ (which has a downwind distance of $27.45$."
   ]
  },
  {
   "cell_type": "code",
   "execution_count": null,
   "id": "a4be2c25-6621-4a47-8cbb-b599f9c3f28e",
   "metadata": {
    "deletable": false,
    "editable": false
   },
   "outputs": [],
   "source": [
    "# The following function has been provided for you,  do not modify it in any way.\n",
    "\n",
    "# This function computes the order of the turbines, with more upwind turbines first and more downwind turbines later.\n",
    "# Parameters:\n",
    "# - list_of_distances is a list of the downwind distance for each of the turbines (with the first corresponding to the first turbine, etc)\n",
    "# Return value:\n",
    "# - a list of the turbine numbers, sorted according to their downwind distances.\n",
    "\n",
    "def sort_turbines_by_distance_downwind(list_of_distances) :\n",
    "    def lookup(turbine_number) :\n",
    "        return list_of_distances[turbine_number]\n",
    "    list_of_turbine_numbers = range(len(list_of_distances)) \n",
    "    return sorted(list_of_turbine_numbers, key=lookup)"
   ]
  },
  {
   "cell_type": "code",
   "execution_count": null,
   "id": "1b453037-2484-49ee-b70b-6c47231f1ed1",
   "metadata": {
    "deletable": false,
    "editable": false
   },
   "outputs": [],
   "source": [
    "import code_analyser\n",
    "\n",
    "sorted01 = sort_turbines_by_distance_downwind([35, 25, 73])\n",
    "code_analyser.assert_equal(sorted01, [1, 0, 2])"
   ]
  },
  {
   "cell_type": "code",
   "execution_count": null,
   "id": "cba558e2-dd45-4006-bf4a-be1448ddf673",
   "metadata": {
    "deletable": false,
    "editable": false
   },
   "outputs": [],
   "source": [
    "sorted02 = sort_turbines_by_distance_downwind([0.0, 482.9629131445341, 612.3724356957945, 1095.3353488403286, 353.5533905932737, 836.5163037378079, 965.9258262890683, 1448.8887394336023, 707.1067811865474, 1190.0696943310816, 1319.479216882342, 1802.442130026876, 1060.6601717798212, 1543.6230849243555, 1673.0326074756158, 2155.99552062015])\n",
    "code_analyser.assert_equal(sorted02, [0, 4, 1, 2, 8, 5, 6, 12, 3, 9, 10, 7, 13, 14, 11, 15])"
   ]
  },
  {
   "cell_type": "markdown",
   "id": "e1c1db6d-57ee-44c4-9917-ddf71172b33a",
   "metadata": {
    "deletable": false,
    "editable": false
   },
   "source": [
    "<div style=\"background-color: #00cc00; padding:10px\">\n",
    "    \n",
    "# Task 11: Order by downwind distance\n",
    "\n",
    "The following function (which you need to implement) uses the above two functions to return a list of the turbine numbers sorted according to their distance downwind.\n",
    "</div>"
   ]
  },
  {
   "cell_type": "code",
   "execution_count": null,
   "id": "9cce2037-b80e-4ba5-a290-dc3bef85c8bb",
   "metadata": {},
   "outputs": [],
   "source": [
    "# This functions returns a list of the turbine numbers sorted according to their downwind distance.\n",
    "# The two functions above are used to compute each downwind distance and to sort the turbine numbers by downwind distance.\n",
    "# Parameters:\n",
    "# - layout is a list of (x,y) tuples representing the location of each turbine\n",
    "# - wind_direction the angle from which the wind is blowing measured in degrees clockwise from North\n",
    "# Return value:\n",
    "# - a list of the turbine numbers sorted according to their downwind distance (with the most upwind turbines listed first and the most downwind turbines last)\n",
    "# Makes use of: distance_downwind, sort_turbines_by_distance_downwind\n",
    "\n",
    "def orderby_downwind(layout, wind_direction) : # do not change this line in any way - the function name and parameters must remain exactly as specified here\n",
    "    return None # replace this line with your code for this function"
   ]
  },
  {
   "cell_type": "code",
   "execution_count": null,
   "id": "1cdefc59-2424-4476-ac7a-741e65e29ff6",
   "metadata": {
    "deletable": false,
    "editable": false
   },
   "outputs": [],
   "source": [
    "layout12 = [(0.0, 0.0), (-129.40952255126038, 482.9629131445342), (-258.81904510252076, 965.9258262890684), (482.9629131445342, 129.40952255126038), (353.5533905932738, 612.3724356957946), (224.14386804201342, 1095.3353488403288), (965.9258262890684, 258.81904510252076), (836.516303737808, 741.781958247055), (707.1067811865476, 1224.7448713915892)]\n",
    "visualize_layout(layout12)"
   ]
  },
  {
   "cell_type": "code",
   "execution_count": null,
   "id": "3ecdafcb-2176-47e9-aa59-c53fa833fd99",
   "metadata": {
    "deletable": false,
    "editable": false
   },
   "outputs": [],
   "source": [
    "import code_analyser\n",
    "\n",
    "layout13 = [(0.0, 0.0), (-129.40952255126038, 482.9629131445342), (-258.81904510252076, 965.9258262890684), (482.9629131445342, 129.40952255126038), (353.5533905932738, 612.3724356957946), (224.14386804201342, 1095.3353488403288), (965.9258262890684, 258.81904510252076), (836.516303737808, 741.781958247055), (707.1067811865476, 1224.7448713915892)]\n",
    "order13 = orderby_downwind(layout13, 0) # wind from the north\n",
    "code_analyser.assert_equal(order13, [8, 5, 2, 7, 4, 1, 6, 3, 0], 'test8a')"
   ]
  },
  {
   "cell_type": "code",
   "execution_count": null,
   "id": "37bda07c-47a8-4752-9640-89573f9e48c7",
   "metadata": {
    "deletable": false,
    "editable": false
   },
   "outputs": [],
   "source": [
    "layout14 = [(0.0, 0.0), (-129.40952255126038, 482.9629131445342), (-258.81904510252076, 965.9258262890684), (482.9629131445342, 129.40952255126038), (353.5533905932738, 612.3724356957946), (224.14386804201342, 1095.3353488403288), (965.9258262890684, 258.81904510252076), (836.516303737808, 741.781958247055), (707.1067811865476, 1224.7448713915892)]\n",
    "order14 = orderby_downwind(layout14, 45) # wind from the north east\n",
    "code_analyser.assert_equal(order14, [8, 7, 5, 6, 4, 2, 3, 1, 0], 'test8b')"
   ]
  },
  {
   "cell_type": "code",
   "execution_count": null,
   "id": "dcea5ac0-0c67-4f5c-b38b-860730421ec8",
   "metadata": {
    "deletable": false,
    "editable": false
   },
   "outputs": [],
   "source": [
    "layout15 = [(0.0, 0.0), (-129.40952255126038, 482.9629131445342), (-258.81904510252076, 965.9258262890684), (482.9629131445342, 129.40952255126038), (353.5533905932738, 612.3724356957946), (224.14386804201342, 1095.3353488403288), (965.9258262890684, 258.81904510252076), (836.516303737808, 741.781958247055), (707.1067811865476, 1224.7448713915892)]\n",
    "order15 = orderby_downwind(layout15, 90) # wind  from the east\n",
    "code_analyser.assert_equal(order15, [6, 7, 8, 3, 4, 5, 0, 1, 2], 'test8c')"
   ]
  },
  {
   "cell_type": "code",
   "execution_count": null,
   "id": "59b82ab0-6180-4a4d-92c1-5da1691c3248",
   "metadata": {
    "deletable": false,
    "editable": false
   },
   "outputs": [],
   "source": [
    "layout16 = [(0.0, 0.0), (-129.40952255126038, 482.9629131445342), (-258.81904510252076, 965.9258262890684), (482.9629131445342, 129.40952255126038), (353.5533905932738, 612.3724356957946), (224.14386804201342, 1095.3353488403288), (965.9258262890684, 258.81904510252076), (836.516303737808, 741.781958247055), (707.1067811865476, 1224.7448713915892)]\n",
    "order16 = orderby_downwind(layout16, 135) # wind  from the south east\n",
    "code_analyser.assert_equal(order16,  [6, 3, 7, 0, 4, 8, 1, 5, 2], 'test8d')"
   ]
  },
  {
   "cell_type": "code",
   "execution_count": null,
   "id": "fce92aba-4b7d-4bb6-8096-eb376382c917",
   "metadata": {
    "deletable": false,
    "editable": false
   },
   "outputs": [],
   "source": [
    "layout17 = [(-281.2819,-316.7150),(375.2950,-88.8308),(-75.2815,-182.2680),(316.1102,-283.3000),(264.2196,-301.3396),(-348.4140,-102.1951),(-346.5306,219.1108),(-194.5401,313.0611),(91.8581,-123.0207),(-448.4288,442.9667)]\n",
    "order17 = orderby_downwind(layout17, 135) # wind  from the south east\n",
    "code_analyser.assert_equal(order17,  [3, 4, 1, 8, 2, 0, 5, 7, 6, 9], 'test8e')"
   ]
  },
  {
   "cell_type": "code",
   "execution_count": null,
   "id": "bd6be15d-158e-4f29-baa7-b7d509642bfa",
   "metadata": {
    "deletable": false,
    "editable": false
   },
   "outputs": [],
   "source": [
    "layout18 = [(-281.2819,-316.7150),(375.2950,-88.8308),(-75.2815,-182.2680),(316.1102,-283.3000),(264.2196,-301.3396),(-348.4140,-102.1951),(-346.5306,219.1108),(-194.5401,313.0611),(91.8581,-123.0207),(-448.4288,442.9667)]\n",
    "order18 = orderby_downwind(layout18, 315) # wind  from the north west\n",
    "code_analyser.assert_equal(order18,  [9, 6, 7, 5, 0, 2, 8, 1, 4, 3], 'test8f')"
   ]
  },
  {
   "cell_type": "code",
   "execution_count": null,
   "id": "201723ab-b925-47e6-97c3-d57d5a8e0b7a",
   "metadata": {
    "deletable": false,
    "editable": false
   },
   "outputs": [],
   "source": [
    "import code_analyser\n",
    "code_analyser.test_non_functional_requirements_orderby_downwind()"
   ]
  },
  {
   "cell_type": "markdown",
   "id": "87c37246-ec7d-477e-a504-f5766aa77597",
   "metadata": {
    "deletable": false,
    "editable": false
   },
   "source": [
    "<div style=\"background-color: #00cc00; padding:10px\">\n",
    "\n",
    "# Task 12: Optimize all yaw angles\n",
    "\n",
    "We've now established the order in which we optimize the yaw angle of each turbine and we have implemented a function that will greedily optimize the yaw angle for a specific turbine, so we can now combine the two to create the function below (which you need to implement) that will start with all turbines have a yaw angle of zero and then one by one greadily optimize the yaw angle for each turbine until we have an optimized list of yaw angles for each turbine.\n",
    "</div>"
   ]
  },
  {
   "cell_type": "code",
   "execution_count": null,
   "id": "4a8c9235-714b-4c71-9962-e6250c536405",
   "metadata": {},
   "outputs": [],
   "source": [
    "# In this function, we start with a yaw angle of zero degrees for each turbine and then one by one (with the upwind turbines processed first) \n",
    "# greedily select/update the optimal yaw angle for each turbine using the functions implemented above.\n",
    "# Parameters:\n",
    "# - layout is a list of (x,y) tuples representing the location of each turbine\n",
    "# - wind_direction the angle from which the wind is blowing measured in degrees clockwise from North\n",
    "# Return value:\n",
    "# - a list of the optimal yaw angle (measured in degrees) for each turbine\n",
    "# Makes use of: zero_yaw, orderby_downwind, greedy_optimize_yaw_angle_for_just_one_turbine\n",
    "\n",
    "def optimize_all_yaw_angles(layout, wind_direction) : # do not change this line in any way - the function name and parameters must remain exactly as specified here\n",
    "    return None # replace this line with your code for this function"
   ]
  },
  {
   "cell_type": "code",
   "execution_count": null,
   "id": "abef7def-c683-4942-848d-45bfb99703c7",
   "metadata": {
    "deletable": false,
    "editable": false
   },
   "outputs": [],
   "source": [
    "import code_analyser\n",
    "\n",
    "layout19 = [(0.0, 0.0), (-129.40952255126038, 482.9629131445342), (-258.81904510252076, 965.9258262890684), (482.9629131445342, 129.40952255126038), (353.5533905932738, 612.3724356957946), (224.14386804201342, 1095.3353488403288), (965.9258262890684, 258.81904510252076), (836.516303737808, 741.781958247055), (707.1067811865476, 1224.7448713915892)]\n",
    "best_angles19 = optimize_all_yaw_angles(layout19, 135) # wind from south east\n",
    "code_analyser.assert_equal(best_angles19, [0, 0, 0, -16, 0, 0, -16, 0, 0], 'test9a')"
   ]
  },
  {
   "cell_type": "code",
   "execution_count": null,
   "id": "77ba9583-4322-4d94-9df0-198f54be861d",
   "metadata": {
    "deletable": false,
    "editable": false
   },
   "outputs": [],
   "source": [
    "layout20 = [(0.0, 0.0), (-129.40952255126038, 482.9629131445342), (-258.81904510252076, 965.9258262890684), (482.9629131445342, 129.40952255126038), (353.5533905932738, 612.3724356957946), (224.14386804201342, 1095.3353488403288), (965.9258262890684, 258.81904510252076), (836.516303737808, 741.781958247055), (707.1067811865476, 1224.7448713915892)]\n",
    "best_angles20 = optimize_all_yaw_angles(layout20, 225) # wind from south west\n",
    "code_analyser.assert_equal(best_angles20, [-16, -16, 0, 0, 0, 0, 0, 0, 0], 'test9b')"
   ]
  },
  {
   "cell_type": "code",
   "execution_count": null,
   "id": "e4d5d702-e652-47d8-84df-03ebf23c2c57",
   "metadata": {
    "deletable": false,
    "editable": false
   },
   "outputs": [],
   "source": [
    "import code_analyser\n",
    "code_analyser.test_non_functional_requirements_optimize_all_yaw_angles()"
   ]
  },
  {
   "cell_type": "markdown",
   "id": "3e466cf3-e101-4930-a16c-d735c475b3cf",
   "metadata": {
    "deletable": false,
    "editable": false
   },
   "source": [
    "# Measuring and Visualizing the improvement from Wake Steering\n",
    "\n",
    "The following function (which has been provided for you) will visually show us wakes before and after wake steering optimization and report the resulting percentage improvement in overall wind farm power."
   ]
  },
  {
   "cell_type": "code",
   "execution_count": null,
   "id": "48ffa706-5a86-4603-9068-e9f88665162b",
   "metadata": {
    "deletable": false,
    "editable": false
   },
   "outputs": [],
   "source": [
    "# The following function has been provided for you,  do not modify it in any way.\n",
    "\n",
    "import matplotlib\n",
    "\n",
    "# This function will visually show us wakes before and after wake steering optimization and report the resulting percentage improvement in overall wind farm power.\n",
    "# Parameters:\n",
    "# - layout is a list of (x,y) coordinates for each of the turbines\n",
    "# - wind_direction is the angle from which the wind is blowing measured in degrees clockwise from North.\n",
    "# Return value:\n",
    "# - None\n",
    "# Makes use of: zero_yaw, optimize_all_yaw_angles, visualize_flow_with_yaws, matplotlib\n",
    "\n",
    "def visualize_before_and_after_yaw_optimization(layout, wind_direction):\n",
    "    fig, ax = matplotlib.pyplot.subplots(1, 2, figsize=(20,10))\n",
    "    \n",
    "    default_yaw_angles = zero_yaw(layout)\n",
    "    best_yaw_angles = optimize_all_yaw_angles(layout, wind_direction)\n",
    "\n",
    "    power_before = visualize_flow_with_yaws(layout, wind_direction, default_yaw_angles, ax[0])\n",
    "    ax[0].set_title(f'Yaw angles all 0, power = {power_before:.1f}')\n",
    "    \n",
    "    power_after = visualize_flow_with_yaws(layout, wind_direction, best_yaw_angles, ax[1])\n",
    "    ax[1].set_title(f'Yaw angles = {best_yaw_angles}, power = {power_after:.1f}')\n",
    "\n",
    "    improvement = 100 * (power_after-power_before)/power_before\n",
    "    fig.suptitle(f'Wind direction = {wind_direction}, Improvement from wake steering = {improvement:.2f}%')"
   ]
  },
  {
   "cell_type": "code",
   "execution_count": null,
   "id": "03b36c7c-e23b-4370-833d-3642e59328aa",
   "metadata": {
    "deletable": false,
    "editable": false
   },
   "outputs": [],
   "source": [
    "# Create a 3 x 3 grid and rotate optimally \n",
    "\n",
    "grid_3x3b = create_grid_layout(3, 3, 500)\n",
    "best_grid_3x3b = find_best_rotation(grid_3x3b)"
   ]
  },
  {
   "cell_type": "code",
   "execution_count": null,
   "id": "f2f994d9-9bb4-4173-8e4d-0596d57d50f9",
   "metadata": {
    "deletable": false,
    "editable": false
   },
   "outputs": [],
   "source": [
    "# Test when wind is coming from the North for our best rotated 3x3 grid\n",
    "\n",
    "if best_grid_3x3b :\n",
    "    visualize_before_and_after_yaw_optimization(best_grid_3x3b, 0)"
   ]
  },
  {
   "cell_type": "code",
   "execution_count": null,
   "id": "86da625e-f819-4bc6-aac4-d95596134bce",
   "metadata": {
    "deletable": false,
    "editable": false
   },
   "outputs": [],
   "source": [
    "# Test when wind is coming from the South East for our best rotated 4x4 grid\n",
    "if best_grid_3x3b :\n",
    "    visualize_before_and_after_yaw_optimization(best_grid_3x3b, 135)"
   ]
  },
  {
   "cell_type": "markdown",
   "id": "97704822-9c13-4df6-a5b9-c3c2caffea83",
   "metadata": {
    "deletable": false,
    "editable": false
   },
   "source": [
    "<div style=\"background:#00cc00; padding:10px\">\n",
    "    \n",
    "# Automated feedback and semi-automated marking\n",
    "\n",
    "Running the following code will give you a good idea how well you are meeting the assessment criteria and the rough mark that you can expect to receive. Note that some of the assessment criteria are marked manually by human tutors, so you won't know your final mark until it is officially submitted and assessed.\n",
    "</div>"
   ]
  },
  {
   "cell_type": "code",
   "execution_count": null,
   "id": "164174cd-73c6-4dd4-810a-c3e977969050",
   "metadata": {
    "deletable": false,
    "editable": false
   },
   "outputs": [],
   "source": [
    "# This code has been supplied to provide automated feedback and semi-automated marking (do not change it!)\n",
    "\n",
    "import code_analyser\n",
    "code_analyser.summary_feedback()"
   ]
  },
  {
   "cell_type": "code",
   "execution_count": null,
   "id": "871ec2e1-cab1-4ab8-b15f-789a230e6bcd",
   "metadata": {
    "deletable": false,
    "editable": false
   },
   "outputs": [],
   "source": []
  }
 ],
 "metadata": {
  "kernelspec": {
   "display_name": "Python 3 (ipykernel)",
   "language": "python",
   "name": "python3"
  },
  "language_info": {
   "codemirror_mode": {
    "name": "ipython",
    "version": 3
   },
   "file_extension": ".py",
   "mimetype": "text/x-python",
   "name": "python",
   "nbconvert_exporter": "python",
   "pygments_lexer": "ipython3",
   "version": "3.11.9"
  }
 },
 "nbformat": 4,
 "nbformat_minor": 5
}
