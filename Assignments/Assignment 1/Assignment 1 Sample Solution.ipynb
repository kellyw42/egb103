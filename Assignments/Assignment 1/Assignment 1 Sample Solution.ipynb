{
 "cells": [
  {
   "cell_type": "markdown",
   "id": "b504634a-833b-4bb5-bc1b-254281448753",
   "metadata": {
    "deletable": true,
    "editable": false
   },
   "source": [
    "# EGB103 Assignment One - Structural Analysis for Bridge Design\n",
    "\n",
    "Programming and software play a crucial role in aiding engineers in problem-solving tasks related to analyzing and designing structures like bridges using methods such as finite element analysis, free body diagrams, and truss analysis. These tools enable engineers to efficiently process complex mathematical calculations, simulate structural behaviors, and visualize results. Through programming, engineers can automate repetitive tasks, optimize algorithms, and implement sophisticated numerical methods, allowing them to explore various design scenarios rapidly. \n",
    "\n",
    "In this assignment, to help us learn Python in the context of an Authentic Engineering problem, we will use a Python Module called AnaStruct to model and analyse different truss bridge designs. The theory and mathematics behind the kind of analysis performed by AnaStruct will be covered in later units such as EGB121 Engineering Mechananics."
   ]
  },
  {
   "cell_type": "code",
   "execution_count": null,
   "id": "7b639a51-61ba-4f2f-b5eb-7585f9fd544e",
   "metadata": {
    "tags": [
     "raises-exception"
    ]
   },
   "outputs": [],
   "source": [
    "# Always execute this code first before trying to execute any of the code cells below\n",
    "\n",
    "import anastruct\n",
    "import math"
   ]
  },
  {
   "cell_type": "markdown",
   "id": "2968707a-f70f-49ee-b8c0-f8aa4ecfad49",
   "metadata": {
    "deletable": true,
    "editable": false
   },
   "source": [
    "## Howe Truss\n",
    "\n",
    "The first step is to compute the coordinates of each of the vertices.\n",
    "The bottom leftmost vertice will always be placed at the origin, coordinate (0,0).\n",
    "\n",
    "The coordinate of the top leftmost vertex will depend on the truss design.\n",
    "\n",
    "For a Howe truss, we base this calculation on the fact that each segment of a Howe Truss is a perfect square with diagonals at 45 degrees:\n",
    "\n",
    "![Howe Truss - Top Leftmost Vertex?](https://images2.imgbox.com/07/1c/H2blTetz_o.png \"Howe Truss - Top Leftmost Vertex?\") "
   ]
  },
  {
   "cell_type": "code",
   "execution_count": null,
   "id": "7949130f-6e72-4925-b7f3-885c39ad10f9",
   "metadata": {
    "tags": [
     "raises-exception"
    ]
   },
   "outputs": [],
   "source": [
    "# This function is provided to you - do not modify it in any way.\n",
    "# Use it as example to help understand what is required for the warren_truss_top_left_vertex function that you must implement\n",
    "# Parameters:\n",
    "# - horizontal_segment_length is the horizontal length of each segment of the bridge\n",
    "# Return value:\n",
    "# - a tuple containing the x and y coordinates of the top left vertex\n",
    "def howe_truss_top_left_vertex(horizontal_segment_length) :\n",
    "    # since each segment is a perfect square, the x and y coordinates of the top left vertice will be the horizontal length of each segment.\n",
    "    top_left_x = horizontal_segment_length\n",
    "    top_left_y = horizontal_segment_length\n",
    "    return (top_left_x, top_left_y) # return a tuple consisting of the x and y coordinates"
   ]
  },
  {
   "cell_type": "markdown",
   "id": "6fe13263-2f09-475b-b50a-b99c82e19763",
   "metadata": {
    "tags": [
     "raises-exception"
    ]
   },
   "source": [
    "## Warren Truss\n",
    "\n",
    "For a Warren Truss, we calculate the coordinates of the top leftmost vertices using trigonometry based on the fact that each of the segments is an equilateral triange (with equal length edges and equal internal angles of 60 degrees).\n",
    "\n",
    "![Warren Truss - Top Leftmost Vertex?](https://images2.imgbox.com/39/a9/sEyA4q8L_o.png \"Warren Truss - Top Leftmost Vertex?\")\n"
   ]
  },
  {
   "cell_type": "markdown",
   "id": "5328ca09-cd70-42cd-a5e6-b0ea12e9531d",
   "metadata": {
    "deletable": true,
    "editable": false
   },
   "source": [
    "<div style=\"background-color: #00cc00; padding:10px; font-size:large; font-weight: bold\">\n",
    "Task 3: Implement the warren_truss_top_left_vertex function in the code cell below.\n",
    "</div>"
   ]
  },
  {
   "cell_type": "code",
   "execution_count": null,
   "id": "983ee295-4a0d-4d67-8f46-3706d315d4b5",
   "metadata": {
    "tags": [
     "raises-exception"
    ]
   },
   "outputs": [],
   "source": [
    "# Assuming that the bottom left vertex is located at the origin (0,0), compute the coordinates of the top leftmost vertex.\n",
    "# We know  that each segment of a Warren Truss is an equilateral triangle, so it will have equal length edges and equal internal angles of 60 degrees.\n",
    "# We can therefore use trigonometry to calculate the x and y coodinates of the top left vertex based on this angle and the length of the base of the triangle. \n",
    "# Parameters:\n",
    "# - horizontal_segment_length is the horizontal length of each segment of the bridge\n",
    "# Return value:\n",
    "# - a tuple containing the x and y coordinates of the top left vertex\n",
    "def warren_truss_top_left_vertex(horizontal_segment_length) : # do not change this line in any way - the function name and parameters must remain exactly as specified here\n",
    "    angle_in_radians = math.radians(60) # equilateral triangle has 3 equal angles\n",
    "    hypotenuse = horizontal_segment_length\n",
    "    adjacent = math.cos(angle_in_radians) * hypotenuse # cos angle = adjacent / hypotenuse\n",
    "    opposite = math.sin(angle_in_radians) * hypotenuse # sin angle = opposite / hypotenuse\n",
    "    return (adjacent, opposite)"
   ]
  },
  {
   "cell_type": "markdown",
   "id": "660fc76c-c0fd-48a2-8600-a050ffcc6354",
   "metadata": {
    "deletable": true,
    "editable": false
   },
   "source": [
    "# Evenly Space Horizontal Vertices\n",
    "\n",
    "We note for both Warren and Howe trusses that the vertices are arranged into an upper (Red) and lower (Blue) row of equally spaced, horizontally arranged vertices.\n",
    "\n",
    "![Howe Truss Rows](https://images2.imgbox.com/dd/a4/e6lqVbwR_o.png \"Howe Truss Rows\")   \n",
    "\n",
    "![Warren Truss Rows](https://images2.imgbox.com/02/90/n1CvJukz_o.png \"Warren Truss Rows\") \n",
    "\n",
    "So, once we know the coordinates of the leftmost bottom coordinate (always 0,0) and we've calculated the coordinates for the leftmost top vertex, then it is a simple matter to compute the coordinates of all of the vertices in that row. So, we create the following helper function which we will later use to compute the positions of the top and bottom rows of vertices for both Warren and Howe trusses.\n",
    "\n",
    "![Equally Spaced Horizontal Vertices](https://images2.imgbox.com/23/43/DORrv0Bb_o.png \"Equally Spaced Horizontal Vertices\")"
   ]
  },
  {
   "cell_type": "markdown",
   "id": "45de7628-b232-4409-8b5e-9d09ae2a553b",
   "metadata": {
    "deletable": true,
    "editable": false
   },
   "source": [
    "<div style=\"background-color: #00cc00; padding:10px; font-size:large; font-weight: bold\">\n",
    "Task 4: Implement the evenly_spaced_horizontal_vertices function in the code cell below.\n",
    "</div>"
   ]
  },
  {
   "cell_type": "code",
   "execution_count": null,
   "id": "c33df253-fdaf-4577-aee7-46984e4a2415",
   "metadata": {
    "tags": []
   },
   "outputs": [],
   "source": [
    "# Parameters:\n",
    "# - leftmost_vertex is a tuple containing the x and y coordinate  of the leftmost vertex.\n",
    "# - horizontal_gap_between_vertices is a number representing the horizontal distance between vertices\n",
    "# - number_of_vertices is the integer number of vertices that need to be returned.\n",
    "# Return value:\n",
    "# - a list of tuples containing the x,y coodinates for each vertex. All vertices should have the same y coordinate as the leftmost vertex.\n",
    "def evenly_spaced_horizontal_vertices(leftmost_vertex, horizontal_gap_between_vertices, number_of_vertices) : # do not change this line in any way - the function name and parameters must remain exactly as specified here\n",
    "    leftmost_x_coordinate, y_coordinate = leftmost_vertex\n",
    "    vertices = []\n",
    "    for i in range(number_of_vertices) : \n",
    "        # \"increment\" the x coordinate but not the y coordinate\n",
    "        vertices.append((leftmost_x_coordinate + i * horizontal_gap_between_vertices, y_coordinate))\n",
    "    return vertices"
   ]
  },
  {
   "cell_type": "markdown",
   "id": "438cef1a-d16c-4924-855a-d604e8c9f541",
   "metadata": {
    "deletable": true,
    "editable": false
   },
   "source": [
    "# Warren Truss"
   ]
  },
  {
   "cell_type": "markdown",
   "id": "1b8f9e73-b31d-4497-8e8a-aa5b5ce80d41",
   "metadata": {
    "deletable": true,
    "editable": false
   },
   "source": [
    "## Position Vertices\n",
    "\n",
    "![Warren Truss Rows](https://images2.imgbox.com/9a/75/Ryl4ZDpH_o.png \"Warren Truss Rows\") \n",
    "\n",
    "The width of each segment will depend on the total horizontal distance that the bridge spans and the number of segments (on the lower level).\n",
    "\n",
    "Start by computing the position of the top (red) vertices, then compute the position of the bottom (blue) vertices (using the functions we created above).\n",
    "\n",
    "Then return a tuple containing both lists of vertices.\n"
   ]
  },
  {
   "cell_type": "markdown",
   "id": "2ecf6dfc-dd5a-403e-b450-2fcd2ddd6257",
   "metadata": {
    "deletable": true,
    "editable": false
   },
   "source": [
    "<div style=\"background-color: #00cc00; padding:10px; font-size:large; font-weight: bold\">\n",
    "Task 5: Implement the position_warren_truss_vertices function in the code cell below.\n",
    "</div>"
   ]
  },
  {
   "cell_type": "code",
   "execution_count": null,
   "id": "134178d9-c87e-4b60-a67d-fd5881001199",
   "metadata": {
    "tags": []
   },
   "outputs": [],
   "source": [
    "# This function determines the x,y coordinates of each of the vertices in the top row and bottom row of a Warren Truss.\n",
    "# Parameters:\n",
    "# - horizontal_span_length is the total distance that the bridge spans (from the leftmost bottom vertice to  the rightmost bottom vertex)\n",
    "# - number_of_segments is the integer number of segments across the bottom of the bridge.\n",
    "# Return values:\n",
    "# - a tuple containing two lists of vertices for the top and bottom rows.\n",
    "def position_warren_truss_vertices(horizontal_span_length, number_of_segments) : # do not change this line in any way - the function name and parameters must remain exactly as specified here\n",
    "    segment_length = horizontal_span_length / number_of_segments\n",
    "    \n",
    "    # bottom left corner is always at the origin\n",
    "    bottom_left_vertex = (0, 0)\n",
    "    bottom_vertices = evenly_spaced_horizontal_vertices(bottom_left_vertex, segment_length, number_of_segments+1)\n",
    "    \n",
    "    # top left corner is computed using triganometry based on equilateral triangles\n",
    "    top_left_vertex = warren_truss_top_left_vertex(segment_length)\n",
    "    top_vertices = evenly_spaced_horizontal_vertices(top_left_vertex, segment_length, number_of_segments)\n",
    "    \n",
    "    return top_vertices, bottom_vertices"
   ]
  },
  {
   "cell_type": "markdown",
   "id": "261270ab-00a1-4453-92a7-302e353206ac",
   "metadata": {
    "deletable": true,
    "editable": false
   },
   "source": [
    "## Warren Truss - Connect Vertices\n",
    "\n",
    "![Connect Warren Vertices](https://images2.imgbox.com/6f/bd/dWdjKOh3_o.png \"Connect Warren Vertices\") \n",
    "\n",
    "The logic for connecting all these vertices according to the Warren Truss pattern can become overwhelming complicated.\n",
    "\n",
    "So, as always, proceed step by step with each category of edges. First work out how to add each of the (orange) top edges. Once you've tested that and it works, go on to progressively add each of the (green) bottom edges, then the purple diagonally up edges and finally the pink diagonally down edges. Make sure you test after each step and get it working before proceeding. The tests below (for various sized bridges) will provide you with a visual depiction of the edges you have created, so you can easily spot any obvious mistakes.\n",
    "\n",
    "Importantly, note how the top and bottom vertices are numbered in the diagram above. For example the pink edges are from node 0 of the top list to node 1 of the bottom list, from node 1 of the top list to node 2 of the bottom list and so on. Work out the pattern and use it to write a loop that indexes appropriately into the top and bottom vertex lists."
   ]
  },
  {
   "cell_type": "markdown",
   "id": "608b87f1-b715-4878-9ea6-458b95ccf647",
   "metadata": {
    "deletable": true,
    "editable": false
   },
   "source": [
    "<div style=\"background-color: #00cc00; padding:10px; font-size:large; font-weight: bold\">\n",
    "Task 6: Implement the connect_warren_truss_vertices function in the code cell below.\n",
    "</div>"
   ]
  },
  {
   "cell_type": "code",
   "execution_count": null,
   "id": "42eaa84a-27c3-4c2a-92a6-3fbd18631b96",
   "metadata": {
    "tags": [
     "raises-exception"
    ]
   },
   "outputs": [],
   "source": [
    "# This function adds truss elements to connect each of the top and bottom vertices according to the pattern of a Warren Truss.\n",
    "# It also computes and returns a list of the element ids of the \"green\" elements across the bottom of the bridge.\n",
    "# Parameters: \n",
    "# - bridge a SystemElements object from the AnaStruct module (to which we can add truss elements).\n",
    "# - top_vertices a list of the x,y coordinates of the vertices in the top row (ordered from left to right)\n",
    "# - bottom_vertices a list of the x,y coordinates of the vertices in the bottom row (ordered from left to right)\n",
    "# Return values:\n",
    "# - a list of the element ids of the \"green\" elements across the bottom of the bridge.\n",
    "def connect_warren_truss_vertices(bridge, top_vertices, bottom_vertices) : # do not change this line in any way - the function name and parameters must remain exactly as specified here\n",
    "\n",
    "    # connect the top vertices (orange edges)\n",
    "    for i in range(len(top_vertices)-1) :      \n",
    "        bridge.add_truss_element([top_vertices[i], top_vertices[i+1]])      \n",
    "\n",
    "    # connect diagonally upwards (purple edges)\n",
    "    for i in range(len(top_vertices)) :        \n",
    "        bridge.add_truss_element([bottom_vertices[i], top_vertices[i]])        \n",
    "\n",
    "    # connect diagonally backwards (pink edges)\n",
    "    for i in range(len(top_vertices)) :        \n",
    "        bridge.add_truss_element([top_vertices[i], bottom_vertices[i+1]])\n",
    "        \n",
    "    # keep track of bottom elements so we can add loads later.      \n",
    "    bottom_elements = []     \n",
    "    \n",
    "    # connect the bottom vertices (green edges)\n",
    "    for i in range(len(bottom_vertices)-1) :        \n",
    "        element_id = bridge.add_truss_element([bottom_vertices[i], bottom_vertices[i+1]])\n",
    "        bottom_elements.append(element_id)         \n",
    "    \n",
    "    return bottom_elements     "
   ]
  },
  {
   "cell_type": "markdown",
   "id": "94aef9be-04cc-492f-81bf-985d0b7ec283",
   "metadata": {
    "deletable": true,
    "editable": false
   },
   "source": [
    "## Build Warren Truss"
   ]
  },
  {
   "cell_type": "code",
   "execution_count": null,
   "id": "d2b3c911-21ab-4648-bc29-f609bdf2f91b",
   "metadata": {
    "tags": [
     "raises-exception"
    ]
   },
   "outputs": [],
   "source": [
    "# This function has been provided for you - do not modify it in any way\n",
    "# This function positions vertices and then adds truss elements to connect vertices according to a Warren Truss pattern.\n",
    "# Parameters:\n",
    "# - bridge a SystemElements object from the AnaStruct module (to which we can add truss elements).\n",
    "# - horizontal_span_length is the total distance that the bridge spans (from the leftmost bottom vertice to the rightmost bottom vertex)\n",
    "# - number_of_segments is the integer number of segments across the bottom of the bridge.\n",
    "# Return values:\n",
    "# - a tuple consisting of the list of vertices on the bottom and a list of element ids for the bottom elements.\n",
    "def build_warren_truss(bridge, horizontal_span_length, number_of_segments) : \n",
    "    # find the position of all vertices (top and bottom rows)\n",
    "    top_vertices, bottom_vertices = position_warren_truss_vertices(horizontal_span_length, number_of_segments)\n",
    "    \n",
    "    # connect vertices based on warren truss structure\n",
    "    bottom_elements = connect_warren_truss_vertices(bridge, top_vertices, bottom_vertices)       \n",
    "    \n",
    "    # return separate lists for top and bottom rows\n",
    "    return bottom_vertices, bottom_elements"
   ]
  },
  {
   "cell_type": "markdown",
   "id": "6b4f8946-8152-4c2c-bcfb-d721fab57dca",
   "metadata": {
    "deletable": true,
    "editable": false
   },
   "source": [
    "# Howe Truss"
   ]
  },
  {
   "cell_type": "markdown",
   "id": "9bfda341-9191-4b71-861a-561692a7cf97",
   "metadata": {
    "deletable": true,
    "editable": false
   },
   "source": [
    "## Position Vertices\n",
    "\n",
    "![Howe Truss Rows](https://images2.imgbox.com/dd/a4/e6lqVbwR_o.png \"Howe Truss Rows\")   \n",
    "\n",
    "Positioning the vertices for a Howe truss is largely the same as for a Warren Truss, the only real difference is computing the location of the top leftmost vertex (using the function created earlier)."
   ]
  },
  {
   "cell_type": "markdown",
   "id": "cc49c98a-76f6-4dd1-b1c2-cac404d0398f",
   "metadata": {
    "deletable": true,
    "editable": false
   },
   "source": [
    "<div style=\"background-color: #00cc00; padding:10px; font-size:large; font-weight: bold\">\n",
    "Task 7: Implement the position_howe_truss_vertices function in the code cell below.\n",
    "</div>"
   ]
  },
  {
   "cell_type": "code",
   "execution_count": null,
   "id": "3c179059-585c-4262-9fed-503ad215f4e2",
   "metadata": {},
   "outputs": [],
   "source": [
    "# This function determines the x,y coordinates of each of the vertices in the top row and bottom row of a Howe Truss.\n",
    "# Parameters:\n",
    "# - horizontal_span_length is the total distance that the bridge spans (from the leftmost bottom vertice to  the rightmost bottom vertex)\n",
    "# - number_of_segments is the integer number of segments across the bottom of the bridge.\n",
    "# Return values:\n",
    "# - a tuple containing two lists of vertices for the top and bottom rows.\n",
    "def position_howe_truss_vertices(horizontal_span_length, number_of_segments) : # do not change this line in any way - the function name and parameters must remain exactly as specified here\n",
    "    segment_length = horizontal_span_length / number_of_segments\n",
    "    \n",
    "    # bottom left corner is always at the origin\n",
    "    bottom_left_vertex = (0, 0)\n",
    "    bottom_vertices = evenly_spaced_horizontal_vertices(bottom_left_vertex, segment_length, number_of_segments+1)\n",
    "    \n",
    "    # top left corner is computed in direction 45 degrees\n",
    "    top_left_vertex = howe_truss_top_left_vertex(segment_length)\n",
    "    top_vertices = evenly_spaced_horizontal_vertices(top_left_vertex, segment_length, number_of_segments-1)\n",
    "    \n",
    "    return top_vertices, bottom_vertices"
   ]
  },
  {
   "cell_type": "markdown",
   "id": "e5a39c5a-455c-400e-b8fa-5db2fc123642",
   "metadata": {
    "deletable": true,
    "editable": false
   },
   "source": [
    "## Howe Truss - Connecting Vertices\n",
    "\n",
    "![Connect Howe Vertices](https://images2.imgbox.com/6d/9f/hAlR1Ndy_o.png \"Connect Howe Vertices\")   \n",
    "\n",
    "As when connecting the Warren Truss Vertices, we should proceed step by step to add each of the five categories of edges: the top orange edges, the bottom green edges, the black vertical edges, the purple diagonally up edges (on the left side of the bridge) and the pink diagonally down edges (on the right side of the bridge).\n",
    "\n",
    "In the example above there are 6 segments, so there will be 3 purple edges and 3 pink edges. However, your code should work for any (even) number of segments. \n",
    "\n",
    "![Connect Howe Vertices Longer](https://images2.imgbox.com/51/da/dCLdISZK_o.png \"Connect Howe Vertices Longer\")   \n",
    "\n",
    "The switch from diagonally up to diagonally down always happens at the midpoint of the bridge. A Howe Truss bridge must therefore always consist of an even number of segments."
   ]
  },
  {
   "cell_type": "markdown",
   "id": "7ae1204e-21db-411e-98d6-463ad3c2b98f",
   "metadata": {
    "deletable": true,
    "editable": false
   },
   "source": [
    "<div style=\"background-color: #00cc00; padding:10px; font-size:large; font-weight: bold\">\n",
    "Task 8: Implement the connect_howe_truss_vertices function in the code cell below.\n",
    "</div>"
   ]
  },
  {
   "cell_type": "code",
   "execution_count": null,
   "id": "ad0928b2-f9e0-414b-9e54-4ae28c691524",
   "metadata": {},
   "outputs": [],
   "source": [
    "# This function adds truss elements to connect each of the top and bottom vertices according to the pattern of a Howe Truss.\n",
    "# It also computes and returns a list of the element ids of the \"green\" elements across the bottom of the bridge.\n",
    "# Parameters: \n",
    "# - bridge a SystemElements object from the AnaStruct module (to which we can add truss elements).\n",
    "# - top_vertices a list of the x,y coordinates of the vertices in the top row (ordered from left to right)\n",
    "# - bottom_vertices a list of the x,y coordinates of the vertices in the bottom row (ordered from left to right)\n",
    "# Return values:\n",
    "# - a list of the element ids of the \"green\" elements across the bottom of the bridge.\n",
    "def connect_howe_truss_vertices(bridge, top_vertices, bottom_vertices) : # do not change this line in any way - the function name and parameters must remain exactly as specified here\n",
    "\n",
    "    # add orange edges (top)\n",
    "    for i in range (0, len(top_vertices)-1) :\n",
    "        bridge.add_truss_element([top_vertices[i], top_vertices[i+1]])\n",
    "\n",
    "    # keep track of bottom element ids so that we can apply loads later    \n",
    "    bottom_elements = []     \n",
    "        \n",
    "     # add green edges (bottom)\n",
    "    for i in range (0, len(bottom_vertices)-1) :\n",
    "        element_id = bridge.add_truss_element([bottom_vertices[i], bottom_vertices[i+1]])\n",
    "        bottom_elements.append(element_id)\n",
    "\n",
    "    # add black edges (vertical)\n",
    "    for i in range (0, len(top_vertices)) :   \n",
    "        bridge.add_truss_element([top_vertices[i], bottom_vertices[i+1]])      \n",
    "\n",
    "    # left and right sides have different patterns, so need to determine midway\n",
    "    midway = len(top_vertices) // 2\n",
    "    \n",
    "    # add purples edges (diagonally up, in first half only)  \n",
    "    for i in range (0, midway+1) :\n",
    "        bridge.add_truss_element([bottom_vertices[i], top_vertices[i]])\n",
    "                                                \n",
    "    # add pink edges (diagonally down, in second half only)\n",
    "    for i in range(midway, len(top_vertices)) :\n",
    "        bridge.add_truss_element([top_vertices[i], bottom_vertices[i+2]])      \n",
    "        \n",
    "    return bottom_elements"
   ]
  },
  {
   "cell_type": "markdown",
   "id": "e776da3f-0501-4912-9941-cd6976e5b35e",
   "metadata": {
    "deletable": true,
    "editable": false
   },
   "source": [
    "## Build Howe Truss"
   ]
  },
  {
   "cell_type": "code",
   "execution_count": null,
   "id": "0c2a24fc-3431-44af-9d94-dab065f66526",
   "metadata": {
    "tags": [
     "raises-exception"
    ]
   },
   "outputs": [],
   "source": [
    "# This function has been provided for you - do not modify it in any way\n",
    "# This function positions vertices and then adds truss elements to connect vertices according to a Howe Truss pattern.\n",
    "# Parameters:\n",
    "# - bridge a SystemElements object from the AnaStruct module (to which we can add truss elements).\n",
    "# - horizontal_span_length is the total distance that the bridge spans (from the leftmost bottom vertice to  the rightmost bottom vertex)\n",
    "# - number_of_segments is the integer number of segments across the bottom of the bridge.\n",
    "# Return values:\n",
    "# - a tuple consisting of the list of vertices on the bottom and a list of element ids for the bottom elements.\n",
    "def build_howe_truss(bridge, horizontal_span_length, number_of_segments) : # do not change this line in any way - the function name and parameters must remain exactly as specified here\n",
    "    # Howe trusses must have even number of segments\n",
    "    assert(number_of_segments % 2 == 0)\n",
    "    top_vertices, bottom_vertices = position_howe_truss_vertices(horizontal_span_length, number_of_segments)\n",
    "    bottom_elements = connect_howe_truss_vertices(bridge, top_vertices, bottom_vertices)\n",
    "    return bottom_vertices, bottom_elements"
   ]
  },
  {
   "cell_type": "markdown",
   "id": "346d7724-cab2-4eec-9260-d956b02da62a",
   "metadata": {
    "deletable": true,
    "editable": false
   },
   "source": [
    "# Apply Loads"
   ]
  },
  {
   "cell_type": "code",
   "execution_count": null,
   "id": "e5a4c5ff-e425-42cf-8c20-c85da2f2c22c",
   "metadata": {
    "tags": [
     "raises-exception"
    ]
   },
   "outputs": [],
   "source": [
    "# This function has been provided for you - do not modify it in any way\n",
    "# This function applies the total weight of the bridge evenly to each of the elements across the bottom of the bridge.\n",
    "# Parameters:\n",
    "# - bridge a SystemElements object from the AnaStruct module (to which we can apply loads to truss elements).\n",
    "# - bottom_elements a list of element ids of the elements across the bottom of the bridge (to which we will apply weight loads)\n",
    "# - total_weight is a number representing the total weight of the road surface and vehicles travelling on the bridge\n",
    "# Return value:\n",
    "# - None    \n",
    "\n",
    "def apply_loads(bridge, bottom_elements, total_weight) : # do not change this line in any way - the function name and parameters must remain exactly as specified here\n",
    "    weight_per_element = total_weight / len(bottom_elements)\n",
    "    for id in bottom_elements :\n",
    "        bridge.q_load(q=weight_per_element, element_id=id)"
   ]
  },
  {
   "cell_type": "markdown",
   "id": "17e41f74-9ceb-4132-b1e4-13dc696a3cc4",
   "metadata": {
    "deletable": true,
    "editable": false
   },
   "source": [
    "# Add Supports"
   ]
  },
  {
   "cell_type": "code",
   "execution_count": null,
   "id": "d76941fd-af4d-4172-9787-a1569e04fdc5",
   "metadata": {
    "tags": [
     "raises-exception"
    ]
   },
   "outputs": [],
   "source": [
    "# This function has been provided for you - do not modify it in any way\n",
    "# This function adds a fixed support to the left-most bottom vertex and a roll support to the right-most bottom vertex.\n",
    "# Parameters:\n",
    "# - bridge a SystemElements object from the AnaStruct module (to which we can apply loads to truss elements).\n",
    "# - bottom_vertices a list of x,y coordinates of the vertices across the bottom of the bridge (used to compute the leftmost and rightmost node).\n",
    "# Return value:\n",
    "# - None\n",
    "def add_supports(bridge, bottom_vertices) : # do not change this line in any way - the function name and parameters must remain exactly as specified here\n",
    "    bottom_left_node_id = bridge.find_node_id(bottom_vertices[0])\n",
    "    bridge.add_support_fixed(bottom_left_node_id)\n",
    "    \n",
    "    bottom_right_node_id = bridge.find_node_id(bottom_vertices[-1])\n",
    "    bridge.add_support_roll(bottom_right_node_id)"
   ]
  },
  {
   "cell_type": "markdown",
   "id": "f208e89e-52f4-4a72-8d64-73328924f1d4",
   "metadata": {
    "deletable": true,
    "editable": false
   },
   "source": [
    "# Build Bridge"
   ]
  },
  {
   "cell_type": "markdown",
   "id": "939c55bd-ab51-4b11-af81-2c79a1fa8c75",
   "metadata": {
    "deletable": true,
    "editable": false
   },
   "source": [
    "<div style=\"background-color: #00cc00; padding:10px; font-size:large; font-weight: bold\">\n",
    "Task 9: Implement the build_bridge function in the code cell below.\n",
    "</div>"
   ]
  },
  {
   "cell_type": "code",
   "execution_count": null,
   "id": "23922c39-7e6b-4b8c-b95a-812d0e01d290",
   "metadata": {
    "tags": [
     "raises-exception"
    ]
   },
   "outputs": [],
   "source": [
    "# This function builds a model of a bridge based on the specified truss kind and then adds weight loads and supports on each side of the bridge.\n",
    "# Parameters:\n",
    "# - truss_design is a string describing what kind of truss to use (either 'Warren' or 'Howe')\n",
    "# - horizontal_span_length is the total distance that the bridge spans (from the leftmost bottom vertice to  the rightmost bottom vertex)\n",
    "# - number_of_segments is the integer number of segments across the bottom of the bridge.\n",
    "# - weight_per_metre is a number representing the weight of the road surface and vehicles per horizontal metre\n",
    "# Return value:\n",
    "# - the SystemElements object representing the bridge model (with all vertices, elements, loads and supports added)\n",
    "def build_bridge(truss_design, horizontal_span_length, number_of_segments, weight_per_metre) : # do not change this line in any way - the function name and parameters must remain exactly as specified here\n",
    "\n",
    "    # Create an empty set of elements that we can add to\n",
    "    bridge = anastruct.SystemElements()\n",
    "    \n",
    "    # Decide which kind of truss to build and call the appropriate function to build that kind of truss\n",
    "    if truss_design == \"Warren\" :\n",
    "        builder = build_warren_truss\n",
    "    elif truss_design == \"Howe\" :\n",
    "        builder = build_howe_truss\n",
    "    \n",
    "    bottom_vertices, bottom_elements = builder(bridge, horizontal_span_length, number_of_segments)       \n",
    "    \n",
    "    # Add supports to the bridge\n",
    "    add_supports(bridge, bottom_vertices)   \n",
    "    \n",
    "    # Apply a load to each of the bottom elements.\n",
    "    # The total load will be based on the total horizontal span of the bridge and the weight per metre.\n",
    "    # The weight load will be vertically down, i.e. it will have a negative magnitute\n",
    "    apply_loads(bridge, bottom_elements, -weight_per_metre * horizontal_span_length)\n",
    "    \n",
    "    return bridge"
   ]
  }
 ],
 "metadata": {
  "kernelspec": {
   "display_name": "Python 3 (ipykernel)",
   "language": "python",
   "name": "python3"
  },
  "language_info": {
   "codemirror_mode": {
    "name": "ipython",
    "version": 3
   },
   "file_extension": ".py",
   "mimetype": "text/x-python",
   "name": "python",
   "nbconvert_exporter": "python",
   "pygments_lexer": "ipython3",
   "version": "3.10.13"
  },
  "toc-autonumbering": true,
  "toc-showcode": false,
  "toc-showmarkdowntxt": false
 },
 "nbformat": 4,
 "nbformat_minor": 5
}
