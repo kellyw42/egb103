{
 "cells": [
  {
   "cell_type": "markdown",
   "id": "48fcc66d-cb28-432f-9a5b-01e3ff7bb47d",
   "metadata": {},
   "source": [
    "$${-b + \\sqrt{b^2 - 4ac}} \\over 2a$$ "
   ]
  },
  {
   "cell_type": "code",
   "execution_count": 2,
   "id": "362c1975-4b9b-40eb-b3cc-dafa33f60e5e",
   "metadata": {},
   "outputs": [
    {
     "data": {
      "text/plain": [
       "-0.6339745962155614"
      ]
     },
     "execution_count": 2,
     "metadata": {},
     "output_type": "execute_result"
    }
   ],
   "source": [
    "import math\n",
    "\n",
    "a = 2\n",
    "b = 6\n",
    "c = 3\n",
    "\n",
    "(-b + math.sqrt(b**2 - 4*a*c))/(2*a)"
   ]
  },
  {
   "cell_type": "code",
   "execution_count": 7,
   "id": "e47963a2-9188-4cb4-b5e9-163bc501fb30",
   "metadata": {},
   "outputs": [],
   "source": [
    "x = 1"
   ]
  },
  {
   "cell_type": "code",
   "execution_count": 8,
   "id": "74789d1f-b122-4d6a-bfbd-d69b35ee328a",
   "metadata": {},
   "outputs": [
    {
     "data": {
      "text/plain": [
       "1"
      ]
     },
     "execution_count": 8,
     "metadata": {},
     "output_type": "execute_result"
    }
   ],
   "source": [
    "x"
   ]
  },
  {
   "cell_type": "code",
   "execution_count": 9,
   "id": "de60d7d3-9180-442f-9989-bd644c7d78db",
   "metadata": {},
   "outputs": [],
   "source": [
    "x = 2"
   ]
  },
  {
   "cell_type": "code",
   "execution_count": 10,
   "id": "c19a119d-85de-4782-8bfa-35d7d2458c1c",
   "metadata": {},
   "outputs": [
    {
     "data": {
      "text/plain": [
       "4"
      ]
     },
     "execution_count": 10,
     "metadata": {},
     "output_type": "execute_result"
    }
   ],
   "source": [
    "x+2"
   ]
  },
  {
   "cell_type": "code",
   "execution_count": 11,
   "id": "bdda2f64-c255-4248-92f6-95596fc6c768",
   "metadata": {},
   "outputs": [],
   "source": [
    "x = 1 + 1"
   ]
  },
  {
   "cell_type": "code",
   "execution_count": 12,
   "id": "74175d08-6919-4a4e-bf4f-4b3349f1ed71",
   "metadata": {},
   "outputs": [
    {
     "data": {
      "text/plain": [
       "4"
      ]
     },
     "execution_count": 12,
     "metadata": {},
     "output_type": "execute_result"
    }
   ],
   "source": [
    "x+2"
   ]
  },
  {
   "cell_type": "code",
   "execution_count": 13,
   "id": "e006b1be-e401-4e26-96de-06c279442dfe",
   "metadata": {},
   "outputs": [],
   "source": [
    "x = (-b + math.sqrt(b**2 - 4*a*c))/(2*a)"
   ]
  },
  {
   "cell_type": "code",
   "execution_count": 14,
   "id": "95258f06-94c1-4e36-a5ca-5564a2d38c3c",
   "metadata": {},
   "outputs": [
    {
     "data": {
      "text/plain": [
       "1.3660254037844386"
      ]
     },
     "execution_count": 14,
     "metadata": {},
     "output_type": "execute_result"
    }
   ],
   "source": [
    "x+2"
   ]
  }
 ],
 "metadata": {
  "kernelspec": {
   "display_name": "Python 3 (ipykernel)",
   "language": "python",
   "name": "python3"
  },
  "language_info": {
   "codemirror_mode": {
    "name": "ipython",
    "version": 3
   },
   "file_extension": ".py",
   "mimetype": "text/x-python",
   "name": "python",
   "nbconvert_exporter": "python",
   "pygments_lexer": "ipython3",
   "version": "3.9.13"
  }
 },
 "nbformat": 4,
 "nbformat_minor": 5
}
